{
  "nbformat": 4,
  "nbformat_minor": 0,
  "metadata": {
    "colab": {
      "name": "Лабораторная работа 2.Хуснутдинов С.С..ipynb",
      "provenance": [],
      "collapsed_sections": [
        "pjFzC1lMLWXq",
        "OtNwaptmSUTl"
      ],
      "toc_visible": true
    },
    "kernelspec": {
      "name": "python3",
      "display_name": "Python 3"
    },
    "language_info": {
      "name": "python"
    }
  },
  "cells": [
    {
      "cell_type": "markdown",
      "metadata": {
        "id": "olCHowLToXUX"
      },
      "source": [
        "# **Лабораторная работа №2. Математическое моделирование текстовых данных учебной аналитики**"
      ]
    },
    {
      "cell_type": "markdown",
      "metadata": {
        "id": "GLBYqwQVohqK"
      },
      "source": [
        "# Описание работы"
      ]
    },
    {
      "cell_type": "markdown",
      "metadata": {
        "id": "Bel_mnF-ofZG"
      },
      "source": [
        "**Цель работы:** сформировать навыки работы с текстовыми данными и реализовать тематическое моделирование текстов.\n",
        "\n",
        "**Задачи:**\n",
        "\n",
        "\n",
        "1. Составить собственный корпус текстов, относящихся к тематике учебной аналитики.\n",
        "2. Провести предобработку данных согласно требованиям исходных данных.\n",
        "4. Реализовать тематическое моделирование текстов.\n",
        "5. Объяснить полученные темы.\n",
        "6. Выявить тексты с самой высокой степенью принадлежности к каждой теме (по 5 документов на каждую тему).\n",
        "7. Визуализировать кластеры полученных тем.\n",
        "2. Сделать выводы по работе, обосновать практическое применение полученных тематик.\n"
      ]
    },
    {
      "cell_type": "markdown",
      "metadata": {
        "id": "92-qUodAqZPa"
      },
      "source": [
        "## Возможные тематики корпуса текстов\n",
        "\n",
        "\n",
        "*   Научные статьи о сфере образования\n",
        "*   Отзывы студентов об образовательном процессе\n",
        "*   Отзывы об образовательных организациях\n",
        "*   Учебные тексты междисциплинарных направлений\n",
        "*   Рабочие программы дисциплин\n",
        "*   Учебная документация\n",
        "\n",
        "\n",
        "\n",
        "\n",
        "\n"
      ]
    },
    {
      "cell_type": "markdown",
      "metadata": {
        "id": "JVBrQ7lpqxLu"
      },
      "source": [
        "## Обязательные требования\n",
        "\n",
        "\n",
        "*   Корпус должен состять минимум из 100 документов общим объемом не менее 10 000 слов\n",
        "*   Количество выделенных тем от 5 до 7\n",
        "\n"
      ]
    },
    {
      "cell_type": "markdown",
      "metadata": {
        "id": "ZbinIxI-LQX2"
      },
      "source": [
        "# Подключние необходимых библиотек"
      ]
    },
    {
      "cell_type": "code",
      "metadata": {
        "id": "6ulvnnx4_4CK",
        "colab": {
          "base_uri": "https://localhost:8080/"
        },
        "outputId": "ad4f9ceb-eea2-4d7b-c7cc-f4373ede2dce"
      },
      "source": [
        "!pip install --upgrade pandas==1.1.0"
      ],
      "execution_count": null,
      "outputs": [
        {
          "output_type": "stream",
          "name": "stdout",
          "text": [
            "Requirement already satisfied: pandas==1.1.0 in /usr/local/lib/python3.7/dist-packages (1.1.0)\n",
            "Requirement already satisfied: numpy>=1.15.4 in /usr/local/lib/python3.7/dist-packages (from pandas==1.1.0) (1.19.5)\n",
            "Requirement already satisfied: python-dateutil>=2.7.3 in /usr/local/lib/python3.7/dist-packages (from pandas==1.1.0) (2.8.2)\n",
            "Requirement already satisfied: pytz>=2017.2 in /usr/local/lib/python3.7/dist-packages (from pandas==1.1.0) (2018.9)\n",
            "Requirement already satisfied: six>=1.5 in /usr/local/lib/python3.7/dist-packages (from python-dateutil>=2.7.3->pandas==1.1.0) (1.15.0)\n"
          ]
        }
      ]
    },
    {
      "cell_type": "code",
      "metadata": {
        "colab": {
          "base_uri": "https://localhost:8080/"
        },
        "id": "lGVg6qhml-wZ",
        "outputId": "94af25bf-0e8f-4296-b59f-df0460f4e3d6"
      },
      "source": [
        "!pip install pyLDAvis==2.1.2"
      ],
      "execution_count": null,
      "outputs": [
        {
          "output_type": "stream",
          "name": "stdout",
          "text": [
            "Requirement already satisfied: pyLDAvis==2.1.2 in /usr/local/lib/python3.7/dist-packages (2.1.2)\n",
            "Requirement already satisfied: numpy>=1.9.2 in /usr/local/lib/python3.7/dist-packages (from pyLDAvis==2.1.2) (1.19.5)\n",
            "Requirement already satisfied: jinja2>=2.7.2 in /usr/local/lib/python3.7/dist-packages (from pyLDAvis==2.1.2) (2.11.3)\n",
            "Requirement already satisfied: numexpr in /usr/local/lib/python3.7/dist-packages (from pyLDAvis==2.1.2) (2.7.3)\n",
            "Requirement already satisfied: future in /usr/local/lib/python3.7/dist-packages (from pyLDAvis==2.1.2) (0.16.0)\n",
            "Requirement already satisfied: scipy>=0.18.0 in /usr/local/lib/python3.7/dist-packages (from pyLDAvis==2.1.2) (1.4.1)\n",
            "Requirement already satisfied: joblib>=0.8.4 in /usr/local/lib/python3.7/dist-packages (from pyLDAvis==2.1.2) (1.1.0)\n",
            "Requirement already satisfied: pandas>=0.17.0 in /usr/local/lib/python3.7/dist-packages (from pyLDAvis==2.1.2) (1.1.0)\n",
            "Requirement already satisfied: wheel>=0.23.0 in /usr/local/lib/python3.7/dist-packages (from pyLDAvis==2.1.2) (0.37.0)\n",
            "Requirement already satisfied: funcy in /usr/local/lib/python3.7/dist-packages (from pyLDAvis==2.1.2) (1.16)\n",
            "Requirement already satisfied: pytest in /usr/local/lib/python3.7/dist-packages (from pyLDAvis==2.1.2) (3.6.4)\n",
            "Requirement already satisfied: MarkupSafe>=0.23 in /usr/local/lib/python3.7/dist-packages (from jinja2>=2.7.2->pyLDAvis==2.1.2) (2.0.1)\n",
            "Requirement already satisfied: pytz>=2017.2 in /usr/local/lib/python3.7/dist-packages (from pandas>=0.17.0->pyLDAvis==2.1.2) (2018.9)\n",
            "Requirement already satisfied: python-dateutil>=2.7.3 in /usr/local/lib/python3.7/dist-packages (from pandas>=0.17.0->pyLDAvis==2.1.2) (2.8.2)\n",
            "Requirement already satisfied: six>=1.5 in /usr/local/lib/python3.7/dist-packages (from python-dateutil>=2.7.3->pandas>=0.17.0->pyLDAvis==2.1.2) (1.15.0)\n",
            "Requirement already satisfied: pluggy<0.8,>=0.5 in /usr/local/lib/python3.7/dist-packages (from pytest->pyLDAvis==2.1.2) (0.7.1)\n",
            "Requirement already satisfied: py>=1.5.0 in /usr/local/lib/python3.7/dist-packages (from pytest->pyLDAvis==2.1.2) (1.11.0)\n",
            "Requirement already satisfied: atomicwrites>=1.0 in /usr/local/lib/python3.7/dist-packages (from pytest->pyLDAvis==2.1.2) (1.4.0)\n",
            "Requirement already satisfied: attrs>=17.4.0 in /usr/local/lib/python3.7/dist-packages (from pytest->pyLDAvis==2.1.2) (21.2.0)\n",
            "Requirement already satisfied: setuptools in /usr/local/lib/python3.7/dist-packages (from pytest->pyLDAvis==2.1.2) (57.4.0)\n",
            "Requirement already satisfied: more-itertools>=4.0.0 in /usr/local/lib/python3.7/dist-packages (from pytest->pyLDAvis==2.1.2) (8.11.0)\n"
          ]
        }
      ]
    },
    {
      "cell_type": "code",
      "metadata": {
        "colab": {
          "base_uri": "https://localhost:8080/"
        },
        "id": "7FlG0VT8fPGS",
        "outputId": "cd381cb1-58eb-44eb-c9cb-dbe5441c12de"
      },
      "source": [
        "# устанавливаем pymorphy2\n",
        "!pip install pymorphy2"
      ],
      "execution_count": null,
      "outputs": [
        {
          "output_type": "stream",
          "name": "stdout",
          "text": [
            "Requirement already satisfied: pymorphy2 in /usr/local/lib/python3.7/dist-packages (0.9.1)\n",
            "Requirement already satisfied: docopt>=0.6 in /usr/local/lib/python3.7/dist-packages (from pymorphy2) (0.6.2)\n",
            "Requirement already satisfied: dawg-python>=0.7.1 in /usr/local/lib/python3.7/dist-packages (from pymorphy2) (0.7.2)\n",
            "Requirement already satisfied: pymorphy2-dicts-ru<3.0,>=2.4 in /usr/local/lib/python3.7/dist-packages (from pymorphy2) (2.4.417127.4579844)\n"
          ]
        }
      ]
    },
    {
      "cell_type": "code",
      "metadata": {
        "colab": {
          "base_uri": "https://localhost:8080/"
        },
        "id": "Dy4qHAQdUzDm",
        "outputId": "d739e03d-02fc-4101-ea03-d3beebc3aa53"
      },
      "source": [
        "from google.colab import drive\n",
        "drive.mount('/content/drive')"
      ],
      "execution_count": null,
      "outputs": [
        {
          "output_type": "stream",
          "name": "stdout",
          "text": [
            "Mounted at /content/drive\n"
          ]
        }
      ]
    },
    {
      "cell_type": "code",
      "metadata": {
        "id": "Ty7ESK7VT7vl"
      },
      "source": [
        "from bs4 import BeautifulSoup as bs\n",
        "import requests\n",
        "import re\n",
        "import pandas as pd"
      ],
      "execution_count": null,
      "outputs": []
    },
    {
      "cell_type": "code",
      "metadata": {
        "id": "4yKMJlJtLzgR"
      },
      "source": [
        "import nltk\n",
        "import string\n",
        "import gensim\n",
        "from gensim.utils import simple_preprocess"
      ],
      "execution_count": null,
      "outputs": []
    },
    {
      "cell_type": "code",
      "metadata": {
        "id": "UZlMUDe-CX5t"
      },
      "source": [
        "import matplotlib.pyplot as plt\n",
        "%matplotlib inline"
      ],
      "execution_count": null,
      "outputs": []
    },
    {
      "cell_type": "code",
      "metadata": {
        "id": "h_JkYlKKlaBL"
      },
      "source": [
        "import gensim.corpora as corpora"
      ],
      "execution_count": null,
      "outputs": []
    },
    {
      "cell_type": "code",
      "metadata": {
        "id": "QlWGBmxWea36"
      },
      "source": [
        "import nltk # уже знакомая нам библиотека nltk\n",
        "from nltk.tokenize import word_tokenize # готовый токенизатор библиотеки nltk"
      ],
      "execution_count": null,
      "outputs": []
    },
    {
      "cell_type": "code",
      "metadata": {
        "id": "ZMhB2zQamLoM",
        "colab": {
          "base_uri": "https://localhost:8080/"
        },
        "outputId": "f19d7283-3dec-4d4e-a794-b0e554a6a035"
      },
      "source": [
        "import pyLDAvis\n",
        "import pyLDAvis.gensim"
      ],
      "execution_count": null,
      "outputs": [
        {
          "output_type": "stream",
          "name": "stderr",
          "text": [
            "/usr/local/lib/python3.7/dist-packages/past/types/oldstr.py:5: DeprecationWarning: Using or importing the ABCs from 'collections' instead of from 'collections.abc' is deprecated since Python 3.3,and in 3.9 it will stop working\n",
            "  from collections import Iterable\n"
          ]
        }
      ]
    },
    {
      "cell_type": "code",
      "metadata": {
        "id": "JC3CcOQ1TyaZ"
      },
      "source": [
        "from pprint import pprint"
      ],
      "execution_count": null,
      "outputs": []
    },
    {
      "cell_type": "markdown",
      "metadata": {
        "id": "pjFzC1lMLWXq"
      },
      "source": [
        "## Разработка функции получения данных"
      ]
    },
    {
      "cell_type": "code",
      "metadata": {
        "id": "1sUszoLtZEPl"
      },
      "source": [
        "count = 4\n",
        "newlink = 'https://sci-article.ru/gryps.php?i=obrazovanie&j='\n",
        "page = requests.get(newlink + str(count))\n",
        "soup = bs(page.text, 'html.parser')"
      ],
      "execution_count": null,
      "outputs": []
    },
    {
      "cell_type": "code",
      "metadata": {
        "id": "_6JU-g325Ehe"
      },
      "source": [
        "page"
      ],
      "execution_count": null,
      "outputs": []
    },
    {
      "cell_type": "code",
      "metadata": {
        "id": "uJVs2lpFZ1gf"
      },
      "source": [
        "print(soup.prettify())"
      ],
      "execution_count": null,
      "outputs": []
    },
    {
      "cell_type": "code",
      "metadata": {
        "id": "WHbBQUzMDiyu"
      },
      "source": [
        "test_2 = soup.find_all('div', id='stattext')"
      ],
      "execution_count": null,
      "outputs": []
    },
    {
      "cell_type": "code",
      "metadata": {
        "id": "yIGD1Vn4SAiE"
      },
      "source": [
        "test_2"
      ],
      "execution_count": null,
      "outputs": []
    },
    {
      "cell_type": "code",
      "metadata": {
        "id": "IfRizMZAHBm_"
      },
      "source": [
        "a_link = soup.find('div', id='stattext').find('a').get('href')\n",
        "a_desc = soup.find('div', id='stattext').find('a').text\n",
        "b_author = soup.find('div', id='stattext').find('b').text"
      ],
      "execution_count": null,
      "outputs": []
    },
    {
      "cell_type": "code",
      "metadata": {
        "id": "MX57TglSHQdw"
      },
      "source": [
        "a_link"
      ],
      "execution_count": null,
      "outputs": []
    },
    {
      "cell_type": "code",
      "metadata": {
        "id": "_7bcZgiiHUke"
      },
      "source": [
        "a_desc"
      ],
      "execution_count": null,
      "outputs": []
    },
    {
      "cell_type": "code",
      "metadata": {
        "id": "vu0U_prhH3SN"
      },
      "source": [
        "b_author"
      ],
      "execution_count": null,
      "outputs": []
    },
    {
      "cell_type": "code",
      "metadata": {
        "id": "WKFDwL9yIopE"
      },
      "source": [
        "b_author_name = b_author.split('.')[1]"
      ],
      "execution_count": null,
      "outputs": []
    },
    {
      "cell_type": "code",
      "metadata": {
        "id": "Fhdq9oypIrvF"
      },
      "source": [
        "b_author_name"
      ],
      "execution_count": null,
      "outputs": []
    },
    {
      "cell_type": "code",
      "metadata": {
        "id": "td5pl6Opbyqe"
      },
      "source": [
        "items = soup.find_all('div', {'class': ['item', 'item even']})"
      ],
      "execution_count": null,
      "outputs": []
    },
    {
      "cell_type": "code",
      "metadata": {
        "id": "N3hdec8NE7bx"
      },
      "source": [
        "filteredNews =[]"
      ],
      "execution_count": null,
      "outputs": []
    },
    {
      "cell_type": "code",
      "metadata": {
        "id": "5Cz476BPOGiF"
      },
      "source": [
        "film_list = film_list = soup.find('div', {'class': 'templatemo_content_area'})\n",
        "test_2 = film_list.find_all('div', {'id' : ['stattext']})"
      ],
      "execution_count": null,
      "outputs": []
    },
    {
      "cell_type": "code",
      "metadata": {
        "id": "7_rCrM83OgaF"
      },
      "source": [
        "test_2"
      ],
      "execution_count": null,
      "outputs": []
    },
    {
      "cell_type": "code",
      "metadata": {
        "id": "692QwDs6Eyzp"
      },
      "source": [
        "filteredNews =[]\n",
        "for data in test_2:\n",
        "  a_link = data.find('a').get('href')\n",
        "  a_desc = data.find('a').text\n",
        "  b_author = data.find('b').text\n",
        "  b_author_name = b_author.split('.')[1]\n",
        "  link_to_news = 'https://sci-article.ru/'\n",
        "  news_from_box = requests.get(link_to_news + a_link)\n",
        "  news_soup = bs(news_from_box.text, \"html.parser\")\n",
        "  news_text = str(news_soup.find_all('p'))\n",
        "  news_text = news_text.split('Библиографический список:', 1)[0]\n",
        "  if news_text.find('УДК') != -1:\n",
        "    news_text = news_text.split('УДК', 1)[1]\n",
        "  else:\n",
        "    news_text = news_text.split('Keywords:', 1)[1]\n",
        "  # news_text = news_text.split('УДК', 1)[1]\n",
        "  news_text = re.sub('\\[', ' ', news_text)\n",
        "  news_text = re.sub('\\]', ' ', news_text)\n",
        "  news_text = re.sub('<p>', ' ', news_text)\n",
        "  news_text = re.sub('</p>', ' ', news_text)\n",
        "  news_text = re.sub('\\\\xa0', ' ', news_text)\n",
        "  news_text = re.sub('<strong>', ' ', news_text)\n",
        "  news_text = re.sub('</strong>', ' ', news_text)\n",
        "  news_text = re.sub('\\n', '', news_text)\n",
        "  news_text = re.sub('<ul>', '', news_text)\n",
        "  news_text = re.sub('</ul>', '', news_text)\n",
        "  news_text = re.sub('<li>', '', news_text)\n",
        "  news_text = re.sub('</li>', ' ', news_text)\n",
        "  news_text = re.sub('<div id=\"stattextbid\">', '', news_text)\n",
        "  news_text = re.sub('<center>', '', news_text)\n",
        "  news_text = re.sub('<em>', '', news_text)\n",
        "  news_text = re.sub('</em>', ' ', news_text)\n",
        "  filteredNews.append({\n",
        "      'author': b_author_name,\n",
        "      'link': a_link,\n",
        "      'name': a_desc,\n",
        "      'text': news_text,\n",
        "      })"
      ],
      "execution_count": null,
      "outputs": []
    },
    {
      "cell_type": "code",
      "metadata": {
        "id": "bn1Uo6DLERnj"
      },
      "source": [
        "news_text.find('УДК')"
      ],
      "execution_count": null,
      "outputs": []
    },
    {
      "cell_type": "code",
      "metadata": {
        "id": "YDWHYPYIxAqA"
      },
      "source": [
        "filteredNews"
      ],
      "execution_count": null,
      "outputs": []
    },
    {
      "cell_type": "code",
      "metadata": {
        "id": "goxZrM9sUy03"
      },
      "source": [
        "a_link = soup.find('div', id='stattext').find('a').get('href')"
      ],
      "execution_count": null,
      "outputs": []
    },
    {
      "cell_type": "code",
      "metadata": {
        "id": "GKHsw10RUMtb"
      },
      "source": [
        "link_to_news = 'https://sci-article.ru/'\n",
        "news_from_box = requests.get(link_to_news + a_link)\n",
        "news_soup = bs(news_from_box.text, \"html.parser\")\n",
        "news_text = str(news_soup.find_all('p'))\n",
        "news_text_1 = news_text.split('Библиографический список:', 1)[0]\n",
        "news_text_2 = news_text_1.split('УДК', 1)[1]\n",
        "news_text_3 = re.sub('\\[', ' ', news_text_2)\n",
        "news_text_4 = re.sub('\\]', ' ', news_text_3)\n",
        "news_text_5 = re.sub('<p>', ' ', news_text_4)\n",
        "news_text_6 = re.sub('</p>', ' ', news_text_5)\n",
        "news_text_7 = re.sub('\\\\xa0', ' ', news_text_6)\n",
        "news_text_8 = re.sub('<strong>', ' ', news_text_7)\n",
        "news_text_9 = re.sub('</strong>', ' ', news_text_8)\n",
        "news_text_10 = re.sub('\\n', '', news_text_9)\n",
        "news_text_11 = re.sub('<ul>', '', news_text_10)\n",
        "news_text_12 = re.sub('</ul>', '', news_text_11)\n",
        "news_text_13 = re.sub('<li>', '', news_text_12)\n",
        "news_text_14 = re.sub('</li>', ' ', news_text_13)\n",
        "news_text_15 = re.sub('<div id=\"stattextbid\">', '', news_text_14)\n",
        "news_text_16 = re.sub('<center>', '', news_text_15)\n",
        "news_text_17 = re.sub('<em>', '', news_text_16)\n",
        "news_text_18 = re.sub('</em>', ' ', news_text_17)"
      ],
      "execution_count": null,
      "outputs": []
    },
    {
      "cell_type": "code",
      "metadata": {
        "id": "W75zozxq1kHU"
      },
      "source": [
        "news_text_18"
      ],
      "execution_count": null,
      "outputs": []
    },
    {
      "cell_type": "code",
      "metadata": {
        "id": "GVTQFjkN3s9m"
      },
      "source": [
        "link_to_news = 'https://sci-article.ru/'\n",
        "news_from_box = requests.get(link_to_news + a_link)\n",
        "news_soup = bs(news_from_box.text, \"html.parser\")\n",
        "news_text = str(news_soup.find_all('p'))\n",
        "news_text = news_text.split('Библиографический список:', 1)[0]\n",
        "news_text = news_text.split('УДК', 1)[1]\n",
        "news_text = re.sub('\\[', ' ', news_text)\n",
        "news_text = re.sub('\\]', ' ', news_text)\n",
        "news_text = re.sub('<p>', ' ', news_text)\n",
        "news_text = re.sub('</p>', ' ', news_text)\n",
        "news_text = re.sub('\\\\xa0', ' ', news_text)\n",
        "news_text = re.sub('<strong>', ' ', news_text)\n",
        "news_text = re.sub('</strong>', ' ', news_text)\n",
        "news_text = re.sub('\\n', '', news_text)\n",
        "news_text = re.sub('<ul>', '', news_text)\n",
        "news_text = re.sub('</ul>', '', news_text)\n",
        "news_text = re.sub('<li>', '', news_text)\n",
        "news_text = re.sub('</li>', ' ', news_text)\n",
        "news_text = re.sub('<div id=\"stattextbid\">', '', news_text)\n",
        "news_text = re.sub('<center>', '', news_text)\n",
        "news_text = re.sub('<em>', '', news_text)\n",
        "news_text = re.sub('</em>', ' ', news_text)"
      ],
      "execution_count": null,
      "outputs": []
    },
    {
      "cell_type": "code",
      "metadata": {
        "id": "nY3PtAVc3_aQ"
      },
      "source": [
        "news_text"
      ],
      "execution_count": null,
      "outputs": []
    },
    {
      "cell_type": "code",
      "metadata": {
        "id": "cnzWw9IvU18q"
      },
      "source": [
        "news_text_5_split = news_text_5.split('УДК')"
      ],
      "execution_count": null,
      "outputs": []
    },
    {
      "cell_type": "code",
      "metadata": {
        "id": "E33bEyXTYONX"
      },
      "source": [
        "news_text_5"
      ],
      "execution_count": null,
      "outputs": []
    },
    {
      "cell_type": "code",
      "metadata": {
        "id": "iv8l5X8LzC6v"
      },
      "source": [
        "#text_test = re.sub(\"^.*?У\", ' ', news_text_5)\n",
        "text_test = news_text_5.split('Библиографический список:', 1)[0]\n",
        "text_test2 = text_test.split('УДК', 1)[1]"
      ],
      "execution_count": null,
      "outputs": []
    },
    {
      "cell_type": "code",
      "metadata": {
        "id": "8KOIPCMFzQaT"
      },
      "source": [
        "text_test"
      ],
      "execution_count": null,
      "outputs": []
    },
    {
      "cell_type": "code",
      "metadata": {
        "id": "m3gvKdoZ0dyi"
      },
      "source": [
        "text_test2"
      ],
      "execution_count": null,
      "outputs": []
    },
    {
      "cell_type": "code",
      "metadata": {
        "id": "Nvo4GBhxE-d7"
      },
      "source": [
        "filteredNews"
      ],
      "execution_count": null,
      "outputs": []
    },
    {
      "cell_type": "code",
      "metadata": {
        "id": "uZubsWylNaeB"
      },
      "source": [
        "for data in test_2:\n",
        "  print(data)"
      ],
      "execution_count": null,
      "outputs": []
    },
    {
      "cell_type": "code",
      "metadata": {
        "id": "wlzzn-HBc1Xi"
      },
      "source": [
        "links = []\n",
        "for link in soup.find_all('a'):\n",
        "    links.append(link.get('href'))\n",
        "\n",
        "#if link.find('stat.php?i='):\n",
        "#print(link.get('href'))"
      ],
      "execution_count": null,
      "outputs": []
    },
    {
      "cell_type": "markdown",
      "metadata": {
        "id": "OtNwaptmSUTl"
      },
      "source": [
        "# Сбор данных"
      ]
    },
    {
      "cell_type": "code",
      "metadata": {
        "id": "Ae9qsCN35pnK"
      },
      "source": [
        "def get_content(main_link):\n",
        "  links = []\n",
        "  link_to_news = 'https://sci-article.ru/'\n",
        "  news_data = pd.DataFrame(columns=['Автор', 'Название статьи', 'Текст статьи','Ссылка'])\n",
        "  for i in range(1, 6):\n",
        "    newlink = main_link+str(i)\n",
        "    links.append(newlink)\n",
        "  for link in links:\n",
        "    page = requests.get(link)\n",
        "    soup = bs(page.text, \"html.parser\")\n",
        "    info_list = info_list = soup.find('div', {'class': 'templatemo_content_area'})\n",
        "    test_2 = info_list.find_all('div', {'id' : ['stattext']})\n",
        "    for data in test_2:\n",
        "      a_link = data.find('a').get('href')\n",
        "      a_desc = data.find('a').text\n",
        "      b_author = data.find('b').text\n",
        "      b_author_name = b_author.split('.')[1]\n",
        "      news_from_box = requests.get(link_to_news + a_link)\n",
        "      news_soup = bs(news_from_box.text, \"html.parser\")\n",
        "      news_text = str(news_soup.find_all('p'))\n",
        "      news_text = news_text.split('Библиографический список:', 1)[0]\n",
        "      if news_text.find('УДК') != -1:\n",
        "        news_text = news_text.split('УДК', 1)[1]\n",
        "      else:\n",
        "        news_text = news_text.split('Keywords:', 1)[1]\n",
        "      news_text = re.sub('\\[', ' ', news_text)\n",
        "      news_text = re.sub('\\]', ' ', news_text)\n",
        "      news_text = re.sub('<p>', ' ', news_text)\n",
        "      news_text = re.sub('</p>', ' ', news_text)\n",
        "      news_text = re.sub('\\\\xa0', ' ', news_text)\n",
        "      news_text = re.sub('<strong>', ' ', news_text)\n",
        "      news_text = re.sub('</strong>', ' ', news_text)\n",
        "      news_text = re.sub('\\n', '', news_text)\n",
        "      news_text = re.sub('<ul>', '', news_text)\n",
        "      news_text = re.sub('</ul>', '', news_text)\n",
        "      news_text = re.sub('<li>', '', news_text)\n",
        "      news_text = re.sub('</li>', ' ', news_text)\n",
        "      news_text = re.sub('<div id=\"stattextbid\">', '', news_text)\n",
        "      news_text = re.sub('<center>', '', news_text)\n",
        "      news_text = re.sub('<em>', '', news_text)\n",
        "      news_text = re.sub('</em>', ' ', news_text)\n",
        "      news_text = re.sub('<div>', '', news_text)\n",
        "      news_text = re.sub('</div>', ' ', news_text)\n",
        "      news_text = re.sub('<div id=\"stattextbid2\">', ' ', news_text)\n",
        "      news_text = re.sub('<p align=\"center\">', ' ', news_text)\n",
        "      news_text = re.sub('<ol>', '', news_text)\n",
        "      news_text = re.sub('</ol>', ' ', news_text)\n",
        "      news_text = re.sub('<br/>', ' ', news_text)\n",
        "      df = pd.DataFrame([[str(b_author_name),\n",
        "                          str(a_desc),\n",
        "                          str(news_text),\n",
        "                          str(a_link)]],\n",
        "                        columns=['Автор', 'Название статьи', 'Текст статьи','Ссылка'])\n",
        "      news_data = news_data.append(df, ignore_index=True)\n",
        "  return news_data"
      ],
      "execution_count": null,
      "outputs": []
    },
    {
      "cell_type": "code",
      "metadata": {
        "id": "KLH0tfur_Gk7"
      },
      "source": [
        "news_data = None"
      ],
      "execution_count": null,
      "outputs": []
    },
    {
      "cell_type": "code",
      "metadata": {
        "id": "0AO7EigU7qvN"
      },
      "source": [
        "news_data = get_content('https://sci-article.ru/gryps.php?i=obrazovanie&j=')"
      ],
      "execution_count": null,
      "outputs": []
    },
    {
      "cell_type": "code",
      "metadata": {
        "colab": {
          "base_uri": "https://localhost:8080/",
          "height": 424
        },
        "id": "UEXNEpaO7yBU",
        "outputId": "8c11bbca-c79c-4e9a-b8e4-177fd1d6d9ed"
      },
      "source": [
        "news_data"
      ],
      "execution_count": null,
      "outputs": [
        {
          "output_type": "execute_result",
          "data": {
            "text/html": [
              "<div>\n",
              "<style scoped>\n",
              "    .dataframe tbody tr th:only-of-type {\n",
              "        vertical-align: middle;\n",
              "    }\n",
              "\n",
              "    .dataframe tbody tr th {\n",
              "        vertical-align: top;\n",
              "    }\n",
              "\n",
              "    .dataframe thead th {\n",
              "        text-align: right;\n",
              "    }\n",
              "</style>\n",
              "<table border=\"1\" class=\"dataframe\">\n",
              "  <thead>\n",
              "    <tr style=\"text-align: right;\">\n",
              "      <th></th>\n",
              "      <th>Автор</th>\n",
              "      <th>Название статьи</th>\n",
              "      <th>Текст статьи</th>\n",
              "      <th>Ссылка</th>\n",
              "    </tr>\n",
              "  </thead>\n",
              "  <tbody>\n",
              "    <tr>\n",
              "      <th>0</th>\n",
              "      <td>Ерофеева Ирина  Алексеевна</td>\n",
              "      <td>Формирование российской гражданской идентичнос...</td>\n",
              "      <td>37.035.6    Введение   Российская школа в п...</td>\n",
              "      <td>stat.php?i=1626173728</td>\n",
              "    </tr>\n",
              "    <tr>\n",
              "      <th>1</th>\n",
              "      <td>Данилова Ольга Анатольевна</td>\n",
              "      <td>Анализ возможностей современного цифрового обр...</td>\n",
              "      <td>37.02    Введение   Помимо получения предметн...</td>\n",
              "      <td>stat.php?i=1620848648</td>\n",
              "    </tr>\n",
              "    <tr>\n",
              "      <th>2</th>\n",
              "      <td>Водясова Любовь Петровна</td>\n",
              "      <td>ПОТЕНЦИАЛ МОБИЛЬНЫХ ПРИЛОЖЕНИЙ В ОБУЧЕНИИ РУСС...</td>\n",
              "      <td>372.881.116.11(045)    Введение   В последнее...</td>\n",
              "      <td>stat.php?i=1616935891</td>\n",
              "    </tr>\n",
              "    <tr>\n",
              "      <th>3</th>\n",
              "      <td>Колпакова  Анна  Олеговна</td>\n",
              "      <td>Индивидуально-психологические качества человека</td>\n",
              "      <td>159.923    Актуальность.  С развитием обществ...</td>\n",
              "      <td>stat.php?i=1610138763</td>\n",
              "    </tr>\n",
              "    <tr>\n",
              "      <th>4</th>\n",
              "      <td>Луговая Виктория Николаевна</td>\n",
              "      <td>Ключевые проблемы и направления усовершенствов...</td>\n",
              "      <td>378.12    Введение.  Одним из путей повышения...</td>\n",
              "      <td>stat.php?i=1608702045</td>\n",
              "    </tr>\n",
              "    <tr>\n",
              "      <th>...</th>\n",
              "      <td>...</td>\n",
              "      <td>...</td>\n",
              "      <td>...</td>\n",
              "      <td>...</td>\n",
              "    </tr>\n",
              "    <tr>\n",
              "      <th>91</th>\n",
              "      <td>Яковлев Владимир Вячеславович</td>\n",
              "      <td>Философско-педагогическая концепция И. А. Ильи...</td>\n",
              "      <td>37.034       Работа И. А. Ильина «Основы хрис...</td>\n",
              "      <td>stat.php?i=filosofsko-pedagogicheskaya_koncepc...</td>\n",
              "    </tr>\n",
              "    <tr>\n",
              "      <th>92</th>\n",
              "      <td>Попова Галина Валентиновна</td>\n",
              "      <td>СТАТИСТИЧЕСКАЯ РАЗРАБОТКА ВАРИАНТОВ ВЫБОРА ВЕК...</td>\n",
              "      <td>The decision, a choice, development, subject...</td>\n",
              "      <td>stat.php?i=statisticheskaya_razrabotka_variant...</td>\n",
              "    </tr>\n",
              "    <tr>\n",
              "      <th>93</th>\n",
              "      <td>Iotova Anelia Ivanova</td>\n",
              "      <td>Музыкальные предпочтения молодых радиослушател...</td>\n",
              "      <td>radio music format, student, radio station, ...</td>\n",
              "      <td>stat.php?i=kakuyu_muzyku_predpochitayut_slusha...</td>\n",
              "    </tr>\n",
              "    <tr>\n",
              "      <th>94</th>\n",
              "      <td>Вольнова Леся Николаевна</td>\n",
              "      <td>Дифференцированный подход как методологическая...</td>\n",
              "      <td>the differentiated approach, an awkward teen...</td>\n",
              "      <td>stat.php?i=differencirovannyy_podhod_kak_metod...</td>\n",
              "    </tr>\n",
              "    <tr>\n",
              "      <th>95</th>\n",
              "      <td>Копылов Олег Владимирович</td>\n",
              "      <td>Практическая реализация образовательного проек...</td>\n",
              "      <td>372.82  Введение   Согласно распоряжению Прав...</td>\n",
              "      <td>stat.php?i=prakticheskaya_realizaciya_obrazova...</td>\n",
              "    </tr>\n",
              "  </tbody>\n",
              "</table>\n",
              "<p>96 rows × 4 columns</p>\n",
              "</div>"
            ],
            "text/plain": [
              "                             Автор  ...                                             Ссылка\n",
              "0       Ерофеева Ирина  Алексеевна  ...                              stat.php?i=1626173728\n",
              "1       Данилова Ольга Анатольевна  ...                              stat.php?i=1620848648\n",
              "2         Водясова Любовь Петровна  ...                              stat.php?i=1616935891\n",
              "3        Колпакова  Анна  Олеговна  ...                              stat.php?i=1610138763\n",
              "4      Луговая Виктория Николаевна  ...                              stat.php?i=1608702045\n",
              "..                             ...  ...                                                ...\n",
              "91   Яковлев Владимир Вячеславович  ...  stat.php?i=filosofsko-pedagogicheskaya_koncepc...\n",
              "92      Попова Галина Валентиновна  ...  stat.php?i=statisticheskaya_razrabotka_variant...\n",
              "93           Iotova Anelia Ivanova  ...  stat.php?i=kakuyu_muzyku_predpochitayut_slusha...\n",
              "94        Вольнова Леся Николаевна  ...  stat.php?i=differencirovannyy_podhod_kak_metod...\n",
              "95       Копылов Олег Владимирович  ...  stat.php?i=prakticheskaya_realizaciya_obrazova...\n",
              "\n",
              "[96 rows x 4 columns]"
            ]
          },
          "metadata": {},
          "execution_count": 65
        }
      ]
    },
    {
      "cell_type": "code",
      "metadata": {
        "id": "owYfJKS0UoFs"
      },
      "source": [
        "news_data.to_csv('/content/drive/MyDrive/New_stuff/7-s sem/7 - Training analyst/Lab_02/news_data.csv')"
      ],
      "execution_count": null,
      "outputs": []
    },
    {
      "cell_type": "code",
      "metadata": {
        "id": "a_LXDDXaUg5h"
      },
      "source": [
        "data = pd.read_csv('/content/drive/MyDrive/New_stuff/7-s sem/7 - Training analyst/Lab_02/news_data.csv')"
      ],
      "execution_count": null,
      "outputs": []
    },
    {
      "cell_type": "code",
      "metadata": {
        "colab": {
          "base_uri": "https://localhost:8080/"
        },
        "id": "F6GSedHJLkom",
        "outputId": "e41e0842-db04-40d9-8529-d8a419dc8c6d"
      },
      "source": [
        "data.shape"
      ],
      "execution_count": null,
      "outputs": [
        {
          "output_type": "execute_result",
          "data": {
            "text/plain": [
              "(96, 5)"
            ]
          },
          "metadata": {},
          "execution_count": 12
        }
      ]
    },
    {
      "cell_type": "code",
      "metadata": {
        "colab": {
          "base_uri": "https://localhost:8080/",
          "height": 206
        },
        "id": "gS5bnw2BLmzE",
        "outputId": "06b14210-0e79-4e44-9de5-9372198df4de"
      },
      "source": [
        "data.head()"
      ],
      "execution_count": null,
      "outputs": [
        {
          "output_type": "execute_result",
          "data": {
            "text/html": [
              "<div>\n",
              "<style scoped>\n",
              "    .dataframe tbody tr th:only-of-type {\n",
              "        vertical-align: middle;\n",
              "    }\n",
              "\n",
              "    .dataframe tbody tr th {\n",
              "        vertical-align: top;\n",
              "    }\n",
              "\n",
              "    .dataframe thead th {\n",
              "        text-align: right;\n",
              "    }\n",
              "</style>\n",
              "<table border=\"1\" class=\"dataframe\">\n",
              "  <thead>\n",
              "    <tr style=\"text-align: right;\">\n",
              "      <th></th>\n",
              "      <th>Unnamed: 0</th>\n",
              "      <th>Автор</th>\n",
              "      <th>Название статьи</th>\n",
              "      <th>Текст статьи</th>\n",
              "      <th>Ссылка</th>\n",
              "    </tr>\n",
              "  </thead>\n",
              "  <tbody>\n",
              "    <tr>\n",
              "      <th>0</th>\n",
              "      <td>0</td>\n",
              "      <td>Ерофеева Ирина  Алексеевна</td>\n",
              "      <td>Формирование российской гражданской идентичнос...</td>\n",
              "      <td>37.035.6    Введение   Российская школа в п...</td>\n",
              "      <td>stat.php?i=1626173728</td>\n",
              "    </tr>\n",
              "    <tr>\n",
              "      <th>1</th>\n",
              "      <td>1</td>\n",
              "      <td>Данилова Ольга Анатольевна</td>\n",
              "      <td>Анализ возможностей современного цифрового обр...</td>\n",
              "      <td>37.02    Введение   Помимо получения предметн...</td>\n",
              "      <td>stat.php?i=1620848648</td>\n",
              "    </tr>\n",
              "    <tr>\n",
              "      <th>2</th>\n",
              "      <td>2</td>\n",
              "      <td>Водясова Любовь Петровна</td>\n",
              "      <td>ПОТЕНЦИАЛ МОБИЛЬНЫХ ПРИЛОЖЕНИЙ В ОБУЧЕНИИ РУСС...</td>\n",
              "      <td>372.881.116.11(045)    Введение   В последнее...</td>\n",
              "      <td>stat.php?i=1616935891</td>\n",
              "    </tr>\n",
              "    <tr>\n",
              "      <th>3</th>\n",
              "      <td>3</td>\n",
              "      <td>Колпакова  Анна  Олеговна</td>\n",
              "      <td>Индивидуально-психологические качества человека</td>\n",
              "      <td>159.923    Актуальность.  С развитием обществ...</td>\n",
              "      <td>stat.php?i=1610138763</td>\n",
              "    </tr>\n",
              "    <tr>\n",
              "      <th>4</th>\n",
              "      <td>4</td>\n",
              "      <td>Луговая Виктория Николаевна</td>\n",
              "      <td>Ключевые проблемы и направления усовершенствов...</td>\n",
              "      <td>378.12    Введение.  Одним из путей повышения...</td>\n",
              "      <td>stat.php?i=1608702045</td>\n",
              "    </tr>\n",
              "  </tbody>\n",
              "</table>\n",
              "</div>"
            ],
            "text/plain": [
              "   Unnamed: 0  ...                 Ссылка\n",
              "0           0  ...  stat.php?i=1626173728\n",
              "1           1  ...  stat.php?i=1620848648\n",
              "2           2  ...  stat.php?i=1616935891\n",
              "3           3  ...  stat.php?i=1610138763\n",
              "4           4  ...  stat.php?i=1608702045\n",
              "\n",
              "[5 rows x 5 columns]"
            ]
          },
          "metadata": {},
          "execution_count": 13
        }
      ]
    },
    {
      "cell_type": "markdown",
      "metadata": {
        "id": "iUVvOrVhLtqA"
      },
      "source": [
        "# Анализ текстовых данных"
      ]
    },
    {
      "cell_type": "markdown",
      "metadata": {
        "id": "fyeajql_L4rG"
      },
      "source": [
        "## Подготовка данных"
      ]
    },
    {
      "cell_type": "code",
      "metadata": {
        "colab": {
          "base_uri": "https://localhost:8080/",
          "height": 424
        },
        "id": "A4d8s9EeMCsk",
        "outputId": "b9ceaa52-6c27-428c-a984-a7853f69d1b6"
      },
      "source": [
        "data"
      ],
      "execution_count": null,
      "outputs": [
        {
          "output_type": "execute_result",
          "data": {
            "text/html": [
              "<div>\n",
              "<style scoped>\n",
              "    .dataframe tbody tr th:only-of-type {\n",
              "        vertical-align: middle;\n",
              "    }\n",
              "\n",
              "    .dataframe tbody tr th {\n",
              "        vertical-align: top;\n",
              "    }\n",
              "\n",
              "    .dataframe thead th {\n",
              "        text-align: right;\n",
              "    }\n",
              "</style>\n",
              "<table border=\"1\" class=\"dataframe\">\n",
              "  <thead>\n",
              "    <tr style=\"text-align: right;\">\n",
              "      <th></th>\n",
              "      <th>Unnamed: 0</th>\n",
              "      <th>Автор</th>\n",
              "      <th>Название статьи</th>\n",
              "      <th>Текст статьи</th>\n",
              "      <th>Ссылка</th>\n",
              "    </tr>\n",
              "  </thead>\n",
              "  <tbody>\n",
              "    <tr>\n",
              "      <th>0</th>\n",
              "      <td>0</td>\n",
              "      <td>Ерофеева Ирина  Алексеевна</td>\n",
              "      <td>Формирование российской гражданской идентичнос...</td>\n",
              "      <td>37.035.6    Введение   Российская школа в п...</td>\n",
              "      <td>stat.php?i=1626173728</td>\n",
              "    </tr>\n",
              "    <tr>\n",
              "      <th>1</th>\n",
              "      <td>1</td>\n",
              "      <td>Данилова Ольга Анатольевна</td>\n",
              "      <td>Анализ возможностей современного цифрового обр...</td>\n",
              "      <td>37.02    Введение   Помимо получения предметн...</td>\n",
              "      <td>stat.php?i=1620848648</td>\n",
              "    </tr>\n",
              "    <tr>\n",
              "      <th>2</th>\n",
              "      <td>2</td>\n",
              "      <td>Водясова Любовь Петровна</td>\n",
              "      <td>ПОТЕНЦИАЛ МОБИЛЬНЫХ ПРИЛОЖЕНИЙ В ОБУЧЕНИИ РУСС...</td>\n",
              "      <td>372.881.116.11(045)    Введение   В последнее...</td>\n",
              "      <td>stat.php?i=1616935891</td>\n",
              "    </tr>\n",
              "    <tr>\n",
              "      <th>3</th>\n",
              "      <td>3</td>\n",
              "      <td>Колпакова  Анна  Олеговна</td>\n",
              "      <td>Индивидуально-психологические качества человека</td>\n",
              "      <td>159.923    Актуальность.  С развитием обществ...</td>\n",
              "      <td>stat.php?i=1610138763</td>\n",
              "    </tr>\n",
              "    <tr>\n",
              "      <th>4</th>\n",
              "      <td>4</td>\n",
              "      <td>Луговая Виктория Николаевна</td>\n",
              "      <td>Ключевые проблемы и направления усовершенствов...</td>\n",
              "      <td>378.12    Введение.  Одним из путей повышения...</td>\n",
              "      <td>stat.php?i=1608702045</td>\n",
              "    </tr>\n",
              "    <tr>\n",
              "      <th>...</th>\n",
              "      <td>...</td>\n",
              "      <td>...</td>\n",
              "      <td>...</td>\n",
              "      <td>...</td>\n",
              "      <td>...</td>\n",
              "    </tr>\n",
              "    <tr>\n",
              "      <th>91</th>\n",
              "      <td>91</td>\n",
              "      <td>Яковлев Владимир Вячеславович</td>\n",
              "      <td>Философско-педагогическая концепция И. А. Ильи...</td>\n",
              "      <td>37.034       Работа И. А. Ильина «Основы хрис...</td>\n",
              "      <td>stat.php?i=filosofsko-pedagogicheskaya_koncepc...</td>\n",
              "    </tr>\n",
              "    <tr>\n",
              "      <th>92</th>\n",
              "      <td>92</td>\n",
              "      <td>Попова Галина Валентиновна</td>\n",
              "      <td>СТАТИСТИЧЕСКАЯ РАЗРАБОТКА ВАРИАНТОВ ВЫБОРА ВЕК...</td>\n",
              "      <td>The decision, a choice, development, subject...</td>\n",
              "      <td>stat.php?i=statisticheskaya_razrabotka_variant...</td>\n",
              "    </tr>\n",
              "    <tr>\n",
              "      <th>93</th>\n",
              "      <td>93</td>\n",
              "      <td>Iotova Anelia Ivanova</td>\n",
              "      <td>Музыкальные предпочтения молодых радиослушател...</td>\n",
              "      <td>radio music format, student, radio station, ...</td>\n",
              "      <td>stat.php?i=kakuyu_muzyku_predpochitayut_slusha...</td>\n",
              "    </tr>\n",
              "    <tr>\n",
              "      <th>94</th>\n",
              "      <td>94</td>\n",
              "      <td>Вольнова Леся Николаевна</td>\n",
              "      <td>Дифференцированный подход как методологическая...</td>\n",
              "      <td>the differentiated approach, an awkward teen...</td>\n",
              "      <td>stat.php?i=differencirovannyy_podhod_kak_metod...</td>\n",
              "    </tr>\n",
              "    <tr>\n",
              "      <th>95</th>\n",
              "      <td>95</td>\n",
              "      <td>Копылов Олег Владимирович</td>\n",
              "      <td>Практическая реализация образовательного проек...</td>\n",
              "      <td>372.82  Введение   Согласно распоряжению Прав...</td>\n",
              "      <td>stat.php?i=prakticheskaya_realizaciya_obrazova...</td>\n",
              "    </tr>\n",
              "  </tbody>\n",
              "</table>\n",
              "<p>96 rows × 5 columns</p>\n",
              "</div>"
            ],
            "text/plain": [
              "    Unnamed: 0  ...                                             Ссылка\n",
              "0            0  ...                              stat.php?i=1626173728\n",
              "1            1  ...                              stat.php?i=1620848648\n",
              "2            2  ...                              stat.php?i=1616935891\n",
              "3            3  ...                              stat.php?i=1610138763\n",
              "4            4  ...                              stat.php?i=1608702045\n",
              "..         ...  ...                                                ...\n",
              "91          91  ...  stat.php?i=filosofsko-pedagogicheskaya_koncepc...\n",
              "92          92  ...  stat.php?i=statisticheskaya_razrabotka_variant...\n",
              "93          93  ...  stat.php?i=kakuyu_muzyku_predpochitayut_slusha...\n",
              "94          94  ...  stat.php?i=differencirovannyy_podhod_kak_metod...\n",
              "95          95  ...  stat.php?i=prakticheskaya_realizaciya_obrazova...\n",
              "\n",
              "[96 rows x 5 columns]"
            ]
          },
          "metadata": {},
          "execution_count": 14
        }
      ]
    },
    {
      "cell_type": "markdown",
      "metadata": {
        "id": "PCy8vJqGe-Ux"
      },
      "source": [
        "### Нижний регистр"
      ]
    },
    {
      "cell_type": "code",
      "metadata": {
        "colab": {
          "base_uri": "https://localhost:8080/",
          "height": 206
        },
        "id": "ACofdKtfLwng",
        "outputId": "a8bb992e-9323-4804-ad96-979a3dfefb9a"
      },
      "source": [
        "# приведение к нижнему регистру\n",
        "data['Текст статьи'] = data['Текст статьи'].str.lower()\n",
        "data.head()"
      ],
      "execution_count": null,
      "outputs": [
        {
          "output_type": "execute_result",
          "data": {
            "text/html": [
              "<div>\n",
              "<style scoped>\n",
              "    .dataframe tbody tr th:only-of-type {\n",
              "        vertical-align: middle;\n",
              "    }\n",
              "\n",
              "    .dataframe tbody tr th {\n",
              "        vertical-align: top;\n",
              "    }\n",
              "\n",
              "    .dataframe thead th {\n",
              "        text-align: right;\n",
              "    }\n",
              "</style>\n",
              "<table border=\"1\" class=\"dataframe\">\n",
              "  <thead>\n",
              "    <tr style=\"text-align: right;\">\n",
              "      <th></th>\n",
              "      <th>Unnamed: 0</th>\n",
              "      <th>Автор</th>\n",
              "      <th>Название статьи</th>\n",
              "      <th>Текст статьи</th>\n",
              "      <th>Ссылка</th>\n",
              "    </tr>\n",
              "  </thead>\n",
              "  <tbody>\n",
              "    <tr>\n",
              "      <th>0</th>\n",
              "      <td>0</td>\n",
              "      <td>Ерофеева Ирина  Алексеевна</td>\n",
              "      <td>Формирование российской гражданской идентичнос...</td>\n",
              "      <td>37.035.6    введение   российская школа в п...</td>\n",
              "      <td>stat.php?i=1626173728</td>\n",
              "    </tr>\n",
              "    <tr>\n",
              "      <th>1</th>\n",
              "      <td>1</td>\n",
              "      <td>Данилова Ольга Анатольевна</td>\n",
              "      <td>Анализ возможностей современного цифрового обр...</td>\n",
              "      <td>37.02    введение   помимо получения предметн...</td>\n",
              "      <td>stat.php?i=1620848648</td>\n",
              "    </tr>\n",
              "    <tr>\n",
              "      <th>2</th>\n",
              "      <td>2</td>\n",
              "      <td>Водясова Любовь Петровна</td>\n",
              "      <td>ПОТЕНЦИАЛ МОБИЛЬНЫХ ПРИЛОЖЕНИЙ В ОБУЧЕНИИ РУСС...</td>\n",
              "      <td>372.881.116.11(045)    введение   в последнее...</td>\n",
              "      <td>stat.php?i=1616935891</td>\n",
              "    </tr>\n",
              "    <tr>\n",
              "      <th>3</th>\n",
              "      <td>3</td>\n",
              "      <td>Колпакова  Анна  Олеговна</td>\n",
              "      <td>Индивидуально-психологические качества человека</td>\n",
              "      <td>159.923    актуальность.  с развитием обществ...</td>\n",
              "      <td>stat.php?i=1610138763</td>\n",
              "    </tr>\n",
              "    <tr>\n",
              "      <th>4</th>\n",
              "      <td>4</td>\n",
              "      <td>Луговая Виктория Николаевна</td>\n",
              "      <td>Ключевые проблемы и направления усовершенствов...</td>\n",
              "      <td>378.12    введение.  одним из путей повышения...</td>\n",
              "      <td>stat.php?i=1608702045</td>\n",
              "    </tr>\n",
              "  </tbody>\n",
              "</table>\n",
              "</div>"
            ],
            "text/plain": [
              "   Unnamed: 0  ...                 Ссылка\n",
              "0           0  ...  stat.php?i=1626173728\n",
              "1           1  ...  stat.php?i=1620848648\n",
              "2           2  ...  stat.php?i=1616935891\n",
              "3           3  ...  stat.php?i=1610138763\n",
              "4           4  ...  stat.php?i=1608702045\n",
              "\n",
              "[5 rows x 5 columns]"
            ]
          },
          "metadata": {},
          "execution_count": 15
        }
      ]
    },
    {
      "cell_type": "markdown",
      "metadata": {
        "id": "zJehnOjLfCT8"
      },
      "source": [
        "### Удаление пунктуации"
      ]
    },
    {
      "cell_type": "code",
      "metadata": {
        "colab": {
          "base_uri": "https://localhost:8080/"
        },
        "id": "p0jRmovgMIjY",
        "outputId": "6e7d0957-a428-41b6-c039-2f0cab4f2b5a"
      },
      "source": [
        "# удаление пунктуации\n",
        "nltk.download('punkt')"
      ],
      "execution_count": null,
      "outputs": [
        {
          "output_type": "stream",
          "name": "stdout",
          "text": [
            "[nltk_data] Downloading package punkt to /root/nltk_data...\n",
            "[nltk_data]   Unzipping tokenizers/punkt.zip.\n"
          ]
        },
        {
          "output_type": "execute_result",
          "data": {
            "text/plain": [
              "True"
            ]
          },
          "metadata": {},
          "execution_count": 16
        }
      ]
    },
    {
      "cell_type": "code",
      "metadata": {
        "id": "LRDlbtqgefz6"
      },
      "source": [
        "# токенизация и удаление пунктуации\n",
        "def sentences_to_words(sentences):\n",
        "  for sentence in range(len(sentences)):\n",
        "    yield(gensim.utils.simple_preprocess(str(sentences[sentence]), deacc=True))  # deacc=True убирает пунктуацию"
      ],
      "execution_count": null,
      "outputs": []
    },
    {
      "cell_type": "code",
      "metadata": {
        "colab": {
          "base_uri": "https://localhost:8080/"
        },
        "id": "MgFr-cMpelRU",
        "outputId": "6ba4bceb-1350-4911-80dd-14569a3654d2"
      },
      "source": [
        "data_words = list(sentences_to_words(data['Текст статьи']))\n",
        "print(data_words[9])"
      ],
      "execution_count": null,
      "outputs": [
        {
          "output_type": "stream",
          "name": "stdout",
          "text": [
            "['введение', 'обучение', 'воспитание', 'толерантности', 'как', 'это', 'следует', 'из', 'различных', 'определении', 'этого', 'понятия', 'весьма', 'важныи', 'момент', 'жизни', 'молодых', 'людеи', 'для', 'адекватного', 'их', 'понимания', 'своего', 'поведения', 'существования', 'обществе', 'совмещение', 'одном', 'словосочетании', 'креативность', 'толерантность', 'способствует', 'при', 'правильном', 'подходе', 'обучению', 'воспитанию', 'творчески', 'гуманному', 'реализации', 'личностеи', 'чем', 'мечтают', 'дети', 'их', 'родители', 'актуальность', 'однако', 'большинство', 'родителеи', 'общественно', 'значимых', 'людеи', 'отмечают', 'что', 'примерно', 'до', 'лет', 'дети', 'замкнуты', 'своем', 'внутреннем', 'мире', 'не', 'то', 'чтобы', 'проявляли', 'общественную', 'гуманную', 'активность', 'но', 'чаще', 'всего', 'безразличны', 'поведении', 'своеи', 'семье', 'это', 'подтверждают', 'данные', 'статистики', 'большинство', 'россиян', 'вступает', 'брак', 'возрасте', 'года', 'так', 'было', 'много', 'раньше', 'обновите', 'памяти', 'отцы', 'дети', 'тургенева', 'век', 'сеичас', 'появлением', 'электронных', 'гаджетов', 'замкнутость', 'молодых', 'своих', 'интересах', 'только', 'усилилась', 'современных', 'сми', 'расхожее', 'выражение', 'характеристике', 'детеи', 'до', 'лет', 'вечные', 'дети', 'таким', 'образом', 'временнои', 'разрыв', 'порядка', 'лет', 'между', 'школьным', 'обучением', 'концом', 'своеобразного', 'периода', 'жизненного', 'становления', 'вызывает', 'сомнения', 'правильном', 'понимании', 'обучении', 'общественным', 'наукам', 'системе', 'образования', 'если', 'спросить', 'что', 'такое', 'толерантность', 'интересно', 'кто', 'ответит', 'хоть', 'как', 'то', 'правильно', 'цель', 'сместить', 'акцент', 'школьного', 'преподавания', 'обществознания', 'принятых', 'на', 'сегодняшнии', 'день', 'таких', 'тем', 'как', 'общественное', 'устроиство', 'экономика', 'политика', 'право', 'сторону', 'духовнои', 'жизни', 'тоже', 'тема', 'обществознания', 'частности', 'такои', 'общезначимои', 'темы', 'как', 'толерантность', 'решаемая', 'задача', 'основываясь', 'на', 'проведенном', 'сравнительном', 'анализе', 'обществознанием', 'понимания', 'толерантности', 'возможного', 'понимания', 'определения', 'креативная', 'толерантность', 'показать', 'важность', 'необходимость', 'приоритетного', 'преподавания', 'школе', 'такого', 'тематического', 'материла', 'как', 'толерантность', 'обоснование', 'разных', 'источниках', 'знании', 'толерантность', 'может', 'означать', 'википедия', 'толерантность', 'социологии', 'терпимость', 'иному', 'мировоззрению', 'образу', 'жизни', 'поведению', 'обычаям', 'из', 'книги', 'степинои', 'что', 'же', 'такое', 'толерантность', 'на', 'рубеже', 'веков', 'во', 'франции', 'жил', 'талеиран', 'перигор', 'князь', 'беневентинскии', 'это', 'был', 'человек', 'талантливыи', 'во', 'всех', 'областях', 'но', 'несомненно', 'более', 'всего', 'умении', 'учитывать', 'настроения', 'окружающих', 'уважительно', 'ним', 'относиться', 'искать', 'решение', 'проблем', 'способом', 'наименее', 'ущемляющим', 'интересы', 'других', 'людеи', 'но', 'при', 'этом', 'сохранять', 'свои', 'собственные', 'принципы', 'стремиться', 'тому', 'чтобы', 'управлять', 'ситуациеи', 'не', 'слепо', 'подчиняться', 'обстоятельствам', 'именем', 'этого', 'человека', 'связано', 'понятие', 'толерантность', 'учебнике', 'обществознание', 'термин', 'толерантность', 'судя', 'по', 'отсутствию', 'словаре', 'вообще', 'не', 'рассматривается', 'другом', 'полном', 'справочнике', 'по', 'обществознанию', 'для', 'подготовке', 'огэ', 'толерантность', 'также', 'не', 'рассматривается', 'но', 'есть', 'понимание', 'различных', 'религии', 'морали', 'духовнои', 'культуры', 'гуманизма', 'патриотизма', 'все', 'это', 'на', 'страницах', 'из', 'коротко', 'об', 'этих', 'составляющих', 'воспитания', 'личности', 'религии', 'россии', 'четыре', 'традиционные', 'концессии', 'православие', 'буддизм', 'иудаизм', 'ислам', 'человек', 'имеет', 'право', 'на', 'свободу', 'совести', 'вероисповедания', 'россии', 'церковь', 'отделена', 'от', 'государства', 'соответственно', 'школа', 'отделена', 'от', 'церкви', 'мораль', 'поступаи', 'относительно', 'другого', 'человека', 'так', 'как', 'бы', 'ты', 'хотел', 'чтобы', 'он', 'поступил', 'для', 'тебя', 'не', 'воруи', 'не', 'убиваи', 'не', 'клевещи', 'не', 'лги', 'не', 'завидуи', 'др', 'мораль', 'добро', 'долг', 'совесть', 'анализируется', 'мораль', 'нравственности', 'или', 'нет', 'гуманизм', 'убеждение', 'безграничности', 'возможностеи', 'человека', 'его', 'способности', 'право', 'на', 'свободу', 'личности', 'счастье', 'патриотизм', 'чувство', 'любви', 'преданности', 'родине', 'отчизне', 'своему', 'народу', 'степень', 'причастности', 'своеи', 'стране', 'соответствующее', 'этому', 'поведение', 'желание', 'трудиться', 'на', 'процветание', 'общества', 'все', 'что', 'приведено', 'подпунктах', 'большеи', 'степени', 'похоже', 'на', 'благие', 'пожелания', 'жизни', 'это', 'лозунги', 'для', 'политиков', 'но', 'них', 'нравственные', 'требования', 'часто', 'расходятся', 'реальными', 'делами', 'депутаты', 'чаще', 'защищают', 'лоббируют', 'интересы', 'определенных', 'групп', 'бизнеса', 'свои', 'интересы', 'интересы', 'народа', 'только', 'тогда', 'когда', 'они', 'совпадают', 'интересами', 'выше', 'перечисленными', 'комментарии', 'полное', 'соответствие', 'истинному', 'положению', 'темы', 'понятно', 'что', 'все', 'эти', 'постулаты', 'произносятся', 'доводятся', 'до', 'школьников', 'но', 'если', 'их', 'усвоение', 'детьми', 'на', 'всю', 'жизнь', 'не', 'на', 'момент', 'сдачи', 'экзамена', 'или', 'зачета', 'здесь', 'картина', 'не', 'столь', 'благоприятная', 'поступаи', 'относительно', 'другого', 'человека', 'так', 'как', 'бы', 'ты', 'хотел', 'чтобы', 'он', 'поступил', 'для', 'тебя', 'поступки', 'определяются', 'не', 'этим', 'сию', 'моментными', 'взаимными', 'отношениями', 'вспомните', 'себя', 'своих', 'знакомых', 'сколько', 'разочаровании', 'приходилось', 'пережить', 'не', 'воруи', 'не', 'убиваи', 'не', 'клевещи', 'не', 'лги', 'не', 'завидуи', 'др', 'если', 'бы', 'не', 'законы', 'ук', 'всего', 'этого', 'но', 'без', 'частицы', 'не', 'было', 'бы', 'намного', 'больше', 'особенно', 'клеветы', 'лжи', 'зависти', 'они', 'сеичас', 'присутствуют', 'почти', 'каждом', 'человеке', 'что', 'касается', 'морали', 'это', 'только', 'определение', 'почти', 'ничего', 'не', 'значащее', 'на', 'фоне', 'бесчисленнои', 'информации', 'предмета', 'обществознание', 'такои', 'трактовке', 'гуманизма', 'только', 'неблагополучных', 'семеи', 'есть', 'проблемы', 'большинства', 'право', 'на', 'самоутверждение', 'свободу', 'счастье', 'утверждается', 'пеленок', 'представлении', 'информационнои', 'сети', 'гуманность', 'лат', 'humanus', 'человечныи', 'любовь', 'внимание', 'человеку', 'уважение', 'человеческои', 'личности', 'доброе', 'отношение', 'ко', 'всему', 'живому', 'человечность', 'человеколюбие', 'система', 'установок', 'личности', 'по', 'отношению', 'человеку', 'группе', 'живому', 'существу', 'обусловленная', 'нравственными', 'нормами', 'ценностями', 'представленная', 'сознании', 'переживаниями', 'сострадания', 'сорадования', 'реализуемая', 'общении', 'деятельности', 'актах', 'содеиствия', 'помощи', 'википедия', 'по', 'моему', 'совсем', 'другои', 'смысл', 'чем', 'обществознании', 'не', 'только', 'любить', 'себя', 'но', 'другим', 'относиться', 'по', 'краинеи', 'мере', 'благожелательно', 'чем', 'объяснить', 'такое', 'расхождение', 'обществознания', 'обще', 'принятым', 'наверное', 'желания', 'показаться', 'оригинальными', 'или', 'по', 'другому', 'гордыня', 'авторов', 'учебников', 'патриотизм', 'чувство', 'любви', 'преданности', 'родине', 'отчизне', 'своему', 'народу', 'среди', 'моих', 'родных', 'друзеи', 'знакомых', 'это', 'не', 'менее', 'человек', 'дети', 'студенты', 'рабочие', 'инженеры', 'педагоги', 'управленцы', 'ученые', 'том', 'числе', 'академики', 'ран', 'не', 'более', 'человек', 'всегда', 'везде', 'соответствуют', 'этому', 'призыву', 'причины', 'нет', 'желания', 'служить', 'армии', 'это', 'задачи', 'сверх', 'важная', 'во', 'все', 'времена', 'решение', 'наидено', 'правительством', 'высокая', 'материальная', 'для', 'командиров', 'контрактников', 'государственная', 'служба', 'включая', 'гд', 'также', 'надежно', 'обеспечивается', 'высокои', 'материальнои', 'хорошими', 'условиями', 'труда', 'военно', 'промышленныи', 'комплекс', 'аналогично', 'материально', 'обеспечен', 'желание', 'трудиться', 'на', 'процветание', 'общества', 'данном', 'понятии', 'все', 'происходит', 'аналогично', 'предыдущему', 'пункту', 'почти', 'все', 'основано', 'на', 'материальнои', 'какои', 'то', 'значимои', 'идеологическои', 'подоплеки', 'поведении', 'подавляющего', 'большинства', 'людеи', 'нет', 'примечание', 'пунктах', 'речь', 'учебниках', 'идет', 'современном', 'обществе', 'мирное', 'время', 'не', 'об', 'экстремальных', 'ситуациях', 'воина', 'эпидемия', 'таким', 'образом', 'как', 'следует', 'из', 'выше', 'приведенных', 'комментариев', 'обществознание', 'пытается', 'духовно', 'обучить', 'школьников', 'большинстве', 'своем', 'ложным', 'понятиям', 'которые', 'не', 'выдерживают', 'ни', 'какои', 'критики', 'не', 'являются', 'жизненно', 'необходимыми', 'реально', 'существующем', 'обществе', 'почему', 'бы', 'не', 'сказать', 'все', 'как', 'есть', 'правду', 'настоичиво', 'учить', 'общезначимому', 'не', 'идеологическои', 'рениксе', 'renyxa', 'какои', 'может', 'быть', 'выход', 'из', 'создавшегося', 'не', 'нормального', 'положения', 'обучением', 'школьному', 'обществознанию', 'рассказать', 'по', 'типу', 'выше', 'приведенного', 'об', 'истинных', 'результатах', 'обучения', 'предложить', 'какои', 'то', 'новыи', 'подход', 'другими', 'целевыми', 'определениями', 'изменить', 'подход', 'духовному', 'воспитанию', 'молодых', 'людеи', 'непременным', 'сопровождением', 'словеснои', 'трактовки', 'практическими', 'мероприятиями', 'посещением', 'лекториев', 'театров', 'концертов', 'музыки', 'совмещенных', 'лекциеи', 'различных', 'культовых', 'мероприятии', 'просмотров', 'специально', 'подобранных', 'фильмов', 'это', 'ни', 'как', 'не', 'похоже', 'на', 'десяток', 'страниц', 'текста', 'поскольку', 'решаемая', 'даннои', 'статье', 'задача', 'относится', 'толерантности', 'рассмотрим', 'насколько', 'смысл', 'этого', 'понятия', 'более', 'достоверен', 'доступен', 'достоино', 'мог', 'бы', 'восполнить', 'духовное', 'воспитание', 'школьников', 'за', 'основу', 'возьмем', 'определения', 'из', 'книги', 'степинои', 'умение', 'учитывать', 'настроения', 'окружающих', 'уважительно', 'ним', 'относиться', 'искать', 'решение', 'проблем', 'способом', 'наименее', 'ущемляющим', 'интересы', 'других', 'людеи', 'это', 'определение', 'полностью', 'перекрывает', 'значение', 'определения', 'википедии', 'толерантности', 'терпимость', 'иному', 'мировоззрению', 'образу', 'жизни', 'поведению', 'обычаям', 'учебниках', 'обществознание', 'полностью', 'перекрыты', 'определения', 'разделов', 'религии', 'мораль', 'сохранять', 'свои', 'собственные', 'принципы', 'это', 'определение', 'ставит', 'головы', 'на', 'ноги', 'понимание', 'гуманнизма', 'обществознании', 'называя', 'явление', 'свободы', 'личности', 'своим', 'именем', 'управлять', 'ситуациеи', 'не', 'слепо', 'подчиняться', 'обстоятельствам', 'этого', 'обществознании', 'вообще', 'нет', 'ни', 'части', 'духовного', 'воспитания', 'ни', 'части', 'как', 'принимать', 'жизненно', 'необходимые', 'решения', 'однако', 'понятиях', 'толерантности', 'нет', 'патриотизма', 'думается', 'что', 'это', 'обусловлено', 'излишнеи', 'последних', 'современнои', 'педагогике', 'кроме', 'этого', 'мало', 'обозначить', 'принципы', 'нужно', 'научить', 'как', 'ими', 'пользоваться', 'это', 'задача', 'сосредоточена', 'понятии', 'креативность', 'ни', 'как', 'новомодном', 'термине', 'реально', 'необходимом', 'знании', 'принципов', 'поведения', 'творческого', 'принятия', 'решении', 'что', 'такое', 'креативность', 'для', 'педагогики', 'достаточно', 'подробно', 'освещено', 'статье', 'здесь', 'приведу', 'только', 'основное', 'определение', 'креативность', 'это', 'от', 'латинского', 'creative', 'создание', 'англииского', 'creativity', 'создание', 'творение', 'творчество', 'уровень', 'творческои', 'одаренности', 'способности', 'творчеству', 'составляющии', 'относительно', 'устоичивую', 'характеристику', 'личности', 'научная', 'новизна', 'проведенном', 'сравнительном', 'анализе', 'понятия', 'креативная', 'толерантность', 'деиствующеи', 'школьном', 'обществознании', 'педагогическои', 'системои', 'духовного', 'воспитания', 'показаны', 'предвзятая', 'ошибочная', 'трактовка', 'ряда', 'положении', 'обществознании', 'что', 'для', 'школьных', 'учебников', 'категорически', 'не', 'допустимо', 'возможность', 'больше', 'внимания', 'уделять', 'духовному', 'воспитанию', 'школьников', 'тематическом', 'изложении', 'креативная', 'толерантность', 'учетом', 'дополнительных', 'практических', 'занятии', 'по', 'теме', 'заключение', 'статье', 'фактически', 'доказано', 'что', 'тематическое', 'понятие', 'креативная', 'толерантность', 'достаточно', 'полно', 'адекватно', 'соответствует', 'задачам', 'духовного', 'воспитания']\n"
          ]
        }
      ]
    },
    {
      "cell_type": "code",
      "metadata": {
        "colab": {
          "base_uri": "https://localhost:8080/"
        },
        "id": "g-Q9LgOIeq_Y",
        "outputId": "ab152ea5-5c32-4972-b13d-bbe1391b9f18"
      },
      "source": [
        "print(data_words[5])"
      ],
      "execution_count": null,
      "outputs": [
        {
          "output_type": "stream",
          "name": "stdout",
          "text": [
            "['style', 'text', 'align', 'center', 'введение', 'style', 'text', 'align', 'justify', 'аддитивность', 'лат', 'additivus', 'прибавляемыи', 'обычном', 'понятии', 'это', 'своиство', 'математических', 'или', 'физических', 'величин', 'когда', 'их', 'значение', 'отнесенное', 'целому', 'объекту', 'эквивалентно', 'сумме', 'значении', 'величин', 'соответствующих', 'его', 'частям', 'без', 'остатка', 'вопрос', 'читателю', 'отгадаите', 'сколько', 'раз', 'удк', 'системе', 'встречается', 'термин', 'style', 'text', 'align', 'justify', 'при', 'решении', 'задач', 'физике', 'математике', 'приходится', 'встречаться', 'многовековои', 'конкуренциеи', 'аддитивности', 'style', 'text', 'align', 'justify', 'физике', 'это', 'связано', 'тем', 'что', 'нельзя', 'суммировать', 'физические', 'величины', 'имеющие', 'не', 'одинаковые', 'размерности', 'например', 'кг', 'умножать', 'можно', 'например', 'кг', 'на', 'тому', 'же', 'аддитивность', 'физических', 'величин', 'довольно', 'редкое', 'своиство', 'часто', 'зависит', 'от', 'уровня', 'задачи', 'относительно', 'закона', 'сохранения', 'так', 'например', 'не', 'только', 'скорость', 'или', 'температура', 'но', 'расстояние', 'масса', 'даже', 'время', 'каких', 'то', 'задачах', 'могут', 'не', 'обладать', 'аддитивностью', 'когда', 'говорят', 'средняя', 'температура', 'по', 'больнице', 'хочется', 'заметить', 'что', 'даже', 'энергия', 'может', 'попасть', 'область', 'не', 'аддитивности', 'например', 'задачах', 'на', 'вращение', 'столкновение', 'элементарных', 'частиц', 'где', 'деиствует', 'не', 'закон', 'сохранения', 'энергии', 'закон', 'сохранения', 'момента', 'импульса', 'эту', 'проблему', 'взаимоотношении', 'сумм', 'произведении', 'функции', 'их', 'аргументов', 'можно', 'выразить', 'принципе', 'align', 'right', 'align', 'right', 'или', 'align', 'right', 'style', 'text', 'align', 'justify', 'если', 'приняты', 'как', 'некие', 'обобщенные', 'операторы', 'включающие', 'себя', 'операнды', 'являющиеся', 'субъектами', 'элементарных', 'операции', 'style', 'text', 'align', 'justify', 'например', 'случаю', 'по', 'типу', 'удовлетворяют', 'степенные', 'показательные', 'функции', 'align', 'right', 'sup', 'sup', 'sup', 'sup', 'sup', 'sup', 'sup', 'sup', 'sup', 'sup', 'align', 'right', 'sup', 'sup', 'sup', 'sup', 'sup', 'sup', 'sup', 'sup', 'sup', 'sup', 'style', 'text', 'align', 'justify', 'для', 'функции', 'задачами', 'типа', 'являются', 'формулы', 'приведения', 'которых', 'могут', 'слева', 'справа', 'стоять', 'не', 'две', 'три', 'функции', 'для', 'интегрирования', 'соответствующие', 'формулы', 'для', 'сумм', 'произведении', 'функции', 'их', 'аргументов', 'постановка', 'задачи', 'style', 'text', 'align', 'justify', 'общем', 'виде', 'этот', 'вид', 'математическои', 'проблематики', 'представляется', 'как', 'взаимосвязь', 'оператора', 'оператором', 'функции', 'их', 'аргументов', 'style', 'text', 'align', 'justify', 'например', 'для', 'случая', 'трех', 'аргументов', 'abc', 'style', 'text', 'align', 'justify', 'существует', 'лишь', 'одна', 'конечно', 'заданная', 'группа', 'числами', 'style', 'text', 'align', 'justify', 'вряд', 'ли', 'этот', 'прецедент', 'может', 'служить', 'основанием', 'для', 'формулировки', 'теоремы', 'из', 'за', 'своеи', 'тривиальности', 'случаи', 'двух', 'аргументов', 'рамках', 'множества', 'style', 'text', 'align', 'justify', 'идеалом', 'этои', 'задачи', 'операции', 'является', 'вариант', 'когда', 'операторы', 'где', 'единичныи', 'оператор', 'групповои', 'семантике', 'из', 'тогда', 'аддитивная', 'функциональная', 'группа', 'align', 'right', 'ab', 'превращается', 'эквивалент', 'align', 'right', 'style', 'text', 'align', 'justify', 'следует', 'отметить', 'что', 'утверждение', 'деиствительно', 'для', 'так', 'как', 'считается', 'что', 'он', 'реализуется', 'случае', 'вопрос', 'можно', 'ли', 'вставить', 'это', 'утверждение', 'слово', 'только', 'style', 'text', 'align', 'justify', 'для', 'множество', 'рациональных', 'точнее', 'дробно', 'рациональных', 'чисел', 'существует', 'общии', 'вид', 'функции', 'для', 'которых', 'выполняется', 'соотношение', 'такая', 'задача', 'может', 'быть', 'поставлена', 'рамках', 'физическои', 'тематики', 'style', 'text', 'align', 'justify', 'пусть', 'мы', 'имеем', 'численное', 'представление', 'какого', 'то', 'физического', 'объекта', 'виде', 'формальнои', 'суммы', 'измерением', 'количественнои', 'характеристики', 'этого', 'объекта', 'назовем', 'деление', 'этого', 'целого', 'числа', 'из', 'на', 'каждое', 'из', 'них', 'иначе', 'такое', 'групповои', 'семантике', 'деление', 'носит', 'название', 'модульнои', 'операции', 'именно', 'сумма', 'произведение', 'результатов', 'этои', 'операции', 'равны', 'между', 'собои', 'более', 'того', 'для', 'разности', 'числовых', 'объектов', 'также', 'выполняется', 'соотношение', 'пусть', 'тогда', 'align', 'right', 'sup', 'sup', 'sup', 'sup', 'style', 'text', 'align', 'justify', 'таблице', 'представлены', 'все', 'числовые', 'значения', 'рассчитанные', 'по', 'формуле', 'для', 'диапазоне', 'подчеркнуты', 'отрицательные', 'числа', 'курсивом', 'выделены', 'значения', 'квадратами', 'чисел', 'числителе', 'знаменателе', 'диагональные', 'элементы', 'даннои', 'таблицы', 'матрицы', 'соответствуют', 'выражении', 'align', 'right', 'style', 'text', 'align', 'left', 'таблица', 'результаты', 'расчетов', 'по', 'формулам', 'table', 'border', 'cellpadding', 'cellspacing', 'style', 'width', 'px', 'tbody', 'tr', 'td', 'rowspan', 'valign', 'top', 'nm', 'td', 'td', 'colspan', 'valign', 'top', 'td', 'td', 'colspan', 'valign', 'top', 'td', 'td', 'colspan', 'valign', 'top', 'td', 'td', 'colspan', 'valign', 'top', 'td', 'td', 'colspan', 'valign', 'top', 'td', 'td', 'colspan', 'valign', 'top', 'td', 'td', 'colspan', 'valign', 'top', 'td', 'tr', 'tr', 'td', 'valign', 'top', 'td', 'td', 'valign', 'top', 'td', 'td', 'valign', 'top', 'td', 'td', 'valign', 'top', 'td', 'td', 'valign', 'top', 'td', 'td', 'valign', 'top', 'td', 'td', 'valign', 'top', 'td', 'td', 'valign', 'top', 'td', 'td', 'valign', 'top', 'td', 'td', 'valign', 'top', 'td', 'td', 'valign', 'top', 'td', 'td', 'valign', 'top', 'td', 'td', 'valign', 'top', 'td', 'td', 'valign', 'top', 'td', 'tr', 'tr', 'td', 'valign', 'top', 'td', 'td', 'valign', 'top', 'td', 'td', 'valign', 'top', 'td', 'td', 'valign', 'top', 'td', 'td', 'valign', 'top', 'span', 'style', 'text', 'decoration', 'underline', 'span', 'td', 'td', 'valign', 'top', 'td', 'td', 'valign', 'top', 'span', 'style', 'text', 'decoration', 'underline', 'span', 'td', 'td', 'valign', 'top', 'td', 'td', 'valign', 'top', 'span', 'style', 'text', 'decoration', 'underline', 'span', 'td', 'td', 'valign', 'top', 'td', 'td', 'valign', 'top', 'span', 'style', 'text', 'decoration', 'underline', 'span', 'td', 'td', 'valign', 'top', 'td', 'td', 'valign', 'top', 'span', 'style', 'text', 'decoration', 'underline', 'span', 'td', 'td', 'valign', 'top', 'td', 'td', 'valign', 'top', 'span', 'style', 'text', 'decoration', 'underline', 'span', 'td', 'tr', 'tr', 'td', 'valign', 'top', 'td', 'td', 'valign', 'top', 'td', 'td', 'valign', 'top', 'span', 'style', 'text', 'decoration', 'underline', 'span', 'td', 'td', 'valign', 'top', 'td', 'td', 'valign', 'top', 'td', 'td', 'valign', 'top', 'td', 'td', 'valign', 'top', 'span', 'style', 'text', 'decoration', 'underline', 'span', 'span', 'style', 'text', 'decoration', 'underline', 'span', 'td', 'td', 'valign', 'top', 'td', 'td', 'valign', 'top', 'span', 'style', 'text', 'decoration', 'underline', 'span', 'td', 'td', 'valign', 'top', 'td', 'td', 'valign', 'top', 'span', 'style', 'text', 'decoration', 'underline', 'span', 'td', 'td', 'valign', 'top', 'td', 'td', 'valign', 'top', 'span', 'style', 'text', 'decoration', 'underline', 'span', 'td', 'td', 'valign', 'top', 'td', 'td', 'valign', 'top', 'span', 'style', 'text', 'decoration', 'underline', 'span', 'td', 'tr', 'tr', 'td', 'valign', 'top', 'td', 'td', 'valign', 'top', 'td', 'td', 'valign', 'top', 'span', 'style', 'text', 'decoration', 'underline', 'span', 'td', 'td', 'valign', 'top', 'td', 'td', 'valign', 'top', 'span', 'style', 'text', 'decoration', 'underline', 'span', 'span', 'style', 'text', 'decoration', 'underline', 'span', 'td', 'td', 'valign', 'top', 'td', 'td', 'valign', 'top', 'td', 'td', 'valign', 'top', 'td', 'td', 'valign', 'top', 'span', 'style', 'text', 'decoration', 'underline', 'span', 'span', 'style', 'text', 'decoration', 'underline', 'span', 'span', 'style', 'text', 'decoration', 'underline', 'span', 'td', 'td', 'valign', 'top', 'td', 'td', 'valign', 'top', 'span', 'style', 'text', 'decoration', 'underline', 'span', 'span', 'style', 'text', 'decoration', 'underline', 'span', 'td', 'td', 'valign', 'top', 'td', 'td', 'valign', 'top', 'span', 'style', 'text', 'decoration', 'underline', 'span', 'span', 'style', 'text', 'decoration', 'underline', 'span', 'span', 'style', 'text', 'decoration', 'underline', 'span', 'td', 'td', 'valign', 'top', 'td', 'td', 'valign', 'top', 'span', 'style', 'text', 'decoration', 'underline', 'span', 'span', 'style', 'text', 'decoration', 'underline', 'span', 'span', 'style', 'text', 'decoration', 'underline', 'span', 'td', 'tr', 'tr', 'td', 'valign', 'top', 'td', 'td', 'valign', 'top', 'td', 'td', 'valign', 'top', 'span', 'style', 'text', 'decoration', 'underline', 'span', 'td', 'td', 'valign', 'top', 'td', 'td', 'valign', 'top', 'span', 'style', 'text', 'decoration', 'underline', 'span', 'td', 'td', 'valign', 'top', 'td', 'td', 'valign', 'top', 'span', 'style', 'text', 'decoration', 'underline', 'span', 'span', 'style', 'text', 'decoration', 'underline', 'span', 'span', 'style', 'text', 'decoration', 'underline', 'span', 'td', 'td', 'valign', 'top', 'td', 'td', 'valign', 'top', 'td', 'td', 'valign', 'top', 'td', 'td', 'valign', 'top', 'span', 'style', 'text', 'decoration', 'underline', 'span', 'span', 'style', 'text', 'decoration', 'underline', 'span', 'td', 'td', 'valign', 'top', 'td', 'td', 'valign', 'top', 'span', 'style', 'text', 'decoration', 'underline', 'span', 'span', 'style', 'text', 'decoration', 'underline', 'span', 'span', 'style', 'text', 'decoration', 'underline', 'span', 'td', 'td', 'valign', 'top', 'td', 'td', 'valign', 'top', 'span', 'style', 'text', 'decoration', 'underline', 'span', 'span', 'style', 'text', 'decoration', 'underline', 'span', 'span', 'style', 'text', 'decoration', 'underline', 'span', 'td', 'tr', 'tr', 'td', 'valign', 'top', 'td', 'td', 'valign', 'top', 'td', 'td', 'valign', 'top', 'span', 'style', 'text', 'decoration', 'underline', 'span', 'td', 'td', 'valign', 'top', 'td', 'td', 'valign', 'top', 'span', 'style', 'text', 'decoration', 'underline', 'span', 'td', 'td', 'valign', 'top', 'td', 'td', 'valign', 'top', 'span', 'style', 'text', 'decoration', 'underline', 'span', 'span', 'style', 'text', 'decoration', 'underline', 'span', 'td', 'td', 'valign', 'top', 'td', 'td', 'valign', 'top', 'span', 'style', 'text', 'decoration', 'underline', 'span', 'span', 'style', 'text', 'decoration', 'underline', 'span', 'td', 'td', 'valign', 'top', 'td', 'td', 'valign', 'top', 'td', 'td', 'valign', 'top', 'td', 'td', 'valign', 'top', 'span', 'style', 'text', 'decoration', 'underline', 'span', 'span', 'style', 'text', 'decoration', 'underline', 'span', 'span', 'style', 'text', 'decoration', 'underline', 'span', 'td', 'td', 'valign', 'top', 'td', 'td', 'valign', 'top', 'span', 'style', 'text', 'decoration', 'underline', 'span', 'span', 'style', 'text', 'decoration', 'underline', 'span', 'span', 'style', 'text', 'decoration', 'underline', 'span', 'td', 'tr', 'tr', 'td', 'valign', 'top', 'td', 'td', 'valign', 'top', 'td', 'td', 'valign', 'top', 'span', 'style', 'text', 'decoration', 'underline', 'span', 'td', 'td', 'valign', 'top', 'td', 'td', 'valign', 'top', 'span', 'style', 'text', 'decoration', 'underline', 'span', 'td', 'td', 'valign', 'top', 'td', 'td', 'valign', 'top', 'span', 'style', 'text', 'decoration', 'underline', 'span', 'span', 'style', 'text', 'decoration', 'underline', 'span', 'span', 'style', 'text', 'decoration', 'underline', 'span', 'td', 'td', 'valign', 'top', 'td', 'td', 'valign', 'top', 'span', 'style', 'text', 'decoration', 'underline', 'span', 'span', 'style', 'text', 'decoration', 'underline', 'span', 'span', 'style', 'text', 'decoration', 'underline', 'span', 'td', 'td', 'valign', 'top', 'td', 'td', 'valign', 'top', 'span', 'style', 'text', 'decoration', 'underline', 'span', 'span', 'style', 'text', 'decoration', 'underline', 'span', 'span', 'style', 'text', 'decoration', 'underline', 'span', 'td', 'td', 'valign', 'top', 'td', 'td', 'valign', 'top', 'td', 'td', 'valign', 'top', 'td', 'td', 'valign', 'top', 'span', 'style', 'text', 'decoration', 'underline', 'span', 'td', 'tr', 'tr', 'td', 'valign', 'top', 'td', 'td', 'valign', 'top', 'td', 'td', 'valign', 'top', 'span', 'style', 'text', 'decoration', 'underline', 'span', 'td', 'td', 'valign', 'top', 'td', 'td', 'valign', 'top', 'span', 'style', 'text', 'decoration', 'underline', 'span', 'td', 'td', 'valign', 'top', 'td', 'td', 'valign', 'top', 'span', 'style', 'text', 'decoration', 'underline', 'span', 'span', 'style', 'text', 'decoration', 'underline', 'span', 'span', 'style', 'text', 'decoration', 'underline', 'span', 'td', 'td', 'valign', 'top', 'td', 'td', 'valign', 'top', 'span', 'style', 'text', 'decoration', 'underline', 'span', 'span', 'style', 'text', 'decoration', 'underline', 'span', 'span', 'style', 'text', 'decoration', 'underline', 'span', 'td', 'td', 'valign', 'top', 'td', 'td', 'valign', 'top', 'span', 'style', 'text', 'decoration', 'underline', 'span', 'span', 'style', 'text', 'decoration', 'underline', 'span', 'span', 'style', 'text', 'decoration', 'underline', 'span', 'td', 'td', 'valign', 'top', 'td', 'td', 'valign', 'top', 'span', 'style', 'text', 'decoration', 'underline', 'span', 'td', 'td', 'valign', 'top', 'td', 'td', 'valign', 'top', 'td', 'tr', 'tr', 'td', 'valign', 'top', 'td', 'td', 'valign', 'top', 'td', 'td', 'valign', 'top', 'span', 'style', 'text', 'decoration', 'underline', 'span', 'td', 'td', 'valign', 'top', 'td', 'td', 'valign', 'top', 'span', 'style', 'text', 'decoration', 'underline', 'span', 'td', 'td', 'valign', 'top', 'td', 'td', 'valign', 'top', 'span', 'style', 'text', 'decoration', 'underline', 'span', 'td', 'td', 'valign', 'top', 'td', 'td', 'valign', 'top', 'span', 'style', 'text', 'decoration', 'underline', 'span', 'span', 'style', 'text', 'decoration', 'underline', 'span', 'span', 'style', 'text', 'decoration', 'underline', 'span', 'td', 'td', 'valign', 'top', 'td', 'td', 'valign', 'top', 'span', 'style', 'text', 'decoration', 'underline', 'span', 'span', 'style', 'text', 'decoration', 'underline', 'span', 'span', 'style', 'text', 'decoration', 'underline', 'span', 'td', 'td', 'valign', 'top', 'td', 'td', 'valign', 'top', 'span', 'style', 'text', 'decoration', 'underline', 'span', 'span', 'style', 'text', 'decoration', 'underline', 'span', 'span', 'style', 'text', 'decoration', 'underline', 'span', 'td', 'td', 'valign', 'top', 'td', 'td', 'valign', 'top', 'span', 'style', 'text', 'decoration', 'underline', 'span', 'span', 'style', 'text', 'decoration', 'underline', 'span', 'span', 'style', 'text', 'decoration', 'underline', 'span', 'td', 'tr', 'tr', 'td', 'valign', 'top', 'td', 'td', 'valign', 'top', 'td', 'td', 'valign', 'top', 'span', 'style', 'text', 'decoration', 'underline', 'span', 'td', 'td', 'valign', 'top', 'td', 'td', 'valign', 'top', 'span', 'style', 'text', 'decoration', 'underline', 'span', 'td', 'td', 'valign', 'top', 'td', 'td', 'valign', 'top', 'span', 'style', 'text', 'decoration', 'underline', 'span', 'td', 'td', 'valign', 'top', 'td', 'td', 'valign', 'top', 'span', 'style', 'text', 'decoration', 'underline', 'span', 'td', 'td', 'valign', 'top', 'td', 'td', 'valign', 'top', 'span', 'style', 'text', 'decoration', 'underline', 'span', 'span', 'style', 'text', 'decoration', 'underline', 'span', 'span', 'style', 'text', 'decoration', 'underline', 'span', 'td', 'td', 'valign', 'top', 'td', 'td', 'valign', 'top', 'span', 'style', 'text', 'decoration', 'underline', 'span', 'span', 'style', 'text', 'decoration', 'underline', 'span', 'span', 'style', 'text', 'decoration', 'underline', 'span', 'td', 'td', 'valign', 'top', 'td', 'td', 'valign', 'top', 'span', 'style', 'text', 'decoration', 'underline', 'span', 'span', 'style', 'text', 'decoration', 'underline', 'span', 'span', 'style', 'text', 'decoration', 'underline', 'span', 'td', 'tr', 'tr', 'td', 'valign', 'top', 'td', 'td', 'valign', 'top', 'td', 'td', 'valign', 'top', 'span', 'style', 'text', 'decoration', 'underline', 'span', 'td', 'td', 'valign', 'top', 'td', 'td', 'valign', 'top', 'span', 'style', 'text', 'decoration', 'underline', 'span', 'td', 'td', 'valign', 'top', 'td', 'td', 'valign', 'top', 'span', 'style', 'text', 'decoration', 'underline', 'span', 'td', 'td', 'valign', 'top', 'td', 'td', 'valign', 'top', 'span', 'style', 'text', 'decoration', 'underline', 'span', 'td', 'td', 'valign', 'top', 'td', 'td', 'valign', 'top', 'span', 'style', 'text', 'decoration', 'underline', 'span', 'td', 'td', 'valign', 'top', 'td', 'td', 'valign', 'top', 'span', 'style', 'text', 'decoration', 'underline', 'span', 'span', 'style', 'text', 'decoration', 'underline', 'span', 'span', 'style', 'text', 'decoration', 'underline', 'span', 'td', 'td', 'valign', 'top', 'td', 'td', 'valign', 'top', 'span', 'style', 'text', 'decoration', 'underline', 'span', 'td', 'tr', 'tbody', 'table', 'style', 'text', 'align', 'justify', 'заметим', 'что', 'выражение', 'имеет', 'форму', 'асимптотическои', 'функции', 'вертикальнои', 'асимптотои', 'что', 'может', 'стать', 'вместе', 'данными', 'таблицы', 'интересными', 'объектами', 'для', 'студентов', 'может', 'не', 'только', 'интересующихся', 'теориеи', 'чисел', 'теориеи', 'арифметики', 'вообще', 'между', 'прочим', 'эта', 'форма', 'применима', 'для', 'любых', 'функции', 'других', 'математических', 'объектов', 'которые', 'можно', 'представить', 'виде', 'бинома', 'sub', 'sub', 'sub', 'sub', 'sub', 'sub', 'sub', 'sub', 'sub', 'sub', 'sub', 'sub', 'sub', 'sub', 'sub', 'sub', 'sub', 'sub', 'sub', 'sub', 'sub', 'sub', 'sub', 'sub', 'sub', 'sub', 'результате', 'то', 'же', 'выражение', 'заключение', 'style', 'text', 'align', 'justify', 'посредством', 'небольшои', 'арифметическои', 'манипуляции', 'для', 'получения', 'аддитивно', 'эквивалентности', 'формуле', 'для', 'которои', 'на', 'множестве', 'существует', 'только', 'одна', 'тривиальная', 'реализация', 'при', 'одна', 'для', 'получено', 'обобщение', 'деиствительное', 'на', 'множестве', 'при', 'заданных', 'ограничениях', 'для', 'да', 'термин', 'удк', 'перечне', 'не', 'встречается', 'ни', 'разу']\n"
          ]
        }
      ]
    },
    {
      "cell_type": "markdown",
      "metadata": {
        "id": "km7cCLFUfFTv"
      },
      "source": [
        "### Лемматизация и стемминг"
      ]
    },
    {
      "cell_type": "code",
      "metadata": {
        "id": "BW7rv1nlfHxi"
      },
      "source": [
        "from pymorphy2 import MorphAnalyzer\n",
        "pymorphy2_analyzer = MorphAnalyzer()"
      ],
      "execution_count": null,
      "outputs": []
    },
    {
      "cell_type": "code",
      "metadata": {
        "id": "GvOWxw8zfWT9"
      },
      "source": [
        "def text_lemmatizer(sentences):\n",
        "  data_words_lemmatized=[]\n",
        "  for sentence in range(len(sentences)):\n",
        "    sentence_lemms = []\n",
        "    for word in sentences[sentence]:\n",
        "      lemma = str(pymorphy2_analyzer.parse(word)[0].normal_form)\n",
        "      sentence_lemms.append(lemma)\n",
        "    data_words_lemmatized.append(sentence_lemms)\n",
        "  return data_words_lemmatized"
      ],
      "execution_count": null,
      "outputs": []
    },
    {
      "cell_type": "code",
      "metadata": {
        "colab": {
          "base_uri": "https://localhost:8080/"
        },
        "id": "J343mxWxfaWE",
        "outputId": "72ebda74-1c02-400e-9d3e-f08f5ee0bf17"
      },
      "source": [
        "data_words_lemmatized = list(text_lemmatizer(data_words))\n",
        "data_words_lemmatized[1][:10]"
      ],
      "execution_count": null,
      "outputs": [
        {
          "output_type": "execute_result",
          "data": {
            "text/plain": [
              "['введение',\n",
              " 'помимо',\n",
              " 'получение',\n",
              " 'предметный',\n",
              " 'результат',\n",
              " 'развитие',\n",
              " 'узкий',\n",
              " 'компетенция',\n",
              " 'школьник',\n",
              " 'фгос']"
            ]
          },
          "metadata": {},
          "execution_count": 22
        }
      ]
    },
    {
      "cell_type": "code",
      "metadata": {
        "colab": {
          "base_uri": "https://localhost:8080/"
        },
        "id": "KrcCGyCsgP2A",
        "outputId": "c870d791-74db-46be-c759-0e67413b3608"
      },
      "source": [
        "count = 0\n",
        "for i in range(0, len(data_words_lemmatized)):\n",
        "  count += len(data_words_lemmatized[i])\n",
        "count"
      ],
      "execution_count": null,
      "outputs": [
        {
          "output_type": "execute_result",
          "data": {
            "text/plain": [
              "195917"
            ]
          },
          "metadata": {},
          "execution_count": 23
        }
      ]
    },
    {
      "cell_type": "markdown",
      "metadata": {
        "id": "yad958f-fr8f"
      },
      "source": [
        "### Удаление стоп слов"
      ]
    },
    {
      "cell_type": "code",
      "metadata": {
        "colab": {
          "base_uri": "https://localhost:8080/"
        },
        "id": "ARmFi2q6ft4p",
        "outputId": "762a7202-2e13-4028-8fa7-f5566e344b31"
      },
      "source": [
        "nltk.download('stopwords')"
      ],
      "execution_count": null,
      "outputs": [
        {
          "output_type": "stream",
          "name": "stdout",
          "text": [
            "[nltk_data] Downloading package stopwords to /root/nltk_data...\n",
            "[nltk_data]   Unzipping corpora/stopwords.zip.\n"
          ]
        },
        {
          "output_type": "execute_result",
          "data": {
            "text/plain": [
              "True"
            ]
          },
          "metadata": {},
          "execution_count": 24
        }
      ]
    },
    {
      "cell_type": "code",
      "metadata": {
        "id": "G_dZJiF-iHu-"
      },
      "source": [
        "from nltk.corpus import stopwords\n",
        "stop_words = stopwords.words('russian')"
      ],
      "execution_count": null,
      "outputs": []
    },
    {
      "cell_type": "code",
      "metadata": {
        "id": "6RaQe1z4ids0"
      },
      "source": [
        "stop_words.extend(['это', 'сама', 'какие', 'пока', 'ещё', 'оба',\n",
        "                   'свои', 'либо', 'хотя', 'нужно', 'знаю', 'кого',\n",
        "                   'вообще', 'поэтому', 'которые', 'каждый', 'весь',\n",
        "                   'нужный', 'должный', 'мочь', 'иметь', 'гораздо',\n",
        "                   \"стать\",\"например\",\"просто\",\"каждыи\",\"определенныи\",\n",
        "                   \"такои\", 'которыи',\"должныи\",\"именно\",\"нужныи\",\n",
        "                   \"какои\",'который', 'часть','обычно','использоваться',\n",
        "                   'простой','большой','всё','самый','очень','свой',\n",
        "                   'сложный', \"td\", \"pt\", \"border\", \"mso\", 'width',\n",
        "                   'top', 'span', 'style', 'valign', 'tr', 'alt',\n",
        "                   'solid', 'solid_windowtext', 'class_msonormal',\n",
        "                   'right','text_align_justify',\n",
        "                   'nowrap_nowrap','none','bottom','spacerun_yes',\n",
        "                   'left_alt','line_height','left_none',\n",
        "                   'data_mce_mark','cm','margin_bottom',\n",
        "                   'padding_cm','height','spacerun_yes',\n",
        "                   'text_align_justify','text','data_mce_mark_data',\n",
        "                   'windowtext_padding_class_msonormal',\n",
        "                   'margin_text','data_mce_mark',\n",
        "                   'align_justify_line','nowrap_nowrap','div_text',\n",
        "                   'align_justify','детея','left_left_background',\n",
        "                   'div_align_justify','align_justify',\n",
        "                   'spacerun_yes','data_mce_mark','nowrap_nowrap',\n",
        "                   'data_mce_mark_data','google','div','align',\n",
        "                   'justify','data','mce','mark','nowrap',\n",
        "                   'decoration','underline','yes','spacerun',\n",
        "                   '_','center','тип','class','msonormal','margin',\n",
        "                   'line','left','black','themecolor','windowtext',\n",
        "                   'padding','indent','en','us','lang','ansi',\n",
        "                   'em','bidi','font','normal','диа','la','de',\n",
        "                   'color','vous','ваш','monsieur','nous',\n",
        "                   'bgp','as','bt','vl','fs','fu','lc','sv','ko','mle',\n",
        "                   'moodle','hb','fk','iz','vn','pj','fn','du','yw',\n",
        "                   'эор','оон','http','https','рф','ru','рис',\n",
        "                   'ascii','family','calibri','hansi','theme',\n",
        "                   'minor','latin','fareast','adj','ly','vq','fv',\n",
        "                   'ka','tl','ki','xg','ue','bo','pw','mx','ff',\n",
        "                   'ao','bs','dd','fd','zo','ud','jo','uv','op',\n",
        "                   'ur','kw','pb','oi','sg','oo','pk','to','ospf',\n",
        "                   'также','background','size','small','transparent',\n",
        "                   'lego','no','hq','vr','pn','vv','strong','weight',\n",
        "                   'буква','dp','ob','ld','ac','dh','ot','tt','pr',\n",
        "                   'qc','fx','za','wq','ck','language','com','di',\n",
        "                   'img','src','pic','net','tableparagraph','вид',\n",
        "                   'western','oz','sa','kv','in','is','ls','uy','bh',\n",
        "                   'yd','colspan','cx','wn','dy','ha','do','xz',\n",
        "                   'vx','xs','lr','xp','ja','ипт','a','b','c','d','e',\n",
        "                   'f','g','h','i','j','k','l','m','o','p','q','r','s','t',\n",
        "                   'u','v','w','x','y','z','nfc','nf','cb','tg',\n",
        "                   'aq','lb','vo','vf','ni','zy','xj','uk','edit',\n",
        "                   'router_','router','auto','interfaces','др',\n",
        "                   'cloud','computing','nm','lf','bx','zh','ft',\n",
        "                   'zt','hk','yn','dt','vh','gv','by','blog','ll',\n",
        "                   'ii','ux','rk','php','double_double','double',\n",
        "                   'blogspot','lj','ej','zz','li','xt','ze',\n",
        "                   'zv','fr','ef','sub','eb'])"
      ],
      "execution_count": null,
      "outputs": []
    },
    {
      "cell_type": "code",
      "metadata": {
        "id": "yb1AxzYmi0iA"
      },
      "source": [
        "def remove_stopwords(texts):\n",
        "    return [[word for word in simple_preprocess(str(doc)) if word not in stop_words] for doc in texts]"
      ],
      "execution_count": null,
      "outputs": []
    },
    {
      "cell_type": "code",
      "metadata": {
        "id": "ToobQ9sNi4Fw"
      },
      "source": [
        "data_words_nostops = remove_stopwords(data_words_lemmatized)"
      ],
      "execution_count": null,
      "outputs": []
    },
    {
      "cell_type": "code",
      "metadata": {
        "colab": {
          "base_uri": "https://localhost:8080/"
        },
        "id": "R4XLIjARi6hV",
        "outputId": "9a2892a4-61c8-4a37-aa3d-51d5d59a7d0e"
      },
      "source": [
        "data_words_nostops[1][:10]"
      ],
      "execution_count": null,
      "outputs": [
        {
          "output_type": "execute_result",
          "data": {
            "text/plain": [
              "['введение',\n",
              " 'помимо',\n",
              " 'получение',\n",
              " 'предметный',\n",
              " 'результат',\n",
              " 'развитие',\n",
              " 'узкий',\n",
              " 'компетенция',\n",
              " 'школьник',\n",
              " 'фгос']"
            ]
          },
          "metadata": {},
          "execution_count": 29
        }
      ]
    },
    {
      "cell_type": "code",
      "metadata": {
        "colab": {
          "base_uri": "https://localhost:8080/"
        },
        "id": "JiYtK3eti9Bb",
        "outputId": "a568dc93-e109-40a7-a17b-e3708b18c12a"
      },
      "source": [
        "count = 0\n",
        "for i in range(0, len(data_words_nostops)):\n",
        "  count += len(data_words_nostops[i])\n",
        "count"
      ],
      "execution_count": null,
      "outputs": [
        {
          "output_type": "execute_result",
          "data": {
            "text/plain": [
              "130600"
            ]
          },
          "metadata": {},
          "execution_count": 30
        }
      ]
    },
    {
      "cell_type": "markdown",
      "metadata": {
        "id": "_Rc_zNMIjI_D"
      },
      "source": [
        "### Векторизация"
      ]
    },
    {
      "cell_type": "code",
      "metadata": {
        "id": "UcT7dKocjLII"
      },
      "source": [
        "# Создание биграмм\n",
        "def make_bigrams(texts):\n",
        "  bigram = gensim.models.Phrases(texts, min_count=5, threshold=100)\n",
        "  bigram_mod = gensim.models.phrases.Phraser(bigram)\n",
        "  return [bigram_mod[doc] for doc in texts]"
      ],
      "execution_count": null,
      "outputs": []
    },
    {
      "cell_type": "code",
      "metadata": {
        "id": "Xy91tgzGjozd"
      },
      "source": [
        "data_bigrams = make_bigrams(data_words_nostops)"
      ],
      "execution_count": null,
      "outputs": []
    },
    {
      "cell_type": "code",
      "metadata": {
        "colab": {
          "base_uri": "https://localhost:8080/"
        },
        "id": "i8jLxGqBjsry",
        "outputId": "c50dbafa-58f4-42ef-da2d-4f590d14f947"
      },
      "source": [
        "data_bigrams[1][:10]"
      ],
      "execution_count": null,
      "outputs": [
        {
          "output_type": "execute_result",
          "data": {
            "text/plain": [
              "['введение',\n",
              " 'помимо',\n",
              " 'получение',\n",
              " 'предметный',\n",
              " 'результат',\n",
              " 'развитие',\n",
              " 'узкий',\n",
              " 'компетенция',\n",
              " 'школьник',\n",
              " 'фгос']"
            ]
          },
          "metadata": {},
          "execution_count": 33
        }
      ]
    },
    {
      "cell_type": "code",
      "metadata": {
        "colab": {
          "base_uri": "https://localhost:8080/"
        },
        "id": "MtW6jBVbjxw-",
        "outputId": "d45c9b60-5743-4256-9799-c054fe960b49"
      },
      "source": [
        "count = 0\n",
        "for i in range(0, len(data_bigrams)):\n",
        "  count += len(data_bigrams[i])\n",
        "count"
      ],
      "execution_count": null,
      "outputs": [
        {
          "output_type": "execute_result",
          "data": {
            "text/plain": [
              "126634"
            ]
          },
          "metadata": {},
          "execution_count": 34
        }
      ]
    },
    {
      "cell_type": "code",
      "metadata": {
        "id": "5wGcb4i7kJbs"
      },
      "source": [
        "# Создание триграмм\n",
        "def make_trigrams(texts):\n",
        "  bigram = gensim.models.Phrases(texts, min_count=5, threshold=100)\n",
        "  bigram_mod = gensim.models.phrases.Phraser(bigram)\n",
        "  trigram = gensim.models.Phrases(bigram[texts], threshold=100)  \n",
        "  trigram_mod = gensim.models.phrases.Phraser(trigram)\n",
        "  return [trigram_mod[bigram_mod[doc]] for doc in texts]"
      ],
      "execution_count": null,
      "outputs": []
    },
    {
      "cell_type": "code",
      "metadata": {
        "colab": {
          "base_uri": "https://localhost:8080/"
        },
        "id": "sBXeJLW6kK5v",
        "outputId": "e2587e57-596e-4ea0-cb82-b745a32093c9"
      },
      "source": [
        "data_trigrams = make_trigrams(data_words_nostops)"
      ],
      "execution_count": null,
      "outputs": [
        {
          "output_type": "stream",
          "name": "stderr",
          "text": [
            "/usr/local/lib/python3.7/dist-packages/gensim/models/phrases.py:598: UserWarning: For a faster implementation, use the gensim.models.phrases.Phraser class\n",
            "  warnings.warn(\"For a faster implementation, use the gensim.models.phrases.Phraser class\")\n"
          ]
        }
      ]
    },
    {
      "cell_type": "code",
      "metadata": {
        "colab": {
          "base_uri": "https://localhost:8080/"
        },
        "id": "8twURk2Qkxub",
        "outputId": "2264b388-e543-4c6f-bf48-474795f565ec"
      },
      "source": [
        "data_trigrams[1][:11]"
      ],
      "execution_count": null,
      "outputs": [
        {
          "output_type": "execute_result",
          "data": {
            "text/plain": [
              "['введение',\n",
              " 'помимо',\n",
              " 'получение',\n",
              " 'предметный',\n",
              " 'результат',\n",
              " 'развитие',\n",
              " 'узкий',\n",
              " 'компетенция',\n",
              " 'школьник',\n",
              " 'фгос',\n",
              " 'ноо']"
            ]
          },
          "metadata": {},
          "execution_count": 37
        }
      ]
    },
    {
      "cell_type": "code",
      "metadata": {
        "colab": {
          "base_uri": "https://localhost:8080/"
        },
        "id": "vw9ybdBek3Ah",
        "outputId": "7424682b-3841-44c9-c102-d74bb77d2dda"
      },
      "source": [
        "count = 0\n",
        "for i in range(0, len(data_trigrams)):\n",
        "  count += len(data_trigrams[i])\n",
        "count"
      ],
      "execution_count": null,
      "outputs": [
        {
          "output_type": "execute_result",
          "data": {
            "text/plain": [
              "125771"
            ]
          },
          "metadata": {},
          "execution_count": 38
        }
      ]
    },
    {
      "cell_type": "markdown",
      "metadata": {
        "id": "Egeukb6wk-B5"
      },
      "source": [
        "## Тематическое моделирование"
      ]
    },
    {
      "cell_type": "markdown",
      "metadata": {
        "id": "i6ihZfHBlM5N"
      },
      "source": [
        "### Латентное размещение Дирихле"
      ]
    },
    {
      "cell_type": "code",
      "metadata": {
        "id": "j4lmb4tkk_So"
      },
      "source": [
        "# Создаем словарь\n",
        "id2word = corpora.Dictionary(data_trigrams)\n",
        "# Определяем частоту документа в корпусе\n",
        "corpus = [id2word.doc2bow(text) for text in data_trigrams]"
      ],
      "execution_count": null,
      "outputs": []
    },
    {
      "cell_type": "code",
      "metadata": {
        "colab": {
          "base_uri": "https://localhost:8080/"
        },
        "id": "X3BFtH0blgmv",
        "outputId": "3af94331-6032-483c-f738-aa0ade9f66cb"
      },
      "source": [
        "print(corpus[:1])"
      ],
      "execution_count": null,
      "outputs": [
        {
          "output_type": "stream",
          "name": "stdout",
          "text": [
            "[[(0, 1), (1, 1), (2, 1), (3, 1), (4, 1), (5, 2), (6, 1), (7, 1), (8, 1), (9, 2), (10, 1), (11, 1), (12, 1), (13, 1), (14, 2), (15, 3), (16, 2), (17, 2), (18, 1), (19, 6), (20, 3), (21, 1), (22, 4), (23, 2), (24, 1), (25, 3), (26, 1), (27, 1), (28, 3), (29, 2), (30, 3), (31, 1), (32, 2), (33, 2), (34, 1), (35, 1), (36, 1), (37, 1), (38, 1), (39, 1), (40, 1), (41, 2), (42, 1), (43, 2), (44, 1), (45, 1), (46, 1), (47, 2), (48, 2), (49, 4), (50, 2), (51, 7), (52, 3), (53, 1), (54, 1), (55, 1), (56, 1), (57, 2), (58, 1), (59, 1), (60, 1), (61, 1), (62, 1), (63, 1), (64, 2), (65, 18), (66, 1), (67, 1), (68, 1), (69, 1), (70, 2), (71, 2), (72, 1), (73, 1), (74, 1), (75, 2), (76, 1), (77, 1), (78, 1), (79, 4), (80, 1), (81, 1), (82, 2), (83, 1), (84, 1), (85, 1), (86, 1), (87, 1), (88, 1), (89, 1), (90, 6), (91, 1), (92, 3), (93, 1), (94, 1), (95, 3), (96, 1), (97, 1), (98, 3), (99, 1), (100, 1), (101, 2), (102, 2), (103, 1), (104, 1), (105, 1), (106, 1), (107, 1), (108, 1), (109, 1), (110, 1), (111, 1), (112, 2), (113, 2), (114, 1), (115, 1), (116, 1), (117, 1), (118, 1), (119, 1), (120, 1), (121, 1), (122, 1), (123, 2), (124, 3), (125, 1), (126, 1), (127, 2), (128, 13), (129, 1), (130, 2), (131, 3), (132, 1), (133, 2), (134, 1), (135, 3), (136, 1), (137, 1), (138, 1), (139, 1), (140, 1), (141, 1), (142, 1), (143, 1), (144, 3), (145, 1), (146, 2), (147, 2), (148, 1), (149, 4), (150, 5), (151, 1), (152, 1), (153, 1), (154, 2), (155, 1), (156, 1), (157, 1), (158, 1), (159, 2), (160, 2), (161, 1), (162, 1), (163, 1), (164, 2), (165, 1), (166, 2), (167, 1), (168, 1), (169, 2), (170, 1), (171, 2), (172, 1), (173, 1), (174, 1), (175, 2), (176, 2), (177, 6), (178, 6), (179, 1), (180, 8), (181, 1), (182, 7), (183, 2), (184, 7), (185, 1), (186, 1), (187, 1), (188, 1), (189, 1), (190, 3), (191, 1), (192, 1), (193, 1), (194, 1), (195, 8), (196, 4), (197, 2), (198, 2), (199, 1), (200, 1), (201, 1), (202, 1), (203, 1), (204, 2), (205, 2), (206, 4), (207, 2), (208, 3), (209, 4), (210, 1), (211, 1), (212, 1), (213, 1), (214, 1), (215, 2), (216, 1), (217, 1), (218, 1), (219, 2), (220, 6), (221, 1), (222, 1), (223, 2), (224, 1), (225, 1), (226, 1), (227, 1), (228, 1), (229, 1), (230, 1), (231, 1), (232, 2), (233, 1), (234, 1), (235, 1), (236, 1), (237, 1), (238, 3), (239, 2), (240, 1), (241, 1), (242, 1), (243, 1), (244, 1), (245, 1), (246, 1), (247, 1), (248, 1), (249, 1), (250, 1), (251, 1), (252, 1), (253, 1), (254, 3), (255, 1), (256, 2), (257, 1), (258, 1), (259, 1), (260, 1), (261, 1), (262, 1), (263, 1), (264, 2), (265, 1), (266, 1), (267, 1), (268, 2), (269, 2), (270, 1), (271, 2), (272, 1), (273, 7), (274, 2), (275, 4), (276, 2), (277, 2), (278, 1), (279, 1), (280, 14), (281, 1), (282, 1), (283, 1), (284, 8), (285, 1), (286, 1), (287, 8), (288, 4), (289, 1), (290, 2), (291, 1), (292, 2), (293, 2), (294, 1), (295, 4), (296, 1), (297, 3), (298, 1), (299, 1), (300, 3), (301, 1), (302, 1), (303, 1), (304, 1), (305, 5), (306, 1), (307, 4), (308, 6), (309, 1), (310, 3), (311, 1), (312, 2), (313, 1), (314, 1), (315, 2), (316, 1), (317, 2), (318, 2), (319, 1), (320, 4), (321, 5), (322, 1), (323, 2), (324, 3), (325, 1), (326, 1), (327, 1), (328, 1), (329, 1), (330, 1), (331, 2), (332, 1), (333, 1), (334, 1), (335, 1), (336, 2), (337, 1), (338, 1), (339, 1), (340, 1), (341, 1), (342, 1), (343, 1), (344, 2), (345, 5), (346, 1), (347, 2), (348, 3), (349, 2), (350, 3), (351, 1), (352, 1), (353, 1), (354, 1), (355, 1), (356, 1), (357, 3), (358, 3), (359, 2), (360, 7), (361, 3), (362, 1), (363, 1), (364, 1), (365, 5), (366, 1), (367, 5), (368, 1), (369, 1), (370, 2), (371, 2), (372, 1), (373, 1), (374, 3), (375, 1), (376, 1), (377, 3), (378, 1), (379, 1), (380, 5), (381, 1), (382, 1), (383, 1), (384, 1), (385, 1), (386, 1), (387, 2), (388, 1), (389, 1), (390, 2), (391, 1), (392, 1), (393, 7), (394, 1), (395, 1), (396, 3), (397, 1), (398, 5), (399, 2), (400, 2), (401, 4), (402, 2), (403, 1), (404, 3), (405, 9), (406, 13), (407, 1), (408, 1), (409, 2), (410, 1), (411, 3), (412, 2), (413, 2), (414, 4), (415, 1), (416, 1), (417, 12), (418, 1), (419, 1), (420, 2), (421, 1), (422, 2), (423, 1), (424, 3), (425, 1), (426, 7), (427, 2)]]\n"
          ]
        }
      ]
    },
    {
      "cell_type": "code",
      "metadata": {
        "id": "PlDN9GWqlh1E"
      },
      "source": [
        "lda_model = gensim.models.ldamodel.LdaModel(corpus=corpus, \n",
        "                                            id2word=id2word,\n",
        "                                            random_state=100,\n",
        "                                            num_topics=7,\n",
        "                                            chunksize=100,\n",
        "                                            minimum_probability=0.1,\n",
        "                                            passes = 10,\n",
        "                                            iterations = 100,\n",
        "                                            per_word_topics=True)"
      ],
      "execution_count": null,
      "outputs": []
    },
    {
      "cell_type": "code",
      "metadata": {
        "colab": {
          "base_uri": "https://localhost:8080/"
        },
        "id": "wtL_2v2ilufW",
        "outputId": "1560b10b-e9ec-43ae-9571-7ee3fce3cc55"
      },
      "source": [
        "# Вывод полученных тем\n",
        "lda_model.print_topics(lda_model.num_topics)"
      ],
      "execution_count": null,
      "outputs": [
        {
          "output_type": "execute_result",
          "data": {
            "text/plain": [
              "[(0,\n",
              "  '0.009*\"работа\" + 0.006*\"образование\" + 0.006*\"процесс\" + 0.006*\"студент\" + 0.005*\"обучение\" + 0.005*\"система\" + 0.004*\"информация\" + 0.004*\"учебный\" + 0.004*\"возможность\" + 0.004*\"ученик\"'),\n",
              " (1,\n",
              "  '0.008*\"образование\" + 0.007*\"человек\" + 0.006*\"процесс\" + 0.006*\"деятельность\" + 0.005*\"обучение\" + 0.005*\"учиться\" + 0.005*\"развитие\" + 0.005*\"работа\" + 0.004*\"являться\" + 0.004*\"личность\"'),\n",
              " (2,\n",
              "  '0.011*\"решение\" + 0.010*\"исследование\" + 0.008*\"игра\" + 0.007*\"деятельность\" + 0.007*\"развитие\" + 0.007*\"задача\" + 0.006*\"научный\" + 0.006*\"управление\" + 0.006*\"образование\" + 0.006*\"результат\"'),\n",
              " (3,\n",
              "  '0.003*\"обучение\" + 0.003*\"перфекционизм\" + 0.002*\"мобильный\" + 0.001*\"публикация\" + 0.001*\"учебный\" + 0.001*\"система\" + 0.001*\"студент\" + 0.001*\"работа\" + 0.001*\"средство\" + 0.001*\"возможность\"'),\n",
              " (4,\n",
              "  '0.014*\"учебный\" + 0.011*\"обучение\" + 0.007*\"процесс\" + 0.006*\"материал\" + 0.006*\"деятельность\" + 0.006*\"студент\" + 0.006*\"работа\" + 0.005*\"обучаться\" + 0.005*\"технология\" + 0.004*\"дисциплина\"'),\n",
              " (5,\n",
              "  '0.018*\"образование\" + 0.007*\"обучение\" + 0.007*\"деятельность\" + 0.005*\"образовательный\" + 0.005*\"программа\" + 0.004*\"развитие\" + 0.004*\"год\" + 0.004*\"система\" + 0.004*\"ребёнок\" + 0.004*\"организация\"'),\n",
              " (6,\n",
              "  '0.007*\"человек\" + 0.005*\"жизнь\" + 0.005*\"общество\" + 0.005*\"человечество\" + 0.004*\"мир\" + 0.004*\"ребёнок\" + 0.004*\"система\" + 0.003*\"русский\" + 0.003*\"решение\" + 0.003*\"сознание\"')]"
            ]
          },
          "metadata": {},
          "execution_count": 143
        }
      ]
    },
    {
      "cell_type": "markdown",
      "metadata": {
        "id": "J_lFVs_5mS_5"
      },
      "source": [
        "#### Визуализация"
      ]
    },
    {
      "cell_type": "code",
      "metadata": {
        "id": "SeZECw6kmV9H"
      },
      "source": [
        "vis = pyLDAvis.gensim.prepare(lda_model, corpus, id2word)"
      ],
      "execution_count": null,
      "outputs": []
    },
    {
      "cell_type": "code",
      "metadata": {
        "colab": {
          "base_uri": "https://localhost:8080/",
          "height": 861
        },
        "id": "8ihdwKjSmcIl",
        "outputId": "5ba899ba-d08c-47f4-9a49-9428724ee8c1"
      },
      "source": [
        "pyLDAvis.display(vis)"
      ],
      "execution_count": null,
      "outputs": [
        {
          "output_type": "execute_result",
          "data": {
            "text/html": [
              "\n",
              "<link rel=\"stylesheet\" type=\"text/css\" href=\"https://cdn.rawgit.com/bmabey/pyLDAvis/files/ldavis.v1.0.0.css\">\n",
              "\n",
              "\n",
              "<div id=\"ldavis_el1361397418888114723856801258\"></div>\n",
              "<script type=\"text/javascript\">\n",
              "\n",
              "var ldavis_el1361397418888114723856801258_data = {\"mdsDat\": {\"x\": [-0.10034693440883526, 0.2959615109057034, -0.07960938654067064, -0.06593856234083988, -0.0669971583409982, 0.0058908846342131385, 0.011039646091427588], \"y\": [0.007151182027037981, -0.0259000154600288, -0.03425134518769698, -0.07264444728712663, -0.0036528086880914497, 0.15652653946588235, -0.027229104869976706], \"topics\": [1, 2, 3, 4, 5, 6, 7], \"cluster\": [1, 1, 1, 1, 1, 1, 1], \"Freq\": [19.769793760598198, 18.302162099091248, 16.303292056579977, 15.75522340734036, 13.961201631039025, 9.286316530594787, 6.6220105147563935]}, \"tinfo\": {\"Term\": [\"\\u043e\\u0431\\u0440\\u0430\\u0437\\u043e\\u0432\\u0430\\u043d\\u0438\\u0435\", \"\\u0443\\u0447\\u0435\\u0431\\u043d\\u044b\\u0439\", \"\\u0440\\u0435\\u0448\\u0435\\u043d\\u0438\\u0435\", \"\\u0434\\u0435\\u044f\\u0442\\u0435\\u043b\\u044c\\u043d\\u043e\\u0441\\u0442\\u044c\", \"\\u0438\\u0433\\u0440\\u0430\", \"\\u0438\\u0441\\u0441\\u043b\\u0435\\u0434\\u043e\\u0432\\u0430\\u043d\\u0438\\u0435\", \"\\u0447\\u0435\\u043b\\u043e\\u0432\\u0435\\u043a\", \"\\u043e\\u0431\\u0443\\u0447\\u0435\\u043d\\u0438\\u0435\", \"\\u043e\\u0431\\u0443\\u0447\\u0430\\u0442\\u044c\\u0441\\u044f\", \"\\u0440\\u0430\\u0437\\u0432\\u0438\\u0442\\u0438\\u0435\", \"\\u0440\\u0435\\u0431\\u0451\\u043d\\u043e\\u043a\", \"\\u043e\\u0431\\u0449\\u0435\\u0441\\u0442\\u0432\\u043e\", \"\\u0436\\u0438\\u0437\\u043d\\u044c\", \"\\u043f\\u0440\\u043e\\u0433\\u0440\\u0430\\u043c\\u043c\\u0430\", \"\\u0443\\u043f\\u0440\\u0430\\u0432\\u043b\\u0435\\u043d\\u0438\\u0435\", \"\\u043e\\u0431\\u0440\\u0430\\u0437\\u043e\\u0432\\u0430\\u0442\\u0435\\u043b\\u044c\\u043d\\u044b\\u0439\", \"\\u043a\\u0440\\u0435\\u0434\\u0438\\u0442\", \"\\u043c\\u0430\\u0442\\u0435\\u0440\\u0438\\u0430\\u043b\", \"\\u0447\\u0435\\u043b\\u043e\\u0432\\u0435\\u0447\\u0435\\u0441\\u0442\\u0432\\u043e\", \"\\u0441\\u0442\\u0443\\u0434\\u0435\\u043d\\u0442\", \"\\u0440\\u0430\\u0431\\u043e\\u0442\\u0430\", \"\\u0434\\u0438\\u0441\\u0446\\u0438\\u043f\\u043b\\u0438\\u043d\\u0430\", \"\\u043f\\u0440\\u043e\\u0446\\u0435\\u0441\\u0441\", \"\\u0441\\u043e\\u0441\\u0442\\u043e\\u044f\\u043d\\u0438\\u0435\", \"\\u0437\\u0430\\u0434\\u0430\\u0447\\u0430\", \"\\u043e\\u0441\\u043d\\u043e\\u0432\\u0430\", \"\\u043e\\u0440\\u0433\\u0430\\u043d\\u0438\\u0437\\u0430\\u0446\\u0438\\u044f\", \"\\u0438\\u043d\\u0444\\u043e\\u0440\\u043c\\u0430\\u0446\\u0438\\u044f\", \"\\u043d\\u0430\\u0443\\u0447\\u043d\\u044b\\u0439\", \"\\u0433\\u043e\\u0434\", \"\\u0440\\u0430\\u043d\\u0433\", \"\\u0438\\u043d\\u0432\\u0430\\u043b\\u0438\\u0434\\u043d\\u043e\\u0441\\u0442\\u044c\", \"\\u043a\\u0430\\u0434\\u0435\\u0442\", \"\\u0438\\u043c\\u0438\\u0434\\u0436\", \"yfti_irow\", \"\\u0438\\u043c\\u0438\\u0434\\u0436_\\u043f\\u0440\\u0435\\u043f\\u043e\\u0434\\u0430\\u0432\\u0430\\u0442\\u0435\\u043b\\u044c\", \"\\u043a\\u043e\\u043d\\u043a\\u0443\\u0440\\u0435\\u043d\\u0442\\u043d\\u044b\\u0439_\\u0432\\u0437\\u0430\\u0438\\u043c\\u043e\\u0434\\u0435\\u0438\\u0441\\u0442\\u0432\\u0438\\u0435\", \"\\u0434\\u0435\\u043f\\u0440\\u0438\\u0432\\u0430\\u0446\\u0438\\u044f\", \"\\u0444\\u043e\\u0440\\u043c\\u0438\\u0440\\u043e\\u0432\\u0430\\u043d\\u0438\\u0435_\\u0433\\u0440\\u0430\\u0436\\u0434\\u0430\\u043d\\u0441\\u043a\\u043e\\u0439_\\u0438\\u0434\\u0435\\u043d\\u0442\\u0438\\u0447\\u043d\\u043e\\u0441\\u0442\\u044c\", \"\\u0434\\u0435\\u0442\\u0441\\u043a\\u0438\\u0439_\\u0434\\u043e\\u043c\", \"\\u043f\\u043e\\u0441\\u0442\\u0440\\u043e\\u0435\\u043d\\u0438\\u0435_\\u0441\\u043e\\u0446\\u0438\\u0430\\u043b\\u044c\\u043d\\u044b\\u0439\", \"\\u043a\\u0430\\u0434\\u0435\\u0442\\u0441\\u043a\\u0438\\u0439\", \"\\u0433\\u0440\\u0430\\u0436\\u0434\\u0430\\u043d\\u0441\\u043a\\u043e\\u0439_\\u0441\\u043e\\u0446\\u0438\\u0430\\u043b\\u0438\\u0437\\u0430\\u0446\\u0438\\u044f\", \"peers\", \"\\u043f\\u0438\\u0441\\u044c\\u043c\\u043e_\\u0437\\u0430\\u043a\\u0430\\u0437\", \"\\u043d\\u0430\\u0441\\u0442\\u0430\\u0432\\u043d\\u0438\\u0447\\u0435\\u0441\\u0442\\u0432\\u043e\", \"\\u043c\\u0430\\u0442\\u044c\", \"\\u043f\\u0440\\u0435\\u0434\", \"\\u0441\\u0438\\u0440\\u043e\\u0442\\u0430\", \"\\u0443\\u0440\\u043e\\u043a_\\u0438\\u043d\\u043a\\u043b\\u044e\\u0437\\u0438\\u0432\\u043d\\u044b\\u0439_\\u043e\\u0431\\u0449\\u0435\\u043d\\u0438\\u0435\", \"\\u0441\\u043e\\u043f\\u0435\\u0440\\u043d\\u0438\\u0447\\u0435\\u0441\\u0442\\u0432\\u043e\", \"local_pref\", \"\\u043a\\u0438\\u0442\\u0430\\u0438\\u0441\\u043a\\u0438\\u0439\", \"\\u043e\\u0431\\u0449\\u0435\\u0436\\u0438\\u0442\\u0438\\u0435\", \"\\u0433\\u0440\\u0430\\u0436\\u0434\\u0430\\u043d\\u0441\\u043a\\u0438\\u0439_\\u0441\\u043e\\u0446\\u0438\\u0430\\u043b\\u0438\\u0437\\u0430\\u0446\\u0438\\u044f\", \"\\u043c\\u0435\\u0436\\u043a\\u0443\\u043b\\u044c\\u0442\\u0443\\u0440\\u043d\\u044b\\u0439\", \"\\u043e\\u0436\\u0438\\u0434\\u0430\\u043d\\u0438\\u0435\", \"\\u0438\\u0442\", \"\\u0445\\u0430\\u0440\\u0431\\u0438\\u043d\", \"\\u0441\\u0442\\u0430\\u0440\\u0448\\u0438\\u0439_\\u043a\\u043b\\u0430\\u0441\\u0441\", \"\\u043f\\u0441\\u0435\\u0432\\u0434\\u043e\\u043d\\u0430\\u0443\\u043a\\u0430\", \"\\u0442\\u0435\\u043c\\u043f\\u0435\\u0440\\u0430\\u043c\\u0435\\u043d\\u0442\", \"\\u043a\\u043e\\u043d\\u043a\\u0443\\u0440\\u0435\\u043d\\u0446\\u0438\\u044f\", \"\\u043d\\u0430\\u0441\\u0442\\u0430\\u0432\\u043d\\u0438\\u043a\", \"\\u043a\\u043e\\u043d\\u043a\\u0443\\u0440\\u0435\\u043d\\u0442\\u043d\\u044b\\u0439\", \"\\u043a\\u043e\\u043c\\u043c\\u0443\\u043d\\u0438\\u043a\\u0430\\u0442\\u0438\\u0432\\u043d\\u044b\\u0439\", \"\\u0430\\u043a\\u0430\\u0434\\u0435\\u043c\\u0438\\u044f\", \"\\u043f\\u0440\\u043e\\u0434\\u0443\\u043a\\u0442\\u0438\\u0432\\u043d\\u044b\\u0439\", \"\\u043e\\u043a\\u0430\\u0437\\u044b\\u0432\\u0430\\u0442\\u044c\", \"\\u043a\\u043e\\u043c\\u043f\\u043e\\u043d\\u0435\\u043d\\u0442\", \"\\u043e\\u0431\\u0449\\u0435\\u043d\\u0438\\u0435\", \"\\u0441\\u043e\\u0442\\u0440\\u0443\\u0434\\u043d\\u0438\\u043a\", \"\\u0443\\u0447\\u0438\\u0442\\u044c\\u0441\\u044f\", \"\\u043a\\u043e\\u043c\\u043c\\u0443\\u043d\\u0438\\u043a\\u0430\\u0446\\u0438\\u044f\", \"\\u0444\\u0430\\u043a\\u0442\\u043e\\u0440\", \"\\u043b\\u0438\\u0447\\u043d\\u043e\\u0441\\u0442\\u044c\", \"\\u0447\\u0435\\u043b\\u043e\\u0432\\u0435\\u043a\", \"\\u0432\\u0437\\u0430\\u0438\\u043c\\u043e\\u0434\\u0435\\u0438\\u0441\\u0442\\u0432\\u0438\\u0435\", \"\\u0434\\u0435\\u043b\\u043e\\u0432\\u043e\\u0439\", \"\\u043e\\u0431\\u0449\\u0435\\u0441\\u0442\\u0432\\u043e\", \"\\u0444\\u043e\\u0440\\u043c\\u0438\\u0440\\u043e\\u0432\\u0430\\u043d\\u0438\\u0435\", \"\\u0441\\u043e\\u0446\\u0438\\u0430\\u043b\\u0438\\u0437\\u0430\\u0446\\u0438\\u044f\", \"\\u043e\\u0431\\u0440\\u0430\\u0437\\u043e\\u0432\\u0430\\u043d\\u0438\\u0435\", \"\\u0443\\u0440\\u043e\\u0432\\u0435\\u043d\\u044c\", \"\\u043f\\u0440\\u043e\\u0446\\u0435\\u0441\\u0441\", \"\\u0434\\u0435\\u044f\\u0442\\u0435\\u043b\\u044c\\u043d\\u043e\\u0441\\u0442\\u044c\", \"\\u043a\\u0430\\u0447\\u0435\\u0441\\u0442\\u0432\\u043e\", \"\\u0443\\u0441\\u043b\\u043e\\u0432\\u0438\\u0435\", \"\\u044f\\u0432\\u043b\\u044f\\u0442\\u044c\\u0441\\u044f\", \"\\u043d\\u043e\\u0432\\u044b\\u0439\", \"\\u0440\\u0430\\u0437\\u0432\\u0438\\u0442\\u0438\\u0435\", \"\\u043a\\u0443\\u043b\\u044c\\u0442\\u0443\\u0440\\u0430\", \"\\u0433\\u0440\\u0443\\u043f\\u043f\\u0430\", \"\\u043b\\u044e\\u0434\\u0435\\u044f\", \"\\u0440\\u0435\\u0431\\u0451\\u043d\\u043e\\u043a\", \"\\u0440\\u0430\\u0431\\u043e\\u0442\\u0430\", \"\\u043e\\u0431\\u0443\\u0447\\u0435\\u043d\\u0438\\u0435\", \"\\u0432\\u0443\\u0437\", \"\\u043f\\u0440\\u0435\\u043f\\u043e\\u0434\\u0430\\u0432\\u0430\\u0442\\u0435\\u043b\\u044c\", \"\\u0437\\u043d\\u0430\\u043d\\u0438\\u0435\", \"\\u0441\\u0442\\u0443\\u0434\\u0435\\u043d\\u0442\", \"\\u0438\\u0441\\u0441\\u043b\\u0435\\u0434\\u043e\\u0432\\u0430\\u043d\\u0438\\u0435\", \"\\u043f\\u0440\\u043e\\u0431\\u043b\\u0435\\u043c\\u0430\", \"\\u0441\\u0438\\u0441\\u0442\\u0435\\u043c\\u0430\", \"\\u0441\\u043e\\u0432\\u0440\\u0435\\u043c\\u0435\\u043d\\u043d\\u044b\\u0439\", \"\\u0438\\u043d\\u0444\\u043e\\u0440\\u043c\\u0430\\u0446\\u0438\\u044f\", \"\\u0440\\u0435\\u0437\\u0443\\u043b\\u044c\\u0442\\u0430\\u0442\", \"\\u0437\\u0430\\u0434\\u0430\\u0447\\u0430\", \"\\u0432\\u043e\\u0437\\u043c\\u043e\\u0436\\u043d\\u043e\\u0441\\u0442\\u044c\", \"\\u043f\\u0435\\u0440\\u0444\\u0435\\u043a\\u0446\\u0438\\u043e\\u043d\\u0438\\u0437\\u043c\", \"\\u043f\\u0435\\u0440\\u0444\\u0435\\u043a\\u0446\\u0438\\u043e\\u043d\\u0438\\u0441\\u0442\", \"kr\", \"qa\", \"rh\", \"vy\", \"ix\", \"tn\", \"fo\", \"te\", \"om\", \"zl\", \"ht\", \"mn\", \"oa\", \"sf\", \"nz\", \"dw\", \"kb\", \"cf\", \"bn\", \"uc\", \"nq\", \"ny\", \"ay\", \"ou\", \"yt\", \"pc\", \"ji\", \"rs\", \"\\u043c\\u043e\\u0431\\u0438\\u043b\\u044c\\u043d\\u044b\\u0439\", \"\\u043f\\u0443\\u0431\\u043b\\u0438\\u043a\\u0430\\u0446\\u0438\\u044f\", \"\\u043e\\u0431\\u0443\\u0447\\u0435\\u043d\\u0438\\u0435\", \"\\u043c\\u043e\\u0431\\u0438\\u043b\\u044c\\u043d\\u044b\\u0439_\\u0443\\u0441\\u0442\\u0440\\u043e\\u0438\\u0441\\u0442\\u0432\\u043e\", \"\\u0441\\u0440\\u0435\\u0434\\u0441\\u0442\\u0432\\u043e\", \"\\u0441\\u0442\\u0443\\u0434\\u0435\\u043d\\u0442\", \"\\u0434\\u043e\\u0441\\u0442\\u0443\\u043f\", \"\\u0441\\u0438\\u0441\\u0442\\u0435\\u043c\\u0430\", \"\\u0443\\u0447\\u0435\\u0431\\u043d\\u044b\\u0439\", \"\\u0434\\u0430\\u0442\\u044c\\u0441\\u044f\", \"\\u0440\\u0430\\u0431\\u043e\\u0442\\u0430\", \"\\u0441\\u043e\\u0432\\u0435\\u0440\\u0448\\u0435\\u043d\\u0441\\u0442\\u0432\\u043e\", \"\\u0432\\u043e\\u0437\\u043c\\u043e\\u0436\\u043d\\u043e\\u0441\\u0442\\u044c\", \"\\u043c\\u0435\\u0441\\u0442\\u043e\", \"\\u043c\\u0430\\u0442\\u0435\\u0440\\u0438\\u0430\\u043b\", \"\\u0438\\u0441\\u043f\\u043e\\u043b\\u044c\\u0437\\u043e\\u0432\\u0430\\u043d\\u0438\\u0435\", \"\\u043b\\u044e\\u0431\\u043e\\u0439\", \"\\u0432\\u0440\\u0435\\u043c\\u044f\", \"\\u044d\\u043b\\u0435\\u043a\\u0442\\u0440\\u043e\\u043d\\u043d\\u044b\\u0439\", \"\\u043f\\u0440\\u043e\\u0446\\u0435\\u0441\\u0441\", \"\\u044f\\u0432\\u043b\\u044f\\u0442\\u044c\\u0441\\u044f\", \"\\u0438\\u0437\\u0434\\u0430\\u043d\\u0438\\u0435\", \"\\u043f\\u0440\\u0435\\u043f\\u043e\\u0434\\u0430\\u0432\\u0430\\u0442\\u0435\\u043b\\u044c\", \"\\u043f\\u043e\\u043c\\u043e\\u0449\\u044c\", \"\\u0444\\u043e\\u0440\\u043c\\u0430\", \"pv\", \"\\u0440\\u0430\\u0434\\u0438\\u043e\", \"\\u044d\\u043b\\u0435\\u043a\\u0442\\u0440\\u043e\\u043d\\u043d\\u044b\\u0439_\\u0436\\u0443\\u0440\\u043d\\u0430\\u043b\", \"\\u044f\\u0447\\u0435\\u0438\\u043a\", \"\\u0441\\u0442\\u0430\\u043d\\u0446\\u0438\\u044f\", \"\\u043a\\u043e\\u043b\\u0438\\u0447\\u0435\\u0441\\u0442\\u0432\\u043e_\\u0431\\u043e\\u0435\\u043f\\u0440\\u0438\\u043f\\u0430\\u0441\", \"\\u0441\\u043e\\u0446\\u0438\\u0430\\u043b\\u044c\\u043d\\u044b\\u0439_\\u0441\\u0435\\u0442\\u044c\", \"\\u043c\\u0430\\u0440\\u0448\\u0440\\u0443\\u0442\\u0438\\u0437\\u0430\\u0442\\u043e\\u0440\", \"\\u0434\\u0430\\u043b\\u044c\\u043d\\u043e\\u0441\\u0442\\u044c\", \"\\u0434\\u0435\\u0432\\u0438\\u0430\\u043d\\u0442\\u043d\\u044b\\u0439_\\u043f\\u043e\\u0432\\u0435\\u0434\\u0435\\u043d\\u0438\\u0435\", \"\\u0437\\u0435\\u0440\\u043a\\u0430\\u043b\\u043e\", \"\\u0441\\u0432\\u0434\", \"\\u0440\\u0435\\u0434\\u0430\\u043a\\u0442\\u043e\\u0440\", \"\\u043b\\u0438\\u0441\\u0442_\\u0431\\u043e\\u0435\\u043f\\u0440\\u0438\\u043f\\u0430\\u0441\", \"\\u043f\\u043e\\u0434\\u0445\\u043e\\u0434_\\u043f\\u0435\\u0434\\u0430\\u0433\\u043e\\u0433_\\u043f\\u0440\\u0430\\u043a\\u0442\\u0438\\u043a\", \"\\u043f\\u0438\\u0441\\u0430\\u0442\\u0435\\u043b\\u044c\", \"\\u0431\\u043e\\u0435\\u043f\\u0440\\u0438\\u043f\\u0430\\u0441\", \"ibb_co\", \"\\u043e\\u0431\\u043b\\u0430\\u043a\\u043e\", \"\\u0441\\u043e\\u0444\\u0442\", \"\\u043f\\u0440\\u043e\\u0444\\u043e\\u0440\\u0438\\u0435\\u043d\\u0442\\u0430\\u0446\\u0438\\u044f\", \"\\u0430\\u043a\\u043a\\u0430\\u0443\\u043d\\u0442\", \"youtube\", \"\\u044d\\u043f\\u0438\\u0437\\u043e\\u0434\", \"\\u0441\\u0442\\u0440\\u0430\\u043d\\u0438\\u0447\\u043a\\u0430\", \"\\u0444\\u0433\\u043e\\u0441_\\u0432\\u043f\\u043e\", \"\\u0441\\u0435\\u0440\\u0432\\u0438\\u0441\", \"\\u043c\\u0443\\u0437\\u044b\\u043a\\u0430\", \"\\u0442\\u043e\\u043f\\u043e\\u043b\\u043e\\u0433\\u0438\\u044f\", \"\\u044d\\u043d\\u0434\\u0430\\u0443\\u043c\\u0435\\u043d\\u0442_\\u0444\\u043e\\u043d\\u0434\", \"cadena\", \"\\u043c\\u0438\\u0448\\u0435\\u043d\\u044c\", \"\\u043c\\u0443\\u0437\\u044b\\u043a\\u0430\\u043b\\u044c\\u043d\\u044b\\u0439\", \"\\u043f\\u043b\\u0430\\u0442\\u0444\\u043e\\u0440\\u043c\\u0430\", \"\\u0432\\u0438\\u0437\\u0443\\u0430\\u043b\\u044c\\u043d\\u044b\\u0439\", \"\\u0441\\u043e\\u0446\\u0438\\u0430\\u043b\\u044c\\u043d\\u044b\\u0439_\\u0441\\u0435\\u0442\\u0435\\u044f\", \"\\u0438\\u0441\\u043f\\u044b\\u0442\\u0443\\u0435\\u043c\\u044b\\u0439\", \"\\u0431\\u0435\\u0441\\u043f\\u043b\\u0430\\u0442\\u043d\\u044b\\u0439\", \"\\u0443\\u043c\\u043a\", \"\\u0438\\u0441\\u043f\\u043e\\u043b\\u044c\\u0437\\u043e\\u0432\\u0430\\u043d\\u0438\\u0435_\\u0441\\u043e\\u0446\\u0438\\u0430\\u043b\\u044c\\u043d\\u044b\\u0439_\\u0441\\u0435\\u0442\\u0435\\u044f\", \"\\u043f\\u043e\\u0434\\u0440\\u043e\\u0441\\u0442\\u043e\\u043a\", \"\\u0441\\u0441\\u044b\\u043b\\u043a\\u0430\", \"\\u0434\\u043e\\u043a\\u0443\\u043c\\u0435\\u043d\\u0442\", \"\\u0443\\u0447\\u0435\\u043d\\u0438\\u043a\", \"\\u0441\\u0430\\u0438\\u0442\", \"\\u0440\\u0430\\u0431\\u043e\\u0442\\u0430\", \"\\u043f\\u043e\\u043b\\u044c\\u0437\\u043e\\u0432\\u0430\\u0442\\u0435\\u043b\\u044c\", \"\\u0433\\u0443\\u043c\\u0430\\u043d\\u0438\\u0442\\u0430\\u0440\\u043d\\u044b\\u0439\", \"\\u0438\\u043d\\u0444\\u043e\\u0440\\u043c\\u0430\\u0446\\u0438\\u044f\", \"\\u0432\\u043e\\u0441\\u043f\\u0440\\u0438\\u044f\\u0442\\u0438\\u0435\", \"\\u0442\\u0430\\u0431\\u043b\\u0438\\u0446\\u0430\", \"\\u043a\\u043b\\u0430\\u0441\\u0441\", \"\\u0441\\u0442\\u0443\\u0434\\u0435\\u043d\\u0442\", \"\\u0438\\u0441\\u043f\\u043e\\u043b\\u044c\\u0437\\u043e\\u0432\\u0430\\u0442\\u044c\", \"\\u0433\\u0440\\u0443\\u043f\\u043f\\u0430\", \"\\u0442\\u0435\\u043a\\u0441\\u0442\", \"\\u0441\\u0438\\u0441\\u0442\\u0435\\u043c\\u0430\", \"\\u0432\\u043e\\u0437\\u043c\\u043e\\u0436\\u043d\\u043e\\u0441\\u0442\\u044c\", \"\\u043f\\u0440\\u043e\\u0446\\u0435\\u0441\\u0441\", \"\\u043e\\u0431\\u0440\\u0430\\u0437\\u043e\\u0432\\u0430\\u043d\\u0438\\u0435\", \"\\u0441\\u043e\\u0437\\u0434\\u0430\\u043d\\u0438\\u0435\", \"\\u0448\\u043a\\u043e\\u043b\\u0430\", \"\\u043f\\u043e\\u0434\\u0445\\u043e\\u0434\", \"\\u043e\\u0431\\u0443\\u0447\\u0435\\u043d\\u0438\\u0435\", \"\\u0440\\u0430\\u0437\\u043b\\u0438\\u0447\\u043d\\u044b\\u0439\", \"\\u0438\\u043d\\u0442\\u0435\\u0440\\u043d\\u0435\\u0442\", \"\\u0443\\u0447\\u0435\\u0431\\u043d\\u044b\\u0439\", \"\\u0432\\u043e\\u043f\\u0440\\u043e\\u0441\", \"\\u0434\\u043e\\u0441\\u0442\\u0443\\u043f\", \"\\u0432\\u0440\\u0435\\u043c\\u044f\", \"\\u0443\\u0447\\u0438\\u0442\\u044c\\u0441\\u044f\", \"\\u043e\\u0431\\u0440\\u0430\\u0437\", \"\\u044f\\u0432\\u043b\\u044f\\u0442\\u044c\\u0441\\u044f\", \"\\u0440\\u0435\\u0437\\u0443\\u043b\\u044c\\u0442\\u0430\\u0442\", \"\\u043f\\u043e\\u0437\\u0432\\u043e\\u043b\\u044f\\u0442\\u044c\", \"\\u0438\\u0441\\u043f\\u043e\\u043b\\u044c\\u0437\\u043e\\u0432\\u0430\\u043d\\u0438\\u0435\", \"\\u0440\\u0430\\u0437\\u0432\\u0438\\u0442\\u0438\\u0435\", \"\\u0438\\u0441\\u0441\\u043b\\u0435\\u0434\\u043e\\u0432\\u0430\\u043d\\u0438\\u0435\", \"\\u0434\\u0435\\u044f\\u0442\\u0435\\u043b\\u044c\\u043d\\u043e\\u0441\\u0442\\u044c\", \"\\u0446\\u0435\\u043b\\u044c\", \"\\u043a\\u0443\\u0440\\u0441_\\u043e\\u0440\\u043a\\u0441\\u044d\", \"\\u043f\\u0435\\u0440\\u0435\\u0430\\u0442\\u0442\\u0435\\u0441\\u0442\\u0430\\u0446\\u0438\\u044f\", \"\\u0440\\u0435\\u043c\\u0435\\u0441\\u043b\\u043e\", \"\\u0434\\u0435\\u0442\\u0430\\u043b\\u0435\\u0439\", \"\\u043d\\u0430\\u0440\\u043e\\u0434\\u043d\\u044b\\u0439_\\u0440\\u0435\\u043c\\u0435\\u0441\\u043b\\u043e\", \"\\u043f\\u0435\\u0440\\u043c\\u0441\\u043a\\u0438\\u0439_\\u043a\\u0440\\u0430\\u0439\", \"\\u0441\\u0432\\u0435\\u0442\\u0441\\u043a\\u043e\\u0439_\\u044d\\u0442\\u0438\\u043a\\u0430\", \"\\u0438\\u0437\\u043c\\u0435\\u0440\\u0435\\u043d\\u043d\\u044b\\u0439\", \"\\u0440\\u043e\\u0434\\u0441\\u0442\\u0432\\u0435\\u043d\\u043d\\u044b\\u0439\", \"\\u0440\\u043e\\u0431\\u043e\\u0442\\u043e\\u0442\\u0435\\u0445\\u043d\\u0438\\u043a\\u0430\", \"\\u0438\\u043d\\u0432\\u0430\\u0440\\u0438\\u0430\\u043d\\u0442\\u043d\\u044b\\u0439\", \"\\u0434\\u043e\\u043c\\u0438\\u043d\\u0430\\u043d\\u0442\\u043d\\u044b\\u0439_\\u043e\\u0431\\u044a\\u0435\\u043a\\u0442_\\u043f\\u0440\\u0430\\u043a\\u0442\\u0438\\u0447\\u0435\\u0441\\u043a\\u043e\\u0439\", \"\\u043e\\u0440\\u043a\\u0441\\u044d\", \"\\u043f\\u0435\\u0440\\u043c\\u044c\", \"\\u0432\\u043e\\u0435\\u043d\\u043d\\u043e\\u0441\\u043b\\u0443\\u0436\\u0430\\u0449\\u0438\\u0439\", \"\\u0441\\u0442\\u0440\\u0435\\u043b\\u043a\\u043e\\u0432\\u044b\\u0439_\\u043a\\u043e\\u043c\\u043f\\u043b\\u0435\\u043a\\u0441\", \"\\u0441\\u0431\\u043e\\u0440\\u043a\\u0430\", \"\\u0432\\u0435\\u0440\\u043e\\u0443\\u0447\\u0435\\u043d\\u0438\\u0435\", \"\\u0432\\u0432\\u0435\\u0434\\u0435\\u043d\\u0438\\u0435_\\u043a\\u0443\\u0440\\u0441_\\u043e\\u0440\\u043a\\u0441\\u044d\", \"\\u0440\\u0435\\u0437\\u044c\\u0431\\u0430\", \"\\u043e\\u0440\\u0433\\u0430\\u043d\\u0438\\u0437\\u0430\\u0446\\u0438\\u043e\\u043d\\u043d\\u043e_\\u043f\\u0435\\u0434\\u0430\\u0433\\u043e\\u0433\\u0438\\u0447\\u0435\\u0441\\u043a\\u0438\\u0439_\\u0443\\u0441\\u043b\\u043e\\u0432\\u0438\\u0435\", \"\\u0443\\u0441\\u043a\\u043e\\u0440\\u0435\\u043d\\u043d\\u044b\\u0439_\\u0441\\u0440\\u043e\\u043a\", \"\\u0434\\u0438\\u0430\\u043c\\u0435\\u0442\\u0440\", \"ffdcc\", \"\\u0432\\u043e\\u0437\\u0440\\u043e\\u0436\\u0434\\u0435\\u043d\\u0438\\u0435_\\u043d\\u0430\\u0440\\u043e\\u0434\\u043d\\u044b\\u0439_\\u0440\\u0435\\u043c\\u0435\\u0441\\u043b\\u043e\", \"\\u043a\\u043e\\u043d\\u0441\\u0442\\u0440\\u0443\\u043a\\u0442\\u043e\\u0440\", \"\\u043f\\u043e\\u0434\\u043b\\u0435\\u0436\\u0430\\u0449\\u0435\\u0435\", \"\\u043e\\u043f\\u043e\\u0440\\u043d\\u044b\\u0439\", \"\\u043f\\u0440\\u043e\\u0435\\u0441\\u0442\\u044c_\\u043c\\u0430\\u0442\\u0435\\u0440\\u0438\\u0430\\u043b\", \"\\u0438\\u0437\\u0433\\u043e\\u0442\\u043e\\u0432\\u043b\\u0435\\u043d\\u0438\\u0435\", \"\\u043f\\u0440\\u043e\\u0435\\u043a\\u0442\\u043d\\u043e\\u0438\\u0442\\u044c_\\u0434\\u0435\\u044f\\u0442\\u0435\\u043b\\u044c\\u043d\\u043e\\u0441\\u0442\\u044c\", \"\\u043a\\u0430\\u043b\\u043b\\u0438\\u0433\\u0440\\u0430\\u0444\\u0438\\u044f\", \"\\u043a\\u043e\\u043b\\u043b\\u0435\\u0434\\u0436\", \"\\u0431\\u043b\\u043e\\u0433\", \"\\u0443\\u0447\\u0435\\u0431\\u043d\\u044b\\u0439\", \"\\u043c\\u043e\\u0434\\u0443\\u043b\\u044c\", \"\\u0440\\u0435\\u043b\\u0438\\u0433\\u0438\\u043e\\u0437\\u043d\\u044b\\u0439\", \"\\u043c\\u0430\\u0442\\u0435\\u0440\\u0438\\u0430\\u043b\", \"\\u0434\\u0438\\u0441\\u0446\\u0438\\u043f\\u043b\\u0438\\u043d\\u0430\", \"\\u043e\\u0431\\u0443\\u0447\\u0430\\u0442\\u044c\\u0441\\u044f\", \"\\u0443\\u0441\\u0432\\u043e\\u0435\\u043d\\u0438\\u0435\", \"\\u0441\\u0432\\u0435\\u0442\\u0441\\u043a\\u0438\\u0439\", \"\\u0443\\u0447\\u0435\\u0431\\u043d\\u043e\\u0439\", \"\\u043f\\u0438\\u0441\\u044c\\u043c\\u043e\", \"\\u043e\\u0431\\u0443\\u0447\\u0435\\u043d\\u0438\\u0435\", \"\\u0442\\u0435\\u0445\\u043d\\u043e\\u043b\\u043e\\u0433\\u0438\\u044f\", \"\\u043a\\u0443\\u0440\\u0441\", \"\\u043c\\u0435\\u0442\\u043e\\u0434\\u0438\\u0447\\u0435\\u0441\\u043a\\u0438\\u0439\", \"\\u0444\\u0443\\u043d\\u043a\\u0446\\u0438\\u044f\", \"\\u0441\\u0442\\u0443\\u0434\\u0435\\u043d\\u0442\", \"\\u0438\\u0441\\u043f\\u043e\\u043b\\u044c\\u0437\\u043e\\u0432\\u0430\\u043d\\u0438\\u0435\", \"\\u043d\\u0430\\u0432\\u044b\\u043a\", \"\\u043f\\u0440\\u043e\\u0435\\u043a\\u0442\", \"\\u044d\\u043b\\u0435\\u043a\\u0442\\u0440\\u043e\\u043d\\u043d\\u044b\\u0439\", \"\\u0432\\u044b\\u043f\\u043e\\u043b\\u043d\\u0435\\u043d\\u0438\\u0435\", \"\\u043f\\u0440\\u043e\\u0446\\u0435\\u0441\\u0441\", \"\\u043e\\u0441\\u043d\\u043e\\u0432\\u0430\", \"\\u0437\\u043d\\u0430\\u043d\\u0438\\u0435\", \"\\u0434\\u0435\\u044f\\u0442\\u0435\\u043b\\u044c\\u043d\\u043e\\u0441\\u0442\\u044c\", \"\\u043f\\u043e\\u0434\\u0433\\u043e\\u0442\\u043e\\u0432\\u043a\\u0430\", \"\\u0440\\u0430\\u0431\\u043e\\u0442\\u0430\", \"\\u0448\\u043a\\u043e\\u043b\\u0430\", \"\\u0440\\u0435\\u0437\\u0443\\u043b\\u044c\\u0442\\u0430\\u0442\", \"\\u044d\\u043b\\u0435\\u043c\\u0435\\u043d\\u0442\", \"\\u0440\\u0435\\u0441\\u0443\\u0440\\u0441\", \"\\u043e\\u0431\\u0440\\u0430\\u0437\\u043e\\u0432\\u0430\\u0442\\u0435\\u043b\\u044c\\u043d\\u044b\\u0439\", \"\\u043f\\u0440\\u043e\\u0433\\u0440\\u0430\\u043c\\u043c\\u0430\", \"\\u0438\\u0437\\u0443\\u0447\\u0435\\u043d\\u0438\\u0435\", \"\\u0432\\u043e\\u0437\\u043c\\u043e\\u0436\\u043d\\u043e\\u0441\\u0442\\u044c\", \"\\u0438\\u043d\\u0444\\u043e\\u0440\\u043c\\u0430\\u0446\\u0438\\u044f\", \"\\u0443\\u0447\\u0438\\u0442\\u0435\\u043b\\u044c\", \"\\u043e\\u0440\\u0433\\u0430\\u043d\\u0438\\u0437\\u0430\\u0446\\u0438\\u044f\", \"\\u044f\\u0432\\u043b\\u044f\\u0442\\u044c\\u0441\\u044f\", \"\\u043e\\u0431\\u0440\\u0430\\u0437\\u043e\\u0432\\u0430\\u043d\\u0438\\u0435\", \"\\u0431\\u0430\\u0441\\u043a\\u0435\\u0442\\u0431\\u043e\\u043b\", \"\\u0441\\u0443\\u0431\\u044a\\u0435\\u043a\\u0442_\\u0443\\u043f\\u0440\\u0430\\u0432\\u043b\\u0435\\u043d\\u0438\\u0435\", \"\\u043d\\u043f\\u0440\", \"\\u043c\\u044f\\u0447\", \"\\u043d\\u0430\\u0443\\u0447\\u043d\\u043e_\\u043f\\u0435\\u0434\\u0430\\u0433\\u043e\\u0433\\u0438\\u0447\\u0435\\u0441\\u043a\\u0438\\u0439_\\u0440\\u0435\\u0448\\u0435\\u043d\\u0438\\u0435\", \"\\u043f\\u043e\\u0434\\u0432\\u0438\\u0436\\u043d\\u044b\\u0439_\\u0438\\u0433\\u0440\\u0430\", \"\\u043a\\u0440\\u0435\\u0434\\u0438\\u0442\\u043e\\u0432\\u0430\\u043d\\u0438\\u0435\", \"\\u0442\\u0435\\u043e\\u0440\\u0438\\u044f_\\u043c\\u0435\\u0442\\u043e\\u0434\\u0438\\u043a\\u0430\", \"\\u0437\\u0430\\u0451\\u043c\\u0449\\u0438\\u043a\", \"\\u0441\\u0438\\u0442\\u0443\\u0430\\u0446\\u0438\\u044f_\\u043a\\u0440\\u0438\\u0437\\u0438\\u0441\", \"\\u0434\\u0438\\u0430\\u0433\\u0440\\u0430\\u043c\\u043c\\u0430_\\u0441\\u0442\\u0440\\u0443\\u043a\\u0442\\u0443\\u0440\\u0430\", \"\\u0433\\u0438\\u0441\\u0442\\u043e\\u0433\\u0440\\u0430\\u043c\\u043c\\u0430\", \"\\u0434\\u043e\\u043a\\u0442\\u043e\\u0440\\u0441\\u043a\\u0438\\u0439\", \"\\u0434\\u043e\\u043b\\u0435\\u0432\\u043e\\u0439\", \"\\u0438\\u0433\\u0440\\u043e\\u043a\", \"\\u0434\\u043e\\u043a\\u0442\\u043e\\u0440\\u0441\\u043a\\u0438\\u0439_\\u0438\\u0441\\u0441\\u043b\\u0435\\u0434\\u043e\\u0432\\u0430\\u043d\\u0438\\u0435\", \"\\u0443\\u0437\\u0431\\u0435\\u043a\\u0438\\u0441\\u0442\\u0430\\u043d\", \"mathcad\", \"\\u0447\\u0435\\u043b\\u043e\\u0432\\u0435\\u0447\\u0435\\u0441\\u043a\\u0438\\u0439_\\u0444\\u0430\\u043a\\u0442\\u043e\\u0440\", \"\\u0441\\u0432_max\", \"\\u0430\\u0432\\u0442\\u043e\\u0440\\u0435\\u0444\\u0435\\u0440\\u0430\\u0442_\\u0434\\u043e\\u043a\\u0442\\u043e\\u0440\\u0441\\u043a\\u0438\\u0439_\\u0438\\u0441\\u0441\\u043b\\u0435\\u0434\\u043e\\u0432\\u0430\\u043d\\u0438\\u0435\", \"\\u0432\\u044b\\u0434\\u0435\\u043b\\u0438\\u0442\\u044c_\\u043d\\u0430\\u0438\\u0431\\u043e\\u043b\\u0435\\u0435_\\u0447\\u0430\\u0441\\u0442\\u043e\", \"\\u0447\\u0430\\u0441\\u0442\\u043d\\u043e\\u0435\", \"\\u043f\\u0440\\u043e\\u0431\\u043b\\u0435\\u043c\\u043d\\u043e\\u0438\\u0442\\u044c\", \"min\", \"\\u0441\\u0433_\\u0441\\u0432\", \"\\u0442\\u0435\\u043e\\u0440\\u0435\\u0442\\u0438\\u0447\\u0435\\u0441\\u043a\\u0438\\u044f_\\u0430\\u043d\\u0430\\u043b\\u0438\\u0437\", \"\\u0432\\u0438\\u0434\\u0435\\u043e\\u0438\\u0433\\u0440\\u0430\", \"\\u0441\\u0431\\u0435\\u0440\\u0431\\u0430\\u043d\\u043a\", \"\\u0435\\u0434\", \"\\u043f\\u0440\\u043e\\u0446\\u0435\\u043d\\u0442\\u043d\\u044b\\u0439_\\u0441\\u0442\\u0430\\u0432\\u043a\\u0430\", \"\\u043c\\u0435\\u0436\\u043e\\u0442\\u0440\\u0430\\u0441\\u043b\\u0435\\u0432\\u043e\\u0439\", \"\\u043a\\u0440\\u0435\\u0434\\u0438\\u0442\", \"\\u0443\\u043f\\u0440\\u0430\\u0432\\u043b\\u0435\\u043d\\u0447\\u0435\\u0441\\u043a\\u043e\\u0439\", \"\\u0432\\u044b\\u0431\\u043e\\u0440\\u043a\\u0430\", \"\\u043c\\u0430\\u0442\\u0440\\u0438\\u0446\\u0430\", \"\\u0431\\u0430\\u043d\\u043a\", \"\\u0438\\u0433\\u0440\\u0430\", \"\\u043c\\u0430\\u0442\\u0435\\u043c\\u0430\\u0442\\u0438\\u0447\\u0435\\u0441\\u043a\\u0438\\u0439\", \"\\u0438\\u0433\\u0440\\u043e\\u0432\\u043e\\u0439\", \"\\u043c\\u0435\\u0442\\u043e\\u0434\\u043e\\u043b\\u043e\\u0433\\u0438\\u044f\", \"\\u0434\\u0438\\u0430\\u0433\\u0440\\u0430\\u043c\\u043c\\u0430\", \"\\u043a\\u043e\\u043d\\u0446\\u0435\\u043f\\u0442\\u0443\\u0430\\u043b\\u044c\\u043d\\u044b\\u0439\", \"\\u0441\\u0442\\u0430\\u0442\\u0438\\u0441\\u0442\\u0438\\u0447\\u0435\\u0441\\u043a\\u0438\\u0439\", \"\\u0440\\u0435\\u0448\\u0435\\u043d\\u0438\\u0435\", \"\\u0442\\u0435\\u043e\\u0440\\u0438\\u044f\", \"\\u0443\\u043f\\u0440\\u0430\\u0432\\u043b\\u0435\\u043d\\u0438\\u0435\", \"\\u043a\\u043b\\u0430\\u0441\\u0441\\u0438\\u0444\\u0438\\u043a\\u0430\\u0446\\u0438\\u044f\", \"geekpic_upload_shards_midthumbs\", \"\\u0438\\u0441\\u0441\\u043b\\u0435\\u0434\\u043e\\u0432\\u0430\\u043d\\u0438\\u0435\", \"\\u0441\\u043e\\u0441\\u0442\\u043e\\u044f\\u043d\\u0438\\u0435\", \"\\u044d\\u043a\\u043e\\u043d\\u043e\\u043c\\u0438\\u0447\\u0435\\u0441\\u043a\\u0438\\u0439\", \"\\u043d\\u0430\\u043f\\u0440\\u0430\\u0432\\u043b\\u0435\\u043d\\u043d\\u043e\\u0441\\u0442\\u044c\", \"\\u043d\\u0430\\u0443\\u0447\\u043d\\u044b\\u0439\", \"\\u0437\\u0430\\u0434\\u0430\\u0447\\u0430\", \"\\u0441\\u0443\\u0431\\u044a\\u0435\\u043a\\u0442\", \"\\u043c\\u043e\\u0434\\u0435\\u043b\\u044c\", \"\\u0442\\u0435\\u0445\\u043d\\u0438\\u0447\\u0435\\u0441\\u043a\\u0438\\u0439\", \"\\u0432\\u044b\\u0431\\u043e\\u0440\", \"\\u0440\\u0430\\u0437\\u0432\\u0438\\u0442\\u0438\\u0435\", \"\\u0434\\u0435\\u044f\\u0442\\u0435\\u043b\\u044c\\u043d\\u043e\\u0441\\u0442\\u044c\", \"\\u0430\\u043d\\u0430\\u043b\\u0438\\u0437\", \"\\u043e\\u0441\\u043d\\u043e\\u0432\\u0430\", \"\\u0440\\u0435\\u0437\\u0443\\u043b\\u044c\\u0442\\u0430\\u0442\", \"\\u043f\\u0440\\u043e\\u0431\\u043b\\u0435\\u043c\\u0430\", \"\\u043f\\u0435\\u0434\\u0430\\u0433\\u043e\\u0433\\u0438\\u0447\\u0435\\u0441\\u043a\\u0438\\u0439\", \"\\u0441\\u0438\\u0441\\u0442\\u0435\\u043c\\u0430\", \"\\u043c\\u0435\\u0442\\u043e\\u0434\", \"\\u043e\\u0431\\u0440\\u0430\\u0437\\u043e\\u0432\\u0430\\u043d\\u0438\\u0435\", \"\\u0441\\u0442\\u0440\\u0443\\u043a\\u0442\\u0443\\u0440\\u0430\", \"\\u043a\\u0430\\u0447\\u0435\\u0441\\u0442\\u0432\\u043e\", \"\\u0441\\u0438\\u0442\\u0443\\u0430\\u0446\\u0438\\u044f\", \"\\u043f\\u0440\\u043e\\u0446\\u0435\\u0441\\u0441\", \"\\u044d\\u0442\\u0430\\u043f\", \"\\u043e\\u0431\\u0443\\u0447\\u0435\\u043d\\u0438\\u0435\", \"\\u0447\\u0435\\u043b\\u043e\\u0432\\u0435\\u043a\", \"\\u0443\\u0441\\u043b\\u043e\\u0432\\u0438\\u0435\", \"\\u0432\\u043e\\u043f\\u0440\\u043e\\u0441\", \"\\u043a\\u043b\\u0430\\u0441\\u0441\\u043e\\u0432\\u044b\\u0439\", \"\\u0438\\u043b\\u044c\\u0438\\u043d\", \"\\u043f\\u0440\\u043e\\u0435\\u043a\\u0442_\\u0447\\u0435\\u043b\\u043e\\u0432\\u0435\\u0447\\u0435\\u0441\\u043a\\u0438\\u0439_\\u043e\\u0431\\u0449\\u0435\\u0441\\u0442\\u0432\\u043e\", \"\\u0437\\u043b\\u043e\", \"\\u0441\\u0435\\u0440\\u0434\\u0446\\u0435\", \"\\u043e\\u0441\\u043d\\u043e\\u0432\\u043d\\u044b\\u0439_\\u0432\\u043e\\u043f\\u0440\\u043e\\u0441_\\u0444\\u0438\\u043b\\u043e\\u0441\\u043e\\u0444\\u0438\\u044f\", \"\\u0437\\u0435\\u043c\\u043b\\u044f\", \"\\u0441\\u043e\\u0437\\u0435\\u0440\\u0446\\u0430\\u043d\\u0438\\u0435\", \"\\u043f\\u0440\\u0435\\u0434\\u044b\\u0441\\u0442\\u043e\\u0440\\u0438\\u044f_\\u0447\\u0435\\u043b\\u043e\\u0432\\u0435\\u0447\\u0435\\u0441\\u0442\\u0432\\u043e\", \"\\u043e\\u0431\\u0449\\u0435\\u0441\\u0442\\u0432\\u043e\\u0437\\u043d\\u0430\\u043d\\u0438\\u0435\", \"\\u043f\\u0435\\u0440\\u0438\\u043e\\u0434_\\u043a\\u043b\\u0430\\u0441\\u0441\\u043e\\u0432\\u043e\\u0439_\\u0446\\u0438\\u0432\\u0438\\u043b\\u0438\\u0437\\u0430\\u0446\\u0438\\u044f\", \"\\u0441\\u043e\\u0437\\u0435\\u0440\\u0446\\u0430\\u0442\\u044c\", \"\\u043e\\u0431\\u0449\\u0435\\u0441\\u0442\\u0432\\u043e_\\u0431\\u0435\\u0441\\u043a\\u043b\\u0430\\u0441\\u0441\\u043e\\u0432\\u044b\\u0439\", \"\\u0442\\u043e\\u043b\\u0441\\u0442\\u043e\\u0439\", \"apple_converted_space_\\u043f\\u0435\\u0440\\u0435\\u0445\\u043e\\u0434\\u0438\\u0442\\u044c\", \"\\u043c\\u044b\\u0441\\u043b\\u0438\\u0442\\u0435\\u043b\\u044c\", \"\\u0435\\u0433\\u044d\", \"\\u0434\\u0443\\u0448\\u0430\", \"\\u0447\\u0435\\u043b\\u043e\\u0432\\u0435\\u0447\\u0435\\u0441\\u043a\\u0438\\u0439_\\u043e\\u0431\\u0449\\u0435\\u0441\\u0442\\u0432\\u043e\", \"\\u043a\\u0440\\u0435\\u0430\\u0442\\u0438\\u0432\\u043d\\u043e\\u0441\\u0442\\u044c\", \"\\u0445\\u0440\\u0438\\u0441\\u0442\\u0438\\u0430\\u043d\\u0441\\u043a\\u0438\\u0439\", \"\\u0441\\u0435\\u0440\\u0434\\u0435\\u0447\\u043d\\u044b\\u0439_\\u0441\\u043e\\u0437\\u0435\\u0440\\u0446\\u0430\\u043d\\u0438\\u0435\", \"\\u043f\\u043e\\u0441\\u0442\\u0443\\u043b\\u0430\\u0442\", \"\\u043a\\u043b\\u0430\\u0441\\u0441\\u043e\\u0432\\u043e\\u0439_\\u0446\\u0438\\u0432\\u0438\\u043b\\u0438\\u0437\\u0430\\u0446\\u0438\\u044f\", \"\\u0432\\u0442\\u043e\\u0440\\u043e\\u0439_\\u0440\\u0435\\u0432\\u043e\\u043b\\u044e\\u0446\\u0438\\u044f_\\u043e\\u0431\\u0449\\u0435\\u0441\\u0442\\u0432\\u043e\", \"\\u0436\\u0438\\u0437\\u043d\\u0435\\u043d\\u043d\\u044b\\u0439_\\u043e\\u0440\\u0438\\u0435\\u043d\\u0442\\u0438\\u0440\", \"\\u0447\\u0435\\u043b\\u043e\\u0432\\u0435\\u0447\\u0435\\u0441\\u0442\\u0432\\u043e\", \"\\u0440\\u0435\\u0432\\u043e\\u043b\\u044e\\u0446\\u0438\\u044f_\\u043e\\u0431\\u0449\\u0435\\u0441\\u0442\\u0432\\u0435\\u043d\\u043d\\u044b\\u0439\", \"\\u0438\\u0434\\u0435\\u0438\\u043d\", \"\\u0435\\u0441\\u0442\\u0435\\u0441\\u0442\\u0432\\u0435\\u043d\\u043d\\u043e_\\u0438\\u0441\\u0442\\u043e\\u0440\\u0438\\u0447\\u0435\\u0441\\u043a\\u0438\\u0439\", \"\\u043f\\u0440\\u0430\\u0432\\u043e\\u0441\\u043b\\u0430\\u0432\\u043d\\u044b\\u0439\", \"\\u0444\\u0438\\u043b\\u043e\\u0441\\u043e\\u0444\", \"\\u0434\\u0435\\u043c\\u043e\\u043a\\u0440\\u0430\\u0442\\u0438\\u044f\", \"\\u0441\\u0438\\u0441\\u0442\\u0435\\u043c\\u0430_\\u0446\\u0435\\u043d\\u043d\\u043e\\u0441\\u0442\\u0435\\u044f\", \"\\u0442\\u0440\\u0435\\u0432\\u043e\\u0436\\u043d\\u043e\\u0441\\u0442\\u044c\", \"\\u0440\\u0443\\u0441\\u0441\\u043a\\u0438\\u0439\", \"\\u0441\\u043e\\u0437\\u043d\\u0430\\u043d\\u0438\\u0435\", \"\\u043b\\u044e\\u0431\\u043e\\u0432\\u044c\", \"\\u0440\\u0443\\u0441\\u0441\\u043a\\u0438\\u044f\", \"\\u043c\\u044b\\u0441\\u043b\\u044c\", \"\\u0434\\u0443\\u0445\\u043e\\u0432\\u043d\\u044b\\u0439\", \"\\u043c\\u0438\\u0440\\u043e\\u0432\\u043e\\u0437\\u0437\\u0440\\u0435\\u043d\\u0438\\u0435\", \"\\u043c\\u0438\\u0440\", \"\\u043f\\u0430\\u0440\\u0430\\u0434\\u0438\\u0433\\u043c\\u0430\", \"\\u0436\\u0438\\u0437\\u043d\\u044c\", \"\\u0438\\u0441\\u043a\\u0443\\u0441\\u0441\\u0442\\u0432\\u043e\", \"\\u043e\\u0431\\u0449\\u0435\\u0441\\u0442\\u0432\\u043e\", \"\\u0447\\u0435\\u043b\\u043e\\u0432\\u0435\\u043a\", \"\\u043d\\u0430\\u0440\\u043e\\u0434\", \"\\u0442\\u0435\\u0440\\u043c\\u0438\\u043d\", \"\\u043a\\u0440\\u0438\\u0437\\u0438\\u0441\", \"\\u0440\\u0435\\u0431\\u0451\\u043d\\u043e\\u043a\", \"\\u043d\\u0430\\u0443\\u043a\\u0430\", \"\\u0441\\u0438\\u043b\\u0430\", \"\\u043f\\u043e\\u043d\\u044f\\u0442\\u0438\\u0435\", \"\\u0441\\u0438\\u0441\\u0442\\u0435\\u043c\\u0430\", \"\\u0440\\u0435\\u0448\\u0435\\u043d\\u0438\\u0435\", \"\\u043e\\u0441\\u043d\\u043e\\u0432\\u0430\", \"\\u043a\\u0443\\u043b\\u044c\\u0442\\u0443\\u0440\\u0430\", \"\\u0432\\u043e\\u0441\\u043f\\u0438\\u0442\\u0430\\u043d\\u0438\\u0435\", \"\\u0440\\u0430\\u0437\\u0432\\u0438\\u0442\\u0438\\u0435\", \"\\u043d\\u043e\\u0432\\u044b\\u0439\", \"\\u043e\\u0431\\u0440\\u0430\\u0437\\u043e\\u0432\\u0430\\u043d\\u0438\\u0435\", \"\\u043f\\u0440\\u043e\\u0431\\u043b\\u0435\\u043c\\u0430\", \"\\u044f\\u0432\\u043b\\u044f\\u0442\\u044c\\u0441\\u044f\", \"\\u0441\\u043b\\u043e\\u0432\\u043e\", \"\\u0440\\u0430\\u0431\\u043e\\u0442\\u0430\", \"\\u0432\\u043e\\u043f\\u0440\\u043e\\u0441\", \"\\u043b\\u0438\\u0446\\u0435\\u043d\\u0437\\u0438\\u0440\\u043e\\u0432\\u0430\\u043d\\u0438\\u0435\", \"\\u043e\\u0440\\u0433\\u0430\\u043d_\\u0432\\u043b\\u0430\\u0441\\u0442\\u044c_\\u0441\\u0443\\u0431\\u044a\\u0435\\u043a\\u0442\", \"\\u043c\\u0435\\u0436\\u0434\\u0443\\u043d\\u0430\\u0440\\u043e\\u0434\\u043d\\u044b\\u0439_\\u0443\\u043d\\u0438\\u0432\\u0435\\u0440\\u0441\\u0438\\u0442\\u0435\\u0442_\\u043b\\u043e\\u0433\\u0438\\u0441\\u0442\\u0438\\u043a\\u0430_\\u0442\\u0440\\u0430\\u043d\\u0441\\u043f\\u043e\\u0440\\u0442\", \"\\u043b\\u043e\\u0433\\u0438\\u0441\\u0442\\u0438\\u043a\\u0430\", \"\\u0442\\u0435\\u0440\\u0440\\u0438\\u0442\\u043e\\u0440\\u0438\\u044f_\\u0441\\u0443\\u0431\\u044a\\u0435\\u043a\\u0442\", \"\\u043f\\u043e\\u043b\\u044c\\u0448\\u0430\", \"\\u043f\\u0435\\u0440\\u0435\\u0434\\u0430\\u0442\\u044c_\\u043f\\u043e\\u043b\\u043d\\u043e\\u043c\\u043e\\u0447\\u0438\\u0435\", \"\\u043a\\u043e\\u0440\\u0440\\u0435\\u043a\\u0446\\u0438\\u043e\\u043d\\u043d\\u044b\\u0439\", \"\\u0434\\u043e\\u043f\\u043e\\u043b\\u043d\\u0438\\u0442\\u0435\\u043b\\u044c\\u043d\\u044b\\u0439_\\u044d\\u043a\\u043e\\u043b\\u043e\\u0433\\u0438\\u0447\\u0435\\u0441\\u043a\\u0438\\u0439\", \"\\u0443\\u043d\\u0438\\u0432\\u0435\\u0440\\u0441\\u0438\\u0442\\u0435\\u0442_\\u043b\\u043e\\u0433\\u0438\\u0441\\u0442\\u0438\\u043a\\u0430_\\u043a\\u044e\\u043d\\u0430\", \"\\u0442\\u0440\\u0430\\u0432\\u043c\\u0430\\u0442\\u0438\\u0437\\u043c\", \"\\u043f\\u0435\\u0440\\u0435\\u0434\\u0430\\u0442\\u044c_\\u043f\\u043e\\u043b\\u043d\\u043e\\u043c\\u043e\\u0447\\u0438\\u0435_\\u0441\\u0444\\u0435\\u0440\\u0430\", \"\\u043d\\u0430\\u0434\\u0437\\u043e\\u0440\", \"\\u0440\\u0430\\u0437\\u0433\\u0440\\u0430\\u043d\\u0438\\u0447\\u0435\\u043d\\u0438\\u0435_\\u043a\\u043e\\u043c\\u043f\\u0435\\u0442\\u0435\\u043d\\u0446\\u0438\\u044f\", \"\\u043f\\u0434\\u0434\", \"\\u0433\\u0430\\u0443\\u0434\\u043e_\\u0434\\u0432\\u043e\\u0440\\u0435\\u0446_\\u043c\\u043e\\u043b\\u043e\\u0434\\u0451\\u0436\\u044c\", \"\\u0434\\u043e\\u0448\\u043a\\u043e\\u043b\\u044c\\u043d\\u044b\\u0439_\\u0443\\u0447\\u0440\\u0435\\u0436\\u0434\\u0435\\u043d\\u0438\\u0435\", \"\\u043a\\u043e\\u0440\\u043f\\u043e\\u0440\\u0430\\u0442\\u0438\\u0432\\u043d\\u043e\\u0438\\u0442\\u044c\", \"\\u043f\\u0440\\u0438\\u043a\\u043b\\u0430\\u0434\\u043d\\u043e\\u0439_\\u043d\\u0430\\u0443\\u043a\\u0430_\\u0444\\u043e\\u043d\\u0442\\u0438\\u0441\", \"\\u043d\\u0438\\u0434\\u0435\\u0440\\u043b\\u0430\\u043d\\u0434\\u044b\", \"\\u043b\\u0438\\u0446\\u0435\\u043d\\u0437\\u0438\\u0440\\u043e\\u0432\\u0430\\u0442\\u044c\", \"\\u043f\\u043e\\u043b\\u043d\\u043e\\u043c\\u043e\\u0447\\u0438\\u0435\", \"\\u0433\\u0430\\u0440\\u043c\\u043e\\u043d\\u0438\\u0437\\u0430\\u0446\\u0438\\u044f\", \"\\u0440\\u0430\\u0437\\u0433\\u0440\\u0430\\u043d\\u0438\\u0447\\u0435\\u043d\\u0438\\u0435_\\u043a\\u043e\\u043c\\u043f\\u0435\\u0442\\u0435\\u043d\\u0446\\u0438\\u044f_\\u043e\\u0441\\u0443\\u0449\\u0435\\u0441\\u0442\\u0432\\u043b\\u0435\\u043d\\u0438\\u0435\", \"\\u0443\\u0447\\u0430\\u0449\\u0435\\u0438\\u0441\\u044f_\\u043c\\u043e\\u043b\\u043e\\u0434\\u0451\\u0436\\u044c\", \"\\u043b\\u0438\\u0446\\u0435\\u043d\\u0437\\u0438\\u044f\", \"\\u044d\\u043a\\u043e\\u043b\\u043e\\u0433\\u0438\\u0447\\u0435\\u0441\\u043a\\u0438\\u0439\", \"\\u043f\\u0432\\u0433\\u0443\\u0441\\u044c\", \"\\u043f\\u043e\\u0434\\u0437\\u0430\\u043a\\u043e\\u043d\\u043d\\u044b\\u0439\", \"\\u043f\\u0435\\u0440\\u0435\\u043e\\u0444\\u043e\\u0440\\u043c\\u043b\\u0435\\u043d\\u0438\\u0435\", \"\\u044d\\u043a\\u043e\\u043b\\u043e\\u0433\\u0438\\u0447\\u0435\\u0441\\u043a\\u043e\\u0439\", \"\\u0444\\u0435\\u0434\\u0435\\u0440\\u0430\\u043b\\u044c\\u043d\\u044b\\u0439_\\u0437\\u0430\\u043a\\u043e\\u043d\", \"\\u0444\\u0438\\u043b\\u0438\\u0430\\u043b\", \"\\u0432\\u0438\\u0434\\u0435\\u043e\\u0444\\u0438\\u043b\\u044c\\u043c\", \"\\u043e\\u0431\\u0440\\u0430\\u0437\\u043e\\u0432\\u0430\\u043d\\u0438\\u0435\", \"\\u0440\\u043e\\u0441\\u0441\\u0438\\u0438\\u0441\\u043a\\u043e\\u0439_\\u0444\\u0435\\u0434\\u0435\\u0440\\u0430\\u0446\\u0438\\u044f\", \"\\u0434\\u043e\\u043f\\u043e\\u043b\\u043d\\u0438\\u0442\\u0435\\u043b\\u044c\\u043d\\u044b\\u0439\", \"\\u0434\\u0438\\u0441\\u0442\\u0430\\u043d\\u0446\\u0438\\u043e\\u043d\\u043d\\u044b\\u0439\", \"\\u043f\\u0440\\u0430\\u0432\\u043e\\u0432\\u043e\\u0439\", \"\\u0440\\u0430\\u0431\\u043e\\u0442\\u043d\\u0438\\u043a\", \"\\u0443\\u043d\\u0438\\u0432\\u0435\\u0440\\u0441\\u0438\\u0442\\u0435\\u0442\", \"\\u043e\\u0441\\u0443\\u0449\\u0435\\u0441\\u0442\\u0432\\u043b\\u044f\\u0442\\u044c\", \"\\u043e\\u0431\\u0440\\u0430\\u0437\\u043e\\u0432\\u0430\\u0442\\u0435\\u043b\\u044c\\u043d\\u044b\\u0439\", \"\\u043f\\u0440\\u043e\\u0433\\u0440\\u0430\\u043c\\u043c\\u0430\", \"\\u0434\\u0435\\u044f\\u0442\\u0435\\u043b\\u044c\\u043d\\u043e\\u0441\\u0442\\u044c\", \"\\u0433\\u043e\\u0434\", \"\\u0440\\u0435\\u0431\\u0451\\u043d\\u043e\\u043a\", \"\\u043e\\u0440\\u0433\\u0430\\u043d\\u0438\\u0437\\u0430\\u0446\\u0438\\u044f\", \"\\u043e\\u0431\\u0443\\u0447\\u0435\\u043d\\u0438\\u0435\", \"\\u043e\\u0441\\u043e\\u0431\\u044b\\u0439\", \"\\u043d\\u0430\\u0440\\u0443\\u0448\\u0435\\u043d\\u0438\\u0435\", \"\\u043e\\u0431\\u0443\\u0447\\u0430\\u0442\\u044c\\u0441\\u044f\", \"\\u0440\\u0430\\u0437\\u0432\\u0438\\u0442\\u0438\\u0435\", \"\\u043f\\u0440\\u043e\\u0435\\u043a\\u0442\", \"\\u0441\\u0438\\u0441\\u0442\\u0435\\u043c\\u0430\", \"\\u043c\\u0435\\u0441\\u0442\\u043e\", \"\\u043f\\u0435\\u0434\\u0430\\u0433\\u043e\\u0433\", \"\\u0440\\u0430\\u0431\\u043e\\u0442\\u0430\", \"\\u044f\\u0432\\u043b\\u044f\\u0442\\u044c\\u0441\\u044f\", \"\\u043f\\u0440\\u043e\\u0446\\u0435\\u0441\\u0441\", \"\\u043e\\u0442\\u043d\\u043e\\u0448\\u0435\\u043d\\u0438\\u0435\", \"\\u0437\\u043d\\u0430\\u043d\\u0438\\u0435\", \"\\u0432\\u0440\\u0435\\u043c\\u044f\", \"\\u0443\\u0441\\u043b\\u043e\\u0432\\u0438\\u0435\", \"\\u043d\\u043e\\u0432\\u044b\\u0439\", \"\\u0441\\u0444\\u0435\\u0440\\u0430\", \"\\u0440\\u0435\\u0430\\u043b\\u0438\\u0437\\u0430\\u0446\\u0438\\u044f\"], \"Freq\": [664.0, 478.0, 354.0, 521.0, 170.0, 380.0, 394.0, 651.0, 182.0, 423.0, 208.0, 192.0, 174.0, 219.0, 167.0, 232.0, 80.0, 230.0, 59.0, 385.0, 506.0, 149.0, 546.0, 145.0, 284.0, 268.0, 214.0, 244.0, 232.0, 207.0, 32.229578679041204, 47.17809044108291, 21.871285956576695, 22.70920124319523, 22.69734050379194, 19.216036192943186, 14.939020275890782, 15.738104124048022, 11.434375129855097, 11.421534558776878, 10.580579188800607, 9.683232841521011, 8.819675490227901, 7.96583757706326, 7.9583730543698525, 14.9808462073143, 7.911838286381524, 7.912357872158923, 12.534808597704545, 7.097938283340635, 10.26862437472431, 7.093489239664525, 7.08225663459937, 7.0806493922433775, 7.072846198040467, 7.860272654431531, 8.601518211142274, 6.216248980461869, 6.212648062873658, 7.7633460262633225, 14.67232659335682, 11.475314581365923, 31.249689111548243, 16.621417313395426, 14.926224571551, 27.172249130954356, 23.619226062369012, 17.48358090116866, 18.710709354483075, 28.786432805577174, 71.3488995019278, 24.042850570132938, 123.72063911561462, 38.165523434766726, 59.2142587916688, 100.02419305445082, 173.49473351588028, 55.82412803526914, 22.446671483451176, 91.13137392571238, 88.28183815881364, 19.63896164797596, 188.44570860659368, 88.18439339218217, 158.70204827837733, 150.63587709565283, 89.22312496347993, 87.90741798997513, 111.4881599692772, 76.18347293023909, 119.86095333711748, 60.41436010067362, 72.66775583100815, 39.25239846372294, 70.33184869649476, 113.38335415793824, 129.09136717363558, 62.770876988585776, 57.58086057448123, 75.87018152155157, 91.13648583926606, 88.81368558163324, 74.14760559611834, 92.59508324349792, 64.32600445691061, 68.94449967290295, 75.44962097782874, 65.21359011760866, 60.52583802523728, 59.9751448871999, 7.599351724659021, 7.59411416798659, 7.593972141635279, 7.593410065650606, 7.593475049405688, 7.592194132501405, 7.592607482778571, 7.592855358957747, 7.591849785593036, 7.592068854540578, 7.5911215655747535, 7.591480651066749, 7.591986452459392, 7.59131383709752, 7.591177840166782, 7.5913439842003925, 7.590466368538985, 7.591175830359925, 7.59028280617927, 7.589486922663429, 7.589537167834884, 7.588825696207087, 7.588682329984536, 7.589433327813878, 7.588857853116817, 7.588859192988056, 7.589251775261022, 7.588622035778791, 7.5884840290411955, 45.803610847220575, 32.86891730725327, 62.83610762956875, 10.915181994399735, 18.265923290443748, 22.15790489222036, 13.901923809438756, 22.22107848125807, 22.519976957207344, 8.37270865529813, 19.838591797488565, 8.289167683559572, 14.211652464611172, 10.632036384604913, 11.347456612943123, 11.337656794702612, 10.170151951555503, 10.954959421801313, 10.165277499988786, 11.4949590180078, 10.264394474878276, 8.163170881813096, 8.626298715372101, 8.493843734254657, 7.927475472068784, 7.595204823174965, 34.54707877294825, 17.364538246623464, 13.269480928013849, 23.98305674916875, 12.415805800800912, 51.279415857026635, 23.207431796537165, 10.78306952722884, 11.540900033078863, 12.300523231870457, 9.146152292688503, 9.133702505688808, 8.318957579555594, 7.531402028625768, 7.530780195721268, 7.505751719699448, 7.499066120823136, 10.470510767730016, 6.716660683104287, 6.7139632889312155, 6.712597285554631, 6.708074972934379, 6.707050917978408, 6.701944965645487, 7.425922577854838, 50.89839580117056, 19.81360625409561, 5.891182873297909, 5.885442555919419, 5.8785779264564, 13.248043805561396, 18.217356414094688, 12.914142213052454, 16.31400466687781, 12.933188680403727, 11.530957867830328, 20.380985215342584, 16.080369751223476, 9.365075071495774, 57.8389724261454, 22.91197165160623, 35.483224936696985, 74.78112380954796, 27.433315119615248, 177.80827089353627, 26.078449832598643, 19.288928474853055, 91.98850303947266, 29.964072396727904, 41.528302502329346, 39.422427774816306, 118.3777547447459, 66.85893918717292, 73.098670742047, 35.325324733369236, 111.12147797024411, 77.87820973513224, 119.44309654108682, 132.21563510835097, 47.09089263678284, 67.37868168990855, 53.55356740067303, 111.55943930097139, 59.34724066815164, 45.47332980220292, 88.12600645299713, 56.52698377110819, 35.61450448531845, 56.96923228761851, 56.57503080643173, 50.851050565746924, 65.45900115964663, 65.46098243147287, 47.515701187073276, 50.85751476346434, 56.675884703610734, 54.25988841965259, 55.99318139962974, 47.25849391083568, 33.565864113093916, 21.362681298970962, 20.351379403952762, 16.403539576787455, 17.113858078399023, 11.536215379157058, 10.72424073124201, 10.72445757308129, 9.926868305057283, 9.910597093212917, 9.878698274557797, 9.10189987128892, 9.088678862869976, 9.086516211547357, 8.283997251921818, 8.279616008695701, 8.278783243759738, 8.275900862076952, 8.271452144129569, 9.006188420941054, 8.222695602591388, 7.471410141152203, 7.462156877026491, 7.461182818870783, 8.185563744442549, 8.14143873697689, 6.653546737862417, 6.653929671323276, 6.64572428385175, 6.625953037106856, 13.188408324553542, 11.545095513841241, 19.200971162207555, 42.46545689211063, 276.10567359731624, 35.38430208413469, 42.57539109097007, 128.6622933340559, 88.95297926502097, 102.14767600291367, 27.93517820903883, 9.910555570307524, 51.33126156027678, 36.86956487594788, 211.9704827481562, 94.39120650257354, 65.77875049047661, 37.18397862242148, 45.56476807364545, 120.02889698103773, 82.79389593519899, 50.19159621688831, 50.84894533218523, 60.6370706159377, 39.13851714320433, 138.0397063332412, 84.20047051446193, 80.19957248810098, 120.2295264325906, 55.092683150260406, 109.77703927618573, 70.48748487143776, 86.51444975896233, 48.04430375560903, 50.729225568621196, 64.46980087545178, 62.43232265797192, 52.183726808021454, 65.4408278590656, 62.52356693574779, 52.46768350338834, 59.241725675755845, 65.62416071369368, 60.85352490810196, 26.282153219391226, 42.285318365381364, 21.48412681481293, 18.34653751753475, 19.091245050346604, 15.954091157721283, 13.566497617841598, 13.547951014952304, 12.777301132612394, 16.49214705684082, 11.202850311792691, 10.411937759868284, 11.151748523450413, 9.616217359382693, 21.47491586004393, 9.6057308529546, 8.832012696511656, 8.831472017963852, 25.825150042762974, 8.828888208192875, 8.826721405695064, 8.824886778108473, 8.807201785835053, 7.997817753655119, 7.246459057043965, 7.240396609395014, 7.96378413432804, 7.236818319043674, 10.134258953543663, 7.211686987337323, 11.515066110194473, 12.19272439269548, 69.46686224193536, 21.779834031165343, 27.810055603344008, 24.82899530084648, 26.411452048064938, 132.7147069570737, 30.51174760681461, 38.71870012938301, 33.672184405524916, 28.651003917664834, 16.6536239246837, 21.03542698888856, 199.64246097239317, 47.9679827727576, 99.33499182907427, 26.810245915327428, 19.111322724057466, 182.37229281641328, 83.14017913461251, 67.05335497067382, 43.16928384174367, 103.8332656379198, 115.73661560118572, 65.12859657678678, 58.664456451194766, 53.34792442965644, 62.36432077588879, 129.71899211956972, 130.15559055795916, 66.66601653850354, 84.72714528401038, 96.97597350817281, 80.67914121082349, 56.50030317605884, 87.82204243962175, 58.809836633878184, 97.81051953435859, 43.75520767868517, 62.71477859422366, 49.09720985033928, 81.67481557671452, 48.24909064624268, 66.04757839917505, 56.10894185019451, 49.40407814370873, 48.28357551241069, 37.295576537598954, 25.885655305322228, 20.82565237064329, 17.29554146358268, 15.863828629853277, 15.809568200392203, 14.426053018792407, 12.28170755044834, 12.23206592668249, 31.944323708086063, 10.094313507739699, 9.414941848785734, 9.37270431875357, 8.699662612673938, 8.678418417918268, 7.980926410568589, 7.964724559328001, 17.296633280177694, 17.941785394729386, 10.584184284516015, 7.265290940399642, 7.26439355689689, 7.228625346116382, 6.53665564648856, 6.5336392142145385, 5.839898541840756, 52.880498374797035, 5.824311942168342, 5.82280066676939, 5.818944637051506, 12.282381947747377, 17.30456560647323, 11.505099630119329, 20.823944622644117, 23.56218529146907, 40.223347321549, 37.77255762406302, 20.84059244629213, 17.13570386502288, 19.24500786725647, 23.92584859628719, 19.283739483104018, 46.96269470786967, 15.784559753776884, 63.82341579355393, 21.26761646509241, 58.195592087836935, 87.35925608085736, 17.92439247083969, 21.83001214495474, 22.198379914802434, 42.57287952779722, 33.834604950409435, 22.820106240916388, 26.82546329300241, 42.267760978829834, 38.01450309378065, 34.510340166669295, 28.485772337010022, 24.451133389294817, 35.534328165595475, 28.488798966823847, 34.268408293671406, 27.757290006196, 26.298911285715135, 22.148618639902885, 22.6623489404766, 21.86354981386212, 17.467046332434997, 10.185713784648078, 7.687970509319665, 12.365586418566608, 7.036051415615383, 5.78628534682589, 5.7738820837687355, 5.178809541924724, 5.16422958740278, 5.1536389411355685, 5.15049897885997, 5.147762843753674, 5.1431098627561145, 5.138111228971384, 4.538892792827401, 4.530416300564186, 8.993063324236218, 4.524414643474189, 4.5220367656045255, 4.519205127554229, 4.5140702687580045, 3.8845155890847645, 3.8783386816685934, 3.87659563174395, 7.704594323800528, 13.690176377654849, 15.305543229247823, 3.2643740092270708, 3.248755884377322, 3.2482289214325055, 7.057828510780145, 17.198505627927357, 7.2907369214451485, 5.704658447323269, 148.24560734325104, 18.32528717459672, 26.042386566623136, 18.269098478041066, 16.524811378204383, 15.04996377707929, 20.52076702566835, 16.777216448254556, 40.51143356817731, 38.4339565729692, 59.40020168640102, 35.456607208599316, 34.79092551044205, 34.73234002934254, 62.24559991721809, 16.033279540825767, 15.28958017879068, 25.71219653022367, 37.131959604755124, 20.766575120784704, 34.870973460256295, 19.27064997143999, 18.56783750431366, 29.167250650912322, 25.160608369450625, 25.711806761863386, 19.418496285337454, 21.46460371455368, 19.62807143611565, 19.432485285094234, 18.15006205732166, 17.41314776738929, 17.31332634508823], \"Total\": [664.0, 478.0, 354.0, 521.0, 170.0, 380.0, 394.0, 651.0, 182.0, 423.0, 208.0, 192.0, 174.0, 219.0, 167.0, 232.0, 80.0, 230.0, 59.0, 385.0, 506.0, 149.0, 546.0, 145.0, 284.0, 268.0, 214.0, 244.0, 232.0, 207.0, 33.1228299017166, 48.823313210763196, 22.634068022286428, 23.51655108021637, 23.51030332615012, 20.019880157706712, 15.653321258384482, 16.515705475212986, 12.153679541887637, 12.149623413725942, 11.278955444634052, 10.397705465133283, 9.524606899204155, 8.657585198425855, 8.65489701257602, 16.310364293883886, 8.648880865115467, 8.652642567067712, 13.728542716153054, 7.782199686151526, 11.266726496246767, 7.782975504249882, 7.781182689527004, 7.7806179564706115, 7.776112890635274, 8.648926361077729, 9.517857508567031, 6.906663022182838, 6.9069588687208885, 8.638027053279503, 16.328506794910794, 12.879746333505654, 36.1707174950107, 18.94286883837269, 17.11744365238129, 34.46885741096494, 29.84070070365508, 21.399510686961936, 23.235002061812413, 38.46706446376353, 111.46810479681648, 31.478745822412062, 222.8889767081847, 55.458738913887764, 98.95173564463288, 191.73891533441767, 394.7963358832481, 96.65314354007539, 30.217688138002224, 192.03950803958077, 201.97778847285954, 25.980677900370814, 664.9854104090689, 229.72936797989118, 546.2392357871934, 521.865803756033, 239.276467680748, 235.57383799760072, 344.37298324681876, 201.39344639677077, 423.3531702149309, 146.56930061028922, 208.18008990420205, 72.6196868493192, 208.9235117060993, 506.8553830186596, 651.490127851641, 174.4913081456334, 148.06130845871584, 257.83868325123296, 385.1232887960715, 380.73397860219643, 259.62622069098234, 439.14382037379767, 191.35820687487262, 244.41759736959156, 345.1240275496988, 284.4419320130811, 270.0219275515226, 60.99743933767364, 8.314480165811206, 8.315068881654554, 8.31569609850603, 8.31519510600956, 8.315431759864671, 8.31485430997636, 8.315528661262558, 8.315954526033199, 8.314869872260621, 8.315505540511863, 8.314570991084176, 8.315172218563244, 8.315739746970083, 8.31533851685432, 8.3151967892621, 8.315440440045487, 8.314517197282917, 8.315598360936406, 8.315099713962612, 8.314544058958303, 8.314954550991311, 8.31453067076091, 8.314529755727945, 8.315371589145872, 8.314777256942644, 8.314778743697676, 8.31532215946172, 8.314687375362448, 8.315093317665042, 74.06978391488543, 65.39445024910792, 651.490127851641, 20.87283312582169, 175.73823928001704, 385.1232887960715, 76.4134329052751, 439.14382037379767, 478.6387381361261, 12.03517793975091, 506.8553830186596, 12.84014450674028, 270.0219275515226, 102.01649791906156, 230.66584063623216, 229.1370937362947, 97.24562365781958, 217.06860703682918, 150.50102567412847, 546.2392357871934, 344.37298324681876, 25.30318570032931, 148.06130845871584, 114.5212219259904, 170.2951944758606, 9.907836543724432, 35.50506153405776, 18.167028513553625, 14.03003103423755, 25.418815005586787, 13.202410069891373, 54.53320615194904, 24.83811510179363, 11.547084217248631, 12.359579765928933, 13.183086513169062, 9.891421748668465, 9.893109143941887, 9.063918441827973, 8.236093280169884, 8.236337182862153, 8.23693363134393, 8.236831537166529, 11.545516904230388, 7.409625986680023, 7.40893164450685, 7.4092438119514785, 7.4086430942350825, 7.4086939574040995, 7.409016893059505, 8.237252704350063, 56.666490814117076, 22.080211094120003, 6.582022549703589, 6.579545416605116, 6.579584391168469, 14.85031549411626, 20.664375270307755, 14.665502988252733, 19.03704006849621, 14.915022065581732, 13.235924518182207, 24.433321073454664, 18.980777707167782, 10.712331898310909, 81.84165477293347, 29.092097001236635, 56.25664096459404, 153.10405556957454, 42.94148523098655, 506.8553830186596, 41.259452390016556, 27.826798001825196, 244.41759736959156, 51.489250483235544, 81.76121091150611, 77.81741066537997, 385.1232887960715, 177.87327857307076, 208.18008990420205, 71.1435235378805, 439.14382037379767, 270.0219275515226, 546.2392357871934, 664.9854104090689, 122.18911439339861, 233.16368446282493, 157.9437678994989, 651.490127851641, 194.37001617200042, 116.23599632449951, 478.6387381361261, 210.41196910233137, 76.4134329052751, 217.06860703682918, 222.8889767081847, 174.4286792319156, 344.37298324681876, 345.1240275496988, 164.97941848065793, 229.1370937362947, 423.3531702149309, 380.73397860219643, 521.865803756033, 198.57982885077305, 34.42721365401454, 22.123686477221604, 21.29342544040345, 17.19523589427161, 18.011638344504536, 12.273468817136706, 11.453931187181443, 11.456983628518607, 10.635800444996557, 10.636288172603356, 10.624536240829697, 9.816217729220075, 9.812799984950605, 9.812938588120991, 8.99304343654526, 8.993066995481097, 8.994885256453665, 8.991940744835453, 8.99235955964619, 9.80859771159879, 8.989627188701808, 8.173549225750193, 8.174130193668242, 8.173986753851679, 8.987047992779225, 8.978115849533001, 7.35278052754701, 7.353724283435204, 7.353401573402218, 7.349673211733442, 14.795128716754446, 13.150208841640081, 22.55854778628178, 52.98714782134106, 478.6387381361261, 49.36923296151123, 61.72732613999015, 230.66584063623216, 149.65420004260685, 182.79258484600564, 42.818088894637185, 11.355571667013997, 96.13134925146618, 63.228926904449665, 651.490127851641, 222.9458406127016, 140.6325169287939, 66.21216906263794, 88.0979711546077, 385.1232887960715, 229.1370937362947, 110.98992685039654, 113.25235651552502, 150.50102567412847, 79.38787060377071, 546.2392357871934, 268.7571393538062, 257.83868325123296, 521.865803756033, 147.73452420662574, 506.8553830186596, 233.16368446282493, 345.1240275496988, 119.06261172685552, 134.52017015841577, 232.61846684333574, 219.37599461809592, 146.03158303606762, 270.0219275515226, 244.41759736959156, 148.30913583013623, 214.07976449718402, 344.37298324681876, 664.9854104090689, 27.073012949965467, 43.81792994455224, 22.294773489880402, 19.108639440318026, 19.90495162811588, 16.71881239109213, 14.32666993652905, 14.329409857116584, 13.529809606914489, 17.52213850637219, 11.93858916818921, 11.140974863358624, 11.939975368593307, 10.345560100183455, 23.113428329661097, 10.346243843790583, 9.545889782072, 9.548561545864835, 27.92762022037428, 9.547663500522884, 9.549466876205235, 9.54957883899926, 9.5496395849132, 8.753609360894416, 7.955118666856075, 7.955556118250309, 8.75462699470211, 7.95553819057048, 11.152304631622034, 7.956812201260195, 12.719430412986599, 13.519487898117776, 80.0333533677002, 24.73279202613408, 31.91666350692182, 28.494874471764824, 30.422052054735982, 170.8513415244136, 35.82327803676621, 47.25324568410505, 40.66591378913506, 34.4247103963864, 19.172157159954594, 25.612080813222732, 354.23986820047793, 69.14482833878505, 167.15022416435932, 34.75532641345492, 23.213604103419126, 380.73397860219643, 145.6618337561285, 119.9015892037348, 69.69603066281347, 232.598974909105, 284.4419320130811, 127.21695020237046, 110.44440270216124, 99.00226104561683, 126.0156156546428, 423.3531702149309, 521.865803756033, 165.64026007001468, 268.7571393538062, 345.1240275496988, 259.62622069098234, 149.72219359838397, 439.14382037379767, 190.88359422454783, 664.9854104090689, 95.45552645125754, 239.276467680748, 131.32819121619136, 546.2392357871934, 129.82980509387403, 651.490127851641, 394.7963358832481, 235.57383799760072, 210.41196910233137, 38.32114024161492, 26.774460366935394, 21.720461704065432, 18.111667882203694, 16.668310225046206, 16.668800649279355, 15.223008740906295, 13.059397905032462, 13.06069164963835, 34.165489663487335, 10.894546138361237, 10.17159819944618, 10.172722441133981, 9.450003115815843, 9.449477244620297, 8.728878906507571, 8.734944826810777, 18.986205196406743, 19.71190440679446, 11.655372658692116, 8.005983732775332, 8.007211091892097, 8.012118726130975, 7.284758485016254, 7.2839287194435745, 6.563426990125454, 59.540502749563245, 6.5623951811457175, 6.562085769460272, 6.562653899808714, 13.879469367822466, 19.734188509465305, 13.163366193010695, 24.29144760228786, 28.03284992280977, 50.71339157163314, 49.278452767701566, 25.825832887351954, 22.23782557278603, 26.868802147967767, 36.29707038088725, 28.309798172551044, 100.96862062129209, 21.80796771549015, 174.66252160685576, 34.49917993457721, 192.03950803958077, 394.7963358832481, 27.83996827013276, 41.42099857687736, 46.86185759102309, 208.9235117060993, 143.53272275384467, 57.584231260727286, 95.01597856943494, 439.14382037379767, 354.23986820047793, 268.7571393538062, 146.56930061028922, 80.89733131047171, 423.3531702149309, 201.39344639677077, 664.9854104090689, 259.62622069098234, 344.37298324681876, 59.98500563047639, 506.8553830186596, 210.41196910233137, 18.798237046274625, 11.018010339893396, 8.449941618257425, 13.670512239822022, 7.819154580120873, 6.535464186036003, 6.5407785720095015, 5.887766042321815, 5.8929134505419665, 5.896777226150821, 5.897409447537509, 5.899540380012003, 5.901334761939317, 5.902992307618582, 5.251579633960599, 5.254676966317476, 10.43543271483681, 5.256605735350843, 5.2577265052708455, 5.25875380167475, 5.261160019259121, 4.621192280072564, 4.621603971452097, 4.624055872560626, 9.271893313244128, 16.571592129205104, 18.567062139283152, 3.97750250520205, 3.983624632133266, 3.9838369599280523, 8.684759192494875, 23.059956229476867, 9.397014679667194, 7.377776519330562, 664.9854104090689, 39.25785550785651, 64.11242730576932, 45.33478792086282, 39.710661012391384, 35.57451179190016, 68.81418688062742, 49.20884583869883, 232.61846684333574, 219.37599461809592, 521.865803756033, 207.89191686322184, 208.9235117060993, 214.07976449718402, 651.490127851641, 52.68126214855101, 48.07428880657513, 182.79258484600564, 423.3531702149309, 113.25235651552502, 439.14382037379767, 102.01649791906156, 117.7184498026535, 506.8553830186596, 344.37298324681876, 546.2392357871934, 145.87896303532878, 257.83868325123296, 217.06860703682918, 235.57383799760072, 201.39344639677077, 117.33897339794603, 134.85351629729487], \"Category\": [\"Default\", \"Default\", \"Default\", \"Default\", \"Default\", \"Default\", \"Default\", \"Default\", \"Default\", \"Default\", \"Default\", \"Default\", \"Default\", \"Default\", \"Default\", \"Default\", \"Default\", \"Default\", \"Default\", \"Default\", \"Default\", \"Default\", \"Default\", \"Default\", \"Default\", \"Default\", \"Default\", \"Default\", \"Default\", \"Default\", \"Topic1\", \"Topic1\", \"Topic1\", \"Topic1\", \"Topic1\", \"Topic1\", \"Topic1\", \"Topic1\", \"Topic1\", \"Topic1\", \"Topic1\", \"Topic1\", \"Topic1\", \"Topic1\", \"Topic1\", \"Topic1\", \"Topic1\", \"Topic1\", \"Topic1\", \"Topic1\", \"Topic1\", \"Topic1\", \"Topic1\", \"Topic1\", \"Topic1\", \"Topic1\", \"Topic1\", \"Topic1\", \"Topic1\", \"Topic1\", \"Topic1\", \"Topic1\", \"Topic1\", \"Topic1\", \"Topic1\", \"Topic1\", \"Topic1\", \"Topic1\", \"Topic1\", \"Topic1\", \"Topic1\", \"Topic1\", \"Topic1\", \"Topic1\", \"Topic1\", \"Topic1\", \"Topic1\", \"Topic1\", \"Topic1\", \"Topic1\", \"Topic1\", \"Topic1\", \"Topic1\", \"Topic1\", \"Topic1\", \"Topic1\", \"Topic1\", \"Topic1\", \"Topic1\", \"Topic1\", \"Topic1\", \"Topic1\", \"Topic1\", \"Topic1\", \"Topic1\", \"Topic1\", \"Topic1\", \"Topic1\", \"Topic1\", \"Topic1\", \"Topic1\", \"Topic1\", \"Topic1\", \"Topic1\", \"Topic1\", \"Topic1\", \"Topic1\", \"Topic1\", \"Topic1\", \"Topic2\", \"Topic2\", \"Topic2\", \"Topic2\", \"Topic2\", \"Topic2\", \"Topic2\", \"Topic2\", \"Topic2\", \"Topic2\", \"Topic2\", \"Topic2\", \"Topic2\", \"Topic2\", \"Topic2\", \"Topic2\", \"Topic2\", \"Topic2\", \"Topic2\", \"Topic2\", \"Topic2\", \"Topic2\", \"Topic2\", \"Topic2\", \"Topic2\", \"Topic2\", \"Topic2\", \"Topic2\", \"Topic2\", \"Topic2\", \"Topic2\", \"Topic2\", \"Topic2\", \"Topic2\", \"Topic2\", \"Topic2\", \"Topic2\", \"Topic2\", \"Topic2\", \"Topic2\", \"Topic2\", \"Topic2\", \"Topic2\", \"Topic2\", \"Topic2\", \"Topic2\", \"Topic2\", \"Topic2\", \"Topic2\", \"Topic2\", \"Topic2\", \"Topic2\", \"Topic2\", \"Topic2\", \"Topic2\", \"Topic2\", \"Topic3\", \"Topic3\", \"Topic3\", \"Topic3\", \"Topic3\", \"Topic3\", \"Topic3\", \"Topic3\", \"Topic3\", \"Topic3\", \"Topic3\", \"Topic3\", \"Topic3\", \"Topic3\", \"Topic3\", \"Topic3\", \"Topic3\", \"Topic3\", \"Topic3\", \"Topic3\", \"Topic3\", \"Topic3\", \"Topic3\", \"Topic3\", \"Topic3\", \"Topic3\", \"Topic3\", \"Topic3\", \"Topic3\", \"Topic3\", \"Topic3\", \"Topic3\", \"Topic3\", \"Topic3\", \"Topic3\", \"Topic3\", \"Topic3\", \"Topic3\", \"Topic3\", \"Topic3\", \"Topic3\", \"Topic3\", \"Topic3\", \"Topic3\", \"Topic3\", \"Topic3\", \"Topic3\", \"Topic3\", \"Topic3\", \"Topic3\", \"Topic3\", \"Topic3\", \"Topic3\", \"Topic3\", \"Topic3\", \"Topic3\", \"Topic3\", \"Topic3\", \"Topic3\", \"Topic3\", \"Topic3\", \"Topic3\", \"Topic3\", \"Topic3\", \"Topic3\", \"Topic3\", \"Topic3\", \"Topic3\", \"Topic3\", \"Topic3\", \"Topic3\", \"Topic3\", \"Topic3\", \"Topic3\", \"Topic3\", \"Topic3\", \"Topic3\", \"Topic3\", \"Topic3\", \"Topic4\", \"Topic4\", \"Topic4\", \"Topic4\", \"Topic4\", \"Topic4\", \"Topic4\", \"Topic4\", \"Topic4\", \"Topic4\", \"Topic4\", \"Topic4\", \"Topic4\", \"Topic4\", \"Topic4\", \"Topic4\", \"Topic4\", \"Topic4\", \"Topic4\", \"Topic4\", \"Topic4\", \"Topic4\", \"Topic4\", \"Topic4\", \"Topic4\", \"Topic4\", \"Topic4\", \"Topic4\", \"Topic4\", \"Topic4\", \"Topic4\", \"Topic4\", \"Topic4\", \"Topic4\", \"Topic4\", \"Topic4\", \"Topic4\", \"Topic4\", \"Topic4\", \"Topic4\", \"Topic4\", \"Topic4\", \"Topic4\", \"Topic4\", \"Topic4\", \"Topic4\", \"Topic4\", \"Topic4\", \"Topic4\", \"Topic4\", \"Topic4\", \"Topic4\", \"Topic4\", \"Topic4\", \"Topic4\", \"Topic4\", \"Topic4\", \"Topic4\", \"Topic4\", \"Topic4\", \"Topic4\", \"Topic4\", \"Topic4\", \"Topic4\", \"Topic4\", \"Topic4\", \"Topic4\", \"Topic4\", \"Topic4\", \"Topic4\", \"Topic4\", \"Topic4\", \"Topic4\", \"Topic4\", \"Topic5\", \"Topic5\", \"Topic5\", \"Topic5\", \"Topic5\", \"Topic5\", \"Topic5\", \"Topic5\", \"Topic5\", \"Topic5\", \"Topic5\", \"Topic5\", \"Topic5\", \"Topic5\", \"Topic5\", \"Topic5\", \"Topic5\", \"Topic5\", \"Topic5\", \"Topic5\", \"Topic5\", \"Topic5\", \"Topic5\", \"Topic5\", \"Topic5\", \"Topic5\", \"Topic5\", \"Topic5\", \"Topic5\", \"Topic5\", \"Topic5\", \"Topic5\", \"Topic5\", \"Topic5\", \"Topic5\", \"Topic5\", \"Topic5\", \"Topic5\", \"Topic5\", \"Topic5\", \"Topic5\", \"Topic5\", \"Topic5\", \"Topic5\", \"Topic5\", \"Topic5\", \"Topic5\", \"Topic5\", \"Topic5\", \"Topic5\", \"Topic5\", \"Topic5\", \"Topic5\", \"Topic5\", \"Topic5\", \"Topic5\", \"Topic5\", \"Topic5\", \"Topic5\", \"Topic5\", \"Topic5\", \"Topic5\", \"Topic5\", \"Topic5\", \"Topic5\", \"Topic5\", \"Topic5\", \"Topic5\", \"Topic5\", \"Topic5\", \"Topic5\", \"Topic5\", \"Topic5\", \"Topic5\", \"Topic5\", \"Topic5\", \"Topic5\", \"Topic5\", \"Topic6\", \"Topic6\", \"Topic6\", \"Topic6\", \"Topic6\", \"Topic6\", \"Topic6\", \"Topic6\", \"Topic6\", \"Topic6\", \"Topic6\", \"Topic6\", \"Topic6\", \"Topic6\", \"Topic6\", \"Topic6\", \"Topic6\", \"Topic6\", \"Topic6\", \"Topic6\", \"Topic6\", \"Topic6\", \"Topic6\", \"Topic6\", \"Topic6\", \"Topic6\", \"Topic6\", \"Topic6\", \"Topic6\", \"Topic6\", \"Topic6\", \"Topic6\", \"Topic6\", \"Topic6\", \"Topic6\", \"Topic6\", \"Topic6\", \"Topic6\", \"Topic6\", \"Topic6\", \"Topic6\", \"Topic6\", \"Topic6\", \"Topic6\", \"Topic6\", \"Topic6\", \"Topic6\", \"Topic6\", \"Topic6\", \"Topic6\", \"Topic6\", \"Topic6\", \"Topic6\", \"Topic6\", \"Topic6\", \"Topic6\", \"Topic6\", \"Topic6\", \"Topic6\", \"Topic6\", \"Topic6\", \"Topic6\", \"Topic6\", \"Topic6\", \"Topic6\", \"Topic6\", \"Topic6\", \"Topic6\", \"Topic7\", \"Topic7\", \"Topic7\", \"Topic7\", \"Topic7\", \"Topic7\", \"Topic7\", \"Topic7\", \"Topic7\", \"Topic7\", \"Topic7\", \"Topic7\", \"Topic7\", \"Topic7\", \"Topic7\", \"Topic7\", \"Topic7\", \"Topic7\", \"Topic7\", \"Topic7\", \"Topic7\", \"Topic7\", \"Topic7\", \"Topic7\", \"Topic7\", \"Topic7\", \"Topic7\", \"Topic7\", \"Topic7\", \"Topic7\", \"Topic7\", \"Topic7\", \"Topic7\", \"Topic7\", \"Topic7\", \"Topic7\", \"Topic7\", \"Topic7\", \"Topic7\", \"Topic7\", \"Topic7\", \"Topic7\", \"Topic7\", \"Topic7\", \"Topic7\", \"Topic7\", \"Topic7\", \"Topic7\", \"Topic7\", \"Topic7\", \"Topic7\", \"Topic7\", \"Topic7\", \"Topic7\", \"Topic7\", \"Topic7\", \"Topic7\", \"Topic7\", \"Topic7\", \"Topic7\", \"Topic7\", \"Topic7\", \"Topic7\", \"Topic7\", \"Topic7\", \"Topic7\", \"Topic7\"], \"logprob\": [30.0, 29.0, 28.0, 27.0, 26.0, 25.0, 24.0, 23.0, 22.0, 21.0, 20.0, 19.0, 18.0, 17.0, 16.0, 15.0, 14.0, 13.0, 12.0, 11.0, 10.0, 9.0, 8.0, 7.0, 6.0, 5.0, 4.0, 3.0, 2.0, 1.0, -6.6483001708984375, -6.267300128936768, -7.035999774932861, -6.9984002113342285, -6.999000072479248, -7.165500164031982, -7.417200088500977, -7.365099906921387, -7.684599876403809, -7.685699939727783, -7.762199878692627, -7.850800037384033, -7.944200038909912, -8.045999526977539, -8.04699993133545, -7.414400100708008, -8.052800178527832, -8.052800178527832, -7.592700004577637, -8.161399841308594, -7.792099952697754, -8.161999702453613, -8.163599967956543, -8.163800239562988, -8.164899826049805, -8.059399604797363, -7.969299793243408, -8.293999671936035, -8.294599533081055, -8.071800231933594, -7.435200214385986, -7.681000232696533, -6.679200172424316, -7.310500144958496, -7.418099880218506, -6.818999767303467, -6.959099769592285, -7.259900093078613, -7.1921000480651855, -6.761300086975098, -5.853600025177002, -6.941400051116943, -5.303199768066406, -6.479300022125244, -6.039999961853027, -5.5157999992370605, -4.965099811553955, -6.098999977111816, -7.0100998878479, -5.60890007019043, -5.640699863433838, -7.143700122833252, -4.882400035858154, -5.6417999267578125, -5.054200172424316, -5.106299877166748, -5.630099773406982, -5.644899845123291, -5.407299995422363, -5.788099765777588, -5.33489990234375, -6.019999980926514, -5.835299968719482, -6.451200008392334, -5.868000030517578, -5.390399932861328, -5.260700225830078, -5.9816999435424805, -6.067999839782715, -5.792200088500977, -5.608799934387207, -5.634699821472168, -5.815100193023682, -5.5929999351501465, -5.957200050354004, -5.887899875640869, -5.797699928283691, -5.94350004196167, -6.018099784851074, -5.950099945068359, -8.015999794006348, -8.01669979095459, -8.01669979095459, -8.016799926757812, -8.016799926757812, -8.016900062561035, -8.016900062561035, -8.016900062561035, -8.017000198364258, -8.017000198364258, -8.01710033416748, -8.017000198364258, -8.017000198364258, -8.01710033416748, -8.01710033416748, -8.01710033416748, -8.017200469970703, -8.01710033416748, -8.017200469970703, -8.01729965209961, -8.01729965209961, -8.017399787902832, -8.017399787902832, -8.01729965209961, -8.017399787902832, -8.017399787902832, -8.01729965209961, -8.017399787902832, -8.017399787902832, -6.219699859619141, -6.551499843597412, -5.903500080108643, -7.653900146484375, -7.138999938964844, -6.945899963378906, -7.4120001792907715, -6.942999839782715, -6.929699897766113, -7.919099807739258, -7.056399822235107, -7.929100036621094, -7.389999866485596, -7.680200099945068, -7.615099906921387, -7.615900039672852, -7.724599838256836, -7.650300025939941, -7.725100040435791, -7.602200031280518, -7.715400218963623, -7.944399833679199, -7.8892998695373535, -7.904699802398682, -7.973700046539307, -8.016599655151367, -6.386099815368652, -7.073999881744385, -7.342899799346924, -6.751100063323975, -7.40939998626709, -5.991099834442139, -6.783899784088135, -7.5503997802734375, -7.482500076293945, -7.418799877166748, -7.715099811553955, -7.716400146484375, -7.809899806976318, -7.909299850463867, -7.90939998626709, -7.912700176239014, -7.913599967956543, -7.579899787902832, -8.023799896240234, -8.024200439453125, -8.024399757385254, -8.025099754333496, -8.025300025939941, -8.026000022888184, -7.923399925231934, -5.998600006103516, -6.941999912261963, -8.154999732971191, -8.155900001525879, -8.157099723815918, -7.344600200653076, -7.026000022888184, -7.370100021362305, -7.13640022277832, -7.368599891662598, -7.483399868011475, -6.91379976272583, -7.1508002281188965, -7.691400051116943, -5.870800018310547, -6.796800136566162, -6.359399795532227, -5.613800048828125, -6.616700172424316, -4.747700214385986, -6.667300224304199, -6.968900203704834, -5.406799793243408, -6.52839994430542, -6.202000141143799, -6.2540998458862305, -5.1545000076293945, -5.725800037384033, -5.636600017547607, -6.363800048828125, -5.217800140380859, -5.573299884796143, -5.145599842071533, -5.044000148773193, -6.076300144195557, -5.718100070953369, -5.947700023651123, -5.213900089263916, -5.84499979019165, -6.111299991607666, -5.4496002197265625, -5.893700122833252, -6.3557000160217285, -5.885900020599365, -5.8927998542785645, -5.999499797821045, -5.747000217437744, -5.747000217437744, -6.067399978637695, -5.9994001388549805, -5.89109992980957, -5.934599876403809, -5.903200149536133, -6.072800159454346, -6.38070011138916, -6.832600116729736, -6.881100177764893, -7.096700191497803, -7.054299831390381, -7.448699951171875, -7.521699905395508, -7.521699905395508, -7.598999977111816, -7.600599765777588, -7.603799819946289, -7.685699939727783, -7.68720006942749, -7.687399864196777, -7.779900074005127, -7.780399799346924, -7.7804999351501465, -7.780900001525879, -7.781400203704834, -7.696300029754639, -7.787300109863281, -7.8831000328063965, -7.884399890899658, -7.884500026702881, -7.791800022125244, -7.797299861907959, -7.999100208282471, -7.999000072479248, -8.000200271606445, -8.003199577331543, -7.314899921417236, -7.447999954223633, -6.939300060272217, -6.145500183105469, -4.273399829864502, -6.328000068664551, -6.142899990081787, -5.0370001792907715, -5.406099796295166, -5.2677998542785645, -6.564300060272217, -7.600599765777588, -5.955900192260742, -6.286799907684326, -4.537799835205078, -5.346799850463867, -5.707900047302246, -6.278299808502197, -6.075099945068359, -5.106500148773193, -5.47790002822876, -5.978400230407715, -5.965400218963623, -5.789299964904785, -6.227099895477295, -4.966700077056885, -5.460999965667725, -5.509699821472168, -5.104800224304199, -5.885200023651123, -5.195799827575684, -5.638800144195557, -5.433899879455566, -6.02209997177124, -5.967700004577637, -5.728000164031982, -5.7600998878479, -5.9394001960754395, -5.713099956512451, -5.758699893951416, -5.934000015258789, -5.812600135803223, -5.710299968719482, -5.785799980163574, -6.50439977645874, -6.028900146484375, -6.705999851226807, -6.863900184631348, -6.824100017547607, -7.003600120544434, -7.1656999588012695, -7.167099952697754, -7.2256999015808105, -6.970399856567383, -7.3572001457214355, -7.4303998947143555, -7.361700057983398, -7.509900093078613, -6.706399917602539, -7.511000156402588, -7.594900131225586, -7.59499979019165, -6.521999835968018, -7.595300197601318, -7.5954999923706055, -7.595799922943115, -7.597799777984619, -7.694200038909912, -7.792799949645996, -7.793700218200684, -7.698400020599365, -7.794099807739258, -7.457399845123291, -7.797599792480469, -7.329699993133545, -7.272500038146973, -5.53249979019165, -6.692299842834473, -6.44789981842041, -6.561299800872803, -6.499499797821045, -4.8850998878479, -6.355199813842773, -6.117000102996826, -6.256700038909912, -6.418099880218506, -6.960700035095215, -6.727099895477295, -4.476799964904785, -5.9028000831604, -5.174799919128418, -6.484499931335449, -6.822999954223633, -4.567299842834473, -5.352799892425537, -5.567800045013428, -6.008200168609619, -5.130499839782715, -5.021999835968018, -5.5970001220703125, -5.701499938964844, -5.796500205993652, -5.6402997970581055, -4.9079999923706055, -4.904600143432617, -5.573599815368652, -5.333899974822998, -5.19890022277832, -5.382800102233887, -5.739099979400635, -5.297999858856201, -5.698999881744385, -5.190299987792969, -5.994699954986572, -5.634699821472168, -5.879499912261963, -5.37060022354126, -5.896999835968018, -5.583000183105469, -5.745999813079834, -5.873300075531006, -5.896200180053711, -5.746699810028076, -6.1118998527526855, -6.329400062561035, -6.515100002288818, -6.601500034332275, -6.605000019073486, -6.696599960327148, -6.857500076293945, -6.861499786376953, -5.901599884033203, -7.053599834442139, -7.123300075531006, -7.127799987792969, -7.202300071716309, -7.204800128936768, -7.28849983215332, -7.290599822998047, -6.515100002288818, -6.478499889373779, -7.006199836730957, -7.382500171661377, -7.382599830627441, -7.387499809265137, -7.4882001876831055, -7.48859977722168, -7.600900173187256, -5.397600173950195, -7.603499889373779, -7.603799819946289, -7.604499816894531, -6.857399940490723, -6.514599800109863, -6.922800064086914, -6.329500198364258, -6.205900192260742, -5.67110013961792, -5.734000205993652, -6.328700065612793, -6.524400234222412, -6.408299922943115, -6.1905999183654785, -6.406300067901611, -5.516200065612793, -6.606599807739258, -5.209499835968018, -6.3084001541137695, -5.301799774169922, -4.895599842071533, -6.479400157928467, -6.282299995422363, -6.265600204467773, -5.6143999099731445, -5.844099998474121, -6.2378997802734375, -6.076200008392334, -5.621600151062012, -5.72760009765625, -5.8242998123168945, -6.016200065612793, -6.168900012969971, -5.795100212097168, -6.01609992980957, -5.831399917602539, -6.042099952697754, -6.096099853515625, -6.2677998542785645, -6.244900226593018, -6.280799865722656, -6.167099952697754, -6.706500053405762, -6.987800121307373, -6.512499809265137, -7.076399803161621, -7.271999835968018, -7.274099826812744, -7.382900238037109, -7.385700225830078, -7.387700080871582, -7.388400077819824, -7.388899803161621, -7.389800071716309, -7.3907999992370605, -7.514800071716309, -7.516600131988525, -6.830999851226807, -7.51800012588501, -7.518499851226807, -7.519100189208984, -7.520199775695801, -7.670400142669678, -7.671999931335449, -7.672500133514404, -6.985599994659424, -6.410799980163574, -6.299200057983398, -7.844399929046631, -7.8491997718811035, -7.849299907684326, -7.073299884796143, -6.182600021362305, -7.040800094604492, -7.286200046539307, -4.028600215911865, -6.119200229644775, -5.7677001953125, -6.122200012207031, -6.222599983215332, -6.316100120544434, -6.00600004196167, -6.207399845123291, -5.325900077819824, -5.378499984741211, -4.9430999755859375, -5.459099769592285, -5.478099822998047, -5.479800224304199, -4.896399974822998, -6.252799987792969, -6.300300121307373, -5.7804999351501465, -5.413000106811523, -5.994100093841553, -5.475800037384033, -6.068900108337402, -6.105999946594238, -5.654399871826172, -5.802199840545654, -5.7804999351501465, -6.061200141906738, -5.960999965667725, -6.05049991607666, -6.060500144958496, -6.128799915313721, -6.170199871063232, -6.176000118255615], \"loglift\": [30.0, 29.0, 28.0, 27.0, 26.0, 25.0, 24.0, 23.0, 22.0, 21.0, 20.0, 19.0, 18.0, 17.0, 16.0, 15.0, 14.0, 13.0, 12.0, 11.0, 10.0, 9.0, 8.0, 7.0, 6.0, 5.0, 4.0, 3.0, 2.0, 1.0, 1.5937, 1.5867, 1.5867, 1.5861, 1.5858, 1.58, 1.5743, 1.5728, 1.56, 1.5592, 1.5571, 1.5498, 1.5441, 1.5377, 1.5371, 1.536, 1.5319, 1.5316, 1.53, 1.529, 1.5283, 1.5283, 1.5269, 1.5267, 1.5262, 1.5254, 1.5198, 1.5157, 1.5151, 1.5143, 1.5141, 1.5056, 1.4748, 1.4903, 1.484, 1.3832, 1.3872, 1.4189, 1.4045, 1.3311, 1.1749, 1.3515, 1.0324, 1.2473, 1.1075, 0.9703, 0.7988, 1.0721, 1.3237, 0.8756, 0.7934, 1.3412, 0.3601, 0.6635, 0.385, 0.3785, 0.6345, 0.6353, 0.4932, 0.6489, 0.3591, 0.7347, 0.5685, 1.0058, 0.5323, 0.1236, 0.0023, 0.5986, 0.6766, 0.3977, 0.1798, 0.1655, 0.3678, 0.0644, 0.5308, 0.3554, 0.1006, 0.1482, 0.1256, 1.6812, 1.6082, 1.6075, 1.6074, 1.6073, 1.6073, 1.6072, 1.6072, 1.6072, 1.6072, 1.6071, 1.6071, 1.6071, 1.6071, 1.6071, 1.6071, 1.607, 1.607, 1.607, 1.6069, 1.6069, 1.6069, 1.6068, 1.6068, 1.6068, 1.6068, 1.6068, 1.6068, 1.6068, 1.6067, 1.2175, 1.0102, -0.6406, 1.0499, -0.5658, -1.1572, -0.006, -1.2856, -1.3584, 1.3353, -1.5424, 1.2605, -1.2463, -0.5631, -1.3138, -1.308, -0.5596, -1.2883, -0.9968, -2.163, -1.8149, 0.5669, -1.1447, -0.9033, -1.369, 1.4323, 1.7865, 1.7686, 1.7581, 1.7557, 1.7524, 1.7523, 1.7459, 1.7453, 1.7453, 1.7445, 1.7355, 1.7339, 1.728, 1.7244, 1.7242, 1.7208, 1.72, 1.7161, 1.7156, 1.7153, 1.7151, 1.7145, 1.7143, 1.7135, 1.7101, 1.7065, 1.7055, 1.7029, 1.7023, 1.7011, 1.6996, 1.6878, 1.6866, 1.6594, 1.6712, 1.6759, 1.6325, 1.648, 1.6794, 1.4667, 1.575, 1.3529, 1.0973, 1.3657, 0.7663, 1.355, 1.4473, 0.8366, 1.2724, 1.1364, 1.1338, 0.6341, 0.8353, 0.7672, 1.1137, 0.4396, 0.5704, 0.2936, 0.1985, 0.8603, 0.5724, 0.7322, 0.0491, 0.6274, 0.8753, 0.1216, 0.4995, 1.0504, 0.4761, 0.4427, 0.5812, 0.1535, 0.1514, 0.569, 0.3085, -0.1971, -0.1345, -0.4184, 0.3782, 1.8227, 1.813, 1.8027, 1.8009, 1.7969, 1.786, 1.7822, 1.7819, 1.779, 1.7773, 1.7752, 1.7724, 1.7713, 1.7711, 1.7659, 1.7653, 1.765, 1.765, 1.7644, 1.7627, 1.7588, 1.7582, 1.7569, 1.7568, 1.7546, 1.7502, 1.7481, 1.748, 1.7468, 1.7443, 1.733, 1.7178, 1.6868, 1.6266, 1.2978, 1.5149, 1.4765, 1.2642, 1.3278, 1.2661, 1.4209, 1.7119, 1.2206, 1.3086, 0.7252, 0.9885, 1.0881, 1.271, 1.1887, 0.6822, 0.83, 1.0544, 1.0472, 0.9389, 1.1408, 0.4725, 0.6874, 0.6802, 0.38, 0.8616, 0.3182, 0.6517, 0.4644, 0.9405, 0.8728, 0.5648, 0.5913, 0.8189, 0.4306, 0.4847, 0.8089, 0.5633, 0.1902, -0.5433, 1.9392, 1.9333, 1.9319, 1.9282, 1.9271, 1.9221, 1.9144, 1.9128, 1.9117, 1.9083, 1.9053, 1.9012, 1.9006, 1.8958, 1.8954, 1.8946, 1.8912, 1.8908, 1.8906, 1.8906, 1.8902, 1.89, 1.888, 1.8786, 1.8756, 1.8747, 1.8742, 1.8742, 1.8732, 1.8706, 1.8694, 1.8656, 1.8273, 1.8417, 1.8312, 1.8312, 1.8275, 1.7163, 1.8084, 1.7697, 1.7802, 1.7853, 1.8281, 1.772, 1.3954, 1.6032, 1.4485, 1.7093, 1.7744, 1.2328, 1.4081, 1.3877, 1.4899, 1.1624, 1.0697, 1.2994, 1.3362, 1.3506, 1.2655, 0.7861, 0.5802, 1.0588, 0.8145, 0.6994, 0.8001, 0.9944, 0.3594, 0.7915, 0.0522, 1.1888, 0.6299, 0.985, 0.0686, 0.979, -0.32, 0.0178, 0.4069, 0.4969, 2.3495, 2.3429, 2.3346, 2.3305, 2.3272, 2.3237, 2.3229, 2.3152, 2.3111, 2.3094, 2.3003, 2.2993, 2.2947, 2.2939, 2.2915, 2.287, 2.2843, 2.2834, 2.2825, 2.2802, 2.2795, 2.2793, 2.2737, 2.2683, 2.2679, 2.2598, 2.258, 2.2573, 2.2571, 2.2564, 2.2544, 2.2452, 2.242, 2.2226, 2.2029, 2.1449, 2.1107, 2.1622, 2.116, 2.0429, 1.9599, 1.9927, 1.6112, 2.0534, 1.3699, 1.8929, 1.1827, 0.8683, 1.9363, 1.7361, 1.6294, 0.7859, 0.9315, 1.451, 1.1119, 0.0358, 0.1446, 0.3241, 0.7385, 1.1801, -0.1011, 0.4209, -0.5889, 0.1409, -0.1956, 1.3803, -0.7309, 0.1124, 2.6413, 2.6362, 2.6203, 2.6144, 2.6092, 2.593, 2.5901, 2.5865, 2.5828, 2.5801, 2.5794, 2.5785, 2.5773, 2.576, 2.5689, 2.5665, 2.566, 2.5648, 2.564, 2.5632, 2.5616, 2.5411, 2.5394, 2.5385, 2.5296, 2.5238, 2.5216, 2.5172, 2.5109, 2.5106, 2.5073, 2.4215, 2.461, 2.4576, 1.2139, 1.9529, 1.8139, 1.8059, 1.838, 1.8545, 1.5048, 1.6387, 0.967, 0.9729, 0.5417, 0.9461, 0.9222, 0.8961, 0.3666, 1.5252, 1.5692, 0.7534, 0.281, 1.0185, 0.1816, 1.0482, 0.8679, -0.1404, 0.0983, -0.3413, 0.6982, 0.2288, 0.3115, 0.2197, 0.3082, 0.8069, 0.6621]}, \"token.table\": {\"Topic\": [6, 2, 2, 3, 2, 2, 4, 2, 3, 5, 2, 3, 2, 2, 2, 2, 1, 5, 5, 2, 2, 2, 2, 2, 2, 2, 2, 1, 2, 5, 2, 2, 2, 2, 2, 2, 2, 2, 1, 3, 2, 2, 5, 1, 3, 4, 7, 3, 1, 2, 3, 4, 5, 6, 7, 1, 3, 5, 5, 2, 3, 7, 1, 3, 4, 3, 4, 4, 1, 2, 3, 4, 5, 6, 7, 5, 4, 7, 1, 3, 4, 1, 2, 3, 4, 5, 6, 7, 4, 1, 2, 3, 4, 5, 6, 7, 1, 3, 4, 5, 6, 7, 1, 3, 4, 5, 6, 7, 1, 2, 3, 4, 5, 6, 7, 6, 1, 2, 3, 4, 5, 6, 7, 1, 3, 4, 5, 6, 7, 1, 3, 5, 6, 5, 1, 2, 3, 4, 5, 6, 7, 7, 7, 5, 1, 3, 4, 5, 6, 7, 1, 1, 1, 2, 3, 4, 5, 6, 7, 1, 3, 4, 5, 6, 7, 3, 2, 6, 3, 1, 3, 4, 6, 7, 4, 6, 1, 4, 1, 1, 2, 3, 4, 5, 6, 7, 3, 5, 5, 4, 1, 2, 3, 4, 7, 1, 3, 4, 5, 6, 7, 5, 5, 1, 3, 4, 5, 6, 7, 5, 4, 1, 3, 4, 5, 6, 7, 7, 1, 2, 3, 4, 5, 7, 6, 7, 1, 3, 4, 6, 7, 1, 6, 6, 5, 6, 6, 1, 2, 3, 4, 5, 6, 7, 1, 2, 3, 4, 5, 6, 7, 5, 6, 3, 6, 1, 2, 3, 4, 5, 6, 7, 1, 2, 3, 4, 5, 6, 7, 1, 4, 5, 4, 5, 6, 4, 1, 2, 3, 4, 6, 7, 4, 1, 3, 4, 5, 6, 7, 6, 1, 1, 1, 3, 4, 1, 2, 3, 4, 5, 7, 1, 2, 3, 4, 5, 6, 7, 1, 3, 4, 5, 6, 7, 1, 2, 3, 4, 5, 6, 7, 3, 4, 1, 2, 3, 4, 5, 6, 7, 1, 3, 1, 2, 3, 4, 5, 6, 7, 1, 1, 1, 1, 4, 1, 2, 3, 4, 5, 6, 7, 1, 1, 3, 4, 5, 6, 7, 3, 4, 5, 6, 7, 6, 6, 3, 4, 5, 6, 7, 1, 3, 4, 1, 2, 3, 4, 6, 7, 1, 3, 4, 6, 1, 3, 7, 1, 1, 3, 4, 6, 4, 3, 5, 7, 7, 6, 1, 3, 5, 5, 1, 3, 4, 5, 6, 1, 3, 4, 5, 6, 7, 1, 2, 3, 4, 5, 6, 7, 4, 3, 1, 7, 7, 3, 4, 5, 7, 1, 2, 3, 4, 5, 6, 7, 4, 7, 1, 4, 6, 7, 1, 2, 3, 4, 5, 6, 7, 1, 3, 4, 5, 6, 7, 1, 3, 1, 4, 5, 6, 7, 1, 2, 3, 4, 5, 6, 7, 3, 5, 6, 1, 7, 1, 1, 5, 1, 2, 3, 4, 5, 6, 7, 1, 3, 4, 5, 6, 7, 1, 3, 4, 5, 6, 7, 3, 4, 5, 6, 1, 3, 4, 5, 6, 7, 3, 4, 5, 6, 7, 3, 4, 1, 2, 4, 5, 1, 2, 3, 4, 1, 2, 3, 4, 5, 6, 7, 2, 3, 4, 3, 6, 1, 3, 5, 6, 1, 3, 4, 5, 6, 7, 5, 1, 2, 3, 4, 5, 6, 7, 7, 1, 3, 4, 5, 6, 7, 1, 3, 5, 6, 7, 4, 1, 3, 4, 5, 6, 7, 1, 3, 6, 1, 7, 1, 2, 3, 4, 5, 6, 7, 5, 1, 2, 3, 4, 5, 6, 7, 7, 1, 2, 3, 4, 5, 6, 7, 5, 3, 1, 2, 3, 4, 5, 6, 7, 1, 2, 3, 4, 5, 6, 7, 1, 2, 3, 4, 5, 6, 7, 1, 3, 4, 5, 7, 1, 2, 3, 4, 5, 6, 7, 1, 1, 3, 4, 6, 7, 1, 2, 3, 4, 5, 6, 7, 6, 3, 6, 1, 1, 3, 4, 5, 4, 7, 4, 1, 2, 3, 4, 5, 6, 7, 4, 1, 2, 3, 4, 5, 6, 7, 6, 1, 3, 4, 5, 6, 7, 1, 2, 3, 4, 5, 6, 7, 1, 3, 4, 5, 6, 7, 1, 3, 4, 6, 7, 7, 1, 2, 3, 4, 5, 6, 7, 1, 2, 3, 4, 5, 6, 7, 4, 7, 7, 7, 6, 4, 4, 2, 2, 3, 1, 4, 7, 1, 3, 7, 5, 1, 2, 3, 4, 5, 6, 7, 7, 4, 1, 3, 4, 5, 6, 7, 1, 2, 3, 4, 5, 6, 7, 3, 1, 2, 3, 4, 5, 6, 7, 7, 2, 3, 4, 5, 7, 1, 2, 3, 4, 5, 6, 7, 1, 2, 3, 4, 5, 6, 7, 1, 6, 1, 3, 6, 7, 4, 6, 1, 6, 1, 2, 3, 4, 5, 6, 7, 7, 1, 2, 3, 4, 5, 6, 7, 5, 1, 2, 3, 4, 5, 7, 1, 3, 4, 6, 1, 2, 3, 4, 5, 6, 7, 6, 1, 4, 4, 3, 5, 1, 2, 3, 4, 5, 6, 7, 1, 3, 7, 1, 2, 3, 4, 5, 6, 1, 2, 3, 4, 5, 6, 7, 1, 3, 5, 6, 7, 3, 1, 2, 3, 4, 5, 6, 7, 7, 7, 1, 2, 3, 4, 5, 6, 7, 1, 1, 2, 3, 4, 5, 6, 7, 1, 2, 3, 4, 5, 6, 7, 6, 3, 1, 2, 3, 4, 5, 6, 7, 4, 2, 3, 4, 6, 7, 4, 1, 2, 3, 4, 5, 6, 7, 1, 3, 4, 5, 6, 7, 4, 4, 1, 3, 4, 5, 6, 7, 1, 2, 5, 6, 1, 4, 6, 7, 1, 2, 3, 4, 5, 5, 4, 5, 3, 4, 6, 4, 5, 3, 4, 5, 7, 6, 6, 1, 3, 4, 5, 6, 7, 1, 7, 1, 2, 3, 4, 5, 6, 7, 1, 3, 6, 1, 2, 3, 4, 5, 6, 7, 5, 1, 3, 4, 5, 6, 7, 2, 4, 6, 1, 2, 3, 4, 5, 6, 7, 1, 2, 3, 4, 5, 6, 7, 6, 6, 1, 3, 4, 5, 6, 7, 1, 1, 2, 3, 4, 5, 6, 7, 1, 3, 4, 7, 3, 1, 3, 4, 6, 7, 1, 3, 1, 3, 6, 1, 2, 3, 4, 5, 6, 7, 1, 3, 4, 3, 7, 1, 1, 3, 5, 3, 4, 1, 2, 3, 4, 5, 6, 7, 1, 2, 3, 4, 5, 6, 7, 1, 2, 3, 4, 5, 7, 4, 5, 1, 2, 3, 4, 5, 6, 7, 1, 3, 4, 5, 7, 1, 2, 3, 4, 5, 6, 7, 1, 6, 5, 1, 3, 4, 5, 6, 5, 1, 3, 4, 5, 6, 7, 7, 1, 2, 3, 4, 5, 6, 7, 1, 2, 3, 4, 5, 6, 7, 6, 3, 7, 1, 2, 3, 6, 5, 3, 4, 1, 2, 3, 4, 5, 6, 7, 7, 1, 2, 3, 4, 5, 6, 7, 3, 4, 5, 1, 2, 3, 4, 5, 6, 7, 1, 1, 3, 4, 5, 6, 4, 1, 3, 4, 5, 6, 7, 3, 7, 1, 2, 3, 4, 5, 7, 1, 2, 3, 4, 5, 6, 7, 1, 3, 4, 5, 6, 1, 3, 4, 5, 6, 7, 1, 2, 3, 4, 5, 6, 7, 1, 3, 4, 5, 6, 7, 3, 1, 4, 7, 2, 5, 7, 3, 5, 6, 1, 2, 3, 4, 5, 6, 7, 1, 2, 3, 4, 5, 6, 7, 1, 1, 2, 3, 4, 5, 6, 7, 1, 6, 1, 2, 3, 4, 5, 6, 7, 5, 1, 2, 3, 4, 5, 6, 7, 1, 6, 1, 5, 1, 4, 6, 7, 1, 3, 4, 5, 6, 7, 4, 7, 1, 7, 1, 3, 4, 5, 6, 7, 1, 2, 3, 4, 5, 7, 3, 1, 2, 3, 4, 5, 6, 7, 3, 3, 1, 2, 3, 4, 5, 6, 7, 1, 2, 3, 4, 5, 6, 7, 3], \"Freq\": [0.9524336391331922, 0.9620736625218854, 0.9621694158178878, 0.9119117019083419, 0.9621051190241892, 0.9621725242945317, 0.8563752561382018, 0.9620062224914652, 0.12923456377711426, 0.8184855705883902, 0.9620967298957878, 0.8498413459610467, 0.9621335145224866, 0.9621528313505918, 0.9620474261456674, 0.9621086865137477, 0.8993989504627967, 0.9425503471669616, 0.8799365909102717, 0.9620310692040205, 0.9621709651192946, 0.962171071008404, 0.9620656966615515, 0.9620774889422528, 0.962058164837391, 0.9621424306129412, 0.9620793814821803, 0.9240451946640481, 0.8074416614257888, 0.2018604153564472, 0.9620361188328241, 0.9620940817393735, 0.962105859113374, 0.9620938869818293, 0.962131713773289, 0.96205548990139, 0.9621219155126034, 0.9620667009274086, 0.9782944813994587, 0.9448423835461771, 0.9621422585734746, 0.9621662992087632, 0.9424609893590644, 0.8042706583314354, 0.1340451097219059, 0.03351127743047647, 0.03351127743047647, 0.9447657787571591, 0.1630038493575616, 0.018111538817506847, 0.21130128620424654, 0.1147064125108767, 0.4044910335909862, 0.02414871842334246, 0.06037179605835615, 0.032870892410570444, 0.06574178482114089, 0.8546432026748316, 0.960365957348429, 0.08185542988557867, 0.8185542988557867, 0.04092771494278934, 0.15098000796294844, 0.03774500199073711, 0.7926450418054793, 0.9712352142255549, 0.8896441414443136, 0.8896855781211439, 0.5793913984471769, 0.010346274972271016, 0.22761804938996233, 0.10346274972271016, 0.020692549944542032, 0.031038824916813045, 0.031038824916813045, 0.8798901887363123, 0.13554219179449165, 0.8132531507669498, 0.10505834902925566, 0.8404667922340453, 0.8895764883654621, 0.22590757925894983, 0.051847641141398323, 0.2888654292163621, 0.24072119101363507, 0.12221229697615318, 0.025923820570699162, 0.044440835264055706, 0.890169943058913, 0.185350672618024, 0.004752581349180102, 0.27089713690326583, 0.14257744047540308, 0.2281239047606449, 0.10455678968196225, 0.06653613888852143, 0.2843109856334998, 0.06180673600728257, 0.02472269440291303, 0.14833616641747818, 0.29667233283495636, 0.1606975136189347, 0.11652917732709177, 0.5826458866354588, 0.17479376599063765, 0.03884305910903059, 0.07768611821806118, 0.019421529554515295, 0.27180346714064324, 0.05067522268723857, 0.26258979028841806, 0.13359831435726532, 0.11056412222670234, 0.08292309167002675, 0.09213676852225194, 0.9610198382796278, 0.36104950251974227, 0.005730944484440354, 0.2005830569554124, 0.2235068348931738, 0.1490045565954492, 0.005730944484440354, 0.05730944484440354, 0.11109734239896321, 0.20632363588378883, 0.10316181794189441, 0.49200251633826564, 0.039677622285344, 0.039677622285344, 0.03133159579111796, 0.06266319158223592, 0.877284682151303, 0.03133159579111796, 0.9424499395978753, 0.2015421232275758, 0.025192765403446976, 0.16375297512240536, 0.49125892536721605, 0.05038553080689395, 0.012596382701723488, 0.05038553080689395, 0.865500381406157, 0.951533278268111, 0.8975875201809173, 0.2453197833254594, 0.21645863234599358, 0.20683824868617165, 0.11063441208795227, 0.04810191829910969, 0.1683567140468839, 0.9001926924736467, 0.9449208870501533, 0.350657932915642, 0.019214133310446135, 0.350657932915642, 0.15851659981118063, 0.05283886660372687, 0.043231799948503805, 0.02401766663805767, 0.035936581705678414, 0.6827950524078898, 0.07187316341135683, 0.035936581705678414, 0.07187316341135683, 0.10780974511703524, 0.9526214404471549, 0.6647180490432844, 0.24926926839123165, 0.9709067967731257, 0.7280504021196931, 0.09927960028904906, 0.03309320009634969, 0.06618640019269938, 0.06618640019269938, 0.07596841000525886, 0.9116209200631064, 0.9687748442846136, 0.9304902880297332, 0.9053778562035788, 0.2893464160962556, 0.005748604293303092, 0.10730728014165772, 0.22994417173212367, 0.249106186043134, 0.005748604293303092, 0.11305588443496081, 0.14524450438150543, 0.8424181254127314, 0.921381902420253, 0.856360228446357, 0.17646492609527448, 0.04411623152381862, 0.13234869457145584, 0.2426392733810024, 0.39704608371436756, 0.07350278172525915, 0.2539187005054407, 0.5947043248680058, 0.0133641421318653, 0.060138639593393856, 0.00668207106593265, 0.9212749323532273, 0.9665343433792752, 0.08887839576392101, 0.6221487703474471, 0.08887839576392101, 0.0711027166111368, 0.0355513583055684, 0.08887839576392101, 0.9665982221516138, 0.9168500789473701, 0.10918320042095939, 0.15597600060137054, 0.2651592010223299, 0.03119520012027411, 0.03119520012027411, 0.4055376015635634, 0.8484767410829959, 0.14395374715903686, 0.18321386002059237, 0.47112135433866614, 0.1701271557334072, 0.013086704287185169, 0.013086704287185169, 0.09582736311243018, 0.8624462680118715, 0.16530259707018635, 0.05510086569006212, 0.08265129853509318, 0.6612103882807454, 0.02755043284503106, 0.0526698194639367, 0.8953869308869239, 0.9158615376075463, 0.8797493044879636, 0.914264273509058, 0.9141565845139865, 0.343519602534153, 0.0114506534178051, 0.12023186088695355, 0.0458026136712204, 0.0458026136712204, 0.3664209093697632, 0.06297859379792804, 0.22851764344298836, 0.014062624211876207, 0.1160166497479787, 0.15117321027766922, 0.40781610214441, 0.05625049684750483, 0.028125248423752414, 0.9608413109787054, 0.919660511156385, 0.9102572442358446, 0.9386214516833093, 0.29475794338410843, 0.007756787983792328, 0.13186539572446956, 0.3102715193516931, 0.0853246678217156, 0.0853246678217156, 0.08144627382981945, 0.06438345699748671, 0.005853041545226065, 0.01170608309045213, 0.12291387244974736, 0.7784545255150667, 0.01170608309045213, 0.005853041545226065, 0.02116256747071192, 0.14813797229498343, 0.8253401313577649, 0.043264892846584586, 0.9085627497782763, 0.9143434284147579, 0.952423298062395, 0.11856214610798815, 0.3161657229546351, 0.35568643832396446, 0.11856214610798815, 0.07904143073865877, 0.039520715369329384, 0.9601130940450078, 0.13695667460552213, 0.23282634682938763, 0.3560873539743576, 0.21913067936883543, 0.03423916865138053, 0.02054350119082832, 0.971074660093176, 0.978034573247821, 0.9490566302259253, 0.9626548652507007, 0.020482018409589377, 0.9412175527784802, 0.2753019805557019, 0.008603186892365684, 0.38714341015645576, 0.2236828592015078, 0.07742868203129115, 0.02580956067709705, 0.2823037323931424, 0.00818271688096065, 0.37640497652418986, 0.2577555817502604, 0.024548150642881947, 0.00818271688096065, 0.04500494284528357, 0.11594478499446745, 0.028986196248616862, 0.11594478499446745, 0.057972392497233724, 0.6087101212209541, 0.057972392497233724, 0.23130257583259617, 0.04800619498412373, 0.22257417674457367, 0.3622285621529336, 0.06982719270417997, 0.03491359635208999, 0.03491359635208999, 0.8401532071106848, 0.09335035634563164, 0.21363523686549415, 0.02810989958756502, 0.3766726544733713, 0.22487919670052017, 0.1180615782677731, 0.011243959835026008, 0.02810989958756502, 0.07555195699599969, 0.9066234839519962, 0.2337590154856921, 0.013132528959870342, 0.1418313127665997, 0.09455420851106647, 0.47802405413928045, 0.01838554054381848, 0.01838554054381848, 0.868726327132102, 0.9719861219087043, 0.9617506510001738, 0.07604441967746582, 0.9125330361295898, 0.3719546717763624, 0.008358531950030616, 0.10030238340036739, 0.15881210705058169, 0.26329375642596436, 0.04597192572516838, 0.050151191700183693, 0.8996061754753004, 0.16705773025397702, 0.501173190761931, 0.11565535171429177, 0.06425297317460654, 0.08995416244444916, 0.03855178390476392, 0.028772568213108984, 0.08631770463932695, 0.7768593417539426, 0.05754513642621797, 0.028772568213108984, 0.9609103739537882, 0.9655245059702001, 0.9089249566157986, 0.842252798362943, 0.04432909465068121, 0.04432909465068121, 0.04432909465068121, 0.7833157820720507, 0.058023391264596345, 0.11604678252919269, 0.685194087427837, 0.01803142335336413, 0.16228281018027718, 0.09015711676682066, 0.01803142335336413, 0.01803142335336413, 0.7538916838148223, 0.05199252991826361, 0.1559775897547908, 0.05199252991826361, 0.8762990727247568, 0.058419938181650456, 0.058419938181650456, 0.9582630901391269, 0.8570468640627896, 0.05529334606856707, 0.027646673034283534, 0.05529334606856707, 0.8910555548708053, 0.10431794311479224, 0.8867025164757341, 0.9511841389158862, 0.8492185260181078, 0.9437707675349732, 0.01249479070813968, 0.11245311637325711, 0.8621405588616379, 0.977198474036445, 0.10669658133564483, 0.06401794880138689, 0.021339316267128965, 0.32008974400693446, 0.46946495787683723, 0.4093626683771457, 0.04775897797733366, 0.26608573444514466, 0.034113555698095474, 0.19103591190933464, 0.04093626683771457, 0.12799315829008373, 0.04266438609669458, 0.18487900641900984, 0.4693082470636404, 0.04266438609669458, 0.014221462032231527, 0.12088242727396797, 0.9875908152687599, 0.8826204749462192, 0.053196477815358585, 0.904340122861096, 0.9503607534644237, 0.06034423199673376, 0.06034423199673376, 0.06034423199673376, 0.8448192479542727, 0.5215425351999461, 0.00521542535199946, 0.22947871548797624, 0.03650797746399622, 0.13560105915198598, 0.03650797746399622, 0.03129255211199676, 0.07315014846971228, 0.8778017816365474, 0.1161627589354236, 0.038720919645141204, 0.8131393125479652, 0.038720919645141204, 0.3496301295741244, 0.10283239105121307, 0.13368210836657698, 0.21594802120754744, 0.07198267373584914, 0.06169943463072784, 0.06169943463072784, 0.5370444529859002, 0.20655555884073087, 0.04131111176814617, 0.013770370589382058, 0.16524444707258468, 0.027540741178764115, 0.040260703998742126, 0.925996191971069, 0.02791481000073969, 0.08374443000221908, 0.8653591100229304, 0.02791481000073969, 0.02791481000073969, 0.11705244229283136, 0.04768803204522759, 0.1820815768999599, 0.5592505576213054, 0.04768803204522759, 0.004335275640475236, 0.03901748076427712, 0.03509403071737993, 0.8773507679344983, 0.07018806143475986, 0.9249751643900341, 0.9467521033180566, 0.9249702987415808, 0.0739672987272856, 0.8876075847274272, 0.22545373022163406, 0.10782569706252064, 0.17644204973867014, 0.0686163526761495, 0.1470350414488918, 0.08822102486933507, 0.18624438583526293, 0.2671785399221142, 0.15192505211257473, 0.18859661641561, 0.30908889912558307, 0.010477589800867224, 0.07334312860607056, 0.07551481956843775, 0.1208237113095004, 0.5588096648064393, 0.16613260305056304, 0.0302059278273751, 0.045308891741062646, 0.07377185756985317, 0.04918123837990212, 0.836081052458336, 0.02459061918995106, 0.16836914177289522, 0.14856100744667225, 0.07923253730489187, 0.04952033581555742, 0.46549115666623975, 0.08913660446800335, 0.07064691834995787, 0.17661729587489466, 0.035323459174978936, 0.6711457243245997, 0.035323459174978936, 0.8754022771536834, 0.06733863670412948, 0.054003127707196404, 0.6210359686327587, 0.29701720238958024, 0.013500781926799101, 0.1437274941027873, 0.5270008117102201, 0.0479091647009291, 0.2874549882055746, 0.1448692700448359, 0.009054329377802244, 0.09959762315582468, 0.16297792880044037, 0.5342054332903323, 0.03621731751120898, 0.02716298813340673, 0.14178871293093157, 0.12153318251222706, 0.7089435646546578, 0.9057884417294377, 0.09057884417294378, 0.04839246224089246, 0.8710643203360643, 0.04839246224089246, 0.9164979931198065, 0.07443577086116103, 0.11165365629174155, 0.037217885430580515, 0.037217885430580515, 0.7071398231810297, 0.037217885430580515, 0.9419822932040433, 0.225245666065692, 0.009009826642627679, 0.09009826642627679, 0.450491332131384, 0.16217687956729823, 0.009009826642627679, 0.05405895985576607, 0.847265949433596, 0.1291321745931505, 0.07174009699619473, 0.11478415519391155, 0.6169648341672747, 0.014348019399238944, 0.04304405819771683, 0.215517487009384, 0.035919581168230665, 0.035919581168230665, 0.646552461028152, 0.035919581168230665, 0.9438341851443407, 0.08320455901269451, 0.24961367703808354, 0.24961367703808354, 0.020801139753173627, 0.062403419259520886, 0.31201709629760443, 0.8974353433500523, 0.05279031431470896, 0.05279031431470896, 0.9196606360058278, 0.06131070906705519, 0.29261620064178007, 0.013934104792465717, 0.0836046287547943, 0.04876936677363001, 0.27868209584931436, 0.23687978147191718, 0.04180231437739715, 0.9545363563286619, 0.24505696992978773, 0.03439396069190003, 0.11607961733516262, 0.06018943121082506, 0.44712148899470044, 0.07738641155677507, 0.017196980345950016, 0.9507956045418318, 0.3773707702993985, 0.009930809744721013, 0.15392755104317568, 0.14896214617081519, 0.0794464779577681, 0.13903133642609417, 0.08937728770248911, 0.9419247972863192, 0.8661370541440119, 0.2522520963510754, 0.011466004379594337, 0.2923831116796556, 0.1261260481755377, 0.2006550766429009, 0.06879602627756602, 0.05159701970817452, 0.2827129694234208, 0.0045113771716503315, 0.19850059555261457, 0.09173133582355673, 0.14737165427391083, 0.05112894127870375, 0.22256127380141635, 0.24933532056619534, 0.01719553934939278, 0.15475985414453505, 0.2751286295902845, 0.12466766028309767, 0.004298884837348195, 0.17625427833127602, 0.19147385015363666, 0.09847226579329886, 0.5580095061620268, 0.005470681432961048, 0.14223771725698725, 0.1980076051580266, 0.09670138856554787, 0.17191357967208512, 0.32540784723644683, 0.10130621659247872, 0.012279541405148937, 0.09516644588990426, 0.8996714707189261, 0.636953504586971, 0.22427940302358132, 0.05382705672565952, 0.05382705672565952, 0.017942352241886506, 0.47386082649849437, 0.010414523659307569, 0.10414523659307569, 0.04686535646688406, 0.031243570977922706, 0.3020211861199195, 0.031243570977922706, 0.8847189188616794, 0.029269300977374846, 0.9366176312759951, 0.9455909580385179, 0.8177317974603154, 0.08607703131161215, 0.043038515655806076, 0.08607703131161215, 0.9518986203722659, 0.9076048843222229, 0.8899145461843428, 0.23355780550972016, 0.01401346833058321, 0.21020202495874815, 0.2755982105014698, 0.05138271721213843, 0.05138271721213843, 0.1634904638568041, 0.9171694127876697, 0.1190666044330584, 0.02232498833119845, 0.07813745915919458, 0.3125498366367783, 0.3162706680253114, 0.13022909859865764, 0.026045819719731526, 0.9598770983377097, 0.3226953817481304, 0.05694624383790536, 0.11389248767581071, 0.037964162558603576, 0.1708387315137161, 0.3037133004688286, 0.12192929742077956, 0.06096464871038978, 0.10160774785064963, 0.28450169398181896, 0.020321549570129927, 0.08128619828051971, 0.34546634269220877, 0.36331489405476874, 0.16451995202480094, 0.08225997601240047, 0.13024496201963406, 0.1233899640186007, 0.13024496201963406, 0.13756440027509334, 0.04585480009169778, 0.04585480009169778, 0.7336768014671645, 0.7542421396533113, 0.9520944836609353, 0.37377318571356344, 0.008494845129853714, 0.22086597337619657, 0.18688659285678172, 0.016989690259707427, 0.033979380519414855, 0.16140205746722058, 0.16029687665662845, 0.020037109582078556, 0.13358073054719038, 0.24044531498494268, 0.38070508205949255, 0.013358073054719036, 0.06011132874623567, 0.9492088952544802, 0.9173219875805458, 0.8475236506457859, 0.7530428655027538, 0.9178904630812096, 0.9777187019243592, 0.9171564581984555, 0.9836478490162194, 0.9621768096694324, 0.9713055478891862, 0.37957310324542337, 0.5851752008366944, 0.03163109193711861, 0.9243322004150459, 0.8864339675504602, 0.06818722827311233, 0.9570057744367587, 0.09476457906629326, 0.02707559401894093, 0.2639870416846741, 0.3722894177604378, 0.18276025962785128, 0.013537797009470465, 0.0406133910284114, 0.7530830028012638, 0.952020799991877, 0.08553101741920091, 0.7086855729019504, 0.12218716774171559, 0.01221871677417156, 0.04887486709668624, 0.02443743354834312, 0.16461554859539657, 0.018994101761007298, 0.34189383169813137, 0.10763324331237469, 0.21526648662474937, 0.10130187605870558, 0.05698230528302189, 0.9713343120167995, 0.24851584747710098, 0.018184086400763487, 0.2909453824122158, 0.2363931232099253, 0.13334996693893222, 0.012122724267175658, 0.06061362133587829, 0.8655774868422463, 0.07271061117442029, 0.6301586301783092, 0.26660557430620774, 0.02423687039147343, 0.9180679182390591, 0.38420826515835727, 0.06985604821061041, 0.19210413257917863, 0.19210413257917863, 0.06985604821061041, 0.017464012052652602, 0.06112404218428411, 0.23154000338925138, 0.031573636825807, 0.11577000169462569, 0.16839272973763736, 0.13681909291183036, 0.28416273143226306, 0.031573636825807, 0.9752676171119405, 0.8736765191921059, 0.4784609350640425, 0.05036430895410974, 0.05036430895410974, 0.4280966261099328, 0.07204886393699998, 0.8645863672439997, 0.924573035115111, 0.9187874824632491, 0.39172961932976724, 0.06078563058565353, 0.29717419397430617, 0.20937272757280662, 0.013507917907923007, 0.0067539589539615036, 0.027015835815846014, 0.9509813785459408, 0.2850251403847141, 0.00385169108627992, 0.11940242367467752, 0.13095749693351727, 0.31198697798867353, 0.10784735041583776, 0.04236860194907912, 0.9139087284085277, 0.25526949791151243, 0.009116767782554016, 0.1777769717598033, 0.28261980125917446, 0.10028444560809417, 0.17321858786852629, 0.7944106876405159, 0.04673004044944211, 0.04673004044944211, 0.04673004044944211, 0.07946854508732672, 0.008829838343036302, 0.12361773680250823, 0.4503217554948514, 0.026489515029108904, 0.13244757514554453, 0.18542660520376233, 0.9668302767279305, 0.06758981413034752, 0.8786675836945177, 0.9519403952205606, 0.9448055854571096, 0.9434384725080097, 0.29108125082018826, 0.02013769659762309, 0.21785326319246795, 0.2526365573156351, 0.15011737463682667, 0.02013769659762309, 0.04759819195801821, 0.918638806867211, 0.06124258712448073, 0.06124258712448073, 0.24466908031264112, 0.5046299781448224, 0.13762635767586062, 0.06116727007816028, 0.03058363503908014, 0.03058363503908014, 0.22294327689095483, 0.03945898706034599, 0.35118498483707933, 0.21702442883190295, 0.06708027800258819, 0.045377835119397886, 0.057215531237501685, 0.30921014642018374, 0.16866007986555476, 0.02811001331092579, 0.05622002662185158, 0.4216501996638869, 0.9857749427198349, 0.2834512847490372, 0.00236209403957531, 0.13463936025579268, 0.10393213774131364, 0.3070722251447903, 0.08503538542471116, 0.08739747946428647, 0.8470280392449178, 0.8650414506745466, 0.2212275372861459, 0.025724132242575103, 0.3035447604623862, 0.16463444635248065, 0.1749240992495107, 0.04115861158812016, 0.06688274383069527, 0.9661010274469812, 0.21504815592696364, 0.029661814610615674, 0.11123180478980878, 0.2817872388008489, 0.17797088766369404, 0.05190817556857743, 0.1260627120951166, 0.33505084912832445, 0.0047864407018332064, 0.009572881403666413, 0.2249627129861607, 0.05265084772016527, 0.20581695017882787, 0.16752542456416222, 0.9143003178532247, 0.9097241189855074, 0.21731318022822912, 0.005795018139419443, 0.1883380895311319, 0.25208328906474575, 0.281058379761843, 0.034770108836516656, 0.02028256348796805, 0.9175623534195299, 0.01620028053267884, 0.03240056106535768, 0.6966120629051901, 0.24300420799018257, 0.01620028053267884, 0.939257051711876, 0.10407361203537803, 0.022301488293295292, 0.23788254179514978, 0.37912530098602, 0.1932795652085592, 0.007433829431098431, 0.052036806017689015, 0.14114729732143838, 0.06210481082143288, 0.09598016217857809, 0.5645891892857535, 0.10727194596429317, 0.028229459464287673, 0.9401776106215053, 0.9402207244969834, 0.15283565346047098, 0.07641782673023549, 0.2292534801907065, 0.05094521782015699, 0.025472608910078496, 0.458506960381413, 0.15774926014758697, 0.01971865751844837, 0.01971865751844837, 0.7887463007379348, 0.13490527615574557, 0.04496842538524852, 0.7644632315492248, 0.04496842538524852, 0.04657500757698062, 0.04657500757698062, 0.6287626022892384, 0.18630003030792247, 0.06986251136547093, 0.8966756495913224, 0.889394335993352, 0.9426390026740165, 0.9098793104450871, 0.8806249736460471, 0.08806249736460471, 0.9603689615588528, 0.8798882059221188, 0.9000027929609256, 0.035294227174938256, 0.035294227174938256, 0.017647113587469128, 0.8742119971194497, 0.959905340372056, 0.22575624811485606, 0.034731730479208626, 0.034731730479208626, 0.29521970907327333, 0.3994149005108992, 0.017365865239604313, 0.9469322614048578, 0.07284094318498906, 0.211775722861906, 0.050097482827547654, 0.25276457244808137, 0.10930359889646761, 0.20038993131019062, 0.09564064903440915, 0.07970054086200763, 0.0823335040687996, 0.0411667520343998, 0.8645017927223959, 0.34265300986230274, 0.007614511330273395, 0.1446757152751945, 0.038072556651366975, 0.3731110551833963, 0.04568706798164037, 0.038072556651366975, 0.9131305516265242, 0.20004999372548526, 0.3000749905882279, 0.08335416405228553, 0.033341665620914215, 0.36675832183005636, 0.016670832810457108, 0.6230459474813929, 0.07788074343517411, 0.23364223030552234, 0.3344512944869358, 0.026129007381791858, 0.1463224413380344, 0.16199984576710952, 0.21425786053069323, 0.05748381623994209, 0.052258014763583716, 0.3028092983870498, 0.008184035091541886, 0.38464964930246864, 0.13094456146467018, 0.09820842109850263, 0.008184035091541886, 0.06547228073233509, 0.9188785032253117, 0.8848167046639759, 0.04058568984355073, 0.0608785347653261, 0.04058568984355073, 0.0608785347653261, 0.7711281070274639, 0.04058568984355073, 0.8875692512222831, 0.1373043266329093, 0.006865216331645465, 0.09611302864303652, 0.03432608165822733, 0.5698129555265736, 0.13043911030126384, 0.020595648994936395, 0.7624191934264616, 0.0953023991783077, 0.06353493278553846, 0.03176746639276923, 0.9447170494952929, 0.7698028541323991, 0.07698028541323991, 0.038490142706619955, 0.038490142706619955, 0.07698028541323991, 0.06704649819510655, 0.8716044765363852, 0.018337451079139595, 0.9352100050361194, 0.018337451079139595, 0.29020434146229174, 0.10242506169257357, 0.2162306857954331, 0.2105404045902901, 0.11949590530800248, 0.02845140602571488, 0.02845140602571488, 0.13749438549685744, 0.7905927166069302, 0.06874719274842872, 0.9441824882365701, 0.039340937009857094, 0.9261374096950449, 0.039044074836892234, 0.11713222451067669, 0.8199255715747369, 0.9447947144724886, 0.8895741579618943, 0.1885694906223302, 0.03142824843705503, 0.11523691093586845, 0.07333257968646174, 0.4609476437434738, 0.11523691093586845, 0.020952165624703353, 0.2362879697160715, 0.05712456410718212, 0.30639538930215865, 0.3115885314937207, 0.06751084849030614, 0.0025965710957810053, 0.015579426574686032, 0.25153880791117833, 0.007860587747224323, 0.09432705296669187, 0.03930293873612161, 0.510938203569581, 0.09432705296669187, 0.022821707946162964, 0.9585117337388446, 0.3579373398603059, 0.008522317615721569, 0.1874909875458745, 0.15340171708298822, 0.11079012900438039, 0.04261158807860784, 0.14487939946726666, 0.061153693105300604, 0.5136910220845251, 0.24461477242120241, 0.1100766475895411, 0.061153693105300604, 0.2811218647239332, 0.014056093236196662, 0.4919632632668831, 0.11244874588957329, 0.014056093236196662, 0.0702804661809833, 0.014056093236196662, 0.8540540873374469, 0.07764128066704064, 0.9138024960790706, 0.028924795216797878, 0.057849590433595756, 0.10123678325879257, 0.6941950852031491, 0.10123678325879257, 0.9770116243166158, 0.12071172042653684, 0.0724270322559221, 0.16899640859715157, 0.09656937634122947, 0.5311315698767621, 0.02414234408530737, 0.8952374490455194, 0.17171324998493706, 0.030302338232635954, 0.040403117643514605, 0.16161247057405842, 0.5353413087765685, 0.020201558821757302, 0.040403117643514605, 0.20184274295645357, 0.026912365727527143, 0.17493037722892643, 0.4216270630645919, 0.09867867433426619, 0.0044853942879211905, 0.06728091431881786, 0.9523806383658538, 0.9115739052383224, 0.8478298894589681, 0.07134486880595897, 0.035672434402979486, 0.07134486880595897, 0.8561384256715076, 0.942814154098319, 0.8429580835329977, 0.10536976044162472, 0.18891453331492844, 0.014531887178071419, 0.33423340509564264, 0.11625509742457135, 0.04359566153421426, 0.014531887178071419, 0.30516963073949976, 0.8479207893128767, 0.047861138326285316, 0.029913211453928324, 0.07777434978021364, 0.21537512246828394, 0.5922815867877809, 0.011965284581571329, 0.017947926872356995, 0.040432151733752614, 0.040432151733752614, 0.8895073381425576, 0.38305942672380866, 0.0043529480309523715, 0.09576485668095217, 0.17411792123809483, 0.20458855745476145, 0.06529422046428557, 0.06964716849523794, 0.8994886127705698, 0.18683692351813422, 0.07006384631930034, 0.6539292323134698, 0.023354615439766777, 0.046709230879533555, 0.8564210976973126, 0.3735559124392084, 0.1273486065133665, 0.17404309556826755, 0.20800272397183195, 0.02971467485311885, 0.08065411745846546, 0.10785283719470577, 0.8628226975576462, 0.20804867668800522, 0.062414603006401566, 0.16643894135040418, 0.5305241255544133, 0.010402433834400262, 0.020804867668800523, 0.12326624508027231, 0.048052942997394286, 0.18385473842481292, 0.5766353159687315, 0.0334281342590569, 0.008357033564764225, 0.02716035908548373, 0.3069807643249656, 0.4898629217951579, 0.1698191462223214, 0.006531505623935439, 0.019594516871806314, 0.30342028323555276, 0.26970691843160244, 0.3506189939610832, 0.020228018882370184, 0.020228018882370184, 0.033713364803950305, 0.5563307877820527, 0.01345961583343676, 0.2557327008352984, 0.09421731083405731, 0.03140577027801911, 0.02691923166687352, 0.02691923166687352, 0.5962502791450546, 0.05052968467330971, 0.1414831170852672, 0.16169499095459108, 0.020211873869323885, 0.030317810803985826, 0.8497978939389982, 0.08673043348813726, 0.1300956502322059, 0.7372086846491668, 0.10641677533650677, 0.10641677533650677, 0.7449174273555474, 0.0506734796579226, 0.0506734796579226, 0.8614491541846842, 0.25837487743224025, 0.046977250442225504, 0.2407584085164057, 0.1820368454636238, 0.09395450088445101, 0.09395450088445101, 0.08808234457917281, 0.4356914721433583, 0.004951039456174526, 0.10892286803583957, 0.2277478149840282, 0.11882494694818863, 0.05941247347409431, 0.044559355105570735, 0.9050756984408317, 0.12486099118781667, 0.022701998397784848, 0.1929669863811712, 0.5221459631490515, 0.056754995994462126, 0.06810599519335454, 0.011350999198892424, 0.8686891168806323, 0.8743460183841018, 0.22157336046988296, 0.01007151638499468, 0.23668063504737497, 0.21150184408488826, 0.19639456950739625, 0.050357581924973395, 0.07050061469496276, 0.9424439446090158, 0.43820062213333394, 0.007598854719075156, 0.11398282078612733, 0.03292837044932567, 0.14184528808940292, 0.2203667868531795, 0.04306017674142588, 0.05073076549901043, 0.9131537789821877, 0.03580684612971288, 0.9309779993725349, 0.03359057964982788, 0.03359057964982788, 0.8901503607204387, 0.03359057964982788, 0.21873046018078052, 0.2873517810218097, 0.3002182786795027, 0.08577665105128647, 0.0900654836038508, 0.017155330210257294, 0.1615764506789024, 0.8078822533945119, 0.11514424036813502, 0.806009682576945, 0.11676242235798419, 0.033360692102281195, 0.06672138420456239, 0.55879159271321, 0.166803460511406, 0.05004103815342179, 0.20597866267783838, 0.06644472989607689, 0.2458455006154845, 0.40531285236606907, 0.006644472989607689, 0.06644472989607689, 0.9357611778567444, 0.1595799027455266, 0.016797884499529115, 0.07559048024788102, 0.4031492279886988, 0.31076086324128865, 0.016797884499529115, 0.016797884499529115, 0.9119171037040812, 0.9448358968862982, 0.11553587397866139, 0.007702391598577426, 0.16175022357012594, 0.2926908807459422, 0.3697147967317164, 0.023107174795732276, 0.023107174795732276, 0.3223249366238587, 0.029038282578726007, 0.18874883676171905, 0.19165266501959163, 0.11615313031490403, 0.07549953470468762, 0.07259570644681501, 0.9265838377888145], \"Term\": [\"apple_converted_space_\\u043f\\u0435\\u0440\\u0435\\u0445\\u043e\\u0434\\u0438\\u0442\\u044c\", \"ay\", \"bn\", \"cadena\", \"cf\", \"dw\", \"ffdcc\", \"fo\", \"geekpic_upload_shards_midthumbs\", \"geekpic_upload_shards_midthumbs\", \"ht\", \"ibb_co\", \"ix\", \"ji\", \"kb\", \"kr\", \"local_pref\", \"mathcad\", \"min\", \"mn\", \"nq\", \"ny\", \"nz\", \"oa\", \"om\", \"ou\", \"pc\", \"peers\", \"pv\", \"pv\", \"qa\", \"rh\", \"rs\", \"sf\", \"te\", \"tn\", \"uc\", \"vy\", \"yfti_irow\", \"youtube\", \"yt\", \"zl\", \"\\u0430\\u0432\\u0442\\u043e\\u0440\\u0435\\u0444\\u0435\\u0440\\u0430\\u0442_\\u0434\\u043e\\u043a\\u0442\\u043e\\u0440\\u0441\\u043a\\u0438\\u0439_\\u0438\\u0441\\u0441\\u043b\\u0435\\u0434\\u043e\\u0432\\u0430\\u043d\\u0438\\u0435\", \"\\u0430\\u043a\\u0430\\u0434\\u0435\\u043c\\u0438\\u044f\", \"\\u0430\\u043a\\u0430\\u0434\\u0435\\u043c\\u0438\\u044f\", \"\\u0430\\u043a\\u0430\\u0434\\u0435\\u043c\\u0438\\u044f\", \"\\u0430\\u043a\\u0430\\u0434\\u0435\\u043c\\u0438\\u044f\", \"\\u0430\\u043a\\u043a\\u0430\\u0443\\u043d\\u0442\", \"\\u0430\\u043d\\u0430\\u043b\\u0438\\u0437\", \"\\u0430\\u043d\\u0430\\u043b\\u0438\\u0437\", \"\\u0430\\u043d\\u0430\\u043b\\u0438\\u0437\", \"\\u0430\\u043d\\u0430\\u043b\\u0438\\u0437\", \"\\u0430\\u043d\\u0430\\u043b\\u0438\\u0437\", \"\\u0430\\u043d\\u0430\\u043b\\u0438\\u0437\", \"\\u0430\\u043d\\u0430\\u043b\\u0438\\u0437\", \"\\u0431\\u0430\\u043d\\u043a\", \"\\u0431\\u0430\\u043d\\u043a\", \"\\u0431\\u0430\\u043d\\u043a\", \"\\u0431\\u0430\\u0441\\u043a\\u0435\\u0442\\u0431\\u043e\\u043b\", \"\\u0431\\u0435\\u0441\\u043f\\u043b\\u0430\\u0442\\u043d\\u044b\\u0439\", \"\\u0431\\u0435\\u0441\\u043f\\u043b\\u0430\\u0442\\u043d\\u044b\\u0439\", \"\\u0431\\u0435\\u0441\\u043f\\u043b\\u0430\\u0442\\u043d\\u044b\\u0439\", \"\\u0431\\u043b\\u043e\\u0433\", \"\\u0431\\u043b\\u043e\\u0433\", \"\\u0431\\u043b\\u043e\\u0433\", \"\\u0431\\u043e\\u0435\\u043f\\u0440\\u0438\\u043f\\u0430\\u0441\", \"\\u0432\\u0432\\u0435\\u0434\\u0435\\u043d\\u0438\\u0435_\\u043a\\u0443\\u0440\\u0441_\\u043e\\u0440\\u043a\\u0441\\u044d\", \"\\u0432\\u0435\\u0440\\u043e\\u0443\\u0447\\u0435\\u043d\\u0438\\u0435\", \"\\u0432\\u0437\\u0430\\u0438\\u043c\\u043e\\u0434\\u0435\\u0438\\u0441\\u0442\\u0432\\u0438\\u0435\", \"\\u0432\\u0437\\u0430\\u0438\\u043c\\u043e\\u0434\\u0435\\u0438\\u0441\\u0442\\u0432\\u0438\\u0435\", \"\\u0432\\u0437\\u0430\\u0438\\u043c\\u043e\\u0434\\u0435\\u0438\\u0441\\u0442\\u0432\\u0438\\u0435\", \"\\u0432\\u0437\\u0430\\u0438\\u043c\\u043e\\u0434\\u0435\\u0438\\u0441\\u0442\\u0432\\u0438\\u0435\", \"\\u0432\\u0437\\u0430\\u0438\\u043c\\u043e\\u0434\\u0435\\u0438\\u0441\\u0442\\u0432\\u0438\\u0435\", \"\\u0432\\u0437\\u0430\\u0438\\u043c\\u043e\\u0434\\u0435\\u0438\\u0441\\u0442\\u0432\\u0438\\u0435\", \"\\u0432\\u0437\\u0430\\u0438\\u043c\\u043e\\u0434\\u0435\\u0438\\u0441\\u0442\\u0432\\u0438\\u0435\", \"\\u0432\\u0438\\u0434\\u0435\\u043e\\u0438\\u0433\\u0440\\u0430\", \"\\u0432\\u0438\\u0434\\u0435\\u043e\\u0444\\u0438\\u043b\\u044c\\u043c\", \"\\u0432\\u0438\\u0434\\u0435\\u043e\\u0444\\u0438\\u043b\\u044c\\u043c\", \"\\u0432\\u0438\\u0437\\u0443\\u0430\\u043b\\u044c\\u043d\\u044b\\u0439\", \"\\u0432\\u0438\\u0437\\u0443\\u0430\\u043b\\u044c\\u043d\\u044b\\u0439\", \"\\u0432\\u043e\\u0435\\u043d\\u043d\\u043e\\u0441\\u043b\\u0443\\u0436\\u0430\\u0449\\u0438\\u0439\", \"\\u0432\\u043e\\u0437\\u043c\\u043e\\u0436\\u043d\\u043e\\u0441\\u0442\\u044c\", \"\\u0432\\u043e\\u0437\\u043c\\u043e\\u0436\\u043d\\u043e\\u0441\\u0442\\u044c\", \"\\u0432\\u043e\\u0437\\u043c\\u043e\\u0436\\u043d\\u043e\\u0441\\u0442\\u044c\", \"\\u0432\\u043e\\u0437\\u043c\\u043e\\u0436\\u043d\\u043e\\u0441\\u0442\\u044c\", \"\\u0432\\u043e\\u0437\\u043c\\u043e\\u0436\\u043d\\u043e\\u0441\\u0442\\u044c\", \"\\u0432\\u043e\\u0437\\u043c\\u043e\\u0436\\u043d\\u043e\\u0441\\u0442\\u044c\", \"\\u0432\\u043e\\u0437\\u043c\\u043e\\u0436\\u043d\\u043e\\u0441\\u0442\\u044c\", \"\\u0432\\u043e\\u0437\\u0440\\u043e\\u0436\\u0434\\u0435\\u043d\\u0438\\u0435_\\u043d\\u0430\\u0440\\u043e\\u0434\\u043d\\u044b\\u0439_\\u0440\\u0435\\u043c\\u0435\\u0441\\u043b\\u043e\", \"\\u0432\\u043e\\u043f\\u0440\\u043e\\u0441\", \"\\u0432\\u043e\\u043f\\u0440\\u043e\\u0441\", \"\\u0432\\u043e\\u043f\\u0440\\u043e\\u0441\", \"\\u0432\\u043e\\u043f\\u0440\\u043e\\u0441\", \"\\u0432\\u043e\\u043f\\u0440\\u043e\\u0441\", \"\\u0432\\u043e\\u043f\\u0440\\u043e\\u0441\", \"\\u0432\\u043e\\u043f\\u0440\\u043e\\u0441\", \"\\u0432\\u043e\\u0441\\u043f\\u0438\\u0442\\u0430\\u043d\\u0438\\u0435\", \"\\u0432\\u043e\\u0441\\u043f\\u0438\\u0442\\u0430\\u043d\\u0438\\u0435\", \"\\u0432\\u043e\\u0441\\u043f\\u0438\\u0442\\u0430\\u043d\\u0438\\u0435\", \"\\u0432\\u043e\\u0441\\u043f\\u0438\\u0442\\u0430\\u043d\\u0438\\u0435\", \"\\u0432\\u043e\\u0441\\u043f\\u0438\\u0442\\u0430\\u043d\\u0438\\u0435\", \"\\u0432\\u043e\\u0441\\u043f\\u0438\\u0442\\u0430\\u043d\\u0438\\u0435\", \"\\u0432\\u043e\\u0441\\u043f\\u0440\\u0438\\u044f\\u0442\\u0438\\u0435\", \"\\u0432\\u043e\\u0441\\u043f\\u0440\\u0438\\u044f\\u0442\\u0438\\u0435\", \"\\u0432\\u043e\\u0441\\u043f\\u0440\\u0438\\u044f\\u0442\\u0438\\u0435\", \"\\u0432\\u043e\\u0441\\u043f\\u0440\\u0438\\u044f\\u0442\\u0438\\u0435\", \"\\u0432\\u043e\\u0441\\u043f\\u0440\\u0438\\u044f\\u0442\\u0438\\u0435\", \"\\u0432\\u043e\\u0441\\u043f\\u0440\\u0438\\u044f\\u0442\\u0438\\u0435\", \"\\u0432\\u0440\\u0435\\u043c\\u044f\", \"\\u0432\\u0440\\u0435\\u043c\\u044f\", \"\\u0432\\u0440\\u0435\\u043c\\u044f\", \"\\u0432\\u0440\\u0435\\u043c\\u044f\", \"\\u0432\\u0440\\u0435\\u043c\\u044f\", \"\\u0432\\u0440\\u0435\\u043c\\u044f\", \"\\u0432\\u0440\\u0435\\u043c\\u044f\", \"\\u0432\\u0442\\u043e\\u0440\\u043e\\u0439_\\u0440\\u0435\\u0432\\u043e\\u043b\\u044e\\u0446\\u0438\\u044f_\\u043e\\u0431\\u0449\\u0435\\u0441\\u0442\\u0432\\u043e\", \"\\u0432\\u0443\\u0437\", \"\\u0432\\u0443\\u0437\", \"\\u0432\\u0443\\u0437\", \"\\u0432\\u0443\\u0437\", \"\\u0432\\u0443\\u0437\", \"\\u0432\\u0443\\u0437\", \"\\u0432\\u0443\\u0437\", \"\\u0432\\u044b\\u0431\\u043e\\u0440\", \"\\u0432\\u044b\\u0431\\u043e\\u0440\", \"\\u0432\\u044b\\u0431\\u043e\\u0440\", \"\\u0432\\u044b\\u0431\\u043e\\u0440\", \"\\u0432\\u044b\\u0431\\u043e\\u0440\", \"\\u0432\\u044b\\u0431\\u043e\\u0440\", \"\\u0432\\u044b\\u0431\\u043e\\u0440\\u043a\\u0430\", \"\\u0432\\u044b\\u0431\\u043e\\u0440\\u043a\\u0430\", \"\\u0432\\u044b\\u0431\\u043e\\u0440\\u043a\\u0430\", \"\\u0432\\u044b\\u0431\\u043e\\u0440\\u043a\\u0430\", \"\\u0432\\u044b\\u0434\\u0435\\u043b\\u0438\\u0442\\u044c_\\u043d\\u0430\\u0438\\u0431\\u043e\\u043b\\u0435\\u0435_\\u0447\\u0430\\u0441\\u0442\\u043e\", \"\\u0432\\u044b\\u043f\\u043e\\u043b\\u043d\\u0435\\u043d\\u0438\\u0435\", \"\\u0432\\u044b\\u043f\\u043e\\u043b\\u043d\\u0435\\u043d\\u0438\\u0435\", \"\\u0432\\u044b\\u043f\\u043e\\u043b\\u043d\\u0435\\u043d\\u0438\\u0435\", \"\\u0432\\u044b\\u043f\\u043e\\u043b\\u043d\\u0435\\u043d\\u0438\\u0435\", \"\\u0432\\u044b\\u043f\\u043e\\u043b\\u043d\\u0435\\u043d\\u0438\\u0435\", \"\\u0432\\u044b\\u043f\\u043e\\u043b\\u043d\\u0435\\u043d\\u0438\\u0435\", \"\\u0432\\u044b\\u043f\\u043e\\u043b\\u043d\\u0435\\u043d\\u0438\\u0435\", \"\\u0433\\u0430\\u0440\\u043c\\u043e\\u043d\\u0438\\u0437\\u0430\\u0446\\u0438\\u044f\", \"\\u0433\\u0430\\u0443\\u0434\\u043e_\\u0434\\u0432\\u043e\\u0440\\u0435\\u0446_\\u043c\\u043e\\u043b\\u043e\\u0434\\u0451\\u0436\\u044c\", \"\\u0433\\u0438\\u0441\\u0442\\u043e\\u0433\\u0440\\u0430\\u043c\\u043c\\u0430\", \"\\u0433\\u043e\\u0434\", \"\\u0433\\u043e\\u0434\", \"\\u0433\\u043e\\u0434\", \"\\u0433\\u043e\\u0434\", \"\\u0433\\u043e\\u0434\", \"\\u0433\\u043e\\u0434\", \"\\u0433\\u0440\\u0430\\u0436\\u0434\\u0430\\u043d\\u0441\\u043a\\u0438\\u0439_\\u0441\\u043e\\u0446\\u0438\\u0430\\u043b\\u0438\\u0437\\u0430\\u0446\\u0438\\u044f\", \"\\u0433\\u0440\\u0430\\u0436\\u0434\\u0430\\u043d\\u0441\\u043a\\u043e\\u0439_\\u0441\\u043e\\u0446\\u0438\\u0430\\u043b\\u0438\\u0437\\u0430\\u0446\\u0438\\u044f\", \"\\u0433\\u0440\\u0443\\u043f\\u043f\\u0430\", \"\\u0433\\u0440\\u0443\\u043f\\u043f\\u0430\", \"\\u0433\\u0440\\u0443\\u043f\\u043f\\u0430\", \"\\u0433\\u0440\\u0443\\u043f\\u043f\\u0430\", \"\\u0433\\u0440\\u0443\\u043f\\u043f\\u0430\", \"\\u0433\\u0440\\u0443\\u043f\\u043f\\u0430\", \"\\u0433\\u0440\\u0443\\u043f\\u043f\\u0430\", \"\\u0433\\u0443\\u043c\\u0430\\u043d\\u0438\\u0442\\u0430\\u0440\\u043d\\u044b\\u0439\", \"\\u0433\\u0443\\u043c\\u0430\\u043d\\u0438\\u0442\\u0430\\u0440\\u043d\\u044b\\u0439\", \"\\u0433\\u0443\\u043c\\u0430\\u043d\\u0438\\u0442\\u0430\\u0440\\u043d\\u044b\\u0439\", \"\\u0433\\u0443\\u043c\\u0430\\u043d\\u0438\\u0442\\u0430\\u0440\\u043d\\u044b\\u0439\", \"\\u0433\\u0443\\u043c\\u0430\\u043d\\u0438\\u0442\\u0430\\u0440\\u043d\\u044b\\u0439\", \"\\u0433\\u0443\\u043c\\u0430\\u043d\\u0438\\u0442\\u0430\\u0440\\u043d\\u044b\\u0439\", \"\\u0434\\u0430\\u043b\\u044c\\u043d\\u043e\\u0441\\u0442\\u044c\", \"\\u0434\\u0430\\u0442\\u044c\\u0441\\u044f\", \"\\u0434\\u0430\\u0442\\u044c\\u0441\\u044f\", \"\\u0434\\u0435\\u0432\\u0438\\u0430\\u043d\\u0442\\u043d\\u044b\\u0439_\\u043f\\u043e\\u0432\\u0435\\u0434\\u0435\\u043d\\u0438\\u0435\", \"\\u0434\\u0435\\u043b\\u043e\\u0432\\u043e\\u0439\", \"\\u0434\\u0435\\u043b\\u043e\\u0432\\u043e\\u0439\", \"\\u0434\\u0435\\u043b\\u043e\\u0432\\u043e\\u0439\", \"\\u0434\\u0435\\u043b\\u043e\\u0432\\u043e\\u0439\", \"\\u0434\\u0435\\u043b\\u043e\\u0432\\u043e\\u0439\", \"\\u0434\\u0435\\u043c\\u043e\\u043a\\u0440\\u0430\\u0442\\u0438\\u044f\", \"\\u0434\\u0435\\u043c\\u043e\\u043a\\u0440\\u0430\\u0442\\u0438\\u044f\", \"\\u0434\\u0435\\u043f\\u0440\\u0438\\u0432\\u0430\\u0446\\u0438\\u044f\", \"\\u0434\\u0435\\u0442\\u0430\\u043b\\u0435\\u0439\", \"\\u0434\\u0435\\u0442\\u0441\\u043a\\u0438\\u0439_\\u0434\\u043e\\u043c\", \"\\u0434\\u0435\\u044f\\u0442\\u0435\\u043b\\u044c\\u043d\\u043e\\u0441\\u0442\\u044c\", \"\\u0434\\u0435\\u044f\\u0442\\u0435\\u043b\\u044c\\u043d\\u043e\\u0441\\u0442\\u044c\", \"\\u0434\\u0435\\u044f\\u0442\\u0435\\u043b\\u044c\\u043d\\u043e\\u0441\\u0442\\u044c\", \"\\u0434\\u0435\\u044f\\u0442\\u0435\\u043b\\u044c\\u043d\\u043e\\u0441\\u0442\\u044c\", \"\\u0434\\u0435\\u044f\\u0442\\u0435\\u043b\\u044c\\u043d\\u043e\\u0441\\u0442\\u044c\", \"\\u0434\\u0435\\u044f\\u0442\\u0435\\u043b\\u044c\\u043d\\u043e\\u0441\\u0442\\u044c\", \"\\u0434\\u0435\\u044f\\u0442\\u0435\\u043b\\u044c\\u043d\\u043e\\u0441\\u0442\\u044c\", \"\\u0434\\u0438\\u0430\\u0433\\u0440\\u0430\\u043c\\u043c\\u0430\", \"\\u0434\\u0438\\u0430\\u0433\\u0440\\u0430\\u043c\\u043c\\u0430\", \"\\u0434\\u0438\\u0430\\u0433\\u0440\\u0430\\u043c\\u043c\\u0430_\\u0441\\u0442\\u0440\\u0443\\u043a\\u0442\\u0443\\u0440\\u0430\", \"\\u0434\\u0438\\u0430\\u043c\\u0435\\u0442\\u0440\", \"\\u0434\\u0438\\u0441\\u0442\\u0430\\u043d\\u0446\\u0438\\u043e\\u043d\\u043d\\u044b\\u0439\", \"\\u0434\\u0438\\u0441\\u0442\\u0430\\u043d\\u0446\\u0438\\u043e\\u043d\\u043d\\u044b\\u0439\", \"\\u0434\\u0438\\u0441\\u0442\\u0430\\u043d\\u0446\\u0438\\u043e\\u043d\\u043d\\u044b\\u0439\", \"\\u0434\\u0438\\u0441\\u0442\\u0430\\u043d\\u0446\\u0438\\u043e\\u043d\\u043d\\u044b\\u0439\", \"\\u0434\\u0438\\u0441\\u0442\\u0430\\u043d\\u0446\\u0438\\u043e\\u043d\\u043d\\u044b\\u0439\", \"\\u0434\\u0438\\u0441\\u0446\\u0438\\u043f\\u043b\\u0438\\u043d\\u0430\", \"\\u0434\\u0438\\u0441\\u0446\\u0438\\u043f\\u043b\\u0438\\u043d\\u0430\", \"\\u0434\\u0438\\u0441\\u0446\\u0438\\u043f\\u043b\\u0438\\u043d\\u0430\", \"\\u0434\\u0438\\u0441\\u0446\\u0438\\u043f\\u043b\\u0438\\u043d\\u0430\", \"\\u0434\\u0438\\u0441\\u0446\\u0438\\u043f\\u043b\\u0438\\u043d\\u0430\", \"\\u0434\\u0438\\u0441\\u0446\\u0438\\u043f\\u043b\\u0438\\u043d\\u0430\", \"\\u0434\\u043e\\u043a\\u0442\\u043e\\u0440\\u0441\\u043a\\u0438\\u0439\", \"\\u0434\\u043e\\u043a\\u0442\\u043e\\u0440\\u0441\\u043a\\u0438\\u0439_\\u0438\\u0441\\u0441\\u043b\\u0435\\u0434\\u043e\\u0432\\u0430\\u043d\\u0438\\u0435\", \"\\u0434\\u043e\\u043a\\u0443\\u043c\\u0435\\u043d\\u0442\", \"\\u0434\\u043e\\u043a\\u0443\\u043c\\u0435\\u043d\\u0442\", \"\\u0434\\u043e\\u043a\\u0443\\u043c\\u0435\\u043d\\u0442\", \"\\u0434\\u043e\\u043a\\u0443\\u043c\\u0435\\u043d\\u0442\", \"\\u0434\\u043e\\u043a\\u0443\\u043c\\u0435\\u043d\\u0442\", \"\\u0434\\u043e\\u043a\\u0443\\u043c\\u0435\\u043d\\u0442\", \"\\u0434\\u043e\\u043b\\u0435\\u0432\\u043e\\u0439\", \"\\u0434\\u043e\\u043c\\u0438\\u043d\\u0430\\u043d\\u0442\\u043d\\u044b\\u0439_\\u043e\\u0431\\u044a\\u0435\\u043a\\u0442_\\u043f\\u0440\\u0430\\u043a\\u0442\\u0438\\u0447\\u0435\\u0441\\u043a\\u043e\\u0439\", \"\\u0434\\u043e\\u043f\\u043e\\u043b\\u043d\\u0438\\u0442\\u0435\\u043b\\u044c\\u043d\\u044b\\u0439\", \"\\u0434\\u043e\\u043f\\u043e\\u043b\\u043d\\u0438\\u0442\\u0435\\u043b\\u044c\\u043d\\u044b\\u0439\", \"\\u0434\\u043e\\u043f\\u043e\\u043b\\u043d\\u0438\\u0442\\u0435\\u043b\\u044c\\u043d\\u044b\\u0439\", \"\\u0434\\u043e\\u043f\\u043e\\u043b\\u043d\\u0438\\u0442\\u0435\\u043b\\u044c\\u043d\\u044b\\u0439\", \"\\u0434\\u043e\\u043f\\u043e\\u043b\\u043d\\u0438\\u0442\\u0435\\u043b\\u044c\\u043d\\u044b\\u0439\", \"\\u0434\\u043e\\u043f\\u043e\\u043b\\u043d\\u0438\\u0442\\u0435\\u043b\\u044c\\u043d\\u044b\\u0439\", \"\\u0434\\u043e\\u043f\\u043e\\u043b\\u043d\\u0438\\u0442\\u0435\\u043b\\u044c\\u043d\\u044b\\u0439_\\u044d\\u043a\\u043e\\u043b\\u043e\\u0433\\u0438\\u0447\\u0435\\u0441\\u043a\\u0438\\u0439\", \"\\u0434\\u043e\\u0441\\u0442\\u0443\\u043f\", \"\\u0434\\u043e\\u0441\\u0442\\u0443\\u043f\", \"\\u0434\\u043e\\u0441\\u0442\\u0443\\u043f\", \"\\u0434\\u043e\\u0441\\u0442\\u0443\\u043f\", \"\\u0434\\u043e\\u0441\\u0442\\u0443\\u043f\", \"\\u0434\\u043e\\u0441\\u0442\\u0443\\u043f\", \"\\u0434\\u043e\\u0448\\u043a\\u043e\\u043b\\u044c\\u043d\\u044b\\u0439_\\u0443\\u0447\\u0440\\u0435\\u0436\\u0434\\u0435\\u043d\\u0438\\u0435\", \"\\u0434\\u043e\\u0448\\u043a\\u043e\\u043b\\u044c\\u043d\\u044b\\u0439_\\u0443\\u0447\\u0440\\u0435\\u0436\\u0434\\u0435\\u043d\\u0438\\u0435\", \"\\u0434\\u0443\\u0445\\u043e\\u0432\\u043d\\u044b\\u0439\", \"\\u0434\\u0443\\u0445\\u043e\\u0432\\u043d\\u044b\\u0439\", \"\\u0434\\u0443\\u0445\\u043e\\u0432\\u043d\\u044b\\u0439\", \"\\u0434\\u0443\\u0445\\u043e\\u0432\\u043d\\u044b\\u0439\", \"\\u0434\\u0443\\u0445\\u043e\\u0432\\u043d\\u044b\\u0439\", \"\\u0434\\u0443\\u0448\\u0430\", \"\\u0434\\u0443\\u0448\\u0430\", \"\\u0435\\u0433\\u044d\", \"\\u0435\\u0434\", \"\\u0435\\u0441\\u0442\\u0435\\u0441\\u0442\\u0432\\u0435\\u043d\\u043d\\u043e_\\u0438\\u0441\\u0442\\u043e\\u0440\\u0438\\u0447\\u0435\\u0441\\u043a\\u0438\\u0439\", \"\\u0436\\u0438\\u0437\\u043d\\u0435\\u043d\\u043d\\u044b\\u0439_\\u043e\\u0440\\u0438\\u0435\\u043d\\u0442\\u0438\\u0440\", \"\\u0436\\u0438\\u0437\\u043d\\u044c\", \"\\u0436\\u0438\\u0437\\u043d\\u044c\", \"\\u0436\\u0438\\u0437\\u043d\\u044c\", \"\\u0436\\u0438\\u0437\\u043d\\u044c\", \"\\u0436\\u0438\\u0437\\u043d\\u044c\", \"\\u0436\\u0438\\u0437\\u043d\\u044c\", \"\\u0436\\u0438\\u0437\\u043d\\u044c\", \"\\u0437\\u0430\\u0434\\u0430\\u0447\\u0430\", \"\\u0437\\u0430\\u0434\\u0430\\u0447\\u0430\", \"\\u0437\\u0430\\u0434\\u0430\\u0447\\u0430\", \"\\u0437\\u0430\\u0434\\u0430\\u0447\\u0430\", \"\\u0437\\u0430\\u0434\\u0430\\u0447\\u0430\", \"\\u0437\\u0430\\u0434\\u0430\\u0447\\u0430\", \"\\u0437\\u0430\\u0434\\u0430\\u0447\\u0430\", \"\\u0437\\u0430\\u0451\\u043c\\u0449\\u0438\\u043a\", \"\\u0437\\u0435\\u043c\\u043b\\u044f\", \"\\u0437\\u0435\\u0440\\u043a\\u0430\\u043b\\u043e\", \"\\u0437\\u043b\\u043e\", \"\\u0437\\u043d\\u0430\\u043d\\u0438\\u0435\", \"\\u0437\\u043d\\u0430\\u043d\\u0438\\u0435\", \"\\u0437\\u043d\\u0430\\u043d\\u0438\\u0435\", \"\\u0437\\u043d\\u0430\\u043d\\u0438\\u0435\", \"\\u0437\\u043d\\u0430\\u043d\\u0438\\u0435\", \"\\u0437\\u043d\\u0430\\u043d\\u0438\\u0435\", \"\\u0437\\u043d\\u0430\\u043d\\u0438\\u0435\", \"\\u0438\\u0433\\u0440\\u0430\", \"\\u0438\\u0433\\u0440\\u0430\", \"\\u0438\\u0433\\u0440\\u0430\", \"\\u0438\\u0433\\u0440\\u0430\", \"\\u0438\\u0433\\u0440\\u0430\", \"\\u0438\\u0433\\u0440\\u0430\", \"\\u0438\\u0433\\u0440\\u0430\", \"\\u0438\\u0433\\u0440\\u043e\\u0432\\u043e\\u0439\", \"\\u0438\\u0433\\u0440\\u043e\\u0432\\u043e\\u0439\", \"\\u0438\\u0433\\u0440\\u043e\\u0432\\u043e\\u0439\", \"\\u0438\\u0433\\u0440\\u043e\\u043a\", \"\\u0438\\u0433\\u0440\\u043e\\u043a\", \"\\u0438\\u0434\\u0435\\u0438\\u043d\", \"\\u0438\\u0437\\u0433\\u043e\\u0442\\u043e\\u0432\\u043b\\u0435\\u043d\\u0438\\u0435\", \"\\u0438\\u0437\\u0434\\u0430\\u043d\\u0438\\u0435\", \"\\u0438\\u0437\\u0434\\u0430\\u043d\\u0438\\u0435\", \"\\u0438\\u0437\\u0434\\u0430\\u043d\\u0438\\u0435\", \"\\u0438\\u0437\\u0434\\u0430\\u043d\\u0438\\u0435\", \"\\u0438\\u0437\\u0434\\u0430\\u043d\\u0438\\u0435\", \"\\u0438\\u0437\\u0434\\u0430\\u043d\\u0438\\u0435\", \"\\u0438\\u0437\\u043c\\u0435\\u0440\\u0435\\u043d\\u043d\\u044b\\u0439\", \"\\u0438\\u0437\\u0443\\u0447\\u0435\\u043d\\u0438\\u0435\", \"\\u0438\\u0437\\u0443\\u0447\\u0435\\u043d\\u0438\\u0435\", \"\\u0438\\u0437\\u0443\\u0447\\u0435\\u043d\\u0438\\u0435\", \"\\u0438\\u0437\\u0443\\u0447\\u0435\\u043d\\u0438\\u0435\", \"\\u0438\\u0437\\u0443\\u0447\\u0435\\u043d\\u0438\\u0435\", \"\\u0438\\u0437\\u0443\\u0447\\u0435\\u043d\\u0438\\u0435\", \"\\u0438\\u043b\\u044c\\u0438\\u043d\", \"\\u0438\\u043c\\u0438\\u0434\\u0436\", \"\\u0438\\u043c\\u0438\\u0434\\u0436_\\u043f\\u0440\\u0435\\u043f\\u043e\\u0434\\u0430\\u0432\\u0430\\u0442\\u0435\\u043b\\u044c\", \"\\u0438\\u043d\\u0432\\u0430\\u043b\\u0438\\u0434\\u043d\\u043e\\u0441\\u0442\\u044c\", \"\\u0438\\u043d\\u0432\\u0430\\u043b\\u0438\\u0434\\u043d\\u043e\\u0441\\u0442\\u044c\", \"\\u0438\\u043d\\u0432\\u0430\\u0440\\u0438\\u0430\\u043d\\u0442\\u043d\\u044b\\u0439\", \"\\u0438\\u043d\\u0442\\u0435\\u0440\\u043d\\u0435\\u0442\", \"\\u0438\\u043d\\u0442\\u0435\\u0440\\u043d\\u0435\\u0442\", \"\\u0438\\u043d\\u0442\\u0435\\u0440\\u043d\\u0435\\u0442\", \"\\u0438\\u043d\\u0442\\u0435\\u0440\\u043d\\u0435\\u0442\", \"\\u0438\\u043d\\u0442\\u0435\\u0440\\u043d\\u0435\\u0442\", \"\\u0438\\u043d\\u0442\\u0435\\u0440\\u043d\\u0435\\u0442\", \"\\u0438\\u043d\\u0444\\u043e\\u0440\\u043c\\u0430\\u0446\\u0438\\u044f\", \"\\u0438\\u043d\\u0444\\u043e\\u0440\\u043c\\u0430\\u0446\\u0438\\u044f\", \"\\u0438\\u043d\\u0444\\u043e\\u0440\\u043c\\u0430\\u0446\\u0438\\u044f\", \"\\u0438\\u043d\\u0444\\u043e\\u0440\\u043c\\u0430\\u0446\\u0438\\u044f\", \"\\u0438\\u043d\\u0444\\u043e\\u0440\\u043c\\u0430\\u0446\\u0438\\u044f\", \"\\u0438\\u043d\\u0444\\u043e\\u0440\\u043c\\u0430\\u0446\\u0438\\u044f\", \"\\u0438\\u043d\\u0444\\u043e\\u0440\\u043c\\u0430\\u0446\\u0438\\u044f\", \"\\u0438\\u0441\\u043a\\u0443\\u0441\\u0441\\u0442\\u0432\\u043e\", \"\\u0438\\u0441\\u043a\\u0443\\u0441\\u0441\\u0442\\u0432\\u043e\", \"\\u0438\\u0441\\u043a\\u0443\\u0441\\u0441\\u0442\\u0432\\u043e\", \"\\u0438\\u0441\\u043a\\u0443\\u0441\\u0441\\u0442\\u0432\\u043e\", \"\\u0438\\u0441\\u043a\\u0443\\u0441\\u0441\\u0442\\u0432\\u043e\", \"\\u0438\\u0441\\u043a\\u0443\\u0441\\u0441\\u0442\\u0432\\u043e\", \"\\u0438\\u0441\\u043f\\u043e\\u043b\\u044c\\u0437\\u043e\\u0432\\u0430\\u043d\\u0438\\u0435\", \"\\u0438\\u0441\\u043f\\u043e\\u043b\\u044c\\u0437\\u043e\\u0432\\u0430\\u043d\\u0438\\u0435\", \"\\u0438\\u0441\\u043f\\u043e\\u043b\\u044c\\u0437\\u043e\\u0432\\u0430\\u043d\\u0438\\u0435\", \"\\u0438\\u0441\\u043f\\u043e\\u043b\\u044c\\u0437\\u043e\\u0432\\u0430\\u043d\\u0438\\u0435\", \"\\u0438\\u0441\\u043f\\u043e\\u043b\\u044c\\u0437\\u043e\\u0432\\u0430\\u043d\\u0438\\u0435\", \"\\u0438\\u0441\\u043f\\u043e\\u043b\\u044c\\u0437\\u043e\\u0432\\u0430\\u043d\\u0438\\u0435\", \"\\u0438\\u0441\\u043f\\u043e\\u043b\\u044c\\u0437\\u043e\\u0432\\u0430\\u043d\\u0438\\u0435\", \"\\u0438\\u0441\\u043f\\u043e\\u043b\\u044c\\u0437\\u043e\\u0432\\u0430\\u043d\\u0438\\u0435_\\u0441\\u043e\\u0446\\u0438\\u0430\\u043b\\u044c\\u043d\\u044b\\u0439_\\u0441\\u0435\\u0442\\u0435\\u044f\", \"\\u0438\\u0441\\u043f\\u043e\\u043b\\u044c\\u0437\\u043e\\u0432\\u0430\\u043d\\u0438\\u0435_\\u0441\\u043e\\u0446\\u0438\\u0430\\u043b\\u044c\\u043d\\u044b\\u0439_\\u0441\\u0435\\u0442\\u0435\\u044f\", \"\\u0438\\u0441\\u043f\\u043e\\u043b\\u044c\\u0437\\u043e\\u0432\\u0430\\u0442\\u044c\", \"\\u0438\\u0441\\u043f\\u043e\\u043b\\u044c\\u0437\\u043e\\u0432\\u0430\\u0442\\u044c\", \"\\u0438\\u0441\\u043f\\u043e\\u043b\\u044c\\u0437\\u043e\\u0432\\u0430\\u0442\\u044c\", \"\\u0438\\u0441\\u043f\\u043e\\u043b\\u044c\\u0437\\u043e\\u0432\\u0430\\u0442\\u044c\", \"\\u0438\\u0441\\u043f\\u043e\\u043b\\u044c\\u0437\\u043e\\u0432\\u0430\\u0442\\u044c\", \"\\u0438\\u0441\\u043f\\u043e\\u043b\\u044c\\u0437\\u043e\\u0432\\u0430\\u0442\\u044c\", \"\\u0438\\u0441\\u043f\\u043e\\u043b\\u044c\\u0437\\u043e\\u0432\\u0430\\u0442\\u044c\", \"\\u0438\\u0441\\u043f\\u044b\\u0442\\u0443\\u0435\\u043c\\u044b\\u0439\", \"\\u0438\\u0441\\u043f\\u044b\\u0442\\u0443\\u0435\\u043c\\u044b\\u0439\", \"\\u0438\\u0441\\u0441\\u043b\\u0435\\u0434\\u043e\\u0432\\u0430\\u043d\\u0438\\u0435\", \"\\u0438\\u0441\\u0441\\u043b\\u0435\\u0434\\u043e\\u0432\\u0430\\u043d\\u0438\\u0435\", \"\\u0438\\u0441\\u0441\\u043b\\u0435\\u0434\\u043e\\u0432\\u0430\\u043d\\u0438\\u0435\", \"\\u0438\\u0441\\u0441\\u043b\\u0435\\u0434\\u043e\\u0432\\u0430\\u043d\\u0438\\u0435\", \"\\u0438\\u0441\\u0441\\u043b\\u0435\\u0434\\u043e\\u0432\\u0430\\u043d\\u0438\\u0435\", \"\\u0438\\u0441\\u0441\\u043b\\u0435\\u0434\\u043e\\u0432\\u0430\\u043d\\u0438\\u0435\", \"\\u0438\\u0441\\u0441\\u043b\\u0435\\u0434\\u043e\\u0432\\u0430\\u043d\\u0438\\u0435\", \"\\u0438\\u0442\", \"\\u043a\\u0430\\u0434\\u0435\\u0442\", \"\\u043a\\u0430\\u0434\\u0435\\u0442\\u0441\\u043a\\u0438\\u0439\", \"\\u043a\\u0430\\u043b\\u043b\\u0438\\u0433\\u0440\\u0430\\u0444\\u0438\\u044f\", \"\\u043a\\u0430\\u043b\\u043b\\u0438\\u0433\\u0440\\u0430\\u0444\\u0438\\u044f\", \"\\u043a\\u0430\\u0447\\u0435\\u0441\\u0442\\u0432\\u043e\", \"\\u043a\\u0430\\u0447\\u0435\\u0441\\u0442\\u0432\\u043e\", \"\\u043a\\u0430\\u0447\\u0435\\u0441\\u0442\\u0432\\u043e\", \"\\u043a\\u0430\\u0447\\u0435\\u0441\\u0442\\u0432\\u043e\", \"\\u043a\\u0430\\u0447\\u0435\\u0441\\u0442\\u0432\\u043e\", \"\\u043a\\u0430\\u0447\\u0435\\u0441\\u0442\\u0432\\u043e\", \"\\u043a\\u0430\\u0447\\u0435\\u0441\\u0442\\u0432\\u043e\", \"\\u043a\\u0438\\u0442\\u0430\\u0438\\u0441\\u043a\\u0438\\u0439\", \"\\u043a\\u043b\\u0430\\u0441\\u0441\", \"\\u043a\\u043b\\u0430\\u0441\\u0441\", \"\\u043a\\u043b\\u0430\\u0441\\u0441\", \"\\u043a\\u043b\\u0430\\u0441\\u0441\", \"\\u043a\\u043b\\u0430\\u0441\\u0441\", \"\\u043a\\u043b\\u0430\\u0441\\u0441\", \"\\u043a\\u043b\\u0430\\u0441\\u0441\\u0438\\u0444\\u0438\\u043a\\u0430\\u0446\\u0438\\u044f\", \"\\u043a\\u043b\\u0430\\u0441\\u0441\\u0438\\u0444\\u0438\\u043a\\u0430\\u0446\\u0438\\u044f\", \"\\u043a\\u043b\\u0430\\u0441\\u0441\\u0438\\u0444\\u0438\\u043a\\u0430\\u0446\\u0438\\u044f\", \"\\u043a\\u043b\\u0430\\u0441\\u0441\\u0438\\u0444\\u0438\\u043a\\u0430\\u0446\\u0438\\u044f\", \"\\u043a\\u043b\\u0430\\u0441\\u0441\\u0438\\u0444\\u0438\\u043a\\u0430\\u0446\\u0438\\u044f\", \"\\u043a\\u043b\\u0430\\u0441\\u0441\\u043e\\u0432\\u043e\\u0439_\\u0446\\u0438\\u0432\\u0438\\u043b\\u0438\\u0437\\u0430\\u0446\\u0438\\u044f\", \"\\u043a\\u043b\\u0430\\u0441\\u0441\\u043e\\u0432\\u044b\\u0439\", \"\\u043a\\u043e\\u043b\\u0438\\u0447\\u0435\\u0441\\u0442\\u0432\\u043e_\\u0431\\u043e\\u0435\\u043f\\u0440\\u0438\\u043f\\u0430\\u0441\", \"\\u043a\\u043e\\u043b\\u043b\\u0435\\u0434\\u0436\", \"\\u043a\\u043e\\u043b\\u043b\\u0435\\u0434\\u0436\", \"\\u043a\\u043e\\u043b\\u043b\\u0435\\u0434\\u0436\", \"\\u043a\\u043e\\u043b\\u043b\\u0435\\u0434\\u0436\", \"\\u043a\\u043e\\u043c\\u043c\\u0443\\u043d\\u0438\\u043a\\u0430\\u0442\\u0438\\u0432\\u043d\\u044b\\u0439\", \"\\u043a\\u043e\\u043c\\u043c\\u0443\\u043d\\u0438\\u043a\\u0430\\u0442\\u0438\\u0432\\u043d\\u044b\\u0439\", \"\\u043a\\u043e\\u043c\\u043c\\u0443\\u043d\\u0438\\u043a\\u0430\\u0442\\u0438\\u0432\\u043d\\u044b\\u0439\", \"\\u043a\\u043e\\u043c\\u043c\\u0443\\u043d\\u0438\\u043a\\u0430\\u0446\\u0438\\u044f\", \"\\u043a\\u043e\\u043c\\u043c\\u0443\\u043d\\u0438\\u043a\\u0430\\u0446\\u0438\\u044f\", \"\\u043a\\u043e\\u043c\\u043c\\u0443\\u043d\\u0438\\u043a\\u0430\\u0446\\u0438\\u044f\", \"\\u043a\\u043e\\u043c\\u043c\\u0443\\u043d\\u0438\\u043a\\u0430\\u0446\\u0438\\u044f\", \"\\u043a\\u043e\\u043c\\u043c\\u0443\\u043d\\u0438\\u043a\\u0430\\u0446\\u0438\\u044f\", \"\\u043a\\u043e\\u043c\\u043c\\u0443\\u043d\\u0438\\u043a\\u0430\\u0446\\u0438\\u044f\", \"\\u043a\\u043e\\u043c\\u043f\\u043e\\u043d\\u0435\\u043d\\u0442\", \"\\u043a\\u043e\\u043c\\u043f\\u043e\\u043d\\u0435\\u043d\\u0442\", \"\\u043a\\u043e\\u043c\\u043f\\u043e\\u043d\\u0435\\u043d\\u0442\", \"\\u043a\\u043e\\u043c\\u043f\\u043e\\u043d\\u0435\\u043d\\u0442\", \"\\u043a\\u043e\\u043d\\u043a\\u0443\\u0440\\u0435\\u043d\\u0442\\u043d\\u044b\\u0439\", \"\\u043a\\u043e\\u043d\\u043a\\u0443\\u0440\\u0435\\u043d\\u0442\\u043d\\u044b\\u0439\", \"\\u043a\\u043e\\u043d\\u043a\\u0443\\u0440\\u0435\\u043d\\u0442\\u043d\\u044b\\u0439\", \"\\u043a\\u043e\\u043d\\u043a\\u0443\\u0440\\u0435\\u043d\\u0442\\u043d\\u044b\\u0439_\\u0432\\u0437\\u0430\\u0438\\u043c\\u043e\\u0434\\u0435\\u0438\\u0441\\u0442\\u0432\\u0438\\u0435\", \"\\u043a\\u043e\\u043d\\u043a\\u0443\\u0440\\u0435\\u043d\\u0446\\u0438\\u044f\", \"\\u043a\\u043e\\u043d\\u043a\\u0443\\u0440\\u0435\\u043d\\u0446\\u0438\\u044f\", \"\\u043a\\u043e\\u043d\\u043a\\u0443\\u0440\\u0435\\u043d\\u0446\\u0438\\u044f\", \"\\u043a\\u043e\\u043d\\u043a\\u0443\\u0440\\u0435\\u043d\\u0446\\u0438\\u044f\", \"\\u043a\\u043e\\u043d\\u0441\\u0442\\u0440\\u0443\\u043a\\u0442\\u043e\\u0440\", \"\\u043a\\u043e\\u043d\\u0446\\u0435\\u043f\\u0442\\u0443\\u0430\\u043b\\u044c\\u043d\\u044b\\u0439\", \"\\u043a\\u043e\\u043d\\u0446\\u0435\\u043f\\u0442\\u0443\\u0430\\u043b\\u044c\\u043d\\u044b\\u0439\", \"\\u043a\\u043e\\u0440\\u043f\\u043e\\u0440\\u0430\\u0442\\u0438\\u0432\\u043d\\u043e\\u0438\\u0442\\u044c\", \"\\u043a\\u043e\\u0440\\u0440\\u0435\\u043a\\u0446\\u0438\\u043e\\u043d\\u043d\\u044b\\u0439\", \"\\u043a\\u0440\\u0435\\u0430\\u0442\\u0438\\u0432\\u043d\\u043e\\u0441\\u0442\\u044c\", \"\\u043a\\u0440\\u0435\\u0434\\u0438\\u0442\", \"\\u043a\\u0440\\u0435\\u0434\\u0438\\u0442\", \"\\u043a\\u0440\\u0435\\u0434\\u0438\\u0442\", \"\\u043a\\u0440\\u0435\\u0434\\u0438\\u0442\\u043e\\u0432\\u0430\\u043d\\u0438\\u0435\", \"\\u043a\\u0440\\u0438\\u0437\\u0438\\u0441\", \"\\u043a\\u0440\\u0438\\u0437\\u0438\\u0441\", \"\\u043a\\u0440\\u0438\\u0437\\u0438\\u0441\", \"\\u043a\\u0440\\u0438\\u0437\\u0438\\u0441\", \"\\u043a\\u0440\\u0438\\u0437\\u0438\\u0441\", \"\\u043a\\u0443\\u043b\\u044c\\u0442\\u0443\\u0440\\u0430\", \"\\u043a\\u0443\\u043b\\u044c\\u0442\\u0443\\u0440\\u0430\", \"\\u043a\\u0443\\u043b\\u044c\\u0442\\u0443\\u0440\\u0430\", \"\\u043a\\u0443\\u043b\\u044c\\u0442\\u0443\\u0440\\u0430\", \"\\u043a\\u0443\\u043b\\u044c\\u0442\\u0443\\u0440\\u0430\", \"\\u043a\\u0443\\u043b\\u044c\\u0442\\u0443\\u0440\\u0430\", \"\\u043a\\u0443\\u0440\\u0441\", \"\\u043a\\u0443\\u0440\\u0441\", \"\\u043a\\u0443\\u0440\\u0441\", \"\\u043a\\u0443\\u0440\\u0441\", \"\\u043a\\u0443\\u0440\\u0441\", \"\\u043a\\u0443\\u0440\\u0441\", \"\\u043a\\u0443\\u0440\\u0441\", \"\\u043a\\u0443\\u0440\\u0441_\\u043e\\u0440\\u043a\\u0441\\u044d\", \"\\u043b\\u0438\\u0441\\u0442_\\u0431\\u043e\\u0435\\u043f\\u0440\\u0438\\u043f\\u0430\\u0441\", \"\\u043b\\u0438\\u0446\\u0435\\u043d\\u0437\\u0438\\u0440\\u043e\\u0432\\u0430\\u043d\\u0438\\u0435\", \"\\u043b\\u0438\\u0446\\u0435\\u043d\\u0437\\u0438\\u0440\\u043e\\u0432\\u0430\\u043d\\u0438\\u0435\", \"\\u043b\\u0438\\u0446\\u0435\\u043d\\u0437\\u0438\\u0440\\u043e\\u0432\\u0430\\u0442\\u044c\", \"\\u043b\\u0438\\u0446\\u0435\\u043d\\u0437\\u0438\\u044f\", \"\\u043b\\u0438\\u0446\\u0435\\u043d\\u0437\\u0438\\u044f\", \"\\u043b\\u0438\\u0446\\u0435\\u043d\\u0437\\u0438\\u044f\", \"\\u043b\\u0438\\u0446\\u0435\\u043d\\u0437\\u0438\\u044f\", \"\\u043b\\u0438\\u0447\\u043d\\u043e\\u0441\\u0442\\u044c\", \"\\u043b\\u0438\\u0447\\u043d\\u043e\\u0441\\u0442\\u044c\", \"\\u043b\\u0438\\u0447\\u043d\\u043e\\u0441\\u0442\\u044c\", \"\\u043b\\u0438\\u0447\\u043d\\u043e\\u0441\\u0442\\u044c\", \"\\u043b\\u0438\\u0447\\u043d\\u043e\\u0441\\u0442\\u044c\", \"\\u043b\\u0438\\u0447\\u043d\\u043e\\u0441\\u0442\\u044c\", \"\\u043b\\u0438\\u0447\\u043d\\u043e\\u0441\\u0442\\u044c\", \"\\u043b\\u043e\\u0433\\u0438\\u0441\\u0442\\u0438\\u043a\\u0430\", \"\\u043b\\u043e\\u0433\\u0438\\u0441\\u0442\\u0438\\u043a\\u0430\", \"\\u043b\\u044e\\u0431\\u043e\\u0432\\u044c\", \"\\u043b\\u044e\\u0431\\u043e\\u0432\\u044c\", \"\\u043b\\u044e\\u0431\\u043e\\u0432\\u044c\", \"\\u043b\\u044e\\u0431\\u043e\\u0432\\u044c\", \"\\u043b\\u044e\\u0431\\u043e\\u0439\", \"\\u043b\\u044e\\u0431\\u043e\\u0439\", \"\\u043b\\u044e\\u0431\\u043e\\u0439\", \"\\u043b\\u044e\\u0431\\u043e\\u0439\", \"\\u043b\\u044e\\u0431\\u043e\\u0439\", \"\\u043b\\u044e\\u0431\\u043e\\u0439\", \"\\u043b\\u044e\\u0431\\u043e\\u0439\", \"\\u043b\\u044e\\u0434\\u0435\\u044f\", \"\\u043b\\u044e\\u0434\\u0435\\u044f\", \"\\u043b\\u044e\\u0434\\u0435\\u044f\", \"\\u043b\\u044e\\u0434\\u0435\\u044f\", \"\\u043b\\u044e\\u0434\\u0435\\u044f\", \"\\u043b\\u044e\\u0434\\u0435\\u044f\", \"\\u043c\\u0430\\u0440\\u0448\\u0440\\u0443\\u0442\\u0438\\u0437\\u0430\\u0442\\u043e\\u0440\", \"\\u043c\\u0430\\u0440\\u0448\\u0440\\u0443\\u0442\\u0438\\u0437\\u0430\\u0442\\u043e\\u0440\", \"\\u043c\\u0430\\u0442\\u0435\\u043c\\u0430\\u0442\\u0438\\u0447\\u0435\\u0441\\u043a\\u0438\\u0439\", \"\\u043c\\u0430\\u0442\\u0435\\u043c\\u0430\\u0442\\u0438\\u0447\\u0435\\u0441\\u043a\\u0438\\u0439\", \"\\u043c\\u0430\\u0442\\u0435\\u043c\\u0430\\u0442\\u0438\\u0447\\u0435\\u0441\\u043a\\u0438\\u0439\", \"\\u043c\\u0430\\u0442\\u0435\\u043c\\u0430\\u0442\\u0438\\u0447\\u0435\\u0441\\u043a\\u0438\\u0439\", \"\\u043c\\u0430\\u0442\\u0435\\u043c\\u0430\\u0442\\u0438\\u0447\\u0435\\u0441\\u043a\\u0438\\u0439\", \"\\u043c\\u0430\\u0442\\u0435\\u0440\\u0438\\u0430\\u043b\", \"\\u043c\\u0430\\u0442\\u0435\\u0440\\u0438\\u0430\\u043b\", \"\\u043c\\u0430\\u0442\\u0435\\u0440\\u0438\\u0430\\u043b\", \"\\u043c\\u0430\\u0442\\u0435\\u0440\\u0438\\u0430\\u043b\", \"\\u043c\\u0430\\u0442\\u0435\\u0440\\u0438\\u0430\\u043b\", \"\\u043c\\u0430\\u0442\\u0435\\u0440\\u0438\\u0430\\u043b\", \"\\u043c\\u0430\\u0442\\u0435\\u0440\\u0438\\u0430\\u043b\", \"\\u043c\\u0430\\u0442\\u0440\\u0438\\u0446\\u0430\", \"\\u043c\\u0430\\u0442\\u0440\\u0438\\u0446\\u0430\", \"\\u043c\\u0430\\u0442\\u0440\\u0438\\u0446\\u0430\", \"\\u043c\\u0430\\u0442\\u044c\", \"\\u043c\\u0435\\u0436\\u0434\\u0443\\u043d\\u0430\\u0440\\u043e\\u0434\\u043d\\u044b\\u0439_\\u0443\\u043d\\u0438\\u0432\\u0435\\u0440\\u0441\\u0438\\u0442\\u0435\\u0442_\\u043b\\u043e\\u0433\\u0438\\u0441\\u0442\\u0438\\u043a\\u0430_\\u0442\\u0440\\u0430\\u043d\\u0441\\u043f\\u043e\\u0440\\u0442\", \"\\u043c\\u0435\\u0436\\u043a\\u0443\\u043b\\u044c\\u0442\\u0443\\u0440\\u043d\\u044b\\u0439\", \"\\u043c\\u0435\\u0436\\u043e\\u0442\\u0440\\u0430\\u0441\\u043b\\u0435\\u0432\\u043e\\u0439\", \"\\u043c\\u0435\\u0436\\u043e\\u0442\\u0440\\u0430\\u0441\\u043b\\u0435\\u0432\\u043e\\u0439\", \"\\u043c\\u0435\\u0441\\u0442\\u043e\", \"\\u043c\\u0435\\u0441\\u0442\\u043e\", \"\\u043c\\u0435\\u0441\\u0442\\u043e\", \"\\u043c\\u0435\\u0441\\u0442\\u043e\", \"\\u043c\\u0435\\u0441\\u0442\\u043e\", \"\\u043c\\u0435\\u0441\\u0442\\u043e\", \"\\u043c\\u0435\\u0441\\u0442\\u043e\", \"\\u043c\\u0435\\u0442\\u043e\\u0434\", \"\\u043c\\u0435\\u0442\\u043e\\u0434\", \"\\u043c\\u0435\\u0442\\u043e\\u0434\", \"\\u043c\\u0435\\u0442\\u043e\\u0434\", \"\\u043c\\u0435\\u0442\\u043e\\u0434\", \"\\u043c\\u0435\\u0442\\u043e\\u0434\", \"\\u043c\\u0435\\u0442\\u043e\\u0434\\u0438\\u0447\\u0435\\u0441\\u043a\\u0438\\u0439\", \"\\u043c\\u0435\\u0442\\u043e\\u0434\\u0438\\u0447\\u0435\\u0441\\u043a\\u0438\\u0439\", \"\\u043c\\u0435\\u0442\\u043e\\u0434\\u0438\\u0447\\u0435\\u0441\\u043a\\u0438\\u0439\", \"\\u043c\\u0435\\u0442\\u043e\\u0434\\u0438\\u0447\\u0435\\u0441\\u043a\\u0438\\u0439\", \"\\u043c\\u0435\\u0442\\u043e\\u0434\\u0438\\u0447\\u0435\\u0441\\u043a\\u0438\\u0439\", \"\\u043c\\u0435\\u0442\\u043e\\u0434\\u0438\\u0447\\u0435\\u0441\\u043a\\u0438\\u0439\", \"\\u043c\\u0435\\u0442\\u043e\\u0434\\u043e\\u043b\\u043e\\u0433\\u0438\\u044f\", \"\\u043c\\u0435\\u0442\\u043e\\u0434\\u043e\\u043b\\u043e\\u0433\\u0438\\u044f\", \"\\u043c\\u0435\\u0442\\u043e\\u0434\\u043e\\u043b\\u043e\\u0433\\u0438\\u044f\", \"\\u043c\\u0435\\u0442\\u043e\\u0434\\u043e\\u043b\\u043e\\u0433\\u0438\\u044f\", \"\\u043c\\u0438\\u0440\", \"\\u043c\\u0438\\u0440\", \"\\u043c\\u0438\\u0440\", \"\\u043c\\u0438\\u0440\", \"\\u043c\\u0438\\u0440\", \"\\u043c\\u0438\\u0440\", \"\\u043c\\u0438\\u0440\\u043e\\u0432\\u043e\\u0437\\u0437\\u0440\\u0435\\u043d\\u0438\\u0435\", \"\\u043c\\u0438\\u0440\\u043e\\u0432\\u043e\\u0437\\u0437\\u0440\\u0435\\u043d\\u0438\\u0435\", \"\\u043c\\u0438\\u0440\\u043e\\u0432\\u043e\\u0437\\u0437\\u0440\\u0435\\u043d\\u0438\\u0435\", \"\\u043c\\u0438\\u0440\\u043e\\u0432\\u043e\\u0437\\u0437\\u0440\\u0435\\u043d\\u0438\\u0435\", \"\\u043c\\u0438\\u0440\\u043e\\u0432\\u043e\\u0437\\u0437\\u0440\\u0435\\u043d\\u0438\\u0435\", \"\\u043c\\u0438\\u0448\\u0435\\u043d\\u044c\", \"\\u043c\\u0438\\u0448\\u0435\\u043d\\u044c\", \"\\u043c\\u043e\\u0431\\u0438\\u043b\\u044c\\u043d\\u044b\\u0439\", \"\\u043c\\u043e\\u0431\\u0438\\u043b\\u044c\\u043d\\u044b\\u0439\", \"\\u043c\\u043e\\u0431\\u0438\\u043b\\u044c\\u043d\\u044b\\u0439\", \"\\u043c\\u043e\\u0431\\u0438\\u043b\\u044c\\u043d\\u044b\\u0439\", \"\\u043c\\u043e\\u0431\\u0438\\u043b\\u044c\\u043d\\u044b\\u0439_\\u0443\\u0441\\u0442\\u0440\\u043e\\u0438\\u0441\\u0442\\u0432\\u043e\", \"\\u043c\\u043e\\u0431\\u0438\\u043b\\u044c\\u043d\\u044b\\u0439_\\u0443\\u0441\\u0442\\u0440\\u043e\\u0438\\u0441\\u0442\\u0432\\u043e\", \"\\u043c\\u043e\\u0431\\u0438\\u043b\\u044c\\u043d\\u044b\\u0439_\\u0443\\u0441\\u0442\\u0440\\u043e\\u0438\\u0441\\u0442\\u0432\\u043e\", \"\\u043c\\u043e\\u0431\\u0438\\u043b\\u044c\\u043d\\u044b\\u0439_\\u0443\\u0441\\u0442\\u0440\\u043e\\u0438\\u0441\\u0442\\u0432\\u043e\", \"\\u043c\\u043e\\u0434\\u0435\\u043b\\u044c\", \"\\u043c\\u043e\\u0434\\u0435\\u043b\\u044c\", \"\\u043c\\u043e\\u0434\\u0435\\u043b\\u044c\", \"\\u043c\\u043e\\u0434\\u0435\\u043b\\u044c\", \"\\u043c\\u043e\\u0434\\u0435\\u043b\\u044c\", \"\\u043c\\u043e\\u0434\\u0435\\u043b\\u044c\", \"\\u043c\\u043e\\u0434\\u0435\\u043b\\u044c\", \"\\u043c\\u043e\\u0434\\u0443\\u043b\\u044c\", \"\\u043c\\u043e\\u0434\\u0443\\u043b\\u044c\", \"\\u043c\\u043e\\u0434\\u0443\\u043b\\u044c\", \"\\u043c\\u0443\\u0437\\u044b\\u043a\\u0430\", \"\\u043c\\u0443\\u0437\\u044b\\u043a\\u0430\", \"\\u043c\\u0443\\u0437\\u044b\\u043a\\u0430\\u043b\\u044c\\u043d\\u044b\\u0439\", \"\\u043c\\u0443\\u0437\\u044b\\u043a\\u0430\\u043b\\u044c\\u043d\\u044b\\u0439\", \"\\u043c\\u0443\\u0437\\u044b\\u043a\\u0430\\u043b\\u044c\\u043d\\u044b\\u0439\", \"\\u043c\\u044b\\u0441\\u043b\\u0438\\u0442\\u0435\\u043b\\u044c\", \"\\u043c\\u044b\\u0441\\u043b\\u044c\", \"\\u043c\\u044b\\u0441\\u043b\\u044c\", \"\\u043c\\u044b\\u0441\\u043b\\u044c\", \"\\u043c\\u044b\\u0441\\u043b\\u044c\", \"\\u043c\\u044b\\u0441\\u043b\\u044c\", \"\\u043c\\u044b\\u0441\\u043b\\u044c\", \"\\u043c\\u044f\\u0447\", \"\\u043d\\u0430\\u0432\\u044b\\u043a\", \"\\u043d\\u0430\\u0432\\u044b\\u043a\", \"\\u043d\\u0430\\u0432\\u044b\\u043a\", \"\\u043d\\u0430\\u0432\\u044b\\u043a\", \"\\u043d\\u0430\\u0432\\u044b\\u043a\", \"\\u043d\\u0430\\u0432\\u044b\\u043a\", \"\\u043d\\u0430\\u0432\\u044b\\u043a\", \"\\u043d\\u0430\\u0434\\u0437\\u043e\\u0440\", \"\\u043d\\u0430\\u043f\\u0440\\u0430\\u0432\\u043b\\u0435\\u043d\\u043d\\u043e\\u0441\\u0442\\u044c\", \"\\u043d\\u0430\\u043f\\u0440\\u0430\\u0432\\u043b\\u0435\\u043d\\u043d\\u043e\\u0441\\u0442\\u044c\", \"\\u043d\\u0430\\u043f\\u0440\\u0430\\u0432\\u043b\\u0435\\u043d\\u043d\\u043e\\u0441\\u0442\\u044c\", \"\\u043d\\u0430\\u043f\\u0440\\u0430\\u0432\\u043b\\u0435\\u043d\\u043d\\u043e\\u0441\\u0442\\u044c\", \"\\u043d\\u0430\\u043f\\u0440\\u0430\\u0432\\u043b\\u0435\\u043d\\u043d\\u043e\\u0441\\u0442\\u044c\", \"\\u043d\\u0430\\u043f\\u0440\\u0430\\u0432\\u043b\\u0435\\u043d\\u043d\\u043e\\u0441\\u0442\\u044c\", \"\\u043d\\u0430\\u0440\\u043e\\u0434\", \"\\u043d\\u0430\\u0440\\u043e\\u0434\", \"\\u043d\\u0430\\u0440\\u043e\\u0434\", \"\\u043d\\u0430\\u0440\\u043e\\u0434\", \"\\u043d\\u0430\\u0440\\u043e\\u0434\", \"\\u043d\\u0430\\u0440\\u043e\\u0434\\u043d\\u044b\\u0439_\\u0440\\u0435\\u043c\\u0435\\u0441\\u043b\\u043e\", \"\\u043d\\u0430\\u0440\\u0443\\u0448\\u0435\\u043d\\u0438\\u0435\", \"\\u043d\\u0430\\u0440\\u0443\\u0448\\u0435\\u043d\\u0438\\u0435\", \"\\u043d\\u0430\\u0440\\u0443\\u0448\\u0435\\u043d\\u0438\\u0435\", \"\\u043d\\u0430\\u0440\\u0443\\u0448\\u0435\\u043d\\u0438\\u0435\", \"\\u043d\\u0430\\u0440\\u0443\\u0448\\u0435\\u043d\\u0438\\u0435\", \"\\u043d\\u0430\\u0440\\u0443\\u0448\\u0435\\u043d\\u0438\\u0435\", \"\\u043d\\u0430\\u0441\\u0442\\u0430\\u0432\\u043d\\u0438\\u043a\", \"\\u043d\\u0430\\u0441\\u0442\\u0430\\u0432\\u043d\\u0438\\u043a\", \"\\u043d\\u0430\\u0441\\u0442\\u0430\\u0432\\u043d\\u0438\\u043a\", \"\\u043d\\u0430\\u0441\\u0442\\u0430\\u0432\\u043d\\u0438\\u0447\\u0435\\u0441\\u0442\\u0432\\u043e\", \"\\u043d\\u0430\\u0441\\u0442\\u0430\\u0432\\u043d\\u0438\\u0447\\u0435\\u0441\\u0442\\u0432\\u043e\", \"\\u043d\\u0430\\u0443\\u043a\\u0430\", \"\\u043d\\u0430\\u0443\\u043a\\u0430\", \"\\u043d\\u0430\\u0443\\u043a\\u0430\", \"\\u043d\\u0430\\u0443\\u043a\\u0430\", \"\\u043d\\u0430\\u0443\\u043a\\u0430\", \"\\u043d\\u0430\\u0443\\u043a\\u0430\", \"\\u043d\\u0430\\u0443\\u043a\\u0430\", \"\\u043d\\u0430\\u0443\\u0447\\u043d\\u043e_\\u043f\\u0435\\u0434\\u0430\\u0433\\u043e\\u0433\\u0438\\u0447\\u0435\\u0441\\u043a\\u0438\\u0439_\\u0440\\u0435\\u0448\\u0435\\u043d\\u0438\\u0435\", \"\\u043d\\u0430\\u0443\\u0447\\u043d\\u044b\\u0439\", \"\\u043d\\u0430\\u0443\\u0447\\u043d\\u044b\\u0439\", \"\\u043d\\u0430\\u0443\\u0447\\u043d\\u044b\\u0439\", \"\\u043d\\u0430\\u0443\\u0447\\u043d\\u044b\\u0439\", \"\\u043d\\u0430\\u0443\\u0447\\u043d\\u044b\\u0439\", \"\\u043d\\u0430\\u0443\\u0447\\u043d\\u044b\\u0439\", \"\\u043d\\u0430\\u0443\\u0447\\u043d\\u044b\\u0439\", \"\\u043d\\u0438\\u0434\\u0435\\u0440\\u043b\\u0430\\u043d\\u0434\\u044b\", \"\\u043d\\u043e\\u0432\\u044b\\u0439\", \"\\u043d\\u043e\\u0432\\u044b\\u0439\", \"\\u043d\\u043e\\u0432\\u044b\\u0439\", \"\\u043d\\u043e\\u0432\\u044b\\u0439\", \"\\u043d\\u043e\\u0432\\u044b\\u0439\", \"\\u043d\\u043e\\u0432\\u044b\\u0439\", \"\\u043d\\u043e\\u0432\\u044b\\u0439\", \"\\u043d\\u043f\\u0440\", \"\\u043e\\u0431\\u043b\\u0430\\u043a\\u043e\", \"\\u043e\\u0431\\u0440\\u0430\\u0437\", \"\\u043e\\u0431\\u0440\\u0430\\u0437\", \"\\u043e\\u0431\\u0440\\u0430\\u0437\", \"\\u043e\\u0431\\u0440\\u0430\\u0437\", \"\\u043e\\u0431\\u0440\\u0430\\u0437\", \"\\u043e\\u0431\\u0440\\u0430\\u0437\", \"\\u043e\\u0431\\u0440\\u0430\\u0437\", \"\\u043e\\u0431\\u0440\\u0430\\u0437\\u043e\\u0432\\u0430\\u043d\\u0438\\u0435\", \"\\u043e\\u0431\\u0440\\u0430\\u0437\\u043e\\u0432\\u0430\\u043d\\u0438\\u0435\", \"\\u043e\\u0431\\u0440\\u0430\\u0437\\u043e\\u0432\\u0430\\u043d\\u0438\\u0435\", \"\\u043e\\u0431\\u0440\\u0430\\u0437\\u043e\\u0432\\u0430\\u043d\\u0438\\u0435\", \"\\u043e\\u0431\\u0440\\u0430\\u0437\\u043e\\u0432\\u0430\\u043d\\u0438\\u0435\", \"\\u043e\\u0431\\u0440\\u0430\\u0437\\u043e\\u0432\\u0430\\u043d\\u0438\\u0435\", \"\\u043e\\u0431\\u0440\\u0430\\u0437\\u043e\\u0432\\u0430\\u043d\\u0438\\u0435\", \"\\u043e\\u0431\\u0440\\u0430\\u0437\\u043e\\u0432\\u0430\\u0442\\u0435\\u043b\\u044c\\u043d\\u044b\\u0439\", \"\\u043e\\u0431\\u0440\\u0430\\u0437\\u043e\\u0432\\u0430\\u0442\\u0435\\u043b\\u044c\\u043d\\u044b\\u0439\", \"\\u043e\\u0431\\u0440\\u0430\\u0437\\u043e\\u0432\\u0430\\u0442\\u0435\\u043b\\u044c\\u043d\\u044b\\u0439\", \"\\u043e\\u0431\\u0440\\u0430\\u0437\\u043e\\u0432\\u0430\\u0442\\u0435\\u043b\\u044c\\u043d\\u044b\\u0439\", \"\\u043e\\u0431\\u0440\\u0430\\u0437\\u043e\\u0432\\u0430\\u0442\\u0435\\u043b\\u044c\\u043d\\u044b\\u0439\", \"\\u043e\\u0431\\u0440\\u0430\\u0437\\u043e\\u0432\\u0430\\u0442\\u0435\\u043b\\u044c\\u043d\\u044b\\u0439\", \"\\u043e\\u0431\\u0440\\u0430\\u0437\\u043e\\u0432\\u0430\\u0442\\u0435\\u043b\\u044c\\u043d\\u044b\\u0439\", \"\\u043e\\u0431\\u0443\\u0447\\u0430\\u0442\\u044c\\u0441\\u044f\", \"\\u043e\\u0431\\u0443\\u0447\\u0430\\u0442\\u044c\\u0441\\u044f\", \"\\u043e\\u0431\\u0443\\u0447\\u0430\\u0442\\u044c\\u0441\\u044f\", \"\\u043e\\u0431\\u0443\\u0447\\u0430\\u0442\\u044c\\u0441\\u044f\", \"\\u043e\\u0431\\u0443\\u0447\\u0430\\u0442\\u044c\\u0441\\u044f\", \"\\u043e\\u0431\\u0443\\u0447\\u0435\\u043d\\u0438\\u0435\", \"\\u043e\\u0431\\u0443\\u0447\\u0435\\u043d\\u0438\\u0435\", \"\\u043e\\u0431\\u0443\\u0447\\u0435\\u043d\\u0438\\u0435\", \"\\u043e\\u0431\\u0443\\u0447\\u0435\\u043d\\u0438\\u0435\", \"\\u043e\\u0431\\u0443\\u0447\\u0435\\u043d\\u0438\\u0435\", \"\\u043e\\u0431\\u0443\\u0447\\u0435\\u043d\\u0438\\u0435\", \"\\u043e\\u0431\\u0443\\u0447\\u0435\\u043d\\u0438\\u0435\", \"\\u043e\\u0431\\u0449\\u0435\\u0436\\u0438\\u0442\\u0438\\u0435\", \"\\u043e\\u0431\\u0449\\u0435\\u043d\\u0438\\u0435\", \"\\u043e\\u0431\\u0449\\u0435\\u043d\\u0438\\u0435\", \"\\u043e\\u0431\\u0449\\u0435\\u043d\\u0438\\u0435\", \"\\u043e\\u0431\\u0449\\u0435\\u043d\\u0438\\u0435\", \"\\u043e\\u0431\\u0449\\u0435\\u043d\\u0438\\u0435\", \"\\u043e\\u0431\\u0449\\u0435\\u0441\\u0442\\u0432\\u043e\", \"\\u043e\\u0431\\u0449\\u0435\\u0441\\u0442\\u0432\\u043e\", \"\\u043e\\u0431\\u0449\\u0435\\u0441\\u0442\\u0432\\u043e\", \"\\u043e\\u0431\\u0449\\u0435\\u0441\\u0442\\u0432\\u043e\", \"\\u043e\\u0431\\u0449\\u0435\\u0441\\u0442\\u0432\\u043e\", \"\\u043e\\u0431\\u0449\\u0435\\u0441\\u0442\\u0432\\u043e\", \"\\u043e\\u0431\\u0449\\u0435\\u0441\\u0442\\u0432\\u043e\", \"\\u043e\\u0431\\u0449\\u0435\\u0441\\u0442\\u0432\\u043e_\\u0431\\u0435\\u0441\\u043a\\u043b\\u0430\\u0441\\u0441\\u043e\\u0432\\u044b\\u0439\", \"\\u043e\\u0431\\u0449\\u0435\\u0441\\u0442\\u0432\\u043e\\u0437\\u043d\\u0430\\u043d\\u0438\\u0435\", \"\\u043e\\u0431\\u0449\\u0435\\u0441\\u0442\\u0432\\u043e\\u0437\\u043d\\u0430\\u043d\\u0438\\u0435\", \"\\u043e\\u0436\\u0438\\u0434\\u0430\\u043d\\u0438\\u0435\", \"\\u043e\\u043a\\u0430\\u0437\\u044b\\u0432\\u0430\\u0442\\u044c\", \"\\u043e\\u043a\\u0430\\u0437\\u044b\\u0432\\u0430\\u0442\\u044c\", \"\\u043e\\u043a\\u0430\\u0437\\u044b\\u0432\\u0430\\u0442\\u044c\", \"\\u043e\\u043a\\u0430\\u0437\\u044b\\u0432\\u0430\\u0442\\u044c\", \"\\u043e\\u043f\\u043e\\u0440\\u043d\\u044b\\u0439\", \"\\u043e\\u0440\\u0433\\u0430\\u043d_\\u0432\\u043b\\u0430\\u0441\\u0442\\u044c_\\u0441\\u0443\\u0431\\u044a\\u0435\\u043a\\u0442\", \"\\u043e\\u0440\\u0433\\u0430\\u043d\\u0438\\u0437\\u0430\\u0446\\u0438\\u043e\\u043d\\u043d\\u043e_\\u043f\\u0435\\u0434\\u0430\\u0433\\u043e\\u0433\\u0438\\u0447\\u0435\\u0441\\u043a\\u0438\\u0439_\\u0443\\u0441\\u043b\\u043e\\u0432\\u0438\\u0435\", \"\\u043e\\u0440\\u0433\\u0430\\u043d\\u0438\\u0437\\u0430\\u0446\\u0438\\u044f\", \"\\u043e\\u0440\\u0433\\u0430\\u043d\\u0438\\u0437\\u0430\\u0446\\u0438\\u044f\", \"\\u043e\\u0440\\u0433\\u0430\\u043d\\u0438\\u0437\\u0430\\u0446\\u0438\\u044f\", \"\\u043e\\u0440\\u0433\\u0430\\u043d\\u0438\\u0437\\u0430\\u0446\\u0438\\u044f\", \"\\u043e\\u0440\\u0433\\u0430\\u043d\\u0438\\u0437\\u0430\\u0446\\u0438\\u044f\", \"\\u043e\\u0440\\u0433\\u0430\\u043d\\u0438\\u0437\\u0430\\u0446\\u0438\\u044f\", \"\\u043e\\u0440\\u0433\\u0430\\u043d\\u0438\\u0437\\u0430\\u0446\\u0438\\u044f\", \"\\u043e\\u0440\\u043a\\u0441\\u044d\", \"\\u043e\\u0441\\u043d\\u043e\\u0432\\u0430\", \"\\u043e\\u0441\\u043d\\u043e\\u0432\\u0430\", \"\\u043e\\u0441\\u043d\\u043e\\u0432\\u0430\", \"\\u043e\\u0441\\u043d\\u043e\\u0432\\u0430\", \"\\u043e\\u0441\\u043d\\u043e\\u0432\\u0430\", \"\\u043e\\u0441\\u043d\\u043e\\u0432\\u0430\", \"\\u043e\\u0441\\u043d\\u043e\\u0432\\u0430\", \"\\u043e\\u0441\\u043d\\u043e\\u0432\\u043d\\u044b\\u0439_\\u0432\\u043e\\u043f\\u0440\\u043e\\u0441_\\u0444\\u0438\\u043b\\u043e\\u0441\\u043e\\u0444\\u0438\\u044f\", \"\\u043e\\u0441\\u043e\\u0431\\u044b\\u0439\", \"\\u043e\\u0441\\u043e\\u0431\\u044b\\u0439\", \"\\u043e\\u0441\\u043e\\u0431\\u044b\\u0439\", \"\\u043e\\u0441\\u043e\\u0431\\u044b\\u0439\", \"\\u043e\\u0441\\u043e\\u0431\\u044b\\u0439\", \"\\u043e\\u0441\\u043e\\u0431\\u044b\\u0439\", \"\\u043e\\u0441\\u0443\\u0449\\u0435\\u0441\\u0442\\u0432\\u043b\\u044f\\u0442\\u044c\", \"\\u043e\\u0441\\u0443\\u0449\\u0435\\u0441\\u0442\\u0432\\u043b\\u044f\\u0442\\u044c\", \"\\u043e\\u0441\\u0443\\u0449\\u0435\\u0441\\u0442\\u0432\\u043b\\u044f\\u0442\\u044c\", \"\\u043e\\u0441\\u0443\\u0449\\u0435\\u0441\\u0442\\u0432\\u043b\\u044f\\u0442\\u044c\", \"\\u043e\\u0441\\u0443\\u0449\\u0435\\u0441\\u0442\\u0432\\u043b\\u044f\\u0442\\u044c\", \"\\u043e\\u0441\\u0443\\u0449\\u0435\\u0441\\u0442\\u0432\\u043b\\u044f\\u0442\\u044c\", \"\\u043e\\u0441\\u0443\\u0449\\u0435\\u0441\\u0442\\u0432\\u043b\\u044f\\u0442\\u044c\", \"\\u043e\\u0442\\u043d\\u043e\\u0448\\u0435\\u043d\\u0438\\u0435\", \"\\u043e\\u0442\\u043d\\u043e\\u0448\\u0435\\u043d\\u0438\\u0435\", \"\\u043e\\u0442\\u043d\\u043e\\u0448\\u0435\\u043d\\u0438\\u0435\", \"\\u043e\\u0442\\u043d\\u043e\\u0448\\u0435\\u043d\\u0438\\u0435\", \"\\u043e\\u0442\\u043d\\u043e\\u0448\\u0435\\u043d\\u0438\\u0435\", \"\\u043e\\u0442\\u043d\\u043e\\u0448\\u0435\\u043d\\u0438\\u0435\", \"\\u043f\\u0430\\u0440\\u0430\\u0434\\u0438\\u0433\\u043c\\u0430\", \"\\u043f\\u0430\\u0440\\u0430\\u0434\\u0438\\u0433\\u043c\\u0430\", \"\\u043f\\u0430\\u0440\\u0430\\u0434\\u0438\\u0433\\u043c\\u0430\", \"\\u043f\\u0430\\u0440\\u0430\\u0434\\u0438\\u0433\\u043c\\u0430\", \"\\u043f\\u0432\\u0433\\u0443\\u0441\\u044c\", \"\\u043f\\u0434\\u0434\", \"\\u043f\\u0435\\u0434\\u0430\\u0433\\u043e\\u0433\", \"\\u043f\\u0435\\u0434\\u0430\\u0433\\u043e\\u0433\", \"\\u043f\\u0435\\u0434\\u0430\\u0433\\u043e\\u0433\", \"\\u043f\\u0435\\u0434\\u0430\\u0433\\u043e\\u0433\", \"\\u043f\\u0435\\u0434\\u0430\\u0433\\u043e\\u0433\", \"\\u043f\\u0435\\u0434\\u0430\\u0433\\u043e\\u0433\", \"\\u043f\\u0435\\u0434\\u0430\\u0433\\u043e\\u0433\", \"\\u043f\\u0435\\u0434\\u0430\\u0433\\u043e\\u0433\\u0438\\u0447\\u0435\\u0441\\u043a\\u0438\\u0439\", \"\\u043f\\u0435\\u0434\\u0430\\u0433\\u043e\\u0433\\u0438\\u0447\\u0435\\u0441\\u043a\\u0438\\u0439\", \"\\u043f\\u0435\\u0434\\u0430\\u0433\\u043e\\u0433\\u0438\\u0447\\u0435\\u0441\\u043a\\u0438\\u0439\", \"\\u043f\\u0435\\u0434\\u0430\\u0433\\u043e\\u0433\\u0438\\u0447\\u0435\\u0441\\u043a\\u0438\\u0439\", \"\\u043f\\u0435\\u0434\\u0430\\u0433\\u043e\\u0433\\u0438\\u0447\\u0435\\u0441\\u043a\\u0438\\u0439\", \"\\u043f\\u0435\\u0434\\u0430\\u0433\\u043e\\u0433\\u0438\\u0447\\u0435\\u0441\\u043a\\u0438\\u0439\", \"\\u043f\\u0435\\u0434\\u0430\\u0433\\u043e\\u0433\\u0438\\u0447\\u0435\\u0441\\u043a\\u0438\\u0439\", \"\\u043f\\u0435\\u0440\\u0435\\u0430\\u0442\\u0442\\u0435\\u0441\\u0442\\u0430\\u0446\\u0438\\u044f\", \"\\u043f\\u0435\\u0440\\u0435\\u0434\\u0430\\u0442\\u044c_\\u043f\\u043e\\u043b\\u043d\\u043e\\u043c\\u043e\\u0447\\u0438\\u0435\", \"\\u043f\\u0435\\u0440\\u0435\\u0434\\u0430\\u0442\\u044c_\\u043f\\u043e\\u043b\\u043d\\u043e\\u043c\\u043e\\u0447\\u0438\\u0435_\\u0441\\u0444\\u0435\\u0440\\u0430\", \"\\u043f\\u0435\\u0440\\u0435\\u043e\\u0444\\u043e\\u0440\\u043c\\u043b\\u0435\\u043d\\u0438\\u0435\", \"\\u043f\\u0435\\u0440\\u0438\\u043e\\u0434_\\u043a\\u043b\\u0430\\u0441\\u0441\\u043e\\u0432\\u043e\\u0439_\\u0446\\u0438\\u0432\\u0438\\u043b\\u0438\\u0437\\u0430\\u0446\\u0438\\u044f\", \"\\u043f\\u0435\\u0440\\u043c\\u0441\\u043a\\u0438\\u0439_\\u043a\\u0440\\u0430\\u0439\", \"\\u043f\\u0435\\u0440\\u043c\\u044c\", \"\\u043f\\u0435\\u0440\\u0444\\u0435\\u043a\\u0446\\u0438\\u043e\\u043d\\u0438\\u0437\\u043c\", \"\\u043f\\u0435\\u0440\\u0444\\u0435\\u043a\\u0446\\u0438\\u043e\\u043d\\u0438\\u0441\\u0442\", \"\\u043f\\u0438\\u0441\\u0430\\u0442\\u0435\\u043b\\u044c\", \"\\u043f\\u0438\\u0441\\u044c\\u043c\\u043e\", \"\\u043f\\u0438\\u0441\\u044c\\u043c\\u043e\", \"\\u043f\\u0438\\u0441\\u044c\\u043c\\u043e\", \"\\u043f\\u0438\\u0441\\u044c\\u043c\\u043e_\\u0437\\u0430\\u043a\\u0430\\u0437\", \"\\u043f\\u043b\\u0430\\u0442\\u0444\\u043e\\u0440\\u043c\\u0430\", \"\\u043f\\u043b\\u0430\\u0442\\u0444\\u043e\\u0440\\u043c\\u0430\", \"\\u043f\\u043e\\u0434\\u0432\\u0438\\u0436\\u043d\\u044b\\u0439_\\u0438\\u0433\\u0440\\u0430\", \"\\u043f\\u043e\\u0434\\u0433\\u043e\\u0442\\u043e\\u0432\\u043a\\u0430\", \"\\u043f\\u043e\\u0434\\u0433\\u043e\\u0442\\u043e\\u0432\\u043a\\u0430\", \"\\u043f\\u043e\\u0434\\u0433\\u043e\\u0442\\u043e\\u0432\\u043a\\u0430\", \"\\u043f\\u043e\\u0434\\u0433\\u043e\\u0442\\u043e\\u0432\\u043a\\u0430\", \"\\u043f\\u043e\\u0434\\u0433\\u043e\\u0442\\u043e\\u0432\\u043a\\u0430\", \"\\u043f\\u043e\\u0434\\u0433\\u043e\\u0442\\u043e\\u0432\\u043a\\u0430\", \"\\u043f\\u043e\\u0434\\u0433\\u043e\\u0442\\u043e\\u0432\\u043a\\u0430\", \"\\u043f\\u043e\\u0434\\u0437\\u0430\\u043a\\u043e\\u043d\\u043d\\u044b\\u0439\", \"\\u043f\\u043e\\u0434\\u043b\\u0435\\u0436\\u0430\\u0449\\u0435\\u0435\", \"\\u043f\\u043e\\u0434\\u0440\\u043e\\u0441\\u0442\\u043e\\u043a\", \"\\u043f\\u043e\\u0434\\u0440\\u043e\\u0441\\u0442\\u043e\\u043a\", \"\\u043f\\u043e\\u0434\\u0440\\u043e\\u0441\\u0442\\u043e\\u043a\", \"\\u043f\\u043e\\u0434\\u0440\\u043e\\u0441\\u0442\\u043e\\u043a\", \"\\u043f\\u043e\\u0434\\u0440\\u043e\\u0441\\u0442\\u043e\\u043a\", \"\\u043f\\u043e\\u0434\\u0440\\u043e\\u0441\\u0442\\u043e\\u043a\", \"\\u043f\\u043e\\u0434\\u0445\\u043e\\u0434\", \"\\u043f\\u043e\\u0434\\u0445\\u043e\\u0434\", \"\\u043f\\u043e\\u0434\\u0445\\u043e\\u0434\", \"\\u043f\\u043e\\u0434\\u0445\\u043e\\u0434\", \"\\u043f\\u043e\\u0434\\u0445\\u043e\\u0434\", \"\\u043f\\u043e\\u0434\\u0445\\u043e\\u0434\", \"\\u043f\\u043e\\u0434\\u0445\\u043e\\u0434\", \"\\u043f\\u043e\\u0434\\u0445\\u043e\\u0434_\\u043f\\u0435\\u0434\\u0430\\u0433\\u043e\\u0433_\\u043f\\u0440\\u0430\\u043a\\u0442\\u0438\\u043a\", \"\\u043f\\u043e\\u0437\\u0432\\u043e\\u043b\\u044f\\u0442\\u044c\", \"\\u043f\\u043e\\u0437\\u0432\\u043e\\u043b\\u044f\\u0442\\u044c\", \"\\u043f\\u043e\\u0437\\u0432\\u043e\\u043b\\u044f\\u0442\\u044c\", \"\\u043f\\u043e\\u0437\\u0432\\u043e\\u043b\\u044f\\u0442\\u044c\", \"\\u043f\\u043e\\u0437\\u0432\\u043e\\u043b\\u044f\\u0442\\u044c\", \"\\u043f\\u043e\\u0437\\u0432\\u043e\\u043b\\u044f\\u0442\\u044c\", \"\\u043f\\u043e\\u0437\\u0432\\u043e\\u043b\\u044f\\u0442\\u044c\", \"\\u043f\\u043e\\u043b\\u043d\\u043e\\u043c\\u043e\\u0447\\u0438\\u0435\", \"\\u043f\\u043e\\u043b\\u044c\\u0437\\u043e\\u0432\\u0430\\u0442\\u0435\\u043b\\u044c\", \"\\u043f\\u043e\\u043b\\u044c\\u0437\\u043e\\u0432\\u0430\\u0442\\u0435\\u043b\\u044c\", \"\\u043f\\u043e\\u043b\\u044c\\u0437\\u043e\\u0432\\u0430\\u0442\\u0435\\u043b\\u044c\", \"\\u043f\\u043e\\u043b\\u044c\\u0437\\u043e\\u0432\\u0430\\u0442\\u0435\\u043b\\u044c\", \"\\u043f\\u043e\\u043b\\u044c\\u0448\\u0430\", \"\\u043f\\u043e\\u043c\\u043e\\u0449\\u044c\", \"\\u043f\\u043e\\u043c\\u043e\\u0449\\u044c\", \"\\u043f\\u043e\\u043c\\u043e\\u0449\\u044c\", \"\\u043f\\u043e\\u043c\\u043e\\u0449\\u044c\", \"\\u043f\\u043e\\u043c\\u043e\\u0449\\u044c\", \"\\u043f\\u043e\\u043c\\u043e\\u0449\\u044c\", \"\\u043f\\u043e\\u043c\\u043e\\u0449\\u044c\", \"\\u043f\\u043e\\u043d\\u044f\\u0442\\u0438\\u0435\", \"\\u043f\\u043e\\u043d\\u044f\\u0442\\u0438\\u0435\", \"\\u043f\\u043e\\u043d\\u044f\\u0442\\u0438\\u0435\", \"\\u043f\\u043e\\u043d\\u044f\\u0442\\u0438\\u0435\", \"\\u043f\\u043e\\u043d\\u044f\\u0442\\u0438\\u0435\", \"\\u043f\\u043e\\u043d\\u044f\\u0442\\u0438\\u0435\", \"\\u043f\\u043e\\u043d\\u044f\\u0442\\u0438\\u0435\", \"\\u043f\\u043e\\u0441\\u0442\\u0440\\u043e\\u0435\\u043d\\u0438\\u0435_\\u0441\\u043e\\u0446\\u0438\\u0430\\u043b\\u044c\\u043d\\u044b\\u0439\", \"\\u043f\\u043e\\u0441\\u0442\\u0443\\u043b\\u0430\\u0442\", \"\\u043f\\u0440\\u0430\\u0432\\u043e\\u0432\\u043e\\u0439\", \"\\u043f\\u0440\\u0430\\u0432\\u043e\\u0432\\u043e\\u0439\", \"\\u043f\\u0440\\u0430\\u0432\\u043e\\u0432\\u043e\\u0439\", \"\\u043f\\u0440\\u0430\\u0432\\u043e\\u0432\\u043e\\u0439\", \"\\u043f\\u0440\\u0430\\u0432\\u043e\\u0441\\u043b\\u0430\\u0432\\u043d\\u044b\\u0439\", \"\\u043f\\u0440\\u0430\\u0432\\u043e\\u0441\\u043b\\u0430\\u0432\\u043d\\u044b\\u0439\", \"\\u043f\\u0440\\u0435\\u0434\", \"\\u043f\\u0440\\u0435\\u0434\\u044b\\u0441\\u0442\\u043e\\u0440\\u0438\\u044f_\\u0447\\u0435\\u043b\\u043e\\u0432\\u0435\\u0447\\u0435\\u0441\\u0442\\u0432\\u043e\", \"\\u043f\\u0440\\u0435\\u043f\\u043e\\u0434\\u0430\\u0432\\u0430\\u0442\\u0435\\u043b\\u044c\", \"\\u043f\\u0440\\u0435\\u043f\\u043e\\u0434\\u0430\\u0432\\u0430\\u0442\\u0435\\u043b\\u044c\", \"\\u043f\\u0440\\u0435\\u043f\\u043e\\u0434\\u0430\\u0432\\u0430\\u0442\\u0435\\u043b\\u044c\", \"\\u043f\\u0440\\u0435\\u043f\\u043e\\u0434\\u0430\\u0432\\u0430\\u0442\\u0435\\u043b\\u044c\", \"\\u043f\\u0440\\u0435\\u043f\\u043e\\u0434\\u0430\\u0432\\u0430\\u0442\\u0435\\u043b\\u044c\", \"\\u043f\\u0440\\u0435\\u043f\\u043e\\u0434\\u0430\\u0432\\u0430\\u0442\\u0435\\u043b\\u044c\", \"\\u043f\\u0440\\u0435\\u043f\\u043e\\u0434\\u0430\\u0432\\u0430\\u0442\\u0435\\u043b\\u044c\", \"\\u043f\\u0440\\u0438\\u043a\\u043b\\u0430\\u0434\\u043d\\u043e\\u0439_\\u043d\\u0430\\u0443\\u043a\\u0430_\\u0444\\u043e\\u043d\\u0442\\u0438\\u0441\", \"\\u043f\\u0440\\u043e\\u0431\\u043b\\u0435\\u043c\\u0430\", \"\\u043f\\u0440\\u043e\\u0431\\u043b\\u0435\\u043c\\u0430\", \"\\u043f\\u0440\\u043e\\u0431\\u043b\\u0435\\u043c\\u0430\", \"\\u043f\\u0440\\u043e\\u0431\\u043b\\u0435\\u043c\\u0430\", \"\\u043f\\u0440\\u043e\\u0431\\u043b\\u0435\\u043c\\u0430\", \"\\u043f\\u0440\\u043e\\u0431\\u043b\\u0435\\u043c\\u0430\", \"\\u043f\\u0440\\u043e\\u0431\\u043b\\u0435\\u043c\\u0430\", \"\\u043f\\u0440\\u043e\\u0431\\u043b\\u0435\\u043c\\u043d\\u043e\\u0438\\u0442\\u044c\", \"\\u043f\\u0440\\u043e\\u0433\\u0440\\u0430\\u043c\\u043c\\u0430\", \"\\u043f\\u0440\\u043e\\u0433\\u0440\\u0430\\u043c\\u043c\\u0430\", \"\\u043f\\u0440\\u043e\\u0433\\u0440\\u0430\\u043c\\u043c\\u0430\", \"\\u043f\\u0440\\u043e\\u0433\\u0440\\u0430\\u043c\\u043c\\u0430\", \"\\u043f\\u0440\\u043e\\u0433\\u0440\\u0430\\u043c\\u043c\\u0430\", \"\\u043f\\u0440\\u043e\\u0433\\u0440\\u0430\\u043c\\u043c\\u0430\", \"\\u043f\\u0440\\u043e\\u0434\\u0443\\u043a\\u0442\\u0438\\u0432\\u043d\\u044b\\u0439\", \"\\u043f\\u0440\\u043e\\u0434\\u0443\\u043a\\u0442\\u0438\\u0432\\u043d\\u044b\\u0439\", \"\\u043f\\u0440\\u043e\\u0434\\u0443\\u043a\\u0442\\u0438\\u0432\\u043d\\u044b\\u0439\", \"\\u043f\\u0440\\u043e\\u0434\\u0443\\u043a\\u0442\\u0438\\u0432\\u043d\\u044b\\u0439\", \"\\u043f\\u0440\\u043e\\u0435\\u043a\\u0442\", \"\\u043f\\u0440\\u043e\\u0435\\u043a\\u0442\", \"\\u043f\\u0440\\u043e\\u0435\\u043a\\u0442\", \"\\u043f\\u0440\\u043e\\u0435\\u043a\\u0442\", \"\\u043f\\u0440\\u043e\\u0435\\u043a\\u0442\", \"\\u043f\\u0440\\u043e\\u0435\\u043a\\u0442\", \"\\u043f\\u0440\\u043e\\u0435\\u043a\\u0442\", \"\\u043f\\u0440\\u043e\\u0435\\u043a\\u0442_\\u0447\\u0435\\u043b\\u043e\\u0432\\u0435\\u0447\\u0435\\u0441\\u043a\\u0438\\u0439_\\u043e\\u0431\\u0449\\u0435\\u0441\\u0442\\u0432\\u043e\", \"\\u043f\\u0440\\u043e\\u0435\\u043a\\u0442\\u043d\\u043e\\u0438\\u0442\\u044c_\\u0434\\u0435\\u044f\\u0442\\u0435\\u043b\\u044c\\u043d\\u043e\\u0441\\u0442\\u044c\", \"\\u043f\\u0440\\u043e\\u0435\\u043a\\u0442\\u043d\\u043e\\u0438\\u0442\\u044c_\\u0434\\u0435\\u044f\\u0442\\u0435\\u043b\\u044c\\u043d\\u043e\\u0441\\u0442\\u044c\", \"\\u043f\\u0440\\u043e\\u0435\\u0441\\u0442\\u044c_\\u043c\\u0430\\u0442\\u0435\\u0440\\u0438\\u0430\\u043b\", \"\\u043f\\u0440\\u043e\\u0444\\u043e\\u0440\\u0438\\u0435\\u043d\\u0442\\u0430\\u0446\\u0438\\u044f\", \"\\u043f\\u0440\\u043e\\u0446\\u0435\\u043d\\u0442\\u043d\\u044b\\u0439_\\u0441\\u0442\\u0430\\u0432\\u043a\\u0430\", \"\\u043f\\u0440\\u043e\\u0446\\u0435\\u0441\\u0441\", \"\\u043f\\u0440\\u043e\\u0446\\u0435\\u0441\\u0441\", \"\\u043f\\u0440\\u043e\\u0446\\u0435\\u0441\\u0441\", \"\\u043f\\u0440\\u043e\\u0446\\u0435\\u0441\\u0441\", \"\\u043f\\u0440\\u043e\\u0446\\u0435\\u0441\\u0441\", \"\\u043f\\u0440\\u043e\\u0446\\u0435\\u0441\\u0441\", \"\\u043f\\u0440\\u043e\\u0446\\u0435\\u0441\\u0441\", \"\\u043f\\u0441\\u0435\\u0432\\u0434\\u043e\\u043d\\u0430\\u0443\\u043a\\u0430\", \"\\u043f\\u0441\\u0435\\u0432\\u0434\\u043e\\u043d\\u0430\\u0443\\u043a\\u0430\", \"\\u043f\\u0441\\u0435\\u0432\\u0434\\u043e\\u043d\\u0430\\u0443\\u043a\\u0430\", \"\\u043f\\u0443\\u0431\\u043b\\u0438\\u043a\\u0430\\u0446\\u0438\\u044f\", \"\\u043f\\u0443\\u0431\\u043b\\u0438\\u043a\\u0430\\u0446\\u0438\\u044f\", \"\\u043f\\u0443\\u0431\\u043b\\u0438\\u043a\\u0430\\u0446\\u0438\\u044f\", \"\\u043f\\u0443\\u0431\\u043b\\u0438\\u043a\\u0430\\u0446\\u0438\\u044f\", \"\\u043f\\u0443\\u0431\\u043b\\u0438\\u043a\\u0430\\u0446\\u0438\\u044f\", \"\\u043f\\u0443\\u0431\\u043b\\u0438\\u043a\\u0430\\u0446\\u0438\\u044f\", \"\\u0440\\u0430\\u0431\\u043e\\u0442\\u0430\", \"\\u0440\\u0430\\u0431\\u043e\\u0442\\u0430\", \"\\u0440\\u0430\\u0431\\u043e\\u0442\\u0430\", \"\\u0440\\u0430\\u0431\\u043e\\u0442\\u0430\", \"\\u0440\\u0430\\u0431\\u043e\\u0442\\u0430\", \"\\u0440\\u0430\\u0431\\u043e\\u0442\\u0430\", \"\\u0440\\u0430\\u0431\\u043e\\u0442\\u0430\", \"\\u0440\\u0430\\u0431\\u043e\\u0442\\u043d\\u0438\\u043a\", \"\\u0440\\u0430\\u0431\\u043e\\u0442\\u043d\\u0438\\u043a\", \"\\u0440\\u0430\\u0431\\u043e\\u0442\\u043d\\u0438\\u043a\", \"\\u0440\\u0430\\u0431\\u043e\\u0442\\u043d\\u0438\\u043a\", \"\\u0440\\u0430\\u0431\\u043e\\u0442\\u043d\\u0438\\u043a\", \"\\u0440\\u0430\\u0434\\u0438\\u043e\", \"\\u0440\\u0430\\u0437\\u0432\\u0438\\u0442\\u0438\\u0435\", \"\\u0440\\u0430\\u0437\\u0432\\u0438\\u0442\\u0438\\u0435\", \"\\u0440\\u0430\\u0437\\u0432\\u0438\\u0442\\u0438\\u0435\", \"\\u0440\\u0430\\u0437\\u0432\\u0438\\u0442\\u0438\\u0435\", \"\\u0440\\u0430\\u0437\\u0432\\u0438\\u0442\\u0438\\u0435\", \"\\u0440\\u0430\\u0437\\u0432\\u0438\\u0442\\u0438\\u0435\", \"\\u0440\\u0430\\u0437\\u0432\\u0438\\u0442\\u0438\\u0435\", \"\\u0440\\u0430\\u0437\\u0433\\u0440\\u0430\\u043d\\u0438\\u0447\\u0435\\u043d\\u0438\\u0435_\\u043a\\u043e\\u043c\\u043f\\u0435\\u0442\\u0435\\u043d\\u0446\\u0438\\u044f\", \"\\u0440\\u0430\\u0437\\u0433\\u0440\\u0430\\u043d\\u0438\\u0447\\u0435\\u043d\\u0438\\u0435_\\u043a\\u043e\\u043c\\u043f\\u0435\\u0442\\u0435\\u043d\\u0446\\u0438\\u044f_\\u043e\\u0441\\u0443\\u0449\\u0435\\u0441\\u0442\\u0432\\u043b\\u0435\\u043d\\u0438\\u0435\", \"\\u0440\\u0430\\u0437\\u043b\\u0438\\u0447\\u043d\\u044b\\u0439\", \"\\u0440\\u0430\\u0437\\u043b\\u0438\\u0447\\u043d\\u044b\\u0439\", \"\\u0440\\u0430\\u0437\\u043b\\u0438\\u0447\\u043d\\u044b\\u0439\", \"\\u0440\\u0430\\u0437\\u043b\\u0438\\u0447\\u043d\\u044b\\u0439\", \"\\u0440\\u0430\\u0437\\u043b\\u0438\\u0447\\u043d\\u044b\\u0439\", \"\\u0440\\u0430\\u0437\\u043b\\u0438\\u0447\\u043d\\u044b\\u0439\", \"\\u0440\\u0430\\u0437\\u043b\\u0438\\u0447\\u043d\\u044b\\u0439\", \"\\u0440\\u0430\\u043d\\u0433\", \"\\u0440\\u0435\\u0430\\u043b\\u0438\\u0437\\u0430\\u0446\\u0438\\u044f\", \"\\u0440\\u0435\\u0430\\u043b\\u0438\\u0437\\u0430\\u0446\\u0438\\u044f\", \"\\u0440\\u0435\\u0430\\u043b\\u0438\\u0437\\u0430\\u0446\\u0438\\u044f\", \"\\u0440\\u0435\\u0430\\u043b\\u0438\\u0437\\u0430\\u0446\\u0438\\u044f\", \"\\u0440\\u0435\\u0430\\u043b\\u0438\\u0437\\u0430\\u0446\\u0438\\u044f\", \"\\u0440\\u0435\\u0430\\u043b\\u0438\\u0437\\u0430\\u0446\\u0438\\u044f\", \"\\u0440\\u0435\\u0430\\u043b\\u0438\\u0437\\u0430\\u0446\\u0438\\u044f\", \"\\u0440\\u0435\\u0431\\u0451\\u043d\\u043e\\u043a\", \"\\u0440\\u0435\\u0431\\u0451\\u043d\\u043e\\u043a\", \"\\u0440\\u0435\\u0431\\u0451\\u043d\\u043e\\u043a\", \"\\u0440\\u0435\\u0431\\u0451\\u043d\\u043e\\u043a\", \"\\u0440\\u0435\\u0431\\u0451\\u043d\\u043e\\u043a\", \"\\u0440\\u0435\\u0431\\u0451\\u043d\\u043e\\u043a\", \"\\u0440\\u0435\\u0431\\u0451\\u043d\\u043e\\u043a\", \"\\u0440\\u0435\\u0432\\u043e\\u043b\\u044e\\u0446\\u0438\\u044f_\\u043e\\u0431\\u0449\\u0435\\u0441\\u0442\\u0432\\u0435\\u043d\\u043d\\u044b\\u0439\", \"\\u0440\\u0435\\u0434\\u0430\\u043a\\u0442\\u043e\\u0440\", \"\\u0440\\u0435\\u0437\\u0443\\u043b\\u044c\\u0442\\u0430\\u0442\", \"\\u0440\\u0435\\u0437\\u0443\\u043b\\u044c\\u0442\\u0430\\u0442\", \"\\u0440\\u0435\\u0437\\u0443\\u043b\\u044c\\u0442\\u0430\\u0442\", \"\\u0440\\u0435\\u0437\\u0443\\u043b\\u044c\\u0442\\u0430\\u0442\", \"\\u0440\\u0435\\u0437\\u0443\\u043b\\u044c\\u0442\\u0430\\u0442\", \"\\u0440\\u0435\\u0437\\u0443\\u043b\\u044c\\u0442\\u0430\\u0442\", \"\\u0440\\u0435\\u0437\\u0443\\u043b\\u044c\\u0442\\u0430\\u0442\", \"\\u0440\\u0435\\u0437\\u044c\\u0431\\u0430\", \"\\u0440\\u0435\\u043b\\u0438\\u0433\\u0438\\u043e\\u0437\\u043d\\u044b\\u0439\", \"\\u0440\\u0435\\u043b\\u0438\\u0433\\u0438\\u043e\\u0437\\u043d\\u044b\\u0439\", \"\\u0440\\u0435\\u043b\\u0438\\u0433\\u0438\\u043e\\u0437\\u043d\\u044b\\u0439\", \"\\u0440\\u0435\\u043b\\u0438\\u0433\\u0438\\u043e\\u0437\\u043d\\u044b\\u0439\", \"\\u0440\\u0435\\u043b\\u0438\\u0433\\u0438\\u043e\\u0437\\u043d\\u044b\\u0439\", \"\\u0440\\u0435\\u043c\\u0435\\u0441\\u043b\\u043e\", \"\\u0440\\u0435\\u0441\\u0443\\u0440\\u0441\", \"\\u0440\\u0435\\u0441\\u0443\\u0440\\u0441\", \"\\u0440\\u0435\\u0441\\u0443\\u0440\\u0441\", \"\\u0440\\u0435\\u0441\\u0443\\u0440\\u0441\", \"\\u0440\\u0435\\u0441\\u0443\\u0440\\u0441\", \"\\u0440\\u0435\\u0441\\u0443\\u0440\\u0441\", \"\\u0440\\u0435\\u0441\\u0443\\u0440\\u0441\", \"\\u0440\\u0435\\u0448\\u0435\\u043d\\u0438\\u0435\", \"\\u0440\\u0435\\u0448\\u0435\\u043d\\u0438\\u0435\", \"\\u0440\\u0435\\u0448\\u0435\\u043d\\u0438\\u0435\", \"\\u0440\\u0435\\u0448\\u0435\\u043d\\u0438\\u0435\", \"\\u0440\\u0435\\u0448\\u0435\\u043d\\u0438\\u0435\", \"\\u0440\\u0435\\u0448\\u0435\\u043d\\u0438\\u0435\", \"\\u0440\\u043e\\u0431\\u043e\\u0442\\u043e\\u0442\\u0435\\u0445\\u043d\\u0438\\u043a\\u0430\", \"\\u0440\\u043e\\u0434\\u0441\\u0442\\u0432\\u0435\\u043d\\u043d\\u044b\\u0439\", \"\\u0440\\u043e\\u0441\\u0441\\u0438\\u0438\\u0441\\u043a\\u043e\\u0439_\\u0444\\u0435\\u0434\\u0435\\u0440\\u0430\\u0446\\u0438\\u044f\", \"\\u0440\\u043e\\u0441\\u0441\\u0438\\u0438\\u0441\\u043a\\u043e\\u0439_\\u0444\\u0435\\u0434\\u0435\\u0440\\u0430\\u0446\\u0438\\u044f\", \"\\u0440\\u043e\\u0441\\u0441\\u0438\\u0438\\u0441\\u043a\\u043e\\u0439_\\u0444\\u0435\\u0434\\u0435\\u0440\\u0430\\u0446\\u0438\\u044f\", \"\\u0440\\u043e\\u0441\\u0441\\u0438\\u0438\\u0441\\u043a\\u043e\\u0439_\\u0444\\u0435\\u0434\\u0435\\u0440\\u0430\\u0446\\u0438\\u044f\", \"\\u0440\\u043e\\u0441\\u0441\\u0438\\u0438\\u0441\\u043a\\u043e\\u0439_\\u0444\\u0435\\u0434\\u0435\\u0440\\u0430\\u0446\\u0438\\u044f\", \"\\u0440\\u043e\\u0441\\u0441\\u0438\\u0438\\u0441\\u043a\\u043e\\u0439_\\u0444\\u0435\\u0434\\u0435\\u0440\\u0430\\u0446\\u0438\\u044f\", \"\\u0440\\u0443\\u0441\\u0441\\u043a\\u0438\\u0439\", \"\\u0440\\u0443\\u0441\\u0441\\u043a\\u0438\\u0439\", \"\\u0440\\u0443\\u0441\\u0441\\u043a\\u0438\\u0439\", \"\\u0440\\u0443\\u0441\\u0441\\u043a\\u0438\\u0439\", \"\\u0440\\u0443\\u0441\\u0441\\u043a\\u0438\\u044f\", \"\\u0440\\u0443\\u0441\\u0441\\u043a\\u0438\\u044f\", \"\\u0440\\u0443\\u0441\\u0441\\u043a\\u0438\\u044f\", \"\\u0440\\u0443\\u0441\\u0441\\u043a\\u0438\\u044f\", \"\\u0441\\u0430\\u0438\\u0442\", \"\\u0441\\u0430\\u0438\\u0442\", \"\\u0441\\u0430\\u0438\\u0442\", \"\\u0441\\u0430\\u0438\\u0442\", \"\\u0441\\u0430\\u0438\\u0442\", \"\\u0441\\u0431\\u0435\\u0440\\u0431\\u0430\\u043d\\u043a\", \"\\u0441\\u0431\\u043e\\u0440\\u043a\\u0430\", \"\\u0441\\u0432_max\", \"\\u0441\\u0432\\u0434\", \"\\u0441\\u0432\\u0435\\u0442\\u0441\\u043a\\u0438\\u0439\", \"\\u0441\\u0432\\u0435\\u0442\\u0441\\u043a\\u0438\\u0439\", \"\\u0441\\u0432\\u0435\\u0442\\u0441\\u043a\\u043e\\u0439_\\u044d\\u0442\\u0438\\u043a\\u0430\", \"\\u0441\\u0433_\\u0441\\u0432\", \"\\u0441\\u0435\\u0440\\u0432\\u0438\\u0441\", \"\\u0441\\u0435\\u0440\\u0432\\u0438\\u0441\", \"\\u0441\\u0435\\u0440\\u0432\\u0438\\u0441\", \"\\u0441\\u0435\\u0440\\u0432\\u0438\\u0441\", \"\\u0441\\u0435\\u0440\\u0434\\u0435\\u0447\\u043d\\u044b\\u0439_\\u0441\\u043e\\u0437\\u0435\\u0440\\u0446\\u0430\\u043d\\u0438\\u0435\", \"\\u0441\\u0435\\u0440\\u0434\\u0446\\u0435\", \"\\u0441\\u0438\\u043b\\u0430\", \"\\u0441\\u0438\\u043b\\u0430\", \"\\u0441\\u0438\\u043b\\u0430\", \"\\u0441\\u0438\\u043b\\u0430\", \"\\u0441\\u0438\\u043b\\u0430\", \"\\u0441\\u0438\\u043b\\u0430\", \"\\u0441\\u0438\\u0440\\u043e\\u0442\\u0430\", \"\\u0441\\u0438\\u0440\\u043e\\u0442\\u0430\", \"\\u0441\\u0438\\u0441\\u0442\\u0435\\u043c\\u0430\", \"\\u0441\\u0438\\u0441\\u0442\\u0435\\u043c\\u0430\", \"\\u0441\\u0438\\u0441\\u0442\\u0435\\u043c\\u0430\", \"\\u0441\\u0438\\u0441\\u0442\\u0435\\u043c\\u0430\", \"\\u0441\\u0438\\u0441\\u0442\\u0435\\u043c\\u0430\", \"\\u0441\\u0438\\u0441\\u0442\\u0435\\u043c\\u0430\", \"\\u0441\\u0438\\u0441\\u0442\\u0435\\u043c\\u0430\", \"\\u0441\\u0438\\u0441\\u0442\\u0435\\u043c\\u0430_\\u0446\\u0435\\u043d\\u043d\\u043e\\u0441\\u0442\\u0435\\u044f\", \"\\u0441\\u0438\\u0441\\u0442\\u0435\\u043c\\u0430_\\u0446\\u0435\\u043d\\u043d\\u043e\\u0441\\u0442\\u0435\\u044f\", \"\\u0441\\u0438\\u0441\\u0442\\u0435\\u043c\\u0430_\\u0446\\u0435\\u043d\\u043d\\u043e\\u0441\\u0442\\u0435\\u044f\", \"\\u0441\\u0438\\u0442\\u0443\\u0430\\u0446\\u0438\\u044f\", \"\\u0441\\u0438\\u0442\\u0443\\u0430\\u0446\\u0438\\u044f\", \"\\u0441\\u0438\\u0442\\u0443\\u0430\\u0446\\u0438\\u044f\", \"\\u0441\\u0438\\u0442\\u0443\\u0430\\u0446\\u0438\\u044f\", \"\\u0441\\u0438\\u0442\\u0443\\u0430\\u0446\\u0438\\u044f\", \"\\u0441\\u0438\\u0442\\u0443\\u0430\\u0446\\u0438\\u044f\", \"\\u0441\\u0438\\u0442\\u0443\\u0430\\u0446\\u0438\\u044f\", \"\\u0441\\u0438\\u0442\\u0443\\u0430\\u0446\\u0438\\u044f_\\u043a\\u0440\\u0438\\u0437\\u0438\\u0441\", \"\\u0441\\u043b\\u043e\\u0432\\u043e\", \"\\u0441\\u043b\\u043e\\u0432\\u043e\", \"\\u0441\\u043b\\u043e\\u0432\\u043e\", \"\\u0441\\u043b\\u043e\\u0432\\u043e\", \"\\u0441\\u043b\\u043e\\u0432\\u043e\", \"\\u0441\\u043b\\u043e\\u0432\\u043e\", \"\\u0441\\u043e\\u0432\\u0435\\u0440\\u0448\\u0435\\u043d\\u0441\\u0442\\u0432\\u043e\", \"\\u0441\\u043e\\u0432\\u0435\\u0440\\u0448\\u0435\\u043d\\u0441\\u0442\\u0432\\u043e\", \"\\u0441\\u043e\\u0432\\u0435\\u0440\\u0448\\u0435\\u043d\\u0441\\u0442\\u0432\\u043e\", \"\\u0441\\u043e\\u0432\\u0440\\u0435\\u043c\\u0435\\u043d\\u043d\\u044b\\u0439\", \"\\u0441\\u043e\\u0432\\u0440\\u0435\\u043c\\u0435\\u043d\\u043d\\u044b\\u0439\", \"\\u0441\\u043e\\u0432\\u0440\\u0435\\u043c\\u0435\\u043d\\u043d\\u044b\\u0439\", \"\\u0441\\u043e\\u0432\\u0440\\u0435\\u043c\\u0435\\u043d\\u043d\\u044b\\u0439\", \"\\u0441\\u043e\\u0432\\u0440\\u0435\\u043c\\u0435\\u043d\\u043d\\u044b\\u0439\", \"\\u0441\\u043e\\u0432\\u0440\\u0435\\u043c\\u0435\\u043d\\u043d\\u044b\\u0439\", \"\\u0441\\u043e\\u0432\\u0440\\u0435\\u043c\\u0435\\u043d\\u043d\\u044b\\u0439\", \"\\u0441\\u043e\\u0437\\u0434\\u0430\\u043d\\u0438\\u0435\", \"\\u0441\\u043e\\u0437\\u0434\\u0430\\u043d\\u0438\\u0435\", \"\\u0441\\u043e\\u0437\\u0434\\u0430\\u043d\\u0438\\u0435\", \"\\u0441\\u043e\\u0437\\u0434\\u0430\\u043d\\u0438\\u0435\", \"\\u0441\\u043e\\u0437\\u0434\\u0430\\u043d\\u0438\\u0435\", \"\\u0441\\u043e\\u0437\\u0434\\u0430\\u043d\\u0438\\u0435\", \"\\u0441\\u043e\\u0437\\u0434\\u0430\\u043d\\u0438\\u0435\", \"\\u0441\\u043e\\u0437\\u0435\\u0440\\u0446\\u0430\\u043d\\u0438\\u0435\", \"\\u0441\\u043e\\u0437\\u0435\\u0440\\u0446\\u0430\\u0442\\u044c\", \"\\u0441\\u043e\\u0437\\u043d\\u0430\\u043d\\u0438\\u0435\", \"\\u0441\\u043e\\u0437\\u043d\\u0430\\u043d\\u0438\\u0435\", \"\\u0441\\u043e\\u0437\\u043d\\u0430\\u043d\\u0438\\u0435\", \"\\u0441\\u043e\\u0437\\u043d\\u0430\\u043d\\u0438\\u0435\", \"\\u0441\\u043e\\u0437\\u043d\\u0430\\u043d\\u0438\\u0435\", \"\\u0441\\u043e\\u0437\\u043d\\u0430\\u043d\\u0438\\u0435\", \"\\u0441\\u043e\\u043f\\u0435\\u0440\\u043d\\u0438\\u0447\\u0435\\u0441\\u0442\\u0432\\u043e\", \"\\u0441\\u043e\\u0441\\u0442\\u043e\\u044f\\u043d\\u0438\\u0435\", \"\\u0441\\u043e\\u0441\\u0442\\u043e\\u044f\\u043d\\u0438\\u0435\", \"\\u0441\\u043e\\u0441\\u0442\\u043e\\u044f\\u043d\\u0438\\u0435\", \"\\u0441\\u043e\\u0441\\u0442\\u043e\\u044f\\u043d\\u0438\\u0435\", \"\\u0441\\u043e\\u0441\\u0442\\u043e\\u044f\\u043d\\u0438\\u0435\", \"\\u0441\\u043e\\u0441\\u0442\\u043e\\u044f\\u043d\\u0438\\u0435\", \"\\u0441\\u043e\\u0441\\u0442\\u043e\\u044f\\u043d\\u0438\\u0435\", \"\\u0441\\u043e\\u0442\\u0440\\u0443\\u0434\\u043d\\u0438\\u043a\", \"\\u0441\\u043e\\u0442\\u0440\\u0443\\u0434\\u043d\\u0438\\u043a\", \"\\u0441\\u043e\\u0442\\u0440\\u0443\\u0434\\u043d\\u0438\\u043a\", \"\\u0441\\u043e\\u0442\\u0440\\u0443\\u0434\\u043d\\u0438\\u043a\", \"\\u0441\\u043e\\u0444\\u0442\", \"\\u0441\\u043e\\u0446\\u0438\\u0430\\u043b\\u0438\\u0437\\u0430\\u0446\\u0438\\u044f\", \"\\u0441\\u043e\\u0446\\u0438\\u0430\\u043b\\u0438\\u0437\\u0430\\u0446\\u0438\\u044f\", \"\\u0441\\u043e\\u0446\\u0438\\u0430\\u043b\\u0438\\u0437\\u0430\\u0446\\u0438\\u044f\", \"\\u0441\\u043e\\u0446\\u0438\\u0430\\u043b\\u0438\\u0437\\u0430\\u0446\\u0438\\u044f\", \"\\u0441\\u043e\\u0446\\u0438\\u0430\\u043b\\u0438\\u0437\\u0430\\u0446\\u0438\\u044f\", \"\\u0441\\u043e\\u0446\\u0438\\u0430\\u043b\\u044c\\u043d\\u044b\\u0439_\\u0441\\u0435\\u0442\\u0435\\u044f\", \"\\u0441\\u043e\\u0446\\u0438\\u0430\\u043b\\u044c\\u043d\\u044b\\u0439_\\u0441\\u0435\\u0442\\u0435\\u044f\", \"\\u0441\\u043e\\u0446\\u0438\\u0430\\u043b\\u044c\\u043d\\u044b\\u0439_\\u0441\\u0435\\u0442\\u044c\", \"\\u0441\\u043e\\u0446\\u0438\\u0430\\u043b\\u044c\\u043d\\u044b\\u0439_\\u0441\\u0435\\u0442\\u044c\", \"\\u0441\\u043e\\u0446\\u0438\\u0430\\u043b\\u044c\\u043d\\u044b\\u0439_\\u0441\\u0435\\u0442\\u044c\", \"\\u0441\\u0440\\u0435\\u0434\\u0441\\u0442\\u0432\\u043e\", \"\\u0441\\u0440\\u0435\\u0434\\u0441\\u0442\\u0432\\u043e\", \"\\u0441\\u0440\\u0435\\u0434\\u0441\\u0442\\u0432\\u043e\", \"\\u0441\\u0440\\u0435\\u0434\\u0441\\u0442\\u0432\\u043e\", \"\\u0441\\u0440\\u0435\\u0434\\u0441\\u0442\\u0432\\u043e\", \"\\u0441\\u0440\\u0435\\u0434\\u0441\\u0442\\u0432\\u043e\", \"\\u0441\\u0440\\u0435\\u0434\\u0441\\u0442\\u0432\\u043e\", \"\\u0441\\u0441\\u044b\\u043b\\u043a\\u0430\", \"\\u0441\\u0441\\u044b\\u043b\\u043a\\u0430\", \"\\u0441\\u0441\\u044b\\u043b\\u043a\\u0430\", \"\\u0441\\u0442\\u0430\\u043d\\u0446\\u0438\\u044f\", \"\\u0441\\u0442\\u0430\\u043d\\u0446\\u0438\\u044f\", \"\\u0441\\u0442\\u0430\\u0440\\u0448\\u0438\\u0439_\\u043a\\u043b\\u0430\\u0441\\u0441\", \"\\u0441\\u0442\\u0430\\u0442\\u0438\\u0441\\u0442\\u0438\\u0447\\u0435\\u0441\\u043a\\u0438\\u0439\", \"\\u0441\\u0442\\u0430\\u0442\\u0438\\u0441\\u0442\\u0438\\u0447\\u0435\\u0441\\u043a\\u0438\\u0439\", \"\\u0441\\u0442\\u0430\\u0442\\u0438\\u0441\\u0442\\u0438\\u0447\\u0435\\u0441\\u043a\\u0438\\u0439\", \"\\u0441\\u0442\\u0440\\u0430\\u043d\\u0438\\u0447\\u043a\\u0430\", \"\\u0441\\u0442\\u0440\\u0435\\u043b\\u043a\\u043e\\u0432\\u044b\\u0439_\\u043a\\u043e\\u043c\\u043f\\u043b\\u0435\\u043a\\u0441\", \"\\u0441\\u0442\\u0440\\u0443\\u043a\\u0442\\u0443\\u0440\\u0430\", \"\\u0441\\u0442\\u0440\\u0443\\u043a\\u0442\\u0443\\u0440\\u0430\", \"\\u0441\\u0442\\u0440\\u0443\\u043a\\u0442\\u0443\\u0440\\u0430\", \"\\u0441\\u0442\\u0440\\u0443\\u043a\\u0442\\u0443\\u0440\\u0430\", \"\\u0441\\u0442\\u0440\\u0443\\u043a\\u0442\\u0443\\u0440\\u0430\", \"\\u0441\\u0442\\u0440\\u0443\\u043a\\u0442\\u0443\\u0440\\u0430\", \"\\u0441\\u0442\\u0440\\u0443\\u043a\\u0442\\u0443\\u0440\\u0430\", \"\\u0441\\u0442\\u0443\\u0434\\u0435\\u043d\\u0442\", \"\\u0441\\u0442\\u0443\\u0434\\u0435\\u043d\\u0442\", \"\\u0441\\u0442\\u0443\\u0434\\u0435\\u043d\\u0442\", \"\\u0441\\u0442\\u0443\\u0434\\u0435\\u043d\\u0442\", \"\\u0441\\u0442\\u0443\\u0434\\u0435\\u043d\\u0442\", \"\\u0441\\u0442\\u0443\\u0434\\u0435\\u043d\\u0442\", \"\\u0441\\u0442\\u0443\\u0434\\u0435\\u043d\\u0442\", \"\\u0441\\u0443\\u0431\\u044a\\u0435\\u043a\\u0442\", \"\\u0441\\u0443\\u0431\\u044a\\u0435\\u043a\\u0442\", \"\\u0441\\u0443\\u0431\\u044a\\u0435\\u043a\\u0442\", \"\\u0441\\u0443\\u0431\\u044a\\u0435\\u043a\\u0442\", \"\\u0441\\u0443\\u0431\\u044a\\u0435\\u043a\\u0442\", \"\\u0441\\u0443\\u0431\\u044a\\u0435\\u043a\\u0442\", \"\\u0441\\u0443\\u0431\\u044a\\u0435\\u043a\\u0442_\\u0443\\u043f\\u0440\\u0430\\u0432\\u043b\\u0435\\u043d\\u0438\\u0435\", \"\\u0441\\u0443\\u0431\\u044a\\u0435\\u043a\\u0442_\\u0443\\u043f\\u0440\\u0430\\u0432\\u043b\\u0435\\u043d\\u0438\\u0435\", \"\\u0441\\u0444\\u0435\\u0440\\u0430\", \"\\u0441\\u0444\\u0435\\u0440\\u0430\", \"\\u0441\\u0444\\u0435\\u0440\\u0430\", \"\\u0441\\u0444\\u0435\\u0440\\u0430\", \"\\u0441\\u0444\\u0435\\u0440\\u0430\", \"\\u0441\\u0444\\u0435\\u0440\\u0430\", \"\\u0441\\u0444\\u0435\\u0440\\u0430\", \"\\u0442\\u0430\\u0431\\u043b\\u0438\\u0446\\u0430\", \"\\u0442\\u0430\\u0431\\u043b\\u0438\\u0446\\u0430\", \"\\u0442\\u0430\\u0431\\u043b\\u0438\\u0446\\u0430\", \"\\u0442\\u0430\\u0431\\u043b\\u0438\\u0446\\u0430\", \"\\u0442\\u0430\\u0431\\u043b\\u0438\\u0446\\u0430\", \"\\u0442\\u0435\\u043a\\u0441\\u0442\", \"\\u0442\\u0435\\u043a\\u0441\\u0442\", \"\\u0442\\u0435\\u043a\\u0441\\u0442\", \"\\u0442\\u0435\\u043a\\u0441\\u0442\", \"\\u0442\\u0435\\u043a\\u0441\\u0442\", \"\\u0442\\u0435\\u043a\\u0441\\u0442\", \"\\u0442\\u0435\\u043a\\u0441\\u0442\", \"\\u0442\\u0435\\u043c\\u043f\\u0435\\u0440\\u0430\\u043c\\u0435\\u043d\\u0442\", \"\\u0442\\u0435\\u043c\\u043f\\u0435\\u0440\\u0430\\u043c\\u0435\\u043d\\u0442\", \"\\u0442\\u0435\\u043e\\u0440\\u0435\\u0442\\u0438\\u0447\\u0435\\u0441\\u043a\\u0438\\u044f_\\u0430\\u043d\\u0430\\u043b\\u0438\\u0437\", \"\\u0442\\u0435\\u043e\\u0440\\u0438\\u044f\", \"\\u0442\\u0435\\u043e\\u0440\\u0438\\u044f\", \"\\u0442\\u0435\\u043e\\u0440\\u0438\\u044f\", \"\\u0442\\u0435\\u043e\\u0440\\u0438\\u044f\", \"\\u0442\\u0435\\u043e\\u0440\\u0438\\u044f\", \"\\u0442\\u0435\\u043e\\u0440\\u0438\\u044f_\\u043c\\u0435\\u0442\\u043e\\u0434\\u0438\\u043a\\u0430\", \"\\u0442\\u0435\\u0440\\u043c\\u0438\\u043d\", \"\\u0442\\u0435\\u0440\\u043c\\u0438\\u043d\", \"\\u0442\\u0435\\u0440\\u043c\\u0438\\u043d\", \"\\u0442\\u0435\\u0440\\u043c\\u0438\\u043d\", \"\\u0442\\u0435\\u0440\\u043c\\u0438\\u043d\", \"\\u0442\\u0435\\u0440\\u043c\\u0438\\u043d\", \"\\u0442\\u0435\\u0440\\u0440\\u0438\\u0442\\u043e\\u0440\\u0438\\u044f_\\u0441\\u0443\\u0431\\u044a\\u0435\\u043a\\u0442\", \"\\u0442\\u0435\\u0445\\u043d\\u0438\\u0447\\u0435\\u0441\\u043a\\u0438\\u0439\", \"\\u0442\\u0435\\u0445\\u043d\\u0438\\u0447\\u0435\\u0441\\u043a\\u0438\\u0439\", \"\\u0442\\u0435\\u0445\\u043d\\u0438\\u0447\\u0435\\u0441\\u043a\\u0438\\u0439\", \"\\u0442\\u0435\\u0445\\u043d\\u0438\\u0447\\u0435\\u0441\\u043a\\u0438\\u0439\", \"\\u0442\\u0435\\u0445\\u043d\\u0438\\u0447\\u0435\\u0441\\u043a\\u0438\\u0439\", \"\\u0442\\u0435\\u0445\\u043d\\u0438\\u0447\\u0435\\u0441\\u043a\\u0438\\u0439\", \"\\u0442\\u0435\\u0445\\u043d\\u0438\\u0447\\u0435\\u0441\\u043a\\u0438\\u0439\", \"\\u0442\\u0435\\u0445\\u043d\\u043e\\u043b\\u043e\\u0433\\u0438\\u044f\", \"\\u0442\\u0435\\u0445\\u043d\\u043e\\u043b\\u043e\\u0433\\u0438\\u044f\", \"\\u0442\\u0435\\u0445\\u043d\\u043e\\u043b\\u043e\\u0433\\u0438\\u044f\", \"\\u0442\\u0435\\u0445\\u043d\\u043e\\u043b\\u043e\\u0433\\u0438\\u044f\", \"\\u0442\\u0435\\u0445\\u043d\\u043e\\u043b\\u043e\\u0433\\u0438\\u044f\", \"\\u0442\\u0435\\u0445\\u043d\\u043e\\u043b\\u043e\\u0433\\u0438\\u044f\", \"\\u0442\\u0435\\u0445\\u043d\\u043e\\u043b\\u043e\\u0433\\u0438\\u044f\", \"\\u0442\\u043e\\u043b\\u0441\\u0442\\u043e\\u0439\", \"\\u0442\\u043e\\u043f\\u043e\\u043b\\u043e\\u0433\\u0438\\u044f\", \"\\u0442\\u0440\\u0430\\u0432\\u043c\\u0430\\u0442\\u0438\\u0437\\u043c\", \"\\u0442\\u0440\\u0435\\u0432\\u043e\\u0436\\u043d\\u043e\\u0441\\u0442\\u044c\", \"\\u0442\\u0440\\u0435\\u0432\\u043e\\u0436\\u043d\\u043e\\u0441\\u0442\\u044c\", \"\\u0442\\u0440\\u0435\\u0432\\u043e\\u0436\\u043d\\u043e\\u0441\\u0442\\u044c\", \"\\u0442\\u0440\\u0435\\u0432\\u043e\\u0436\\u043d\\u043e\\u0441\\u0442\\u044c\", \"\\u0443\\u0437\\u0431\\u0435\\u043a\\u0438\\u0441\\u0442\\u0430\\u043d\", \"\\u0443\\u043c\\u043a\", \"\\u0443\\u043c\\u043a\", \"\\u0443\\u043d\\u0438\\u0432\\u0435\\u0440\\u0441\\u0438\\u0442\\u0435\\u0442\", \"\\u0443\\u043d\\u0438\\u0432\\u0435\\u0440\\u0441\\u0438\\u0442\\u0435\\u0442\", \"\\u0443\\u043d\\u0438\\u0432\\u0435\\u0440\\u0441\\u0438\\u0442\\u0435\\u0442\", \"\\u0443\\u043d\\u0438\\u0432\\u0435\\u0440\\u0441\\u0438\\u0442\\u0435\\u0442\", \"\\u0443\\u043d\\u0438\\u0432\\u0435\\u0440\\u0441\\u0438\\u0442\\u0435\\u0442\", \"\\u0443\\u043d\\u0438\\u0432\\u0435\\u0440\\u0441\\u0438\\u0442\\u0435\\u0442\", \"\\u0443\\u043d\\u0438\\u0432\\u0435\\u0440\\u0441\\u0438\\u0442\\u0435\\u0442\", \"\\u0443\\u043d\\u0438\\u0432\\u0435\\u0440\\u0441\\u0438\\u0442\\u0435\\u0442_\\u043b\\u043e\\u0433\\u0438\\u0441\\u0442\\u0438\\u043a\\u0430_\\u043a\\u044e\\u043d\\u0430\", \"\\u0443\\u043f\\u0440\\u0430\\u0432\\u043b\\u0435\\u043d\\u0438\\u0435\", \"\\u0443\\u043f\\u0440\\u0430\\u0432\\u043b\\u0435\\u043d\\u0438\\u0435\", \"\\u0443\\u043f\\u0440\\u0430\\u0432\\u043b\\u0435\\u043d\\u0438\\u0435\", \"\\u0443\\u043f\\u0440\\u0430\\u0432\\u043b\\u0435\\u043d\\u0438\\u0435\", \"\\u0443\\u043f\\u0440\\u0430\\u0432\\u043b\\u0435\\u043d\\u0438\\u0435\", \"\\u0443\\u043f\\u0440\\u0430\\u0432\\u043b\\u0435\\u043d\\u0438\\u0435\", \"\\u0443\\u043f\\u0440\\u0430\\u0432\\u043b\\u0435\\u043d\\u0438\\u0435\", \"\\u0443\\u043f\\u0440\\u0430\\u0432\\u043b\\u0435\\u043d\\u0447\\u0435\\u0441\\u043a\\u043e\\u0439\", \"\\u0443\\u043f\\u0440\\u0430\\u0432\\u043b\\u0435\\u043d\\u0447\\u0435\\u0441\\u043a\\u043e\\u0439\", \"\\u0443\\u043f\\u0440\\u0430\\u0432\\u043b\\u0435\\u043d\\u0447\\u0435\\u0441\\u043a\\u043e\\u0439\", \"\\u0443\\u0440\\u043e\\u0432\\u0435\\u043d\\u044c\", \"\\u0443\\u0440\\u043e\\u0432\\u0435\\u043d\\u044c\", \"\\u0443\\u0440\\u043e\\u0432\\u0435\\u043d\\u044c\", \"\\u0443\\u0440\\u043e\\u0432\\u0435\\u043d\\u044c\", \"\\u0443\\u0440\\u043e\\u0432\\u0435\\u043d\\u044c\", \"\\u0443\\u0440\\u043e\\u0432\\u0435\\u043d\\u044c\", \"\\u0443\\u0440\\u043e\\u0432\\u0435\\u043d\\u044c\", \"\\u0443\\u0440\\u043e\\u043a_\\u0438\\u043d\\u043a\\u043b\\u044e\\u0437\\u0438\\u0432\\u043d\\u044b\\u0439_\\u043e\\u0431\\u0449\\u0435\\u043d\\u0438\\u0435\", \"\\u0443\\u0441\\u0432\\u043e\\u0435\\u043d\\u0438\\u0435\", \"\\u0443\\u0441\\u0432\\u043e\\u0435\\u043d\\u0438\\u0435\", \"\\u0443\\u0441\\u0432\\u043e\\u0435\\u043d\\u0438\\u0435\", \"\\u0443\\u0441\\u0432\\u043e\\u0435\\u043d\\u0438\\u0435\", \"\\u0443\\u0441\\u0432\\u043e\\u0435\\u043d\\u0438\\u0435\", \"\\u0443\\u0441\\u043a\\u043e\\u0440\\u0435\\u043d\\u043d\\u044b\\u0439_\\u0441\\u0440\\u043e\\u043a\", \"\\u0443\\u0441\\u043b\\u043e\\u0432\\u0438\\u0435\", \"\\u0443\\u0441\\u043b\\u043e\\u0432\\u0438\\u0435\", \"\\u0443\\u0441\\u043b\\u043e\\u0432\\u0438\\u0435\", \"\\u0443\\u0441\\u043b\\u043e\\u0432\\u0438\\u0435\", \"\\u0443\\u0441\\u043b\\u043e\\u0432\\u0438\\u0435\", \"\\u0443\\u0441\\u043b\\u043e\\u0432\\u0438\\u0435\", \"\\u0443\\u0447\\u0430\\u0449\\u0435\\u0438\\u0441\\u044f_\\u043c\\u043e\\u043b\\u043e\\u0434\\u0451\\u0436\\u044c\", \"\\u0443\\u0447\\u0430\\u0449\\u0435\\u0438\\u0441\\u044f_\\u043c\\u043e\\u043b\\u043e\\u0434\\u0451\\u0436\\u044c\", \"\\u0443\\u0447\\u0435\\u0431\\u043d\\u043e\\u0439\", \"\\u0443\\u0447\\u0435\\u0431\\u043d\\u043e\\u0439\", \"\\u0443\\u0447\\u0435\\u0431\\u043d\\u043e\\u0439\", \"\\u0443\\u0447\\u0435\\u0431\\u043d\\u043e\\u0439\", \"\\u0443\\u0447\\u0435\\u0431\\u043d\\u043e\\u0439\", \"\\u0443\\u0447\\u0435\\u0431\\u043d\\u043e\\u0439\", \"\\u0443\\u0447\\u0435\\u0431\\u043d\\u044b\\u0439\", \"\\u0443\\u0447\\u0435\\u0431\\u043d\\u044b\\u0439\", \"\\u0443\\u0447\\u0435\\u0431\\u043d\\u044b\\u0439\", \"\\u0443\\u0447\\u0435\\u0431\\u043d\\u044b\\u0439\", \"\\u0443\\u0447\\u0435\\u0431\\u043d\\u044b\\u0439\", \"\\u0443\\u0447\\u0435\\u0431\\u043d\\u044b\\u0439\", \"\\u0443\\u0447\\u0435\\u0431\\u043d\\u044b\\u0439\", \"\\u0443\\u0447\\u0435\\u043d\\u0438\\u043a\", \"\\u0443\\u0447\\u0435\\u043d\\u0438\\u043a\", \"\\u0443\\u0447\\u0435\\u043d\\u0438\\u043a\", \"\\u0443\\u0447\\u0435\\u043d\\u0438\\u043a\", \"\\u0443\\u0447\\u0435\\u043d\\u0438\\u043a\", \"\\u0443\\u0447\\u0438\\u0442\\u0435\\u043b\\u044c\", \"\\u0443\\u0447\\u0438\\u0442\\u0435\\u043b\\u044c\", \"\\u0443\\u0447\\u0438\\u0442\\u0435\\u043b\\u044c\", \"\\u0443\\u0447\\u0438\\u0442\\u0435\\u043b\\u044c\", \"\\u0443\\u0447\\u0438\\u0442\\u0435\\u043b\\u044c\", \"\\u0443\\u0447\\u0438\\u0442\\u0435\\u043b\\u044c\", \"\\u0443\\u0447\\u0438\\u0442\\u044c\\u0441\\u044f\", \"\\u0443\\u0447\\u0438\\u0442\\u044c\\u0441\\u044f\", \"\\u0443\\u0447\\u0438\\u0442\\u044c\\u0441\\u044f\", \"\\u0443\\u0447\\u0438\\u0442\\u044c\\u0441\\u044f\", \"\\u0443\\u0447\\u0438\\u0442\\u044c\\u0441\\u044f\", \"\\u0443\\u0447\\u0438\\u0442\\u044c\\u0441\\u044f\", \"\\u0443\\u0447\\u0438\\u0442\\u044c\\u0441\\u044f\", \"\\u0444\\u0430\\u043a\\u0442\\u043e\\u0440\", \"\\u0444\\u0430\\u043a\\u0442\\u043e\\u0440\", \"\\u0444\\u0430\\u043a\\u0442\\u043e\\u0440\", \"\\u0444\\u0430\\u043a\\u0442\\u043e\\u0440\", \"\\u0444\\u0430\\u043a\\u0442\\u043e\\u0440\", \"\\u0444\\u0430\\u043a\\u0442\\u043e\\u0440\", \"\\u0444\\u0433\\u043e\\u0441_\\u0432\\u043f\\u043e\", \"\\u0444\\u0435\\u0434\\u0435\\u0440\\u0430\\u043b\\u044c\\u043d\\u044b\\u0439_\\u0437\\u0430\\u043a\\u043e\\u043d\", \"\\u0444\\u0435\\u0434\\u0435\\u0440\\u0430\\u043b\\u044c\\u043d\\u044b\\u0439_\\u0437\\u0430\\u043a\\u043e\\u043d\", \"\\u0444\\u0435\\u0434\\u0435\\u0440\\u0430\\u043b\\u044c\\u043d\\u044b\\u0439_\\u0437\\u0430\\u043a\\u043e\\u043d\", \"\\u0444\\u0438\\u043b\\u0438\\u0430\\u043b\", \"\\u0444\\u0438\\u043b\\u0438\\u0430\\u043b\", \"\\u0444\\u0438\\u043b\\u0438\\u0430\\u043b\", \"\\u0444\\u0438\\u043b\\u043e\\u0441\\u043e\\u0444\", \"\\u0444\\u0438\\u043b\\u043e\\u0441\\u043e\\u0444\", \"\\u0444\\u0438\\u043b\\u043e\\u0441\\u043e\\u0444\", \"\\u0444\\u043e\\u0440\\u043c\\u0430\", \"\\u0444\\u043e\\u0440\\u043c\\u0430\", \"\\u0444\\u043e\\u0440\\u043c\\u0430\", \"\\u0444\\u043e\\u0440\\u043c\\u0430\", \"\\u0444\\u043e\\u0440\\u043c\\u0430\", \"\\u0444\\u043e\\u0440\\u043c\\u0430\", \"\\u0444\\u043e\\u0440\\u043c\\u0430\", \"\\u0444\\u043e\\u0440\\u043c\\u0438\\u0440\\u043e\\u0432\\u0430\\u043d\\u0438\\u0435\", \"\\u0444\\u043e\\u0440\\u043c\\u0438\\u0440\\u043e\\u0432\\u0430\\u043d\\u0438\\u0435\", \"\\u0444\\u043e\\u0440\\u043c\\u0438\\u0440\\u043e\\u0432\\u0430\\u043d\\u0438\\u0435\", \"\\u0444\\u043e\\u0440\\u043c\\u0438\\u0440\\u043e\\u0432\\u0430\\u043d\\u0438\\u0435\", \"\\u0444\\u043e\\u0440\\u043c\\u0438\\u0440\\u043e\\u0432\\u0430\\u043d\\u0438\\u0435\", \"\\u0444\\u043e\\u0440\\u043c\\u0438\\u0440\\u043e\\u0432\\u0430\\u043d\\u0438\\u0435\", \"\\u0444\\u043e\\u0440\\u043c\\u0438\\u0440\\u043e\\u0432\\u0430\\u043d\\u0438\\u0435\", \"\\u0444\\u043e\\u0440\\u043c\\u0438\\u0440\\u043e\\u0432\\u0430\\u043d\\u0438\\u0435_\\u0433\\u0440\\u0430\\u0436\\u0434\\u0430\\u043d\\u0441\\u043a\\u043e\\u0439_\\u0438\\u0434\\u0435\\u043d\\u0442\\u0438\\u0447\\u043d\\u043e\\u0441\\u0442\\u044c\", \"\\u0444\\u0443\\u043d\\u043a\\u0446\\u0438\\u044f\", \"\\u0444\\u0443\\u043d\\u043a\\u0446\\u0438\\u044f\", \"\\u0444\\u0443\\u043d\\u043a\\u0446\\u0438\\u044f\", \"\\u0444\\u0443\\u043d\\u043a\\u0446\\u0438\\u044f\", \"\\u0444\\u0443\\u043d\\u043a\\u0446\\u0438\\u044f\", \"\\u0444\\u0443\\u043d\\u043a\\u0446\\u0438\\u044f\", \"\\u0444\\u0443\\u043d\\u043a\\u0446\\u0438\\u044f\", \"\\u0445\\u0430\\u0440\\u0431\\u0438\\u043d\", \"\\u0445\\u0440\\u0438\\u0441\\u0442\\u0438\\u0430\\u043d\\u0441\\u043a\\u0438\\u0439\", \"\\u0446\\u0435\\u043b\\u044c\", \"\\u0446\\u0435\\u043b\\u044c\", \"\\u0446\\u0435\\u043b\\u044c\", \"\\u0446\\u0435\\u043b\\u044c\", \"\\u0446\\u0435\\u043b\\u044c\", \"\\u0446\\u0435\\u043b\\u044c\", \"\\u0446\\u0435\\u043b\\u044c\", \"\\u0447\\u0430\\u0441\\u0442\\u043d\\u043e\\u0435\", \"\\u0447\\u0435\\u043b\\u043e\\u0432\\u0435\\u043a\", \"\\u0447\\u0435\\u043b\\u043e\\u0432\\u0435\\u043a\", \"\\u0447\\u0435\\u043b\\u043e\\u0432\\u0435\\u043a\", \"\\u0447\\u0435\\u043b\\u043e\\u0432\\u0435\\u043a\", \"\\u0447\\u0435\\u043b\\u043e\\u0432\\u0435\\u043a\", \"\\u0447\\u0435\\u043b\\u043e\\u0432\\u0435\\u043a\", \"\\u0447\\u0435\\u043b\\u043e\\u0432\\u0435\\u043a\", \"\\u0447\\u0435\\u043b\\u043e\\u0432\\u0435\\u0447\\u0435\\u0441\\u043a\\u0438\\u0439_\\u043e\\u0431\\u0449\\u0435\\u0441\\u0442\\u0432\\u043e\", \"\\u0447\\u0435\\u043b\\u043e\\u0432\\u0435\\u0447\\u0435\\u0441\\u043a\\u0438\\u0439_\\u043e\\u0431\\u0449\\u0435\\u0441\\u0442\\u0432\\u043e\", \"\\u0447\\u0435\\u043b\\u043e\\u0432\\u0435\\u0447\\u0435\\u0441\\u043a\\u0438\\u0439_\\u0444\\u0430\\u043a\\u0442\\u043e\\u0440\", \"\\u0447\\u0435\\u043b\\u043e\\u0432\\u0435\\u0447\\u0435\\u0441\\u043a\\u0438\\u0439_\\u0444\\u0430\\u043a\\u0442\\u043e\\u0440\", \"\\u0447\\u0435\\u043b\\u043e\\u0432\\u0435\\u0447\\u0435\\u0441\\u0442\\u0432\\u043e\", \"\\u0447\\u0435\\u043b\\u043e\\u0432\\u0435\\u0447\\u0435\\u0441\\u0442\\u0432\\u043e\", \"\\u0447\\u0435\\u043b\\u043e\\u0432\\u0435\\u0447\\u0435\\u0441\\u0442\\u0432\\u043e\", \"\\u0447\\u0435\\u043b\\u043e\\u0432\\u0435\\u0447\\u0435\\u0441\\u0442\\u0432\\u043e\", \"\\u0448\\u043a\\u043e\\u043b\\u0430\", \"\\u0448\\u043a\\u043e\\u043b\\u0430\", \"\\u0448\\u043a\\u043e\\u043b\\u0430\", \"\\u0448\\u043a\\u043e\\u043b\\u0430\", \"\\u0448\\u043a\\u043e\\u043b\\u0430\", \"\\u0448\\u043a\\u043e\\u043b\\u0430\", \"\\u044d\\u043a\\u043e\\u043b\\u043e\\u0433\\u0438\\u0447\\u0435\\u0441\\u043a\\u0438\\u0439\", \"\\u044d\\u043a\\u043e\\u043b\\u043e\\u0433\\u0438\\u0447\\u0435\\u0441\\u043a\\u0438\\u0439\", \"\\u044d\\u043a\\u043e\\u043b\\u043e\\u0433\\u0438\\u0447\\u0435\\u0441\\u043a\\u043e\\u0439\", \"\\u044d\\u043a\\u043e\\u043b\\u043e\\u0433\\u0438\\u0447\\u0435\\u0441\\u043a\\u043e\\u0439\", \"\\u044d\\u043a\\u043e\\u043d\\u043e\\u043c\\u0438\\u0447\\u0435\\u0441\\u043a\\u0438\\u0439\", \"\\u044d\\u043a\\u043e\\u043d\\u043e\\u043c\\u0438\\u0447\\u0435\\u0441\\u043a\\u0438\\u0439\", \"\\u044d\\u043a\\u043e\\u043d\\u043e\\u043c\\u0438\\u0447\\u0435\\u0441\\u043a\\u0438\\u0439\", \"\\u044d\\u043a\\u043e\\u043d\\u043e\\u043c\\u0438\\u0447\\u0435\\u0441\\u043a\\u0438\\u0439\", \"\\u044d\\u043a\\u043e\\u043d\\u043e\\u043c\\u0438\\u0447\\u0435\\u0441\\u043a\\u0438\\u0439\", \"\\u044d\\u043a\\u043e\\u043d\\u043e\\u043c\\u0438\\u0447\\u0435\\u0441\\u043a\\u0438\\u0439\", \"\\u044d\\u043b\\u0435\\u043a\\u0442\\u0440\\u043e\\u043d\\u043d\\u044b\\u0439\", \"\\u044d\\u043b\\u0435\\u043a\\u0442\\u0440\\u043e\\u043d\\u043d\\u044b\\u0439\", \"\\u044d\\u043b\\u0435\\u043a\\u0442\\u0440\\u043e\\u043d\\u043d\\u044b\\u0439\", \"\\u044d\\u043b\\u0435\\u043a\\u0442\\u0440\\u043e\\u043d\\u043d\\u044b\\u0439\", \"\\u044d\\u043b\\u0435\\u043a\\u0442\\u0440\\u043e\\u043d\\u043d\\u044b\\u0439\", \"\\u044d\\u043b\\u0435\\u043a\\u0442\\u0440\\u043e\\u043d\\u043d\\u044b\\u0439\", \"\\u044d\\u043b\\u0435\\u043a\\u0442\\u0440\\u043e\\u043d\\u043d\\u044b\\u0439_\\u0436\\u0443\\u0440\\u043d\\u0430\\u043b\", \"\\u044d\\u043b\\u0435\\u043c\\u0435\\u043d\\u0442\", \"\\u044d\\u043b\\u0435\\u043c\\u0435\\u043d\\u0442\", \"\\u044d\\u043b\\u0435\\u043c\\u0435\\u043d\\u0442\", \"\\u044d\\u043b\\u0435\\u043c\\u0435\\u043d\\u0442\", \"\\u044d\\u043b\\u0435\\u043c\\u0435\\u043d\\u0442\", \"\\u044d\\u043b\\u0435\\u043c\\u0435\\u043d\\u0442\", \"\\u044d\\u043b\\u0435\\u043c\\u0435\\u043d\\u0442\", \"\\u044d\\u043d\\u0434\\u0430\\u0443\\u043c\\u0435\\u043d\\u0442_\\u0444\\u043e\\u043d\\u0434\", \"\\u044d\\u043f\\u0438\\u0437\\u043e\\u0434\", \"\\u044d\\u0442\\u0430\\u043f\", \"\\u044d\\u0442\\u0430\\u043f\", \"\\u044d\\u0442\\u0430\\u043f\", \"\\u044d\\u0442\\u0430\\u043f\", \"\\u044d\\u0442\\u0430\\u043f\", \"\\u044d\\u0442\\u0430\\u043f\", \"\\u044d\\u0442\\u0430\\u043f\", \"\\u044f\\u0432\\u043b\\u044f\\u0442\\u044c\\u0441\\u044f\", \"\\u044f\\u0432\\u043b\\u044f\\u0442\\u044c\\u0441\\u044f\", \"\\u044f\\u0432\\u043b\\u044f\\u0442\\u044c\\u0441\\u044f\", \"\\u044f\\u0432\\u043b\\u044f\\u0442\\u044c\\u0441\\u044f\", \"\\u044f\\u0432\\u043b\\u044f\\u0442\\u044c\\u0441\\u044f\", \"\\u044f\\u0432\\u043b\\u044f\\u0442\\u044c\\u0441\\u044f\", \"\\u044f\\u0432\\u043b\\u044f\\u0442\\u044c\\u0441\\u044f\", \"\\u044f\\u0447\\u0435\\u0438\\u043a\"]}, \"R\": 30, \"lambda.step\": 0.01, \"plot.opts\": {\"xlab\": \"PC1\", \"ylab\": \"PC2\"}, \"topic.order\": [2, 4, 1, 5, 3, 7, 6]};\n",
              "\n",
              "function LDAvis_load_lib(url, callback){\n",
              "  var s = document.createElement('script');\n",
              "  s.src = url;\n",
              "  s.async = true;\n",
              "  s.onreadystatechange = s.onload = callback;\n",
              "  s.onerror = function(){console.warn(\"failed to load library \" + url);};\n",
              "  document.getElementsByTagName(\"head\")[0].appendChild(s);\n",
              "}\n",
              "\n",
              "if(typeof(LDAvis) !== \"undefined\"){\n",
              "   // already loaded: just create the visualization\n",
              "   !function(LDAvis){\n",
              "       new LDAvis(\"#\" + \"ldavis_el1361397418888114723856801258\", ldavis_el1361397418888114723856801258_data);\n",
              "   }(LDAvis);\n",
              "}else if(typeof define === \"function\" && define.amd){\n",
              "   // require.js is available: use it to load d3/LDAvis\n",
              "   require.config({paths: {d3: \"https://cdnjs.cloudflare.com/ajax/libs/d3/3.5.5/d3.min\"}});\n",
              "   require([\"d3\"], function(d3){\n",
              "      window.d3 = d3;\n",
              "      LDAvis_load_lib(\"https://cdn.rawgit.com/bmabey/pyLDAvis/files/ldavis.v1.0.0.js\", function(){\n",
              "        new LDAvis(\"#\" + \"ldavis_el1361397418888114723856801258\", ldavis_el1361397418888114723856801258_data);\n",
              "      });\n",
              "    });\n",
              "}else{\n",
              "    // require.js not available: dynamically load d3 & LDAvis\n",
              "    LDAvis_load_lib(\"https://cdnjs.cloudflare.com/ajax/libs/d3/3.5.5/d3.min.js\", function(){\n",
              "         LDAvis_load_lib(\"https://cdn.rawgit.com/bmabey/pyLDAvis/files/ldavis.v1.0.0.js\", function(){\n",
              "                 new LDAvis(\"#\" + \"ldavis_el1361397418888114723856801258\", ldavis_el1361397418888114723856801258_data);\n",
              "            })\n",
              "         });\n",
              "}\n",
              "</script>"
            ],
            "text/plain": [
              "<IPython.core.display.HTML object>"
            ]
          },
          "metadata": {},
          "execution_count": 145
        }
      ]
    },
    {
      "cell_type": "markdown",
      "metadata": {
        "id": "DjhOvmCs7Jcu"
      },
      "source": [
        "## Критерии качества тематических моделей"
      ]
    },
    {
      "cell_type": "code",
      "metadata": {
        "id": "30ut5NFJ89Bl"
      },
      "source": [
        "from gensim.models import CoherenceModel\n",
        "\n",
        "perplexity = lda_model.log_perplexity(corpus)"
      ],
      "execution_count": null,
      "outputs": []
    },
    {
      "cell_type": "code",
      "metadata": {
        "colab": {
          "base_uri": "https://localhost:8080/"
        },
        "id": "WYYbe6w38nt7",
        "outputId": "3d692cde-fc6e-476e-8b8f-f3f65ca534ec"
      },
      "source": [
        "print('\\nPerplexity: ', perplexity)\n",
        "\n",
        "coherence_model_lda = CoherenceModel(model=lda_model, corpus=corpus, dictionary=id2word, coherence='u_mass')\n",
        "coherence_lda = coherence_model_lda.get_coherence()\n",
        "print('\\nCoherence Score (u_mass): ', coherence_lda)\n",
        "\n",
        "coherence_model_lda = CoherenceModel(model=lda_model, texts=data_trigrams, dictionary=id2word, coherence='c_v')\n",
        "coherence_lda = coherence_model_lda.get_coherence()\n",
        "print('\\nCoherence Score (c_v): ', coherence_lda)"
      ],
      "execution_count": null,
      "outputs": [
        {
          "output_type": "stream",
          "name": "stdout",
          "text": [
            "\n",
            "Perplexity:  -8.85314155038808\n",
            "\n",
            "Coherence Score (u_mass):  -0.9305223110544061\n",
            "\n",
            "Coherence Score (c_v):  0.5523584129499307\n"
          ]
        }
      ]
    },
    {
      "cell_type": "markdown",
      "metadata": {
        "id": "VcvkGkkFCEi7"
      },
      "source": [
        "## Поиск оптимального количества тем для LDA"
      ]
    },
    {
      "cell_type": "code",
      "metadata": {
        "id": "kWEUseFeBJ59"
      },
      "source": [
        "def compute_coherence_values(dictionary, corpus, texts, limit, start=2, step=3):\n",
        "    coherence_values = []\n",
        "    model_list = []\n",
        "    for num_topics in range(start, limit, step):\n",
        "        model = gensim.models.ldamodel.LdaModel(corpus=corpus,\n",
        "                                                id2word=id2word,\n",
        "                                                random_state=100,\n",
        "                                                num_topics=num_topics,\n",
        "                                                minimum_probability=0.1,\n",
        "                                                passes = 10,\n",
        "                                                iterations = 100,\n",
        "                                                per_word_topics=True)\n",
        "        model_list.append(model)\n",
        "        coherencemodel = CoherenceModel(model=model, texts=texts, dictionary=dictionary, coherence='c_v')\n",
        "        coherence_values.append(coherencemodel.get_coherence())\n",
        "\n",
        "    return model_list, coherence_values"
      ],
      "execution_count": null,
      "outputs": []
    },
    {
      "cell_type": "code",
      "metadata": {
        "id": "Enj90jIrBNCK"
      },
      "source": [
        "# Займет примерно 2 минуты\n",
        "model_list, coherence_values = compute_coherence_values(dictionary=id2word, corpus=corpus, texts=data_trigrams, start=2, limit=12, step=1)"
      ],
      "execution_count": null,
      "outputs": []
    },
    {
      "cell_type": "code",
      "metadata": {
        "colab": {
          "base_uri": "https://localhost:8080/",
          "height": 279
        },
        "id": "U5bg69xmCPPr",
        "outputId": "3bfdc305-3129-441f-8448-e15d970d20fb"
      },
      "source": [
        "# Нарисовать граф\n",
        "limit=12; start=2; step=1;\n",
        "x = range(start, limit, step)\n",
        "plt.plot(x, coherence_values)\n",
        "plt.xlabel(\"Num Topics\")\n",
        "plt.ylabel(\"Coherence score\")\n",
        "plt.legend((\"coherence_values\"), loc='best')\n",
        "plt.show()"
      ],
      "execution_count": null,
      "outputs": [
        {
          "output_type": "display_data",
          "data": {
            "image/png": "[encoded data removed]",
            "text/plain": [
              "<Figure size 432x288 with 1 Axes>"
            ]
          },
          "metadata": {
            "needs_background": "light"
          }
        }
      ]
    },
    {
      "cell_type": "code",
      "metadata": {
        "colab": {
          "base_uri": "https://localhost:8080/"
        },
        "id": "AJDT5OU_Ga_8",
        "outputId": "f27ad77f-52ce-44c3-e93b-ec2dc8e2a7a1"
      },
      "source": [
        "for m, cv in zip(x, coherence_values):\n",
        "    print(\"Num Topics =\", m, \" has Coherence Value of\", round(cv, 4))"
      ],
      "execution_count": null,
      "outputs": [
        {
          "output_type": "stream",
          "name": "stdout",
          "text": [
            "Num Topics = 2  has Coherence Value of 0.478\n",
            "Num Topics = 3  has Coherence Value of 0.4931\n",
            "Num Topics = 4  has Coherence Value of 0.4947\n",
            "Num Topics = 5  has Coherence Value of 0.4558\n",
            "Num Topics = 6  has Coherence Value of 0.5476\n",
            "Num Topics = 7  has Coherence Value of 0.5524\n",
            "Num Topics = 8  has Coherence Value of 0.4671\n",
            "Num Topics = 9  has Coherence Value of 0.4881\n",
            "Num Topics = 10  has Coherence Value of 0.5034\n",
            "Num Topics = 11  has Coherence Value of 0.5135\n"
          ]
        }
      ]
    },
    {
      "cell_type": "markdown",
      "metadata": {
        "id": "1CS0MlOcJUL6"
      },
      "source": [
        "## Поиск доминирующей темы в каждом тексте"
      ]
    },
    {
      "cell_type": "code",
      "metadata": {
        "colab": {
          "base_uri": "https://localhost:8080/"
        },
        "id": "J8GxgdahTrib",
        "outputId": "35c49601-b1fc-41db-9692-74ddb341fd7e"
      },
      "source": [
        "# Выбор лучше модели и топиков в ней из результатов выше\n",
        "optimal_model = model_list[5]\n",
        "model_topics = optimal_model.show_topics(formatted=False)\n",
        "pprint(optimal_model.print_topics(num_words=10))"
      ],
      "execution_count": null,
      "outputs": [
        {
          "output_type": "stream",
          "name": "stdout",
          "text": [
            "[(0,\n",
            "  '0.009*\"работа\" + 0.006*\"образование\" + 0.006*\"процесс\" + 0.006*\"студент\" + '\n",
            "  '0.005*\"обучение\" + 0.005*\"система\" + 0.004*\"информация\" + 0.004*\"учебный\" + '\n",
            "  '0.004*\"возможность\" + 0.004*\"ученик\"'),\n",
            " (1,\n",
            "  '0.008*\"образование\" + 0.007*\"человек\" + 0.006*\"процесс\" + '\n",
            "  '0.006*\"деятельность\" + 0.005*\"обучение\" + 0.005*\"учиться\" + '\n",
            "  '0.005*\"развитие\" + 0.005*\"работа\" + 0.004*\"являться\" + 0.004*\"личность\"'),\n",
            " (2,\n",
            "  '0.011*\"решение\" + 0.010*\"исследование\" + 0.008*\"игра\" + '\n",
            "  '0.007*\"деятельность\" + 0.007*\"развитие\" + 0.007*\"задача\" + 0.006*\"научный\" '\n",
            "  '+ 0.006*\"управление\" + 0.006*\"образование\" + 0.006*\"результат\"'),\n",
            " (3,\n",
            "  '0.003*\"обучение\" + 0.003*\"перфекционизм\" + 0.002*\"мобильный\" + '\n",
            "  '0.001*\"публикация\" + 0.001*\"учебный\" + 0.001*\"система\" + 0.001*\"студент\" + '\n",
            "  '0.001*\"работа\" + 0.001*\"средство\" + 0.001*\"возможность\"'),\n",
            " (4,\n",
            "  '0.014*\"учебный\" + 0.011*\"обучение\" + 0.007*\"процесс\" + 0.006*\"материал\" + '\n",
            "  '0.006*\"деятельность\" + 0.006*\"студент\" + 0.006*\"работа\" + 0.005*\"обучаться\" '\n",
            "  '+ 0.005*\"технология\" + 0.004*\"дисциплина\"'),\n",
            " (5,\n",
            "  '0.018*\"образование\" + 0.007*\"обучение\" + 0.007*\"деятельность\" + '\n",
            "  '0.005*\"образовательный\" + 0.005*\"программа\" + 0.004*\"развитие\" + '\n",
            "  '0.004*\"год\" + 0.004*\"система\" + 0.004*\"ребёнок\" + 0.004*\"организация\"'),\n",
            " (6,\n",
            "  '0.007*\"человек\" + 0.005*\"жизнь\" + 0.005*\"общество\" + 0.005*\"человечество\" + '\n",
            "  '0.004*\"мир\" + 0.004*\"ребёнок\" + 0.004*\"система\" + 0.003*\"русский\" + '\n",
            "  '0.003*\"решение\" + 0.003*\"сознание\"')]\n"
          ]
        }
      ]
    },
    {
      "cell_type": "code",
      "metadata": {
        "id": "i8mgJ7QdZrGH"
      },
      "source": [
        "for i, j in enumerate(optimal_model[corpus]):\n",
        "  j = sorted(j[0], key=lambda tup: tup[0])\n",
        "  print(i, j)"
      ],
      "execution_count": null,
      "outputs": []
    },
    {
      "cell_type": "code",
      "metadata": {
        "id": "97P3jww-dJ2j"
      },
      "source": [
        "# Функция поиска доминирующей темы в каждом документе\n",
        "\n",
        "def format_topics_sentences(ldamodel=lda_model, corpus=corpus, texts=data):\n",
        "    # Инициализируем вход\n",
        "    sent_topics_df = pd.DataFrame()\n",
        "    # Получаем главную тему в каждом документе\n",
        "    for i, row in enumerate(ldamodel[corpus]):\n",
        "        row = sorted(row[0], key=lambda x: (x[1]), reverse=True)\n",
        "        # Получаем доминирующую тему, значение доминирования\n",
        "        for j, (topic_num, prop_topic) in enumerate(row):\n",
        "            if j == 0:\n",
        "                wp = ldamodel.show_topic(topic_num)\n",
        "                topic_keywords = \", \".join([word for word, prop in wp])\n",
        "                sent_topics_df = sent_topics_df.append(pd.Series([int(topic_num), round(prop_topic,4)]), ignore_index=True)\n",
        "            else:\n",
        "                break\n",
        "    sent_topics_df.columns = ['Dominant_Topic', 'Perc_Contribution']\n",
        "    # AДобавляем оригинальный текст статьи в конец выходной таблицы\n",
        "    contents = pd.Series(texts)\n",
        "    sent_topics_df = pd.concat([sent_topics_df, contents], axis=1)\n",
        "    return(sent_topics_df)"
      ],
      "execution_count": null,
      "outputs": []
    },
    {
      "cell_type": "code",
      "metadata": {
        "colab": {
          "base_uri": "https://localhost:8080/",
          "height": 363
        },
        "id": "2cBqiEClex07",
        "outputId": "2fb1b1df-2a45-4432-ee4f-2e1468357418"
      },
      "source": [
        "df_topic_sents_keywords = format_topics_sentences(ldamodel=optimal_model, corpus=corpus, texts=data_list)\n",
        "\n",
        "# Форматируем\n",
        "df_dominant_topic = df_topic_sents_keywords.reset_index()\n",
        "df_dominant_topic.columns = ['Document_No', 'Dominant_Topic', 'Topic_Perc_Contrib', 'Text']\n",
        "\n",
        "# Выводим\n",
        "df_dominant_topic.head(10)"
      ],
      "execution_count": null,
      "outputs": [
        {
          "output_type": "execute_result",
          "data": {
            "text/html": [
              "<div>\n",
              "<style scoped>\n",
              "    .dataframe tbody tr th:only-of-type {\n",
              "        vertical-align: middle;\n",
              "    }\n",
              "\n",
              "    .dataframe tbody tr th {\n",
              "        vertical-align: top;\n",
              "    }\n",
              "\n",
              "    .dataframe thead th {\n",
              "        text-align: right;\n",
              "    }\n",
              "</style>\n",
              "<table border=\"1\" class=\"dataframe\">\n",
              "  <thead>\n",
              "    <tr style=\"text-align: right;\">\n",
              "      <th></th>\n",
              "      <th>Document_No</th>\n",
              "      <th>Dominant_Topic</th>\n",
              "      <th>Topic_Perc_Contrib</th>\n",
              "      <th>Text</th>\n",
              "    </tr>\n",
              "  </thead>\n",
              "  <tbody>\n",
              "    <tr>\n",
              "      <th>0</th>\n",
              "      <td>0</td>\n",
              "      <td>1.0</td>\n",
              "      <td>0.9990</td>\n",
              "      <td>[0,  Ерофеева Ирина  Алексеевна, Формирование ...</td>\n",
              "    </tr>\n",
              "    <tr>\n",
              "      <th>1</th>\n",
              "      <td>1</td>\n",
              "      <td>4.0</td>\n",
              "      <td>0.9995</td>\n",
              "      <td>[1,  Данилова Ольга Анатольевна, Анализ возмож...</td>\n",
              "    </tr>\n",
              "    <tr>\n",
              "      <th>2</th>\n",
              "      <td>2</td>\n",
              "      <td>1.0</td>\n",
              "      <td>0.7329</td>\n",
              "      <td>[2,  Водясова Любовь Петровна, ПОТЕНЦИАЛ МОБИЛ...</td>\n",
              "    </tr>\n",
              "    <tr>\n",
              "      <th>3</th>\n",
              "      <td>3</td>\n",
              "      <td>1.0</td>\n",
              "      <td>0.9989</td>\n",
              "      <td>[3,  Колпакова  Анна  Олеговна, Индивидуально-...</td>\n",
              "    </tr>\n",
              "    <tr>\n",
              "      <th>4</th>\n",
              "      <td>4</td>\n",
              "      <td>1.0</td>\n",
              "      <td>0.9992</td>\n",
              "      <td>[4,  Луговая Виктория Николаевна, Ключевые про...</td>\n",
              "    </tr>\n",
              "    <tr>\n",
              "      <th>5</th>\n",
              "      <td>5</td>\n",
              "      <td>4.0</td>\n",
              "      <td>0.7862</td>\n",
              "      <td>[5,  Мирмович Эдуард Григорьевич, МАТЕМАТИЧЕСК...</td>\n",
              "    </tr>\n",
              "    <tr>\n",
              "      <th>6</th>\n",
              "      <td>6</td>\n",
              "      <td>1.0</td>\n",
              "      <td>0.9986</td>\n",
              "      <td>[6,  Баёва Анастасия Александровна, Наставниче...</td>\n",
              "    </tr>\n",
              "    <tr>\n",
              "      <th>7</th>\n",
              "      <td>7</td>\n",
              "      <td>6.0</td>\n",
              "      <td>0.9602</td>\n",
              "      <td>[7,  Латышев  Кирилл  Игоревич, Особенности ан...</td>\n",
              "    </tr>\n",
              "    <tr>\n",
              "      <th>8</th>\n",
              "      <td>8</td>\n",
              "      <td>0.0</td>\n",
              "      <td>0.9174</td>\n",
              "      <td>[8,  Лябин Михаил  Павлович, Особенности приме...</td>\n",
              "    </tr>\n",
              "    <tr>\n",
              "      <th>9</th>\n",
              "      <td>9</td>\n",
              "      <td>0.0</td>\n",
              "      <td>0.6158</td>\n",
              "      <td>[9,  Олевский Виктор Аронович, Анализ необходи...</td>\n",
              "    </tr>\n",
              "  </tbody>\n",
              "</table>\n",
              "</div>"
            ],
            "text/plain": [
              "   Document_No  ...                                               Text\n",
              "0            0  ...  [0,  Ерофеева Ирина  Алексеевна, Формирование ...\n",
              "1            1  ...  [1,  Данилова Ольга Анатольевна, Анализ возмож...\n",
              "2            2  ...  [2,  Водясова Любовь Петровна, ПОТЕНЦИАЛ МОБИЛ...\n",
              "3            3  ...  [3,  Колпакова  Анна  Олеговна, Индивидуально-...\n",
              "4            4  ...  [4,  Луговая Виктория Николаевна, Ключевые про...\n",
              "5            5  ...  [5,  Мирмович Эдуард Григорьевич, МАТЕМАТИЧЕСК...\n",
              "6            6  ...  [6,  Баёва Анастасия Александровна, Наставниче...\n",
              "7            7  ...  [7,  Латышев  Кирилл  Игоревич, Особенности ан...\n",
              "8            8  ...  [8,  Лябин Михаил  Павлович, Особенности приме...\n",
              "9            9  ...  [9,  Олевский Виктор Аронович, Анализ необходи...\n",
              "\n",
              "[10 rows x 4 columns]"
            ]
          },
          "metadata": {},
          "execution_count": 335
        }
      ]
    },
    {
      "cell_type": "code",
      "metadata": {
        "colab": {
          "base_uri": "https://localhost:8080/",
          "height": 269
        },
        "id": "OptRM_FEfrvj",
        "outputId": "2d650d06-d39f-44a7-92be-663b2d4a8df7"
      },
      "source": [
        "# Группируем самый явно-принадлежащий текст к каждой теме\n",
        "sent_topics_sorteddf_mallet = pd.DataFrame()\n",
        "sent_topics_outdf_grpd = df_topic_sents_keywords.groupby('Dominant_Topic')\n",
        "for i, grp in sent_topics_outdf_grpd:\n",
        "    sent_topics_sorteddf_mallet = pd.concat([sent_topics_sorteddf_mallet,\n",
        "                                             grp.sort_values(['Perc_Contribution'], ascending=[0]).head(1)],\n",
        "                                            axis=0)\n",
        "# Удаляем индексы тем (статей)  \n",
        "sent_topics_sorteddf_mallet.reset_index(drop=True, inplace=True)\n",
        "\n",
        "# Форматируем вывод\n",
        "sent_topics_sorteddf_mallet.columns = ['Topic_Num', \"Topic_Perc_Contrib\", \"Text\"]\n",
        "\n",
        "# Выводим\n",
        "sent_topics_sorteddf_mallet"
      ],
      "execution_count": null,
      "outputs": [
        {
          "output_type": "execute_result",
          "data": {
            "text/html": [
              "<div>\n",
              "<style scoped>\n",
              "    .dataframe tbody tr th:only-of-type {\n",
              "        vertical-align: middle;\n",
              "    }\n",
              "\n",
              "    .dataframe tbody tr th {\n",
              "        vertical-align: top;\n",
              "    }\n",
              "\n",
              "    .dataframe thead th {\n",
              "        text-align: right;\n",
              "    }\n",
              "</style>\n",
              "<table border=\"1\" class=\"dataframe\">\n",
              "  <thead>\n",
              "    <tr style=\"text-align: right;\">\n",
              "      <th></th>\n",
              "      <th>Topic_Num</th>\n",
              "      <th>Topic_Perc_Contrib</th>\n",
              "      <th>Text</th>\n",
              "    </tr>\n",
              "  </thead>\n",
              "  <tbody>\n",
              "    <tr>\n",
              "      <th>0</th>\n",
              "      <td>0.0</td>\n",
              "      <td>0.9996</td>\n",
              "      <td>[28,  Каширина Татьяна Вячеславовна, GOOGLE-СЕ...</td>\n",
              "    </tr>\n",
              "    <tr>\n",
              "      <th>1</th>\n",
              "      <td>1.0</td>\n",
              "      <td>0.9996</td>\n",
              "      <td>[21,  Сахненко Виктор Григорьевич, ДЕМОКРАТИЧЕ...</td>\n",
              "    </tr>\n",
              "    <tr>\n",
              "      <th>2</th>\n",
              "      <td>2.0</td>\n",
              "      <td>0.9996</td>\n",
              "      <td>[71,  Попова Галина Валентиновна, ОБРАЗОВАТЕЛЬ...</td>\n",
              "    </tr>\n",
              "    <tr>\n",
              "      <th>3</th>\n",
              "      <td>3.0</td>\n",
              "      <td>1.0000</td>\n",
              "      <td>[53,  Потапчук Ольга Игоревна, МОБИЛЬНЫЕ ИНФОР...</td>\n",
              "    </tr>\n",
              "    <tr>\n",
              "      <th>4</th>\n",
              "      <td>4.0</td>\n",
              "      <td>0.9997</td>\n",
              "      <td>[95,  Копылов Олег Владимирович, Практическая ...</td>\n",
              "    </tr>\n",
              "    <tr>\n",
              "      <th>5</th>\n",
              "      <td>5.0</td>\n",
              "      <td>0.9996</td>\n",
              "      <td>[24,  Бойко Сергей Сергеевич, СТРАТЕГИЧЕСКОЕ Р...</td>\n",
              "    </tr>\n",
              "    <tr>\n",
              "      <th>6</th>\n",
              "      <td>6.0</td>\n",
              "      <td>0.9997</td>\n",
              "      <td>[91,  Яковлев Владимир Вячеславович, Философск...</td>\n",
              "    </tr>\n",
              "  </tbody>\n",
              "</table>\n",
              "</div>"
            ],
            "text/plain": [
              "   Topic_Num  ...                                               Text\n",
              "0        0.0  ...  [28,  Каширина Татьяна Вячеславовна, GOOGLE-СЕ...\n",
              "1        1.0  ...  [21,  Сахненко Виктор Григорьевич, ДЕМОКРАТИЧЕ...\n",
              "2        2.0  ...  [71,  Попова Галина Валентиновна, ОБРАЗОВАТЕЛЬ...\n",
              "3        3.0  ...  [53,  Потапчук Ольга Игоревна, МОБИЛЬНЫЕ ИНФОР...\n",
              "4        4.0  ...  [95,  Копылов Олег Владимирович, Практическая ...\n",
              "5        5.0  ...  [24,  Бойко Сергей Сергеевич, СТРАТЕГИЧЕСКОЕ Р...\n",
              "6        6.0  ...  [91,  Яковлев Владимир Вячеславович, Философск...\n",
              "\n",
              "[7 rows x 3 columns]"
            ]
          },
          "metadata": {},
          "execution_count": 390
        }
      ]
    },
    {
      "cell_type": "code",
      "metadata": {
        "id": "8QyW8Z8liLM8"
      },
      "source": [
        "# Теперь найдем топ 5 текстов для каждой темы\n",
        "# Вытащим информацию в одельный лист\n",
        "testtt = list(sent_topics_outdf_grpd)"
      ],
      "execution_count": null,
      "outputs": []
    },
    {
      "cell_type": "code",
      "metadata": {
        "colab": {
          "base_uri": "https://localhost:8080/",
          "height": 206
        },
        "id": "0E_HuJzQjbbx",
        "outputId": "fd4ef6ae-3b2d-4b64-dc8c-e3d8c8c5a7ee"
      },
      "source": [
        "# Топ 5 текстов для темы 1\n",
        "theme_1 = testtt[0][1].sort_values(['Perc_Contribution'], ascending=[0]).head(5)\n",
        "theme_1 = theme_1.reset_index(drop=True)\n",
        "theme_1"
      ],
      "execution_count": null,
      "outputs": [
        {
          "output_type": "execute_result",
          "data": {
            "text/html": [
              "<div>\n",
              "<style scoped>\n",
              "    .dataframe tbody tr th:only-of-type {\n",
              "        vertical-align: middle;\n",
              "    }\n",
              "\n",
              "    .dataframe tbody tr th {\n",
              "        vertical-align: top;\n",
              "    }\n",
              "\n",
              "    .dataframe thead th {\n",
              "        text-align: right;\n",
              "    }\n",
              "</style>\n",
              "<table border=\"1\" class=\"dataframe\">\n",
              "  <thead>\n",
              "    <tr style=\"text-align: right;\">\n",
              "      <th></th>\n",
              "      <th>Dominant_Topic</th>\n",
              "      <th>Perc_Contribution</th>\n",
              "      <th>0</th>\n",
              "    </tr>\n",
              "  </thead>\n",
              "  <tbody>\n",
              "    <tr>\n",
              "      <th>0</th>\n",
              "      <td>0.0</td>\n",
              "      <td>0.9996</td>\n",
              "      <td>[28,  Каширина Татьяна Вячеславовна, GOOGLE-СЕ...</td>\n",
              "    </tr>\n",
              "    <tr>\n",
              "      <th>1</th>\n",
              "      <td>0.0</td>\n",
              "      <td>0.9994</td>\n",
              "      <td>[69,  Вольнова Леся Николаевна, ОСОБЕННОСТИ СО...</td>\n",
              "    </tr>\n",
              "    <tr>\n",
              "      <th>2</th>\n",
              "      <td>0.0</td>\n",
              "      <td>0.9994</td>\n",
              "      <td>[42,  Мхитарян Артур Арменович, ВИЗУАЛЬНОЕ САМ...</td>\n",
              "    </tr>\n",
              "    <tr>\n",
              "      <th>3</th>\n",
              "      <td>0.0</td>\n",
              "      <td>0.9993</td>\n",
              "      <td>[93,  Iotova Anelia Ivanova, Музыкальные предп...</td>\n",
              "    </tr>\n",
              "    <tr>\n",
              "      <th>4</th>\n",
              "      <td>0.0</td>\n",
              "      <td>0.9993</td>\n",
              "      <td>[49,  Гужвенко Елена Ивановна, Применение Exce...</td>\n",
              "    </tr>\n",
              "  </tbody>\n",
              "</table>\n",
              "</div>"
            ],
            "text/plain": [
              "   Dominant_Topic  ...                                                  0\n",
              "0             0.0  ...  [28,  Каширина Татьяна Вячеславовна, GOOGLE-СЕ...\n",
              "1             0.0  ...  [69,  Вольнова Леся Николаевна, ОСОБЕННОСТИ СО...\n",
              "2             0.0  ...  [42,  Мхитарян Артур Арменович, ВИЗУАЛЬНОЕ САМ...\n",
              "3             0.0  ...  [93,  Iotova Anelia Ivanova, Музыкальные предп...\n",
              "4             0.0  ...  [49,  Гужвенко Елена Ивановна, Применение Exce...\n",
              "\n",
              "[5 rows x 3 columns]"
            ]
          },
          "metadata": {},
          "execution_count": 407
        }
      ]
    },
    {
      "cell_type": "code",
      "metadata": {
        "colab": {
          "base_uri": "https://localhost:8080/",
          "height": 206
        },
        "id": "rfsp2IUwndnq",
        "outputId": "72033e64-0b15-40a4-d1dd-91f8a5ce42d1"
      },
      "source": [
        "# Топ 5 текстов для темы 2\n",
        "theme_2 = testtt[1][1].sort_values(['Perc_Contribution'], ascending=[0]).head(5)\n",
        "theme_2 = theme_2.reset_index(drop=True)\n",
        "theme_2"
      ],
      "execution_count": null,
      "outputs": [
        {
          "output_type": "execute_result",
          "data": {
            "text/html": [
              "<div>\n",
              "<style scoped>\n",
              "    .dataframe tbody tr th:only-of-type {\n",
              "        vertical-align: middle;\n",
              "    }\n",
              "\n",
              "    .dataframe tbody tr th {\n",
              "        vertical-align: top;\n",
              "    }\n",
              "\n",
              "    .dataframe thead th {\n",
              "        text-align: right;\n",
              "    }\n",
              "</style>\n",
              "<table border=\"1\" class=\"dataframe\">\n",
              "  <thead>\n",
              "    <tr style=\"text-align: right;\">\n",
              "      <th></th>\n",
              "      <th>Dominant_Topic</th>\n",
              "      <th>Perc_Contribution</th>\n",
              "      <th>0</th>\n",
              "    </tr>\n",
              "  </thead>\n",
              "  <tbody>\n",
              "    <tr>\n",
              "      <th>0</th>\n",
              "      <td>1.0</td>\n",
              "      <td>0.9996</td>\n",
              "      <td>[21,  Сахненко Виктор Григорьевич, ДЕМОКРАТИЧЕ...</td>\n",
              "    </tr>\n",
              "    <tr>\n",
              "      <th>1</th>\n",
              "      <td>1.0</td>\n",
              "      <td>0.9995</td>\n",
              "      <td>[39,  Буланова Маргарита Вернеровна, Роль обра...</td>\n",
              "    </tr>\n",
              "    <tr>\n",
              "      <th>2</th>\n",
              "      <td>1.0</td>\n",
              "      <td>0.9995</td>\n",
              "      <td>[18,  Боровиков Алексей Петрович, Формирование...</td>\n",
              "    </tr>\n",
              "    <tr>\n",
              "      <th>3</th>\n",
              "      <td>1.0</td>\n",
              "      <td>0.9994</td>\n",
              "      <td>[57,  Куваева Евгения Николаевна, ВЛИЯНИЕ ИНФО...</td>\n",
              "    </tr>\n",
              "    <tr>\n",
              "      <th>4</th>\n",
              "      <td>1.0</td>\n",
              "      <td>0.9993</td>\n",
              "      <td>[86,  Лебедева Ирина Владимировна, Деятельност...</td>\n",
              "    </tr>\n",
              "  </tbody>\n",
              "</table>\n",
              "</div>"
            ],
            "text/plain": [
              "   Dominant_Topic  ...                                                  0\n",
              "0             1.0  ...  [21,  Сахненко Виктор Григорьевич, ДЕМОКРАТИЧЕ...\n",
              "1             1.0  ...  [39,  Буланова Маргарита Вернеровна, Роль обра...\n",
              "2             1.0  ...  [18,  Боровиков Алексей Петрович, Формирование...\n",
              "3             1.0  ...  [57,  Куваева Евгения Николаевна, ВЛИЯНИЕ ИНФО...\n",
              "4             1.0  ...  [86,  Лебедева Ирина Владимировна, Деятельност...\n",
              "\n",
              "[5 rows x 3 columns]"
            ]
          },
          "metadata": {},
          "execution_count": 409
        }
      ]
    },
    {
      "cell_type": "code",
      "metadata": {
        "colab": {
          "base_uri": "https://localhost:8080/",
          "height": 206
        },
        "id": "jVYfz1TVnlzv",
        "outputId": "40c6cec5-66ff-4a6f-8381-806ba6afcf87"
      },
      "source": [
        "# Топ 5 текстов для темы 3\n",
        "theme_3 = testtt[2][1].sort_values(['Perc_Contribution'], ascending=[0]).head(5)\n",
        "theme_3 = theme_3.reset_index(drop=True)\n",
        "theme_3"
      ],
      "execution_count": null,
      "outputs": [
        {
          "output_type": "execute_result",
          "data": {
            "text/html": [
              "<div>\n",
              "<style scoped>\n",
              "    .dataframe tbody tr th:only-of-type {\n",
              "        vertical-align: middle;\n",
              "    }\n",
              "\n",
              "    .dataframe tbody tr th {\n",
              "        vertical-align: top;\n",
              "    }\n",
              "\n",
              "    .dataframe thead th {\n",
              "        text-align: right;\n",
              "    }\n",
              "</style>\n",
              "<table border=\"1\" class=\"dataframe\">\n",
              "  <thead>\n",
              "    <tr style=\"text-align: right;\">\n",
              "      <th></th>\n",
              "      <th>Dominant_Topic</th>\n",
              "      <th>Perc_Contribution</th>\n",
              "      <th>0</th>\n",
              "    </tr>\n",
              "  </thead>\n",
              "  <tbody>\n",
              "    <tr>\n",
              "      <th>0</th>\n",
              "      <td>2.0</td>\n",
              "      <td>0.9996</td>\n",
              "      <td>[71,  Попова Галина Валентиновна, ОБРАЗОВАТЕЛЬ...</td>\n",
              "    </tr>\n",
              "    <tr>\n",
              "      <th>1</th>\n",
              "      <td>2.0</td>\n",
              "      <td>0.9996</td>\n",
              "      <td>[72,  Попова Галина Валентиновна, Современное ...</td>\n",
              "    </tr>\n",
              "    <tr>\n",
              "      <th>2</th>\n",
              "      <td>2.0</td>\n",
              "      <td>0.9996</td>\n",
              "      <td>[75,  Попова Галина Валентиновна, ИНФОРМАЦИОНН...</td>\n",
              "    </tr>\n",
              "    <tr>\n",
              "      <th>3</th>\n",
              "      <td>2.0</td>\n",
              "      <td>0.9994</td>\n",
              "      <td>[70,  Попова Галина Валентиновна, СОВРЕМЕННОЕ ...</td>\n",
              "    </tr>\n",
              "    <tr>\n",
              "      <th>4</th>\n",
              "      <td>2.0</td>\n",
              "      <td>0.9994</td>\n",
              "      <td>[92,  Попова Галина Валентиновна, СТАТИСТИЧЕСК...</td>\n",
              "    </tr>\n",
              "  </tbody>\n",
              "</table>\n",
              "</div>"
            ],
            "text/plain": [
              "   Dominant_Topic  ...                                                  0\n",
              "0             2.0  ...  [71,  Попова Галина Валентиновна, ОБРАЗОВАТЕЛЬ...\n",
              "1             2.0  ...  [72,  Попова Галина Валентиновна, Современное ...\n",
              "2             2.0  ...  [75,  Попова Галина Валентиновна, ИНФОРМАЦИОНН...\n",
              "3             2.0  ...  [70,  Попова Галина Валентиновна, СОВРЕМЕННОЕ ...\n",
              "4             2.0  ...  [92,  Попова Галина Валентиновна, СТАТИСТИЧЕСК...\n",
              "\n",
              "[5 rows x 3 columns]"
            ]
          },
          "metadata": {},
          "execution_count": 410
        }
      ]
    },
    {
      "cell_type": "code",
      "metadata": {
        "colab": {
          "base_uri": "https://localhost:8080/",
          "height": 81
        },
        "id": "EjlXRWuanp2p",
        "outputId": "152e1fc6-a370-48c3-c9eb-caa1c986b9d5"
      },
      "source": [
        "# Топ 5 текстов для темы 4\n",
        "theme_4 = testtt[3][1].sort_values(['Perc_Contribution'], ascending=[0]).head(5)\n",
        "theme_4 = theme_4.reset_index(drop=True)\n",
        "theme_4"
      ],
      "execution_count": null,
      "outputs": [
        {
          "output_type": "execute_result",
          "data": {
            "text/html": [
              "<div>\n",
              "<style scoped>\n",
              "    .dataframe tbody tr th:only-of-type {\n",
              "        vertical-align: middle;\n",
              "    }\n",
              "\n",
              "    .dataframe tbody tr th {\n",
              "        vertical-align: top;\n",
              "    }\n",
              "\n",
              "    .dataframe thead th {\n",
              "        text-align: right;\n",
              "    }\n",
              "</style>\n",
              "<table border=\"1\" class=\"dataframe\">\n",
              "  <thead>\n",
              "    <tr style=\"text-align: right;\">\n",
              "      <th></th>\n",
              "      <th>Dominant_Topic</th>\n",
              "      <th>Perc_Contribution</th>\n",
              "      <th>0</th>\n",
              "    </tr>\n",
              "  </thead>\n",
              "  <tbody>\n",
              "    <tr>\n",
              "      <th>0</th>\n",
              "      <td>3.0</td>\n",
              "      <td>1.0</td>\n",
              "      <td>[53,  Потапчук Ольга Игоревна, МОБИЛЬНЫЕ ИНФОР...</td>\n",
              "    </tr>\n",
              "  </tbody>\n",
              "</table>\n",
              "</div>"
            ],
            "text/plain": [
              "   Dominant_Topic  ...                                                  0\n",
              "0             3.0  ...  [53,  Потапчук Ольга Игоревна, МОБИЛЬНЫЕ ИНФОР...\n",
              "\n",
              "[1 rows x 3 columns]"
            ]
          },
          "metadata": {},
          "execution_count": 411
        }
      ]
    },
    {
      "cell_type": "code",
      "metadata": {
        "colab": {
          "base_uri": "https://localhost:8080/",
          "height": 206
        },
        "id": "6S2UHLMlnvzA",
        "outputId": "e899a493-75d3-476b-ec95-f77aa658ea9a"
      },
      "source": [
        "# Топ 5 текстов для темы 5\n",
        "theme_5 = testtt[4][1].sort_values(['Perc_Contribution'], ascending=[0]).head(5)\n",
        "theme_5 = theme_5.reset_index(drop=True)\n",
        "theme_5"
      ],
      "execution_count": null,
      "outputs": [
        {
          "output_type": "execute_result",
          "data": {
            "text/html": [
              "<div>\n",
              "<style scoped>\n",
              "    .dataframe tbody tr th:only-of-type {\n",
              "        vertical-align: middle;\n",
              "    }\n",
              "\n",
              "    .dataframe tbody tr th {\n",
              "        vertical-align: top;\n",
              "    }\n",
              "\n",
              "    .dataframe thead th {\n",
              "        text-align: right;\n",
              "    }\n",
              "</style>\n",
              "<table border=\"1\" class=\"dataframe\">\n",
              "  <thead>\n",
              "    <tr style=\"text-align: right;\">\n",
              "      <th></th>\n",
              "      <th>Dominant_Topic</th>\n",
              "      <th>Perc_Contribution</th>\n",
              "      <th>0</th>\n",
              "    </tr>\n",
              "  </thead>\n",
              "  <tbody>\n",
              "    <tr>\n",
              "      <th>0</th>\n",
              "      <td>4.0</td>\n",
              "      <td>0.9997</td>\n",
              "      <td>[95,  Копылов Олег Владимирович, Практическая ...</td>\n",
              "    </tr>\n",
              "    <tr>\n",
              "      <th>1</th>\n",
              "      <td>4.0</td>\n",
              "      <td>0.9996</td>\n",
              "      <td>[60,  Васин Евгений Константинович, Функции пр...</td>\n",
              "    </tr>\n",
              "    <tr>\n",
              "      <th>2</th>\n",
              "      <td>4.0</td>\n",
              "      <td>0.9995</td>\n",
              "      <td>[1,  Данилова Ольга Анатольевна, Анализ возмож...</td>\n",
              "    </tr>\n",
              "    <tr>\n",
              "      <th>3</th>\n",
              "      <td>4.0</td>\n",
              "      <td>0.9994</td>\n",
              "      <td>[43,  Стручков Егор Спартакович, Использование...</td>\n",
              "    </tr>\n",
              "    <tr>\n",
              "      <th>4</th>\n",
              "      <td>4.0</td>\n",
              "      <td>0.9992</td>\n",
              "      <td>[32,  Потапчук Ольга Игоревна, МОБИЛЬНЫЕ ТЕХНО...</td>\n",
              "    </tr>\n",
              "  </tbody>\n",
              "</table>\n",
              "</div>"
            ],
            "text/plain": [
              "   Dominant_Topic  ...                                                  0\n",
              "0             4.0  ...  [95,  Копылов Олег Владимирович, Практическая ...\n",
              "1             4.0  ...  [60,  Васин Евгений Константинович, Функции пр...\n",
              "2             4.0  ...  [1,  Данилова Ольга Анатольевна, Анализ возмож...\n",
              "3             4.0  ...  [43,  Стручков Егор Спартакович, Использование...\n",
              "4             4.0  ...  [32,  Потапчук Ольга Игоревна, МОБИЛЬНЫЕ ТЕХНО...\n",
              "\n",
              "[5 rows x 3 columns]"
            ]
          },
          "metadata": {},
          "execution_count": 412
        }
      ]
    },
    {
      "cell_type": "code",
      "metadata": {
        "colab": {
          "base_uri": "https://localhost:8080/",
          "height": 206
        },
        "id": "bRj-n9eLnz8P",
        "outputId": "6a4bc7af-984a-4464-b5d4-89c4501c2bc9"
      },
      "source": [
        "# Топ 5 текстов для темы 6\n",
        "theme_6 = testtt[5][1].sort_values(['Perc_Contribution'], ascending=[0]).head(5)\n",
        "theme_6 = theme_6.reset_index(drop=True)\n",
        "theme_6"
      ],
      "execution_count": null,
      "outputs": [
        {
          "output_type": "execute_result",
          "data": {
            "text/html": [
              "<div>\n",
              "<style scoped>\n",
              "    .dataframe tbody tr th:only-of-type {\n",
              "        vertical-align: middle;\n",
              "    }\n",
              "\n",
              "    .dataframe tbody tr th {\n",
              "        vertical-align: top;\n",
              "    }\n",
              "\n",
              "    .dataframe thead th {\n",
              "        text-align: right;\n",
              "    }\n",
              "</style>\n",
              "<table border=\"1\" class=\"dataframe\">\n",
              "  <thead>\n",
              "    <tr style=\"text-align: right;\">\n",
              "      <th></th>\n",
              "      <th>Dominant_Topic</th>\n",
              "      <th>Perc_Contribution</th>\n",
              "      <th>0</th>\n",
              "    </tr>\n",
              "  </thead>\n",
              "  <tbody>\n",
              "    <tr>\n",
              "      <th>0</th>\n",
              "      <td>5.0</td>\n",
              "      <td>0.9996</td>\n",
              "      <td>[24,  Бойко Сергей Сергеевич, СТРАТЕГИЧЕСКОЕ Р...</td>\n",
              "    </tr>\n",
              "    <tr>\n",
              "      <th>1</th>\n",
              "      <td>5.0</td>\n",
              "      <td>0.9991</td>\n",
              "      <td>[16,  Любко Ксения  Сергеевна, Сравнительный а...</td>\n",
              "    </tr>\n",
              "    <tr>\n",
              "      <th>2</th>\n",
              "      <td>5.0</td>\n",
              "      <td>0.9990</td>\n",
              "      <td>[33,  Севиринова Елена Владимировна, Проблема ...</td>\n",
              "    </tr>\n",
              "    <tr>\n",
              "      <th>3</th>\n",
              "      <td>5.0</td>\n",
              "      <td>0.9818</td>\n",
              "      <td>[47,  Коломиец Анна Ивановна, Целесообразность...</td>\n",
              "    </tr>\n",
              "    <tr>\n",
              "      <th>4</th>\n",
              "      <td>5.0</td>\n",
              "      <td>0.9809</td>\n",
              "      <td>[10,  Игнатенко Анастасия Андреевна, Информаци...</td>\n",
              "    </tr>\n",
              "  </tbody>\n",
              "</table>\n",
              "</div>"
            ],
            "text/plain": [
              "   Dominant_Topic  ...                                                  0\n",
              "0             5.0  ...  [24,  Бойко Сергей Сергеевич, СТРАТЕГИЧЕСКОЕ Р...\n",
              "1             5.0  ...  [16,  Любко Ксения  Сергеевна, Сравнительный а...\n",
              "2             5.0  ...  [33,  Севиринова Елена Владимировна, Проблема ...\n",
              "3             5.0  ...  [47,  Коломиец Анна Ивановна, Целесообразность...\n",
              "4             5.0  ...  [10,  Игнатенко Анастасия Андреевна, Информаци...\n",
              "\n",
              "[5 rows x 3 columns]"
            ]
          },
          "metadata": {},
          "execution_count": 414
        }
      ]
    },
    {
      "cell_type": "code",
      "metadata": {
        "colab": {
          "base_uri": "https://localhost:8080/",
          "height": 206
        },
        "id": "4YnJBobEn3Iv",
        "outputId": "a9ca29c4-2907-4d2c-db22-554de81fcaf4"
      },
      "source": [
        "# Топ 5 текстов для темы 7\n",
        "theme_7 = testtt[6][1].sort_values(['Perc_Contribution'], ascending=[0]).head(5)\n",
        "theme_7 = theme_7.reset_index(drop=True)\n",
        "theme_7"
      ],
      "execution_count": null,
      "outputs": [
        {
          "output_type": "execute_result",
          "data": {
            "text/html": [
              "<div>\n",
              "<style scoped>\n",
              "    .dataframe tbody tr th:only-of-type {\n",
              "        vertical-align: middle;\n",
              "    }\n",
              "\n",
              "    .dataframe tbody tr th {\n",
              "        vertical-align: top;\n",
              "    }\n",
              "\n",
              "    .dataframe thead th {\n",
              "        text-align: right;\n",
              "    }\n",
              "</style>\n",
              "<table border=\"1\" class=\"dataframe\">\n",
              "  <thead>\n",
              "    <tr style=\"text-align: right;\">\n",
              "      <th></th>\n",
              "      <th>Dominant_Topic</th>\n",
              "      <th>Perc_Contribution</th>\n",
              "      <th>0</th>\n",
              "    </tr>\n",
              "  </thead>\n",
              "  <tbody>\n",
              "    <tr>\n",
              "      <th>0</th>\n",
              "      <td>6.0</td>\n",
              "      <td>0.9997</td>\n",
              "      <td>[91,  Яковлев Владимир Вячеславович, Философск...</td>\n",
              "    </tr>\n",
              "    <tr>\n",
              "      <th>1</th>\n",
              "      <td>6.0</td>\n",
              "      <td>0.9996</td>\n",
              "      <td>[87,  Спиридонов Борис Александрович, Проект «...</td>\n",
              "    </tr>\n",
              "    <tr>\n",
              "      <th>2</th>\n",
              "      <td>6.0</td>\n",
              "      <td>0.9995</td>\n",
              "      <td>[52,  Кузьменко  Игорь Николаевич, СИСТЕМА ЖИЗ...</td>\n",
              "    </tr>\n",
              "    <tr>\n",
              "      <th>3</th>\n",
              "      <td>6.0</td>\n",
              "      <td>0.9602</td>\n",
              "      <td>[7,  Латышев  Кирилл  Игоревич, Особенности ан...</td>\n",
              "    </tr>\n",
              "    <tr>\n",
              "      <th>4</th>\n",
              "      <td>6.0</td>\n",
              "      <td>0.9535</td>\n",
              "      <td>[25,  Адибекян Оганес Александрович, Причастно...</td>\n",
              "    </tr>\n",
              "  </tbody>\n",
              "</table>\n",
              "</div>"
            ],
            "text/plain": [
              "   Dominant_Topic  ...                                                  0\n",
              "0             6.0  ...  [91,  Яковлев Владимир Вячеславович, Философск...\n",
              "1             6.0  ...  [87,  Спиридонов Борис Александрович, Проект «...\n",
              "2             6.0  ...  [52,  Кузьменко  Игорь Николаевич, СИСТЕМА ЖИЗ...\n",
              "3             6.0  ...  [7,  Латышев  Кирилл  Игоревич, Особенности ан...\n",
              "4             6.0  ...  [25,  Адибекян Оганес Александрович, Причастно...\n",
              "\n",
              "[5 rows x 3 columns]"
            ]
          },
          "metadata": {},
          "execution_count": 415
        }
      ]
    }
  ]
}