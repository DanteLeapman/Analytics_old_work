{
  "nbformat": 4,
  "nbformat_minor": 0,
  "metadata": {
    "colab": {
      "name": " Лабораторная работа 1. ХСС.ipynb\"",
      "provenance": [],
      "collapsed_sections": [
        "mndAC0MQWrEH"
      ],
      "toc_visible": true
    },
    "kernelspec": {
      "name": "python3",
      "display_name": "Python 3"
    },
    "language_info": {
      "name": "python"
    }
  },
  "cells": [
    {
      "cell_type": "markdown",
      "metadata": {
        "id": "hOzCsB0f4e16"
      },
      "source": [
        "# **Лабораторная работа №1. Обработка данных учебной аналитики с использованием методов машинного обучения**"
      ]
    },
    {
      "cell_type": "markdown",
      "metadata": {
        "id": "qEKqpe3u4psY"
      },
      "source": [
        "# Описание работы"
      ]
    },
    {
      "cell_type": "markdown",
      "metadata": {
        "id": "6t1ypbLq5idr"
      },
      "source": [
        "**Цель работы:** сформировать навыки обработки данных учебной аналитики с использованием методов машинного обучения. </br>\n",
        "**Задачи:**\n",
        "\n",
        "\n",
        "1.   Изучить предоставленный набор данных.\n",
        "2.   Собрать данные согласно своему варианту.\n",
        "2.   Выполнить предобработку данных.\n",
        "2.   Изучить алгоритмы машинного обучения для решения задачи классификации.\n",
        "2.   Обосновать, для каких алгоритмов необходимо сделать бинаризацию и нормализацию признаков.\n",
        "2.   Построить модели классификации.\n",
        "2.   Вычислить метрики качества моделей.\n",
        "3.   С помощью подбора параметров добиться точности не менее 0.7 (для логистической регрессии - не менее 0.6).\n",
        "3.   Сделать выводы по работе.\n",
        "\n",
        "**Формат сдачи работы** - отчет в формате PDF, оформленный по актуальному ГОСТу по оформлению ВКР в Университете ИТМО, и оформленный Google Colab по аналогии с практической работой."
      ]
    },
    {
      "cell_type": "markdown",
      "metadata": {
        "id": "pfiBgVNYjhJz"
      },
      "source": [
        "# 1-2 Загрузка текста и изучение"
      ]
    },
    {
      "cell_type": "code",
      "metadata": {
        "id": "eU1vIZR4TKrU",
        "colab": {
          "base_uri": "https://localhost:8080/"
        },
        "outputId": "6485ffaa-0fbd-4e6d-d0b6-ecc4fb6f4ca8"
      },
      "source": [
        "# Вычисление варианта\n",
        "student = 15 # напишите свой номер в списке групп\n",
        "print('Мой вариант студенты номер - ', student, student*2, student*3-1)"
      ],
      "execution_count": null,
      "outputs": [
        {
          "output_type": "stream",
          "name": "stdout",
          "text": [
            "Мой вариант студенты номер -  15 30 44\n"
          ]
        }
      ]
    },
    {
      "cell_type": "code",
      "metadata": {
        "id": "yBbHY7VPfhYU"
      },
      "source": [
        "# Импортируем основную библиотеку для работы с данными\n",
        "import pandas as pd"
      ],
      "execution_count": null,
      "outputs": []
    },
    {
      "cell_type": "code",
      "metadata": {
        "id": "TRS-Cw0a5Xa7",
        "colab": {
          "base_uri": "https://localhost:8080/"
        },
        "outputId": "230263aa-d847-4485-99e9-671f60eecacb"
      },
      "source": [
        "from google.colab import drive\n",
        "drive.mount('/content/drive')"
      ],
      "execution_count": null,
      "outputs": [
        {
          "output_type": "stream",
          "name": "stdout",
          "text": [
            "Mounted at /content/drive\n"
          ]
        }
      ]
    },
    {
      "cell_type": "code",
      "metadata": {
        "id": "cKr9qcrud8TJ",
        "colab": {
          "base_uri": "https://localhost:8080/"
        },
        "outputId": "433964cd-1f70-4111-af32-312f24048d09"
      },
      "source": [
        "#@Подгружаем данные о 15 и 30 и 44 студенте\n",
        "data_15_1 = pd.read_csv('/content/drive/MyDrive/New_stuff/7-s sem/7 - Training analyst/EPM Dataset 2/Data/Processes/Session 1/15', \n",
        "                      names=['session', 'student_Id', 'exercise', 'activity', 'start_time', 'end_time', 'idle_time', 'mouse_wheel', \n",
        "                             'mouse_wheel_click', 'mouse_click_left', 'mouse_click_right', 'mouse_movement', 'keystroke'])\n",
        "data_30_1 = pd.read_csv('/content/drive/MyDrive/New_stuff/7-s sem/7 - Training analyst/EPM Dataset 2/Data/Processes/Session 1/30', \n",
        "                      names=['session', 'student_Id', 'exercise', 'activity', 'start_time', 'end_time', 'idle_time', 'mouse_wheel', \n",
        "                             'mouse_wheel_click', 'mouse_click_left', 'mouse_click_right', 'mouse_movement', 'keystroke'])\n",
        "data_44_1 = pd.read_csv('/content/drive/MyDrive/New_stuff/7-s sem/7 - Training analyst/EPM Dataset 2/Data/Processes/Session 1/44', \n",
        "                      names=['session', 'student_Id', 'exercise', 'activity', 'start_time', 'end_time', 'idle_time', 'mouse_wheel', \n",
        "                             'mouse_wheel_click', 'mouse_click_left', 'mouse_click_right', 'mouse_movement', 'keystroke'])\n",
        "\n",
        "data_15_2 = pd.read_csv('/content/drive/MyDrive/New_stuff/7-s sem/7 - Training analyst/EPM Dataset 2/Data/Processes/Session 2/15', \n",
        "                      names=['session', 'student_Id', 'exercise', 'activity', 'start_time', 'end_time', 'idle_time', 'mouse_wheel', \n",
        "                             'mouse_wheel_click', 'mouse_click_left', 'mouse_click_right', 'mouse_movement', 'keystroke'])\n",
        "data_30_2 = pd.read_csv('/content/drive/MyDrive/New_stuff/7-s sem/7 - Training analyst/EPM Dataset 2/Data/Processes/Session 2/30', \n",
        "                      names=['session', 'student_Id', 'exercise', 'activity', 'start_time', 'end_time', 'idle_time', 'mouse_wheel', \n",
        "                             'mouse_wheel_click', 'mouse_click_left', 'mouse_click_right', 'mouse_movement', 'keystroke'])\n",
        "data_44_2 = pd.read_csv('/content/drive/MyDrive/New_stuff/7-s sem/7 - Training analyst/EPM Dataset 2/Data/Processes/Session 2/44', \n",
        "                      names=['session', 'student_Id', 'exercise', 'activity', 'start_time', 'end_time', 'idle_time', 'mouse_wheel', \n",
        "                             'mouse_wheel_click', 'mouse_click_left', 'mouse_click_right', 'mouse_movement', 'keystroke'])\n",
        "\n",
        "data_15_3 = pd.read_csv('/content/drive/MyDrive/New_stuff/7-s sem/7 - Training analyst/EPM Dataset 2/Data/Processes/Session 3/15', \n",
        "                      names=['session', 'student_Id', 'exercise', 'activity', 'start_time', 'end_time', 'idle_time', 'mouse_wheel', \n",
        "                             'mouse_wheel_click', 'mouse_click_left', 'mouse_click_right', 'mouse_movement', 'keystroke'])\n",
        "data_30_3 = pd.read_csv('/content/drive/MyDrive/New_stuff/7-s sem/7 - Training analyst/EPM Dataset 2/Data/Processes/Session 3/30', \n",
        "                      names=['session', 'student_Id', 'exercise', 'activity', 'start_time', 'end_time', 'idle_time', 'mouse_wheel', \n",
        "                             'mouse_wheel_click', 'mouse_click_left', 'mouse_click_right', 'mouse_movement', 'keystroke'])\n",
        "data_44_3 = pd.read_csv('/content/drive/MyDrive/New_stuff/7-s sem/7 - Training analyst/EPM Dataset 2/Data/Processes/Session 3/44', \n",
        "                      names=['session', 'student_Id', 'exercise', 'activity', 'start_time', 'end_time', 'idle_time', 'mouse_wheel', \n",
        "                             'mouse_wheel_click', 'mouse_click_left', 'mouse_click_right', 'mouse_movement', 'keystroke'])\n",
        "\n",
        "data_15_4 = pd.read_csv('/content/drive/MyDrive/New_stuff/7-s sem/7 - Training analyst/EPM Dataset 2/Data/Processes/Session 4/15', \n",
        "                      names=['session', 'student_Id', 'exercise', 'activity', 'start_time', 'end_time', 'idle_time', 'mouse_wheel', \n",
        "                             'mouse_wheel_click', 'mouse_click_left', 'mouse_click_right', 'mouse_movement', 'keystroke'])\n",
        "data_30_4 = pd.read_csv('/content/drive/MyDrive/New_stuff/7-s sem/7 - Training analyst/EPM Dataset 2/Data/Processes/Session 4/30', \n",
        "                      names=['session', 'student_Id', 'exercise', 'activity', 'start_time', 'end_time', 'idle_time', 'mouse_wheel', \n",
        "                             'mouse_wheel_click', 'mouse_click_left', 'mouse_click_right', 'mouse_movement', 'keystroke'])\n",
        "data_44_4 = pd.read_csv('/content/drive/MyDrive/New_stuff/7-s sem/7 - Training analyst/EPM Dataset 2/Data/Processes/Session 4/44', \n",
        "                      names=['session', 'student_Id', 'exercise', 'activity', 'start_time', 'end_time', 'idle_time', 'mouse_wheel', \n",
        "                             'mouse_wheel_click', 'mouse_click_left', 'mouse_click_right', 'mouse_movement', 'keystroke'])\n",
        "\n",
        "data_15_5 = pd.read_csv('/content/drive/MyDrive/New_stuff/7-s sem/7 - Training analyst/EPM Dataset 2/Data/Processes/Session 5/15', \n",
        "                      names=['session', 'student_Id', 'exercise', 'activity', 'start_time', 'end_time', 'idle_time', 'mouse_wheel', \n",
        "                             'mouse_wheel_click', 'mouse_click_left', 'mouse_click_right', 'mouse_movement', 'keystroke'])\n",
        "data_30_5 = pd.read_csv('/content/drive/MyDrive/New_stuff/7-s sem/7 - Training analyst/EPM Dataset 2/Data/Processes/Session 5/30', \n",
        "                      names=['session', 'student_Id', 'exercise', 'activity', 'start_time', 'end_time', 'idle_time', 'mouse_wheel', \n",
        "                             'mouse_wheel_click', 'mouse_click_left', 'mouse_click_right', 'mouse_movement', 'keystroke'])\n",
        "data_44_5 = pd.read_csv('/content/drive/MyDrive/New_stuff/7-s sem/7 - Training analyst/EPM Dataset 2/Data/Processes/Session 5/44', \n",
        "                      names=['session', 'student_Id', 'exercise', 'activity', 'start_time', 'end_time', 'idle_time', 'mouse_wheel', \n",
        "                             'mouse_wheel_click', 'mouse_click_left', 'mouse_click_right', 'mouse_movement', 'keystroke'])\n",
        "\n",
        "data_15_6 = pd.read_csv('/content/drive/MyDrive/New_stuff/7-s sem/7 - Training analyst/EPM Dataset 2/Data/Processes/Session 6/15', \n",
        "                      names=['session', 'student_Id', 'exercise', 'activity', 'start_time', 'end_time', 'idle_time', 'mouse_wheel', \n",
        "                             'mouse_wheel_click', 'mouse_click_left', 'mouse_click_right', 'mouse_movement', 'keystroke'])\n",
        "data_30_6 = pd.read_csv('/content/drive/MyDrive/New_stuff/7-s sem/7 - Training analyst/EPM Dataset 2/Data/Processes/Session 6/30', \n",
        "                      names=['session', 'student_Id', 'exercise', 'activity', 'start_time', 'end_time', 'idle_time', 'mouse_wheel', \n",
        "                             'mouse_wheel_click', 'mouse_click_left', 'mouse_click_right', 'mouse_movement', 'keystroke'])\n",
        "data_44_6 = pd.read_csv('/content/drive/MyDrive/New_stuff/7-s sem/7 - Training analyst/EPM Dataset 2/Data/Processes/Session 6/44', \n",
        "                      names=['session', 'student_Id', 'exercise', 'activity', 'start_time', 'end_time', 'idle_time', 'mouse_wheel', \n",
        "                             'mouse_wheel_click', 'mouse_click_left', 'mouse_click_right', 'mouse_movement', 'keystroke'])\n",
        "data_44_6.shape"
      ],
      "execution_count": null,
      "outputs": [
        {
          "output_type": "execute_result",
          "data": {
            "text/plain": [
              "(687, 13)"
            ]
          },
          "metadata": {},
          "execution_count": 4
        }
      ]
    },
    {
      "cell_type": "code",
      "metadata": {
        "colab": {
          "base_uri": "https://localhost:8080/",
          "height": 204
        },
        "id": "kTbpiKSDhzhV",
        "outputId": "4ec95875-ff9e-4530-fe57-569b1b030a82"
      },
      "source": [
        "data_15_6.head()"
      ],
      "execution_count": null,
      "outputs": [
        {
          "output_type": "execute_result",
          "data": {
            "text/html": [
              "<div>\n",
              "<style scoped>\n",
              "    .dataframe tbody tr th:only-of-type {\n",
              "        vertical-align: middle;\n",
              "    }\n",
              "\n",
              "    .dataframe tbody tr th {\n",
              "        vertical-align: top;\n",
              "    }\n",
              "\n",
              "    .dataframe thead th {\n",
              "        text-align: right;\n",
              "    }\n",
              "</style>\n",
              "<table border=\"1\" class=\"dataframe\">\n",
              "  <thead>\n",
              "    <tr style=\"text-align: right;\">\n",
              "      <th></th>\n",
              "      <th>session</th>\n",
              "      <th>student_Id</th>\n",
              "      <th>exercise</th>\n",
              "      <th>activity</th>\n",
              "      <th>start_time</th>\n",
              "      <th>end_time</th>\n",
              "      <th>idle_time</th>\n",
              "      <th>mouse_wheel</th>\n",
              "      <th>mouse_wheel_click</th>\n",
              "      <th>mouse_click_left</th>\n",
              "      <th>mouse_click_right</th>\n",
              "      <th>mouse_movement</th>\n",
              "      <th>keystroke</th>\n",
              "    </tr>\n",
              "  </thead>\n",
              "  <tbody>\n",
              "    <tr>\n",
              "      <th>0</th>\n",
              "      <td>6</td>\n",
              "      <td>15</td>\n",
              "      <td>Es</td>\n",
              "      <td>Other</td>\n",
              "      <td>11.12.2014 11:0:50</td>\n",
              "      <td>11.12.2014 11:0:51</td>\n",
              "      <td>15</td>\n",
              "      <td>0</td>\n",
              "      <td>0</td>\n",
              "      <td>0</td>\n",
              "      <td>0</td>\n",
              "      <td>81</td>\n",
              "      <td>0</td>\n",
              "    </tr>\n",
              "    <tr>\n",
              "      <th>1</th>\n",
              "      <td>6</td>\n",
              "      <td>15</td>\n",
              "      <td>Es</td>\n",
              "      <td>Blank</td>\n",
              "      <td>11.12.2014 11:0:52</td>\n",
              "      <td>11.12.2014 11:0:52</td>\n",
              "      <td>0</td>\n",
              "      <td>0</td>\n",
              "      <td>0</td>\n",
              "      <td>2</td>\n",
              "      <td>0</td>\n",
              "      <td>50</td>\n",
              "      <td>0</td>\n",
              "    </tr>\n",
              "    <tr>\n",
              "      <th>2</th>\n",
              "      <td>6</td>\n",
              "      <td>15</td>\n",
              "      <td>Es_6_1</td>\n",
              "      <td>TextEditor_Es_6_1</td>\n",
              "      <td>11.12.2014 11:0:53</td>\n",
              "      <td>11.12.2014 11:1:1</td>\n",
              "      <td>11658</td>\n",
              "      <td>18</td>\n",
              "      <td>0</td>\n",
              "      <td>3</td>\n",
              "      <td>0</td>\n",
              "      <td>138</td>\n",
              "      <td>0</td>\n",
              "    </tr>\n",
              "    <tr>\n",
              "      <th>3</th>\n",
              "      <td>6</td>\n",
              "      <td>15</td>\n",
              "      <td>Es_6_1</td>\n",
              "      <td>Blank</td>\n",
              "      <td>11.12.2014 11:1:2</td>\n",
              "      <td>11.12.2014 11:1:3</td>\n",
              "      <td>61</td>\n",
              "      <td>0</td>\n",
              "      <td>0</td>\n",
              "      <td>4</td>\n",
              "      <td>0</td>\n",
              "      <td>115</td>\n",
              "      <td>0</td>\n",
              "    </tr>\n",
              "    <tr>\n",
              "      <th>4</th>\n",
              "      <td>6</td>\n",
              "      <td>15</td>\n",
              "      <td>Es_6_1</td>\n",
              "      <td>Study_Es_6_1</td>\n",
              "      <td>11.12.2014 11:1:4</td>\n",
              "      <td>11.12.2014 11:1:6</td>\n",
              "      <td>0</td>\n",
              "      <td>0</td>\n",
              "      <td>0</td>\n",
              "      <td>1</td>\n",
              "      <td>0</td>\n",
              "      <td>173</td>\n",
              "      <td>0</td>\n",
              "    </tr>\n",
              "  </tbody>\n",
              "</table>\n",
              "</div>"
            ],
            "text/plain": [
              "   session  student_Id exercise  ... mouse_click_right mouse_movement keystroke\n",
              "0        6          15       Es  ...                 0             81         0\n",
              "1        6          15       Es  ...                 0             50         0\n",
              "2        6          15   Es_6_1  ...                 0            138         0\n",
              "3        6          15   Es_6_1  ...                 0            115         0\n",
              "4        6          15   Es_6_1  ...                 0            173         0\n",
              "\n",
              "[5 rows x 13 columns]"
            ]
          },
          "metadata": {},
          "execution_count": 5
        }
      ]
    },
    {
      "cell_type": "markdown",
      "metadata": {
        "id": "oqgvP3G1joK-"
      },
      "source": [
        "# 3 Обработка"
      ]
    },
    {
      "cell_type": "code",
      "metadata": {
        "colab": {
          "base_uri": "https://localhost:8080/"
        },
        "id": "Zgs216Vbh2ZM",
        "outputId": "bf7ceacf-24f6-417e-ea19-3307934548ee"
      },
      "source": [
        "#Объединяем в один датафрейм\n",
        "data_full = pd.concat([data_15_1, data_15_2, \n",
        "                     data_15_3, data_15_4, \n",
        "                     data_15_5, data_15_6,\n",
        "                     data_30_1, data_30_2, \n",
        "                     data_30_3, data_30_4, \n",
        "                     data_30_5, data_30_6,\n",
        "                      data_44_1, data_44_2, \n",
        "                     data_44_3, data_44_4, \n",
        "                     data_44_5, data_44_6],\n",
        "                    sort=False, axis=0)\n",
        "data_full.shape"
      ],
      "execution_count": null,
      "outputs": [
        {
          "output_type": "execute_result",
          "data": {
            "text/plain": [
              "(8938, 13)"
            ]
          },
          "metadata": {},
          "execution_count": 6
        }
      ]
    },
    {
      "cell_type": "code",
      "metadata": {
        "colab": {
          "base_uri": "https://localhost:8080/"
        },
        "id": "DxQDU7XPjC43",
        "outputId": "fbcb6c66-ab6d-4141-fe8f-2c0302fee710"
      },
      "source": [
        "#Выбираем типы ACTiVITY с которыми будем работать\n",
        "data_full.activity.value_counts()"
      ],
      "execution_count": null,
      "outputs": [
        {
          "output_type": "execute_result",
          "data": {
            "text/plain": [
              " Other                1441\n",
              " Diagram               796\n",
              " Blank                 726\n",
              " Properties            597\n",
              " Aulaweb               354\n",
              "                      ... \n",
              " Deeds_Es                4\n",
              " TextEditor_Es_6_4       4\n",
              " TextEditor_Es           2\n",
              " Fsm_Related             1\n",
              " Study_Es_6_6            1\n",
              "Name: activity, Length: 95, dtype: int64"
            ]
          },
          "metadata": {},
          "execution_count": 7
        }
      ]
    },
    {
      "cell_type": "code",
      "metadata": {
        "colab": {
          "base_uri": "https://localhost:8080/"
        },
        "id": "dCHI3dISj6hf",
        "outputId": "33daceb2-ae8a-4ae6-95c0-d94746ff2c94"
      },
      "source": [
        "#Посмотрим, как записываются типы в датафрейме\n",
        "data_full.activity.values[:10]"
      ],
      "execution_count": null,
      "outputs": [
        {
          "output_type": "execute_result",
          "data": {
            "text/plain": [
              "array([' Other', ' Deeds', ' Study_Es_1_1', ' Other', ' Study_Es_1_1',\n",
              "       ' Deeds_Es_1_1', ' Deeds_Es_1_1', ' Other', ' Deeds_Es_1_1',\n",
              "       ' Study_Es_1_1'], dtype=object)"
            ]
          },
          "metadata": {},
          "execution_count": 8
        }
      ]
    },
    {
      "cell_type": "code",
      "metadata": {
        "colab": {
          "base_uri": "https://localhost:8080/"
        },
        "id": "nF0i8CsKj7dz",
        "outputId": "6b9099c5-1b64-40be-c2ad-1d235bf4d610"
      },
      "source": [
        "# Создаем новый датафрейм, который содержит в себе записи только с двумя типами действия\n",
        "new_data_full = data_full.loc[data_full['activity'].isin([' Diagram', ' Other'])]\n",
        "new_data_full.shape"
      ],
      "execution_count": null,
      "outputs": [
        {
          "output_type": "execute_result",
          "data": {
            "text/plain": [
              "(2237, 13)"
            ]
          },
          "metadata": {},
          "execution_count": 9
        }
      ]
    },
    {
      "cell_type": "markdown",
      "metadata": {
        "id": "5lCgCZPWkmb1"
      },
      "source": [
        "# 4-6 Изучение алгоритмов и применение, обоснование бинаризация и нормализации признаков"
      ]
    },
    {
      "cell_type": "code",
      "metadata": {
        "colab": {
          "base_uri": "https://localhost:8080/"
        },
        "id": "zkeC51jPmkB8",
        "outputId": "cfb00c96-149f-4ee1-9c0f-df5f7f8c616c"
      },
      "source": [
        "# Выделяем целевую переменную и признаки.\n",
        "y = new_data_full['activity']\n",
        "y.shape"
      ],
      "execution_count": null,
      "outputs": [
        {
          "output_type": "execute_result",
          "data": {
            "text/plain": [
              "(2237,)"
            ]
          },
          "metadata": {},
          "execution_count": 10
        }
      ]
    },
    {
      "cell_type": "code",
      "metadata": {
        "colab": {
          "base_uri": "https://localhost:8080/"
        },
        "id": "hrtERuegmtBC",
        "outputId": "9e2696c9-fc68-4fb7-9e7a-45809a8eb3d6"
      },
      "source": [
        "# Выбираем только численные признаки\n",
        "features = ['idle_time', 'mouse_wheel', 'mouse_wheel_click', 'mouse_click_left', 'mouse_click_right', 'mouse_movement', 'keystroke']\n",
        "X = new_data_full[features]\n",
        "X.shape"
      ],
      "execution_count": null,
      "outputs": [
        {
          "output_type": "execute_result",
          "data": {
            "text/plain": [
              "(2237, 7)"
            ]
          },
          "metadata": {},
          "execution_count": 11
        }
      ]
    },
    {
      "cell_type": "code",
      "metadata": {
        "id": "tdlQXqRvm5fW"
      },
      "source": [
        "# Разбиваем выборку на обучающую и тестовую\n",
        "from sklearn.model_selection import train_test_split\n",
        "X_train, X_test, y_train, y_test = train_test_split(X, y, test_size = 0.4, random_state = 1)"
      ],
      "execution_count": null,
      "outputs": []
    },
    {
      "cell_type": "code",
      "metadata": {
        "colab": {
          "base_uri": "https://localhost:8080/",
          "height": 419
        },
        "id": "YXQ6GF8ULJ0N",
        "outputId": "b174eda4-6522-43de-f343-8d8605f1bae3"
      },
      "source": [
        "X_train"
      ],
      "execution_count": null,
      "outputs": [
        {
          "output_type": "execute_result",
          "data": {
            "text/html": [
              "<div>\n",
              "<style scoped>\n",
              "    .dataframe tbody tr th:only-of-type {\n",
              "        vertical-align: middle;\n",
              "    }\n",
              "\n",
              "    .dataframe tbody tr th {\n",
              "        vertical-align: top;\n",
              "    }\n",
              "\n",
              "    .dataframe thead th {\n",
              "        text-align: right;\n",
              "    }\n",
              "</style>\n",
              "<table border=\"1\" class=\"dataframe\">\n",
              "  <thead>\n",
              "    <tr style=\"text-align: right;\">\n",
              "      <th></th>\n",
              "      <th>idle_time</th>\n",
              "      <th>mouse_wheel</th>\n",
              "      <th>mouse_wheel_click</th>\n",
              "      <th>mouse_click_left</th>\n",
              "      <th>mouse_click_right</th>\n",
              "      <th>mouse_movement</th>\n",
              "      <th>keystroke</th>\n",
              "    </tr>\n",
              "  </thead>\n",
              "  <tbody>\n",
              "    <tr>\n",
              "      <th>99</th>\n",
              "      <td>2171</td>\n",
              "      <td>0</td>\n",
              "      <td>0</td>\n",
              "      <td>4</td>\n",
              "      <td>0</td>\n",
              "      <td>178</td>\n",
              "      <td>0</td>\n",
              "    </tr>\n",
              "    <tr>\n",
              "      <th>107</th>\n",
              "      <td>47700</td>\n",
              "      <td>0</td>\n",
              "      <td>0</td>\n",
              "      <td>4</td>\n",
              "      <td>0</td>\n",
              "      <td>1027</td>\n",
              "      <td>0</td>\n",
              "    </tr>\n",
              "    <tr>\n",
              "      <th>16</th>\n",
              "      <td>32</td>\n",
              "      <td>1</td>\n",
              "      <td>0</td>\n",
              "      <td>5</td>\n",
              "      <td>0</td>\n",
              "      <td>562</td>\n",
              "      <td>0</td>\n",
              "    </tr>\n",
              "    <tr>\n",
              "      <th>355</th>\n",
              "      <td>0</td>\n",
              "      <td>0</td>\n",
              "      <td>0</td>\n",
              "      <td>2</td>\n",
              "      <td>0</td>\n",
              "      <td>57</td>\n",
              "      <td>0</td>\n",
              "    </tr>\n",
              "    <tr>\n",
              "      <th>501</th>\n",
              "      <td>0</td>\n",
              "      <td>0</td>\n",
              "      <td>0</td>\n",
              "      <td>1</td>\n",
              "      <td>0</td>\n",
              "      <td>323</td>\n",
              "      <td>0</td>\n",
              "    </tr>\n",
              "    <tr>\n",
              "      <th>...</th>\n",
              "      <td>...</td>\n",
              "      <td>...</td>\n",
              "      <td>...</td>\n",
              "      <td>...</td>\n",
              "      <td>...</td>\n",
              "      <td>...</td>\n",
              "      <td>...</td>\n",
              "    </tr>\n",
              "    <tr>\n",
              "      <th>25</th>\n",
              "      <td>235248</td>\n",
              "      <td>0</td>\n",
              "      <td>0</td>\n",
              "      <td>0</td>\n",
              "      <td>0</td>\n",
              "      <td>41</td>\n",
              "      <td>0</td>\n",
              "    </tr>\n",
              "    <tr>\n",
              "      <th>210</th>\n",
              "      <td>0</td>\n",
              "      <td>0</td>\n",
              "      <td>0</td>\n",
              "      <td>2</td>\n",
              "      <td>0</td>\n",
              "      <td>52</td>\n",
              "      <td>0</td>\n",
              "    </tr>\n",
              "    <tr>\n",
              "      <th>352</th>\n",
              "      <td>0</td>\n",
              "      <td>0</td>\n",
              "      <td>0</td>\n",
              "      <td>2</td>\n",
              "      <td>2</td>\n",
              "      <td>157</td>\n",
              "      <td>0</td>\n",
              "    </tr>\n",
              "    <tr>\n",
              "      <th>377</th>\n",
              "      <td>188</td>\n",
              "      <td>0</td>\n",
              "      <td>0</td>\n",
              "      <td>0</td>\n",
              "      <td>0</td>\n",
              "      <td>37</td>\n",
              "      <td>0</td>\n",
              "    </tr>\n",
              "    <tr>\n",
              "      <th>264</th>\n",
              "      <td>180542</td>\n",
              "      <td>0</td>\n",
              "      <td>0</td>\n",
              "      <td>2</td>\n",
              "      <td>0</td>\n",
              "      <td>187</td>\n",
              "      <td>0</td>\n",
              "    </tr>\n",
              "  </tbody>\n",
              "</table>\n",
              "<p>1342 rows × 7 columns</p>\n",
              "</div>"
            ],
            "text/plain": [
              "     idle_time  mouse_wheel  ...  mouse_movement  keystroke\n",
              "99        2171            0  ...             178          0\n",
              "107      47700            0  ...            1027          0\n",
              "16          32            1  ...             562          0\n",
              "355          0            0  ...              57          0\n",
              "501          0            0  ...             323          0\n",
              "..         ...          ...  ...             ...        ...\n",
              "25      235248            0  ...              41          0\n",
              "210          0            0  ...              52          0\n",
              "352          0            0  ...             157          0\n",
              "377        188            0  ...              37          0\n",
              "264     180542            0  ...             187          0\n",
              "\n",
              "[1342 rows x 7 columns]"
            ]
          },
          "metadata": {},
          "execution_count": 13
        }
      ]
    },
    {
      "cell_type": "code",
      "metadata": {
        "colab": {
          "base_uri": "https://localhost:8080/",
          "height": 669
        },
        "id": "ZGyFngIAnMjd",
        "outputId": "5788456e-4846-43c3-8c55-fdcb1ea23da6"
      },
      "source": [
        "new_data_full.sample(20)"
      ],
      "execution_count": null,
      "outputs": [
        {
          "output_type": "execute_result",
          "data": {
            "text/html": [
              "<div>\n",
              "<style scoped>\n",
              "    .dataframe tbody tr th:only-of-type {\n",
              "        vertical-align: middle;\n",
              "    }\n",
              "\n",
              "    .dataframe tbody tr th {\n",
              "        vertical-align: top;\n",
              "    }\n",
              "\n",
              "    .dataframe thead th {\n",
              "        text-align: right;\n",
              "    }\n",
              "</style>\n",
              "<table border=\"1\" class=\"dataframe\">\n",
              "  <thead>\n",
              "    <tr style=\"text-align: right;\">\n",
              "      <th></th>\n",
              "      <th>session</th>\n",
              "      <th>student_Id</th>\n",
              "      <th>exercise</th>\n",
              "      <th>activity</th>\n",
              "      <th>start_time</th>\n",
              "      <th>end_time</th>\n",
              "      <th>idle_time</th>\n",
              "      <th>mouse_wheel</th>\n",
              "      <th>mouse_wheel_click</th>\n",
              "      <th>mouse_click_left</th>\n",
              "      <th>mouse_click_right</th>\n",
              "      <th>mouse_movement</th>\n",
              "      <th>keystroke</th>\n",
              "    </tr>\n",
              "  </thead>\n",
              "  <tbody>\n",
              "    <tr>\n",
              "      <th>375</th>\n",
              "      <td>4</td>\n",
              "      <td>44</td>\n",
              "      <td>Es_4_5</td>\n",
              "      <td>Diagram</td>\n",
              "      <td>13.11.2014 12:10:41</td>\n",
              "      <td>13.11.2014 12:10:42</td>\n",
              "      <td>0</td>\n",
              "      <td>0</td>\n",
              "      <td>0</td>\n",
              "      <td>4</td>\n",
              "      <td>0</td>\n",
              "      <td>561</td>\n",
              "      <td>0</td>\n",
              "    </tr>\n",
              "    <tr>\n",
              "      <th>454</th>\n",
              "      <td>3</td>\n",
              "      <td>44</td>\n",
              "      <td>Es_3_4</td>\n",
              "      <td>Other</td>\n",
              "      <td>23.10.2014 13:36:40</td>\n",
              "      <td>23.10.2014 13:36:40</td>\n",
              "      <td>0</td>\n",
              "      <td>0</td>\n",
              "      <td>0</td>\n",
              "      <td>4</td>\n",
              "      <td>0</td>\n",
              "      <td>226</td>\n",
              "      <td>0</td>\n",
              "    </tr>\n",
              "    <tr>\n",
              "      <th>604</th>\n",
              "      <td>4</td>\n",
              "      <td>44</td>\n",
              "      <td>Es_4_2</td>\n",
              "      <td>Other</td>\n",
              "      <td>13.11.2014 12:39:23</td>\n",
              "      <td>13.11.2014 12:39:23</td>\n",
              "      <td>0</td>\n",
              "      <td>0</td>\n",
              "      <td>0</td>\n",
              "      <td>2</td>\n",
              "      <td>0</td>\n",
              "      <td>218</td>\n",
              "      <td>0</td>\n",
              "    </tr>\n",
              "    <tr>\n",
              "      <th>339</th>\n",
              "      <td>6</td>\n",
              "      <td>30</td>\n",
              "      <td>Es_6_3</td>\n",
              "      <td>Other</td>\n",
              "      <td>11.12.2014 12:48:39</td>\n",
              "      <td>11.12.2014 12:48:41</td>\n",
              "      <td>280</td>\n",
              "      <td>0</td>\n",
              "      <td>0</td>\n",
              "      <td>2</td>\n",
              "      <td>0</td>\n",
              "      <td>118</td>\n",
              "      <td>0</td>\n",
              "    </tr>\n",
              "    <tr>\n",
              "      <th>76</th>\n",
              "      <td>5</td>\n",
              "      <td>15</td>\n",
              "      <td>Es_5_2</td>\n",
              "      <td>Other</td>\n",
              "      <td>20.11.2014 11:25:52</td>\n",
              "      <td>20.11.2014 11:25:56</td>\n",
              "      <td>94</td>\n",
              "      <td>0</td>\n",
              "      <td>0</td>\n",
              "      <td>2</td>\n",
              "      <td>0</td>\n",
              "      <td>308</td>\n",
              "      <td>0</td>\n",
              "    </tr>\n",
              "    <tr>\n",
              "      <th>253</th>\n",
              "      <td>2</td>\n",
              "      <td>15</td>\n",
              "      <td>Es_2_4</td>\n",
              "      <td>Other</td>\n",
              "      <td>16.10.2014 13:27:46</td>\n",
              "      <td>16.10.2014 13:28:35</td>\n",
              "      <td>1149887</td>\n",
              "      <td>0</td>\n",
              "      <td>0</td>\n",
              "      <td>0</td>\n",
              "      <td>0</td>\n",
              "      <td>141</td>\n",
              "      <td>0</td>\n",
              "    </tr>\n",
              "    <tr>\n",
              "      <th>92</th>\n",
              "      <td>5</td>\n",
              "      <td>30</td>\n",
              "      <td>Es_5_1</td>\n",
              "      <td>Other</td>\n",
              "      <td>20.11.2014 11:34:57</td>\n",
              "      <td>20.11.2014 11:34:58</td>\n",
              "      <td>31</td>\n",
              "      <td>0</td>\n",
              "      <td>0</td>\n",
              "      <td>2</td>\n",
              "      <td>1</td>\n",
              "      <td>39</td>\n",
              "      <td>0</td>\n",
              "    </tr>\n",
              "    <tr>\n",
              "      <th>176</th>\n",
              "      <td>3</td>\n",
              "      <td>15</td>\n",
              "      <td>Es_3_2</td>\n",
              "      <td>Diagram</td>\n",
              "      <td>23.10.2014 12:49:37</td>\n",
              "      <td>23.10.2014 12:49:37</td>\n",
              "      <td>0</td>\n",
              "      <td>0</td>\n",
              "      <td>0</td>\n",
              "      <td>2</td>\n",
              "      <td>0</td>\n",
              "      <td>40</td>\n",
              "      <td>0</td>\n",
              "    </tr>\n",
              "    <tr>\n",
              "      <th>169</th>\n",
              "      <td>4</td>\n",
              "      <td>15</td>\n",
              "      <td>Es_4_4</td>\n",
              "      <td>Other</td>\n",
              "      <td>13.11.2014 11:31:58</td>\n",
              "      <td>13.11.2014 11:32:2</td>\n",
              "      <td>46</td>\n",
              "      <td>0</td>\n",
              "      <td>0</td>\n",
              "      <td>2</td>\n",
              "      <td>0</td>\n",
              "      <td>270</td>\n",
              "      <td>0</td>\n",
              "    </tr>\n",
              "    <tr>\n",
              "      <th>300</th>\n",
              "      <td>3</td>\n",
              "      <td>30</td>\n",
              "      <td>Es_3_2</td>\n",
              "      <td>Other</td>\n",
              "      <td>23.10.2014 13:43:2</td>\n",
              "      <td>23.10.2014 13:43:3</td>\n",
              "      <td>109</td>\n",
              "      <td>0</td>\n",
              "      <td>0</td>\n",
              "      <td>2</td>\n",
              "      <td>0</td>\n",
              "      <td>75</td>\n",
              "      <td>0</td>\n",
              "    </tr>\n",
              "    <tr>\n",
              "      <th>15</th>\n",
              "      <td>3</td>\n",
              "      <td>15</td>\n",
              "      <td>Es_3_1</td>\n",
              "      <td>Other</td>\n",
              "      <td>23.10.2014 11:1:16</td>\n",
              "      <td>23.10.2014 11:1:17</td>\n",
              "      <td>0</td>\n",
              "      <td>0</td>\n",
              "      <td>0</td>\n",
              "      <td>2</td>\n",
              "      <td>0</td>\n",
              "      <td>95</td>\n",
              "      <td>0</td>\n",
              "    </tr>\n",
              "    <tr>\n",
              "      <th>107</th>\n",
              "      <td>3</td>\n",
              "      <td>30</td>\n",
              "      <td>Es_3_1</td>\n",
              "      <td>Other</td>\n",
              "      <td>23.10.2014 11:34:37</td>\n",
              "      <td>23.10.2014 11:34:38</td>\n",
              "      <td>0</td>\n",
              "      <td>0</td>\n",
              "      <td>0</td>\n",
              "      <td>4</td>\n",
              "      <td>0</td>\n",
              "      <td>95</td>\n",
              "      <td>0</td>\n",
              "    </tr>\n",
              "    <tr>\n",
              "      <th>263</th>\n",
              "      <td>3</td>\n",
              "      <td>15</td>\n",
              "      <td>Es_3_4</td>\n",
              "      <td>Diagram</td>\n",
              "      <td>23.10.2014 13:25:37</td>\n",
              "      <td>23.10.2014 13:25:42</td>\n",
              "      <td>158</td>\n",
              "      <td>0</td>\n",
              "      <td>0</td>\n",
              "      <td>4</td>\n",
              "      <td>0</td>\n",
              "      <td>371</td>\n",
              "      <td>0</td>\n",
              "    </tr>\n",
              "    <tr>\n",
              "      <th>247</th>\n",
              "      <td>1</td>\n",
              "      <td>30</td>\n",
              "      <td>Es_1_2</td>\n",
              "      <td>Other</td>\n",
              "      <td>2.10.2014 12:44:16</td>\n",
              "      <td>2.10.2014 12:44:18</td>\n",
              "      <td>16</td>\n",
              "      <td>0</td>\n",
              "      <td>0</td>\n",
              "      <td>2</td>\n",
              "      <td>0</td>\n",
              "      <td>134</td>\n",
              "      <td>0</td>\n",
              "    </tr>\n",
              "    <tr>\n",
              "      <th>10</th>\n",
              "      <td>6</td>\n",
              "      <td>44</td>\n",
              "      <td>Es</td>\n",
              "      <td>Other</td>\n",
              "      <td>11.12.2014 11:3:27</td>\n",
              "      <td>11.12.2014 11:3:28</td>\n",
              "      <td>1</td>\n",
              "      <td>0</td>\n",
              "      <td>0</td>\n",
              "      <td>2</td>\n",
              "      <td>0</td>\n",
              "      <td>46</td>\n",
              "      <td>15</td>\n",
              "    </tr>\n",
              "    <tr>\n",
              "      <th>292</th>\n",
              "      <td>4</td>\n",
              "      <td>30</td>\n",
              "      <td>Es_4_2</td>\n",
              "      <td>Diagram</td>\n",
              "      <td>13.11.2014 12:9:6</td>\n",
              "      <td>13.11.2014 12:11:16</td>\n",
              "      <td>4578853</td>\n",
              "      <td>0</td>\n",
              "      <td>0</td>\n",
              "      <td>22</td>\n",
              "      <td>4</td>\n",
              "      <td>1909</td>\n",
              "      <td>0</td>\n",
              "    </tr>\n",
              "    <tr>\n",
              "      <th>19</th>\n",
              "      <td>4</td>\n",
              "      <td>30</td>\n",
              "      <td>Es_4_1</td>\n",
              "      <td>Other</td>\n",
              "      <td>13.11.2014 11:15:11</td>\n",
              "      <td>13.11.2014 11:15:12</td>\n",
              "      <td>31</td>\n",
              "      <td>0</td>\n",
              "      <td>0</td>\n",
              "      <td>2</td>\n",
              "      <td>0</td>\n",
              "      <td>67</td>\n",
              "      <td>0</td>\n",
              "    </tr>\n",
              "    <tr>\n",
              "      <th>15</th>\n",
              "      <td>3</td>\n",
              "      <td>44</td>\n",
              "      <td>Es_3_1</td>\n",
              "      <td>Other</td>\n",
              "      <td>23.10.2014 11:28:17</td>\n",
              "      <td>23.10.2014 11:28:18</td>\n",
              "      <td>0</td>\n",
              "      <td>0</td>\n",
              "      <td>0</td>\n",
              "      <td>3</td>\n",
              "      <td>0</td>\n",
              "      <td>428</td>\n",
              "      <td>0</td>\n",
              "    </tr>\n",
              "    <tr>\n",
              "      <th>301</th>\n",
              "      <td>1</td>\n",
              "      <td>30</td>\n",
              "      <td>Es_1_2</td>\n",
              "      <td>Other</td>\n",
              "      <td>2.10.2014 12:55:3</td>\n",
              "      <td>2.10.2014 12:55:3</td>\n",
              "      <td>0</td>\n",
              "      <td>0</td>\n",
              "      <td>0</td>\n",
              "      <td>0</td>\n",
              "      <td>0</td>\n",
              "      <td>86</td>\n",
              "      <td>0</td>\n",
              "    </tr>\n",
              "    <tr>\n",
              "      <th>235</th>\n",
              "      <td>1</td>\n",
              "      <td>15</td>\n",
              "      <td>Es_1_2</td>\n",
              "      <td>Other</td>\n",
              "      <td>2.10.2014 12:22:44</td>\n",
              "      <td>2.10.2014 12:22:44</td>\n",
              "      <td>0</td>\n",
              "      <td>0</td>\n",
              "      <td>0</td>\n",
              "      <td>2</td>\n",
              "      <td>2</td>\n",
              "      <td>45</td>\n",
              "      <td>0</td>\n",
              "    </tr>\n",
              "  </tbody>\n",
              "</table>\n",
              "</div>"
            ],
            "text/plain": [
              "     session  student_Id exercise  ... mouse_click_right mouse_movement keystroke\n",
              "375        4          44   Es_4_5  ...                 0            561         0\n",
              "454        3          44   Es_3_4  ...                 0            226         0\n",
              "604        4          44   Es_4_2  ...                 0            218         0\n",
              "339        6          30   Es_6_3  ...                 0            118         0\n",
              "76         5          15   Es_5_2  ...                 0            308         0\n",
              "253        2          15   Es_2_4  ...                 0            141         0\n",
              "92         5          30   Es_5_1  ...                 1             39         0\n",
              "176        3          15   Es_3_2  ...                 0             40         0\n",
              "169        4          15   Es_4_4  ...                 0            270         0\n",
              "300        3          30   Es_3_2  ...                 0             75         0\n",
              "15         3          15   Es_3_1  ...                 0             95         0\n",
              "107        3          30   Es_3_1  ...                 0             95         0\n",
              "263        3          15   Es_3_4  ...                 0            371         0\n",
              "247        1          30   Es_1_2  ...                 0            134         0\n",
              "10         6          44       Es  ...                 0             46        15\n",
              "292        4          30   Es_4_2  ...                 4           1909         0\n",
              "19         4          30   Es_4_1  ...                 0             67         0\n",
              "15         3          44   Es_3_1  ...                 0            428         0\n",
              "301        1          30   Es_1_2  ...                 0             86         0\n",
              "235        1          15   Es_1_2  ...                 2             45         0\n",
              "\n",
              "[20 rows x 13 columns]"
            ]
          },
          "metadata": {},
          "execution_count": 14
        }
      ]
    },
    {
      "cell_type": "code",
      "metadata": {
        "id": "Nd9HnjsCnf-Z"
      },
      "source": [
        "#Проведем нормализацию данных, для того, чтобы каждый из признаков имел равную степень влияния\n",
        "from sklearn.preprocessing import StandardScaler\n",
        "\n",
        "scaler = StandardScaler()\n",
        "\n",
        "X_train = scaler.fit_transform(X_train)\n",
        "X_test = scaler.transform(X_test)"
      ],
      "execution_count": null,
      "outputs": []
    },
    {
      "cell_type": "code",
      "metadata": {
        "colab": {
          "base_uri": "https://localhost:8080/"
        },
        "id": "0ZJno2ZqnoDt",
        "outputId": "c185661d-696e-4ea3-e035-bbad1da7de74"
      },
      "source": [
        "#Посмотрим, что получилось\n",
        "X_train"
      ],
      "execution_count": null,
      "outputs": [
        {
          "output_type": "execute_result",
          "data": {
            "text/plain": [
              "array([[-0.08844306, -0.10219389,  0.        , ..., -0.23794713,\n",
              "        -0.27795954, -0.1413886 ],\n",
              "       [-0.06236259, -0.10219389,  0.        , ..., -0.23794713,\n",
              "         0.69414887, -0.1413886 ],\n",
              "       [-0.08966835,  0.23811429,  0.        , ..., -0.23794713,\n",
              "         0.16172201, -0.1413886 ],\n",
              "       ...,\n",
              "       [-0.08968668, -0.10219389,  0.        , ...,  2.06764891,\n",
              "        -0.30200462, -0.1413886 ],\n",
              "       [-0.08957899, -0.10219389,  0.        , ..., -0.23794713,\n",
              "        -0.4394051 , -0.1413886 ],\n",
              "       [ 0.01373359, -0.10219389,  0.        , ..., -0.23794713,\n",
              "        -0.2676545 , -0.1413886 ]])"
            ]
          },
          "metadata": {},
          "execution_count": 16
        }
      ]
    },
    {
      "cell_type": "markdown",
      "metadata": {
        "id": "Cq0S6XqsLTit"
      },
      "source": [
        "## Оценка\n",
        "1. Классификационная оценка точности.\n",
        "2. Матрица ошибок\n",
        "3. Отчет о классификации"
      ]
    },
    {
      "cell_type": "code",
      "metadata": {
        "id": "FJwgjDcKoiCy"
      },
      "source": [
        "from sklearn.metrics import accuracy_score"
      ],
      "execution_count": null,
      "outputs": []
    },
    {
      "cell_type": "code",
      "metadata": {
        "id": "tC8QVyQDok2x"
      },
      "source": [
        "from sklearn.metrics import confusion_matrix"
      ],
      "execution_count": null,
      "outputs": []
    },
    {
      "cell_type": "code",
      "metadata": {
        "id": "6ioIuIPbomKr"
      },
      "source": [
        "from sklearn.metrics import classification_report"
      ],
      "execution_count": null,
      "outputs": []
    },
    {
      "cell_type": "markdown",
      "metadata": {
        "id": "D7_6H3n9l5hO"
      },
      "source": [
        "## 1. Логистическая регресия\n",
        "Условия логистической регрессии\n",
        "\n",
        "1. Бинарная логистическая регрессия требует, чтобы зависимая переменная также была бинарной.\n",
        "2. Для бинарной регрессии фактор уровня 1 зависимой переменной должен представлять желаемый вывод.\n",
        "3. Логистическая регрессия требует больших размеров выборки.\n",
        "4. Независимые переменные связаны линейно с логарифмическими коэффициентами.\n",
        "5. Независимые переменные должны быть независимы друг от друга. Это значит, что модель должна иметь малую мультиколлинеарность или не иметь её вовсе.\n",
        "6. Использоваться должны только значимые переменные."
      ]
    },
    {
      "cell_type": "code",
      "metadata": {
        "id": "UQIwgbQtk42c"
      },
      "source": [
        "from sklearn.linear_model import LogisticRegression"
      ],
      "execution_count": null,
      "outputs": []
    },
    {
      "cell_type": "code",
      "metadata": {
        "colab": {
          "base_uri": "https://localhost:8080/"
        },
        "id": "b9oNOi8nmUi9",
        "outputId": "34784eb2-ed01-41da-a1dd-3d8b451c4b7b"
      },
      "source": [
        "# Посмотрим на значения зависимой (целевой) переменой\n",
        "y[:10]"
      ],
      "execution_count": null,
      "outputs": [
        {
          "output_type": "execute_result",
          "data": {
            "text/plain": [
              "0        Other\n",
              "3        Other\n",
              "7        Other\n",
              "18     Diagram\n",
              "20     Diagram\n",
              "23       Other\n",
              "27     Diagram\n",
              "29     Diagram\n",
              "32     Diagram\n",
              "33       Other\n",
              "Name: activity, dtype: object"
            ]
          },
          "metadata": {},
          "execution_count": 21
        }
      ]
    },
    {
      "cell_type": "code",
      "metadata": {
        "colab": {
          "base_uri": "https://localhost:8080/",
          "height": 289
        },
        "id": "H0pv9XJWo4Tx",
        "outputId": "bc729537-8598-4aab-eac3-1fba4927af96"
      },
      "source": [
        "#Так как целевая переменная имеет категориальное значение, то ее необходимо бинаризовать для того, чтобы применить алгоритм логистической регрессии.\n",
        "new_data_full['activity'].replace({' Other': 0, ' Diagram': 1}, inplace=True)\n",
        "new_data_full.head()"
      ],
      "execution_count": null,
      "outputs": [
        {
          "output_type": "stream",
          "name": "stderr",
          "text": [
            "/usr/local/lib/python3.7/dist-packages/pandas/core/series.py:4582: SettingWithCopyWarning: \n",
            "A value is trying to be set on a copy of a slice from a DataFrame\n",
            "\n",
            "See the caveats in the documentation: https://pandas.pydata.org/pandas-docs/stable/user_guide/indexing.html#returning-a-view-versus-a-copy\n",
            "  method=method,\n"
          ]
        },
        {
          "output_type": "execute_result",
          "data": {
            "text/html": [
              "<div>\n",
              "<style scoped>\n",
              "    .dataframe tbody tr th:only-of-type {\n",
              "        vertical-align: middle;\n",
              "    }\n",
              "\n",
              "    .dataframe tbody tr th {\n",
              "        vertical-align: top;\n",
              "    }\n",
              "\n",
              "    .dataframe thead th {\n",
              "        text-align: right;\n",
              "    }\n",
              "</style>\n",
              "<table border=\"1\" class=\"dataframe\">\n",
              "  <thead>\n",
              "    <tr style=\"text-align: right;\">\n",
              "      <th></th>\n",
              "      <th>session</th>\n",
              "      <th>student_Id</th>\n",
              "      <th>exercise</th>\n",
              "      <th>activity</th>\n",
              "      <th>start_time</th>\n",
              "      <th>end_time</th>\n",
              "      <th>idle_time</th>\n",
              "      <th>mouse_wheel</th>\n",
              "      <th>mouse_wheel_click</th>\n",
              "      <th>mouse_click_left</th>\n",
              "      <th>mouse_click_right</th>\n",
              "      <th>mouse_movement</th>\n",
              "      <th>keystroke</th>\n",
              "    </tr>\n",
              "  </thead>\n",
              "  <tbody>\n",
              "    <tr>\n",
              "      <th>0</th>\n",
              "      <td>1</td>\n",
              "      <td>15</td>\n",
              "      <td>Es</td>\n",
              "      <td>0</td>\n",
              "      <td>2.10.2014 11:24:8</td>\n",
              "      <td>2.10.2014 11:24:18</td>\n",
              "      <td>30276</td>\n",
              "      <td>0</td>\n",
              "      <td>0</td>\n",
              "      <td>0</td>\n",
              "      <td>0</td>\n",
              "      <td>83</td>\n",
              "      <td>0</td>\n",
              "    </tr>\n",
              "    <tr>\n",
              "      <th>3</th>\n",
              "      <td>1</td>\n",
              "      <td>15</td>\n",
              "      <td>Es_1_1</td>\n",
              "      <td>0</td>\n",
              "      <td>2.10.2014 11:26:54</td>\n",
              "      <td>2.10.2014 11:26:54</td>\n",
              "      <td>0</td>\n",
              "      <td>0</td>\n",
              "      <td>0</td>\n",
              "      <td>0</td>\n",
              "      <td>2</td>\n",
              "      <td>20</td>\n",
              "      <td>0</td>\n",
              "    </tr>\n",
              "    <tr>\n",
              "      <th>7</th>\n",
              "      <td>1</td>\n",
              "      <td>15</td>\n",
              "      <td>Es_1_1</td>\n",
              "      <td>0</td>\n",
              "      <td>2.10.2014 11:35:8</td>\n",
              "      <td>2.10.2014 11:35:10</td>\n",
              "      <td>1124</td>\n",
              "      <td>0</td>\n",
              "      <td>0</td>\n",
              "      <td>2</td>\n",
              "      <td>2</td>\n",
              "      <td>91</td>\n",
              "      <td>0</td>\n",
              "    </tr>\n",
              "    <tr>\n",
              "      <th>18</th>\n",
              "      <td>1</td>\n",
              "      <td>15</td>\n",
              "      <td>Es_1_1</td>\n",
              "      <td>1</td>\n",
              "      <td>2.10.2014 11:42:30</td>\n",
              "      <td>2.10.2014 11:43:24</td>\n",
              "      <td>1297106</td>\n",
              "      <td>0</td>\n",
              "      <td>0</td>\n",
              "      <td>2</td>\n",
              "      <td>0</td>\n",
              "      <td>375</td>\n",
              "      <td>0</td>\n",
              "    </tr>\n",
              "    <tr>\n",
              "      <th>20</th>\n",
              "      <td>1</td>\n",
              "      <td>15</td>\n",
              "      <td>Es_1_1</td>\n",
              "      <td>1</td>\n",
              "      <td>2.10.2014 11:43:30</td>\n",
              "      <td>2.10.2014 11:49:29</td>\n",
              "      <td>26966634</td>\n",
              "      <td>0</td>\n",
              "      <td>0</td>\n",
              "      <td>318</td>\n",
              "      <td>8</td>\n",
              "      <td>8485</td>\n",
              "      <td>0</td>\n",
              "    </tr>\n",
              "  </tbody>\n",
              "</table>\n",
              "</div>"
            ],
            "text/plain": [
              "    session  student_Id exercise  ...  mouse_click_right mouse_movement keystroke\n",
              "0         1          15       Es  ...                  0             83         0\n",
              "3         1          15   Es_1_1  ...                  2             20         0\n",
              "7         1          15   Es_1_1  ...                  2             91         0\n",
              "18        1          15   Es_1_1  ...                  0            375         0\n",
              "20        1          15   Es_1_1  ...                  8           8485         0\n",
              "\n",
              "[5 rows x 13 columns]"
            ]
          },
          "metadata": {},
          "execution_count": 22
        }
      ]
    },
    {
      "cell_type": "code",
      "metadata": {
        "id": "vEuO-fQwpElB"
      },
      "source": [
        "# Определим бинаризованную целевую переменную\n",
        "y_log = new_data_full['activity']"
      ],
      "execution_count": null,
      "outputs": []
    },
    {
      "cell_type": "code",
      "metadata": {
        "colab": {
          "base_uri": "https://localhost:8080/"
        },
        "id": "Lg9oPvyOpRmL",
        "outputId": "64426df7-1303-4bf3-e635-5053832bd553"
      },
      "source": [
        "# Запустим алгоритм на всех данных\n",
        "log_model = LogisticRegression()\n",
        "log_model.fit(X, y_log)\n",
        "\n",
        "log_pred = log_model.predict(X)\n",
        "\n",
        "print('Accuracy Metrics for Logistic Regression:', accuracy_score(y_log, log_pred).round(2), '\\n')\n",
        "print('Confusion matrix \\n', confusion_matrix(y_log, log_pred), '\\n')\n",
        "print('Classification report \\n', classification_report(y_log, log_pred))"
      ],
      "execution_count": null,
      "outputs": [
        {
          "output_type": "stream",
          "name": "stdout",
          "text": [
            "Accuracy Metrics for Logistic Regression: 0.36 \n",
            "\n",
            "Confusion matrix \n",
            " [[   9 1432]\n",
            " [   0  796]] \n",
            "\n",
            "Classification report \n",
            "               precision    recall  f1-score   support\n",
            "\n",
            "           0       1.00      0.01      0.01      1441\n",
            "           1       0.36      1.00      0.53       796\n",
            "\n",
            "    accuracy                           0.36      2237\n",
            "   macro avg       0.68      0.50      0.27      2237\n",
            "weighted avg       0.77      0.36      0.20      2237\n",
            "\n"
          ]
        }
      ]
    },
    {
      "cell_type": "markdown",
      "metadata": {
        "id": "M6xZPsIKMUBW"
      },
      "source": [
        "Видно, что наш алгоритм относит все данные к Diagram"
      ]
    },
    {
      "cell_type": "code",
      "metadata": {
        "id": "qiEuW71JpuZo"
      },
      "source": [
        "#Теперь разделим целевую переменную на тестовую и тренировочную части\n",
        "y_log_train, y_log_test = train_test_split(y_log, test_size = 0.4, random_state = 1)"
      ],
      "execution_count": null,
      "outputs": []
    },
    {
      "cell_type": "code",
      "metadata": {
        "colab": {
          "base_uri": "https://localhost:8080/"
        },
        "id": "JkUiVW98p99E",
        "outputId": "8631df85-7c5a-4727-cde6-a2535c435f8f"
      },
      "source": [
        "# Запустим алгоритм на треноровочных и тестовых данных\n",
        "log_model = LogisticRegression()\n",
        "log_model.fit(X_train, y_train)\n",
        "\n",
        "log_pred = log_model.predict(X_test)\n",
        "\n",
        "print('Accuracy Metrics for Logistic Regression:', accuracy_score(y_test, log_pred).round(3), '\\n')\n",
        "print('Confusion matrix \\n', confusion_matrix(y_test, log_pred), '\\n')\n",
        "print('Classification report \\n', classification_report(y_test, log_pred))"
      ],
      "execution_count": null,
      "outputs": [
        {
          "output_type": "stream",
          "name": "stdout",
          "text": [
            "Accuracy Metrics for Logistic Regression: 0.712 \n",
            "\n",
            "Confusion matrix \n",
            " [[108 207]\n",
            " [ 51 529]] \n",
            "\n",
            "Classification report \n",
            "               precision    recall  f1-score   support\n",
            "\n",
            "     Diagram       0.68      0.34      0.46       315\n",
            "       Other       0.72      0.91      0.80       580\n",
            "\n",
            "    accuracy                           0.71       895\n",
            "   macro avg       0.70      0.63      0.63       895\n",
            "weighted avg       0.70      0.71      0.68       895\n",
            "\n"
          ]
        }
      ]
    },
    {
      "cell_type": "markdown",
      "metadata": {
        "id": "W10IYqJNM2yu"
      },
      "source": [
        "Уже лучше, алгоритм разделяет Diagram и Other, предпочтение отдает Other"
      ]
    },
    {
      "cell_type": "code",
      "metadata": {
        "colab": {
          "base_uri": "https://localhost:8080/"
        },
        "id": "JhjGhrTIq-u0",
        "outputId": "c981a801-4943-4ed6-ff07-39b00b8992f1"
      },
      "source": [
        "# Запустим алгоритм на обучающих и тестовых данных\n",
        "# Усиленные условия регулизации C (уменьшение выбросов, стандартное занчение = 1.0)\n",
        "log_model = LogisticRegression(C=0.001)\n",
        "log_model.fit(X_train, y_train)\n",
        "\n",
        "log_pred = log_model.predict(X_test)\n",
        "\n",
        "print('Accuracy Metrics for Logistic Regression:', accuracy_score(y_test, log_pred).round(3), '\\n')\n",
        "print('Confusion matrix \\n', confusion_matrix(y_test, log_pred), '\\n')\n",
        "print('Classification report \\n', classification_report(y_test, log_pred))"
      ],
      "execution_count": null,
      "outputs": [
        {
          "output_type": "stream",
          "name": "stdout",
          "text": [
            "Accuracy Metrics for Logistic Regression: 0.661 \n",
            "\n",
            "Confusion matrix \n",
            " [[ 12 303]\n",
            " [  0 580]] \n",
            "\n",
            "Classification report \n",
            "               precision    recall  f1-score   support\n",
            "\n",
            "     Diagram       1.00      0.04      0.07       315\n",
            "       Other       0.66      1.00      0.79       580\n",
            "\n",
            "    accuracy                           0.66       895\n",
            "   macro avg       0.83      0.52      0.43       895\n",
            "weighted avg       0.78      0.66      0.54       895\n",
            "\n"
          ]
        }
      ]
    },
    {
      "cell_type": "markdown",
      "metadata": {
        "id": "nEoJ8ThKQGwI"
      },
      "source": [
        "Точность результата уменьшилась, скорее всего переобучения нет"
      ]
    },
    {
      "cell_type": "code",
      "metadata": {
        "colab": {
          "base_uri": "https://localhost:8080/"
        },
        "id": "NL4A-5aSuBYL",
        "outputId": "04ee2263-3374-4149-fcba-fe86b6870ae0"
      },
      "source": [
        "# Запустим алгоритм на обучающих и тестовых данных\n",
        "# Повышаем терпимость алгоритма к ошибкам (стандартное значение = 0.0001)\n",
        "log_model = LogisticRegression(tol=100)\n",
        "log_model.fit(X_train, y_train)\n",
        "\n",
        "log_pred = log_model.predict(X_test)\n",
        "\n",
        "print('Accuracy Metrics for Logistic Regression:', accuracy_score(y_test, log_pred).round(3), '\\n')\n",
        "print('Confusion matrix \\n', confusion_matrix(y_test, log_pred), '\\n')\n",
        "print('Classification report \\n', classification_report(y_test, log_pred))"
      ],
      "execution_count": null,
      "outputs": [
        {
          "output_type": "stream",
          "name": "stdout",
          "text": [
            "Accuracy Metrics for Logistic Regression: 0.716 \n",
            "\n",
            "Confusion matrix \n",
            " [[ 69 246]\n",
            " [  8 572]] \n",
            "\n",
            "Classification report \n",
            "               precision    recall  f1-score   support\n",
            "\n",
            "     Diagram       0.90      0.22      0.35       315\n",
            "       Other       0.70      0.99      0.82       580\n",
            "\n",
            "    accuracy                           0.72       895\n",
            "   macro avg       0.80      0.60      0.59       895\n",
            "weighted avg       0.77      0.72      0.65       895\n",
            "\n"
          ]
        }
      ]
    },
    {
      "cell_type": "markdown",
      "metadata": {
        "id": "SgI8N3JXQQEY"
      },
      "source": [
        "При повышении толерантности, точность повысилась"
      ]
    },
    {
      "cell_type": "code",
      "metadata": {
        "colab": {
          "base_uri": "https://localhost:8080/"
        },
        "id": "kK5dME0mvePt",
        "outputId": "781a75b8-9fdc-4e39-fa39-c03eb22c9cae"
      },
      "source": [
        "# Запустим алгоритм на обучающих и тестовых данных\n",
        "# Изменине алгоритма вычисления с lbfgs на ‘liblinear’ и уменьшим количество итераций (стандартное значение = 100)\n",
        "log_model = LogisticRegression(solver='liblinear', max_iter=1)\n",
        "log_model.fit(X_train, y_train)\n",
        "\n",
        "log_pred = log_model.predict(X_test)\n",
        "\n",
        "print('Accuracy Metrics for Logistic Regression:', accuracy_score(y_test, log_pred).round(3), '\\n')\n",
        "print('Confusion matrix \\n', confusion_matrix(y_test, log_pred), '\\n')\n",
        "print('Classification report \\n', classification_report(y_test, log_pred))"
      ],
      "execution_count": null,
      "outputs": [
        {
          "output_type": "stream",
          "name": "stdout",
          "text": [
            "Accuracy Metrics for Logistic Regression: 0.708 \n",
            "\n",
            "Confusion matrix \n",
            " [[ 56 259]\n",
            " [  2 578]] \n",
            "\n",
            "Classification report \n",
            "               precision    recall  f1-score   support\n",
            "\n",
            "     Diagram       0.97      0.18      0.30       315\n",
            "       Other       0.69      1.00      0.82       580\n",
            "\n",
            "    accuracy                           0.71       895\n",
            "   macro avg       0.83      0.59      0.56       895\n",
            "weighted avg       0.79      0.71      0.63       895\n",
            "\n"
          ]
        },
        {
          "output_type": "stream",
          "name": "stderr",
          "text": [
            "/usr/local/lib/python3.7/dist-packages/sklearn/svm/_base.py:947: ConvergenceWarning: Liblinear failed to converge, increase the number of iterations.\n",
            "  \"the number of iterations.\", ConvergenceWarning)\n"
          ]
        }
      ]
    },
    {
      "cell_type": "markdown",
      "metadata": {
        "id": "YCsc8cMrQtAE"
      },
      "source": [
        "Точность понизилась, меньшее количество итераций было причиной"
      ]
    },
    {
      "cell_type": "code",
      "metadata": {
        "colab": {
          "base_uri": "https://localhost:8080/"
        },
        "id": "9OplZzQeRA2z",
        "outputId": "5d18fbfa-573d-488a-bff0-323e1f6e8030"
      },
      "source": [
        "# Запустим алгоритм на обучающих и тестовых данных\n",
        "# Изменине алгоритма вычисления с lbfgs на ‘newton-cg’\n",
        "log_model = LogisticRegression(solver='newton-cg')\n",
        "log_model.fit(X_train, y_train)\n",
        "\n",
        "log_pred = log_model.predict(X_test)\n",
        "\n",
        "print('Accuracy Metrics for Logistic Regression:', accuracy_score(y_test, log_pred).round(3), '\\n')\n",
        "print('Confusion matrix \\n', confusion_matrix(y_test, log_pred), '\\n')\n",
        "print('Classification report \\n', classification_report(y_test, log_pred))"
      ],
      "execution_count": null,
      "outputs": [
        {
          "output_type": "stream",
          "name": "stdout",
          "text": [
            "Accuracy Metrics for Logistic Regression: 0.712 \n",
            "\n",
            "Confusion matrix \n",
            " [[108 207]\n",
            " [ 51 529]] \n",
            "\n",
            "Classification report \n",
            "               precision    recall  f1-score   support\n",
            "\n",
            "     Diagram       0.68      0.34      0.46       315\n",
            "       Other       0.72      0.91      0.80       580\n",
            "\n",
            "    accuracy                           0.71       895\n",
            "   macro avg       0.70      0.63      0.63       895\n",
            "weighted avg       0.70      0.71      0.68       895\n",
            "\n"
          ]
        }
      ]
    },
    {
      "cell_type": "markdown",
      "metadata": {
        "id": "929Tl5KVRG4Z"
      },
      "source": [
        "При очередной смене алгоритма, точность не изменилась"
      ]
    },
    {
      "cell_type": "markdown",
      "metadata": {
        "id": "Ez6fq206RUOb"
      },
      "source": [
        "## 2. Ближайшие соседи (K-Nearest Neigbors)"
      ]
    },
    {
      "cell_type": "code",
      "metadata": {
        "id": "HcWlv8oFRdLj"
      },
      "source": [
        "# Импортируем готовый алгоритм\n",
        "from sklearn.neighbors import KNeighborsClassifier"
      ],
      "execution_count": null,
      "outputs": []
    },
    {
      "cell_type": "markdown",
      "metadata": {
        "id": "aM5o4luzR696"
      },
      "source": [
        "Основные параметры\n",
        "*   **n_neighbors: int, default=5** - количество соседей, по которым будет производится расчет, \n",
        "*   **weights: {‘uniform’, ‘distance’} or callable, default=’uniform’**- весовая функция, используемая в прогнозировании,\n",
        "*  **algorithm: {‘auto’, ‘ball_tree’, ‘kd_tree’, ‘brute’}, default=’auto’** - aлгоритм, используемый для вычисления ближайших соседей,\n",
        "*   **leaf_size: int, default=30** - размер листа передается в BallTree или KDTree. Это может повлиять на скорость построения и запроса, а также на объем памяти, необходимый для хранения дерева. Оптимальное значение зависит от характера проблемы.,\n",
        "*  **p:int, default=2** - степенный параметр для метрики Минковского. Когда p = 1, это эквивалентно использованию manhattan_distance (l1) и euclidean_distance (l2) для p = 2. Для произвольного p используется minkowski_distance (l_p),\n",
        "*   **metric: str or callable, default=’minkowski’** - метрика расстояния, используемая для дерева. По умолчанию используется метрика Минковского, а при p = 2 она эквивалентна стандартной евклидовой метрике. См. Документацию DistanceMetric для получения списка доступных показателей. Если метрика «вычисляется заранее», предполагается, что X является матрицей расстояний и должен быть квадратным во время подбора. X может быть разреженным графом, и в этом случае только «ненулевые» элементы могут считаться соседями.\n",
        "*   **metric_params: dict, default=None** - дополнительные аргументы ключевого слова для метрической функции.,\n",
        "*   **n_jobs: int, default=None** - количество параллельных заданий для поиска соседей."
      ]
    },
    {
      "cell_type": "code",
      "metadata": {
        "colab": {
          "base_uri": "https://localhost:8080/"
        },
        "id": "QasUgrQPRnJ3",
        "outputId": "8854d812-15ba-4c40-eea8-c2137a146d67"
      },
      "source": [
        "# Запустим алгоритм на всех данных\n",
        "knn_model = KNeighborsClassifier()\n",
        "knn_model.fit(X, y)\n",
        "knn_pred = knn_model.predict(X)\n",
        "\n",
        "print('Accuracy Metrics for KNN:', \n",
        "      accuracy_score(y, knn_pred).round(3), '\\n')\n",
        "print('Confusion_matrix \\n', \n",
        "      confusion_matrix(y, knn_pred), '\\n')\n",
        "print(classification_report(y, knn_pred))"
      ],
      "execution_count": null,
      "outputs": [
        {
          "output_type": "stream",
          "name": "stdout",
          "text": [
            "Accuracy Metrics for KNN: 0.764 \n",
            "\n",
            "Confusion_matrix \n",
            " [[1264  177]\n",
            " [ 352  444]] \n",
            "\n",
            "              precision    recall  f1-score   support\n",
            "\n",
            "           0       0.78      0.88      0.83      1441\n",
            "           1       0.71      0.56      0.63       796\n",
            "\n",
            "    accuracy                           0.76      2237\n",
            "   macro avg       0.75      0.72      0.73      2237\n",
            "weighted avg       0.76      0.76      0.76      2237\n",
            "\n"
          ]
        }
      ]
    },
    {
      "cell_type": "code",
      "metadata": {
        "colab": {
          "base_uri": "https://localhost:8080/"
        },
        "id": "Zuby-jEnRxNR",
        "outputId": "8c761f0c-4b5f-4435-e262-930c933a34fe"
      },
      "source": [
        "#Запустим алгоритм на тренировочных и тестовых данных\n",
        "knn_model = KNeighborsClassifier()\n",
        "knn_model.fit(X_train, y_train)\n",
        "knn_pred = knn_model.predict(X_test)\n",
        "\n",
        "print('Accuracy Metrics for KNN:', \n",
        "      accuracy_score(y_test, knn_pred).round(3), '\\n')\n",
        "print('Confusion_matrix \\n', \n",
        "      confusion_matrix(y_test, knn_pred), '\\n')\n",
        "print(classification_report(y_test, knn_pred))"
      ],
      "execution_count": null,
      "outputs": [
        {
          "output_type": "stream",
          "name": "stdout",
          "text": [
            "Accuracy Metrics for KNN: 0.722 \n",
            "\n",
            "Confusion_matrix \n",
            " [[163 152]\n",
            " [ 97 483]] \n",
            "\n",
            "              precision    recall  f1-score   support\n",
            "\n",
            "     Diagram       0.63      0.52      0.57       315\n",
            "       Other       0.76      0.83      0.80       580\n",
            "\n",
            "    accuracy                           0.72       895\n",
            "   macro avg       0.69      0.68      0.68       895\n",
            "weighted avg       0.71      0.72      0.71       895\n",
            "\n"
          ]
        }
      ]
    },
    {
      "cell_type": "markdown",
      "metadata": {
        "id": "0A7AOAe0SB3B"
      },
      "source": [
        "Точность при использовании тренировочных и тестовых данных ниже, чем при использовании всех данных\n",
        "\n",
        "Попробуем это исправить"
      ]
    },
    {
      "cell_type": "code",
      "metadata": {
        "colab": {
          "base_uri": "https://localhost:8080/"
        },
        "id": "crsMXqTxSOHf",
        "outputId": "45752f5a-5655-420c-a802-6bf22dbbfd04"
      },
      "source": [
        "#Запустим алгоритм на тренировочных и тестовых данных\n",
        "#Увеличим количество соседей до 13\n",
        "knn_model = KNeighborsClassifier(n_neighbors=13)\n",
        "knn_model.fit(X_train, y_train)\n",
        "knn_pred = knn_model.predict(X_test)\n",
        "\n",
        "print('Accuracy Metrics for KNN:', \n",
        "      accuracy_score(y_test, knn_pred).round(3), '\\n')\n",
        "print('Confusion_matrix \\n', \n",
        "      confusion_matrix(y_test, knn_pred), '\\n')\n",
        "print(classification_report(y_test, knn_pred))"
      ],
      "execution_count": null,
      "outputs": [
        {
          "output_type": "stream",
          "name": "stdout",
          "text": [
            "Accuracy Metrics for KNN: 0.734 \n",
            "\n",
            "Confusion_matrix \n",
            " [[153 162]\n",
            " [ 76 504]] \n",
            "\n",
            "              precision    recall  f1-score   support\n",
            "\n",
            "     Diagram       0.67      0.49      0.56       315\n",
            "       Other       0.76      0.87      0.81       580\n",
            "\n",
            "    accuracy                           0.73       895\n",
            "   macro avg       0.71      0.68      0.69       895\n",
            "weighted avg       0.73      0.73      0.72       895\n",
            "\n"
          ]
        }
      ]
    },
    {
      "cell_type": "markdown",
      "metadata": {
        "id": "KYeBAthoTSPm"
      },
      "source": [
        "При перебирании значений соседей (от 1 до 17 включительно) было выявлено, что наибольшая точность достигается при 13 соседях (0.734)\n",
        "\n",
        "Теперь попробуем еще увеличить точность"
      ]
    },
    {
      "cell_type": "code",
      "metadata": {
        "colab": {
          "base_uri": "https://localhost:8080/"
        },
        "id": "lgTrAkPGTePw",
        "outputId": "72968f5e-dd2a-45dd-f35e-b8849c0a37e4"
      },
      "source": [
        "#Запустим алгоритм на тренировочных и тестовых данных\n",
        "#Соседей - 16\n",
        "#Изменим весовую функцию weights='uniform' на weights='distance'. Таким образом алгоритм будет больше обрашать на дистанцию соседей\n",
        "knn_model = KNeighborsClassifier(n_neighbors=16, weights='distance')\n",
        "knn_model.fit(X_train, y_train)\n",
        "knn_pred = knn_model.predict(X_test)\n",
        "\n",
        "print('Accuracy Metrics for KNN:', \n",
        "      accuracy_score(y_test, knn_pred).round(3), '\\n')\n",
        "print('Confusion_matrix \\n', \n",
        "      confusion_matrix(y_test, knn_pred), '\\n')\n",
        "print(classification_report(y_test, knn_pred))"
      ],
      "execution_count": null,
      "outputs": [
        {
          "output_type": "stream",
          "name": "stdout",
          "text": [
            "Accuracy Metrics for KNN: 0.717 \n",
            "\n",
            "Confusion_matrix \n",
            " [[170 145]\n",
            " [108 472]] \n",
            "\n",
            "              precision    recall  f1-score   support\n",
            "\n",
            "     Diagram       0.61      0.54      0.57       315\n",
            "       Other       0.76      0.81      0.79       580\n",
            "\n",
            "    accuracy                           0.72       895\n",
            "   macro avg       0.69      0.68      0.68       895\n",
            "weighted avg       0.71      0.72      0.71       895\n",
            "\n"
          ]
        }
      ]
    },
    {
      "cell_type": "markdown",
      "metadata": {
        "id": "ytZgKQUbUeCX"
      },
      "source": [
        "Изменение весовой функции во всех случаях дает меньшее значение точности (максимальная на 16 соседях)\n",
        "\n",
        "Попробуем что-то другое"
      ]
    },
    {
      "cell_type": "code",
      "metadata": {
        "colab": {
          "base_uri": "https://localhost:8080/"
        },
        "id": "XtLFBiiJUpdB",
        "outputId": "7fb13b5c-4201-4d34-cb26-6c024bfc0305"
      },
      "source": [
        "#Запустим алгоритм на тренировочных и тестовых данных\n",
        "#Соседей - 13\n",
        "#Попробуем разные алгоритмы algorithm{‘auto’(0.734), ‘ball_tree’(0.734), ‘kd_tree’(0.734), ‘brute’(0.733)}, default=’auto’\n",
        "knn_model = KNeighborsClassifier(n_neighbors=13, algorithm='brute')\n",
        "knn_model.fit(X_train, y_train)\n",
        "knn_pred = knn_model.predict(X_test)\n",
        "\n",
        "print('Accuracy Metrics for KNN:', \n",
        "      accuracy_score(y_test, knn_pred).round(3), '\\n')\n",
        "print('Confusion_matrix \\n', \n",
        "      confusion_matrix(y_test, knn_pred), '\\n')\n",
        "print(classification_report(y_test, knn_pred))"
      ],
      "execution_count": null,
      "outputs": [
        {
          "output_type": "stream",
          "name": "stdout",
          "text": [
            "Accuracy Metrics for KNN: 0.733 \n",
            "\n",
            "Confusion_matrix \n",
            " [[153 162]\n",
            " [ 77 503]] \n",
            "\n",
            "              precision    recall  f1-score   support\n",
            "\n",
            "     Diagram       0.67      0.49      0.56       315\n",
            "       Other       0.76      0.87      0.81       580\n",
            "\n",
            "    accuracy                           0.73       895\n",
            "   macro avg       0.71      0.68      0.68       895\n",
            "weighted avg       0.72      0.73      0.72       895\n",
            "\n"
          ]
        }
      ]
    },
    {
      "cell_type": "markdown",
      "metadata": {
        "id": "tfP_AadtVMg7"
      },
      "source": [
        "Ничего не поменялось, возьмем другое"
      ]
    },
    {
      "cell_type": "code",
      "metadata": {
        "colab": {
          "base_uri": "https://localhost:8080/"
        },
        "id": "gBaH54siVRXh",
        "outputId": "c92100fd-90bc-4cd5-d76e-710135665385"
      },
      "source": [
        "#Запустим алгоритм на тренировочных и тестовых данных\n",
        "#Соседей - 13\n",
        "#Попробуем изменить leaf_size : int, default=30 (При 10 повысилась точность с 0.734 до 0.735)\n",
        "knn_model = KNeighborsClassifier(n_neighbors=13, leaf_size=10)\n",
        "knn_model.fit(X_train, y_train)\n",
        "knn_pred = knn_model.predict(X_test)\n",
        "\n",
        "print('Accuracy Metrics for KNN:', \n",
        "      accuracy_score(y_test, knn_pred).round(3), '\\n')\n",
        "print('Confusion_matrix \\n', \n",
        "      confusion_matrix(y_test, knn_pred), '\\n')\n",
        "print(classification_report(y_test, knn_pred))"
      ],
      "execution_count": null,
      "outputs": [
        {
          "output_type": "stream",
          "name": "stdout",
          "text": [
            "Accuracy Metrics for KNN: 0.735 \n",
            "\n",
            "Confusion_matrix \n",
            " [[154 161]\n",
            " [ 76 504]] \n",
            "\n",
            "              precision    recall  f1-score   support\n",
            "\n",
            "     Diagram       0.67      0.49      0.57       315\n",
            "       Other       0.76      0.87      0.81       580\n",
            "\n",
            "    accuracy                           0.74       895\n",
            "   macro avg       0.71      0.68      0.69       895\n",
            "weighted avg       0.73      0.74      0.72       895\n",
            "\n"
          ]
        }
      ]
    },
    {
      "cell_type": "markdown",
      "metadata": {
        "id": "f1nZLOjWWAzc"
      },
      "source": [
        "Ну и последняя попытка улучшить результат"
      ]
    },
    {
      "cell_type": "code",
      "metadata": {
        "colab": {
          "base_uri": "https://localhost:8080/"
        },
        "id": "BANpOW-wWD3B",
        "outputId": "2a11226c-552b-4ca9-dafa-537f5119f483"
      },
      "source": [
        "#Запустим алгоритм на тренировочных и тестовых данных\n",
        "#Соседей - 13\n",
        "#leaf_size - 10\n",
        "#Изменим количество параллельных заданий для поиска соседей. n_jobs : int, default=None (Тоже ничего не меняется)\n",
        "knn_model = KNeighborsClassifier(n_neighbors=13, leaf_size=10, n_jobs=1)\n",
        "knn_model.fit(X_train, y_train)\n",
        "knn_pred = knn_model.predict(X_test)\n",
        "\n",
        "print('Accuracy Metrics for KNN:', \n",
        "      accuracy_score(y_test, knn_pred).round(3), '\\n')\n",
        "print('Confusion_matrix \\n', \n",
        "      confusion_matrix(y_test, knn_pred), '\\n')\n",
        "print(classification_report(y_test, knn_pred))"
      ],
      "execution_count": null,
      "outputs": [
        {
          "output_type": "stream",
          "name": "stdout",
          "text": [
            "Accuracy Metrics for KNN: 0.735 \n",
            "\n",
            "Confusion_matrix \n",
            " [[154 161]\n",
            " [ 76 504]] \n",
            "\n",
            "              precision    recall  f1-score   support\n",
            "\n",
            "     Diagram       0.67      0.49      0.57       315\n",
            "       Other       0.76      0.87      0.81       580\n",
            "\n",
            "    accuracy                           0.74       895\n",
            "   macro avg       0.71      0.68      0.69       895\n",
            "weighted avg       0.73      0.74      0.72       895\n",
            "\n"
          ]
        }
      ]
    },
    {
      "cell_type": "markdown",
      "metadata": {
        "id": "mndAC0MQWrEH"
      },
      "source": [
        "## 3. Дерево решений"
      ]
    },
    {
      "cell_type": "code",
      "metadata": {
        "id": "zrYaGOEEWu1q"
      },
      "source": [
        "from sklearn.tree import DecisionTreeClassifier"
      ],
      "execution_count": null,
      "outputs": []
    },
    {
      "cell_type": "code",
      "metadata": {
        "colab": {
          "base_uri": "https://localhost:8080/"
        },
        "id": "9cSPIZncWzIp",
        "outputId": "2d80dee0-7d62-4b88-dbbd-727a227bc0b5"
      },
      "source": [
        "# Запустим алгоритм на всех данных\n",
        "cart_model = DecisionTreeClassifier()\n",
        "cart_model.fit(X, y)\n",
        "cart_pred = cart_model.predict(X)\n",
        "\n",
        "print('Accuracy Metrics for Decision Tree Classifier:', \n",
        "      accuracy_score(y, cart_pred).round(3), '\\n')\n",
        "print('Confusion_matrix \\n', \n",
        "      confusion_matrix(y, cart_pred), '\\n')\n",
        "print(classification_report(y, cart_pred))"
      ],
      "execution_count": null,
      "outputs": [
        {
          "output_type": "stream",
          "name": "stdout",
          "text": [
            "Accuracy Metrics for Decision Tree Classifier: 0.96 \n",
            "\n",
            "Confusion_matrix \n",
            " [[1434    7]\n",
            " [  83  713]] \n",
            "\n",
            "              precision    recall  f1-score   support\n",
            "\n",
            "           0       0.95      1.00      0.97      1441\n",
            "           1       0.99      0.90      0.94       796\n",
            "\n",
            "    accuracy                           0.96      2237\n",
            "   macro avg       0.97      0.95      0.96      2237\n",
            "weighted avg       0.96      0.96      0.96      2237\n",
            "\n"
          ]
        }
      ]
    },
    {
      "cell_type": "code",
      "metadata": {
        "colab": {
          "base_uri": "https://localhost:8080/"
        },
        "id": "d4b0seLAW6zX",
        "outputId": "ab9cd1c6-fa60-47a2-f692-24a9bcc16cc6"
      },
      "source": [
        "# Запустим алгоритм на тренировочных и тестовых данных\n",
        "cart_model = DecisionTreeClassifier()\n",
        "cart_model.fit(X_train, y_train)\n",
        "cart_pred = cart_model.predict(X_test)\n",
        "\n",
        "print('Accuracy Metrics for Decision Tree Classifier:', \n",
        "      accuracy_score(y_test, cart_pred).round(3), '\\n')\n",
        "print('Confusion_matrix \\n', \n",
        "      confusion_matrix(y_test, cart_pred), '\\n')\n",
        "print(classification_report(y_test, cart_pred))"
      ],
      "execution_count": null,
      "outputs": [
        {
          "output_type": "stream",
          "name": "stdout",
          "text": [
            "Accuracy Metrics for Decision Tree Classifier: 0.65 \n",
            "\n",
            "Confusion_matrix \n",
            " [[167 148]\n",
            " [165 415]] \n",
            "\n",
            "              precision    recall  f1-score   support\n",
            "\n",
            "     Diagram       0.50      0.53      0.52       315\n",
            "       Other       0.74      0.72      0.73       580\n",
            "\n",
            "    accuracy                           0.65       895\n",
            "   macro avg       0.62      0.62      0.62       895\n",
            "weighted avg       0.65      0.65      0.65       895\n",
            "\n"
          ]
        }
      ]
    },
    {
      "cell_type": "markdown",
      "metadata": {
        "id": "N1hymeyLXAl-"
      },
      "source": [
        "При обучении на всех данных точность колласальная и равна 0.96\n",
        "\n",
        "При обучении на тренировочных и тестовых данных точность довольно низкая (0.654), попробуем исправить"
      ]
    },
    {
      "cell_type": "code",
      "metadata": {
        "colab": {
          "base_uri": "https://localhost:8080/"
        },
        "id": "5ZfCxe2tX8aA",
        "outputId": "eb4096ef-a3c2-4d12-f1dc-551c1c1bfe9d"
      },
      "source": [
        "# Запустим алгоритм на тренировочных и тестовых данных\n",
        "#Добавим глубину max_depth=None, лучший результат при значении 3\n",
        "cart_model = DecisionTreeClassifier(max_depth=3)\n",
        "cart_model.fit(X_train, y_train)\n",
        "cart_pred = cart_model.predict(X_test)\n",
        "\n",
        "print('Accuracy Metrics for Decision Tree Classifier:', \n",
        "      accuracy_score(y_test, cart_pred).round(3), '\\n')\n",
        "print('Confusion_matrix \\n', \n",
        "      confusion_matrix(y_test, cart_pred), '\\n')\n",
        "print(classification_report(y_test, cart_pred))"
      ],
      "execution_count": null,
      "outputs": [
        {
          "output_type": "stream",
          "name": "stdout",
          "text": [
            "Accuracy Metrics for Decision Tree Classifier: 0.712 \n",
            "\n",
            "Confusion_matrix \n",
            " [[ 85 230]\n",
            " [ 28 552]] \n",
            "\n",
            "              precision    recall  f1-score   support\n",
            "\n",
            "     Diagram       0.75      0.27      0.40       315\n",
            "       Other       0.71      0.95      0.81       580\n",
            "\n",
            "    accuracy                           0.71       895\n",
            "   macro avg       0.73      0.61      0.60       895\n",
            "weighted avg       0.72      0.71      0.67       895\n",
            "\n"
          ]
        }
      ]
    },
    {
      "cell_type": "markdown",
      "metadata": {
        "id": "nEZPfd9NGlZA"
      },
      "source": [
        "Ограничив глубину дерева до 3, получилось улучшить алгоритм, попробуем что-то еще"
      ]
    },
    {
      "cell_type": "code",
      "metadata": {
        "colab": {
          "base_uri": "https://localhost:8080/"
        },
        "id": "jIqJsDNPGrLX",
        "outputId": "3996c6b3-2783-4a44-bbcb-797a69c0db28"
      },
      "source": [
        "# Запустим алгоритм на тренировочных и тестовых данных\n",
        "#max_depth=None\n",
        "#Изменим min_samples_split=2 на что-нибудь другое\n",
        "cart_model = DecisionTreeClassifier(max_depth=None, min_samples_split=50)\n",
        "cart_model.fit(X_train, y_train)\n",
        "cart_pred = cart_model.predict(X_test)\n",
        "\n",
        "print('Accuracy Metrics for Decision Tree Classifier:', \n",
        "      accuracy_score(y_test, cart_pred).round(3), '\\n')\n",
        "print('Confusion_matrix \\n', \n",
        "      confusion_matrix(y_test, cart_pred), '\\n')\n",
        "print(classification_report(y_test, cart_pred))"
      ],
      "execution_count": null,
      "outputs": [
        {
          "output_type": "stream",
          "name": "stdout",
          "text": [
            "Accuracy Metrics for Decision Tree Classifier: 0.717 \n",
            "\n",
            "Confusion_matrix \n",
            " [[161 154]\n",
            " [ 99 481]] \n",
            "\n",
            "              precision    recall  f1-score   support\n",
            "\n",
            "     Diagram       0.62      0.51      0.56       315\n",
            "       Other       0.76      0.83      0.79       580\n",
            "\n",
            "    accuracy                           0.72       895\n",
            "   macro avg       0.69      0.67      0.68       895\n",
            "weighted avg       0.71      0.72      0.71       895\n",
            "\n"
          ]
        }
      ]
    },
    {
      "cell_type": "markdown",
      "metadata": {
        "id": "Lz3_qtHuH8fx"
      },
      "source": [
        "При деление на 50 минимальных выборок, основной узел делится таким образом, что условная точность возрастает до 0.717"
      ]
    },
    {
      "cell_type": "code",
      "metadata": {
        "colab": {
          "base_uri": "https://localhost:8080/"
        },
        "id": "Hw6O92ZDIVyF",
        "outputId": "fc5c0e23-272c-48c5-fd2b-53e5fac3be9f"
      },
      "source": [
        "# Запустим алгоритм на тренировочных и тестовых данных\n",
        "#max_leaf_nodes=None, изменим данный параметр\n",
        "cart_model = DecisionTreeClassifier(max_leaf_nodes=47)\n",
        "cart_model.fit(X_train, y_train)\n",
        "cart_pred = cart_model.predict(X_test)\n",
        "\n",
        "print('Accuracy Metrics for Decision Tree Classifier:', \n",
        "      accuracy_score(y_test, cart_pred).round(3), '\\n')\n",
        "print('Confusion_matrix \\n', \n",
        "      confusion_matrix(y_test, cart_pred), '\\n')\n",
        "print(classification_report(y_test, cart_pred))"
      ],
      "execution_count": null,
      "outputs": [
        {
          "output_type": "stream",
          "name": "stdout",
          "text": [
            "Accuracy Metrics for Decision Tree Classifier: 0.741 \n",
            "\n",
            "Confusion_matrix \n",
            " [[172 143]\n",
            " [ 89 491]] \n",
            "\n",
            "              precision    recall  f1-score   support\n",
            "\n",
            "     Diagram       0.66      0.55      0.60       315\n",
            "       Other       0.77      0.85      0.81       580\n",
            "\n",
            "    accuracy                           0.74       895\n",
            "   macro avg       0.72      0.70      0.70       895\n",
            "weighted avg       0.73      0.74      0.73       895\n",
            "\n"
          ]
        }
      ]
    },
    {
      "cell_type": "markdown",
      "metadata": {
        "id": "GK6acu3QJdgG"
      },
      "source": [
        "Получилось довести точность до 0.741 ограничив максимальное количество узлов, которые выбирались по принципу лучший первый, с наименьшим количеством примесей "
      ]
    },
    {
      "cell_type": "markdown",
      "metadata": {
        "id": "XnC-Eph7J3Q_"
      },
      "source": [
        "## Случайный лес"
      ]
    },
    {
      "cell_type": "code",
      "metadata": {
        "id": "pzBXZIswJ6In"
      },
      "source": [
        "from sklearn.ensemble import RandomForestClassifier"
      ],
      "execution_count": null,
      "outputs": []
    },
    {
      "cell_type": "code",
      "metadata": {
        "colab": {
          "base_uri": "https://localhost:8080/"
        },
        "id": "EYOrPUqFJ8kD",
        "outputId": "60a4109a-f188-4eec-fcbb-db3f1df60520"
      },
      "source": [
        "# Запустим алгоритм на всех данных\n",
        "rfc_model = RandomForestClassifier()\n",
        "rfc_model.fit(X, y)\n",
        "rfc_pred = rfc_model.predict(X)\n",
        "\n",
        "print('Accuracy Metrics for Random Forest Classifier:', \n",
        "      accuracy_score(y, rfc_pred).round(3), '\\n')\n",
        "print('Confusion_matrix \\n', \n",
        "      confusion_matrix(y, rfc_pred), '\\n')\n",
        "print(classification_report(y, rfc_pred))"
      ],
      "execution_count": null,
      "outputs": [
        {
          "output_type": "stream",
          "name": "stdout",
          "text": [
            "Accuracy Metrics for Random Forest Classifier: 0.96 \n",
            "\n",
            "Confusion_matrix \n",
            " [[1418   23]\n",
            " [  67  729]] \n",
            "\n",
            "              precision    recall  f1-score   support\n",
            "\n",
            "           0       0.95      0.98      0.97      1441\n",
            "           1       0.97      0.92      0.94       796\n",
            "\n",
            "    accuracy                           0.96      2237\n",
            "   macro avg       0.96      0.95      0.96      2237\n",
            "weighted avg       0.96      0.96      0.96      2237\n",
            "\n"
          ]
        }
      ]
    },
    {
      "cell_type": "code",
      "metadata": {
        "colab": {
          "base_uri": "https://localhost:8080/"
        },
        "id": "23eeqdQWJ_o8",
        "outputId": "f21a5d6a-c2c4-444e-ea16-79e0ea41d117"
      },
      "source": [
        "# Запустим алгоритм на обучающих и тестовых данных\n",
        "\n",
        "rfc_model = RandomForestClassifier()\n",
        "rfc_model.fit(X_train, y_train)\n",
        "rfc_pred = rfc_model.predict(X_test)\n",
        "\n",
        "print('Accuracy Metrics for Random Forest Classifier:', \n",
        "      accuracy_score(y_test, rfc_pred).round(3), '\\n')\n",
        "print('Confusion_matrix \\n', \n",
        "      confusion_matrix(y_test, rfc_pred), '\\n')\n",
        "print(classification_report(y_test, rfc_pred))"
      ],
      "execution_count": null,
      "outputs": [
        {
          "output_type": "stream",
          "name": "stdout",
          "text": [
            "Accuracy Metrics for Random Forest Classifier: 0.713 \n",
            "\n",
            "Confusion_matrix \n",
            " [[174 141]\n",
            " [116 464]] \n",
            "\n",
            "              precision    recall  f1-score   support\n",
            "\n",
            "     Diagram       0.60      0.55      0.58       315\n",
            "       Other       0.77      0.80      0.78       580\n",
            "\n",
            "    accuracy                           0.71       895\n",
            "   macro avg       0.68      0.68      0.68       895\n",
            "weighted avg       0.71      0.71      0.71       895\n",
            "\n"
          ]
        }
      ]
    },
    {
      "cell_type": "markdown",
      "metadata": {
        "id": "nifNcgFRQaWv"
      },
      "source": [
        "Результат удовлетворительный, попробуем улучшить его"
      ]
    },
    {
      "cell_type": "code",
      "metadata": {
        "colab": {
          "base_uri": "https://localhost:8080/"
        },
        "id": "JTl3NFVQQe3G",
        "outputId": "c111820f-6aa2-4207-f1bb-cd9f70cfa721"
      },
      "source": [
        "# Запустим алгоритм на обучающих и тестовых данных\n",
        "#n_estimators=100, изменим количество деревьев в лесу\n",
        "rfc_model = RandomForestClassifier(n_estimators=114)\n",
        "rfc_model.fit(X_train, y_train)\n",
        "rfc_pred = rfc_model.predict(X_test)\n",
        "\n",
        "print('Accuracy Metrics for Random Forest Classifier:', \n",
        "      accuracy_score(y_test, rfc_pred).round(3), '\\n')\n",
        "print('Confusion_matrix \\n', \n",
        "      confusion_matrix(y_test, rfc_pred), '\\n')\n",
        "print(classification_report(y_test, rfc_pred))"
      ],
      "execution_count": null,
      "outputs": [
        {
          "output_type": "stream",
          "name": "stdout",
          "text": [
            "Accuracy Metrics for Random Forest Classifier: 0.717 \n",
            "\n",
            "Confusion_matrix \n",
            " [[176 139]\n",
            " [114 466]] \n",
            "\n",
            "              precision    recall  f1-score   support\n",
            "\n",
            "     Diagram       0.61      0.56      0.58       315\n",
            "       Other       0.77      0.80      0.79       580\n",
            "\n",
            "    accuracy                           0.72       895\n",
            "   macro avg       0.69      0.68      0.68       895\n",
            "weighted avg       0.71      0.72      0.71       895\n",
            "\n"
          ]
        }
      ]
    },
    {
      "cell_type": "markdown",
      "metadata": {
        "id": "61s_3pvdRrg5"
      },
      "source": [
        "Увеличив количество деревьев до 114, получилось добиться дополнительных 0.004 точности\n",
        "\n",
        "Попробуем что-то другое"
      ]
    },
    {
      "cell_type": "code",
      "metadata": {
        "colab": {
          "base_uri": "https://localhost:8080/"
        },
        "id": "4S9VtxrbR246",
        "outputId": "5ad01ec1-7270-45ae-ba8d-06857f0d71fb"
      },
      "source": [
        "# Запустим алгоритм на обучающих и тестовых данных\n",
        "#Изменим criterion=“gini”, на “entropy”, функцию измерения качества деления деревьев\n",
        "rfc_model = RandomForestClassifier(criterion='entropy')\n",
        "rfc_model.fit(X_train, y_train)\n",
        "rfc_pred = rfc_model.predict(X_test)\n",
        "\n",
        "print('Accuracy Metrics for Random Forest Classifier:', \n",
        "      accuracy_score(y_test, rfc_pred).round(3), '\\n')\n",
        "print('Confusion_matrix \\n', \n",
        "      confusion_matrix(y_test, rfc_pred), '\\n')\n",
        "print(classification_report(y_test, rfc_pred))"
      ],
      "execution_count": null,
      "outputs": [
        {
          "output_type": "stream",
          "name": "stdout",
          "text": [
            "Accuracy Metrics for Random Forest Classifier: 0.721 \n",
            "\n",
            "Confusion_matrix \n",
            " [[178 137]\n",
            " [113 467]] \n",
            "\n",
            "              precision    recall  f1-score   support\n",
            "\n",
            "     Diagram       0.61      0.57      0.59       315\n",
            "       Other       0.77      0.81      0.79       580\n",
            "\n",
            "    accuracy                           0.72       895\n",
            "   macro avg       0.69      0.69      0.69       895\n",
            "weighted avg       0.72      0.72      0.72       895\n",
            "\n"
          ]
        }
      ]
    },
    {
      "cell_type": "markdown",
      "metadata": {
        "id": "YsSestL6SreM"
      },
      "source": [
        "Аккуратность модели увеличилось\n",
        "\n",
        "Попробуем что-то еще"
      ]
    },
    {
      "cell_type": "code",
      "metadata": {
        "colab": {
          "base_uri": "https://localhost:8080/"
        },
        "id": "4TONDvdXSyP8",
        "outputId": "25986806-a677-4d67-dbd5-166b3036071d"
      },
      "source": [
        "# Запустим алгоритм на обучающих и тестовых данных\n",
        "#Изменим ccp_alpha=0.0, Параметр сложности, используемый для обрезки с минимальными затратами. \n",
        "#Будет выбрано поддерево с наибольшей сложностью затрат, меньшее, чем ccp_alpha. По умолчанию обрезка не выполняется.\n",
        "rfc_model = RandomForestClassifier(ccp_alpha=0.001)\n",
        "rfc_model.fit(X_train, y_train)\n",
        "rfc_pred = rfc_model.predict(X_test)\n",
        "\n",
        "print('Accuracy Metrics for Random Forest Classifier:', \n",
        "      accuracy_score(y_test, rfc_pred).round(3), '\\n')\n",
        "print('Confusion_matrix \\n', \n",
        "      confusion_matrix(y_test, rfc_pred), '\\n')\n",
        "print(classification_report(y_test, rfc_pred))"
      ],
      "execution_count": null,
      "outputs": [
        {
          "output_type": "stream",
          "name": "stdout",
          "text": [
            "Accuracy Metrics for Random Forest Classifier: 0.731 \n",
            "\n",
            "Confusion_matrix \n",
            " [[172 143]\n",
            " [ 98 482]] \n",
            "\n",
            "              precision    recall  f1-score   support\n",
            "\n",
            "     Diagram       0.64      0.55      0.59       315\n",
            "       Other       0.77      0.83      0.80       580\n",
            "\n",
            "    accuracy                           0.73       895\n",
            "   macro avg       0.70      0.69      0.69       895\n",
            "weighted avg       0.72      0.73      0.73       895\n",
            "\n"
          ]
        }
      ]
    },
    {
      "cell_type": "markdown",
      "metadata": {
        "id": "JhHgrPUTeaML"
      },
      "source": [
        "Получилось добиться результата точности равный 0.731"
      ]
    }
  ]
}