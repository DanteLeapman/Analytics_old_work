{
  "nbformat": 4,
  "nbformat_minor": 0,
  "metadata": {
    "colab": {
      "name": "TestModeling_russian.ipynb",
      "provenance": [],
      "collapsed_sections": [],
      "toc_visible": true
    },
    "kernelspec": {
      "name": "python3",
      "display_name": "Python 3"
    },
    "language_info": {
      "name": "python"
    }
  },
  "cells": [
    {
      "cell_type": "markdown",
      "metadata": {
        "id": "lbv7rJaihDvL"
      },
      "source": [
        "## Step 1: Loading Data "
      ]
    },
    {
      "cell_type": "code",
      "metadata": {
        "colab": {
          "base_uri": "https://localhost:8080/"
        },
        "id": "kPpCTJ6ar-PN",
        "outputId": "44d20577-8053-4e5b-a43b-bc708eae301f"
      },
      "source": [
        "!pip install --upgrade pandas==1.2"
      ],
      "execution_count": null,
      "outputs": [
        {
          "output_type": "stream",
          "name": "stdout",
          "text": [
            "Requirement already satisfied: pandas==1.2 in /usr/local/lib/python3.7/dist-packages (1.2.0)\n",
            "Requirement already satisfied: python-dateutil>=2.7.3 in /usr/local/lib/python3.7/dist-packages (from pandas==1.2) (2.8.2)\n",
            "Requirement already satisfied: numpy>=1.16.5 in /usr/local/lib/python3.7/dist-packages (from pandas==1.2) (1.19.5)\n",
            "Requirement already satisfied: pytz>=2017.3 in /usr/local/lib/python3.7/dist-packages (from pandas==1.2) (2018.9)\n",
            "Requirement already satisfied: six>=1.5 in /usr/local/lib/python3.7/dist-packages (from python-dateutil>=2.7.3->pandas==1.2) (1.15.0)\n"
          ]
        }
      ]
    },
    {
      "cell_type": "code",
      "metadata": {
        "colab": {
          "base_uri": "https://localhost:8080/"
        },
        "id": "VEajMsVbl7YD",
        "outputId": "37929720-0e66-4f91-c66f-ba1f56537f82"
      },
      "source": [
        "!pip install pyLDAvis==2.1.2"
      ],
      "execution_count": null,
      "outputs": [
        {
          "output_type": "stream",
          "name": "stdout",
          "text": [
            "Collecting pyLDAvis==2.1.2\n",
            "  Downloading pyLDAvis-2.1.2.tar.gz (1.6 MB)\n",
            "\u001b[?25l\r\u001b[K     |▏                               | 10 kB 26.5 MB/s eta 0:00:01\r\u001b[K     |▍                               | 20 kB 30.3 MB/s eta 0:00:01\r\u001b[K     |▋                               | 30 kB 35.9 MB/s eta 0:00:01\r\u001b[K     |▉                               | 40 kB 40.8 MB/s eta 0:00:01\r\u001b[K     |█                               | 51 kB 11.6 MB/s eta 0:00:01\r\u001b[K     |█▏                              | 61 kB 13.2 MB/s eta 0:00:01\r\u001b[K     |█▍                              | 71 kB 10.7 MB/s eta 0:00:01\r\u001b[K     |█▋                              | 81 kB 11.8 MB/s eta 0:00:01\r\u001b[K     |█▉                              | 92 kB 9.4 MB/s eta 0:00:01\r\u001b[K     |██                              | 102 kB 9.9 MB/s eta 0:00:01\r\u001b[K     |██▎                             | 112 kB 9.9 MB/s eta 0:00:01\r\u001b[K     |██▍                             | 122 kB 9.9 MB/s eta 0:00:01\r\u001b[K     |██▋                             | 133 kB 9.9 MB/s eta 0:00:01\r\u001b[K     |██▉                             | 143 kB 9.9 MB/s eta 0:00:01\r\u001b[K     |███                             | 153 kB 9.9 MB/s eta 0:00:01\r\u001b[K     |███▎                            | 163 kB 9.9 MB/s eta 0:00:01\r\u001b[K     |███▌                            | 174 kB 9.9 MB/s eta 0:00:01\r\u001b[K     |███▋                            | 184 kB 9.9 MB/s eta 0:00:01\r\u001b[K     |███▉                            | 194 kB 9.9 MB/s eta 0:00:01\r\u001b[K     |████                            | 204 kB 9.9 MB/s eta 0:00:01\r\u001b[K     |████▎                           | 215 kB 9.9 MB/s eta 0:00:01\r\u001b[K     |████▌                           | 225 kB 9.9 MB/s eta 0:00:01\r\u001b[K     |████▊                           | 235 kB 9.9 MB/s eta 0:00:01\r\u001b[K     |████▉                           | 245 kB 9.9 MB/s eta 0:00:01\r\u001b[K     |█████                           | 256 kB 9.9 MB/s eta 0:00:01\r\u001b[K     |█████▎                          | 266 kB 9.9 MB/s eta 0:00:01\r\u001b[K     |█████▌                          | 276 kB 9.9 MB/s eta 0:00:01\r\u001b[K     |█████▊                          | 286 kB 9.9 MB/s eta 0:00:01\r\u001b[K     |█████▉                          | 296 kB 9.9 MB/s eta 0:00:01\r\u001b[K     |██████                          | 307 kB 9.9 MB/s eta 0:00:01\r\u001b[K     |██████▎                         | 317 kB 9.9 MB/s eta 0:00:01\r\u001b[K     |██████▌                         | 327 kB 9.9 MB/s eta 0:00:01\r\u001b[K     |██████▊                         | 337 kB 9.9 MB/s eta 0:00:01\r\u001b[K     |███████                         | 348 kB 9.9 MB/s eta 0:00:01\r\u001b[K     |███████                         | 358 kB 9.9 MB/s eta 0:00:01\r\u001b[K     |███████▎                        | 368 kB 9.9 MB/s eta 0:00:01\r\u001b[K     |███████▌                        | 378 kB 9.9 MB/s eta 0:00:01\r\u001b[K     |███████▊                        | 389 kB 9.9 MB/s eta 0:00:01\r\u001b[K     |████████                        | 399 kB 9.9 MB/s eta 0:00:01\r\u001b[K     |████████▏                       | 409 kB 9.9 MB/s eta 0:00:01\r\u001b[K     |████████▎                       | 419 kB 9.9 MB/s eta 0:00:01\r\u001b[K     |████████▌                       | 430 kB 9.9 MB/s eta 0:00:01\r\u001b[K     |████████▊                       | 440 kB 9.9 MB/s eta 0:00:01\r\u001b[K     |█████████                       | 450 kB 9.9 MB/s eta 0:00:01\r\u001b[K     |█████████▏                      | 460 kB 9.9 MB/s eta 0:00:01\r\u001b[K     |█████████▍                      | 471 kB 9.9 MB/s eta 0:00:01\r\u001b[K     |█████████▌                      | 481 kB 9.9 MB/s eta 0:00:01\r\u001b[K     |█████████▊                      | 491 kB 9.9 MB/s eta 0:00:01\r\u001b[K     |██████████                      | 501 kB 9.9 MB/s eta 0:00:01\r\u001b[K     |██████████▏                     | 512 kB 9.9 MB/s eta 0:00:01\r\u001b[K     |██████████▍                     | 522 kB 9.9 MB/s eta 0:00:01\r\u001b[K     |██████████▋                     | 532 kB 9.9 MB/s eta 0:00:01\r\u001b[K     |██████████▊                     | 542 kB 9.9 MB/s eta 0:00:01\r\u001b[K     |███████████                     | 552 kB 9.9 MB/s eta 0:00:01\r\u001b[K     |███████████▏                    | 563 kB 9.9 MB/s eta 0:00:01\r\u001b[K     |███████████▍                    | 573 kB 9.9 MB/s eta 0:00:01\r\u001b[K     |███████████▋                    | 583 kB 9.9 MB/s eta 0:00:01\r\u001b[K     |███████████▊                    | 593 kB 9.9 MB/s eta 0:00:01\r\u001b[K     |████████████                    | 604 kB 9.9 MB/s eta 0:00:01\r\u001b[K     |████████████▏                   | 614 kB 9.9 MB/s eta 0:00:01\r\u001b[K     |████████████▍                   | 624 kB 9.9 MB/s eta 0:00:01\r\u001b[K     |████████████▋                   | 634 kB 9.9 MB/s eta 0:00:01\r\u001b[K     |████████████▉                   | 645 kB 9.9 MB/s eta 0:00:01\r\u001b[K     |█████████████                   | 655 kB 9.9 MB/s eta 0:00:01\r\u001b[K     |█████████████▏                  | 665 kB 9.9 MB/s eta 0:00:01\r\u001b[K     |█████████████▍                  | 675 kB 9.9 MB/s eta 0:00:01\r\u001b[K     |█████████████▋                  | 686 kB 9.9 MB/s eta 0:00:01\r\u001b[K     |█████████████▉                  | 696 kB 9.9 MB/s eta 0:00:01\r\u001b[K     |██████████████                  | 706 kB 9.9 MB/s eta 0:00:01\r\u001b[K     |██████████████▏                 | 716 kB 9.9 MB/s eta 0:00:01\r\u001b[K     |██████████████▍                 | 727 kB 9.9 MB/s eta 0:00:01\r\u001b[K     |██████████████▋                 | 737 kB 9.9 MB/s eta 0:00:01\r\u001b[K     |██████████████▉                 | 747 kB 9.9 MB/s eta 0:00:01\r\u001b[K     |███████████████                 | 757 kB 9.9 MB/s eta 0:00:01\r\u001b[K     |███████████████▎                | 768 kB 9.9 MB/s eta 0:00:01\r\u001b[K     |███████████████▍                | 778 kB 9.9 MB/s eta 0:00:01\r\u001b[K     |███████████████▋                | 788 kB 9.9 MB/s eta 0:00:01\r\u001b[K     |███████████████▉                | 798 kB 9.9 MB/s eta 0:00:01\r\u001b[K     |████████████████                | 808 kB 9.9 MB/s eta 0:00:01\r\u001b[K     |████████████████▎               | 819 kB 9.9 MB/s eta 0:00:01\r\u001b[K     |████████████████▌               | 829 kB 9.9 MB/s eta 0:00:01\r\u001b[K     |████████████████▋               | 839 kB 9.9 MB/s eta 0:00:01\r\u001b[K     |████████████████▉               | 849 kB 9.9 MB/s eta 0:00:01\r\u001b[K     |█████████████████               | 860 kB 9.9 MB/s eta 0:00:01\r\u001b[K     |█████████████████▎              | 870 kB 9.9 MB/s eta 0:00:01\r\u001b[K     |█████████████████▌              | 880 kB 9.9 MB/s eta 0:00:01\r\u001b[K     |█████████████████▋              | 890 kB 9.9 MB/s eta 0:00:01\r\u001b[K     |█████████████████▉              | 901 kB 9.9 MB/s eta 0:00:01\r\u001b[K     |██████████████████              | 911 kB 9.9 MB/s eta 0:00:01\r\u001b[K     |██████████████████▎             | 921 kB 9.9 MB/s eta 0:00:01\r\u001b[K     |██████████████████▌             | 931 kB 9.9 MB/s eta 0:00:01\r\u001b[K     |██████████████████▊             | 942 kB 9.9 MB/s eta 0:00:01\r\u001b[K     |██████████████████▉             | 952 kB 9.9 MB/s eta 0:00:01\r\u001b[K     |███████████████████             | 962 kB 9.9 MB/s eta 0:00:01\r\u001b[K     |███████████████████▎            | 972 kB 9.9 MB/s eta 0:00:01\r\u001b[K     |███████████████████▌            | 983 kB 9.9 MB/s eta 0:00:01\r\u001b[K     |███████████████████▊            | 993 kB 9.9 MB/s eta 0:00:01\r\u001b[K     |████████████████████            | 1.0 MB 9.9 MB/s eta 0:00:01\r\u001b[K     |████████████████████            | 1.0 MB 9.9 MB/s eta 0:00:01\r\u001b[K     |████████████████████▎           | 1.0 MB 9.9 MB/s eta 0:00:01\r\u001b[K     |████████████████████▌           | 1.0 MB 9.9 MB/s eta 0:00:01\r\u001b[K     |████████████████████▊           | 1.0 MB 9.9 MB/s eta 0:00:01\r\u001b[K     |█████████████████████           | 1.1 MB 9.9 MB/s eta 0:00:01\r\u001b[K     |█████████████████████▏          | 1.1 MB 9.9 MB/s eta 0:00:01\r\u001b[K     |█████████████████████▎          | 1.1 MB 9.9 MB/s eta 0:00:01\r\u001b[K     |█████████████████████▌          | 1.1 MB 9.9 MB/s eta 0:00:01\r\u001b[K     |█████████████████████▊          | 1.1 MB 9.9 MB/s eta 0:00:01\r\u001b[K     |██████████████████████          | 1.1 MB 9.9 MB/s eta 0:00:01\r\u001b[K     |██████████████████████▏         | 1.1 MB 9.9 MB/s eta 0:00:01\r\u001b[K     |██████████████████████▍         | 1.1 MB 9.9 MB/s eta 0:00:01\r\u001b[K     |██████████████████████▌         | 1.1 MB 9.9 MB/s eta 0:00:01\r\u001b[K     |██████████████████████▊         | 1.1 MB 9.9 MB/s eta 0:00:01\r\u001b[K     |███████████████████████         | 1.2 MB 9.9 MB/s eta 0:00:01\r\u001b[K     |███████████████████████▏        | 1.2 MB 9.9 MB/s eta 0:00:01\r\u001b[K     |███████████████████████▍        | 1.2 MB 9.9 MB/s eta 0:00:01\r\u001b[K     |███████████████████████▌        | 1.2 MB 9.9 MB/s eta 0:00:01\r\u001b[K     |███████████████████████▊        | 1.2 MB 9.9 MB/s eta 0:00:01\r\u001b[K     |████████████████████████        | 1.2 MB 9.9 MB/s eta 0:00:01\r\u001b[K     |████████████████████████▏       | 1.2 MB 9.9 MB/s eta 0:00:01\r\u001b[K     |████████████████████████▍       | 1.2 MB 9.9 MB/s eta 0:00:01\r\u001b[K     |████████████████████████▋       | 1.2 MB 9.9 MB/s eta 0:00:01\r\u001b[K     |████████████████████████▊       | 1.2 MB 9.9 MB/s eta 0:00:01\r\u001b[K     |█████████████████████████       | 1.3 MB 9.9 MB/s eta 0:00:01\r\u001b[K     |█████████████████████████▏      | 1.3 MB 9.9 MB/s eta 0:00:01\r\u001b[K     |█████████████████████████▍      | 1.3 MB 9.9 MB/s eta 0:00:01\r\u001b[K     |█████████████████████████▋      | 1.3 MB 9.9 MB/s eta 0:00:01\r\u001b[K     |█████████████████████████▉      | 1.3 MB 9.9 MB/s eta 0:00:01\r\u001b[K     |██████████████████████████      | 1.3 MB 9.9 MB/s eta 0:00:01\r\u001b[K     |██████████████████████████▏     | 1.3 MB 9.9 MB/s eta 0:00:01\r\u001b[K     |██████████████████████████▍     | 1.3 MB 9.9 MB/s eta 0:00:01\r\u001b[K     |██████████████████████████▋     | 1.3 MB 9.9 MB/s eta 0:00:01\r\u001b[K     |██████████████████████████▉     | 1.4 MB 9.9 MB/s eta 0:00:01\r\u001b[K     |███████████████████████████     | 1.4 MB 9.9 MB/s eta 0:00:01\r\u001b[K     |███████████████████████████▏    | 1.4 MB 9.9 MB/s eta 0:00:01\r\u001b[K     |███████████████████████████▍    | 1.4 MB 9.9 MB/s eta 0:00:01\r\u001b[K     |███████████████████████████▋    | 1.4 MB 9.9 MB/s eta 0:00:01\r\u001b[K     |███████████████████████████▉    | 1.4 MB 9.9 MB/s eta 0:00:01\r\u001b[K     |████████████████████████████    | 1.4 MB 9.9 MB/s eta 0:00:01\r\u001b[K     |████████████████████████████▏   | 1.4 MB 9.9 MB/s eta 0:00:01\r\u001b[K     |████████████████████████████▍   | 1.4 MB 9.9 MB/s eta 0:00:01\r\u001b[K     |████████████████████████████▋   | 1.4 MB 9.9 MB/s eta 0:00:01\r\u001b[K     |████████████████████████████▉   | 1.5 MB 9.9 MB/s eta 0:00:01\r\u001b[K     |█████████████████████████████   | 1.5 MB 9.9 MB/s eta 0:00:01\r\u001b[K     |█████████████████████████████▎  | 1.5 MB 9.9 MB/s eta 0:00:01\r\u001b[K     |█████████████████████████████▍  | 1.5 MB 9.9 MB/s eta 0:00:01\r\u001b[K     |█████████████████████████████▋  | 1.5 MB 9.9 MB/s eta 0:00:01\r\u001b[K     |█████████████████████████████▉  | 1.5 MB 9.9 MB/s eta 0:00:01\r\u001b[K     |██████████████████████████████  | 1.5 MB 9.9 MB/s eta 0:00:01\r\u001b[K     |██████████████████████████████▎ | 1.5 MB 9.9 MB/s eta 0:00:01\r\u001b[K     |██████████████████████████████▌ | 1.5 MB 9.9 MB/s eta 0:00:01\r\u001b[K     |██████████████████████████████▋ | 1.5 MB 9.9 MB/s eta 0:00:01\r\u001b[K     |██████████████████████████████▉ | 1.6 MB 9.9 MB/s eta 0:00:01\r\u001b[K     |███████████████████████████████ | 1.6 MB 9.9 MB/s eta 0:00:01\r\u001b[K     |███████████████████████████████▎| 1.6 MB 9.9 MB/s eta 0:00:01\r\u001b[K     |███████████████████████████████▌| 1.6 MB 9.9 MB/s eta 0:00:01\r\u001b[K     |███████████████████████████████▊| 1.6 MB 9.9 MB/s eta 0:00:01\r\u001b[K     |███████████████████████████████▉| 1.6 MB 9.9 MB/s eta 0:00:01\r\u001b[K     |████████████████████████████████| 1.6 MB 9.9 MB/s \n",
            "\u001b[?25hRequirement already satisfied: wheel>=0.23.0 in /usr/local/lib/python3.7/dist-packages (from pyLDAvis==2.1.2) (0.37.0)\n",
            "Requirement already satisfied: numpy>=1.9.2 in /usr/local/lib/python3.7/dist-packages (from pyLDAvis==2.1.2) (1.19.5)\n",
            "Requirement already satisfied: scipy>=0.18.0 in /usr/local/lib/python3.7/dist-packages (from pyLDAvis==2.1.2) (1.4.1)\n",
            "Requirement already satisfied: pandas>=0.17.0 in /usr/local/lib/python3.7/dist-packages (from pyLDAvis==2.1.2) (1.2.0)\n",
            "Requirement already satisfied: joblib>=0.8.4 in /usr/local/lib/python3.7/dist-packages (from pyLDAvis==2.1.2) (1.0.1)\n",
            "Requirement already satisfied: jinja2>=2.7.2 in /usr/local/lib/python3.7/dist-packages (from pyLDAvis==2.1.2) (2.11.3)\n",
            "Requirement already satisfied: numexpr in /usr/local/lib/python3.7/dist-packages (from pyLDAvis==2.1.2) (2.7.3)\n",
            "Requirement already satisfied: pytest in /usr/local/lib/python3.7/dist-packages (from pyLDAvis==2.1.2) (3.6.4)\n",
            "Requirement already satisfied: future in /usr/local/lib/python3.7/dist-packages (from pyLDAvis==2.1.2) (0.16.0)\n",
            "Collecting funcy\n",
            "  Downloading funcy-1.16-py2.py3-none-any.whl (32 kB)\n",
            "Requirement already satisfied: MarkupSafe>=0.23 in /usr/local/lib/python3.7/dist-packages (from jinja2>=2.7.2->pyLDAvis==2.1.2) (2.0.1)\n",
            "Requirement already satisfied: python-dateutil>=2.7.3 in /usr/local/lib/python3.7/dist-packages (from pandas>=0.17.0->pyLDAvis==2.1.2) (2.8.2)\n",
            "Requirement already satisfied: pytz>=2017.3 in /usr/local/lib/python3.7/dist-packages (from pandas>=0.17.0->pyLDAvis==2.1.2) (2018.9)\n",
            "Requirement already satisfied: six>=1.5 in /usr/local/lib/python3.7/dist-packages (from python-dateutil>=2.7.3->pandas>=0.17.0->pyLDAvis==2.1.2) (1.15.0)\n",
            "Requirement already satisfied: setuptools in /usr/local/lib/python3.7/dist-packages (from pytest->pyLDAvis==2.1.2) (57.4.0)\n",
            "Requirement already satisfied: more-itertools>=4.0.0 in /usr/local/lib/python3.7/dist-packages (from pytest->pyLDAvis==2.1.2) (8.10.0)\n",
            "Requirement already satisfied: atomicwrites>=1.0 in /usr/local/lib/python3.7/dist-packages (from pytest->pyLDAvis==2.1.2) (1.4.0)\n",
            "Requirement already satisfied: attrs>=17.4.0 in /usr/local/lib/python3.7/dist-packages (from pytest->pyLDAvis==2.1.2) (21.2.0)\n",
            "Requirement already satisfied: py>=1.5.0 in /usr/local/lib/python3.7/dist-packages (from pytest->pyLDAvis==2.1.2) (1.10.0)\n",
            "Requirement already satisfied: pluggy<0.8,>=0.5 in /usr/local/lib/python3.7/dist-packages (from pytest->pyLDAvis==2.1.2) (0.7.1)\n",
            "Building wheels for collected packages: pyLDAvis\n",
            "  Building wheel for pyLDAvis (setup.py) ... \u001b[?25l\u001b[?25hdone\n",
            "  Created wheel for pyLDAvis: filename=pyLDAvis-2.1.2-py2.py3-none-any.whl size=97738 sha256=cf9d79aa51cd7d0fc4669dba72d745838f2e0f320a9fdcea3aafe3e284298e15\n",
            "  Stored in directory: /root/.cache/pip/wheels/3b/fb/41/e32e5312da9f440d34c4eff0d2207b46dc9332a7b931ef1e89\n",
            "Successfully built pyLDAvis\n",
            "Installing collected packages: funcy, pyLDAvis\n",
            "Successfully installed funcy-1.16 pyLDAvis-2.1.2\n"
          ]
        }
      ]
    },
    {
      "cell_type": "code",
      "metadata": {
        "colab": {
          "base_uri": "https://localhost:8080/"
        },
        "id": "y0--2lPLmTDW",
        "outputId": "e7c715cd-9207-409e-ed44-a9b9cad94823"
      },
      "source": [
        "!pip install gensim"
      ],
      "execution_count": null,
      "outputs": [
        {
          "output_type": "stream",
          "name": "stdout",
          "text": [
            "Requirement already satisfied: gensim in /usr/local/lib/python3.7/dist-packages (3.6.0)\n",
            "Requirement already satisfied: numpy>=1.11.3 in /usr/local/lib/python3.7/dist-packages (from gensim) (1.19.5)\n",
            "Requirement already satisfied: smart-open>=1.2.1 in /usr/local/lib/python3.7/dist-packages (from gensim) (5.2.1)\n",
            "Requirement already satisfied: scipy>=0.18.1 in /usr/local/lib/python3.7/dist-packages (from gensim) (1.4.1)\n",
            "Requirement already satisfied: six>=1.5.0 in /usr/local/lib/python3.7/dist-packages (from gensim) (1.15.0)\n"
          ]
        }
      ]
    },
    {
      "cell_type": "code",
      "metadata": {
        "id": "cgLablWtf3ez"
      },
      "source": [
        "# Importing modules\n",
        "import pandas as pd\n",
        "import os\n",
        "os.chdir('..')"
      ],
      "execution_count": null,
      "outputs": []
    },
    {
      "cell_type": "code",
      "metadata": {
        "colab": {
          "base_uri": "https://localhost:8080/"
        },
        "id": "LrkAHrF4gPVN",
        "outputId": "1e78fcc8-134c-4de8-dee3-55f2f9a3208f"
      },
      "source": [
        "from google.colab import drive\n",
        "drive.mount('/content/drive')"
      ],
      "execution_count": null,
      "outputs": [
        {
          "output_type": "stream",
          "name": "stdout",
          "text": [
            "Mounted at /content/drive\n"
          ]
        }
      ]
    },
    {
      "cell_type": "code",
      "metadata": {
        "id": "qLZyktwxgMUL"
      },
      "source": [
        "# Read data into papers\n",
        "papers = pd.read_csv(filepath_or_buffer=\"/content/drive/MyDrive/Colab Notebooks/Test/data.csv\")"
      ],
      "execution_count": null,
      "outputs": []
    },
    {
      "cell_type": "code",
      "metadata": {
        "id": "pPHUCqAygr55",
        "colab": {
          "base_uri": "https://localhost:8080/",
          "height": 204
        },
        "outputId": "1352edfb-65e6-4e07-b22a-268b22f23da9"
      },
      "source": [
        "# Print head\n",
        "papers.head()"
      ],
      "execution_count": null,
      "outputs": [
        {
          "output_type": "execute_result",
          "data": {
            "text/html": [
              "<div>\n",
              "<style scoped>\n",
              "    .dataframe tbody tr th:only-of-type {\n",
              "        vertical-align: middle;\n",
              "    }\n",
              "\n",
              "    .dataframe tbody tr th {\n",
              "        vertical-align: top;\n",
              "    }\n",
              "\n",
              "    .dataframe thead th {\n",
              "        text-align: right;\n",
              "    }\n",
              "</style>\n",
              "<table border=\"1\" class=\"dataframe\">\n",
              "  <thead>\n",
              "    <tr style=\"text-align: right;\">\n",
              "      <th></th>\n",
              "      <th>Комментарий</th>\n",
              "      <th>Пол (0 - м, 1 - ж)</th>\n",
              "    </tr>\n",
              "  </thead>\n",
              "  <tbody>\n",
              "    <tr>\n",
              "      <th>0</th>\n",
              "      <td>Мой муж пока не работает, 2 месяца уже ищет ра...</td>\n",
              "      <td>1</td>\n",
              "    </tr>\n",
              "    <tr>\n",
              "      <th>1</th>\n",
              "      <td>Поэтому я и не спешу замуж😆</td>\n",
              "      <td>1</td>\n",
              "    </tr>\n",
              "    <tr>\n",
              "      <th>2</th>\n",
              "      <td>😀 Зато замужем.</td>\n",
              "      <td>1</td>\n",
              "    </tr>\n",
              "    <tr>\n",
              "      <th>3</th>\n",
              "      <td>Помогает. Инициативы не проявляет, но делает в...</td>\n",
              "      <td>1</td>\n",
              "    </tr>\n",
              "    <tr>\n",
              "      <th>4</th>\n",
              "      <td>У меня работает на двух работах и успевает мне...</td>\n",
              "      <td>1</td>\n",
              "    </tr>\n",
              "  </tbody>\n",
              "</table>\n",
              "</div>"
            ],
            "text/plain": [
              "                                         Комментарий  Пол (0 - м, 1 - ж)\n",
              "0  Мой муж пока не работает, 2 месяца уже ищет ра...                   1\n",
              "1                        Поэтому я и не спешу замуж😆                   1\n",
              "2                                    😀 Зато замужем.                   1\n",
              "3  Помогает. Инициативы не проявляет, но делает в...                   1\n",
              "4  У меня работает на двух работах и успевает мне...                   1"
            ]
          },
          "metadata": {},
          "execution_count": 7
        }
      ]
    },
    {
      "cell_type": "markdown",
      "metadata": {
        "id": "U-sDLMljhHd5"
      },
      "source": [
        "##Step 2: Data Cleaning "
      ]
    },
    {
      "cell_type": "code",
      "metadata": {
        "id": "VKAMSsCohQv2"
      },
      "source": [
        "# Remove the columns\n",
        "papers = papers.drop(columns=['Пол (0 - м, 1 - ж)'], axis=1).sample(100)"
      ],
      "execution_count": null,
      "outputs": []
    },
    {
      "cell_type": "code",
      "metadata": {
        "id": "K-3tVhZShoUM",
        "colab": {
          "base_uri": "https://localhost:8080/",
          "height": 204
        },
        "outputId": "25682b42-30c0-4337-de2c-6178ef0914f5"
      },
      "source": [
        "# Print out the first rows of papers\n",
        "papers.head()"
      ],
      "execution_count": null,
      "outputs": [
        {
          "output_type": "execute_result",
          "data": {
            "text/html": [
              "<div>\n",
              "<style scoped>\n",
              "    .dataframe tbody tr th:only-of-type {\n",
              "        vertical-align: middle;\n",
              "    }\n",
              "\n",
              "    .dataframe tbody tr th {\n",
              "        vertical-align: top;\n",
              "    }\n",
              "\n",
              "    .dataframe thead th {\n",
              "        text-align: right;\n",
              "    }\n",
              "</style>\n",
              "<table border=\"1\" class=\"dataframe\">\n",
              "  <thead>\n",
              "    <tr style=\"text-align: right;\">\n",
              "      <th></th>\n",
              "      <th>Комментарий</th>\n",
              "    </tr>\n",
              "  </thead>\n",
              "  <tbody>\n",
              "    <tr>\n",
              "      <th>50</th>\n",
              "      <td>Скажите ему, что в таком случае добывать деньг...</td>\n",
              "    </tr>\n",
              "    <tr>\n",
              "      <th>158</th>\n",
              "      <td>Муж не должен \"помогать\", он должен нести таку...</td>\n",
              "    </tr>\n",
              "    <tr>\n",
              "      <th>179</th>\n",
              "      <td>нет конечно. Муж сам должен все вывозить.</td>\n",
              "    </tr>\n",
              "    <tr>\n",
              "      <th>200</th>\n",
              "      <td>ЖЕНЩИНА НИЧЕГО НИКОМУ НЕ ДОЛЖНА</td>\n",
              "    </tr>\n",
              "    <tr>\n",
              "      <th>69</th>\n",
              "      <td>Интересно! Вы замужем или в поисках прынца?</td>\n",
              "    </tr>\n",
              "  </tbody>\n",
              "</table>\n",
              "</div>"
            ],
            "text/plain": [
              "                                           Комментарий\n",
              "50   Скажите ему, что в таком случае добывать деньг...\n",
              "158  Муж не должен \"помогать\", он должен нести таку...\n",
              "179          нет конечно. Муж сам должен все вывозить.\n",
              "200                    ЖЕНЩИНА НИЧЕГО НИКОМУ НЕ ДОЛЖНА\n",
              "69         Интересно! Вы замужем или в поисках прынца?"
            ]
          },
          "metadata": {},
          "execution_count": 9
        }
      ]
    },
    {
      "cell_type": "markdown",
      "metadata": {
        "id": "PGLfNYBJh8aB"
      },
      "source": [
        "**Remove punctuation/lower casing**"
      ]
    },
    {
      "cell_type": "code",
      "metadata": {
        "id": "7P3u92I7h9Wm"
      },
      "source": [
        "# Load the regular expression library\n",
        "import re"
      ],
      "execution_count": null,
      "outputs": []
    },
    {
      "cell_type": "code",
      "metadata": {
        "id": "3q2eKW6th_wH"
      },
      "source": [
        "# Remove punctuation\n",
        "papers['Комментарий_processed'] = \\\n",
        "papers['Комментарий'].map(lambda x: re.sub('[,\\.!?]', '', x))"
      ],
      "execution_count": null,
      "outputs": []
    },
    {
      "cell_type": "code",
      "metadata": {
        "id": "ucVD9SwLiDk4"
      },
      "source": [
        "# Convert the titles to lowercase\n",
        "papers['Комментарий_processed'] = \\\n",
        "papers['Комментарий_processed'].map(lambda x: x.lower())"
      ],
      "execution_count": null,
      "outputs": []
    },
    {
      "cell_type": "code",
      "metadata": {
        "colab": {
          "base_uri": "https://localhost:8080/"
        },
        "id": "5eC9i_C0iF-t",
        "outputId": "ec67db46-c995-4431-e07f-9802463adf29"
      },
      "source": [
        "# Print out the first rows of papers\n",
        "papers['Комментарий_processed'].head()"
      ],
      "execution_count": null,
      "outputs": [
        {
          "output_type": "execute_result",
          "data": {
            "text/plain": [
              "50     скажите ему что в таком случае добывать деньги...\n",
              "158    муж не должен \"помогать\" он должен нести такую...\n",
              "179              нет конечно муж сам должен все вывозить\n",
              "200                      женщина ничего никому не должна\n",
              "69             интересно вы замужем или в поисках прынца\n",
              "Name: Комментарий_processed, dtype: object"
            ]
          },
          "metadata": {},
          "execution_count": 13
        }
      ]
    },
    {
      "cell_type": "markdown",
      "metadata": {
        "id": "GEu5vzS6iTQb"
      },
      "source": [
        "##Step 3: Exploratory Analysis"
      ]
    },
    {
      "cell_type": "code",
      "metadata": {
        "colab": {
          "base_uri": "https://localhost:8080/"
        },
        "id": "9TGK4AzaLf_m",
        "outputId": "8be5261c-9a54-4695-ad20-7ec6d1b2598d"
      },
      "source": [
        "!pip install pymorphy2"
      ],
      "execution_count": null,
      "outputs": [
        {
          "output_type": "stream",
          "name": "stdout",
          "text": [
            "Collecting pymorphy2\n",
            "  Downloading pymorphy2-0.9.1-py3-none-any.whl (55 kB)\n",
            "\u001b[?25l\r\u001b[K     |██████                          | 10 kB 19.2 MB/s eta 0:00:01\r\u001b[K     |███████████▉                    | 20 kB 25.5 MB/s eta 0:00:01\r\u001b[K     |█████████████████▊              | 30 kB 14.3 MB/s eta 0:00:01\r\u001b[K     |███████████████████████▋        | 40 kB 11.1 MB/s eta 0:00:01\r\u001b[K     |█████████████████████████████▌  | 51 kB 8.9 MB/s eta 0:00:01\r\u001b[K     |████████████████████████████████| 55 kB 2.4 MB/s \n",
            "\u001b[?25hRequirement already satisfied: docopt>=0.6 in /usr/local/lib/python3.7/dist-packages (from pymorphy2) (0.6.2)\n",
            "Collecting dawg-python>=0.7.1\n",
            "  Downloading DAWG_Python-0.7.2-py2.py3-none-any.whl (11 kB)\n",
            "Collecting pymorphy2-dicts-ru<3.0,>=2.4\n",
            "  Downloading pymorphy2_dicts_ru-2.4.417127.4579844-py2.py3-none-any.whl (8.2 MB)\n",
            "\u001b[K     |████████████████████████████████| 8.2 MB 10.9 MB/s \n",
            "\u001b[?25hInstalling collected packages: pymorphy2-dicts-ru, dawg-python, pymorphy2\n",
            "Successfully installed dawg-python-0.7.2 pymorphy2-0.9.1 pymorphy2-dicts-ru-2.4.417127.4579844\n"
          ]
        }
      ]
    },
    {
      "cell_type": "code",
      "metadata": {
        "id": "pZwjn95PiXfi",
        "colab": {
          "base_uri": "https://localhost:8080/"
        },
        "outputId": "701ff7e4-040a-4b20-f938-e01360d72680"
      },
      "source": [
        "# Import the wordcloud library\n",
        "from wordcloud import WordCloud\n",
        "import nltk\n",
        "nltk.download('stopwords')\n",
        "from nltk.corpus import stopwords\n"
      ],
      "execution_count": null,
      "outputs": [
        {
          "output_type": "stream",
          "name": "stdout",
          "text": [
            "[nltk_data] Downloading package stopwords to /root/nltk_data...\n",
            "[nltk_data]   Unzipping corpora/stopwords.zip.\n"
          ]
        }
      ]
    },
    {
      "cell_type": "code",
      "metadata": {
        "id": "d5FC9hcCLivk"
      },
      "source": [
        "import pymorphy2\n",
        "morph = pymorphy2.MorphAnalyzer()"
      ],
      "execution_count": null,
      "outputs": []
    },
    {
      "cell_type": "code",
      "metadata": {
        "id": "6mlvmuh0Lk1x"
      },
      "source": [
        "def lemmatize(text):\n",
        "    words = text.split() # разбиваем текст на слова\n",
        "    res = list()\n",
        "    for word in words:\n",
        "        p = morph.parse(word)[0]\n",
        "        res.append(p.normal_form)\n",
        "\n",
        "    return res"
      ],
      "execution_count": null,
      "outputs": []
    },
    {
      "cell_type": "code",
      "metadata": {
        "id": "Wl6cwA-tiYpB"
      },
      "source": [
        "# Join the different processed titles together.\n",
        "long_string = ','.join(list(papers['Комментарий_processed'].values))"
      ],
      "execution_count": null,
      "outputs": []
    },
    {
      "cell_type": "code",
      "metadata": {
        "id": "X98ruSqbLo0l"
      },
      "source": [
        "lemmatized_output = ' '.join([lemmatizer.lemmatize(w) for w in (lemmatize(long_string))])"
      ],
      "execution_count": null,
      "outputs": []
    },
    {
      "cell_type": "code",
      "metadata": {
        "colab": {
          "base_uri": "https://localhost:8080/",
          "height": 122
        },
        "id": "RIDTguBXL0wv",
        "outputId": "62db095e-674c-478d-df6f-55de80465996"
      },
      "source": [
        "lemmatized_output"
      ],
      "execution_count": null,
      "outputs": [
        {
          "output_type": "execute_result",
          "data": {
            "application/vnd.google.colaboratory.intrinsic+json": {
              "type": "string"
            },
            "text/plain": [
              "'сказать он что в такой случай добывать деньга – это мужской обязанность и уходить с работы,муж не должный \"помогать\" он должный нести такой же ответственность за дом как и вы в ваш случай он должный взять всё домашний дело на себя тк он не работать и это не обсуждаться но если вы ловить кайф от унижение и страдание - ваш право,нуть конечно муж сам должный всё вывозить,женщина ничего никто не должна,интересный вы замужем или в поиск прынца,проснуться с утрец сготовить на скорый рука завтрак попить с муж кофеёк проводить спокойно на работа привести себя в порядок сфотографировать в зеркало губы-уточка отправить муж ммс поехать на служба поработать работа пара раз написать он что он самый хороший на земля и вечером он ждать сюрпрайза поехать к подруга попить с они чай по дорога в магазин купить еда и новый трус приехать домой сварить суп накормить муж достать рукоделие - 30 минута релакс дать он время морально подготовиться к сюрприз загадочно иногда поднимать на он глаз после весь любовь в душа и спать,личный я нравиться готовить практически каждый день это заниматься жена и ребёнок довольный честно говорить у мужчина это хороший получаться неспроста в ресторан весь мир повар – это мужчина понятно что на ваш муж оказывать воздействие слово родитель наверное оградить они от муж у вы не получиться да и незачем это делать стараться частый хвалить он высказывать комплимент по повод он кулинарный талант мужчина любить получать комплимент не маленький женщинsmiling face with smiling eyes,книжка с правило не существовать всё индивидуально мочь поговорить о это с ваш мужчина он точнее мы весь вы ответить на вопросы,ничий не должный мочь что-то сделать по желание но как таковой обязанность у я нет главное чтоб кормёжка быть всегда не важно при чем из ресторан заказать или готовый купить или сам приготовить а ещё желательно быть в хороший настроение но я и так в хороший всегда если у мы кто и ворчать бывать так это муж а так не работать встречать муж в шёлковый кружевной бельё бывать с бокальчик вино и салатик и виноград не знать что еще,автор сказать тогда он что обеспечивать семью-это мужской обязанность и увольняться с работа бессовестный он у вы просто и наглый зачем такой нужен,приучать к помощь по дом не делать ничего и не готовьте,ть жить на кавказ весь насмотреться кавказец отличный самопиарщик постоянный рассказ какой они обеспечун какой невероятный героический храбрец но в жизнь не так всё по-разному в тот же дагестан нередко можно встретить м зарабатывать копейка жить на женин или родительский зарплата но понт при это ого-го окружающие рассказывать что он главный добытчик, я бывший муж хороший немного себя вести посуда мыло и готовить частенько даже подметать и то тяжело быть с они в быт так как свинячить тоже много сейчас один жить и горе не знать забыть что такой упахиваться по хозяйство хотеть халва есть хотеть пряник )) теперь новый муж искать так сразу в анкета на сз написать что не готовить убирать уборщица деньга не зарабатывать сразу чтобы отсекать весь халявщик и любитель бесплатный прислуга в следующий брак если пойти то только на тот условие что я делать что-то только когда у я на это есть сила и желание,многий так считать тогда жена должный сидеть дом и делать домашний делаа муж зарабатывать деньгиа если обра работать тогда должный помогать друг другаа если муж сидеть дом то тем более, гастрит нужно лечить тем более в 90% случай он бактериальный если вы оба работать и одинаково зарабатывать а муж работать по дом 5 день в неделя а вы весь 2 день то где справедливость работать по дом одинаково неудивительный что у муж появиться к вы претензии,вечер покушать в кафешка и домой отдыхатьня забыть для себя что нибыть купить для бутерброд к чаюутром позавтракать и на работуть обед где нибыть покушайте,автор у вы слишком дорога в обслуживание фаллоимитатор по квартира валяется,разуметься помогать работать оба в разня смена посуда мыть глажка вообще на немить так не отгладить мочь пропылесосить с ребёнок так же помогать единственный что он не делает-ич готовить он стараться но гадость редкостный и перевод продукт ну и не консервивовать на зима продукт остальной вопросы-кто выходной тот и убирать работать разумеется оба,\"муж быть говорить что жена мочь не красавица но умница и всё понимает\" ах вот оно что вы не повезти с внешность правильно себя подавать так и не научиться поэтому наслать в муж безрукий придурок который можно усмирить дешёвый манипуляция от это счастта обзавидоваться можно ваш дело но не надо свой дурной пример преподносить как истина хвалить человек надо лишь тогда когда он это заслужить женщина 21 век который утверждать что без мужчина ваш пропасть - дебилка и любой нормальный мужчина услышать такой должный не умиляться а сразу же разорвать такой отношение ибо это клиника,так ты и надо а мужчина браво некоторый женщина по жизнь страдалица ну вот и пример,автор вы тоже мусульманка вы за он выдать вы в заглавный пост пропустить очень важный деталь а они как раз мочь объяснить как вы оказаться в этот дикий ситуация но если вы жить где-нибудь на кавказ то ситуация сразу становиться не дикий а обычной,автор вы служанка муж вы не любить и самый печальный что даже скрывать это не пытаться он жениться для свой удобство и считать что сделать вы глупый баба это одолжение ни один любящий человек не быть сидеть дом и ждать когда он прийти накормить он просто издеваться а вы молчать 4 месяц развивать невроз далёкий быть только хуже,ич знать я наоборот видеть состоятельный мужчина из мусульманский семья который и дом не гнушаться что угодный по хозяйство сделать что пол помыть что посуда что постирать погладить от человек зависеть когда не лентяй и не эгоист то всё делать легко а у автор муж эгоист, мужской обязанность деньга приносить раз готовка только на вы так и сказать ему,4 месяц женатый из они 2 муж не работать бежать от он девчуля пока не поздно он никогда не быть работать далёкий быть только плохой ты превратиться в старуха в 35 год в итог он ты бросить и найти другой дурочка только молодой а ты сказать напоследок что ты он не понимать и не поддерживать а он \"искать себя\",мн муж не помогать он выполнять свой порция бытовой обязанность по дом так как мы оба работать то это не менее 50% выходить быть период когда он сократить и он мочь позволить себя почти год не работать что частично совпасть с мой декрет когда я ещё работать - он в дом много что сделать успеть - ремень два комната (у мы дом) встроить шкаф казать для цвет в сад встречать всегда на машина с станция дом уже быть горячий ужин когда подтаять первый 2-3 месяц я только кормить и спасть он обеспечивать полностью трёхразовый сбалансированный питание не понимать зачем жить с муж который вы на шея садиться ,развестись пусть он мама и далёкий няньчит,ич как обычнопойти сам завтрак готовить кофе в постель я заполучить не суждено,ич в первый за то что не лез😄 а через десять год уже быть достойный результат первый результат вы получить практически сразу ваш милый сразу же добровольно быть пытаться вы помочь ну а как у он это быть получаться - второй вопрос тут уже учить надо москва не сразу строилаьс,блин зачем такой огород городить ради закончить летний и эгоист это обязать быть сделать он родитель а девушка не обязать бросать такой нужно и всё,так выходить что выйти замуж родить = рабство на год и год зато мужть вопить что баба не человек а прислуга царь жениться можно лежать на диван и не работать,закать такой муж,😀 зато замужем,ть бы выгнать зачем автор это домашний животное простой котик завести они маленький гадить и более благодарный хоть не быть пить бить и водить в квартира кошка пока автор на работа )),д вы что это совковый терпила никак иначе низзить цель жизнь - быстрый выскочить замуж за первый попасться *** и этот жизнь положить на то чтобы *** приобрести хоть какой то человеческий облик ну хотя бы на пол не плевало:),абсолютный верно - запомнидевочка так быть всегда а чем далёкий тем он плохой быть себя вести он ты не любить и не жалеет,по ход ваш муж 10 год по крайне мера он поведение о это говорить интересно а за суп он вы тоже хвалить и за вымыть посуда и за постирать одежду,быть только плохой сложно переучить,поть что сначала тащить весь правда и неправда в загс xeр понять кто и зачем а потом оказываться что он и не собираться впрягаться а как вы думать-то они считать что и так огромный одолжение сделали, вы сокровище а не мужгде такой наслать адрес не подскажите,квартира он как только жениться сразу уволиться и отдыхать замечательный устроиться ,идиот женщина выходить ранний потому что гробить здоровье род и после климакс - где-то как раз к 55 у многий возникать серьёзный заболевания:(( домашний хозяйство тут абсолютно ни при чем никто ты обслуживать якобы ввиду более ранний выход на пенсия не обязан, зачем он работать уже есть деньго-добывальщик и это ты зачем он что-то по дом делать ты всё это делать ты сам создать мужик всё условие чтоб он бездельничать жирный пятно на диван сынок себя завести так быть всегда работать он не собираться так что ты решать развод или и далёкий здоровый мужик - не инвалид на себе,смотреть не подавиться свой желчью,помогать инициатива не проявлять но делать всё о чем просить и сын приучить помогать,ий деньга общий деньга твой деньга только твой поэтому тратить деньга только на себя и ребёнок а он не кормить ничего он не покупай,нака жить с мужик если он не работает,так и в россия повар в ресторан всегда мужчины,нуть такой понятие должный или не должный всё зависеть от воспитание национальный традиция характер и привычка у оба супруг кто то западло быть в сила воспитание кто то напротив только рад помочь главное что бы муж и жена это устраивало,потратить жизнь на то чтобы перевоспитывать взрослый мужик да ещё такой дебильный манипуляция с себя сам не смешно клинический дура ещё и совет раздавать чтоб и другой на этот цирк жизнь просрали ага правильный совет тут один-единственный - заявление о развод и возврат корзиночка маманя бывало время когда я работать совсем мало; но муж всегда и мыть посуда и готовить и убирать так же как и я плюс тащить сумка из магазин с какой хрен взрослый дееспособный человек должный кто-то обслуживать вместе жить вместе тянуть быт в современный здоровый семья иначе быть не мочь с тем кто что-то вякать про \"женский обязанности\" разговаривать не о чем,зачем вы ребёнок у вы уже есть один он вы свекровь родила,просто ваш муж такой есть склонность помогать и любовь к вы а мой на такой слово говорить что не подлизываться я лесть не обмануть и продолжать лежать на диван вообще когда хороший большой чем недостаток тогда конечно да главное любовь и уважение в семья тогда и разбросать носка любимый быть с умиление поднимать и к грудь нежно прижимать нести стирать это когда любимый и сам очень много для жена делать а когда трутень как у автор ещё и нагло рассуждать что такой женский обязанность то скалка он заехать вместо борща,ть как то прийти домой посуда грязный на раковина всё в мусорк викинуть большой муж грязный посуда не оставлять ,ну и зачем вы это барахло вместо мужа, мы в семья работать я муж смотреть за маленький ребёнок и дом соответственно готовить он и уборка за ним,ну-ну я знать один такой приехать в гость с муж два день за суп хвалить потом узнать варить то жена а хвалить то муж за всё что дом ни сделать жена хвалить день 2-3 да и секс подавать по высокий разряд вообщий плюнуть жена и сам всё тащить так что опоздать вы с совет подходить он для ребёнок год пять а для взрослых****** вообщий извинить го\\\\в\\\\ный совет,касать тема форум мой мнение - муж должный разделять труд и забота о семья ни в кой случай не считать - что это можно называть обязанность обязанность это у мы на работа а в семья никакой обязанность не должный быть поэтому семья всегда быть и оставаться отдельный самый главный жизненный институт общество где член семья такой какой есть полный взаимопонимание абсолютный поддержка гармония и никакой обман предательство и лжи,гнать он в шея если женщина работаетто обязанность по дом должный быть общимиа в данный случай раз муж не работать то пусть сам по дом и карячится,ваш в дать ситуация обязать вообще всё делать не то что помогать((,совдеп,спросить нормально помочь если игнорируетто перестать делать дело по дом посуда грязный в раковине- оставить пусть лежать себя приготовить ужин и сам съесть если он хочетто мочь он бутереть намазать сказать что устать к сожаление некоторый просто не понимать намёк у я быть знакомый мочь в свинарник житьтип кеттать разлиться на пол он этот лужица обходить вокруг посуда грязный оставлять пока опарыш в она не заводиться курить в ванная и бычок раскладывать по периметр и они потом вонять не квартира быть а свинарник жениться потом на такой же дама у они 2 ребёнок в такой антисанитария живут,ести работа подом - это женский обязанность то обязанность мужик - содержать семья он выполнять свой обязанности,спрашивать что делать ответ очевиден: ничего ничего абсолютно от слово совсем - ничего утром уходить на работа говорить чётко и ясно: пропылесосить пол помыть ванна сварить бульон для борщ и почистить картошка возвращаться - на пол грязь ванна грязный бульон нет - идти выносить мусор по путь заходить в близкий кафе и заказывать плотный ужин на вопрос муж когда быть кушать отвечаете: бульон нет борщ соответственно не быть чем он быть ужинать - не знать у он в распоряжение быть на это целый день если в следующий раз бульон быть готовый а пол остаться грязный начинать пылесосить долго тщательно пылесосить… на приготовление ужин время не остаться вы же завтра на работа делать то что успевать перекусить вы успеть по дорога с работа такой диета должный убедить муж что нужно как то включаться в домашний забота по повод работа тоже самое: оплатить коммуналка купить моющий бытовой химия и новый кофточка - я же на работа нужно выглядеть нормально… это ты всё равно в чем на диван лежать а я целый день на людях…,ма муж помимо основной работа ещё и шабашка заниматься - он квалифицировать электрик но я не о работа когда он приходить делать шабашка ну естественно он мусорить он всегда за себя убирать всегда и вот как-то быть на шабашка у пожилой женщина попросить веник чтобы подмести за себя а она такая:\"ич надо - это женский работа подметать пол \" я она говорю: \"не надо я в семья насаждать свой правило если у вы в порядок вещь при тот что вы еле нога волочь и от астма задыхаться выхватывать веник у мужик из рука - это ваш дело но у мы завести - сам насорить сам и убери\" пробовать переучивать что за прикол - не работать лежать на диван и не мочь за себя посуда помыть ограничивать в финансы готовить что-то очень дешёвый начать возмущаться отвечайте: \" по заслуга и награда по заработок и кормёжка начать зарабатывать хоть как-то соответственно и кормить буду\" не напрягаться так помыть для себя тарелка кружка ложка и прятать чтобы он она не использовать не начать мыть посуда за себя собрать всё в мусорный пакет и на помойка уважать себя от недосып вы себя загнать вы оно надо не такой большой срок ваш совместный проживание на чей территория жить на ваш - ваш правило на он - сваливать от он на съёмный - опять-таки вы платить вы и правило устанавливать из 4-й месяц совместный проживание он 2 искать работа он так долго она быть искать ну а что жена зарабатывать дом всё вылизывать зачем он напрягаться в один прекрасный день мочь какой-нибудь \"барби\" найти у себя в постель рядом с муж от безделье разный мысль в голова лезут,он не измениться не надо оно вы а ребёнок пойти так всё на ваш плечо ляжет,стрекозёл, как насчёт тот что приготовление пища считаться не мужской работой),после прочтение пост о семейный бюджет где кто в что горазд приходить понимание: «в каждый избушка свой погремушки» у мы быть так: когда он не работать а я работать то он готовить убираться по дом кстати очень даже хорошо готовить и убираться сейчас наоборот когда оба быть работать быть договариваться и делить дом обязанность мы так удобно и всё устраивать с муж откровенно поговорить какой разница у кто как это ваш семья должный быть так как вы оба устраивать и если он против то пусть говорить аргумент как есть: «я против чтобы я готовить и убирать хотеть чтобы только ты это занималась» тогда уже и вы сказать свой слово: «раз хотеть classic патриархальный семья тогда я готовить убирать за ребёнок следить а ты работать и полностью семья содержишь»,кий как нравиться если вы оба работать то справедливо занимиться домашний дело вместе у он свой голова на плечо зачем кто то слушать родитель можно сказать что бы не лезть не в свой дело,альфонс очередной автор и вы ещё задумываться о ребёнок да от такой бежать надо с скорость 100 км в час ну как это не помочь жена если она работать а он козёл сидеть дом я бы подумать нужный ли он вообще приспособленец так и быть весь жизнь на себя тянуть всё помощь никакой не будет, ещё домой деньга приносить потом пер муж плясать и опахало обмахиват ну почему бы и на диван булка не парить,ма муж пока не работать 2 месяц уже искать работа я уходить в 7 на работа и приходить в 6 пока поесть в душа - время уже 7-8 пока дело сделать по дом начинать готовить посуда мыть гора и всё у я заканчиваться в 12 ночь а он лежать фильм смотреть спать 5 час и идти на работа не выспаться по дом никогда ничто не помочь женатый мы недавно у они и дом всё мама делать видимо приучить если сказать что-то говорить что это женский обязанность если даже сидеть дом ничего не приготовить покушать и посуда оставить никогда не мыть мы 4 месяц жить вместе а я уже устать когда ребёнок пойти что быть посоветовать что-нибудь ((( девочка помогать ли вы муж по дом #муж #быт #нуженсовет,*** идти он ,мн казаться это возможно только в качество эксперимент исключительно из любовь к наука )),замужем много год причём за человек более обеспечить чем я - квартира он причём он работать большой чем я причём у мы вообще не стоить вопрос о обязанность - кто ранний увидеть тот и сделать поесть - помыть посуда прийти ранний я - приготовить ужин за продукт ходить если вдруг что - убраться в дом без проблема у мы животное так что убирать приходиться часто если для вы человек адекватно ведущий себя в быт и жизнь - прынц то соболезную, кто считаться то даже если кто-то так считать для я это не иметь никакой значение у я наоборот вызывать недоумение мужчина который неспособный приготовить себя еда стоить они жена уехать в деревня на неделя так они мочь с голод помереть а какой \"мужской работа\" по дом у тот кто жить в современный квартирный дом просмотр зомбоящик с баклашка мочегонное спиртное напиток под название пиво,ага классика вдруг война а он уставший:) человек должный умирать в 40 если свой же прямой обязанность (обслуживать себя в быту) на кто-то не свалить :)) супер,ну и быть он она копейка приносить муж мочь на полный щи рассчитывать только когда полностью обеспечивать а так - оба работать - оба шуршать по хозяйству,ть свободный общество нет \"женский обязанностей\" а в традиционный - есть(((, я нет ни какой обязанность муж и я делать всё по желание например у я быть сильный желание пожарить драник и я они пожарила)) если нет желание готовить и не быть иногда муж готовить если я не хотеть например если никто не хотеть бутеры с чаемый едим))) убираться тоже по желание утром муж не провожать завтрак не готовить (когда он работать в офис а я быть дома) всё сам-сам) внешний видеть он одежда заказывать на свой вкус я расти с отчим но всё делать мама и готовить-убирать у мы как-то с муж повестись по желание всё делать муж расти в полный семья у они тоже всё мама делать да и сейчас делать и говорить чтобы я следить за мужем)) завтрак носка чистый обувь чтобы всё быть чик-пук у негоно вот я попасться не такая))),об работать оба дом заниматься закрепить обязанность нет всё по ситуация и наличие время но как показывать практика готовить частый я уборка и закупка большой заниматься мужчина кухня и плита большой я в чистота дерзить ванная сантехник - он короче место мой в дом на кухне:) хотя он очень хорошо готовит,чтый должный делать муж или жена ну как договориться например есть семья где жена серьёзный больной инвалид там на она готовка а уборка мусор стирка итд на муж ну и когда есть возможность то и готовка на немой знать 4 семья где муж готовить значительно хороший жена и когда у он есть время то готовка на немой в выходый точно на немой а есть семья где весь домашние работа вести жена но при это она не рааботакет на сторона она домохозяйка так что как договориться например сейчас на я готовка и технический и сантехнический (в мера способностей) дело завтра быть красить кухня сегодня в магазин за кисточка и краска то есть кроме готовка и стирка по дом есть и другой обязаность они тоже нужно распределить,пинка под срандель такой мудло а вообще мужик до свадьба узнавать нормальный женщины,ч частый мужчина хвалить тем он большой сомневаться в правдивость слов,автор если бы вы не работать то заголовок ваш тема быть бы возмутительный но если ваш муж сидеть дом а вы работать то казаться кто-то надо дать пинок под *** вопрос в тот - куда за дверь или на кухня и к стиралка с швабра решать только вам,обязанность жены: 1) завтрак - это святой 2) обед в судок с себя на работа - желательно 3) следить за здоровье муж - всегда 4) вечером расслабить любой способ 5) следить за тем чтобы хорошо складываться отношение муж и родственник (с оба сторон) 6) контролировать моральный поведение друг муж 7) жена обязать требовать: любовь и уважения,ть с вы полностью согласный а вот он родитель это сложно объяснить:(,этый программа не один день и нужно терпение мой где то через 10 год я заявить что я готовить не уметь тип он хороший готовить убирать неправильно и вообще у он всё это хороший получаться я быть просто счастливый ))) в начало путь не знать как картошка порезать, не за животное а за человек не судьба быть замуж выйти хотя для такой дурында закомплексованный да проблема,ич у татарин с это простой перед приход домой перехватывать перемяч с калмыцкий чаемый войти в квартира в душа и на боковой и так - неделя а грязь потом или вместе убрать если договориться или сам если расстанетесь,удивлять я откуда у русский мужчина это понятие \"мужской - не мужская\" обязанность знать несколько мужчина вырасти в мусульманский культура и тот дом свой жена помогать либо давать деньга на помощница по хозяйство и только наш норовить женщина в 2 смена заставить работать а сам сидеть как царёк какие-то,повториться мы многое не знать если автор дагестанка или таджичка то быть она вместо ломов лошадь до смерть ну а если славянка вляпаться в джигит то только бежать ронять тапка и молиться весь бог что не успеть родить,ть общий после ваш ми-ми-й муж возомнить себя принц датский потом начаться унижение и оскорбление так как не умёха криворукий а потом зачем она я я достойный на хороший и как следствие у жена головной убор в вид рогов браво вы сын воспитывать зачем к муж то относиться как ребёнок повзрослеть и сбежать ,автор но вы же так хотеть замуж что вы пофига быть какой человек ваш муж так что сейчас переживать вы как и хотеть замужем а он как и хотеть женатый а жена в он представление это не человек а во-первых прислуга а во-вторых обеспечун поэтому он отдыхать и она работать а вы ишачить на здоровенный детина помимо ребёнок неплохо быть бы подумать сколько час в день вы мочь потратить на поддержание свой внешность и развитие мозг но вы некогда о это думать потому что вы выбрать быть замужем и убивать себя ежедневно на мужика,в же сам видеть что зашиваться что не высыпаться что вы плохо так какой черта вы это терпеть как у он быть поставить в семья вы не должный волновать а вот как быть в ваш - это вы решать не надо обслуживать неработающий тюлень ставить вопрос ребром: или он начинать вы помогать ( а пока не работать всё делать сам по дому) или отправляться назад под крыло вседелать мама запомните: вы жена а не лошадь,обязать и точка а вот как делить решаться самостоятельно,д не она себя завести там 4 месяц брак там мама так воспитать - изначально поделить работа на женский и мужской вот она теперь и наслаждаться такой плод воспитание а вообще хотеть сказать если бы действительно любить плюнуть бы и на воспитание помогать бы,отправить он к мамо и ребёнок пока не заводить а то до старость бехать два ребёночек кормить(ич или сколько родите),значить не только русский так воспитывать )) жена должный всё а муж тогда должный она полностью содержать дарить золото и нанимать помощница по хозяйство только так в мусульманский семья а у вы тот же вариант хитропопый который наш русский мужичка проповедуют,этый в наслег мочь быть обязанность мочь быть мужской и женский а живить в благоустроенный дом в село или в город какой мочь быть обязанности() у кто есть время тот и готовить если дом вместе то можно и совместно готовить или жена или муж готовить а второй половинка семья помогать а мужчина который дом готовить и убираться не подкаблучник а гурман и чистюля'"
            ]
          },
          "metadata": {},
          "execution_count": 30
        }
      ]
    },
    {
      "cell_type": "code",
      "metadata": {
        "colab": {
          "base_uri": "https://localhost:8080/"
        },
        "id": "6fXdaMWkHPVV",
        "outputId": "0762db52-b65b-4382-92e7-f28f6cfc5ad1"
      },
      "source": [
        "!pip install nltk"
      ],
      "execution_count": null,
      "outputs": [
        {
          "output_type": "stream",
          "name": "stdout",
          "text": [
            "Requirement already satisfied: nltk in /usr/local/lib/python3.7/dist-packages (3.2.5)\n",
            "Requirement already satisfied: six in /usr/local/lib/python3.7/dist-packages (from nltk) (1.15.0)\n"
          ]
        }
      ]
    },
    {
      "cell_type": "code",
      "metadata": {
        "colab": {
          "base_uri": "https://localhost:8080/"
        },
        "id": "U6xnN68DHJwc",
        "outputId": "78be46ed-4587-47c1-fa03-d595b869b515"
      },
      "source": [
        "nltk.download('wordnet')\n",
        "nltk.download('punkt')"
      ],
      "execution_count": null,
      "outputs": [
        {
          "output_type": "stream",
          "name": "stdout",
          "text": [
            "[nltk_data] Downloading package wordnet to /root/nltk_data...\n",
            "[nltk_data]   Unzipping corpora/wordnet.zip.\n",
            "[nltk_data] Downloading package punkt to /root/nltk_data...\n",
            "[nltk_data]   Unzipping tokenizers/punkt.zip.\n"
          ]
        },
        {
          "output_type": "execute_result",
          "data": {
            "text/plain": [
              "True"
            ]
          },
          "metadata": {},
          "execution_count": 20
        }
      ]
    },
    {
      "cell_type": "code",
      "metadata": {
        "id": "eI7bvW3DHfG9"
      },
      "source": [
        "from nltk.stem import WordNetLemmatizer "
      ],
      "execution_count": null,
      "outputs": []
    },
    {
      "cell_type": "code",
      "metadata": {
        "id": "vCfOqqgaHgQr"
      },
      "source": [
        "lemmatizer = WordNetLemmatizer()"
      ],
      "execution_count": null,
      "outputs": []
    },
    {
      "cell_type": "code",
      "metadata": {
        "id": "KvmpPsBqHBBe"
      },
      "source": [
        "word_list_test = nltk.word_tokenize(long_string)"
      ],
      "execution_count": null,
      "outputs": []
    },
    {
      "cell_type": "code",
      "metadata": {
        "colab": {
          "base_uri": "https://localhost:8080/"
        },
        "id": "gaXzxuO9HjDs",
        "outputId": "7d225835-c52e-4288-e5eb-82a6f4687ad3"
      },
      "source": [
        "print(word_list_test)"
      ],
      "execution_count": null,
      "outputs": [
        {
          "output_type": "stream",
          "name": "stdout",
          "text": [
            "['скажите', 'ему', 'что', 'в', 'таком', 'случае', 'добывать', 'деньги', '–', 'это', 'мужская', 'обязанность', 'и', 'уходите', 'с', 'работы', ',', 'муж', 'не', 'должен', '``', 'помогать', \"''\", 'он', 'должен', 'нести', 'такую', 'же', 'ответственность', 'за', 'дом', 'как', 'и', 'вы', 'в', 'вашем', 'случае', 'он', 'должен', 'взять', 'все', 'домашние', 'дела', 'на', 'себя', 'тк', 'он', 'не', 'работает', 'и', 'это', 'не', 'обсуждается', 'но', 'если', 'вы', 'ловите', 'кайф', 'от', 'унижения', 'и', 'страданий', '-', 'ваше', 'право', ',', 'нет', 'конечно', 'муж', 'сам', 'должен', 'все', 'вывозить', ',', 'женщина', 'ничего', 'никому', 'не', 'должна', ',', 'интересно', 'вы', 'замужем', 'или', 'в', 'поисках', 'прынца', ',', 'проснулась', 'с', 'утреца', 'сготовила', 'на', 'скорую', 'руку', 'завтрак', 'попила', 'с', 'мужем', 'кофейку', 'проводила', 'спокойно', 'на', 'работу', 'привела', 'себя', 'в', 'порядок', 'сфотографировала', 'в', 'зеркало', 'губы-уточкой', 'отправила', 'мужу', 'ммс', 'поехала', 'на', 'службу', 'поработала', 'работу', 'пару', 'раз', 'написала', 'ему', 'что', 'он', 'самый', 'лучший', 'на', 'земле', 'и', 'вечером', 'его', 'ждет', 'сюрпрайз', 'поехала', 'к', 'подругам', 'попила', 'с', 'ними', 'чаю', 'по', 'дороге', 'в', 'магазин', 'купила', 'еды', 'и', 'новые', 'трусы', 'приехала', 'домой', 'сварила', 'суп', 'накормила', 'мужа', 'достала', 'рукоделие', '-', '30', 'минут', 'релакса', 'дала', 'ему', 'время', 'морально', 'подготовиться', 'к', 'сюрпризу', 'загадочно', 'иногда', 'поднимая', 'на', 'него', 'глаза', 'после', 'всего', 'любовь', 'в', 'душ', 'и', 'спать', ',', 'лично', 'мне', 'нравится', 'готовить', 'практически', 'каждый', 'день', 'этим', 'занимаюсь', 'жена', 'и', 'дети', 'довольны', 'честно', 'говоря', 'у', 'мужчин', 'это', 'лучше', 'получается', 'неспроста', 'в', 'ресторанах', 'всего', 'мира', 'повара', '–', 'это', 'мужчины', 'понятно', 'что', 'на', 'вашего', 'мужа', 'оказывают', 'воздействие', 'слова', 'родителей', 'наверное', 'оградить', 'их', 'от', 'мужа', 'у', 'вас', 'не', 'получится', 'да', 'и', 'незачем', 'это', 'делать', 'старайтесь', 'почаще', 'хвалить', 'его', 'высказывать', 'комплименты', 'по', 'поводу', 'его', 'кулинарных', 'талантов', 'мужчины', 'любят', 'получать', 'комплименты', 'не', 'меньше', 'женщинsmiling', 'face', 'with', 'smiling', 'eyes', ',', 'книжки', 'с', 'правилами', 'не', 'существует', 'все', 'индивидуально', 'может', 'поговорите', 'об', 'этом', 'с', 'вашим', 'мужчиной', 'он', 'точнее', 'нас', 'всех', 'вам', 'ответит', 'на', 'вопросы', ',', 'ничего', 'не', 'должна', 'может', 'что-то', 'сделать', 'по', 'желанию', 'но', 'как', 'таковых', 'обязанностей', 'у', 'меня', 'нет', 'главное', 'чтоб', 'кормежка', 'была', 'всегда', 'не', 'важно', 'при', 'чем', 'из', 'ресторана', 'заказанная', 'или', 'готовое', 'купленное', 'или', 'сама', 'приготовила', 'а', 'еще', 'желательно', 'быть', 'в', 'хорошем', 'настроении', 'но', 'я', 'и', 'так', 'в', 'хорошем', 'всегда', 'если', 'у', 'нас', 'кто', 'и', 'ворчит', 'бывает', 'так', 'это', 'муж', 'а', 'так', 'не', 'работаю', 'встречаю', 'мужа', 'в', 'шелковом', 'кружевном', 'белье', 'бывает', 'с', 'бокальчиком', 'вина', 'и', 'салатиком', 'и', 'виноградом', 'не', 'знаю', 'что', 'еще', ',', 'автор', 'скажите', 'тогда', 'ему', 'что', 'обеспечивать', 'семью-это', 'мужская', 'обязанность', 'и', 'увольняйтесь', 'с', 'работы', 'бессовестный', 'он', 'у', 'вас', 'просто', 'и', 'наглый', 'зачем', 'такой', 'нужен', ',', 'приучайте', 'к', 'помощи', 'по', 'дому', 'не', 'делайте', 'ничего', 'и', 'не', 'готовьте', ',', 'я', 'жила', 'на', 'кавказе', 'всего', 'насмотрелась', 'кавказцы', 'отличные', 'самопиарщики', 'постоянные', 'рассказы', 'какие', 'они', 'обеспечуны', 'какие', 'невероятные', 'героические', 'храбрецы', 'но', 'в', 'жизни', 'не', 'так', 'все', 'по-разному', 'в', 'том', 'же', 'дагестане', 'нередко', 'можно', 'встретить', 'м', 'зарабатывающих', 'копейки', 'живущих', 'на', 'женину', 'или', 'родительскую', 'зарплату', 'но', 'понты', 'при', 'этом', 'ого-го', 'окружающим', 'рассказывает', 'что', 'он', 'главный', 'добытчик', ',', 'у', 'меня', 'бывший', 'муж', 'получше', 'немного', 'себя', 'вел', 'посуду', 'мыл', 'и', 'готовил', 'частенько', 'даже', 'подметал', 'и', 'то', 'тяжело', 'было', 'с', 'ним', 'в', 'быту', 'так', 'как', 'свинячил', 'тоже', 'много', 'сейчас', 'одна', 'живу', 'и', 'горя', 'не', 'знаю', 'забыла', 'что', 'такое', 'упахиваться', 'по', 'хозяйству', 'хочу', 'халву', 'ем', 'хочу', 'пряники', ')', ')', 'теперь', 'нового', 'мужа', 'ищу', 'так', 'сразу', 'в', 'анкете', 'на', 'сз', 'написала', 'что', 'не', 'готовлю', 'убирает', 'уборщица', 'деньги', 'не', 'зарабатываю', 'сразу', 'чтобы', 'отсекать', 'всех', 'халявщиков', 'и', 'любителей', 'бесплатной', 'прислуги', 'в', 'следующий', 'брак', 'если', 'пойду', 'то', 'только', 'на', 'тех', 'условиях', 'что', 'я', 'делаю', 'что-то', 'только', 'когда', 'у', 'меня', 'на', 'это', 'есть', 'силы', 'и', 'желание', ',', 'многие', 'так', 'считают', 'тогда', 'жена', 'должна', 'сидеть', 'дома', 'и', 'делать', 'домашние', 'делаа', 'муж', 'зарабатывать', 'деньгиа', 'если', 'обра', 'работают', 'тогда', 'должны', 'помогать', 'друг', 'другаа', 'если', 'муж', 'сидит', 'дома', 'то', 'тем', 'более', ',', 'гастрит', 'нужно', 'лечить', 'тем', 'более', 'в', '90', '%', 'случаев', 'он', 'бактериальный', 'если', 'вы', 'оба', 'работаете', 'и', 'одинаково', 'зарабатываете', 'а', 'муж', 'работает', 'по', 'дому', '5', 'дней', 'в', 'неделю', 'а', 'вы', 'всего', '2', 'дня', 'то', 'где', 'справедливость', 'работайте', 'по', 'дому', 'одинаково', 'неудивительно', 'что', 'у', 'мужа', 'появились', 'к', 'вам', 'претензии', ',', 'вечером', 'покушайте', 'в', 'кафешке', 'и', 'домой', 'отдыхатьне', 'забудьте', 'для', 'себя', 'что', 'нибудь', 'купить', 'для', 'бутерброда', 'к', 'чаюутром', 'позавтракать', 'и', 'на', 'работув', 'обед', 'где', 'нибудь', 'покушайте', ',', 'автор', 'у', 'вас', 'слишком', 'дорогой', 'в', 'обслуживании', 'фаллоимитатор', 'по', 'квартире', 'валяется', ',', 'разумеется', 'помогает', 'работаем', 'оба', 'в', 'разне', 'смены', 'посуду', 'моет', 'глажка', 'вообще', 'на', 'немя', 'так', 'не', 'отглажу', 'может', 'пропылесосить', 'с', 'детьми', 'так', 'же', 'помогал', 'единственное', 'что', 'он', 'не', 'делает-не', 'готовит', 'он', 'старался', 'но', 'гадость', 'редкостная', 'и', 'перевод', 'продуктов', 'ну', 'и', 'не', 'консервивует', 'на', 'зиму', 'продукты', 'остальные', 'вопросы-кто', 'выходной', 'тот', 'и', 'убирает', 'работаем', 'разумеется', 'оба', ',', \"''\", 'муж', 'будет', 'говорить', 'что', 'жена', 'может', 'не', 'красавица', 'но', 'умница', 'и', 'все', 'понимает', \"''\", 'ах', 'вот', 'оно', 'что', 'вам', 'не', 'повезло', 'с', 'внешностью', 'правильно', 'себя', 'подавать', 'так', 'и', 'не', 'научились', 'поэтому', 'нашли', 'в', 'мужья', 'безрукого', 'придурка', 'которого', 'можно', 'усмирить', 'дешёвыми', 'манипуляциями', 'от', 'это', 'счастте', 'обзавидоваться', 'можно', 'ваше', 'дело', 'но', 'не', 'надо', 'свой', 'дурной', 'пример', 'преподносить', 'как', 'истину', 'хвалить', 'человека', 'надо', 'лишь', 'тогда', 'когда', 'он', 'этого', 'заслужил', 'женщина', '21', 'века', 'которая', 'утверждает', 'что', 'без', 'мужчины', 'ваше', 'пропадет', '-', 'дебилка', 'и', 'любой', 'нормальный', 'мужчина', 'услышав', 'такое', 'должен', 'не', 'умиляться', 'а', 'сразу', 'же', 'разорвать', 'такие', 'отношения', 'ибо', 'это', 'клиника', ',', 'так', 'тебе', 'и', 'надо', 'а', 'мужчина', 'браво', 'некоторые', 'женщины', 'по', 'жизни', 'страдалицы', 'ну', 'вот', 'и', 'пример', ',', 'автор', 'вы', 'тоже', 'мусульманка', 'вас', 'за', 'него', 'выдали', 'вы', 'в', 'заглавном', 'посте', 'пропустили', 'очень', 'важные', 'детали', 'а', 'они', 'как', 'раз', 'могут', 'объяснить', 'как', 'вы', 'оказались', 'в', 'этой', 'дикой', 'ситуации', 'но', 'если', 'вы', 'живете', 'где-нибудь', 'на', 'кавказе', 'то', 'ситуация', 'сразу', 'становится', 'не', 'дикой', 'а', 'обычной', ',', 'автор', 'вы', 'служанка', 'муж', 'вас', 'не', 'любит', 'и', 'самое', 'печальное', 'что', 'даже', 'скрывать', 'это', 'не', 'пытается', 'он', 'женился', 'для', 'своего', 'удобства', 'и', 'считает', 'что', 'сделал', 'вам', 'глупой', 'бабе', 'этим', 'одолжение', 'ни', 'один', 'любящий', 'человек', 'не', 'будет', 'сидеть', 'дома', 'и', 'ждать', 'когда', 'его', 'придут', 'накормят', 'он', 'просто', 'издевается', 'а', 'вы', 'молчите', '4', 'месяца', 'развиваете', 'неврозы', 'дальше', 'будет', 'только', 'хуже', ',', 'не', 'знаю', 'я', 'наоборот', 'видела', 'состоятельных', 'мужчин', 'из', 'мусульманских', 'семей', 'которые', 'и', 'дома', 'не', 'гнушаются', 'что', 'угодно', 'по', 'хозяйству', 'сделать', 'что', 'пол', 'помыть', 'что', 'посуду', 'что', 'постирать', 'погладить', 'от', 'человека', 'зависит', 'когда', 'не', 'лентяй', 'и', 'не', 'эгоист', 'то', 'все', 'делает', 'легко', 'а', 'у', 'автора', 'муж', 'эгоист', ',', 'а', 'мужская', 'обязанность', 'деньги', 'приносить', 'раз', 'готовка', 'только', 'на', 'вас', 'так', 'и', 'скажите', 'ему,4', 'месяца', 'женаты', 'из', 'них', '2', 'муж', 'не', 'работает', 'беги', 'от', 'него', 'девчуля', 'пока', 'не', 'поздно', 'он', 'никогда', 'не', 'будет', 'работать', 'дальше', 'будет', 'только', 'хуже', 'ты', 'превратишься', 'в', 'старуху', 'в', '35', 'лет', 'в', 'итоге', 'он', 'тебя', 'бросит', 'и', 'найдёт', 'другую', 'дурочку', 'только', 'помоложе', 'а', 'тебе', 'скажет', 'напоследок', 'что', 'ты', 'его', 'не', 'понимала', 'и', 'не', 'поддерживала', 'а', 'он', '``', 'искал', 'себя', \"''\", ',', 'мне', 'муж', 'не', 'помогает', 'он', 'выполняет', 'свою', 'порцию', 'бытовых', 'обязанностей', 'по', 'дому', 'так', 'как', 'мы', 'оба', 'работаем', 'то', 'это', 'не', 'менее', '50', '%', 'выходит', 'был', 'период', 'когда', 'его', 'сократили', 'и', 'он', 'мог', 'позволить', 'себе', 'почти', 'год', 'не', 'работать', 'что', 'частично', 'совпало', 'с', 'моим', 'декретом', 'когда', 'я', 'ещё', 'работала', '-', 'он', 'в', 'доме', 'много', 'что', 'сделать', 'успел', '-', 'ремень', 'двух', 'комнат', '(', 'у', 'нас', 'дом', ')', 'встроенные', 'шкафы', 'кажут', 'для', 'цветов', 'в', 'саду', 'встречал', 'всегда', 'на', 'машине', 'со', 'станции', 'дома', 'уже', 'был', 'горячий', 'ужин', 'когда', 'подтаял', 'первые', '2-3', 'месяца', 'я', 'только', 'кормила', 'и', 'спала', 'он', 'обеспечивал', 'полностью', 'трёхразовое', 'сбалансированное', 'питание', 'не', 'понимаю', 'зачем', 'жить', 'с', 'мужьями', 'которые', 'вам', 'на', 'шею', 'садятся', ',', 'развестись', 'пусть', 'его', 'мама', 'и', 'дальше', 'няньчит', ',', 'ну', 'как', 'обычнопойду', 'сама', 'завтрак', 'готовить', 'кофе', 'в', 'постель', 'мне', 'заполучить', 'не', 'суждено', ',', 'ну', 'во', 'первых', 'за', 'то', 'что', 'не', 'лез😄', 'а', 'через', 'десять', 'лет', 'уже', 'был', 'достойный', 'результат', 'первый', 'результат', 'вы', 'получите', 'практически', 'сразу', 'ваш', 'милый', 'сразу', 'же', 'добровольно', 'будет', 'пытаться', 'вам', 'помочь', 'ну', 'а', 'как', 'у', 'него', 'это', 'будет', 'получаться', '-', 'второй', 'вопрос', 'тут', 'уже', 'учить', 'надо', 'москва', 'не', 'сразу', 'строилаьс', ',', 'блин', 'зачем', 'такой', 'огород', 'городить', 'ради', 'законченного', 'летняя', 'и', 'эгоиста', 'это', 'обязаны', 'были', 'сделать', 'его', 'родители', 'а', 'девушка', 'не', 'обязана', 'бросать', 'таких', 'нужно', 'и', 'всё', ',', 'так', 'выходит', 'что', 'вышла', 'замуж', 'родила', '=', 'рабство', 'на', 'годы', 'и', 'годы', 'зато', 'мужло', 'вопит', 'что', 'баба', 'не', 'человек', 'а', 'прислуга', 'царь', 'женился', 'можно', 'лежать', 'на', 'диване', 'и', 'не', 'работать', ',', 'зачем', 'такой', 'муж', ',', '😀', 'зато', 'замужем', ',', 'я', 'бы', 'выгнала', 'зачем', 'автору', 'это', 'домашнее', 'животное', 'проще', 'котика', 'завести', 'они', 'меньше', 'гадят', 'и', 'более', 'благодарные', 'хоть', 'не', 'будут', 'пить', 'бить', 'и', 'водить', 'в', 'квартиру', 'кошек', 'пока', 'автор', 'на', 'работе', ')', ')', ',', 'да', 'вы', 'что', 'этим', 'совковым', 'терпилам', 'никак', 'иначе', 'низзя', 'цель', 'жизни', '-', 'побыстрее', 'выскочить', 'замуж', 'за', 'первое', 'попавшееся', '***', 'и', 'эту', 'жизнь', 'положить', 'на', 'то', 'чтобы', '***', 'приобрело', 'хоть', 'какой', 'то', 'человеческий', 'облик', 'ну', 'хотя', 'бы', 'на', 'пол', 'не', 'плевало', ':', ')', ',', 'абсолютно', 'верно', '-', 'запомнидевочка', 'так', 'будет', 'всегда', 'а', 'чем', 'дальше', 'тем', 'он', 'хуже', 'будет', 'себя', 'вести', 'он', 'тебя', 'не', 'любит', 'и', 'не', 'жалеет', ',', 'по', 'ходу', 'вашему', 'мужу', '10', 'лет', 'по', 'крайне', 'мере', 'его', 'поведение', 'об', 'этом', 'говорит', 'интересно', 'а', 'за', 'суп', 'он', 'вас', 'тоже', 'хвалит', 'и', 'за', 'вымытую', 'посуду', 'и', 'за', 'постиранную', 'одежду', ',', 'будет', 'только', 'хуже', 'сложно', 'переучить', ',', 'потому', 'что', 'сначала', 'тащите', 'всеми', 'правдами', 'и', 'неправдами', 'в', 'загс', 'xeр', 'пойми', 'кого', 'и', 'зачем', 'а', 'потом', 'оказывается', 'что', 'он', 'и', 'не', 'собирался', 'впрягаться', 'а', 'как', 'вы', 'думали-то', 'они', 'считают', 'что', 'и', 'так', 'огромное', 'одолжение', 'сделали', ',', 'у', 'вас', 'сокровище', 'а', 'не', 'мужгде', 'такого', 'нашли', 'адрес', 'не', 'подскажите', ',', 'квартира', 'его', 'как', 'только', 'женился', 'сразу', 'уволился', 'и', 'отдыхает', 'замечательно', 'устроился', ',', 'идиот', 'женщины', 'выходят', 'раньше', 'потому', 'что', 'гробят', 'здоровье', 'родами', 'и', 'после', 'климакса', '-', 'где-то', 'как', 'раз', 'к', '55', 'у', 'многих', 'возникают', 'серьезные', 'заболевания', ':', '(', '(', 'домашнее', 'хозяйство', 'тут', 'абсолютно', 'ни', 'при', 'чем', 'никто', 'тебя', 'обслуживать', 'якобы', 'ввиду', 'более', 'раннего', 'выхода', 'на', 'пенсию', 'не', 'обязан', ',', 'а', 'зачем', 'ему', 'работать', 'уже', 'есть', 'деньго-добывальщик', 'и', 'это', 'ты', 'зачем', 'ему', 'что-то', 'по', 'дому', 'делать', 'ты', 'всё', 'это', 'делаешь', 'ты', 'сама', 'создала', 'мужику', 'все', 'условия', 'чтоб', 'он', 'бездельничал', 'жирным', 'пятном', 'на', 'диване', 'сынка', 'себе', 'завела', 'так', 'будет', 'всегда', 'работать', 'он', 'не', 'собирается', 'так', 'что', 'тебе', 'решать', 'развод', 'или', 'и', 'дальше', 'здорового', 'мужика', '-', 'не', 'инвалида', 'на', 'себе', ',', 'смотрите', 'не', 'подавитесь', 'своей', 'желчью', ',', 'помогает', 'инициативы', 'не', 'проявляет', 'но', 'делает', 'все', 'о', 'чем', 'прошу', 'и', 'сына', 'приучила', 'помогать', ',', 'его', 'деньги', 'общие', 'деньги', 'твои', 'деньги', 'только', 'твои', 'поэтому', 'трать', 'деньги', 'только', 'на', 'себя', 'и', 'ребёнка', 'а', 'его', 'не', 'корми', 'ничего', 'ему', 'не', 'покупай', ',', 'накой', 'жить', 'с', 'мужиком', 'если', 'он', 'не', 'работает', ',', 'так', 'и', 'в', 'россии', 'повара', 'в', 'ресторанах', 'всегда', 'мужчины', ',', 'нет', 'такого', 'понятия', 'должен', 'или', 'не', 'должен', 'все', 'зависит', 'от', 'воспитания', 'национальных', 'традиций', 'характера', 'и', 'привычек', 'у', 'обоих', 'супругов', 'кому', 'то', 'западло', 'будет', 'в', 'силу', 'воспитания', 'кто', 'то', 'напротив', 'только', 'рад', 'помочь', 'главное', 'что', 'бы', 'мужа', 'и', 'жену', 'это', 'устраивало', ',', 'потратить', 'жизнь', 'на', 'то', 'чтобы', 'перевоспитывать', 'взрослого', 'мужика', 'да', 'ещё', 'такими', 'дебильными', 'манипуляциями', 'с', 'себе', 'самой', 'не', 'смешно', 'клиническая', 'дура', 'ещё', 'и', 'советы', 'раздает', 'чтоб', 'и', 'другие', 'на', 'этот', 'цирк', 'жизнь', 'просрали', 'ага', 'правильный', 'совет', 'тут', 'один-единственный', '-', 'заявление', 'о', 'разводе', 'и', 'возврат', 'корзиночки', 'мамане', 'бывало', 'время', 'когда', 'я', 'работала', 'совсем', 'мало', ';', 'но', 'муж', 'всегда', 'и', 'моет', 'посуду', 'и', 'готовит', 'и', 'убирает', 'так', 'же', 'как', 'и', 'я', 'плюс', 'тащит', 'сумки', 'из', 'магазина', 'с', 'какого', 'хрена', 'взрослого', 'дееспособного', 'человека', 'должен', 'кто-то', 'обслуживать', 'вместе', 'живём', 'вместе', 'тянем', 'быт', 'в', 'современной', 'здоровой', 'семье', 'иначе', 'быть', 'не', 'может', 'с', 'тем', 'кто', 'что-то', 'вякает', 'про', '``', 'женские', 'обязанности', \"''\", 'разговаривать', 'не', 'о', 'чем', ',', 'зачем', 'вам', 'дети', 'у', 'вас', 'уже', 'есть', 'один', 'его', 'вам', 'свекровь', 'родила', ',', 'просто', 'ваш', 'муж', 'такой', 'есть', 'склонность', 'помогать', 'и', 'любовь', 'к', 'вам', 'а', 'мой', 'на', 'такие', 'слова', 'говорил', 'что', 'не', 'подлизывайся', 'меня', 'лестью', 'не', 'обманешь', 'и', 'продолжал', 'лежать', 'на', 'диване', 'вообще', 'когда', 'хорошего', 'больше', 'чем', 'недостатков', 'тогда', 'конечно', 'да', 'главное', 'любовь', 'и', 'уважение', 'в', 'семье', 'тогда', 'и', 'разбросанные', 'носки', 'любимого', 'будете', 'с', 'умилением', 'поднимать', 'и', 'к', 'груди', 'нежно', 'прижимая', 'нести', 'стирать', 'это', 'когда', 'любимый', 'и', 'сам', 'очень', 'много', 'для', 'жены', 'делает', 'а', 'когда', 'трутень', 'как', 'у', 'автора', 'еще', 'и', 'нагло', 'рассуждает', 'что', 'такое', 'женские', 'обязанности', 'то', 'скалкой', 'ему', 'заехать', 'вместо', 'борща', ',', 'я', 'как', 'то', 'пришла', 'домой', 'посуда', 'грязная', 'на', 'раковине', 'всё', 'в', 'мусорку', 'викинула', 'больше', 'муж', 'грязную', 'посуду', 'не', 'оставлял', ',', 'ну', 'и', 'зачем', 'вам', 'это', 'барахло', 'вместо', 'мужа', ',', 'у', 'нас', 'в', 'семье', 'работаю', 'я', 'муж', 'смотрит', 'за', 'маленьким', 'ребенком', 'и', 'домом', 'соответственно', 'готовит', 'он', 'и', 'уборка', 'за', 'ним', ',', 'ну-ну', 'я', 'знаю', 'одного', 'такого', 'приехали', 'в', 'гости', 'с', 'мужем', 'два', 'дня', 'за', 'суп', 'хвалили', 'потом', 'узнали', 'варила', 'то', 'жена', 'а', 'хвалили', 'то', 'мужа', 'за', 'всё', 'что', 'дома', 'ни', 'сделает', 'жена', 'хвалит', 'дня', '2-3', 'да', 'и', 'секс', 'подавай', 'по', 'высшему', 'разряду', 'вообщем', 'плюнула', 'жена', 'и', 'сама', 'всё', 'тащит', 'так', 'что', 'опоздали', 'вы', 'с', 'советом', 'подходит', 'он', 'для', 'детей', 'лет', 'пяти', 'а', 'для', 'взрослых******', 'вообщем', 'извините', 'го\\\\в\\\\но', 'совет', ',', 'касаемо', 'темы', 'форума', 'мое', 'мнение', '-', 'муж', 'должен', 'разделять', 'труд', 'и', 'заботу', 'о', 'семье', 'ни', 'в', 'коем', 'случае', 'не', 'считаю', '-', 'что', 'это', 'можно', 'называть', 'обязанностями', 'обязанности', 'это', 'у', 'нас', 'на', 'работе', 'а', 'в', 'семье', 'никаких', 'обязанностей', 'не', 'должно', 'быть', 'поэтому', 'семья', 'всегда', 'была', 'и', 'остается', 'отдельным', 'самым', 'главным', 'жизненным', 'институтом', 'общества', 'где', 'члены', 'семьи', 'такие', 'какие', 'есть', 'полны', 'взаимопонимания', 'абсолютной', 'поддержки', 'гармонии', 'и', 'никакого', 'обмана', 'предательства', 'и', 'лжи', ',', 'гоните', 'его', 'в', 'шею', 'если', 'женщина', 'работаетто', 'обязанности', 'по', 'дому', 'должны', 'быть', 'общимиа', 'в', 'данном', 'случае', 'раз', 'муж', 'не', 'работает', 'то', 'пусть', 'сам', 'по', 'дому', 'и', 'карячится', ',', 'ваш', 'в', 'данной', 'ситуации', 'обязан', 'вообще', 'все', 'делать', 'не', 'то', 'что', 'помогать', '(', '(', ',', 'совдеп', ',', 'спросите', 'нормально', 'помочь', 'если', 'игнорируетто', 'перестаньте', 'делать', 'дела', 'по', 'дому', 'посуда', 'грязная', 'в', 'раковине-', 'оставьте', 'пусть', 'лежит', 'себе', 'приготовьте', 'ужин', 'и', 'сама', 'съешьте', 'если', 'он', 'хочетто', 'можете', 'ему', 'бутер', 'намазать', 'скажите', 'что', 'устала', 'к', 'сожалению', 'некоторые', 'просто', 'не', 'понимают', 'намеков', 'у', 'меня', 'был', 'знакомый', 'мог', 'в', 'свинарнике', 'житьтипа', 'кетчут', 'разлился', 'на', 'пол', 'он', 'эту', 'лужицу', 'обходил', 'вокруг', 'посуду', 'грязную', 'оставлял', 'пока', 'опарыши', 'в', 'ней', 'не', 'заводились', 'курил', 'в', 'ванной', 'и', 'бычки', 'раскладывал', 'по', 'периметру', 'и', 'они', 'потом', 'воняли', 'не', 'квартира', 'была', 'а', 'свинарник', 'женился', 'потом', 'на', 'такой', 'же', 'даме', 'у', 'них', '2', 'детей', 'в', 'такой', 'антисанитарии', 'живут', ',', 'если', 'работа', 'подому', '-', 'это', 'женская', 'обязанность', 'то', 'обязанность', 'мужика', '-', 'содержать', 'семью', 'он', 'выполняет', 'свои', 'обязанности', ',', 'спрашиваете', 'что', 'делать', 'ответ', 'очевиден', ':', 'ничего', 'ничего', 'абсолютно', 'от', 'слова', 'совсем', '-', 'ничего', 'утром', 'уходите', 'на', 'работу', 'говорите', 'четко', 'и', 'ясно', ':', 'пропылесосить', 'пол', 'помыть', 'ванну', 'сварить', 'бульон', 'для', 'борща', 'и', 'почистить', 'картошку', 'возвращаетесь', '-', 'на', 'полу', 'грязь', 'ванна', 'грязная', 'бульона', 'нет', '-', 'идёте', 'выносить', 'мусор', 'по', 'пути', 'заходите', 'в', 'ближайшее', 'кафе', 'и', 'заказываете', 'плотный', 'ужин', 'на', 'вопрос', 'мужа', 'когда', 'будете', 'кушать', 'отвечаете', ':', 'бульона', 'нет', 'борща', 'соответственно', 'не', 'будет', 'чем', 'он', 'будет', 'ужинать', '-', 'не', 'знаете', 'у', 'него', 'в', 'распоряжении', 'был', 'на', 'это', 'целый', 'день', 'если', 'в', 'следующий', 'раз', 'бульон', 'будет', 'готов', 'а', 'пол', 'останется', 'грязный', 'начинайте', 'пылесосить', 'долго', 'тщательно', 'пылесосить…', 'на', 'приготовление', 'ужина', 'времени', 'не', 'останется', 'вам', 'же', 'завтра', 'на', 'работу', 'делаете', 'то', 'что', 'успеваете', 'перекусить', 'вы', 'успеете', 'по', 'дороге', 'с', 'работы', 'такая', 'диета', 'должна', 'убедить', 'мужа', 'что', 'нужно', 'как', 'то', 'включаться', 'в', 'домашние', 'заботы', 'по', 'поводу', 'работы', 'тоже', 'самое', ':', 'оплатила', 'коммуналку', 'купила', 'моющие', 'бытовую', 'химию', 'и', 'новую', 'кофточку', '-', 'мне', 'же', 'на', 'работе', 'нужно', 'выглядеть', 'нормально…', 'это', 'тебе', 'все', 'равно', 'в', 'чем', 'на', 'диване', 'лежать', 'а', 'я', 'целый', 'день', 'на', 'людях…', ',', 'мой', 'муж', 'помимо', 'основной', 'работы', 'еще', 'и', 'шабашками', 'занимается', '-', 'он', 'квалифицированный', 'электрик', 'но', 'я', 'не', 'о', 'работе', 'когда', 'он', 'приходит', 'делать', 'шабашки', 'ну', 'естественно', 'он', 'мусорит', 'он', 'всегда', 'за', 'собой', 'убирает', 'всегда', 'и', 'вот', 'как-то', 'был', 'на', 'шабашке', 'у', 'пожилой', 'женщины', 'попросил', 'веник', 'чтобы', 'подмести', 'за', 'собой', 'а', 'она', 'такая', ':', \"''\", 'не', 'надо', '-', 'это', 'женская', 'работа', 'подметать', 'пол', '``', 'я', 'ей', 'говорю', ':', '``', 'не', 'надо', 'мне', 'в', 'семью', 'насаждать', 'свои', 'правила', 'если', 'у', 'вас', 'в', 'порядке', 'вещей', 'при', 'том', 'что', 'вы', 'еле', 'ноги', 'волочете', 'и', 'от', 'астмы', 'задыхаетесь', 'выхватывать', 'веник', 'у', 'мужика', 'из', 'рук', '-', 'это', 'ваше', 'дело', 'но', 'у', 'нас', 'заведено', '-', 'сам', 'насорил', 'сам', 'и', 'убери', \"''\", 'пробуйте', 'переучивать', 'что', 'за', 'прикол', '-', 'не', 'работает', 'лежит', 'на', 'диване', 'и', 'не', 'может', 'за', 'собой', 'посуду', 'помыть', 'ограничивайте', 'в', 'финансах', 'готовьте', 'что-то', 'очень', 'дешевое', 'начнет', 'возмущаться', 'отвечайте', ':', '``', 'по', 'заслугам', 'и', 'награда', 'по', 'заработкам', 'и', 'кормежка', 'начнешь', 'зарабатывать', 'хоть', 'как-то', 'соответственно', 'и', 'кормить', 'буду', \"''\", 'не', 'напрягайтесь', 'так', 'помойте', 'для', 'себя', 'тарелку', 'кружку', 'ложку', 'и', 'прячьте', 'чтобы', 'он', 'ее', 'не', 'использовал', 'не', 'начнет', 'мыть', 'посуду', 'за', 'собой', 'собрали', 'все', 'в', 'мусорный', 'пакет', 'и', 'на', 'помойку', 'уважайте', 'себя', 'от', 'недосыпа', 'вы', 'себя', 'загоните', 'вам', 'оно', 'надо', 'не', 'такой', 'большой', 'срок', 'вашего', 'совместного', 'проживания', 'на', 'чьей', 'территории', 'живете', 'на', 'вашей', '-', 'ваши', 'правила', 'на', 'его', '-', 'сваливайте', 'от', 'него', 'на', 'съемной', '-', 'опять-таки', 'вы', 'платите', 'вы', 'и', 'правила', 'устанавливаете', 'из', '4-х', 'месяцев', 'совместного', 'проживания', 'он', '2', 'ищет', 'работу', 'он', 'так', 'долго', 'ее', 'будет', 'искать', 'ну', 'а', 'что', 'жена', 'зарабатывает', 'дома', 'все', 'вылизывает', 'зачем', 'ему', 'напрягаться', 'в', 'один', 'прекрасный', 'день', 'можете', 'какую-нибудь', '``', 'барби', \"''\", 'найти', 'у', 'себя', 'в', 'постели', 'рядом', 'с', 'мужем', 'от', 'безделья', 'разные', 'мысли', 'в', 'голову', 'лезут', ',', 'он', 'не', 'изменится', 'не', 'надо', 'оно', 'вам', 'а', 'дети', 'пойдут', 'так', 'все', 'на', 'ваши', 'плечи', 'ляжет', ',', 'стрекозёл', ',', 'а', 'как', 'насчёт', 'того', 'что', 'приготовление', 'пищи', 'считается', 'не', 'мужской', 'работой', ')', ',', 'после', 'прочтения', 'поста', 'о', 'семейном', 'бюджете', 'где', 'кто', 'во', 'что', 'горазд', 'приходит', 'понимание', ':', '«', 'в', 'каждой', 'избушке', 'свои', 'погремушки', '»', 'у', 'нас', 'было', 'так', ':', 'когда', 'он', 'не', 'работал', 'а', 'я', 'работала', 'то', 'он', 'готовил', 'убирался', 'по', 'дому', 'кстати', 'очень', 'даже', 'хорошо', 'готовил', 'и', 'убирался', 'сейчас', 'наоборот', 'когда', 'оба', 'будем', 'работать', 'будем', 'договариваться', 'и', 'делить', 'дом', 'обязанности', 'нам', 'так', 'удобно', 'и', 'все', 'устраивает', 'с', 'мужем', 'откровенно', 'поговорите', 'какая', 'разница', 'у', 'кого', 'как', 'это', 'ваша', 'семья', 'должно', 'быть', 'так', 'как', 'вас', 'обоих', 'устраивает', 'и', 'если', 'он', 'против', 'то', 'пусть', 'говорит', 'аргумент', 'как', 'есть', ':', '«', 'я', 'против', 'чтобы', 'я', 'готовил', 'и', 'убирал', 'хочу', 'чтобы', 'только', 'ты', 'этим', 'занималась', '»', 'тогда', 'уже', 'и', 'вы', 'скажете', 'своё', 'слово', ':', '«', 'раз', 'хочешь', 'classic', 'патриархальную', 'семью', 'тогда', 'я', 'готовлю', 'убираю', 'за', 'детьми', 'слежу', 'а', 'ты', 'работаешь', 'и', 'полностью', 'семью', 'содержишь', '»', ',', 'кому', 'как', 'нравится', 'если', 'вы', 'оба', 'работаете', 'то', 'справедливо', 'заниматся', 'домашними', 'делами', 'вместе', 'у', 'него', 'своя', 'голова', 'на', 'плечах', 'зачем', 'кого', 'то', 'слушать', 'родителям', 'можно', 'сказать', 'что', 'бы', 'не', 'лезли', 'не', 'в', 'свое', 'дело', ',', 'альфонс', 'очередной', 'автор', 'и', 'вы', 'ещё', 'задумываетесь', 'о', 'детях', 'да', 'от', 'такого', 'бежать', 'надо', 'со', 'скоростью', '100', 'км', 'в', 'час', 'ну', 'как', 'это', 'не', 'помочь', 'жене', 'если', 'она', 'работает', 'а', 'он', 'козел', 'сидит', 'дома', 'я', 'бы', 'подумала', 'нужен', 'ли', 'он', 'вообще', 'приспособленец', 'так', 'и', 'будете', 'всю', 'жизнь', 'на', 'себе', 'тянуть', 'все', 'помощи', 'никакой', 'не', 'будет', ',', 'а', 'еще', 'домой', 'деньги', 'приносит', 'потом', 'пер', 'мужем', 'пляшет', 'и', 'опахалом', 'обмахиват', 'ну', 'почему', 'бы', 'и', 'на', 'диване', 'булки', 'не', 'парить', ',', 'мой', 'муж', 'пока', 'не', 'работает', '2', 'месяца', 'уже', 'ищет', 'работу', 'я', 'ухожу', 'в', '7', 'на', 'работу', 'и', 'прихожу', 'в', '6', 'пока', 'поешь', 'в', 'душ', '-', 'время', 'уже', '7-8', 'пока', 'дела', 'сделаешь', 'по', 'дому', 'начинаю', 'готовить', 'посуды', 'мыть', 'гору', 'и', 'все', 'у', 'меня', 'заканчивается', 'в', '12', 'ночи', 'а', 'он', 'лежит', 'фильм', 'смотрит', 'сплю', '5', 'часов', 'и', 'иду', 'на', 'работу', 'не', 'выспавшись', 'по', 'дому', 'никогда', 'ничем', 'не', 'поможет', 'женаты', 'мы', 'недавно', 'у', 'них', 'и', 'дома', 'все', 'мама', 'делает', 'видимо', 'приучила', 'если', 'скажешь', 'что-то', 'говорит', 'что', 'это', 'женская', 'обязанность', 'если', 'даже', 'сидит', 'дома', 'ничего', 'не', 'приготовит', 'покушает', 'и', 'посуду', 'оставит', 'никогда', 'не', 'моет', 'мы', '4', 'месяца', 'живём', 'вместе', 'а', 'я', 'уже', 'устала', 'когда', 'дети', 'пойдут', 'что', 'будет', 'посоветуйте', 'что-нибудь', '(', '(', '(', 'девочки', 'помогает', 'ли', 'вам', 'муж', 'по', 'дому', '#', 'муж', '#', 'быт', '#', 'нуженсовет', ',', '***', 'шли', 'его', ',', 'мне', 'кажется', 'это', 'возможно', 'только', 'в', 'качестве', 'эксперимента', 'исключительно', 'из', 'любви', 'к', 'науке', ')', ')', ',', 'замужем', 'много', 'лет', 'причем', 'за', 'человеком', 'более', 'обеспеченным', 'чем', 'я', '-', 'квартира', 'его', 'причем', 'он', 'работает', 'больше', 'чем', 'я', 'причем', 'у', 'нас', 'вообще', 'не', 'стоит', 'вопрос', 'об', 'обязанностях', '-', 'кто', 'раньше', 'увидел', 'тот', 'и', 'сделал', 'поел', '-', 'помыл', 'посуду', 'пришел', 'раньше', 'меня', '-', 'приготовил', 'ужин', 'за', 'продуктами', 'ходит', 'если', 'вдруг', 'что', '-', 'уберется', 'в', 'доме', 'без', 'проблем', 'у', 'нас', 'животные', 'так', 'что', 'убирать', 'приходится', 'часто', 'если', 'для', 'вас', 'человек', 'адекватно', 'ведущий', 'себя', 'в', 'быту', 'и', 'жизни', '-', 'прынц', 'то', 'соболезную', ',', 'а', 'кем', 'считается', 'то', 'даже', 'если', 'кто-то', 'так', 'считает', 'для', 'меня', 'это', 'не', 'имеет', 'никакого', 'значения', 'у', 'меня', 'наоборот', 'вызывают', 'недоумение', 'мужчины', 'которые', 'неспособны', 'приготовить', 'себе', 'еду', 'стоит', 'их', 'женам', 'уехать', 'в', 'деревню', 'на', 'неделю', 'так', 'они', 'могут', 'с', 'голода', 'помереть', 'а', 'какая', '``', 'мужская', 'работа', \"''\", 'по', 'дому', 'у', 'тех', 'кто', 'живет', 'в', 'современном', 'квартирном', 'доме', 'просмотр', 'зомбоящика', 'с', 'баклашкой', 'мочегонного', 'спиртного', 'напитка', 'под', 'названием', 'пиво', ',', 'ага', 'классика', 'вдруг', 'война', 'а', 'он', 'уставший', ':', ')', 'человек', 'должен', 'умирать', 'в', '40', 'если', 'свои', 'же', 'прямые', 'обязанности', '(', 'обслуживать', 'себя', 'в', 'быту', ')', 'на', 'кого-то', 'не', 'свалит', ':', ')', ')', 'супер', ',', 'ну', 'и', 'будет', 'он', 'ей', 'копейки', 'приносить', 'муж', 'может', 'на', 'полные', 'щи', 'рассчитывать', 'только', 'когда', 'полностью', 'обеспечивает', 'а', 'так', '-', 'оба', 'работают', '-', 'оба', 'шуршат', 'по', 'хозяйству', ',', 'в', 'свободном', 'обществе', 'нет', '``', 'женских', 'обязанностей', \"''\", 'а', 'в', 'традиционных', '-', 'есть', '(', '(', '(', ',', 'у', 'меня', 'нет', 'ни', 'каких', 'обязанностей', 'муж', 'и', 'я', 'делаем', 'все', 'по', 'желанию', 'например', 'у', 'меня', 'было', 'сильное', 'желание', 'пожарить', 'драники', 'и', 'я', 'их', 'пожарила', ')', ')', 'если', 'нет', 'желания', 'готовить', 'и', 'не', 'буду', 'иногда', 'муж', 'готовит', 'если', 'я', 'не', 'хочу', 'например', 'если', 'никто', 'не', 'хочет', 'бутеры', 'с', 'чаем', 'едим', ')', ')', ')', 'убираюсь', 'тоже', 'по', 'желанию', 'утром', 'мужа', 'не', 'провожаю', 'завтраки', 'не', 'готовлю', '(', 'когда', 'он', 'работал', 'в', 'офисе', 'а', 'я', 'была', 'дома', ')', 'все', 'сам-сам', ')', 'внешний', 'видя', 'ему', 'одежду', 'заказываю', 'на', 'свой', 'вкус', 'я', 'росла', 'с', 'отчимом', 'но', 'все', 'делала', 'мама', 'и', 'готовила-убирала', 'у', 'нас', 'как-то', 'с', 'мужем', 'повелось', 'по', 'желанию', 'все', 'делать', 'муж', 'рос', 'в', 'полной', 'семье', 'у', 'них', 'тоже', 'все', 'мама', 'делала', 'да', 'и', 'сейчас', 'делает', 'и', 'говорит', 'чтобы', 'я', 'следила', 'за', 'мужем', ')', ')', 'завтраки', 'носки', 'чистые', 'обувь', 'чтобы', 'все', 'было', 'чики-пуки', 'у', 'негоно', 'вот', 'я', 'попалась', 'не', 'такая', ')', ')', ')', ',', 'оба', 'работаем', 'оба', 'домом', 'занимаемся', 'закрепленных', 'обязанностей', 'нет', 'все', 'по', 'ситуации', 'и', 'наличию', 'времени', 'но', 'как', 'показывает', 'практика', 'готовлю', 'чаще', 'я', 'уборкой', 'и', 'закупками', 'больше', 'занимается', 'мужчина', 'кухню', 'и', 'плиту', 'больше', 'я', 'в', 'чистоте', 'держу', 'ванную', 'сантехнику', '-', 'он', 'короче', 'место', 'мое', 'в', 'доме', 'на', 'кухне', ':', ')', 'хотя', 'он', 'очень', 'хорошо', 'готовит', ',', 'что', 'должен', 'делать', 'муж', 'или', 'жена', 'ну', 'как', 'договоритесь', 'например', 'есть', 'семья', 'где', 'жена', 'серьезна', 'больна', 'инвалид', 'там', 'на', 'ней', 'готовка', 'а', 'уборка', 'мусор', 'стирка', 'итд', 'на', 'муже', 'ну', 'и', 'когда', 'есть', 'возможность', 'то', 'и', 'готовка', 'на', 'нем', 'знаю', '4', 'семьи', 'где', 'муж', 'готовить', 'значительно', 'лучше', 'жены', 'и', 'когда', 'у', 'него', 'есть', 'время', 'то', 'готовка', 'на', 'нем', 'в', 'выходые', 'точно', 'на', 'нем', 'а', 'есть', 'семьи', 'где', 'всю', 'домашнию', 'работу', 'ведет', 'жена', 'но', 'при', 'этом', 'она', 'не', 'рааботакет', 'на', 'стороне', 'она', 'домохозяйка', 'так', 'что', 'как', 'договоритесь', 'например', 'сейчас', 'на', 'мне', 'готовка', 'и', 'технические', 'и', 'сантехнические', '(', 'в', 'меру', 'способностей', ')', 'дела', 'завтра', 'буду', 'красить', 'кухню', 'сегодня', 'в', 'магазин', 'за', 'кисточками', 'и', 'красками', 'то', 'есть', 'кроме', 'готовки', 'и', 'стирки', 'по', 'дому', 'есть', 'и', 'другие', 'обязаности', 'их', 'тоже', 'нужно', 'распределить', ',', 'пинка', 'под', 'срандель', 'такому', 'мудлу', 'а', 'вообще', 'мужика', 'до', 'свадьбы', 'узнают', 'нормальные', 'женщины', ',', 'чем', 'чаще', 'мужчину', 'хвалишь', 'тем', 'он', 'больше', 'сомневается', 'в', 'правдивости', 'слов', ',', 'автор', 'если', 'бы', 'вы', 'не', 'работали', 'то', 'заголовок', 'вашей', 'темы', 'был', 'бы', 'возмутителен', 'но', 'если', 'ваш', 'муж', 'сидит', 'дома', 'а', 'вы', 'работаете', 'то', 'кажется', 'кому-то', 'надо', 'дать', 'пинка', 'под', '***', 'вопрос', 'в', 'том', '-', 'куда', 'за', 'дверь', 'или', 'на', 'кухню', 'и', 'к', 'стиралке', 'с', 'шваброй', 'решать', 'только', 'вам', ',', 'обязанности', 'жены', ':', '1', ')', 'завтрак', '-', 'это', 'святое', '2', ')', 'обед', 'в', 'судке', 'с', 'собой', 'на', 'работу', '-', 'желательно', '3', ')', 'следить', 'за', 'здоровьем', 'мужа', '-', 'всегда', '4', ')', 'вечером', 'расслабить', 'любым', 'способом', '5', ')', 'следить', 'за', 'тем', 'чтобы', 'хорошо', 'складывались', 'отношения', 'мужа', 'и', 'родственников', '(', 'с', 'обеих', 'сторон', ')', '6', ')', 'контролировать', 'моральное', 'поведение', 'друзей', 'мужа', '7', ')', 'жена', 'обязана', 'требовать', ':', 'любви', 'и', 'уважения', ',', 'я', 'с', 'вами', 'полностью', 'согласна', 'а', 'вот', 'его', 'родителям', 'это', 'сложно', 'объяснить', ':', '(', ',', 'это', 'программа', 'не', 'одного', 'дня', 'и', 'нужно', 'терпение', 'мой', 'где', 'то', 'через', '10', 'лет', 'мне', 'заявил', 'что', 'я', 'готовить', 'не', 'умею', 'типа', 'он', 'лучше', 'готовит', 'убираю', 'неправильно', 'и', 'вообще', 'у', 'него', 'все', 'это', 'лучше', 'получается', 'я', 'была', 'просто', 'счастлива', ')', ')', ')', 'в', 'начале', 'пути', 'не', 'знал', 'как', 'картошку', 'порезать', ',', 'а', 'не', 'за', 'животное', 'а', 'за', 'человека', 'не', 'судьба', 'было', 'замуж', 'выйти', 'хотя', 'для', 'такой', 'дурынды', 'закомплексованной', 'да', 'проблема', ',', 'ну', 'у', 'татар', 'с', 'этим', 'попроще', 'перед', 'приходом', 'домой', 'перехватывайте', 'перемяч', 'с', 'калмыцким', 'чаем', 'вошли', 'в', 'квартиру', 'в', 'душ', 'и', 'на', 'боковую', 'и', 'так', '-', 'неделю', 'а', 'грязь', 'потом', 'или', 'вместе', 'уберёт', 'если', 'договоритесь', 'или', 'сами', 'если', 'расстанетесь', ',', 'удивляет', 'меня', 'откуда', 'у', 'русских', 'мужчин', 'это', 'понятие', '``', 'мужская', '-', 'не', 'мужская', \"''\", 'обязанность', 'знаю', 'несколько', 'мужчин', 'выросших', 'в', 'мусульманской', 'культуре', 'и', 'те', 'дома', 'своим', 'женам', 'помогают', 'либо', 'дают', 'денег', 'на', 'помощниц', 'по', 'хозяйству', 'и', 'только', 'наши', 'норовят', 'женщину', 'в', '2', 'смены', 'заставить', 'работать', 'а', 'сами', 'сидят', 'как', 'царьки', 'какие-то', ',', 'повторюсь', 'мы', 'многого', 'не', 'знаем', 'если', 'автор', 'дагестанка', 'или', 'таджичка', 'то', 'будет', 'она', 'вместо', 'ломовой', 'лошади', 'до', 'смерти', 'ну', 'а', 'если', 'славянка', 'вляпалась', 'в', 'джигита', 'то', 'только', 'бежать', 'роняя', 'тапки', 'и', 'молясь', 'всем', 'богам', 'что', 'не', 'успела', 'родить', ',', 'в', 'общем', 'после', 'ваших', 'ми-ми-ми', 'муж', 'возомнит', 'себя', 'принцем', 'датским', 'потом', 'начнётся', 'унижение', 'и', 'оскорбление', 'так', 'как', 'не', 'умёха', 'криворукая', 'а', 'потом', 'зачем', 'она', 'мне', 'я', 'достоин', 'на', 'лучшее', 'и', 'как', 'следствие', 'у', 'жены', 'головной', 'убор', 'в', 'виде', 'рогов', 'браво', 'вы', 'сына', 'воспитываете', 'зачем', 'к', 'мужу', 'то', 'относится', 'как', 'ребёнку', 'повзрослеет', 'и', 'сбежит', ',', 'автор', 'но', 'вы', 'же', 'так', 'хотели', 'замуж', 'что', 'вам', 'пофигу', 'было', 'какой', 'человек', 'ваш', 'муж', 'так', 'чего', 'сейчас', 'переживать', 'вы', 'как', 'и', 'хотели', 'замужем', 'а', 'он', 'как', 'и', 'хотел', 'женат', 'а', 'жена', 'в', 'его', 'представлении', 'это', 'не', 'человек', 'а', 'во-первых', 'прислуга', 'а', 'во-вторых', 'обеспечун', 'поэтому', 'он', 'отдыхает', 'и', 'ее', 'работает', 'а', 'вы', 'ишачите', 'на', 'здоровенного', 'детину', 'помимо', 'детей', 'неплохо', 'было', 'бы', 'подумать', 'сколько', 'часов', 'в', 'день', 'вы', 'можете', 'потратить', 'на', 'поддержание', 'своей', 'внешности', 'и', 'развитие', 'мозгов', 'но', 'вам', 'некогда', 'об', 'этом', 'думать', 'потому', 'что', 'вы', 'выбрали', 'быть', 'замужем', 'и', 'убивать', 'себя', 'ежедневно', 'на', 'мужика', ',', 'вы', 'же', 'сами', 'видите', 'что', 'зашиваетесь', 'что', 'не', 'высыпаетесь', 'что', 'вам', 'плохо', 'так', 'какого', 'черта', 'вы', 'это', 'терпите', 'как', 'у', 'него', 'было', 'поставлено', 'в', 'семье', 'вас', 'не', 'должно', 'волновать', 'а', 'вот', 'как', 'будет', 'в', 'вашей', '-', 'это', 'вам', 'решать', 'не', 'надо', 'обслуживать', 'неработающего', 'тюленя', 'ставьте', 'вопрос', 'ребром', ':', 'или', 'он', 'начинает', 'вам', 'помогать', '(', 'а', 'пока', 'не', 'работает', 'все', 'делать', 'самому', 'по', 'дому', ')', 'или', 'отправляется', 'назад', 'под', 'крыло', 'вседелающей', 'мамы', 'запомните', ':', 'вы', 'жена', 'а', 'не', 'лошадь', ',', 'обязан', 'и', 'точка', 'а', 'вот', 'как', 'делить', 'решается', 'самостоятельно', ',', 'да', 'не', 'она', 'себе', 'завела', 'там', '4', 'месяца', 'брака', 'там', 'мама', 'так', 'воспитала', '-', 'изначально', 'поделила', 'работу', 'на', 'женскую', 'и', 'мужскую', 'вот', 'она', 'теперь', 'и', 'наслаждается', 'такими', 'плодами', 'воспитания', 'а', 'вообще', 'хочу', 'сказать', 'если', 'бы', 'действительно', 'любил', 'плюнул', 'бы', 'и', 'на', 'воспитание', 'помогал', 'бы', ',', 'отправить', 'его', 'к', 'мамо', 'и', 'детей', 'пока', 'не', 'заводить', 'а', 'то', 'до', 'старости', 'бедете', 'двух', 'деток', 'кормить', '(', 'ну', 'или', 'сколько', 'родите', ')', ',', 'значит', 'не', 'только', 'русских', 'так', 'воспитывают', ')', ')', 'жена', 'должна', 'все', 'а', 'муж', 'тогда', 'должен', 'ее', 'полностью', 'содержать', 'дарить', 'золото', 'и', 'нанимать', 'помощниц', 'по', 'хозяйству', 'только', 'так', 'в', 'мусульманских', 'семья', 'а', 'у', 'вас', 'тот', 'же', 'вариант', 'хитропопый', 'который', 'наши', 'русские', 'мужички', 'проповедуют', ',', 'это', 'в', 'наслегах', 'могут', 'быть', 'обязанности', 'могут', 'быть', 'мужскими', 'и', 'женскими', 'а', 'живя', 'в', 'благоустроенных', 'домах', 'в', 'селе', 'или', 'в', 'городе', 'какие', 'могут', 'быть', 'обязанности', '(', ')', 'у', 'кого', 'есть', 'время', 'тот', 'и', 'готовит', 'если', 'дома', 'вместе', 'то', 'можно', 'и', 'совместно', 'готовить', 'или', 'жена', 'или', 'муж', 'готовит', 'а', 'вторая', 'половинка', 'семьи', 'помогает', 'а', 'мужчина', 'который', 'дома', 'готовит', 'и', 'убирается', 'не', 'подкаблучник', 'а', 'гурман', 'и', 'чистюля']\n"
          ]
        }
      ]
    },
    {
      "cell_type": "code",
      "metadata": {
        "colab": {
          "base_uri": "https://localhost:8080/"
        },
        "id": "m4MhIhSnHvlM",
        "outputId": "fcae8fe3-aef7-4152-f299-b8ec0b56771e"
      },
      "source": [
        "lemmatized_output2 = ' '.join([lemmatizer.lemmatize(w) for w in word_list_test])\n",
        "print(lemmatized_output2)"
      ],
      "execution_count": null,
      "outputs": [
        {
          "output_type": "stream",
          "name": "stdout",
          "text": [
            "скажите ему что в таком случае добывать деньги – это мужская обязанность и уходите с работы , муж не должен `` помогать '' он должен нести такую же ответственность за дом как и вы в вашем случае он должен взять все домашние дела на себя тк он не работает и это не обсуждается но если вы ловите кайф от унижения и страданий - ваше право , нет конечно муж сам должен все вывозить , женщина ничего никому не должна , интересно вы замужем или в поисках прынца , проснулась с утреца сготовила на скорую руку завтрак попила с мужем кофейку проводила спокойно на работу привела себя в порядок сфотографировала в зеркало губы-уточкой отправила мужу ммс поехала на службу поработала работу пару раз написала ему что он самый лучший на земле и вечером его ждет сюрпрайз поехала к подругам попила с ними чаю по дороге в магазин купила еды и новые трусы приехала домой сварила суп накормила мужа достала рукоделие - 30 минут релакса дала ему время морально подготовиться к сюрпризу загадочно иногда поднимая на него глаза после всего любовь в душ и спать , лично мне нравится готовить практически каждый день этим занимаюсь жена и дети довольны честно говоря у мужчин это лучше получается неспроста в ресторанах всего мира повара – это мужчины понятно что на вашего мужа оказывают воздействие слова родителей наверное оградить их от мужа у вас не получится да и незачем это делать старайтесь почаще хвалить его высказывать комплименты по поводу его кулинарных талантов мужчины любят получать комплименты не меньше женщинsmiling face with smiling eye , книжки с правилами не существует все индивидуально может поговорите об этом с вашим мужчиной он точнее нас всех вам ответит на вопросы , ничего не должна может что-то сделать по желанию но как таковых обязанностей у меня нет главное чтоб кормежка была всегда не важно при чем из ресторана заказанная или готовое купленное или сама приготовила а еще желательно быть в хорошем настроении но я и так в хорошем всегда если у нас кто и ворчит бывает так это муж а так не работаю встречаю мужа в шелковом кружевном белье бывает с бокальчиком вина и салатиком и виноградом не знаю что еще , автор скажите тогда ему что обеспечивать семью-это мужская обязанность и увольняйтесь с работы бессовестный он у вас просто и наглый зачем такой нужен , приучайте к помощи по дому не делайте ничего и не готовьте , я жила на кавказе всего насмотрелась кавказцы отличные самопиарщики постоянные рассказы какие они обеспечуны какие невероятные героические храбрецы но в жизни не так все по-разному в том же дагестане нередко можно встретить м зарабатывающих копейки живущих на женину или родительскую зарплату но понты при этом ого-го окружающим рассказывает что он главный добытчик , у меня бывший муж получше немного себя вел посуду мыл и готовил частенько даже подметал и то тяжело было с ним в быту так как свинячил тоже много сейчас одна живу и горя не знаю забыла что такое упахиваться по хозяйству хочу халву ем хочу пряники ) ) теперь нового мужа ищу так сразу в анкете на сз написала что не готовлю убирает уборщица деньги не зарабатываю сразу чтобы отсекать всех халявщиков и любителей бесплатной прислуги в следующий брак если пойду то только на тех условиях что я делаю что-то только когда у меня на это есть силы и желание , многие так считают тогда жена должна сидеть дома и делать домашние делаа муж зарабатывать деньгиа если обра работают тогда должны помогать друг другаа если муж сидит дома то тем более , гастрит нужно лечить тем более в 90 % случаев он бактериальный если вы оба работаете и одинаково зарабатываете а муж работает по дому 5 дней в неделю а вы всего 2 дня то где справедливость работайте по дому одинаково неудивительно что у мужа появились к вам претензии , вечером покушайте в кафешке и домой отдыхатьне забудьте для себя что нибудь купить для бутерброда к чаюутром позавтракать и на работув обед где нибудь покушайте , автор у вас слишком дорогой в обслуживании фаллоимитатор по квартире валяется , разумеется помогает работаем оба в разне смены посуду моет глажка вообще на немя так не отглажу может пропылесосить с детьми так же помогал единственное что он не делает-не готовит он старался но гадость редкостная и перевод продуктов ну и не консервивует на зиму продукты остальные вопросы-кто выходной тот и убирает работаем разумеется оба , '' муж будет говорить что жена может не красавица но умница и все понимает '' ах вот оно что вам не повезло с внешностью правильно себя подавать так и не научились поэтому нашли в мужья безрукого придурка которого можно усмирить дешёвыми манипуляциями от это счастте обзавидоваться можно ваше дело но не надо свой дурной пример преподносить как истину хвалить человека надо лишь тогда когда он этого заслужил женщина 21 века которая утверждает что без мужчины ваше пропадет - дебилка и любой нормальный мужчина услышав такое должен не умиляться а сразу же разорвать такие отношения ибо это клиника , так тебе и надо а мужчина браво некоторые женщины по жизни страдалицы ну вот и пример , автор вы тоже мусульманка вас за него выдали вы в заглавном посте пропустили очень важные детали а они как раз могут объяснить как вы оказались в этой дикой ситуации но если вы живете где-нибудь на кавказе то ситуация сразу становится не дикой а обычной , автор вы служанка муж вас не любит и самое печальное что даже скрывать это не пытается он женился для своего удобства и считает что сделал вам глупой бабе этим одолжение ни один любящий человек не будет сидеть дома и ждать когда его придут накормят он просто издевается а вы молчите 4 месяца развиваете неврозы дальше будет только хуже , не знаю я наоборот видела состоятельных мужчин из мусульманских семей которые и дома не гнушаются что угодно по хозяйству сделать что пол помыть что посуду что постирать погладить от человека зависит когда не лентяй и не эгоист то все делает легко а у автора муж эгоист , а мужская обязанность деньги приносить раз готовка только на вас так и скажите ему,4 месяца женаты из них 2 муж не работает беги от него девчуля пока не поздно он никогда не будет работать дальше будет только хуже ты превратишься в старуху в 35 лет в итоге он тебя бросит и найдёт другую дурочку только помоложе а тебе скажет напоследок что ты его не понимала и не поддерживала а он `` искал себя '' , мне муж не помогает он выполняет свою порцию бытовых обязанностей по дому так как мы оба работаем то это не менее 50 % выходит был период когда его сократили и он мог позволить себе почти год не работать что частично совпало с моим декретом когда я ещё работала - он в доме много что сделать успел - ремень двух комнат ( у нас дом ) встроенные шкафы кажут для цветов в саду встречал всегда на машине со станции дома уже был горячий ужин когда подтаял первые 2-3 месяца я только кормила и спала он обеспечивал полностью трёхразовое сбалансированное питание не понимаю зачем жить с мужьями которые вам на шею садятся , развестись пусть его мама и дальше няньчит , ну как обычнопойду сама завтрак готовить кофе в постель мне заполучить не суждено , ну во первых за то что не лез😄 а через десять лет уже был достойный результат первый результат вы получите практически сразу ваш милый сразу же добровольно будет пытаться вам помочь ну а как у него это будет получаться - второй вопрос тут уже учить надо москва не сразу строилаьс , блин зачем такой огород городить ради законченного летняя и эгоиста это обязаны были сделать его родители а девушка не обязана бросать таких нужно и всё , так выходит что вышла замуж родила = рабство на годы и годы зато мужло вопит что баба не человек а прислуга царь женился можно лежать на диване и не работать , зачем такой муж , 😀 зато замужем , я бы выгнала зачем автору это домашнее животное проще котика завести они меньше гадят и более благодарные хоть не будут пить бить и водить в квартиру кошек пока автор на работе ) ) , да вы что этим совковым терпилам никак иначе низзя цель жизни - побыстрее выскочить замуж за первое попавшееся *** и эту жизнь положить на то чтобы *** приобрело хоть какой то человеческий облик ну хотя бы на пол не плевало : ) , абсолютно верно - запомнидевочка так будет всегда а чем дальше тем он хуже будет себя вести он тебя не любит и не жалеет , по ходу вашему мужу 10 лет по крайне мере его поведение об этом говорит интересно а за суп он вас тоже хвалит и за вымытую посуду и за постиранную одежду , будет только хуже сложно переучить , потому что сначала тащите всеми правдами и неправдами в загс xeр пойми кого и зачем а потом оказывается что он и не собирался впрягаться а как вы думали-то они считают что и так огромное одолжение сделали , у вас сокровище а не мужгде такого нашли адрес не подскажите , квартира его как только женился сразу уволился и отдыхает замечательно устроился , идиот женщины выходят раньше потому что гробят здоровье родами и после климакса - где-то как раз к 55 у многих возникают серьезные заболевания : ( ( домашнее хозяйство тут абсолютно ни при чем никто тебя обслуживать якобы ввиду более раннего выхода на пенсию не обязан , а зачем ему работать уже есть деньго-добывальщик и это ты зачем ему что-то по дому делать ты всё это делаешь ты сама создала мужику все условия чтоб он бездельничал жирным пятном на диване сынка себе завела так будет всегда работать он не собирается так что тебе решать развод или и дальше здорового мужика - не инвалида на себе , смотрите не подавитесь своей желчью , помогает инициативы не проявляет но делает все о чем прошу и сына приучила помогать , его деньги общие деньги твои деньги только твои поэтому трать деньги только на себя и ребёнка а его не корми ничего ему не покупай , накой жить с мужиком если он не работает , так и в россии повара в ресторанах всегда мужчины , нет такого понятия должен или не должен все зависит от воспитания национальных традиций характера и привычек у обоих супругов кому то западло будет в силу воспитания кто то напротив только рад помочь главное что бы мужа и жену это устраивало , потратить жизнь на то чтобы перевоспитывать взрослого мужика да ещё такими дебильными манипуляциями с себе самой не смешно клиническая дура ещё и советы раздает чтоб и другие на этот цирк жизнь просрали ага правильный совет тут один-единственный - заявление о разводе и возврат корзиночки мамане бывало время когда я работала совсем мало ; но муж всегда и моет посуду и готовит и убирает так же как и я плюс тащит сумки из магазина с какого хрена взрослого дееспособного человека должен кто-то обслуживать вместе живём вместе тянем быт в современной здоровой семье иначе быть не может с тем кто что-то вякает про `` женские обязанности '' разговаривать не о чем , зачем вам дети у вас уже есть один его вам свекровь родила , просто ваш муж такой есть склонность помогать и любовь к вам а мой на такие слова говорил что не подлизывайся меня лестью не обманешь и продолжал лежать на диване вообще когда хорошего больше чем недостатков тогда конечно да главное любовь и уважение в семье тогда и разбросанные носки любимого будете с умилением поднимать и к груди нежно прижимая нести стирать это когда любимый и сам очень много для жены делает а когда трутень как у автора еще и нагло рассуждает что такое женские обязанности то скалкой ему заехать вместо борща , я как то пришла домой посуда грязная на раковине всё в мусорку викинула больше муж грязную посуду не оставлял , ну и зачем вам это барахло вместо мужа , у нас в семье работаю я муж смотрит за маленьким ребенком и домом соответственно готовит он и уборка за ним , ну-ну я знаю одного такого приехали в гости с мужем два дня за суп хвалили потом узнали варила то жена а хвалили то мужа за всё что дома ни сделает жена хвалит дня 2-3 да и секс подавай по высшему разряду вообщем плюнула жена и сама всё тащит так что опоздали вы с советом подходит он для детей лет пяти а для взрослых****** вообщем извините го\\в\\но совет , касаемо темы форума мое мнение - муж должен разделять труд и заботу о семье ни в коем случае не считаю - что это можно называть обязанностями обязанности это у нас на работе а в семье никаких обязанностей не должно быть поэтому семья всегда была и остается отдельным самым главным жизненным институтом общества где члены семьи такие какие есть полны взаимопонимания абсолютной поддержки гармонии и никакого обмана предательства и лжи , гоните его в шею если женщина работаетто обязанности по дому должны быть общимиа в данном случае раз муж не работает то пусть сам по дому и карячится , ваш в данной ситуации обязан вообще все делать не то что помогать ( ( , совдеп , спросите нормально помочь если игнорируетто перестаньте делать дела по дому посуда грязная в раковине- оставьте пусть лежит себе приготовьте ужин и сама съешьте если он хочетто можете ему бутер намазать скажите что устала к сожалению некоторые просто не понимают намеков у меня был знакомый мог в свинарнике житьтипа кетчут разлился на пол он эту лужицу обходил вокруг посуду грязную оставлял пока опарыши в ней не заводились курил в ванной и бычки раскладывал по периметру и они потом воняли не квартира была а свинарник женился потом на такой же даме у них 2 детей в такой антисанитарии живут , если работа подому - это женская обязанность то обязанность мужика - содержать семью он выполняет свои обязанности , спрашиваете что делать ответ очевиден : ничего ничего абсолютно от слова совсем - ничего утром уходите на работу говорите четко и ясно : пропылесосить пол помыть ванну сварить бульон для борща и почистить картошку возвращаетесь - на полу грязь ванна грязная бульона нет - идёте выносить мусор по пути заходите в ближайшее кафе и заказываете плотный ужин на вопрос мужа когда будете кушать отвечаете : бульона нет борща соответственно не будет чем он будет ужинать - не знаете у него в распоряжении был на это целый день если в следующий раз бульон будет готов а пол останется грязный начинайте пылесосить долго тщательно пылесосить… на приготовление ужина времени не останется вам же завтра на работу делаете то что успеваете перекусить вы успеете по дороге с работы такая диета должна убедить мужа что нужно как то включаться в домашние заботы по поводу работы тоже самое : оплатила коммуналку купила моющие бытовую химию и новую кофточку - мне же на работе нужно выглядеть нормально… это тебе все равно в чем на диване лежать а я целый день на людях… , мой муж помимо основной работы еще и шабашками занимается - он квалифицированный электрик но я не о работе когда он приходит делать шабашки ну естественно он мусорит он всегда за собой убирает всегда и вот как-то был на шабашке у пожилой женщины попросил веник чтобы подмести за собой а она такая : '' не надо - это женская работа подметать пол `` я ей говорю : `` не надо мне в семью насаждать свои правила если у вас в порядке вещей при том что вы еле ноги волочете и от астмы задыхаетесь выхватывать веник у мужика из рук - это ваше дело но у нас заведено - сам насорил сам и убери '' пробуйте переучивать что за прикол - не работает лежит на диване и не может за собой посуду помыть ограничивайте в финансах готовьте что-то очень дешевое начнет возмущаться отвечайте : `` по заслугам и награда по заработкам и кормежка начнешь зарабатывать хоть как-то соответственно и кормить буду '' не напрягайтесь так помойте для себя тарелку кружку ложку и прячьте чтобы он ее не использовал не начнет мыть посуду за собой собрали все в мусорный пакет и на помойку уважайте себя от недосыпа вы себя загоните вам оно надо не такой большой срок вашего совместного проживания на чьей территории живете на вашей - ваши правила на его - сваливайте от него на съемной - опять-таки вы платите вы и правила устанавливаете из 4-х месяцев совместного проживания он 2 ищет работу он так долго ее будет искать ну а что жена зарабатывает дома все вылизывает зачем ему напрягаться в один прекрасный день можете какую-нибудь `` барби '' найти у себя в постели рядом с мужем от безделья разные мысли в голову лезут , он не изменится не надо оно вам а дети пойдут так все на ваши плечи ляжет , стрекозёл , а как насчёт того что приготовление пищи считается не мужской работой ) , после прочтения поста о семейном бюджете где кто во что горазд приходит понимание : « в каждой избушке свои погремушки » у нас было так : когда он не работал а я работала то он готовил убирался по дому кстати очень даже хорошо готовил и убирался сейчас наоборот когда оба будем работать будем договариваться и делить дом обязанности нам так удобно и все устраивает с мужем откровенно поговорите какая разница у кого как это ваша семья должно быть так как вас обоих устраивает и если он против то пусть говорит аргумент как есть : « я против чтобы я готовил и убирал хочу чтобы только ты этим занималась » тогда уже и вы скажете своё слово : « раз хочешь classic патриархальную семью тогда я готовлю убираю за детьми слежу а ты работаешь и полностью семью содержишь » , кому как нравится если вы оба работаете то справедливо заниматся домашними делами вместе у него своя голова на плечах зачем кого то слушать родителям можно сказать что бы не лезли не в свое дело , альфонс очередной автор и вы ещё задумываетесь о детях да от такого бежать надо со скоростью 100 км в час ну как это не помочь жене если она работает а он козел сидит дома я бы подумала нужен ли он вообще приспособленец так и будете всю жизнь на себе тянуть все помощи никакой не будет , а еще домой деньги приносит потом пер мужем пляшет и опахалом обмахиват ну почему бы и на диване булки не парить , мой муж пока не работает 2 месяца уже ищет работу я ухожу в 7 на работу и прихожу в 6 пока поешь в душ - время уже 7-8 пока дела сделаешь по дому начинаю готовить посуды мыть гору и все у меня заканчивается в 12 ночи а он лежит фильм смотрит сплю 5 часов и иду на работу не выспавшись по дому никогда ничем не поможет женаты мы недавно у них и дома все мама делает видимо приучила если скажешь что-то говорит что это женская обязанность если даже сидит дома ничего не приготовит покушает и посуду оставит никогда не моет мы 4 месяца живём вместе а я уже устала когда дети пойдут что будет посоветуйте что-нибудь ( ( ( девочки помогает ли вам муж по дому # муж # быт # нуженсовет , *** шли его , мне кажется это возможно только в качестве эксперимента исключительно из любви к науке ) ) , замужем много лет причем за человеком более обеспеченным чем я - квартира его причем он работает больше чем я причем у нас вообще не стоит вопрос об обязанностях - кто раньше увидел тот и сделал поел - помыл посуду пришел раньше меня - приготовил ужин за продуктами ходит если вдруг что - уберется в доме без проблем у нас животные так что убирать приходится часто если для вас человек адекватно ведущий себя в быту и жизни - прынц то соболезную , а кем считается то даже если кто-то так считает для меня это не имеет никакого значения у меня наоборот вызывают недоумение мужчины которые неспособны приготовить себе еду стоит их женам уехать в деревню на неделю так они могут с голода помереть а какая `` мужская работа '' по дому у тех кто живет в современном квартирном доме просмотр зомбоящика с баклашкой мочегонного спиртного напитка под названием пиво , ага классика вдруг война а он уставший : ) человек должен умирать в 40 если свои же прямые обязанности ( обслуживать себя в быту ) на кого-то не свалит : ) ) супер , ну и будет он ей копейки приносить муж может на полные щи рассчитывать только когда полностью обеспечивает а так - оба работают - оба шуршат по хозяйству , в свободном обществе нет `` женских обязанностей '' а в традиционных - есть ( ( ( , у меня нет ни каких обязанностей муж и я делаем все по желанию например у меня было сильное желание пожарить драники и я их пожарила ) ) если нет желания готовить и не буду иногда муж готовит если я не хочу например если никто не хочет бутеры с чаем едим ) ) ) убираюсь тоже по желанию утром мужа не провожаю завтраки не готовлю ( когда он работал в офисе а я была дома ) все сам-сам ) внешний видя ему одежду заказываю на свой вкус я росла с отчимом но все делала мама и готовила-убирала у нас как-то с мужем повелось по желанию все делать муж рос в полной семье у них тоже все мама делала да и сейчас делает и говорит чтобы я следила за мужем ) ) завтраки носки чистые обувь чтобы все было чики-пуки у негоно вот я попалась не такая ) ) ) , оба работаем оба домом занимаемся закрепленных обязанностей нет все по ситуации и наличию времени но как показывает практика готовлю чаще я уборкой и закупками больше занимается мужчина кухню и плиту больше я в чистоте держу ванную сантехнику - он короче место мое в доме на кухне : ) хотя он очень хорошо готовит , что должен делать муж или жена ну как договоритесь например есть семья где жена серьезна больна инвалид там на ней готовка а уборка мусор стирка итд на муже ну и когда есть возможность то и готовка на нем знаю 4 семьи где муж готовить значительно лучше жены и когда у него есть время то готовка на нем в выходые точно на нем а есть семьи где всю домашнию работу ведет жена но при этом она не рааботакет на стороне она домохозяйка так что как договоритесь например сейчас на мне готовка и технические и сантехнические ( в меру способностей ) дела завтра буду красить кухню сегодня в магазин за кисточками и красками то есть кроме готовки и стирки по дому есть и другие обязаности их тоже нужно распределить , пинка под срандель такому мудлу а вообще мужика до свадьбы узнают нормальные женщины , чем чаще мужчину хвалишь тем он больше сомневается в правдивости слов , автор если бы вы не работали то заголовок вашей темы был бы возмутителен но если ваш муж сидит дома а вы работаете то кажется кому-то надо дать пинка под *** вопрос в том - куда за дверь или на кухню и к стиралке с шваброй решать только вам , обязанности жены : 1 ) завтрак - это святое 2 ) обед в судке с собой на работу - желательно 3 ) следить за здоровьем мужа - всегда 4 ) вечером расслабить любым способом 5 ) следить за тем чтобы хорошо складывались отношения мужа и родственников ( с обеих сторон ) 6 ) контролировать моральное поведение друзей мужа 7 ) жена обязана требовать : любви и уважения , я с вами полностью согласна а вот его родителям это сложно объяснить : ( , это программа не одного дня и нужно терпение мой где то через 10 лет мне заявил что я готовить не умею типа он лучше готовит убираю неправильно и вообще у него все это лучше получается я была просто счастлива ) ) ) в начале пути не знал как картошку порезать , а не за животное а за человека не судьба было замуж выйти хотя для такой дурынды закомплексованной да проблема , ну у татар с этим попроще перед приходом домой перехватывайте перемяч с калмыцким чаем вошли в квартиру в душ и на боковую и так - неделю а грязь потом или вместе уберёт если договоритесь или сами если расстанетесь , удивляет меня откуда у русских мужчин это понятие `` мужская - не мужская '' обязанность знаю несколько мужчин выросших в мусульманской культуре и те дома своим женам помогают либо дают денег на помощниц по хозяйству и только наши норовят женщину в 2 смены заставить работать а сами сидят как царьки какие-то , повторюсь мы многого не знаем если автор дагестанка или таджичка то будет она вместо ломовой лошади до смерти ну а если славянка вляпалась в джигита то только бежать роняя тапки и молясь всем богам что не успела родить , в общем после ваших ми-ми-ми муж возомнит себя принцем датским потом начнётся унижение и оскорбление так как не умёха криворукая а потом зачем она мне я достоин на лучшее и как следствие у жены головной убор в виде рогов браво вы сына воспитываете зачем к мужу то относится как ребёнку повзрослеет и сбежит , автор но вы же так хотели замуж что вам пофигу было какой человек ваш муж так чего сейчас переживать вы как и хотели замужем а он как и хотел женат а жена в его представлении это не человек а во-первых прислуга а во-вторых обеспечун поэтому он отдыхает и ее работает а вы ишачите на здоровенного детину помимо детей неплохо было бы подумать сколько часов в день вы можете потратить на поддержание своей внешности и развитие мозгов но вам некогда об этом думать потому что вы выбрали быть замужем и убивать себя ежедневно на мужика , вы же сами видите что зашиваетесь что не высыпаетесь что вам плохо так какого черта вы это терпите как у него было поставлено в семье вас не должно волновать а вот как будет в вашей - это вам решать не надо обслуживать неработающего тюленя ставьте вопрос ребром : или он начинает вам помогать ( а пока не работает все делать самому по дому ) или отправляется назад под крыло вседелающей мамы запомните : вы жена а не лошадь , обязан и точка а вот как делить решается самостоятельно , да не она себе завела там 4 месяца брака там мама так воспитала - изначально поделила работу на женскую и мужскую вот она теперь и наслаждается такими плодами воспитания а вообще хочу сказать если бы действительно любил плюнул бы и на воспитание помогал бы , отправить его к мамо и детей пока не заводить а то до старости бедете двух деток кормить ( ну или сколько родите ) , значит не только русских так воспитывают ) ) жена должна все а муж тогда должен ее полностью содержать дарить золото и нанимать помощниц по хозяйству только так в мусульманских семья а у вас тот же вариант хитропопый который наши русские мужички проповедуют , это в наслегах могут быть обязанности могут быть мужскими и женскими а живя в благоустроенных домах в селе или в городе какие могут быть обязанности ( ) у кого есть время тот и готовит если дома вместе то можно и совместно готовить или жена или муж готовит а вторая половинка семьи помогает а мужчина который дома готовит и убирается не подкаблучник а гурман и чистюля\n"
          ]
        }
      ]
    },
    {
      "cell_type": "code",
      "metadata": {
        "id": "3cu6SD21C8BW"
      },
      "source": [
        "#Adding additional stowords\n",
        "stop_words = stopwords.words('russian')\n",
        "stop_words.extend(['это', 'сама', 'какие', 'пока', 'ещё', 'оба', 'свои', 'мужа', 'дому', 'дом', 'либо', 'хотя', 'нужно', 'знаю', 'кого', 'вообще'])"
      ],
      "execution_count": null,
      "outputs": []
    },
    {
      "cell_type": "code",
      "metadata": {
        "id": "lfLwY_ccie3f"
      },
      "source": [
        "# Create a WordCloud object\n",
        "wordcloud = WordCloud(stopwords = stop_words, background_color=\"white\", max_words=1000, contour_width=3, contour_color='steelblue')"
      ],
      "execution_count": null,
      "outputs": []
    },
    {
      "cell_type": "code",
      "metadata": {
        "colab": {
          "base_uri": "https://localhost:8080/"
        },
        "id": "XuqkUmMligos",
        "outputId": "2352347a-a0f4-4268-8fed-40708fd27b8d"
      },
      "source": [
        "# Generate a word cloud\n",
        "wordcloud.generate(lemmatized_output)"
      ],
      "execution_count": null,
      "outputs": [
        {
          "output_type": "execute_result",
          "data": {
            "text/plain": [
              "<wordcloud.wordcloud.WordCloud at 0x7f4d536ca2d0>"
            ]
          },
          "metadata": {},
          "execution_count": 34
        }
      ]
    },
    {
      "cell_type": "code",
      "metadata": {
        "colab": {
          "base_uri": "https://localhost:8080/",
          "height": 217
        },
        "id": "iD8GNxbKijoz",
        "outputId": "cb891d83-b719-4f2f-da0b-5cbe58cd15c8"
      },
      "source": [
        "# Visualize the word cloud\n",
        "wordcloud.to_image()"
      ],
      "execution_count": null,
      "outputs": [
        {
          "output_type": "execute_result",
          "data": {
            "image/png": "[encoded data removed]",
            "text/plain": [
              "<PIL.Image.Image image mode=RGB size=400x200 at 0x7F4D536CABD0>"
            ]
          },
          "metadata": {},
          "execution_count": 35
        }
      ]
    },
    {
      "cell_type": "markdown",
      "metadata": {
        "id": "Z_QDdc50iqPD"
      },
      "source": [
        "##Step 4: Prepare text for LDA analysis"
      ]
    },
    {
      "cell_type": "code",
      "metadata": {
        "colab": {
          "base_uri": "https://localhost:8080/"
        },
        "id": "2dCtZnsyir-p",
        "outputId": "cce1194f-08f3-4cbe-ab87-a8782ecdd6dc"
      },
      "source": [
        "import gensim\n",
        "from gensim.utils import simple_preprocess\n",
        "import nltk\n",
        "nltk.download('stopwords')\n",
        "from nltk.corpus import stopwords"
      ],
      "execution_count": null,
      "outputs": [
        {
          "output_type": "stream",
          "name": "stdout",
          "text": [
            "[nltk_data] Downloading package stopwords to /root/nltk_data...\n",
            "[nltk_data]   Package stopwords is already up-to-date!\n"
          ]
        }
      ]
    },
    {
      "cell_type": "code",
      "metadata": {
        "id": "tiEwssz0i0L2"
      },
      "source": [
        "stop_words = stopwords.words('russian')\n",
        "stop_words.extend(['это', 'сама', 'какие', 'пока', 'ещё', 'оба', 'свои', 'мужа', 'дому', 'дом', 'либо', 'хотя', 'нужно', 'знаю', 'кого', 'вообще'])"
      ],
      "execution_count": null,
      "outputs": []
    },
    {
      "cell_type": "code",
      "metadata": {
        "id": "1AnBI8Doi5tM"
      },
      "source": [
        "def sent_to_words(sentences):\n",
        "    for sentence in sentences:\n",
        "        # deacc=True removes punctuations\n",
        "        yield(gensim.utils.simple_preprocess(str(sentence), deacc=True))\n",
        "\n",
        "def remove_stopwords(texts):\n",
        "    return [[word for word in simple_preprocess(str(doc)) \n",
        "             if word not in stop_words] for doc in texts]"
      ],
      "execution_count": null,
      "outputs": []
    },
    {
      "cell_type": "code",
      "metadata": {
        "id": "ngf4pP0KMcRP"
      },
      "source": [
        "word_list_final = nltk.word_tokenize(lemmatized_output)"
      ],
      "execution_count": null,
      "outputs": []
    },
    {
      "cell_type": "code",
      "metadata": {
        "colab": {
          "base_uri": "https://localhost:8080/"
        },
        "id": "eWBnk1jvMhLn",
        "outputId": "c8ac1b8a-0df0-4684-c053-250ce5281291"
      },
      "source": [
        "word_list_final"
      ],
      "execution_count": null,
      "outputs": [
        {
          "output_type": "execute_result",
          "data": {
            "text/plain": [
              "['сказать',\n",
              " 'он',\n",
              " 'что',\n",
              " 'в',\n",
              " 'такой',\n",
              " 'случай',\n",
              " 'добывать',\n",
              " 'деньга',\n",
              " '–',\n",
              " 'это',\n",
              " 'мужской',\n",
              " 'обязанность',\n",
              " 'и',\n",
              " 'уходить',\n",
              " 'с',\n",
              " 'работы',\n",
              " ',',\n",
              " 'муж',\n",
              " 'не',\n",
              " 'должный',\n",
              " '``',\n",
              " 'помогать',\n",
              " \"''\",\n",
              " 'он',\n",
              " 'должный',\n",
              " 'нести',\n",
              " 'такой',\n",
              " 'же',\n",
              " 'ответственность',\n",
              " 'за',\n",
              " 'дом',\n",
              " 'как',\n",
              " 'и',\n",
              " 'вы',\n",
              " 'в',\n",
              " 'ваш',\n",
              " 'случай',\n",
              " 'он',\n",
              " 'должный',\n",
              " 'взять',\n",
              " 'всё',\n",
              " 'домашний',\n",
              " 'дело',\n",
              " 'на',\n",
              " 'себя',\n",
              " 'тк',\n",
              " 'он',\n",
              " 'не',\n",
              " 'работать',\n",
              " 'и',\n",
              " 'это',\n",
              " 'не',\n",
              " 'обсуждаться',\n",
              " 'но',\n",
              " 'если',\n",
              " 'вы',\n",
              " 'ловить',\n",
              " 'кайф',\n",
              " 'от',\n",
              " 'унижение',\n",
              " 'и',\n",
              " 'страдание',\n",
              " '-',\n",
              " 'ваш',\n",
              " 'право',\n",
              " ',',\n",
              " 'нуть',\n",
              " 'конечно',\n",
              " 'муж',\n",
              " 'сам',\n",
              " 'должный',\n",
              " 'всё',\n",
              " 'вывозить',\n",
              " ',',\n",
              " 'женщина',\n",
              " 'ничего',\n",
              " 'никто',\n",
              " 'не',\n",
              " 'должна',\n",
              " ',',\n",
              " 'интересный',\n",
              " 'вы',\n",
              " 'замужем',\n",
              " 'или',\n",
              " 'в',\n",
              " 'поиск',\n",
              " 'прынца',\n",
              " ',',\n",
              " 'проснуться',\n",
              " 'с',\n",
              " 'утрец',\n",
              " 'сготовить',\n",
              " 'на',\n",
              " 'скорый',\n",
              " 'рука',\n",
              " 'завтрак',\n",
              " 'попить',\n",
              " 'с',\n",
              " 'муж',\n",
              " 'кофеёк',\n",
              " 'проводить',\n",
              " 'спокойно',\n",
              " 'на',\n",
              " 'работа',\n",
              " 'привести',\n",
              " 'себя',\n",
              " 'в',\n",
              " 'порядок',\n",
              " 'сфотографировать',\n",
              " 'в',\n",
              " 'зеркало',\n",
              " 'губы-уточка',\n",
              " 'отправить',\n",
              " 'муж',\n",
              " 'ммс',\n",
              " 'поехать',\n",
              " 'на',\n",
              " 'служба',\n",
              " 'поработать',\n",
              " 'работа',\n",
              " 'пара',\n",
              " 'раз',\n",
              " 'написать',\n",
              " 'он',\n",
              " 'что',\n",
              " 'он',\n",
              " 'самый',\n",
              " 'хороший',\n",
              " 'на',\n",
              " 'земля',\n",
              " 'и',\n",
              " 'вечером',\n",
              " 'он',\n",
              " 'ждать',\n",
              " 'сюрпрайза',\n",
              " 'поехать',\n",
              " 'к',\n",
              " 'подруга',\n",
              " 'попить',\n",
              " 'с',\n",
              " 'они',\n",
              " 'чай',\n",
              " 'по',\n",
              " 'дорога',\n",
              " 'в',\n",
              " 'магазин',\n",
              " 'купить',\n",
              " 'еда',\n",
              " 'и',\n",
              " 'новый',\n",
              " 'трус',\n",
              " 'приехать',\n",
              " 'домой',\n",
              " 'сварить',\n",
              " 'суп',\n",
              " 'накормить',\n",
              " 'муж',\n",
              " 'достать',\n",
              " 'рукоделие',\n",
              " '-',\n",
              " '30',\n",
              " 'минута',\n",
              " 'релакс',\n",
              " 'дать',\n",
              " 'он',\n",
              " 'время',\n",
              " 'морально',\n",
              " 'подготовиться',\n",
              " 'к',\n",
              " 'сюрприз',\n",
              " 'загадочно',\n",
              " 'иногда',\n",
              " 'поднимать',\n",
              " 'на',\n",
              " 'он',\n",
              " 'глаз',\n",
              " 'после',\n",
              " 'весь',\n",
              " 'любовь',\n",
              " 'в',\n",
              " 'душа',\n",
              " 'и',\n",
              " 'спать',\n",
              " ',',\n",
              " 'личный',\n",
              " 'я',\n",
              " 'нравиться',\n",
              " 'готовить',\n",
              " 'практически',\n",
              " 'каждый',\n",
              " 'день',\n",
              " 'это',\n",
              " 'заниматься',\n",
              " 'жена',\n",
              " 'и',\n",
              " 'ребёнок',\n",
              " 'довольный',\n",
              " 'честно',\n",
              " 'говорить',\n",
              " 'у',\n",
              " 'мужчина',\n",
              " 'это',\n",
              " 'хороший',\n",
              " 'получаться',\n",
              " 'неспроста',\n",
              " 'в',\n",
              " 'ресторан',\n",
              " 'весь',\n",
              " 'мир',\n",
              " 'повар',\n",
              " '–',\n",
              " 'это',\n",
              " 'мужчина',\n",
              " 'понятно',\n",
              " 'что',\n",
              " 'на',\n",
              " 'ваш',\n",
              " 'муж',\n",
              " 'оказывать',\n",
              " 'воздействие',\n",
              " 'слово',\n",
              " 'родитель',\n",
              " 'наверное',\n",
              " 'оградить',\n",
              " 'они',\n",
              " 'от',\n",
              " 'муж',\n",
              " 'у',\n",
              " 'вы',\n",
              " 'не',\n",
              " 'получиться',\n",
              " 'да',\n",
              " 'и',\n",
              " 'незачем',\n",
              " 'это',\n",
              " 'делать',\n",
              " 'стараться',\n",
              " 'частый',\n",
              " 'хвалить',\n",
              " 'он',\n",
              " 'высказывать',\n",
              " 'комплимент',\n",
              " 'по',\n",
              " 'повод',\n",
              " 'он',\n",
              " 'кулинарный',\n",
              " 'талант',\n",
              " 'мужчина',\n",
              " 'любить',\n",
              " 'получать',\n",
              " 'комплимент',\n",
              " 'не',\n",
              " 'маленький',\n",
              " 'женщинsmiling',\n",
              " 'face',\n",
              " 'with',\n",
              " 'smiling',\n",
              " 'eyes',\n",
              " ',',\n",
              " 'книжка',\n",
              " 'с',\n",
              " 'правило',\n",
              " 'не',\n",
              " 'существовать',\n",
              " 'всё',\n",
              " 'индивидуально',\n",
              " 'мочь',\n",
              " 'поговорить',\n",
              " 'о',\n",
              " 'это',\n",
              " 'с',\n",
              " 'ваш',\n",
              " 'мужчина',\n",
              " 'он',\n",
              " 'точнее',\n",
              " 'мы',\n",
              " 'весь',\n",
              " 'вы',\n",
              " 'ответить',\n",
              " 'на',\n",
              " 'вопросы',\n",
              " ',',\n",
              " 'ничий',\n",
              " 'не',\n",
              " 'должный',\n",
              " 'мочь',\n",
              " 'что-то',\n",
              " 'сделать',\n",
              " 'по',\n",
              " 'желание',\n",
              " 'но',\n",
              " 'как',\n",
              " 'таковой',\n",
              " 'обязанность',\n",
              " 'у',\n",
              " 'я',\n",
              " 'нет',\n",
              " 'главное',\n",
              " 'чтоб',\n",
              " 'кормёжка',\n",
              " 'быть',\n",
              " 'всегда',\n",
              " 'не',\n",
              " 'важно',\n",
              " 'при',\n",
              " 'чем',\n",
              " 'из',\n",
              " 'ресторан',\n",
              " 'заказать',\n",
              " 'или',\n",
              " 'готовый',\n",
              " 'купить',\n",
              " 'или',\n",
              " 'сам',\n",
              " 'приготовить',\n",
              " 'а',\n",
              " 'ещё',\n",
              " 'желательно',\n",
              " 'быть',\n",
              " 'в',\n",
              " 'хороший',\n",
              " 'настроение',\n",
              " 'но',\n",
              " 'я',\n",
              " 'и',\n",
              " 'так',\n",
              " 'в',\n",
              " 'хороший',\n",
              " 'всегда',\n",
              " 'если',\n",
              " 'у',\n",
              " 'мы',\n",
              " 'кто',\n",
              " 'и',\n",
              " 'ворчать',\n",
              " 'бывать',\n",
              " 'так',\n",
              " 'это',\n",
              " 'муж',\n",
              " 'а',\n",
              " 'так',\n",
              " 'не',\n",
              " 'работать',\n",
              " 'встречать',\n",
              " 'муж',\n",
              " 'в',\n",
              " 'шёлковый',\n",
              " 'кружевной',\n",
              " 'бельё',\n",
              " 'бывать',\n",
              " 'с',\n",
              " 'бокальчик',\n",
              " 'вино',\n",
              " 'и',\n",
              " 'салатик',\n",
              " 'и',\n",
              " 'виноград',\n",
              " 'не',\n",
              " 'знать',\n",
              " 'что',\n",
              " 'еще',\n",
              " ',',\n",
              " 'автор',\n",
              " 'сказать',\n",
              " 'тогда',\n",
              " 'он',\n",
              " 'что',\n",
              " 'обеспечивать',\n",
              " 'семью-это',\n",
              " 'мужской',\n",
              " 'обязанность',\n",
              " 'и',\n",
              " 'увольняться',\n",
              " 'с',\n",
              " 'работа',\n",
              " 'бессовестный',\n",
              " 'он',\n",
              " 'у',\n",
              " 'вы',\n",
              " 'просто',\n",
              " 'и',\n",
              " 'наглый',\n",
              " 'зачем',\n",
              " 'такой',\n",
              " 'нужен',\n",
              " ',',\n",
              " 'приучать',\n",
              " 'к',\n",
              " 'помощь',\n",
              " 'по',\n",
              " 'дом',\n",
              " 'не',\n",
              " 'делать',\n",
              " 'ничего',\n",
              " 'и',\n",
              " 'не',\n",
              " 'готовьте',\n",
              " ',',\n",
              " 'ть',\n",
              " 'жить',\n",
              " 'на',\n",
              " 'кавказ',\n",
              " 'весь',\n",
              " 'насмотреться',\n",
              " 'кавказец',\n",
              " 'отличный',\n",
              " 'самопиарщик',\n",
              " 'постоянный',\n",
              " 'рассказ',\n",
              " 'какой',\n",
              " 'они',\n",
              " 'обеспечун',\n",
              " 'какой',\n",
              " 'невероятный',\n",
              " 'героический',\n",
              " 'храбрец',\n",
              " 'но',\n",
              " 'в',\n",
              " 'жизнь',\n",
              " 'не',\n",
              " 'так',\n",
              " 'всё',\n",
              " 'по-разному',\n",
              " 'в',\n",
              " 'тот',\n",
              " 'же',\n",
              " 'дагестан',\n",
              " 'нередко',\n",
              " 'можно',\n",
              " 'встретить',\n",
              " 'м',\n",
              " 'зарабатывать',\n",
              " 'копейка',\n",
              " 'жить',\n",
              " 'на',\n",
              " 'женин',\n",
              " 'или',\n",
              " 'родительский',\n",
              " 'зарплата',\n",
              " 'но',\n",
              " 'понт',\n",
              " 'при',\n",
              " 'это',\n",
              " 'ого-го',\n",
              " 'окружающие',\n",
              " 'рассказывать',\n",
              " 'что',\n",
              " 'он',\n",
              " 'главный',\n",
              " 'добытчик',\n",
              " ',',\n",
              " 'я',\n",
              " 'бывший',\n",
              " 'муж',\n",
              " 'хороший',\n",
              " 'немного',\n",
              " 'себя',\n",
              " 'вести',\n",
              " 'посуда',\n",
              " 'мыло',\n",
              " 'и',\n",
              " 'готовить',\n",
              " 'частенько',\n",
              " 'даже',\n",
              " 'подметать',\n",
              " 'и',\n",
              " 'то',\n",
              " 'тяжело',\n",
              " 'быть',\n",
              " 'с',\n",
              " 'они',\n",
              " 'в',\n",
              " 'быт',\n",
              " 'так',\n",
              " 'как',\n",
              " 'свинячить',\n",
              " 'тоже',\n",
              " 'много',\n",
              " 'сейчас',\n",
              " 'один',\n",
              " 'жить',\n",
              " 'и',\n",
              " 'горе',\n",
              " 'не',\n",
              " 'знать',\n",
              " 'забыть',\n",
              " 'что',\n",
              " 'такой',\n",
              " 'упахиваться',\n",
              " 'по',\n",
              " 'хозяйство',\n",
              " 'хотеть',\n",
              " 'халва',\n",
              " 'есть',\n",
              " 'хотеть',\n",
              " 'пряник',\n",
              " ')',\n",
              " ')',\n",
              " 'теперь',\n",
              " 'новый',\n",
              " 'муж',\n",
              " 'искать',\n",
              " 'так',\n",
              " 'сразу',\n",
              " 'в',\n",
              " 'анкета',\n",
              " 'на',\n",
              " 'сз',\n",
              " 'написать',\n",
              " 'что',\n",
              " 'не',\n",
              " 'готовить',\n",
              " 'убирать',\n",
              " 'уборщица',\n",
              " 'деньга',\n",
              " 'не',\n",
              " 'зарабатывать',\n",
              " 'сразу',\n",
              " 'чтобы',\n",
              " 'отсекать',\n",
              " 'весь',\n",
              " 'халявщик',\n",
              " 'и',\n",
              " 'любитель',\n",
              " 'бесплатный',\n",
              " 'прислуга',\n",
              " 'в',\n",
              " 'следующий',\n",
              " 'брак',\n",
              " 'если',\n",
              " 'пойти',\n",
              " 'то',\n",
              " 'только',\n",
              " 'на',\n",
              " 'тот',\n",
              " 'условие',\n",
              " 'что',\n",
              " 'я',\n",
              " 'делать',\n",
              " 'что-то',\n",
              " 'только',\n",
              " 'когда',\n",
              " 'у',\n",
              " 'я',\n",
              " 'на',\n",
              " 'это',\n",
              " 'есть',\n",
              " 'сила',\n",
              " 'и',\n",
              " 'желание',\n",
              " ',',\n",
              " 'многий',\n",
              " 'так',\n",
              " 'считать',\n",
              " 'тогда',\n",
              " 'жена',\n",
              " 'должный',\n",
              " 'сидеть',\n",
              " 'дом',\n",
              " 'и',\n",
              " 'делать',\n",
              " 'домашний',\n",
              " 'делаа',\n",
              " 'муж',\n",
              " 'зарабатывать',\n",
              " 'деньгиа',\n",
              " 'если',\n",
              " 'обра',\n",
              " 'работать',\n",
              " 'тогда',\n",
              " 'должный',\n",
              " 'помогать',\n",
              " 'друг',\n",
              " 'другаа',\n",
              " 'если',\n",
              " 'муж',\n",
              " 'сидеть',\n",
              " 'дом',\n",
              " 'то',\n",
              " 'тем',\n",
              " 'более',\n",
              " ',',\n",
              " 'гастрит',\n",
              " 'нужно',\n",
              " 'лечить',\n",
              " 'тем',\n",
              " 'более',\n",
              " 'в',\n",
              " '90',\n",
              " '%',\n",
              " 'случай',\n",
              " 'он',\n",
              " 'бактериальный',\n",
              " 'если',\n",
              " 'вы',\n",
              " 'оба',\n",
              " 'работать',\n",
              " 'и',\n",
              " 'одинаково',\n",
              " 'зарабатывать',\n",
              " 'а',\n",
              " 'муж',\n",
              " 'работать',\n",
              " 'по',\n",
              " 'дом',\n",
              " '5',\n",
              " 'день',\n",
              " 'в',\n",
              " 'неделя',\n",
              " 'а',\n",
              " 'вы',\n",
              " 'весь',\n",
              " '2',\n",
              " 'день',\n",
              " 'то',\n",
              " 'где',\n",
              " 'справедливость',\n",
              " 'работать',\n",
              " 'по',\n",
              " 'дом',\n",
              " 'одинаково',\n",
              " 'неудивительный',\n",
              " 'что',\n",
              " 'у',\n",
              " 'муж',\n",
              " 'появиться',\n",
              " 'к',\n",
              " 'вы',\n",
              " 'претензии',\n",
              " ',',\n",
              " 'вечер',\n",
              " 'покушать',\n",
              " 'в',\n",
              " 'кафешка',\n",
              " 'и',\n",
              " 'домой',\n",
              " 'отдыхатьня',\n",
              " 'забыть',\n",
              " 'для',\n",
              " 'себя',\n",
              " 'что',\n",
              " 'нибыть',\n",
              " 'купить',\n",
              " 'для',\n",
              " 'бутерброд',\n",
              " 'к',\n",
              " 'чаюутром',\n",
              " 'позавтракать',\n",
              " 'и',\n",
              " 'на',\n",
              " 'работуть',\n",
              " 'обед',\n",
              " 'где',\n",
              " 'нибыть',\n",
              " 'покушайте',\n",
              " ',',\n",
              " 'автор',\n",
              " 'у',\n",
              " 'вы',\n",
              " 'слишком',\n",
              " 'дорога',\n",
              " 'в',\n",
              " 'обслуживание',\n",
              " 'фаллоимитатор',\n",
              " 'по',\n",
              " 'квартира',\n",
              " 'валяется',\n",
              " ',',\n",
              " 'разуметься',\n",
              " 'помогать',\n",
              " 'работать',\n",
              " 'оба',\n",
              " 'в',\n",
              " 'разня',\n",
              " 'смена',\n",
              " 'посуда',\n",
              " 'мыть',\n",
              " 'глажка',\n",
              " 'вообще',\n",
              " 'на',\n",
              " 'немить',\n",
              " 'так',\n",
              " 'не',\n",
              " 'отгладить',\n",
              " 'мочь',\n",
              " 'пропылесосить',\n",
              " 'с',\n",
              " 'ребёнок',\n",
              " 'так',\n",
              " 'же',\n",
              " 'помогать',\n",
              " 'единственный',\n",
              " 'что',\n",
              " 'он',\n",
              " 'не',\n",
              " 'делает-ич',\n",
              " 'готовить',\n",
              " 'он',\n",
              " 'стараться',\n",
              " 'но',\n",
              " 'гадость',\n",
              " 'редкостный',\n",
              " 'и',\n",
              " 'перевод',\n",
              " 'продукт',\n",
              " 'ну',\n",
              " 'и',\n",
              " 'не',\n",
              " 'консервивовать',\n",
              " 'на',\n",
              " 'зима',\n",
              " 'продукт',\n",
              " 'остальной',\n",
              " 'вопросы-кто',\n",
              " 'выходной',\n",
              " 'тот',\n",
              " 'и',\n",
              " 'убирать',\n",
              " 'работать',\n",
              " 'разумеется',\n",
              " 'оба',\n",
              " ',',\n",
              " \"''\",\n",
              " 'муж',\n",
              " 'быть',\n",
              " 'говорить',\n",
              " 'что',\n",
              " 'жена',\n",
              " 'мочь',\n",
              " 'не',\n",
              " 'красавица',\n",
              " 'но',\n",
              " 'умница',\n",
              " 'и',\n",
              " 'всё',\n",
              " 'понимает',\n",
              " \"''\",\n",
              " 'ах',\n",
              " 'вот',\n",
              " 'оно',\n",
              " 'что',\n",
              " 'вы',\n",
              " 'не',\n",
              " 'повезти',\n",
              " 'с',\n",
              " 'внешность',\n",
              " 'правильно',\n",
              " 'себя',\n",
              " 'подавать',\n",
              " 'так',\n",
              " 'и',\n",
              " 'не',\n",
              " 'научиться',\n",
              " 'поэтому',\n",
              " 'наслать',\n",
              " 'в',\n",
              " 'муж',\n",
              " 'безрукий',\n",
              " 'придурок',\n",
              " 'который',\n",
              " 'можно',\n",
              " 'усмирить',\n",
              " 'дешёвый',\n",
              " 'манипуляция',\n",
              " 'от',\n",
              " 'это',\n",
              " 'счастта',\n",
              " 'обзавидоваться',\n",
              " 'можно',\n",
              " 'ваш',\n",
              " 'дело',\n",
              " 'но',\n",
              " 'не',\n",
              " 'надо',\n",
              " 'свой',\n",
              " 'дурной',\n",
              " 'пример',\n",
              " 'преподносить',\n",
              " 'как',\n",
              " 'истина',\n",
              " 'хвалить',\n",
              " 'человек',\n",
              " 'надо',\n",
              " 'лишь',\n",
              " 'тогда',\n",
              " 'когда',\n",
              " 'он',\n",
              " 'это',\n",
              " 'заслужить',\n",
              " 'женщина',\n",
              " '21',\n",
              " 'век',\n",
              " 'который',\n",
              " 'утверждать',\n",
              " 'что',\n",
              " 'без',\n",
              " 'мужчина',\n",
              " 'ваш',\n",
              " 'пропасть',\n",
              " '-',\n",
              " 'дебилка',\n",
              " 'и',\n",
              " 'любой',\n",
              " 'нормальный',\n",
              " 'мужчина',\n",
              " 'услышать',\n",
              " 'такой',\n",
              " 'должный',\n",
              " 'не',\n",
              " 'умиляться',\n",
              " 'а',\n",
              " 'сразу',\n",
              " 'же',\n",
              " 'разорвать',\n",
              " 'такой',\n",
              " 'отношение',\n",
              " 'ибо',\n",
              " 'это',\n",
              " 'клиника',\n",
              " ',',\n",
              " 'так',\n",
              " 'ты',\n",
              " 'и',\n",
              " 'надо',\n",
              " 'а',\n",
              " 'мужчина',\n",
              " 'браво',\n",
              " 'некоторый',\n",
              " 'женщина',\n",
              " 'по',\n",
              " 'жизнь',\n",
              " 'страдалица',\n",
              " 'ну',\n",
              " 'вот',\n",
              " 'и',\n",
              " 'пример',\n",
              " ',',\n",
              " 'автор',\n",
              " 'вы',\n",
              " 'тоже',\n",
              " 'мусульманка',\n",
              " 'вы',\n",
              " 'за',\n",
              " 'он',\n",
              " 'выдать',\n",
              " 'вы',\n",
              " 'в',\n",
              " 'заглавный',\n",
              " 'пост',\n",
              " 'пропустить',\n",
              " 'очень',\n",
              " 'важный',\n",
              " 'деталь',\n",
              " 'а',\n",
              " 'они',\n",
              " 'как',\n",
              " 'раз',\n",
              " 'мочь',\n",
              " 'объяснить',\n",
              " 'как',\n",
              " 'вы',\n",
              " 'оказаться',\n",
              " 'в',\n",
              " 'этот',\n",
              " 'дикий',\n",
              " 'ситуация',\n",
              " 'но',\n",
              " 'если',\n",
              " 'вы',\n",
              " 'жить',\n",
              " 'где-нибудь',\n",
              " 'на',\n",
              " 'кавказ',\n",
              " 'то',\n",
              " 'ситуация',\n",
              " 'сразу',\n",
              " 'становиться',\n",
              " 'не',\n",
              " 'дикий',\n",
              " 'а',\n",
              " 'обычной',\n",
              " ',',\n",
              " 'автор',\n",
              " 'вы',\n",
              " 'служанка',\n",
              " 'муж',\n",
              " 'вы',\n",
              " 'не',\n",
              " 'любить',\n",
              " 'и',\n",
              " 'самый',\n",
              " 'печальный',\n",
              " 'что',\n",
              " 'даже',\n",
              " 'скрывать',\n",
              " 'это',\n",
              " 'не',\n",
              " 'пытаться',\n",
              " 'он',\n",
              " 'жениться',\n",
              " 'для',\n",
              " 'свой',\n",
              " 'удобство',\n",
              " 'и',\n",
              " 'считать',\n",
              " 'что',\n",
              " 'сделать',\n",
              " 'вы',\n",
              " 'глупый',\n",
              " 'баба',\n",
              " 'это',\n",
              " 'одолжение',\n",
              " 'ни',\n",
              " 'один',\n",
              " 'любящий',\n",
              " 'человек',\n",
              " 'не',\n",
              " 'быть',\n",
              " 'сидеть',\n",
              " 'дом',\n",
              " 'и',\n",
              " 'ждать',\n",
              " 'когда',\n",
              " 'он',\n",
              " 'прийти',\n",
              " 'накормить',\n",
              " 'он',\n",
              " 'просто',\n",
              " 'издеваться',\n",
              " 'а',\n",
              " 'вы',\n",
              " 'молчать',\n",
              " '4',\n",
              " 'месяц',\n",
              " 'развивать',\n",
              " 'невроз',\n",
              " 'далёкий',\n",
              " 'быть',\n",
              " 'только',\n",
              " 'хуже',\n",
              " ',',\n",
              " 'ич',\n",
              " 'знать',\n",
              " 'я',\n",
              " 'наоборот',\n",
              " 'видеть',\n",
              " 'состоятельный',\n",
              " 'мужчина',\n",
              " 'из',\n",
              " 'мусульманский',\n",
              " 'семья',\n",
              " 'который',\n",
              " 'и',\n",
              " 'дом',\n",
              " 'не',\n",
              " 'гнушаться',\n",
              " 'что',\n",
              " 'угодный',\n",
              " 'по',\n",
              " 'хозяйство',\n",
              " 'сделать',\n",
              " 'что',\n",
              " 'пол',\n",
              " 'помыть',\n",
              " 'что',\n",
              " 'посуда',\n",
              " 'что',\n",
              " 'постирать',\n",
              " 'погладить',\n",
              " 'от',\n",
              " 'человек',\n",
              " 'зависеть',\n",
              " 'когда',\n",
              " 'не',\n",
              " 'лентяй',\n",
              " 'и',\n",
              " 'не',\n",
              " 'эгоист',\n",
              " 'то',\n",
              " 'всё',\n",
              " 'делать',\n",
              " 'легко',\n",
              " 'а',\n",
              " 'у',\n",
              " 'автор',\n",
              " 'муж',\n",
              " 'эгоист',\n",
              " ',',\n",
              " 'мужской',\n",
              " 'обязанность',\n",
              " 'деньга',\n",
              " 'приносить',\n",
              " 'раз',\n",
              " 'готовка',\n",
              " 'только',\n",
              " 'на',\n",
              " 'вы',\n",
              " 'так',\n",
              " 'и',\n",
              " 'сказать',\n",
              " ...]"
            ]
          },
          "metadata": {},
          "execution_count": 49
        }
      ]
    },
    {
      "cell_type": "code",
      "metadata": {
        "id": "hAZawSXkMoEL"
      },
      "source": [
        "data = word_list_final"
      ],
      "execution_count": null,
      "outputs": []
    },
    {
      "cell_type": "code",
      "metadata": {
        "colab": {
          "base_uri": "https://localhost:8080/"
        },
        "id": "LGLvTp-3jg71",
        "outputId": "227f2e31-c765-4aa5-834d-3d786afdaca3"
      },
      "source": [
        "#data = papers.Комментарий_processed.values.tolist()\n",
        "data_words = list(sent_to_words(data))\n",
        "\n",
        "# remove stop words\n",
        "data_words = remove_stopwords(data_words)\n",
        "\n",
        "print(data_words[:1][0][:30])"
      ],
      "execution_count": null,
      "outputs": [
        {
          "output_type": "stream",
          "name": "stdout",
          "text": [
            "['сказать']\n"
          ]
        }
      ]
    },
    {
      "cell_type": "code",
      "metadata": {
        "id": "w4BsriHHjpoX"
      },
      "source": [
        "import gensim.corpora as corpora"
      ],
      "execution_count": null,
      "outputs": []
    },
    {
      "cell_type": "code",
      "metadata": {
        "id": "JgERV-bXjuZB"
      },
      "source": [
        "# Create Dictionary\n",
        "id2word = corpora.Dictionary(data_words)"
      ],
      "execution_count": null,
      "outputs": []
    },
    {
      "cell_type": "code",
      "metadata": {
        "id": "sal9t_RVjvzv"
      },
      "source": [
        "# Create Corpus\n",
        "texts = data_words"
      ],
      "execution_count": null,
      "outputs": []
    },
    {
      "cell_type": "code",
      "metadata": {
        "id": "2YdSBdzpjyS6"
      },
      "source": [
        "# Term Document Frequency\n",
        "corpus = [id2word.doc2bow(text) for text in texts]"
      ],
      "execution_count": null,
      "outputs": []
    },
    {
      "cell_type": "code",
      "metadata": {
        "colab": {
          "base_uri": "https://localhost:8080/"
        },
        "id": "C-fQ7lRfj0-j",
        "outputId": "8c68ad7e-411f-4c82-d7c0-2c76977a8e56"
      },
      "source": [
        "# View\n",
        "print(corpus[:1][0][:30])"
      ],
      "execution_count": null,
      "outputs": [
        {
          "output_type": "stream",
          "name": "stdout",
          "text": [
            "[(0, 1)]\n"
          ]
        }
      ]
    },
    {
      "cell_type": "markdown",
      "metadata": {
        "id": "FJE8TxdAj7PZ"
      },
      "source": [
        "## Step 5: LDA model tranining"
      ]
    },
    {
      "cell_type": "code",
      "metadata": {
        "id": "SwC0P2Kdj859"
      },
      "source": [
        "from pprint import pprint\n",
        "\n",
        "# number of topics\n",
        "num_topics = 4"
      ],
      "execution_count": null,
      "outputs": []
    },
    {
      "cell_type": "code",
      "metadata": {
        "id": "Wyy-wzn7kBhJ"
      },
      "source": [
        "# Build LDA model\n",
        "lda_model = gensim.models.LdaMulticore(corpus=corpus,\n",
        "                                       id2word=id2word,\n",
        "                                       num_topics=num_topics)"
      ],
      "execution_count": null,
      "outputs": []
    },
    {
      "cell_type": "code",
      "metadata": {
        "colab": {
          "base_uri": "https://localhost:8080/"
        },
        "id": "poVm9xmEkEB0",
        "outputId": "d13743f8-bec4-49bd-88c3-df361f5646ec"
      },
      "source": [
        "# Print the Keyword in the 4 topics\n",
        "pprint(lda_model.print_topics())\n",
        "doc_lda = lda_model[corpus]"
      ],
      "execution_count": null,
      "outputs": [
        {
          "output_type": "stream",
          "name": "stdout",
          "text": [
            "[(0,\n",
            "  '0.033*\"готовить\" + 0.028*\"мочь\" + 0.020*\"работать\" + 0.019*\"семья\" + '\n",
            "  '0.016*\"русскии\" + 0.016*\"какои\" + 0.015*\"автор\" + 0.014*\"женскии\" + '\n",
            "  '0.011*\"ми\" + 0.011*\"наш\"'),\n",
            " (1,\n",
            "  '0.028*\"помогать\" + 0.024*\"обязанность\" + 0.014*\"мужскои\" + '\n",
            "  '0.013*\"хозяиство\" + 0.013*\"воспитание\" + 0.010*\"весь\" + 0.009*\"муж\" + '\n",
            "  '0.009*\"полностью\" + 0.009*\"знать\" + 0.008*\"час\"'),\n",
            " (2,\n",
            "  '0.053*\"муж\" + 0.023*\"мужчина\" + 0.020*\"ребенок\" + 0.012*\"такои\" + '\n",
            "  '0.010*\"время\" + 0.010*\"семья\" + 0.009*\"человек\" + 0.009*\"ть\" + '\n",
            "  '0.007*\"обязанности\" + 0.007*\"любить\"'),\n",
            " (3,\n",
            "  '0.041*\"жена\" + 0.025*\"ваш\" + 0.025*\"хотеть\" + 0.025*\"должныи\" + '\n",
            "  '0.018*\"работа\" + 0.013*\"мама\" + 0.013*\"которыи\" + 0.012*\"замужем\" + '\n",
            "  '0.011*\"помощница\" + 0.011*\"воспитывать\"')]\n"
          ]
        }
      ]
    },
    {
      "cell_type": "markdown",
      "metadata": {
        "id": "hJncXwOmkOmW"
      },
      "source": [
        "## Step 6: Analyzing our LDA model "
      ]
    },
    {
      "cell_type": "code",
      "metadata": {
        "id": "axCeahhkkP13",
        "colab": {
          "base_uri": "https://localhost:8080/"
        },
        "outputId": "450ebf49-40fc-4070-deb6-ca676d39035c"
      },
      "source": [
        "import pyLDAvis\n",
        "import pyLDAvis.gensim\n",
        "import pickle\n",
        "\n",
        "# Visualize the topics\n",
        "pyLDAvis.enable_notebook()"
      ],
      "execution_count": null,
      "outputs": [
        {
          "output_type": "stream",
          "name": "stderr",
          "text": [
            "/usr/local/lib/python3.7/dist-packages/past/types/oldstr.py:5: DeprecationWarning: Using or importing the ABCs from 'collections' instead of from 'collections.abc' is deprecated since Python 3.3,and in 3.9 it will stop working\n",
            "  from collections import Iterable\n"
          ]
        }
      ]
    },
    {
      "cell_type": "code",
      "metadata": {
        "id": "pef0XWQnkdRp"
      },
      "source": [
        "LDAvis_data_filepath = os.path.join('/content/drive/MyDrive/Colab Notebooks/Test/ldavis_prepared_russian_'+str(num_topics))"
      ],
      "execution_count": null,
      "outputs": []
    },
    {
      "cell_type": "code",
      "metadata": {
        "id": "bU2_5a_1mt8r"
      },
      "source": [
        "# # this is a bit time consuming - make the if statement True\n",
        "# # if you want to execute visualization prep yourself\n",
        "if 1 == 1:\n",
        "    LDAvis_prepared = pyLDAvis.gensim.prepare(lda_model, corpus, id2word)\n",
        "    with open(LDAvis_data_filepath, 'wb') as f:\n",
        "        pickle.dump(LDAvis_prepared, f)"
      ],
      "execution_count": null,
      "outputs": []
    },
    {
      "cell_type": "code",
      "metadata": {
        "colab": {
          "base_uri": "https://localhost:8080/",
          "height": 861
        },
        "id": "8IKCJo4VpYFN",
        "outputId": "fb966b6d-03a5-480d-901c-00864138e8b4"
      },
      "source": [
        "# load the pre-prepared pyLDAvis data from disk\n",
        "with open(LDAvis_data_filepath, 'rb') as f:\n",
        "    LDAvis_prepared = pickle.load(f)\n",
        "\n",
        "pyLDAvis.save_html(LDAvis_prepared, '/content/drive/MyDrive/Colab Notebooks/Test/ldavis_prepared_russian_'+ str(num_topics) +'.html')\n",
        "\n",
        "LDAvis_prepared"
      ],
      "execution_count": null,
      "outputs": [
        {
          "output_type": "execute_result",
          "data": {
            "text/html": [
              "\n",
              "<link rel=\"stylesheet\" type=\"text/css\" href=\"https://cdn.rawgit.com/bmabey/pyLDAvis/files/ldavis.v1.0.0.css\">\n",
              "\n",
              "\n",
              "<div id=\"ldavis_el1651399698730087207823526767\"></div>\n",
              "<script type=\"text/javascript\">\n",
              "\n",
              "var ldavis_el1651399698730087207823526767_data = {\"mdsDat\": {\"x\": [-0.04470335688167597, -0.1290031892141097, 0.14505733599347306, 0.028649210102312632], \"y\": [-0.0782452706334679, 0.09903510214604157, 0.08481907889987235, -0.10560891041244609], \"topics\": [1, 2, 3, 4], \"cluster\": [1, 1, 1, 1], \"Freq\": [25.7048578475226, 25.374064793091687, 25.214422854153273, 23.706654505232432]}, \"tinfo\": {\"Term\": [\"\\u043c\\u0443\\u0436\", \"\\u0436\\u0435\\u043d\\u0430\", \"\\u0433\\u043e\\u0442\\u043e\\u0432\\u0438\\u0442\\u044c\", \"\\u043c\\u043e\\u0447\\u044c\", \"\\u043f\\u043e\\u043c\\u043e\\u0433\\u0430\\u0442\\u044c\", \"\\u0434\\u043e\\u043b\\u0436\\u043d\\u044b\\u0438\", \"\\u0432\\u0430\\u0448\", \"\\u043e\\u0431\\u044f\\u0437\\u0430\\u043d\\u043d\\u043e\\u0441\\u0442\\u044c\", \"\\u0445\\u043e\\u0442\\u0435\\u0442\\u044c\", \"\\u043c\\u0443\\u0436\\u0447\\u0438\\u043d\\u0430\", \"\\u0440\\u0430\\u0431\\u043e\\u0442\\u0430\", \"\\u0440\\u0443\\u0441\\u0441\\u043a\\u0438\\u0438\", \"\\u0440\\u0435\\u0431\\u0435\\u043d\\u043e\\u043a\", \"\\u0441\\u0435\\u043c\\u044c\\u044f\", \"\\u0430\\u0432\\u0442\\u043e\\u0440\", \"\\u0436\\u0435\\u043d\\u0441\\u043a\\u0438\\u0438\", \"\\u0445\\u043e\\u0437\\u044f\\u0438\\u0441\\u0442\\u0432\\u043e\", \"\\u0432\\u043e\\u0441\\u043f\\u0438\\u0442\\u0430\\u043d\\u0438\\u0435\", \"\\u043c\\u0430\\u043c\\u0430\", \"\\u043a\\u043e\\u0442\\u043e\\u0440\\u044b\\u0438\", \"\\u043a\\u0430\\u043a\\u043e\\u0438\", \"\\u043c\\u0438\", \"\\u043c\\u0443\\u0436\\u0441\\u043a\\u043e\\u0438\", \"\\u043d\\u0430\\u0448\", \"\\u0441\\u043a\\u043e\\u043b\\u044c\\u043a\\u043e\", \"\\u0440\\u0430\\u0431\\u043e\\u0442\\u0430\\u0442\\u044c\", \"\\u043b\\u043e\\u0448\\u0430\\u0434\\u044c\", \"\\u043f\\u043e\\u043c\\u043e\\u0449\\u043d\\u0438\\u0446\\u0430\", \"\\u0432\\u043e\\u0441\\u043f\\u0438\\u0442\\u044b\\u0432\\u0430\\u0442\\u044c\", \"\\u0437\\u0430\\u043c\\u0443\\u0436\\u0435\\u043c\", \"\\u043c\\u0443\\u0436\\u0447\\u0438\\u043d\\u0430\", \"\\u0432\\u0440\\u0435\\u043c\\u044f\", \"\\u0442\\u044c\", \"\\u0440\\u043e\\u043d\\u044f\\u0442\\u044c\", \"\\u043f\\u043b\\u043e\\u0434\", \"\\u043a\\u0443\\u043b\\u044c\\u0442\\u0443\\u0440\\u0430\", \"\\u043e\\u0442\\u0434\\u044b\\u0445\\u0430\\u0442\\u044c\", \"\\u0434\\u043e\\u0441\\u0442\\u043e\\u0438\\u043d\\u044b\\u0438\", \"\\u043e\\u0431\\u044f\\u0437\\u0430\\u043d\\u043d\\u043e\\u0441\\u0442\\u0438\", \"\\u0435\\u0436\\u0435\\u0434\\u043d\\u0435\\u0432\\u043d\\u043e\", \"\\u043f\\u043b\\u044e\\u043d\\u0443\\u0442\\u044c\", \"\\u0441\\u0431\\u0435\\u0436\\u0430\\u0442\\u044c\", \"\\u043b\\u044e\\u0431\\u0438\\u0442\\u044c\", \"\\u0443\\u0431\\u0438\\u0440\\u0430\\u0442\\u044c\", \"\\u043f\\u0435\\u0440\\u0432\\u044b\\u0445\", \"\\u043d\\u0430\\u0441\\u043b\\u0430\\u0436\\u0434\\u0430\\u0442\\u044c\\u0441\\u044f\", \"\\u0432\\u0438\\u0434\", \"\\u0441\\u043e\\u0434\\u0435\\u0440\\u0436\\u0430\\u0442\\u044c\", \"\\u0432\\u043c\\u0435\\u0441\\u0442\\u043e\", \"\\u0437\\u0430\\u0432\\u043e\\u0434\\u0438\\u0442\\u044c\", \"\\u043f\\u043b\\u043e\\u0445\\u043e\", \"\\u043d\\u0435\\u0440\\u0430\\u0431\\u043e\\u0442\\u0430\\u044e\\u0449\\u0438\\u0438\", \"\\u043f\\u043e\\u043b\\u043e\\u0432\\u0438\\u043d\\u043a\\u0430\", \"\\u0443\\u0434\\u0438\\u0432\\u043b\\u044f\\u0442\\u044c\", \"\\u0440\\u0435\\u0431\\u0440\\u043e\\u043c\", \"\\u0440\\u043e\\u0434\\u0438\\u0442\\u0435\", \"\\u0447\\u0435\\u0440\\u0442\\u0430\", \"\\u043f\\u043e\\u0444\\u0438\\u0433\\u0430\", \"\\u043d\\u0435\\u0441\\u043a\\u043e\\u043b\\u044c\\u043a\\u043e\", \"\\u0440\\u043e\\u0433\\u043e\\u0432\", \"\\u043c\\u0443\\u0436\", \"\\u0440\\u0435\\u0431\\u0435\\u043d\\u043e\\u043a\", \"\\u0442\\u0430\\u043a\\u043e\\u0438\", \"\\u0447\\u0435\\u043b\\u043e\\u0432\\u0435\\u043a\", \"\\u0441\\u0435\\u043c\\u044c\\u044f\", \"\\u043c\\u043e\\u0447\\u044c\", \"\\u0433\\u043e\\u0442\\u043e\\u0432\\u0438\\u0442\\u044c\", \"\\u043c\\u0438\", \"\\u0440\\u0443\\u0441\\u0441\\u043a\\u0438\\u0438\", \"\\u0436\\u0435\\u043d\\u0441\\u043a\\u0438\\u0438\", \"\\u0430\\u0432\\u0442\\u043e\\u0440\", \"\\u043d\\u0430\\u0448\", \"\\u0441\\u043a\\u043e\\u043b\\u044c\\u043a\\u043e\", \"\\u043b\\u043e\\u0448\\u0430\\u0434\\u044c\", \"\\u0441\\u0438\\u0434\\u0435\\u0442\\u044c\", \"\\u0443\\u0431\\u0438\\u0440\\u0430\\u0442\\u044c\\u0441\\u044f\", \"\\u043f\\u043e\\u0441\\u0443\\u0434\\u0430\", \"\\u0432\\u043e\\u043f\\u0440\\u043e\\u0441\", \"\\u0431\\u0435\\u0436\\u0430\\u0442\\u044c\", \"\\u0437\\u0430\\u043c\\u0443\\u0436\", \"\\u0441\\u0435\\u0438\\u0447\\u0430\\u0441\", \"\\u043d\\u0430\\u0447\\u0438\\u043d\\u0430\\u0442\\u044c\", \"\\u0436\\u0438\\u0432\\u0438\\u0442\\u044c\", \"\\u0437\\u0430\\u0432\\u0435\\u0441\\u0442\\u0438\", \"\\u044d\\u0442\\u044b\\u0438\", \"\\u0440\\u0435\\u0448\\u0430\\u0442\\u044c\", \"\\u043f\\u043e\\u043c\\u0438\\u043c\\u043e\", \"\\u0434\\u0435\\u0438\\u0441\\u0442\\u0432\\u0438\\u0442\\u0435\\u043b\\u044c\\u043d\\u043e\", \"\\u0437\\u043d\\u0430\\u0447\\u0438\\u0442\\u044c\", \"\\u0438\\u0437\\u043d\\u0430\\u0447\\u0430\\u043b\\u044c\\u043d\\u043e\", \"\\u043d\\u0430\\u0441\\u043b\\u0435\\u0433\", \"\\u043e\\u0441\\u043a\\u043e\\u0440\\u0431\\u043b\\u0435\\u043d\\u0438\\u0435\", \"\\u0433\\u043e\\u043b\\u043e\\u0432\\u043d\\u043e\\u0438\", \"\\u043d\\u0430\\u0447\\u0430\\u0442\\u044c\\u0441\\u044f\", \"\\u0432\\u043c\\u0435\\u0441\\u0442\\u0435\", \"\\u0441\\u043a\\u0430\\u0437\\u0430\\u0442\\u044c\", \"\\u043a\\u0430\\u043a\\u043e\\u0438\", \"\\u0441\\u0435\\u043c\\u044c\\u044f\", \"\\u0440\\u0430\\u0431\\u043e\\u0442\\u0430\\u0442\\u044c\", \"\\u0434\\u0435\\u043d\\u044c\\u0433\\u0430\", \"\\u043e\\u0442\\u043f\\u0440\\u0430\\u0432\\u0438\\u0442\\u044c\", \"\\u0447\\u0435\\u043b\\u043e\\u0432\\u0435\\u043a\", \"\\u0436\\u0435\\u043d\\u0449\\u0438\\u043d\\u0430\", \"\\u0442\\u0430\\u043a\\u043e\\u0438\", \"\\u0434\\u043e\\u043b\\u0436\\u043d\\u044b\\u0438\", \"\\u0436\\u0435\\u043d\\u0430\", \"\\u0432\\u0430\\u0448\", \"\\u0445\\u043e\\u0442\\u0435\\u0442\\u044c\", \"\\u043a\\u043e\\u0442\\u043e\\u0440\\u044b\\u0438\", \"\\u043f\\u043e\\u043c\\u043e\\u0449\\u043d\\u0438\\u0446\\u0430\", \"\\u043c\\u0430\\u043c\\u0430\", \"\\u0432\\u043e\\u0441\\u043f\\u0438\\u0442\\u044b\\u0432\\u0430\\u0442\\u044c\", \"\\u0440\\u0430\\u0431\\u043e\\u0442\\u0430\", \"\\u0443\\u0441\\u043f\\u0435\\u0442\\u044c\", \"\\u043f\\u043e\\u043d\\u044f\\u0442\\u0438\\u0435\", \"\\u0441\\u0435\\u043b\\u043e\", \"\\u0432\\u0430\\u0440\\u0438\\u0430\\u043d\\u0442\", \"\\u0432\\u043e\\u0437\\u043e\\u043c\\u043d\\u0438\\u0442\\u044c\", \"\\u043e\\u0431\\u0441\\u043b\\u0443\\u0436\\u0438\\u0432\\u0430\\u0442\\u044c\", \"\\u0437\\u0430\\u043c\\u0443\\u0436\\u0435\\u043c\", \"\\u0432\\u0438\\u0434\\u0435\\u0442\\u044c\", \"\\u043e\\u0442\\u043f\\u0440\\u0430\\u0432\\u043b\\u044f\\u0442\\u044c\\u0441\\u044f\", \"\\u0437\\u0434\\u043e\\u0440\\u043e\\u0432\\u0435\\u043d\\u043d\\u044b\\u0438\", \"\\u043f\\u0440\\u0438\\u0441\\u043b\\u0443\\u0433\\u0430\", \"\\u0432\\u043d\\u0435\\u0448\\u043d\\u043e\\u0441\\u0442\\u044c\", \"\\u0443\\u0431\\u043e\\u0440\", \"\\u043c\\u043e\\u043b\\u0438\\u0442\\u044c\\u0441\\u044f\", \"\\u043f\\u0440\\u043e\\u043f\\u043e\\u0432\\u0435\\u0434\\u0443\\u044e\\u0442\", \"\\u0442\\u0430\\u043f\\u043a\\u0430\", \"\\u043f\\u043e\\u0441\\u0442\\u0430\\u0432\\u0438\\u0442\\u044c\", \"\\u043d\\u0430\\u0437\\u0430\\u0434\", \"\\u0441\\u0430\\u043c\\u043e\\u0441\\u0442\\u043e\\u044f\\u0442\\u0435\\u043b\\u044c\\u043d\\u043e\", \"\\u043f\\u043e\\u0432\\u0437\\u0440\\u043e\\u0441\\u043b\\u0435\\u0442\\u044c\", \"\\u0443\\u043c\\u0435\\u0445\\u0430\", \"\\u0440\\u043e\\u0434\\u0438\\u0442\\u044c\", \"\\u0445\\u043e\\u0440\\u043e\\u0448\\u0438\\u0438\", \"\\u0438\\u0447\", \"\\u0441\\u043c\\u0435\\u043d\\u0430\", \"\\u043e\\u0431\\u044f\\u0437\\u0430\\u0442\\u044c\", \"\\u0434\\u0435\\u043b\\u0430\\u0442\\u044c\", \"\\u0434\\u0435\\u043d\\u044c\", \"\\u0440\\u0430\\u0431\\u043e\\u0442\\u0430\\u0442\\u044c\", \"\\u043a\\u043e\\u0440\\u043c\\u0438\\u0442\\u044c\", \"\\u0437\\u043d\\u0430\\u0442\\u044c\", \"\\u043c\\u0443\\u0436\\u0441\\u043a\\u043e\\u0438\", \"\\u043c\\u0443\\u0441\\u0443\\u043b\\u044c\\u043c\\u0430\\u043d\\u0441\\u043a\\u0438\\u0438\", \"\\u043e\\u0431\\u044f\\u0437\\u0430\\u043d\\u043d\\u043e\\u0441\\u0442\\u044c\", \"\\u043f\\u043e\\u043c\\u043e\\u0433\\u0430\\u0442\\u044c\", \"\\u0432\\u043e\\u0441\\u043f\\u0438\\u0442\\u0430\\u043d\\u0438\\u0435\", \"\\u0445\\u043e\\u0437\\u044f\\u0438\\u0441\\u0442\\u0432\\u043e\", \"\\u0432\\u0435\\u0441\\u044c\", \"\\u043f\\u043e\\u043b\\u043d\\u043e\\u0441\\u0442\\u044c\\u044e\", \"\\u0447\\u0430\\u0441\", \"\\u043f\\u043e\\u044d\\u0442\\u043e\\u043c\\u0443\", \"\\u0431\\u0440\\u0430\\u0432\\u043e\", \"\\u043e\\u0431\\u0449\\u0438\\u0438\", \"\\u043c\\u0443\\u0436\\u0441\\u043a\\u0430\\u044f\", \"\\u043c\\u0443\\u0436\\u0438\\u0447\\u043a\\u0430\", \"\\u0440\\u0435\\u0431\\u0435\\u043d\\u043e\\u0447\\u0435\\u043a\", \"\\u043c\\u0443\\u0436\\u0438\\u043a\\u0430\", \"\\u043b\\u043e\\u043c\\u043e\\u0432\", \"\\u0436\\u0435\\u043d\\u0430\\u0442\\u044b\\u0438\", \"\\u0440\\u0430\\u0437\\u0432\\u0438\\u0442\\u0438\\u0435\", \"\\u0442\\u0435\\u0440\\u043f\\u0435\\u0442\\u044c\", \"\\u0431\\u0435\\u0445\\u0430\\u0442\\u044c\", \"\\u0442\\u0430\\u0434\\u0436\\u0438\\u0447\\u043a\\u0430\", \"\\u0438\\u0448\\u0430\\u0447\\u0438\\u0442\\u044c\", \"\\u043a\\u0440\\u044b\\u043b\\u043e\", \"\\u0431\\u043e\\u0433\", \"\\u043f\\u0435\\u0440\\u0435\\u0436\\u0438\\u0432\\u0430\\u0442\\u044c\", \"\\u043e\\u0442\\u043d\\u043e\\u0441\\u0438\\u0442\\u044c\\u0441\\u044f\", \"\\u043f\\u043e\\u0434\\u0435\\u043b\\u0438\\u0442\\u044c\", \"\\u0445\\u0438\\u0442\\u0440\\u043e\\u043f\\u043e\\u043f\\u044b\\u0438\", \"\\u043f\\u043e\\u0434\\u0434\\u0435\\u0440\\u0436\\u0430\\u043d\\u0438\\u0435\", \"\\u0432\\u044b\\u0431\\u0440\\u0430\\u0442\\u044c\", \"\\u0437\\u0430\\u0448\\u0438\\u0432\\u0430\\u0442\\u044c\\u0441\\u044f\", \"\\u0434\\u0443\\u043c\\u0430\\u0442\\u044c\", \"\\u043c\\u0443\\u0436\\u0441\\u043a\\u043e\\u0438\", \"\\u0443\\u043d\\u0438\\u0436\\u0435\\u043d\\u0438\\u0435\", \"\\u0437\\u043d\\u0430\\u0442\\u044c\", \"\\u043c\\u0443\\u0436\", \"\\u0434\\u0435\\u043b\\u0430\\u0442\\u044c\", \"\\u043a\\u0430\\u043a\\u043e\\u0438\"], \"Freq\": [36.0, 25.0, 20.0, 17.0, 16.0, 15.0, 15.0, 14.0, 15.0, 14.0, 11.0, 10.0, 15.0, 17.0, 9.0, 9.0, 7.0, 7.0, 8.0, 8.0, 13.0, 7.0, 12.0, 7.0, 7.0, 20.0, 7.0, 7.0, 7.0, 7.0, 13.165099572096848, 5.88361167973967, 5.180747764969325, 3.7493987559792172, 3.724257433569022, 3.722055545950656, 3.889686055049286, 3.8877706774582794, 4.29153864653287, 3.707822127447289, 4.1095715645195146, 3.699962679430053, 4.203670260734124, 3.5390272156738494, 3.69743701657813, 3.690748992216581, 3.6874869364856684, 4.09009671375315, 4.013480799999695, 3.6733293985833266, 3.6720964063260957, 3.671002483497791, 3.671138042436277, 3.6700697731919485, 3.668023157266072, 3.6607013543614393, 3.6424311418910675, 3.640273540459777, 3.63668824957076, 3.6355119652360033, 30.505902677789763, 11.5854750080241, 6.6798859645608735, 5.273562431796477, 5.724006421822082, 16.184348529569817, 18.967200644247686, 6.452697276934686, 9.303116090117339, 8.212007499407884, 8.375276049899785, 6.3268210672724425, 6.322355076808927, 6.268192747198042, 4.912863003135128, 4.423606204134319, 4.152173198567035, 4.55333184487473, 3.816834732349595, 3.955816494186766, 4.524752598034851, 3.972927683146655, 3.2586648269514877, 3.900683876567812, 3.60099443151718, 3.7489564221191456, 3.6010600059265165, 3.2375378718263335, 3.2320005661143476, 3.2309503093144043, 3.2243475527320196, 3.2204309478686777, 3.2210320466209295, 3.2178133027480067, 4.578913328269898, 4.915838908443394, 8.925445344233554, 10.632223001074255, 11.491039844524364, 4.203356957243258, 3.3220342301334496, 4.4022204166861325, 3.5041759486328603, 3.5674203339368593, 14.040328513851568, 23.297667388142596, 14.316394353270162, 14.115005048141164, 7.28505033681605, 6.214129182877371, 7.4721586023959246, 6.209094768111806, 10.093700165201486, 3.8287725559500125, 3.4145453273303126, 3.2588000406556468, 3.25562856596407, 3.2545226687923225, 3.905964973194639, 6.603937937059335, 3.745931984120195, 3.239164074825313, 3.2358198947550587, 3.5196211868937834, 3.3685765591915326, 3.2266299554792246, 3.2175295475193306, 3.221722950663267, 3.2182116278108874, 3.218137459856854, 3.2122056128474856, 3.213309655820382, 3.207405621793776, 3.205483082471011, 3.348724976523402, 4.937799350472184, 4.275638452284295, 3.3276535958969724, 3.763337083847425, 5.282023950334142, 3.9217632771748465, 4.775737073198276, 3.361371142457191, 3.675122513976789, 3.7528245710198456, 3.4160901398586074, 12.986370242095129, 15.038061690306725, 6.940376036867555, 7.068447923317905, 5.411894294208773, 4.756433212855274, 4.168786849122887, 4.07991629151766, 3.5223140856184494, 3.5146454623270946, 3.3623476298301576, 3.353729892373976, 3.3508628752484215, 3.3503386334963983, 3.3507293866122767, 3.8688797234276318, 3.346061767174547, 3.340687355293947, 3.3338804310344217, 3.3334089870265453, 3.3237522298129094, 3.3193406296250987, 3.3202454136085198, 3.3185548896119714, 3.3205768937852147, 3.318574564243045, 3.313923879930796, 3.3142396702118253, 3.310893986745468, 3.309402699519285, 3.4470773002093087, 7.533336543357506, 3.405958317449423, 4.721566778041373, 4.805704964258502, 3.907294316075774, 3.5170721661901423], \"Total\": [36.0, 25.0, 20.0, 17.0, 16.0, 15.0, 15.0, 14.0, 15.0, 14.0, 11.0, 10.0, 15.0, 17.0, 9.0, 9.0, 7.0, 7.0, 8.0, 8.0, 13.0, 7.0, 12.0, 7.0, 7.0, 20.0, 7.0, 7.0, 7.0, 7.0, 14.767793813648977, 6.700625881605281, 5.933620183199286, 4.368890880209105, 4.366278603125487, 4.366297823403154, 4.56430737211237, 4.5633573747560146, 5.04252298978283, 4.364121755133219, 4.84277559305836, 4.3630600958182875, 4.957367613339404, 4.174862280547529, 4.3622148071653015, 4.3618273366482265, 4.361286659621054, 4.839080912406215, 4.75717883768235, 4.360034710576298, 4.359552465595434, 4.359989556554045, 4.360861590762, 4.359978929201935, 4.359383086574591, 4.358481577496025, 4.356242432309448, 4.356474888321089, 4.355535207776746, 4.354932774204649, 36.887508340035076, 15.332850711119576, 10.977828788638252, 10.40697435863791, 17.38047170993724, 17.51537544236269, 20.995991119403254, 7.179822286647487, 10.45129099721569, 9.255196878979822, 9.465898030452792, 7.1861596253845095, 7.183151451823302, 7.189465303894421, 5.740696127414418, 5.210697237033056, 4.893330456288328, 5.3894413223388, 4.529281407500792, 4.708264310970467, 5.39026672894879, 4.781011846590578, 3.9253786477649166, 4.711795373476327, 4.352403316270326, 4.53335951094079, 4.3552768996661335, 3.9240549868953263, 3.923362654256996, 3.9252208413499505, 3.924809495428768, 3.923552018993411, 3.9243963132462163, 3.926438485063183, 5.58931840506911, 6.428864418862235, 13.412733529606513, 17.38047170993724, 20.148532095178727, 5.608655707672919, 4.107955931779739, 10.40697435863791, 5.53526517610001, 10.977828788638252, 15.361328956175571, 25.775360569295362, 15.862962295247693, 15.766553248355358, 8.313067061960487, 7.175826724719117, 8.637316484729421, 7.180152713282631, 11.90050659175064, 4.518947934624888, 4.093340052170458, 3.9168030245818133, 3.917566397210773, 3.9171604051729965, 4.7031133130141605, 7.95429168070992, 4.523180651399535, 3.9167954485663645, 3.9180497783696455, 4.271736049896791, 4.0931531503881615, 3.9207862563537543, 3.9162090284734083, 3.9218801991977235, 3.9179770577943183, 3.918393024831949, 3.918298455080412, 3.920555843730323, 3.9174401506469056, 3.9162058743235435, 4.09635716841777, 6.321036913137818, 5.540073797678912, 4.096790945767033, 5.20985022019076, 10.885674252932239, 6.763031997422231, 20.148532095178727, 4.719502575635592, 9.33201105611077, 12.094067911264913, 7.364743715997347, 14.256639669282308, 16.52237225493114, 7.781026355137664, 7.960810798494013, 6.203597700499095, 5.550132381586454, 4.918427466656343, 4.844997137834159, 4.222070316788956, 4.218885912407128, 4.0362876812239525, 4.03606777307779, 4.035268588580471, 4.035695407892972, 4.0368782126184275, 4.662183376376085, 4.035954348994332, 4.036892692078181, 4.037222597645059, 4.039818666228105, 4.038431287089609, 4.035865236142685, 4.037670905720244, 4.036257556917231, 4.039493260380736, 4.037152661527021, 4.036923146282048, 4.0393475068575775, 4.035516233515675, 4.037315058907802, 4.218730456905668, 12.094067911264913, 4.21628572816312, 9.33201105611077, 36.887508340035076, 10.885674252932239, 13.412733529606513], \"Category\": [\"Default\", \"Default\", \"Default\", \"Default\", \"Default\", \"Default\", \"Default\", \"Default\", \"Default\", \"Default\", \"Default\", \"Default\", \"Default\", \"Default\", \"Default\", \"Default\", \"Default\", \"Default\", \"Default\", \"Default\", \"Default\", \"Default\", \"Default\", \"Default\", \"Default\", \"Default\", \"Default\", \"Default\", \"Default\", \"Default\", \"Topic1\", \"Topic1\", \"Topic1\", \"Topic1\", \"Topic1\", \"Topic1\", \"Topic1\", \"Topic1\", \"Topic1\", \"Topic1\", \"Topic1\", \"Topic1\", \"Topic1\", \"Topic1\", \"Topic1\", \"Topic1\", \"Topic1\", \"Topic1\", \"Topic1\", \"Topic1\", \"Topic1\", \"Topic1\", \"Topic1\", \"Topic1\", \"Topic1\", \"Topic1\", \"Topic1\", \"Topic1\", \"Topic1\", \"Topic1\", \"Topic1\", \"Topic1\", \"Topic1\", \"Topic1\", \"Topic1\", \"Topic2\", \"Topic2\", \"Topic2\", \"Topic2\", \"Topic2\", \"Topic2\", \"Topic2\", \"Topic2\", \"Topic2\", \"Topic2\", \"Topic2\", \"Topic2\", \"Topic2\", \"Topic2\", \"Topic2\", \"Topic2\", \"Topic2\", \"Topic2\", \"Topic2\", \"Topic2\", \"Topic2\", \"Topic2\", \"Topic2\", \"Topic2\", \"Topic2\", \"Topic2\", \"Topic2\", \"Topic2\", \"Topic2\", \"Topic2\", \"Topic2\", \"Topic2\", \"Topic2\", \"Topic2\", \"Topic2\", \"Topic2\", \"Topic2\", \"Topic2\", \"Topic2\", \"Topic3\", \"Topic3\", \"Topic3\", \"Topic3\", \"Topic3\", \"Topic3\", \"Topic3\", \"Topic3\", \"Topic3\", \"Topic3\", \"Topic3\", \"Topic3\", \"Topic3\", \"Topic3\", \"Topic3\", \"Topic3\", \"Topic3\", \"Topic3\", \"Topic3\", \"Topic3\", \"Topic3\", \"Topic3\", \"Topic3\", \"Topic3\", \"Topic3\", \"Topic3\", \"Topic3\", \"Topic3\", \"Topic3\", \"Topic3\", \"Topic3\", \"Topic3\", \"Topic3\", \"Topic3\", \"Topic3\", \"Topic3\", \"Topic3\", \"Topic3\", \"Topic3\", \"Topic3\", \"Topic3\", \"Topic3\", \"Topic4\", \"Topic4\", \"Topic4\", \"Topic4\", \"Topic4\", \"Topic4\", \"Topic4\", \"Topic4\", \"Topic4\", \"Topic4\", \"Topic4\", \"Topic4\", \"Topic4\", \"Topic4\", \"Topic4\", \"Topic4\", \"Topic4\", \"Topic4\", \"Topic4\", \"Topic4\", \"Topic4\", \"Topic4\", \"Topic4\", \"Topic4\", \"Topic4\", \"Topic4\", \"Topic4\", \"Topic4\", \"Topic4\", \"Topic4\", \"Topic4\", \"Topic4\", \"Topic4\", \"Topic4\", \"Topic4\", \"Topic4\", \"Topic4\"], \"logprob\": [30.0, 29.0, 28.0, 27.0, 26.0, 25.0, 24.0, 23.0, 22.0, 21.0, 20.0, 19.0, 18.0, 17.0, 16.0, 15.0, 14.0, 13.0, 12.0, 11.0, 10.0, 9.0, 8.0, 7.0, 6.0, 5.0, 4.0, 3.0, 2.0, 1.0, -3.7853000164031982, -4.590700149536133, -4.717899799346924, -5.041299819946289, -5.047999858856201, -5.048600196838379, -5.004499912261963, -5.005000114440918, -4.906199932098389, -5.0524001121521, -4.94950008392334, -5.054500102996826, -4.9268999099731445, -5.098999977111816, -5.055200099945068, -5.057000160217285, -5.0578999519348145, -4.9542999267578125, -4.973199844360352, -5.061800003051758, -5.062099933624268, -5.062399864196777, -5.062399864196777, -5.062600135803223, -5.063199996948242, -5.065199851989746, -5.070199966430664, -5.070799827575684, -5.071800231933594, -5.0721001625061035, -2.9449000358581543, -3.913100004196167, -4.463799953460693, -4.700200080871582, -4.618199825286865, -3.5659000873565674, -3.4072000980377197, -4.485400199890137, -4.11959981918335, -4.24429988861084, -4.224599838256836, -4.505099773406982, -4.505799770355225, -4.514400005340576, -4.757999897003174, -4.86299991607666, -4.926300048828125, -4.834000110626221, -5.010499954223633, -4.974699974060059, -4.8403000831604, -4.970399856567383, -5.168600082397461, -4.988800048828125, -5.068699836730957, -5.02839994430542, -5.068699836730957, -5.175099849700928, -5.176799774169922, -5.17710018157959, -5.179200172424316, -5.1803998947143555, -5.180200099945068, -5.18120002746582, -4.828400135040283, -4.757400035858154, -4.160999774932861, -3.9860000610351562, -3.9082999229431152, -4.914000034332275, -5.1493000984191895, -4.867800235748291, -5.0960001945495605, -5.078100204467773, -3.70169997215271, -3.195199966430664, -3.6821999549865723, -3.6963999271392822, -4.357800006866455, -4.5167999267578125, -4.332399845123291, -4.517600059509277, -4.031700134277344, -5.001100063323975, -5.115600109100342, -5.162199974060059, -5.1631999015808105, -5.16349983215332, -4.981100082397461, -4.455900192260742, -5.022900104522705, -5.168300151824951, -5.169300079345703, -5.08519983291626, -5.1290998458862305, -5.1722002029418945, -5.175000190734863, -5.173699855804443, -5.174799919128418, -5.174799919128418, -5.176599979400635, -5.176300048828125, -5.178100109100342, -5.178699970245361, -5.135000228881836, -4.746699810028076, -4.890699863433838, -5.141300201416016, -5.0183000564575195, -4.679299831390381, -4.977099895477295, -4.78000020980835, -5.131199836730957, -5.041999816894531, -5.021100044250488, -5.115099906921387, -3.7179999351501465, -3.5713999271392822, -4.344600200653076, -4.326300144195557, -4.593299865722656, -4.722400188446045, -4.854300022125244, -4.875899791717529, -5.022799968719482, -5.025000095367432, -5.069300174713135, -5.071899890899658, -5.072700023651123, -5.07289981842041, -5.072800159454346, -4.928999900817871, -5.07420015335083, -5.075799942016602, -5.0777997970581055, -5.077899932861328, -5.0808000564575195, -5.082200050354004, -5.081900119781494, -5.082399845123291, -5.0817999839782715, -5.082399845123291, -5.083799839019775, -5.083700180053711, -5.084700107574463, -5.08519983291626, -5.044400215148926, -4.262599945068359, -5.056399822235107, -4.729800224304199, -4.712100028991699, -4.919099807739258, -5.0243000984191895], \"loglift\": [30.0, 29.0, 28.0, 27.0, 26.0, 25.0, 24.0, 23.0, 22.0, 21.0, 20.0, 19.0, 18.0, 17.0, 16.0, 15.0, 14.0, 13.0, 12.0, 11.0, 10.0, 9.0, 8.0, 7.0, 6.0, 5.0, 4.0, 3.0, 2.0, 1.0, 1.2436, 1.2285, 1.2228, 1.2056, 1.1994, 1.1989, 1.1986, 1.1983, 1.1972, 1.1955, 1.1943, 1.1936, 1.1936, 1.1933, 1.1932, 1.1914, 1.1907, 1.1903, 1.1885, 1.1871, 1.1869, 1.1865, 1.1863, 1.1862, 1.1858, 1.184, 1.1795, 1.1789, 1.1781, 1.1779, 1.1685, 1.0782, 0.8617, 0.6787, 0.2478, 1.2924, 1.2698, 1.2647, 1.2551, 1.2519, 1.249, 1.2441, 1.2438, 1.2343, 1.2157, 1.2077, 1.2072, 1.2029, 1.2003, 1.1973, 1.1964, 1.1863, 1.1853, 1.1825, 1.1819, 1.1815, 1.1813, 1.1791, 1.1776, 1.1768, 1.1749, 1.174, 1.1739, 1.1724, 1.172, 1.1031, 0.9641, 0.88, 0.8099, 1.083, 1.1591, 0.5111, 0.9143, 0.2474, 1.2878, 1.2767, 1.2752, 1.2671, 1.2457, 1.2339, 1.2328, 1.2324, 1.2131, 1.212, 1.1964, 1.1938, 1.1927, 1.1924, 1.192, 1.1917, 1.1892, 1.1878, 1.1864, 1.1841, 1.1829, 1.1829, 1.1812, 1.1811, 1.181, 1.1809, 1.1791, 1.1788, 1.1778, 1.1775, 1.1762, 1.1308, 1.1187, 1.1698, 1.0525, 0.6546, 0.8328, -0.0618, 1.0384, 0.4459, 0.2075, 0.6095, 1.3461, 1.3453, 1.3251, 1.3205, 1.3029, 1.2851, 1.2741, 1.2675, 1.2582, 1.2568, 1.2567, 1.2542, 1.2536, 1.2533, 1.2531, 1.2529, 1.252, 1.2501, 1.248, 1.2472, 1.2447, 1.244, 1.2438, 1.2436, 1.2434, 1.2434, 1.2421, 1.2416, 1.2415, 1.2406, 1.2374, 0.966, 1.226, 0.7581, -0.5987, 0.4148, 0.1008]}, \"token.table\": {\"Topic\": [2, 2, 4, 4, 4, 3, 1, 3, 4, 4, 1, 3, 1, 2, 1, 3, 3, 2, 4, 3, 1, 4, 2, 1, 2, 2, 1, 3, 4, 2, 3, 2, 4, 1, 3, 1, 4, 1, 1, 2, 3, 4, 4, 2, 2, 4, 2, 2, 1, 2, 2, 3, 4, 3, 2, 3, 4, 2, 2, 1, 3, 4, 2, 4, 3, 4, 3, 4, 1, 4, 2, 1, 3, 4, 2, 3, 2, 1, 2, 3, 4, 4, 4, 4, 3, 4, 1, 3, 2, 3, 3, 1, 2, 2, 2, 2, 1, 1, 3, 4, 1, 4, 1, 3, 2, 1, 4, 2, 3, 1, 4, 1, 1, 1, 3, 4, 4, 4, 1, 2, 1, 3, 4, 3, 3, 3, 2, 1, 4, 3, 3, 3, 4, 1, 2, 3, 4, 4, 1, 2, 4, 4, 1, 2, 1, 1, 3, 1, 2, 3, 1, 2, 3, 1, 2, 4, 2, 1, 2, 2, 3, 1, 4, 1, 2, 3, 4, 1, 1, 2, 3, 1, 3, 4, 3, 4, 4, 1, 3, 1, 2, 3, 4, 1, 2, 1, 2], \"Freq\": [0.8451390427261266, 0.8831423000954927, 0.7430851104791502, 0.743002604731813, 0.9474025063235211, 0.7657815326719002, 0.06303992793953656, 0.8825589911535119, 0.06303992793953656, 0.8059839211684757, 0.9171605336182038, 0.8843334609601198, 0.17891269158920556, 0.8945634579460278, 0.8408344812087746, 0.7329312854359002, 0.7658609016976186, 0.9277399457482547, 0.8996242501322506, 0.8356368227239157, 0.8954387405020394, 0.743399314091335, 0.7644487866513242, 0.04762813978692623, 0.9049346559515985, 0.7645152807538944, 0.09186385489448513, 0.45931927447242565, 0.36745541957794053, 0.29572534933478234, 0.5914506986695647, 0.7131833737855938, 0.17829584344639846, 0.0650985343034386, 0.9113794802481403, 0.876547609908344, 0.7111144053039179, 0.9165647120855582, 0.0387967414582452, 0.0387967414582452, 0.8923250535396396, 0.0387967414582452, 0.8579671104891632, 0.8643792352131812, 0.7226392725087628, 0.1806598181271907, 0.7642574816847744, 0.8489333009911316, 0.9174238889192904, 0.8495699764942721, 0.12571829650465496, 0.8800280755325848, 0.7430680925881414, 0.7656870559843528, 0.1071580384964484, 0.4286321539857936, 0.5357901924822419, 0.7646501902506736, 0.7642882072765742, 0.18050301070338873, 0.7220120428135549, 0.7428627075049284, 0.6710041603476209, 0.2982240712656093, 0.6356602103551092, 0.2118867367850364, 0.8420478203563507, 0.7433350284181632, 0.9161079160840072, 0.7431485028759685, 0.8345544134902346, 0.8068798426884268, 0.810436900439603, 0.11577670006280043, 0.8356752800356028, 0.766046954641091, 0.9134831310154162, 0.8403928970814981, 0.02710944829295155, 0.02710944829295155, 0.13554724146475775, 0.7433663090957336, 0.7432977265672339, 0.7432572296458038, 0.3307406597472663, 0.6614813194945326, 0.8802939805392521, 0.06771492157994247, 0.40734615021070486, 0.40734615021070486, 0.7656384612841937, 0.9170468455713181, 0.7643683097215559, 0.7640511907705909, 0.8366429802621109, 0.8349383137560012, 0.9174333901756944, 0.9183716372807772, 0.8505004523134603, 0.9481176033313875, 0.7932536962359533, 0.9118558300950894, 0.1919440977639823, 0.7677763910559292, 0.7646132854814682, 0.8763651686649649, 0.7426674106437895, 0.7302902099780496, 0.7659322625842173, 0.9169653895607494, 0.7432627768906074, 0.9161119487741126, 0.9175253725163448, 0.8259726107758543, 0.7658062113609051, 0.7426942086331807, 0.743097983038688, 0.9008794126403876, 0.9172499325531346, 0.9184261051935944, 0.06052399646797377, 0.06052399646797377, 0.9078599470196065, 0.836140591206215, 0.732897819815697, 0.7656199827296966, 0.81743917271307, 0.9181735468562592, 0.8255938829693725, 0.9363874437177933, 0.7649392249701286, 0.8403003622494475, 0.08403003622494475, 0.0496314071554268, 0.5459454787096948, 0.248157035777134, 0.1488942214662804, 0.7433186157686673, 0.7826333293193449, 0.13043888821989083, 0.06521944410994542, 0.7434449365997077, 0.91756102195254, 0.8823478460833335, 0.9184986789447122, 0.9177508104320187, 0.732358013878648, 0.91556418085877, 0.8611376338480743, 0.7651976198215724, 0.9167877389160288, 0.9275978817796091, 0.7659307810916282, 0.34521502638904306, 0.6328942150465788, 0.057535837731507174, 0.8709745105863974, 0.15554846623705554, 0.7777423311852777, 0.8352879707801536, 0.7322804701811106, 0.8266032480971712, 0.7426075890681098, 0.6376488588749722, 0.3643707764999841, 0.7657012677069869, 0.7431458373632439, 0.8426558906074272, 0.9581154373972316, 0.7676515863503862, 0.7651526514964717, 0.917435626399271, 0.7660475716226737, 0.7115267307339224, 0.8851617805443989, 0.7431402311344372, 0.8793074194558456, 0.15820189214867142, 0.7910094607433571, 0.06342540339971338, 0.06342540339971338, 0.8879556475959873, 0.8132680673075554, 0.48044703750518436, 0.38435763000414747, 0.9182225420543028, 0.919032476849524], \"Term\": [\"\\u0430\\u0432\\u0442\\u043e\\u0440\", \"\\u0431\\u0435\\u0436\\u0430\\u0442\\u044c\", \"\\u0431\\u0435\\u0445\\u0430\\u0442\\u044c\", \"\\u0431\\u043e\\u0433\", \"\\u0431\\u0440\\u0430\\u0432\\u043e\", \"\\u0432\\u0430\\u0440\\u0438\\u0430\\u043d\\u0442\", \"\\u0432\\u0430\\u0448\", \"\\u0432\\u0430\\u0448\", \"\\u0432\\u0430\\u0448\", \"\\u0432\\u0435\\u0441\\u044c\", \"\\u0432\\u0438\\u0434\", \"\\u0432\\u0438\\u0434\\u0435\\u0442\\u044c\", \"\\u0432\\u043c\\u0435\\u0441\\u0442\\u0435\", \"\\u0432\\u043c\\u0435\\u0441\\u0442\\u0435\", \"\\u0432\\u043c\\u0435\\u0441\\u0442\\u043e\", \"\\u0432\\u043d\\u0435\\u0448\\u043d\\u043e\\u0441\\u0442\\u044c\", \"\\u0432\\u043e\\u0437\\u043e\\u043c\\u043d\\u0438\\u0442\\u044c\", \"\\u0432\\u043e\\u043f\\u0440\\u043e\\u0441\", \"\\u0432\\u043e\\u0441\\u043f\\u0438\\u0442\\u0430\\u043d\\u0438\\u0435\", \"\\u0432\\u043e\\u0441\\u043f\\u0438\\u0442\\u044b\\u0432\\u0430\\u0442\\u044c\", \"\\u0432\\u0440\\u0435\\u043c\\u044f\", \"\\u0432\\u044b\\u0431\\u0440\\u0430\\u0442\\u044c\", \"\\u0433\\u043e\\u043b\\u043e\\u0432\\u043d\\u043e\\u0438\", \"\\u0433\\u043e\\u0442\\u043e\\u0432\\u0438\\u0442\\u044c\", \"\\u0433\\u043e\\u0442\\u043e\\u0432\\u0438\\u0442\\u044c\", \"\\u0434\\u0435\\u0438\\u0441\\u0442\\u0432\\u0438\\u0442\\u0435\\u043b\\u044c\\u043d\\u043e\", \"\\u0434\\u0435\\u043b\\u0430\\u0442\\u044c\", \"\\u0434\\u0435\\u043b\\u0430\\u0442\\u044c\", \"\\u0434\\u0435\\u043b\\u0430\\u0442\\u044c\", \"\\u0434\\u0435\\u043d\\u044c\", \"\\u0434\\u0435\\u043d\\u044c\", \"\\u0434\\u0435\\u043d\\u044c\\u0433\\u0430\", \"\\u0434\\u0435\\u043d\\u044c\\u0433\\u0430\", \"\\u0434\\u043e\\u043b\\u0436\\u043d\\u044b\\u0438\", \"\\u0434\\u043e\\u043b\\u0436\\u043d\\u044b\\u0438\", \"\\u0434\\u043e\\u0441\\u0442\\u043e\\u0438\\u043d\\u044b\\u0438\", \"\\u0434\\u0443\\u043c\\u0430\\u0442\\u044c\", \"\\u0435\\u0436\\u0435\\u0434\\u043d\\u0435\\u0432\\u043d\\u043e\", \"\\u0436\\u0435\\u043d\\u0430\", \"\\u0436\\u0435\\u043d\\u0430\", \"\\u0436\\u0435\\u043d\\u0430\", \"\\u0436\\u0435\\u043d\\u0430\", \"\\u0436\\u0435\\u043d\\u0430\\u0442\\u044b\\u0438\", \"\\u0436\\u0435\\u043d\\u0441\\u043a\\u0438\\u0438\", \"\\u0436\\u0435\\u043d\\u0449\\u0438\\u043d\\u0430\", \"\\u0436\\u0435\\u043d\\u0449\\u0438\\u043d\\u0430\", \"\\u0436\\u0438\\u0432\\u0438\\u0442\\u044c\", \"\\u0437\\u0430\\u0432\\u0435\\u0441\\u0442\\u0438\", \"\\u0437\\u0430\\u0432\\u043e\\u0434\\u0438\\u0442\\u044c\", \"\\u0437\\u0430\\u043c\\u0443\\u0436\", \"\\u0437\\u0430\\u043c\\u0443\\u0436\\u0435\\u043c\", \"\\u0437\\u0430\\u043c\\u0443\\u0436\\u0435\\u043c\", \"\\u0437\\u0430\\u0448\\u0438\\u0432\\u0430\\u0442\\u044c\\u0441\\u044f\", \"\\u0437\\u0434\\u043e\\u0440\\u043e\\u0432\\u0435\\u043d\\u043d\\u044b\\u0438\", \"\\u0437\\u043d\\u0430\\u0442\\u044c\", \"\\u0437\\u043d\\u0430\\u0442\\u044c\", \"\\u0437\\u043d\\u0430\\u0442\\u044c\", \"\\u0437\\u043d\\u0430\\u0447\\u0438\\u0442\\u044c\", \"\\u0438\\u0437\\u043d\\u0430\\u0447\\u0430\\u043b\\u044c\\u043d\\u043e\", \"\\u0438\\u0447\", \"\\u0438\\u0447\", \"\\u0438\\u0448\\u0430\\u0447\\u0438\\u0442\\u044c\", \"\\u043a\\u0430\\u043a\\u043e\\u0438\", \"\\u043a\\u0430\\u043a\\u043e\\u0438\", \"\\u043a\\u043e\\u0440\\u043c\\u0438\\u0442\\u044c\", \"\\u043a\\u043e\\u0440\\u043c\\u0438\\u0442\\u044c\", \"\\u043a\\u043e\\u0442\\u043e\\u0440\\u044b\\u0438\", \"\\u043a\\u0440\\u044b\\u043b\\u043e\", \"\\u043a\\u0443\\u043b\\u044c\\u0442\\u0443\\u0440\\u0430\", \"\\u043b\\u043e\\u043c\\u043e\\u0432\", \"\\u043b\\u043e\\u0448\\u0430\\u0434\\u044c\", \"\\u043b\\u044e\\u0431\\u0438\\u0442\\u044c\", \"\\u043c\\u0430\\u043c\\u0430\", \"\\u043c\\u0430\\u043c\\u0430\", \"\\u043c\\u0438\", \"\\u043c\\u043e\\u043b\\u0438\\u0442\\u044c\\u0441\\u044f\", \"\\u043c\\u043e\\u0447\\u044c\", \"\\u043c\\u0443\\u0436\", \"\\u043c\\u0443\\u0436\", \"\\u043c\\u0443\\u0436\", \"\\u043c\\u0443\\u0436\", \"\\u043c\\u0443\\u0436\\u0438\\u043a\\u0430\", \"\\u043c\\u0443\\u0436\\u0438\\u0447\\u043a\\u0430\", \"\\u043c\\u0443\\u0436\\u0441\\u043a\\u0430\\u044f\", \"\\u043c\\u0443\\u0436\\u0441\\u043a\\u043e\\u0438\", \"\\u043c\\u0443\\u0436\\u0441\\u043a\\u043e\\u0438\", \"\\u043c\\u0443\\u0436\\u0447\\u0438\\u043d\\u0430\", \"\\u043c\\u0443\\u0436\\u0447\\u0438\\u043d\\u0430\", \"\\u043c\\u0443\\u0441\\u0443\\u043b\\u044c\\u043c\\u0430\\u043d\\u0441\\u043a\\u0438\\u0438\", \"\\u043c\\u0443\\u0441\\u0443\\u043b\\u044c\\u043c\\u0430\\u043d\\u0441\\u043a\\u0438\\u0438\", \"\\u043d\\u0430\\u0437\\u0430\\u0434\", \"\\u043d\\u0430\\u0441\\u043b\\u0430\\u0436\\u0434\\u0430\\u0442\\u044c\\u0441\\u044f\", \"\\u043d\\u0430\\u0441\\u043b\\u0435\\u0433\", \"\\u043d\\u0430\\u0447\\u0430\\u0442\\u044c\\u0441\\u044f\", \"\\u043d\\u0430\\u0447\\u0438\\u043d\\u0430\\u0442\\u044c\", \"\\u043d\\u0430\\u0448\", \"\\u043d\\u0435\\u0440\\u0430\\u0431\\u043e\\u0442\\u0430\\u044e\\u0449\\u0438\\u0438\", \"\\u043d\\u0435\\u0441\\u043a\\u043e\\u043b\\u044c\\u043a\\u043e\", \"\\u043e\\u0431\\u0441\\u043b\\u0443\\u0436\\u0438\\u0432\\u0430\\u0442\\u044c\", \"\\u043e\\u0431\\u0449\\u0438\\u0438\", \"\\u043e\\u0431\\u044f\\u0437\\u0430\\u043d\\u043d\\u043e\\u0441\\u0442\\u0438\", \"\\u043e\\u0431\\u044f\\u0437\\u0430\\u043d\\u043d\\u043e\\u0441\\u0442\\u044c\", \"\\u043e\\u0431\\u044f\\u0437\\u0430\\u0442\\u044c\", \"\\u043e\\u0431\\u044f\\u0437\\u0430\\u0442\\u044c\", \"\\u043e\\u0441\\u043a\\u043e\\u0440\\u0431\\u043b\\u0435\\u043d\\u0438\\u0435\", \"\\u043e\\u0442\\u0434\\u044b\\u0445\\u0430\\u0442\\u044c\", \"\\u043e\\u0442\\u043d\\u043e\\u0441\\u0438\\u0442\\u044c\\u0441\\u044f\", \"\\u043e\\u0442\\u043f\\u0440\\u0430\\u0432\\u0438\\u0442\\u044c\", \"\\u043e\\u0442\\u043f\\u0440\\u0430\\u0432\\u043b\\u044f\\u0442\\u044c\\u0441\\u044f\", \"\\u043f\\u0435\\u0440\\u0432\\u044b\\u0445\", \"\\u043f\\u0435\\u0440\\u0435\\u0436\\u0438\\u0432\\u0430\\u0442\\u044c\", \"\\u043f\\u043b\\u043e\\u0434\", \"\\u043f\\u043b\\u043e\\u0445\\u043e\", \"\\u043f\\u043b\\u044e\\u043d\\u0443\\u0442\\u044c\", \"\\u043f\\u043e\\u0432\\u0437\\u0440\\u043e\\u0441\\u043b\\u0435\\u0442\\u044c\", \"\\u043f\\u043e\\u0434\\u0434\\u0435\\u0440\\u0436\\u0430\\u043d\\u0438\\u0435\", \"\\u043f\\u043e\\u0434\\u0435\\u043b\\u0438\\u0442\\u044c\", \"\\u043f\\u043e\\u043b\\u043d\\u043e\\u0441\\u0442\\u044c\\u044e\", \"\\u043f\\u043e\\u043b\\u043e\\u0432\\u0438\\u043d\\u043a\\u0430\", \"\\u043f\\u043e\\u043c\\u0438\\u043c\\u043e\", \"\\u043f\\u043e\\u043c\\u043e\\u0433\\u0430\\u0442\\u044c\", \"\\u043f\\u043e\\u043c\\u043e\\u0433\\u0430\\u0442\\u044c\", \"\\u043f\\u043e\\u043c\\u043e\\u0433\\u0430\\u0442\\u044c\", \"\\u043f\\u043e\\u043c\\u043e\\u0449\\u043d\\u0438\\u0446\\u0430\", \"\\u043f\\u043e\\u043d\\u044f\\u0442\\u0438\\u0435\", \"\\u043f\\u043e\\u0441\\u0442\\u0430\\u0432\\u0438\\u0442\\u044c\", \"\\u043f\\u043e\\u0441\\u0443\\u0434\\u0430\", \"\\u043f\\u043e\\u0444\\u0438\\u0433\\u0430\", \"\\u043f\\u043e\\u044d\\u0442\\u043e\\u043c\\u0443\", \"\\u043f\\u0440\\u0438\\u0441\\u043b\\u0443\\u0433\\u0430\", \"\\u043f\\u0440\\u043e\\u043f\\u043e\\u0432\\u0435\\u0434\\u0443\\u044e\\u0442\", \"\\u0440\\u0430\\u0431\\u043e\\u0442\\u0430\", \"\\u0440\\u0430\\u0431\\u043e\\u0442\\u0430\", \"\\u0440\\u0430\\u0431\\u043e\\u0442\\u0430\\u0442\\u044c\", \"\\u0440\\u0430\\u0431\\u043e\\u0442\\u0430\\u0442\\u044c\", \"\\u0440\\u0430\\u0431\\u043e\\u0442\\u0430\\u0442\\u044c\", \"\\u0440\\u0430\\u0431\\u043e\\u0442\\u0430\\u0442\\u044c\", \"\\u0440\\u0430\\u0437\\u0432\\u0438\\u0442\\u0438\\u0435\", \"\\u0440\\u0435\\u0431\\u0435\\u043d\\u043e\\u043a\", \"\\u0440\\u0435\\u0431\\u0435\\u043d\\u043e\\u043a\", \"\\u0440\\u0435\\u0431\\u0435\\u043d\\u043e\\u043a\", \"\\u0440\\u0435\\u0431\\u0435\\u043d\\u043e\\u0447\\u0435\\u043a\", \"\\u0440\\u0435\\u0431\\u0440\\u043e\\u043c\", \"\\u0440\\u0435\\u0448\\u0430\\u0442\\u044c\", \"\\u0440\\u043e\\u0433\\u043e\\u0432\", \"\\u0440\\u043e\\u0434\\u0438\\u0442\\u0435\", \"\\u0440\\u043e\\u0434\\u0438\\u0442\\u044c\", \"\\u0440\\u043e\\u043d\\u044f\\u0442\\u044c\", \"\\u0440\\u0443\\u0441\\u0441\\u043a\\u0438\\u0438\", \"\\u0441\\u0430\\u043c\\u043e\\u0441\\u0442\\u043e\\u044f\\u0442\\u0435\\u043b\\u044c\\u043d\\u043e\", \"\\u0441\\u0431\\u0435\\u0436\\u0430\\u0442\\u044c\", \"\\u0441\\u0435\\u0438\\u0447\\u0430\\u0441\", \"\\u0441\\u0435\\u043b\\u043e\", \"\\u0441\\u0435\\u043c\\u044c\\u044f\", \"\\u0441\\u0435\\u043c\\u044c\\u044f\", \"\\u0441\\u0435\\u043c\\u044c\\u044f\", \"\\u0441\\u0438\\u0434\\u0435\\u0442\\u044c\", \"\\u0441\\u043a\\u0430\\u0437\\u0430\\u0442\\u044c\", \"\\u0441\\u043a\\u0430\\u0437\\u0430\\u0442\\u044c\", \"\\u0441\\u043a\\u043e\\u043b\\u044c\\u043a\\u043e\", \"\\u0441\\u043c\\u0435\\u043d\\u0430\", \"\\u0441\\u043e\\u0434\\u0435\\u0440\\u0436\\u0430\\u0442\\u044c\", \"\\u0442\\u0430\\u0434\\u0436\\u0438\\u0447\\u043a\\u0430\", \"\\u0442\\u0430\\u043a\\u043e\\u0438\", \"\\u0442\\u0430\\u043a\\u043e\\u0438\", \"\\u0442\\u0430\\u043f\\u043a\\u0430\", \"\\u0442\\u0435\\u0440\\u043f\\u0435\\u0442\\u044c\", \"\\u0442\\u044c\", \"\\u0443\\u0431\\u0438\\u0440\\u0430\\u0442\\u044c\", \"\\u0443\\u0431\\u0438\\u0440\\u0430\\u0442\\u044c\\u0441\\u044f\", \"\\u0443\\u0431\\u043e\\u0440\", \"\\u0443\\u0434\\u0438\\u0432\\u043b\\u044f\\u0442\\u044c\", \"\\u0443\\u043c\\u0435\\u0445\\u0430\", \"\\u0443\\u043d\\u0438\\u0436\\u0435\\u043d\\u0438\\u0435\", \"\\u0443\\u0441\\u043f\\u0435\\u0442\\u044c\", \"\\u0445\\u0438\\u0442\\u0440\\u043e\\u043f\\u043e\\u043f\\u044b\\u0438\", \"\\u0445\\u043e\\u0437\\u044f\\u0438\\u0441\\u0442\\u0432\\u043e\", \"\\u0445\\u043e\\u0440\\u043e\\u0448\\u0438\\u0438\", \"\\u0445\\u043e\\u0440\\u043e\\u0448\\u0438\\u0438\", \"\\u0445\\u043e\\u0442\\u0435\\u0442\\u044c\", \"\\u0445\\u043e\\u0442\\u0435\\u0442\\u044c\", \"\\u0445\\u043e\\u0442\\u0435\\u0442\\u044c\", \"\\u0447\\u0430\\u0441\", \"\\u0447\\u0435\\u043b\\u043e\\u0432\\u0435\\u043a\", \"\\u0447\\u0435\\u043b\\u043e\\u0432\\u0435\\u043a\", \"\\u0447\\u0435\\u0440\\u0442\\u0430\", \"\\u044d\\u0442\\u044b\\u0438\"]}, \"R\": 30, \"lambda.step\": 0.01, \"plot.opts\": {\"xlab\": \"PC1\", \"ylab\": \"PC2\"}, \"topic.order\": [3, 1, 4, 2]};\n",
              "\n",
              "function LDAvis_load_lib(url, callback){\n",
              "  var s = document.createElement('script');\n",
              "  s.src = url;\n",
              "  s.async = true;\n",
              "  s.onreadystatechange = s.onload = callback;\n",
              "  s.onerror = function(){console.warn(\"failed to load library \" + url);};\n",
              "  document.getElementsByTagName(\"head\")[0].appendChild(s);\n",
              "}\n",
              "\n",
              "if(typeof(LDAvis) !== \"undefined\"){\n",
              "   // already loaded: just create the visualization\n",
              "   !function(LDAvis){\n",
              "       new LDAvis(\"#\" + \"ldavis_el1651399698730087207823526767\", ldavis_el1651399698730087207823526767_data);\n",
              "   }(LDAvis);\n",
              "}else if(typeof define === \"function\" && define.amd){\n",
              "   // require.js is available: use it to load d3/LDAvis\n",
              "   require.config({paths: {d3: \"https://cdnjs.cloudflare.com/ajax/libs/d3/3.5.5/d3.min\"}});\n",
              "   require([\"d3\"], function(d3){\n",
              "      window.d3 = d3;\n",
              "      LDAvis_load_lib(\"https://cdn.rawgit.com/bmabey/pyLDAvis/files/ldavis.v1.0.0.js\", function(){\n",
              "        new LDAvis(\"#\" + \"ldavis_el1651399698730087207823526767\", ldavis_el1651399698730087207823526767_data);\n",
              "      });\n",
              "    });\n",
              "}else{\n",
              "    // require.js not available: dynamically load d3 & LDAvis\n",
              "    LDAvis_load_lib(\"https://cdnjs.cloudflare.com/ajax/libs/d3/3.5.5/d3.min.js\", function(){\n",
              "         LDAvis_load_lib(\"https://cdn.rawgit.com/bmabey/pyLDAvis/files/ldavis.v1.0.0.js\", function(){\n",
              "                 new LDAvis(\"#\" + \"ldavis_el1651399698730087207823526767\", ldavis_el1651399698730087207823526767_data);\n",
              "            })\n",
              "         });\n",
              "}\n",
              "</script>"
            ],
            "text/plain": [
              "PreparedData(topic_coordinates=              x         y  topics  cluster       Freq\n",
              "topic                                                \n",
              "2     -0.044703 -0.078245       1        1  25.704858\n",
              "0     -0.129003  0.099035       2        1  25.374065\n",
              "3      0.145057  0.084819       3        1  25.214423\n",
              "1      0.028649 -0.105609       4        1  23.706655, topic_info=         Term       Freq      Total Category  logprob  loglift\n",
              "9         муж  36.000000  36.000000  Default  30.0000  30.0000\n",
              "100      жена  25.000000  25.000000  Default  29.0000  29.0000\n",
              "95   готовить  20.000000  20.000000  Default  28.0000  28.0000\n",
              "141      мочь  17.000000  17.000000  Default  27.0000  27.0000\n",
              "11   помогать  16.000000  16.000000  Default  26.0000  26.0000\n",
              "..        ...        ...        ...      ...      ...      ...\n",
              "23   унижение   3.405958   4.216286   Topic4  -5.0564   1.2260\n",
              "168     знать   4.721567   9.332011   Topic4  -4.7298   0.7581\n",
              "9         муж   4.805705  36.887508   Topic4  -4.7121  -0.5987\n",
              "120    делать   3.907294  10.885674   Topic4  -4.9191   0.4148\n",
              "189     какои   3.517072  13.412734   Topic4  -5.0243   0.1008\n",
              "\n",
              "[183 rows x 6 columns], token_table=      Topic      Freq     Term\n",
              "term                          \n",
              "169       2  0.845139    автор\n",
              "390       2  0.883142   бежать\n",
              "1172      4  0.743085   бехать\n",
              "1108      4  0.743003      бог\n",
              "337       4  0.947403    браво\n",
              "...     ...       ...      ...\n",
              "896       4  0.813268      час\n",
              "322       1  0.480447  человек\n",
              "322       2  0.384358  человек\n",
              "1147      1  0.918223    черта\n",
              "1061      2  0.919032     этыи\n",
              "\n",
              "[187 rows x 3 columns], R=30, lambda_step=0.01, plot_opts={'xlab': 'PC1', 'ylab': 'PC2'}, topic_order=[3, 1, 4, 2])"
            ]
          },
          "metadata": {},
          "execution_count": 71
        }
      ]
    }
  ]
}